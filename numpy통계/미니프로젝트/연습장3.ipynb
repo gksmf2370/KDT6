{
 "cells": [
  {
   "cell_type": "code",
   "execution_count": 1,
   "metadata": {},
   "outputs": [],
   "source": [
    "import pandas as pd"
   ]
  },
  {
   "cell_type": "code",
   "execution_count": 2,
   "metadata": {},
   "outputs": [
    {
     "name": "stderr",
     "output_type": "stream",
     "text": [
      "C:\\Users\\KDP15\\AppData\\Local\\Temp\\ipykernel_26128\\2335123685.py:1: DtypeWarning: Columns (7) have mixed types. Specify dtype option on import or set low_memory=False.\n",
      "  df = pd.read_csv('userratings_raw_xx.csv')\n"
     ]
    }
   ],
   "source": [
    "df = pd.read_csv('userratings_raw_xx.csv')"
   ]
  },
  {
   "cell_type": "code",
   "execution_count": 3,
   "metadata": {},
   "outputs": [],
   "source": [
    "jp_df = df[df['Whisky'].str.contains('Hibiki|Hakushu|Nikka|Yamazaki')]"
   ]
  },
  {
   "cell_type": "code",
   "execution_count": 4,
   "metadata": {},
   "outputs": [
    {
     "data": {
      "text/plain": [
       "Age\n",
       "-     1262\n",
       "12     435\n",
       "18     238\n",
       "17     127\n",
       "21      69\n",
       "10      58\n",
       "25      45\n",
       "15      43\n",
       "11      27\n",
       "20      20\n",
       "14      20\n",
       "30      18\n",
       "13      15\n",
       "8       13\n",
       "19      11\n",
       "16       9\n",
       "22       4\n",
       "29       3\n",
       "24       3\n",
       "23       3\n",
       "26       1\n",
       "5        1\n",
       "40       1\n",
       "Name: count, dtype: int64"
      ]
     },
     "execution_count": 4,
     "metadata": {},
     "output_type": "execute_result"
    }
   ],
   "source": [
    "jp_df['Age'].value_counts()"
   ]
  },
  {
   "cell_type": "code",
   "execution_count": 8,
   "metadata": {},
   "outputs": [
    {
     "name": "stderr",
     "output_type": "stream",
     "text": [
      "C:\\Users\\KDP15\\AppData\\Local\\Temp\\ipykernel_26128\\4224235728.py:1: SettingWithCopyWarning: \n",
      "A value is trying to be set on a copy of a slice from a DataFrame.\n",
      "Try using .loc[row_indexer,col_indexer] = value instead\n",
      "\n",
      "See the caveats in the documentation: https://pandas.pydata.org/pandas-docs/stable/user_guide/indexing.html#returning-a-view-versus-a-copy\n",
      "  jp_df['Avg. Rating'] = jp_df['Avg. Rating'].astype(float)\n"
     ]
    }
   ],
   "source": [
    "jp_df['Avg. Rating'] = jp_df['Avg. Rating'].astype(float)"
   ]
  },
  {
   "cell_type": "code",
   "execution_count": 9,
   "metadata": {},
   "outputs": [
    {
     "data": {
      "text/plain": [
       "85.94466611706513"
      ]
     },
     "execution_count": 9,
     "metadata": {},
     "output_type": "execute_result"
    }
   ],
   "source": [
    "jp_df['Avg. Rating'].mean()"
   ]
  },
  {
   "cell_type": "code",
   "execution_count": null,
   "metadata": {},
   "outputs": [],
   "source": []
  }
 ],
 "metadata": {
  "kernelspec": {
   "display_name": "PY39",
   "language": "python",
   "name": "python3"
  },
  "language_info": {
   "codemirror_mode": {
    "name": "ipython",
    "version": 3
   },
   "file_extension": ".py",
   "mimetype": "text/x-python",
   "name": "python",
   "nbconvert_exporter": "python",
   "pygments_lexer": "ipython3",
   "version": "3.9.19"
  }
 },
 "nbformat": 4,
 "nbformat_minor": 2
}
