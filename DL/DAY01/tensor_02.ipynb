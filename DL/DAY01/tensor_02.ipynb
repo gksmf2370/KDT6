{
 "cells": [
  {
   "cell_type": "code",
   "execution_count": 1,
   "metadata": {},
   "outputs": [],
   "source": [
    "### 모듈 로딩\n",
    "import torch"
   ]
  },
  {
   "cell_type": "markdown",
   "metadata": {},
   "source": [
    "- Tensor생성 [2] torch.rand()"
   ]
  },
  {
   "cell_type": "code",
   "execution_count": 5,
   "metadata": {},
   "outputs": [],
   "source": [
    "# 0<= ~<1 범위의 임의의 숫자 1개 추출 => rand(*size)\n",
    "# rand(*size) : 가변인자 ==> 몇 차원일지 알 수 없음!\n",
    "torch.manual_seed(1)\n",
    "\n",
    "dataTS1=torch.rand(3)     #1D 스칼라\n",
    "dataTS2=torch.rand(2,3)   #2D 벡터\n",
    "dataTS3=torch.rand(2,1,3) #3D 3차원"
   ]
  },
  {
   "cell_type": "code",
   "execution_count": 6,
   "metadata": {},
   "outputs": [
    {
     "name": "stdout",
     "output_type": "stream",
     "text": [
      "tensor([0.7576, 0.2793, 0.4031])\n",
      "tensor([[0.7347, 0.0293, 0.7999],\n",
      "        [0.3971, 0.7544, 0.5695]])\n",
      "tensor([[[0.4388, 0.6387, 0.5247]],\n",
      "\n",
      "        [[0.6826, 0.3051, 0.4635]]])\n"
     ]
    }
   ],
   "source": [
    "print(dataTS1, dataTS2, dataTS3, sep='\\n')"
   ]
  },
  {
   "cell_type": "markdown",
   "metadata": {},
   "source": [
    "- Tensor 생성 [3] torch.randn()"
   ]
  },
  {
   "cell_type": "code",
   "execution_count": 8,
   "metadata": {},
   "outputs": [],
   "source": [
    "# 정규분포를 따르게 음수가 나올 수 있다.\n",
    "dataTS1=torch.randn(3)     #1D 스칼라\n",
    "dataTS2=torch.randn(2,3)   #2D 벡터\n",
    "dataTS3=torch.randn(2,1,3) #3D 3차원"
   ]
  },
  {
   "cell_type": "code",
   "execution_count": 9,
   "metadata": {},
   "outputs": [
    {
     "name": "stdout",
     "output_type": "stream",
     "text": [
      "tensor([ 1.3240, -0.1005,  0.6443])\n",
      "tensor([[ 0.5244,  1.0157,  0.2571],\n",
      "        [-0.9013,  0.8138,  0.3871]])\n",
      "tensor([[[0.5417, 0.6646, 0.3248]],\n",
      "\n",
      "        [[0.0996, 0.5727, 1.1492]]])\n"
     ]
    }
   ],
   "source": [
    "print(dataTS1, dataTS2, dataTS3, sep='\\n')"
   ]
  },
  {
   "cell_type": "markdown",
   "metadata": {},
   "source": [
    "- Tensor 생성[3] torch.randint()"
   ]
  },
  {
   "cell_type": "code",
   "execution_count": 10,
   "metadata": {},
   "outputs": [
    {
     "data": {
      "text/plain": [
       "tensor([[2, 1, 1, 2, 4],\n",
       "        [4, 3, 2, 1, 3],\n",
       "        [4, 4, 3, 2, 2]])"
      ]
     },
     "execution_count": 10,
     "metadata": {},
     "output_type": "execute_result"
    }
   ],
   "source": [
    "torch.randint(1,5, (3,5))"
   ]
  },
  {
   "cell_type": "code",
   "execution_count": 17,
   "metadata": {},
   "outputs": [
    {
     "data": {
      "text/plain": [
       "tensor([44, 15, 38, 22, 25, 27])"
      ]
     },
     "execution_count": 17,
     "metadata": {},
     "output_type": "execute_result"
    }
   ],
   "source": [
    "dataTS1=torch.randint(1,46,(6,))\n",
    "dataTS1"
   ]
  },
  {
   "cell_type": "code",
   "execution_count": 14,
   "metadata": {},
   "outputs": [
    {
     "data": {
      "text/plain": [
       "tensor([[28,  3,  3,  8, 24, 24],\n",
       "        [34, 17, 32,  7, 11,  6],\n",
       "        [43, 26, 29, 41, 36, 25],\n",
       "        [20, 18, 16, 11, 24, 31]])"
      ]
     },
     "execution_count": 14,
     "metadata": {},
     "output_type": "execute_result"
    }
   ],
   "source": [
    "# 2D\n",
    "dataTS1=torch.randint(1,46,(4,6))\n",
    "dataTS1"
   ]
  }
 ],
 "metadata": {
  "kernelspec": {
   "display_name": "TORCH_38",
   "language": "python",
   "name": "python3"
  },
  "language_info": {
   "codemirror_mode": {
    "name": "ipython",
    "version": 3
   },
   "file_extension": ".py",
   "mimetype": "text/x-python",
   "name": "python",
   "nbconvert_exporter": "python",
   "pygments_lexer": "ipython3",
   "version": "3.8.19"
  }
 },
 "nbformat": 4,
 "nbformat_minor": 2
}
