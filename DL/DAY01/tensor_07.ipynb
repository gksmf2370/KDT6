{
 "cells": [
  {
   "cell_type": "markdown",
   "metadata": {},
   "source": [
    "### Tesor의 모양/형태/shape 변경과 View Tensor"
   ]
  },
  {
   "cell_type": "code",
   "execution_count": 80,
   "metadata": {},
   "outputs": [],
   "source": [
    "### 모듈 로딩\n",
    "import torch\n",
    "import numpy as np"
   ]
  },
  {
   "cell_type": "code",
   "execution_count": 81,
   "metadata": {},
   "outputs": [
    {
     "name": "stdout",
     "output_type": "stream",
     "text": [
      "tensor([ 1,  2,  3,  4,  5,  6,  7,  8,  9, 10, 11, 12, 13, 14, 15, 16, 17, 18,\n",
      "        19, 20])\n",
      "1\n",
      "(1,)\n",
      "is_contiguous() : True\n"
     ]
    }
   ],
   "source": [
    "## 텐서 생성\n",
    "dataTS=torch.arange(1, 21)\n",
    "print(dataTS, dataTS.ndim, dataTS.stride(), sep='\\n')\n",
    "print(f'is_contiguous() : {dataTS.is_contiguous()}')"
   ]
  },
  {
   "cell_type": "code",
   "execution_count": 82,
   "metadata": {},
   "outputs": [
    {
     "name": "stdout",
     "output_type": "stream",
     "text": [
      " 1\n",
      " 2\n",
      " 3\n",
      " 4\n",
      " 5\n",
      " 6\n",
      " 7\n",
      " 8\n",
      " 9\n",
      " 10\n",
      " 11\n",
      " 12\n",
      " 13\n",
      " 14\n",
      " 15\n",
      " 16\n",
      " 17\n",
      " 18\n",
      " 19\n",
      " 20\n",
      "[torch.storage.TypedStorage(dtype=torch.int64, device=cpu) of size 20]\n"
     ]
    }
   ],
   "source": [
    "print(dataTS.storage())"
   ]
  },
  {
   "cell_type": "code",
   "execution_count": 83,
   "metadata": {},
   "outputs": [
    {
     "name": "stdout",
     "output_type": "stream",
     "text": [
      "tensor([[ 1,  2,  3,  4,  5],\n",
      "        [ 6,  7,  8,  9, 10],\n",
      "        [11, 12, 13, 14, 15],\n",
      "        [16, 17, 18, 19, 20]])\n",
      "2\n",
      "(5, 1)\n",
      "is_contiguous() : True\n"
     ]
    }
   ],
   "source": [
    "# 1D => 2D 형태/모양/shape 변경\n",
    "dataTS2=dataTS.reshape((-1, 5))\n",
    "print(dataTS2, dataTS2.ndim, dataTS2.stride(), sep='\\n')\n",
    "print(f'is_contiguous() : {dataTS2.is_contiguous()}')"
   ]
  },
  {
   "cell_type": "code",
   "execution_count": 84,
   "metadata": {},
   "outputs": [
    {
     "name": "stdout",
     "output_type": "stream",
     "text": [
      " 1\n",
      " 2\n",
      " 3\n",
      " 4\n",
      " 5\n",
      " 6\n",
      " 7\n",
      " 8\n",
      " 9\n",
      " 10\n",
      " 11\n",
      " 12\n",
      " 13\n",
      " 14\n",
      " 15\n",
      " 16\n",
      " 17\n",
      " 18\n",
      " 19\n",
      " 20\n",
      "[torch.storage.TypedStorage(dtype=torch.int64, device=cpu) of size 20]\n"
     ]
    }
   ],
   "source": [
    "print(dataTS2.storage())"
   ]
  },
  {
   "cell_type": "code",
   "execution_count": 85,
   "metadata": {},
   "outputs": [],
   "source": [
    "#dataTS2[0][0]=77"
   ]
  },
  {
   "cell_type": "code",
   "execution_count": 86,
   "metadata": {},
   "outputs": [
    {
     "data": {
      "text/plain": [
       "(tensor([ 1,  2,  3,  4,  5,  6,  7,  8,  9, 10, 11, 12, 13, 14, 15, 16, 17, 18,\n",
       "         19, 20]),\n",
       " tensor([[ 1,  2,  3,  4,  5],\n",
       "         [ 6,  7,  8,  9, 10],\n",
       "         [11, 12, 13, 14, 15],\n",
       "         [16, 17, 18, 19, 20]]))"
      ]
     },
     "execution_count": 86,
     "metadata": {},
     "output_type": "execute_result"
    }
   ],
   "source": [
    "dataTS, dataTS2"
   ]
  },
  {
   "cell_type": "code",
   "execution_count": 87,
   "metadata": {},
   "outputs": [
    {
     "name": "stdout",
     "output_type": "stream",
     "text": [
      "tensor([[ 1,  2],\n",
      "        [ 3,  4],\n",
      "        [ 5,  6],\n",
      "        [ 7,  8],\n",
      "        [ 9, 10],\n",
      "        [11, 12],\n",
      "        [13, 14],\n",
      "        [15, 16],\n",
      "        [17, 18],\n",
      "        [19, 20]])\n",
      "2\n",
      "(2, 1)\n",
      "is_contiguous() : True\n"
     ]
    }
   ],
   "source": [
    "dataTS22=dataTS2.reshape((-1, 2))\n",
    "print(dataTS22, dataTS22.ndim, dataTS22.stride(), sep='\\n')\n",
    "print(f'is_contiguous() : {dataTS22.is_contiguous()}')"
   ]
  },
  {
   "cell_type": "code",
   "execution_count": 88,
   "metadata": {},
   "outputs": [
    {
     "data": {
      "text/plain": [
       "False"
      ]
     },
     "execution_count": 88,
     "metadata": {},
     "output_type": "execute_result"
    }
   ],
   "source": [
    "dataTS23= dataTS22.T\n",
    "dataTS23.is_contiguous()"
   ]
  },
  {
   "cell_type": "code",
   "execution_count": 89,
   "metadata": {},
   "outputs": [],
   "source": [
    "## 불연속적 ==> 연속적으로 저장되도록\n",
    "dTS=dataTS23.contiguous()"
   ]
  },
  {
   "cell_type": "markdown",
   "metadata": {},
   "source": [
    "### 전치를 하면 기존의 순서를 벗어난다"
   ]
  },
  {
   "cell_type": "code",
   "execution_count": 90,
   "metadata": {},
   "outputs": [
    {
     "data": {
      "text/plain": [
       " 1\n",
       " 2\n",
       " 3\n",
       " 4\n",
       " 5\n",
       " 6\n",
       " 7\n",
       " 8\n",
       " 9\n",
       " 10\n",
       " 11\n",
       " 12\n",
       " 13\n",
       " 14\n",
       " 15\n",
       " 16\n",
       " 17\n",
       " 18\n",
       " 19\n",
       " 20\n",
       "[torch.storage.TypedStorage(dtype=torch.int64, device=cpu) of size 20]"
      ]
     },
     "execution_count": 90,
     "metadata": {},
     "output_type": "execute_result"
    }
   ],
   "source": [
    "dataTS23.storage()"
   ]
  },
  {
   "cell_type": "code",
   "execution_count": 91,
   "metadata": {},
   "outputs": [
    {
     "data": {
      "text/plain": [
       " 1\n",
       " 3\n",
       " 5\n",
       " 7\n",
       " 9\n",
       " 11\n",
       " 13\n",
       " 15\n",
       " 17\n",
       " 19\n",
       " 2\n",
       " 4\n",
       " 6\n",
       " 8\n",
       " 10\n",
       " 12\n",
       " 14\n",
       " 16\n",
       " 18\n",
       " 20\n",
       "[torch.storage.TypedStorage(dtype=torch.int64, device=cpu) of size 20]"
      ]
     },
     "execution_count": 91,
     "metadata": {},
     "output_type": "execute_result"
    }
   ],
   "source": [
    "dTS.storage()"
   ]
  },
  {
   "cell_type": "code",
   "execution_count": 92,
   "metadata": {},
   "outputs": [
    {
     "data": {
      "text/plain": [
       " 1\n",
       " 2\n",
       " 3\n",
       " 4\n",
       " 5\n",
       " 6\n",
       " 7\n",
       " 8\n",
       " 9\n",
       " 10\n",
       " 11\n",
       " 12\n",
       " 13\n",
       " 14\n",
       " 15\n",
       " 16\n",
       " 17\n",
       " 18\n",
       " 19\n",
       " 20\n",
       "[torch.storage.TypedStorage(dtype=torch.int64, device=cpu) of size 20]"
      ]
     },
     "execution_count": 92,
     "metadata": {},
     "output_type": "execute_result"
    }
   ],
   "source": [
    "dataTS.storage()"
   ]
  },
  {
   "cell_type": "code",
   "execution_count": null,
   "metadata": {},
   "outputs": [],
   "source": []
  }
 ],
 "metadata": {
  "kernelspec": {
   "display_name": "TORCH_38",
   "language": "python",
   "name": "python3"
  },
  "language_info": {
   "codemirror_mode": {
    "name": "ipython",
    "version": 3
   },
   "file_extension": ".py",
   "mimetype": "text/x-python",
   "name": "python",
   "nbconvert_exporter": "python",
   "pygments_lexer": "ipython3",
   "version": "3.8.19"
  }
 },
 "nbformat": 4,
 "nbformat_minor": 2
}
