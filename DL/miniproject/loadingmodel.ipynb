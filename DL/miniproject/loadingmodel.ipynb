{
 "cells": [
  {
   "cell_type": "code",
   "execution_count": 21,
   "metadata": {},
   "outputs": [],
   "source": [
    "import torch\n",
    "import torch.nn as nn\n",
    "import torch.nn.functional as F \n",
    "import os\n",
    "from torchinfo import summary"
   ]
  },
  {
   "cell_type": "code",
   "execution_count": 22,
   "metadata": {},
   "outputs": [],
   "source": [
    "SAVE_MODEL = r\"C:\\Users\\KDP15\\Desktop\\딥러닝프로젝트\\은닉층(3개)피쳐1개제외,학습률0.0005\\모델\\best_model_epoch_28\""
   ]
  },
  {
   "cell_type": "code",
   "execution_count": 5,
   "metadata": {},
   "outputs": [],
   "source": [
    "class MCFmodel(nn.Module):\n",
    "    def __init__(self, in_in, out_out, h_list=[]):\n",
    "        super().__init__()\n",
    "\n",
    "        self.input_layer = nn.Linear(in_in,h_list[0])      #입력은 피쳐수\n",
    "        self.h_layers = nn.ModuleList()\n",
    "\n",
    "        for i in range(len(h_list)-1):\n",
    "            self.h_layers.append(nn.Linear(h_list[i],h_list[i+1]))\n",
    "        \n",
    "        self.out_layers = nn.Linear(h_list[-1], out_out)  # 타겟수\n",
    "    \n",
    "    def forward(self, x):\n",
    "        y = F.relu(self.input_layer(x))  \n",
    "\n",
    "        for h_layer in self.h_layers:\n",
    "            y=F.relu(h_layer(y))   \n",
    "        \n",
    "        return self.out_layers(y) # 다중분류"
   ]
  },
  {
   "cell_type": "code",
   "execution_count": 23,
   "metadata": {},
   "outputs": [],
   "source": [
    "# 커스텀모델은 모델을 임포트해야 가능하다\n",
    "if os.path.exists(SAVE_MODEL): # 해당경로에 있다면\n",
    "    model= torch.load(SAVE_MODEL, weights_only=False)\n",
    "else:\n",
    "    print(f'{SAVE_MODEL} 파일이 존재하지 않습니다. 다시 확인하세요. ') "
   ]
  },
  {
   "cell_type": "code",
   "execution_count": 24,
   "metadata": {},
   "outputs": [
    {
     "data": {
      "text/plain": [
       "=================================================================\n",
       "Layer (type:depth-idx)                   Param #\n",
       "=================================================================\n",
       "MCFmodel                                 --\n",
       "├─Linear: 1-1                            224\n",
       "├─ModuleList: 1-2                        --\n",
       "│    └─Linear: 2-1                       528\n",
       "│    └─Linear: 2-2                       136\n",
       "│    └─Linear: 2-3                       36\n",
       "├─Linear: 1-3                            15\n",
       "=================================================================\n",
       "Total params: 939\n",
       "Trainable params: 939\n",
       "Non-trainable params: 0\n",
       "================================================================="
      ]
     },
     "execution_count": 24,
     "metadata": {},
     "output_type": "execute_result"
    }
   ],
   "source": [
    "summary(model)"
   ]
  },
  {
   "cell_type": "code",
   "execution_count": 33,
   "metadata": {},
   "outputs": [],
   "source": [
    "data = [float(x) for x in input(\"player_assists,player_dbno, player_dist_walk, player_dmg, player_kills, player_survive_time \").split(',')]"
   ]
  },
  {
   "cell_type": "code",
   "execution_count": 34,
   "metadata": {},
   "outputs": [
    {
     "data": {
      "text/plain": [
       "(torch.Size([1, 6]),\n",
       " tensor([[0.0000e+00, 1.0000e+00, 2.5000e-01, 1.6500e+02, 0.0000e+00, 3.4000e+02]]))"
      ]
     },
     "execution_count": 34,
     "metadata": {},
     "output_type": "execute_result"
    }
   ],
   "source": [
    "dataTS = torch.FloatTensor(data).reshape(1,-1)\n",
    "dataTS.shape, dataTS"
   ]
  },
  {
   "cell_type": "code",
   "execution_count": 35,
   "metadata": {},
   "outputs": [],
   "source": [
    "# 새로운 데이터에 대한 예측 즉, predict\n",
    "model.eval()\n",
    "with torch.no_grad():\n",
    "\n",
    "    # 추론/평가\n",
    "    pre_val=model(dataTS)"
   ]
  },
  {
   "cell_type": "code",
   "execution_count": 36,
   "metadata": {},
   "outputs": [
    {
     "data": {
      "text/plain": [
       "tensor([[ 4489.7349, -5962.9331, -7212.8169]])"
      ]
     },
     "execution_count": 36,
     "metadata": {},
     "output_type": "execute_result"
    }
   ],
   "source": [
    "pre_val"
   ]
  },
  {
   "cell_type": "code",
   "execution_count": 37,
   "metadata": {},
   "outputs": [],
   "source": [
    "class_names = ['상위10프로', '상위50프로', '분발해주세요']"
   ]
  },
  {
   "cell_type": "code",
   "execution_count": 38,
   "metadata": {},
   "outputs": [
    {
     "data": {
      "text/plain": [
       "0"
      ]
     },
     "execution_count": 38,
     "metadata": {},
     "output_type": "execute_result"
    }
   ],
   "source": [
    "torch.argmax(pre_val, dim=1).item()"
   ]
  },
  {
   "cell_type": "code",
   "execution_count": 39,
   "metadata": {},
   "outputs": [],
   "source": [
    "predict = class_names[torch.argmax(pre_val, dim=1).item()]"
   ]
  },
  {
   "cell_type": "code",
   "execution_count": 40,
   "metadata": {},
   "outputs": [
    {
     "name": "stdout",
     "output_type": "stream",
     "text": [
      "당신의 예상 순위는 상위10프로% 안에 있을겁니다\n"
     ]
    }
   ],
   "source": [
    "print(f'당신의 예상 순위는 {predict}% 안에 있을겁니다')  "
   ]
  }
 ],
 "metadata": {
  "kernelspec": {
   "display_name": "TORCH_38",
   "language": "python",
   "name": "python3"
  },
  "language_info": {
   "codemirror_mode": {
    "name": "ipython",
    "version": 3
   },
   "file_extension": ".py",
   "mimetype": "text/x-python",
   "name": "python",
   "nbconvert_exporter": "python",
   "pygments_lexer": "ipython3",
   "version": "3.8.19"
  }
 },
 "nbformat": 4,
 "nbformat_minor": 2
}
