{
 "cells": [
  {
   "cell_type": "markdown",
   "metadata": {},
   "source": [
    "#### 사용자 정의 데이터셋과 모델과 학습\n",
    "- iris.csv => 사용자 정의 데이터셋\n",
    "- DNN 모델 ==> 사용자 정의 보델"
   ]
  },
  {
   "cell_type": "markdown",
   "metadata": {},
   "source": [
    "[1] 모듈 로딩 및 데이터 준비"
   ]
  },
  {
   "cell_type": "code",
   "execution_count": 45,
   "metadata": {},
   "outputs": [],
   "source": [
    "# 모듈 로딩\n",
    "import torch\n",
    "import torch.nn as nn \n",
    "import torch.nn.functional as F\n",
    "import torch.optim as optimizer\n",
    "from torchmetrics.classification import F1Score\n",
    "from torchinfo import summary\n",
    "from torch.utils.data import Dataset, DataLoader\n",
    "import pandas as pd\n"
   ]
  },
  {
   "cell_type": "code",
   "execution_count": 46,
   "metadata": {},
   "outputs": [],
   "source": [
    "# 데이터\n",
    "FILE_PATH = 'iris.csv'\n"
   ]
  },
  {
   "cell_type": "code",
   "execution_count": 47,
   "metadata": {},
   "outputs": [
    {
     "data": {
      "text/html": [
       "<div>\n",
       "<style scoped>\n",
       "    .dataframe tbody tr th:only-of-type {\n",
       "        vertical-align: middle;\n",
       "    }\n",
       "\n",
       "    .dataframe tbody tr th {\n",
       "        vertical-align: top;\n",
       "    }\n",
       "\n",
       "    .dataframe thead th {\n",
       "        text-align: right;\n",
       "    }\n",
       "</style>\n",
       "<table border=\"1\" class=\"dataframe\">\n",
       "  <thead>\n",
       "    <tr style=\"text-align: right;\">\n",
       "      <th></th>\n",
       "      <th>sepal.length</th>\n",
       "      <th>sepal.width</th>\n",
       "      <th>petal.length</th>\n",
       "      <th>petal.width</th>\n",
       "      <th>variety</th>\n",
       "    </tr>\n",
       "  </thead>\n",
       "  <tbody>\n",
       "    <tr>\n",
       "      <th>0</th>\n",
       "      <td>5.1</td>\n",
       "      <td>3.5</td>\n",
       "      <td>1.4</td>\n",
       "      <td>0.2</td>\n",
       "      <td>Setosa</td>\n",
       "    </tr>\n",
       "    <tr>\n",
       "      <th>1</th>\n",
       "      <td>4.9</td>\n",
       "      <td>3.0</td>\n",
       "      <td>1.4</td>\n",
       "      <td>0.2</td>\n",
       "      <td>Setosa</td>\n",
       "    </tr>\n",
       "  </tbody>\n",
       "</table>\n",
       "</div>"
      ],
      "text/plain": [
       "   sepal.length  sepal.width  petal.length  petal.width variety\n",
       "0           5.1          3.5           1.4          0.2  Setosa\n",
       "1           4.9          3.0           1.4          0.2  Setosa"
      ]
     },
     "execution_count": 47,
     "metadata": {},
     "output_type": "execute_result"
    }
   ],
   "source": [
    "# csv => DataFrmae\n",
    "irisDF = pd.read_csv(FILE_PATH)\n",
    "irisDF.head(2)"
   ]
  },
  {
   "cell_type": "code",
   "execution_count": 48,
   "metadata": {},
   "outputs": [],
   "source": [
    "# 타겟 컬럼 수치화 == > LabelEncoder\n",
    "from sklearn.preprocessing import LabelEncoder      # 타겟 컬럼 수치화"
   ]
  },
  {
   "cell_type": "code",
   "execution_count": 49,
   "metadata": {},
   "outputs": [],
   "source": [
    "lb = LabelEncoder()\n",
    "lb.fit(irisDF['variety'])\n",
    "irisDF['variety']=lb.transform(irisDF['variety'])"
   ]
  },
  {
   "cell_type": "markdown",
   "metadata": {},
   "source": [
    "[2] 사용자 정의 데이터셋 클래스 생성"
   ]
  },
  {
   "cell_type": "code",
   "execution_count": 50,
   "metadata": {},
   "outputs": [],
   "source": [
    "# 클래스 목적 : 학습용 데이터셋 텐서화 및 전처리\n",
    "# 클래스 이름 : customDataSet\n",
    "# 부모클래스 : torch.utils.data.Dataset\n",
    "# 매개 변수: featureDF, targetDF"
   ]
  },
  {
   "cell_type": "code",
   "execution_count": 51,
   "metadata": {},
   "outputs": [],
   "source": [
    "class CustomDataset(Dataset):\n",
    "    # 데이터 로딩 및 전처리 진행과 인스턴스 생성 메서드\n",
    "    def __init__(self, featureDF, targetDF):\n",
    "        super().__init__()\n",
    "        self.featureDF=featureDF\n",
    "        self.targetDF=targetDF\n",
    "        self.n_rows=featureDF.shape[0]\n",
    "        self.n_feaures=featureDF.shape[1]\n",
    "\n",
    "    # 데이터의 개수 반환 메서드\n",
    "    def __len__(self) :\n",
    "        return self.n_rows\n",
    "\n",
    "    \n",
    "    # 특정 index의 데이터와 타겟 반환 메서드 => Tensor 반환!!!\n",
    "    def __getitem__(self, idx) :\n",
    "        featureTS=torch.FloatTensor( self.featureDF.iloc[idx].values)\n",
    "        targetTS=torch.FloatTensor( self.targetDF.iloc[idx].values)\n",
    "        return featureTS, targetTS"
   ]
  },
  {
   "cell_type": "markdown",
   "metadata": {},
   "source": [
    "[3] 데이터셋 인스턴스 생성"
   ]
  },
  {
   "cell_type": "code",
   "execution_count": 52,
   "metadata": {},
   "outputs": [
    {
     "name": "stdout",
     "output_type": "stream",
     "text": [
      "featureDF => (150, 4), targetDF => (150, 1)\n"
     ]
    }
   ],
   "source": [
    "featureDF = irisDF[irisDF.columns[:-1]]\n",
    "targetDF = irisDF[[irisDF.columns[-1]]]\n",
    "\n",
    "print(f'featureDF => {featureDF.shape}, targetDF => {targetDF.shape}')"
   ]
  },
  {
   "cell_type": "code",
   "execution_count": 53,
   "metadata": {},
   "outputs": [],
   "source": [
    "from sklearn.model_selection import train_test_split"
   ]
  },
  {
   "cell_type": "code",
   "execution_count": 54,
   "metadata": {},
   "outputs": [],
   "source": [
    "# 학습, 테스트 데이터로 나누기\n",
    "X_train, X_test, y_train, y_test = train_test_split(featureDF, targetDF, test_size=0.2, random_state=42)"
   ]
  },
  {
   "cell_type": "code",
   "execution_count": 55,
   "metadata": {},
   "outputs": [],
   "source": [
    "train_dataset = CustomDataset(X_train, y_train)\n",
    "test_dataset = CustomDataset(X_test, y_test)"
   ]
  },
  {
   "cell_type": "markdown",
   "metadata": {},
   "source": [
    "[4] 데이터로더 인스턴스 생성"
   ]
  },
  {
   "cell_type": "code",
   "execution_count": 56,
   "metadata": {},
   "outputs": [],
   "source": [
    "## 필요한 것 : Dataset 인스턴스, Batch_size=1 기본값\n",
    "train_DL=DataLoader(train_dataset, batch_size=10)\n",
    "test_DL=DataLoader(test_dataset, batch_size=10)"
   ]
  },
  {
   "cell_type": "code",
   "execution_count": 57,
   "metadata": {},
   "outputs": [
    {
     "name": "stdout",
     "output_type": "stream",
     "text": [
      "torch.Size([10, 4]) torch.Size([10, 1])\n"
     ]
    }
   ],
   "source": [
    "for dataTS, targetTS in train_DL:\n",
    "    print(dataTS.shape, targetTS.shape)\n",
    "    break"
   ]
  },
  {
   "cell_type": "markdown",
   "metadata": {},
   "source": [
    "[5] 모델 생성"
   ]
  },
  {
   "cell_type": "code",
   "execution_count": 58,
   "metadata": {},
   "outputs": [],
   "source": [
    "# ---------------------------------------------------------\n",
    "# 모델 이름 : CustomModel\n",
    "# 부모클래스 : nn.Module\n",
    "# 매개 변수 : None\n",
    "# 모델구조\n",
    "# -입력층 : 입력 4개    출력 10개   AF ReLU\n",
    "# -은닉층 : 입력 10개   출력 30개   AF ReLU -> LeakyReLU\n",
    "# -출력층 : 입력 30개   출력 3개    AF 분류 - 다중 softmax  0,1,2\n",
    "# ---------------------------------------------------------\n",
    "class CustomModel(nn.Module):\n",
    "    \n",
    "    def __init__(self):\n",
    "        super().__init__()\n",
    "        self.in_layer=nn.Linear(4, 10) #입력층\n",
    "        self.h_layer=nn.Linear(10,30)  #은닉층\n",
    "        self.out_layer=nn.Linear(30,3) #출력층\n",
    "    \n",
    "    def forward(self, x):            \n",
    "        y=F.relu(self.in_layer(x))\n",
    "        y=F.relu(self.h_layer(y))\n",
    "        return self.out_layer(y)"
   ]
  },
  {
   "cell_type": "code",
   "execution_count": 59,
   "metadata": {},
   "outputs": [
    {
     "name": "stdout",
     "output_type": "stream",
     "text": [
      "CustomModel(\n",
      "  (in_layer): Linear(in_features=4, out_features=10, bias=True)\n",
      "  (h_layer): Linear(in_features=10, out_features=30, bias=True)\n",
      "  (out_layer): Linear(in_features=30, out_features=3, bias=True)\n",
      ")\n"
     ]
    },
    {
     "data": {
      "text/plain": [
       "==========================================================================================\n",
       "Layer (type:depth-idx)                   Output Shape              Param #\n",
       "==========================================================================================\n",
       "CustomModel                              [1000, 3]                 --\n",
       "├─Linear: 1-1                            [1000, 10]                50\n",
       "├─Linear: 1-2                            [1000, 30]                330\n",
       "├─Linear: 1-3                            [1000, 3]                 93\n",
       "==========================================================================================\n",
       "Total params: 473\n",
       "Trainable params: 473\n",
       "Non-trainable params: 0\n",
       "Total mult-adds (Units.MEGABYTES): 0.47\n",
       "==========================================================================================\n",
       "Input size (MB): 0.02\n",
       "Forward/backward pass size (MB): 0.34\n",
       "Params size (MB): 0.00\n",
       "Estimated Total Size (MB): 0.36\n",
       "=========================================================================================="
      ]
     },
     "execution_count": 59,
     "metadata": {},
     "output_type": "execute_result"
    }
   ],
   "source": [
    "### 모델 인스턴스 생성\n",
    "model = CustomModel()\n",
    "print(model)\n",
    "summary(model, input_size=(1000,4))"
   ]
  },
  {
   "cell_type": "markdown",
   "metadata": {},
   "source": [
    "[6] 학습"
   ]
  },
  {
   "cell_type": "code",
   "execution_count": 60,
   "metadata": {},
   "outputs": [],
   "source": [
    "adam_optim=optimizer.Adam(model.parameters(), lr=0.01)"
   ]
  },
  {
   "cell_type": "code",
   "execution_count": 61,
   "metadata": {},
   "outputs": [],
   "source": [
    "# ## 배치크기만큼 데이터와 타겟 추출해서 학습 진행\n",
    "# TS_loss, TS_score=[[]], [[]]\n",
    "# for epoch in range(100): # 에포크 100 설정\n",
    "#     loss_total, score_total = 0,0\n",
    "#     for dataTS, targetTS in irisDL:\n",
    "#         # 배치크기 만큼의 학습 데이터\n",
    "#         #print(dataTS.shape, targetTS.shape, targetTS.dtype)\n",
    "#         targetTS = targetTS.reshape(-1).long()\n",
    "\n",
    "#         #배치크기만큼 학습 진행\n",
    "#         pre_y = model(dataTS)\n",
    "#         #print(pre_y.shape, targetTS.reshape(-1).shape)\n",
    "\n",
    "#         # 손실 계산\n",
    "#         loss=nn.CrossEntropyLoss()(pre_y, targetTS)  # 클래스라이렇게함\n",
    "#         loss_total += loss.item()\n",
    "        \n",
    "#         score=F1Score(task='multiclass',num_classes=3, average='macro')(pre_y, targetTS)\n",
    "#         score_total += score.item()\n",
    "\n",
    "#         # 최적화 \n",
    "#         adam_optim.zero_grad()\n",
    "#         loss.backward()\n",
    "#         adam_optim.step()\n",
    "\n",
    "#     # 에포크단위 손실, 성능지표\n",
    "#     TS_loss[0].append(loss_total/irisDL.batch_size)  # 배치의 평균\n",
    "#     TS_score[0].append(score_total/irisDL.batch_size)\n",
    "\n",
    "#     # 학습결과 출력\n",
    "#     print(f'[{epoch}//100]')\n",
    "#     print(f'-Train LOSS : {TS_loss[0][-1]} F1Score : {TS_score[0][-1]}')\n"
   ]
  },
  {
   "cell_type": "code",
   "execution_count": 62,
   "metadata": {},
   "outputs": [],
   "source": [
    "# traing 함수\n",
    "def training(model, dataloader, test_DL, optimizer, epochs=100):\n",
    "    TS_loss, TS_score =[[],[]], [[],[]]\n",
    "\n",
    "    for epoch in range(epochs):\n",
    "        loss_total, score_total = 0, 0\n",
    "\n",
    "        for dataTS, targetTS in dataloader:\n",
    "            targetTS = targetTS.reshape(-1).long()\n",
    "            pre_y = model(dataTS)\n",
    "        \n",
    "            loss=nn.CrossEntropyLoss()(pre_y, targetTS)  # 클래스라이렇게함\n",
    "            loss_total += loss.item()\n",
    "\n",
    "            score=F1Score(task='multiclass',num_classes=3, average='macro')(pre_y, targetTS)\n",
    "            score_total += score.item()\n",
    "\n",
    "            optimizer.zero_grad()\n",
    "            loss.backward()\n",
    "            optimizer.step()\n",
    "\n",
    "        TS_loss[0].append(loss_total/len(dataloader))  # 배치의 평균\n",
    "        TS_score[0].append(score_total/len(dataloader))\n",
    "\n",
    "        #테스트를 검증으로 쓰기\n",
    "        val_loss, val_score = testing(model, test_DL)\n",
    "        TS_loss[1].append(val_loss)\n",
    "        TS_score[1].append(val_score)\n",
    "\n",
    "        print(f'[{epoch}//{epochs}]')\n",
    "        print(f'-Train LOSS : {TS_loss[0][-1]} F1Score : {TS_score[0][-1]}')\n",
    "        print(f'-Val LOSS : {TS_loss[1][-1]} F1Score : {TS_score[1][-1]}')\n",
    "    return TS_loss, TS_score\n"
   ]
  },
  {
   "cell_type": "code",
   "execution_count": 63,
   "metadata": {},
   "outputs": [],
   "source": [
    "# testing 함수\n",
    "def testing(model, dataloader):\n",
    "    test_loss, test_score = 0,0\n",
    "\n",
    "    with torch.no_grad():\n",
    "        for dataTS, targetTS in dataloader:\n",
    "            targetTS = targetTS.reshape(-1).long()\n",
    "            pre_y = model(dataTS)\n",
    "\n",
    "            loss=nn.CrossEntropyLoss()(pre_y, targetTS)  # 클래스라이렇게함\n",
    "            test_loss += loss.item()\n",
    "\n",
    "            score=F1Score(task='multiclass',num_classes=3, average='macro')(pre_y, targetTS)\n",
    "            test_score += score.item()\n",
    "    loss_avg = test_loss/len(dataloader)\n",
    "    score_avg = test_score/len(dataloader)\n",
    "   # print(f'-Test LOSS : {loss_avg} F1Score : {score_avg}')\n",
    "\n",
    "    return  loss_avg, score_avg"
   ]
  },
  {
   "cell_type": "code",
   "execution_count": 64,
   "metadata": {},
   "outputs": [
    {
     "name": "stdout",
     "output_type": "stream",
     "text": [
      "[0//100]\n",
      "-Train LOSS : 1.0557795216639836 F1Score : 0.23773448852201304\n",
      "-Val LOSS : 0.9026169776916504 F1Score : 0.6740740935007731\n"
     ]
    },
    {
     "name": "stdout",
     "output_type": "stream",
     "text": [
      "[1//100]\n",
      "-Train LOSS : 0.6929659619927406 F1Score : 0.5438627948363622\n",
      "-Val LOSS : 0.4460335870583852 F1Score : 0.6740740935007731\n",
      "[2//100]\n",
      "-Train LOSS : 0.36325816065073013 F1Score : 0.8879268914461136\n",
      "-Val LOSS : 0.2647836158672969 F1Score : 0.9295815229415894\n",
      "[3//100]\n",
      "-Train LOSS : 0.18527213546137014 F1Score : 0.971637005607287\n",
      "-Val LOSS : 0.15269840260346731 F1Score : 0.9676767587661743\n",
      "[4//100]\n",
      "-Train LOSS : 0.12958647652218738 F1Score : 0.9617876013120016\n",
      "-Val LOSS : 0.2970800170054038 F1Score : 0.8507936596870422\n",
      "[5//100]\n",
      "-Train LOSS : 0.12434252134213845 F1Score : 0.9462352494398752\n",
      "-Val LOSS : 0.3474646486962835 F1Score : 0.8055555621782938\n",
      "[6//100]\n",
      "-Train LOSS : 0.15921613294631243 F1Score : 0.928835983077685\n",
      "-Val LOSS : 0.25282430928200483 F1Score : 0.8772486845652262\n",
      "[7//100]\n",
      "-Train LOSS : 0.31189729607043165 F1Score : 0.8620129923025767\n",
      "-Val LOSS : 0.11045167595148087 F1Score : 0.9676767587661743\n",
      "[8//100]\n",
      "-Train LOSS : 0.2616814403639485 F1Score : 0.8881613810857137\n",
      "-Val LOSS : 0.2417220969994863 F1Score : 0.7829873959223429\n",
      "[9//100]\n",
      "-Train LOSS : 0.13202438627680144 F1Score : 0.943594679236412\n",
      "-Val LOSS : 0.12070303037762642 F1Score : 0.9676767587661743\n",
      "[10//100]\n",
      "-Train LOSS : 0.12900581893821558 F1Score : 0.9409692188103994\n",
      "-Val LOSS : 0.1764260878165563 F1Score : 0.8285714387893677\n",
      "[11//100]\n",
      "-Train LOSS : 0.11444067295330267 F1Score : 0.9404080510139465\n",
      "-Val LOSS : 0.16665621598561606 F1Score : 0.8285714387893677\n",
      "[12//100]\n",
      "-Train LOSS : 0.09252002004844447 F1Score : 0.971637005607287\n",
      "-Val LOSS : 0.11418922742207845 F1Score : 0.8285714387893677\n",
      "[13//100]\n",
      "-Train LOSS : 0.09374378252929698 F1Score : 0.9524450898170471\n",
      "-Val LOSS : 0.1332626466949781 F1Score : 0.8285714387893677\n",
      "[14//100]\n",
      "-Train LOSS : 0.10250627113661419 F1Score : 0.9524450898170471\n",
      "-Val LOSS : 0.14528041581312814 F1Score : 0.8285714387893677\n",
      "[15//100]\n",
      "-Train LOSS : 0.10298558107266824 F1Score : 0.9524450898170471\n",
      "-Val LOSS : 0.14576986928780875 F1Score : 0.8285714387893677\n",
      "[16//100]\n",
      "-Train LOSS : 0.0999565008872499 F1Score : 0.9524450898170471\n",
      "-Val LOSS : 0.14331290125846863 F1Score : 0.8285714387893677\n",
      "[17//100]\n",
      "-Train LOSS : 0.09903347880269091 F1Score : 0.9524450898170471\n",
      "-Val LOSS : 0.14023657391468683 F1Score : 0.8285714387893677\n",
      "[18//100]\n",
      "-Train LOSS : 0.1011880081690227 F1Score : 0.9524450898170471\n",
      "-Val LOSS : 0.1455786476532618 F1Score : 0.8285714387893677\n",
      "[19//100]\n",
      "-Train LOSS : 0.10019042583492895 F1Score : 0.9524450898170471\n",
      "-Val LOSS : 0.1462049956123034 F1Score : 0.8285714387893677\n",
      "[20//100]\n",
      "-Train LOSS : 0.09890437696594745 F1Score : 0.9524450898170471\n",
      "-Val LOSS : 0.1409919708967209 F1Score : 0.8285714387893677\n",
      "[21//100]\n",
      "-Train LOSS : 0.09981799471036841 F1Score : 0.9524450898170471\n",
      "-Val LOSS : 0.14384760955969492 F1Score : 0.8285714387893677\n",
      "[22//100]\n",
      "-Train LOSS : 0.09872177767101675 F1Score : 0.9524450898170471\n",
      "-Val LOSS : 0.14402882506450018 F1Score : 0.8285714387893677\n",
      "[23//100]\n",
      "-Train LOSS : 0.0974351103650406 F1Score : 0.9524450898170471\n",
      "-Val LOSS : 0.13996655493974686 F1Score : 0.8285714387893677\n",
      "[24//100]\n",
      "-Train LOSS : 0.0981801562787344 F1Score : 0.9524450898170471\n",
      "-Val LOSS : 0.146127849817276 F1Score : 0.8285714387893677\n",
      "[25//100]\n",
      "-Train LOSS : 0.09829586138948798 F1Score : 0.9524450898170471\n",
      "-Val LOSS : 0.1422699416677157 F1Score : 0.8285714387893677\n",
      "[26//100]\n",
      "-Train LOSS : 0.09825737479453285 F1Score : 0.9524450898170471\n",
      "-Val LOSS : 0.14743359883626303 F1Score : 0.8285714387893677\n",
      "[27//100]\n",
      "-Train LOSS : 0.09721493488177657 F1Score : 0.9524450898170471\n",
      "-Val LOSS : 0.1388818472623825 F1Score : 0.8285714387893677\n",
      "[28//100]\n",
      "-Train LOSS : 0.09645693857843678 F1Score : 0.9524450898170471\n",
      "-Val LOSS : 0.1384973997871081 F1Score : 0.8285714387893677\n",
      "[29//100]\n",
      "-Train LOSS : 0.09481701099624236 F1Score : 0.9524450898170471\n",
      "-Val LOSS : 0.13954508056243262 F1Score : 0.8285714387893677\n",
      "[30//100]\n",
      "-Train LOSS : 0.09458968229591846 F1Score : 0.9524450898170471\n",
      "-Val LOSS : 0.13802514473597208 F1Score : 0.8285714387893677\n",
      "[31//100]\n",
      "-Train LOSS : 0.0957455560953046 F1Score : 0.9524450898170471\n",
      "-Val LOSS : 0.14277470856904984 F1Score : 0.8285714387893677\n",
      "[32//100]\n",
      "-Train LOSS : 0.09509602579055354 F1Score : 0.9524450898170471\n",
      "-Val LOSS : 0.13940084228912988 F1Score : 0.8285714387893677\n",
      "[33//100]\n",
      "-Train LOSS : 0.09426309389527887 F1Score : 0.9605258951584498\n",
      "-Val LOSS : 0.13324652860562006 F1Score : 0.8285714387893677\n",
      "[34//100]\n",
      "-Train LOSS : 0.09215763030806556 F1Score : 0.9524450898170471\n",
      "-Val LOSS : 0.13407898942629495 F1Score : 0.8285714387893677\n",
      "[35//100]\n",
      "-Train LOSS : 0.09293468420704205 F1Score : 0.9524450898170471\n",
      "-Val LOSS : 0.1354706585407257 F1Score : 0.8285714387893677\n",
      "[36//100]\n",
      "-Train LOSS : 0.09385744998386751 F1Score : 0.9524450898170471\n",
      "-Val LOSS : 0.1391522834698359 F1Score : 0.8285714387893677\n",
      "[37//100]\n",
      "-Train LOSS : 0.09440199138286214 F1Score : 0.9524450898170471\n",
      "-Val LOSS : 0.13966137170791626 F1Score : 0.8285714387893677\n",
      "[38//100]\n",
      "-Train LOSS : 0.093440628843382 F1Score : 0.9605258951584498\n",
      "-Val LOSS : 0.1343531608581543 F1Score : 0.8285714387893677\n",
      "[39//100]\n",
      "-Train LOSS : 0.08979136547228943 F1Score : 0.9605258951584498\n",
      "-Val LOSS : 0.12616292387247086 F1Score : 0.8285714387893677\n",
      "[40//100]\n",
      "-Train LOSS : 0.09518940859319021 F1Score : 0.9524450898170471\n",
      "-Val LOSS : 0.1455418343345324 F1Score : 0.8285714387893677\n",
      "[41//100]\n",
      "-Train LOSS : 0.0950742809024329 F1Score : 0.9605258951584498\n",
      "-Val LOSS : 0.13708788653214773 F1Score : 0.8285714387893677\n",
      "[42//100]\n",
      "-Train LOSS : 0.08979824945951502 F1Score : 0.9605258951584498\n",
      "-Val LOSS : 0.12481332570314407 F1Score : 0.8285714387893677\n",
      "[43//100]\n",
      "-Train LOSS : 0.08973867892442892 F1Score : 0.9605258951584498\n",
      "-Val LOSS : 0.1334941660364469 F1Score : 0.8285714387893677\n",
      "[44//100]\n",
      "-Train LOSS : 0.09197253087768331 F1Score : 0.9605258951584498\n",
      "-Val LOSS : 0.13473240534464517 F1Score : 0.8285714387893677\n",
      "[45//100]\n",
      "-Train LOSS : 0.09083034396947672 F1Score : 0.9605258951584498\n",
      "-Val LOSS : 0.13427151242891947 F1Score : 0.8285714387893677\n",
      "[46//100]\n",
      "-Train LOSS : 0.09217830324390282 F1Score : 0.9605258951584498\n",
      "-Val LOSS : 0.13602794458468756 F1Score : 0.8285714387893677\n",
      "[47//100]\n",
      "-Train LOSS : 0.0919588067336008 F1Score : 0.9605258951584498\n",
      "-Val LOSS : 0.13147303958733877 F1Score : 0.8285714387893677\n",
      "[48//100]\n",
      "-Train LOSS : 0.08765498767994966 F1Score : 0.9605258951584498\n",
      "-Val LOSS : 0.11980963746706645 F1Score : 0.8285714387893677\n",
      "[49//100]\n",
      "-Train LOSS : 0.09281769315324102 F1Score : 0.9524450898170471\n",
      "-Val LOSS : 0.1421259641647339 F1Score : 0.8285714387893677\n",
      "[50//100]\n",
      "-Train LOSS : 0.09328182806105663 F1Score : 0.9605258951584498\n",
      "-Val LOSS : 0.1306710218389829 F1Score : 0.8285714387893677\n",
      "[51//100]\n",
      "-Train LOSS : 0.08607940934598446 F1Score : 0.9605258951584498\n",
      "-Val LOSS : 0.12912133832772574 F1Score : 0.8285714387893677\n",
      "[52//100]\n",
      "-Train LOSS : 0.08752850507153198 F1Score : 0.9605258951584498\n",
      "-Val LOSS : 0.12233919401963551 F1Score : 0.8285714387893677\n",
      "[53//100]\n",
      "-Train LOSS : 0.08821980224456638 F1Score : 0.9605258951584498\n",
      "-Val LOSS : 0.13163213431835175 F1Score : 0.8285714387893677\n",
      "[54//100]\n",
      "-Train LOSS : 0.0901446829084307 F1Score : 0.9605258951584498\n",
      "-Val LOSS : 0.13216104110081991 F1Score : 0.8285714387893677\n",
      "[55//100]\n",
      "-Train LOSS : 0.08914245385676622 F1Score : 0.9605258951584498\n",
      "-Val LOSS : 0.13484538346529007 F1Score : 0.8285714387893677\n",
      "[56//100]\n",
      "-Train LOSS : 0.08949250176859398 F1Score : 0.9605258951584498\n",
      "-Val LOSS : 0.12798855702082315 F1Score : 0.8285714387893677\n",
      "[57//100]\n",
      "-Train LOSS : 0.08783272426808253 F1Score : 0.9605258951584498\n",
      "-Val LOSS : 0.12395473817984264 F1Score : 0.8285714387893677\n",
      "[58//100]\n",
      "-Train LOSS : 0.0838406936575969 F1Score : 0.9605258951584498\n",
      "-Val LOSS : 0.11131142328182857 F1Score : 0.8285714387893677\n",
      "[59//100]\n",
      "-Train LOSS : 0.09004484093748033 F1Score : 0.9524450898170471\n",
      "-Val LOSS : 0.14110997319221497 F1Score : 0.8285714387893677\n",
      "[60//100]\n",
      "-Train LOSS : 0.09214246511692181 F1Score : 0.9605258951584498\n",
      "-Val LOSS : 0.1433044672012329 F1Score : 0.8285714387893677\n",
      "[61//100]\n",
      "-Train LOSS : 0.08826037026786555 F1Score : 0.9605258951584498\n",
      "-Val LOSS : 0.12305697053670883 F1Score : 0.8285714387893677\n",
      "[62//100]\n",
      "-Train LOSS : 0.08496378841421877 F1Score : 0.971637005607287\n",
      "-Val LOSS : 0.11866183330615361 F1Score : 0.8285714387893677\n",
      "[63//100]\n",
      "-Train LOSS : 0.08408753901797657 F1Score : 0.9605258951584498\n",
      "-Val LOSS : 0.1170881266395251 F1Score : 0.8285714387893677\n",
      "[64//100]\n",
      "-Train LOSS : 0.08296206820523366 F1Score : 0.9605258951584498\n",
      "-Val LOSS : 0.13268235325813293 F1Score : 0.8285714387893677\n",
      "[65//100]\n",
      "-Train LOSS : 0.08779847121331841 F1Score : 0.9605258951584498\n",
      "-Val LOSS : 0.1295613373319308 F1Score : 0.8285714387893677\n",
      "[66//100]\n",
      "-Train LOSS : 0.08626504704200973 F1Score : 0.971637005607287\n",
      "-Val LOSS : 0.12633650501569113 F1Score : 0.8285714387893677\n",
      "[67//100]\n",
      "-Train LOSS : 0.08379283333973338 F1Score : 0.9605258951584498\n",
      "-Val LOSS : 0.11145271857579549 F1Score : 0.8285714387893677\n",
      "[68//100]\n",
      "-Train LOSS : 0.08271169988438487 F1Score : 0.971637005607287\n",
      "-Val LOSS : 0.13331884145736694 F1Score : 0.8285714387893677\n",
      "[69//100]\n",
      "-Train LOSS : 0.0868938024699067 F1Score : 0.9605258951584498\n",
      "-Val LOSS : 0.12549942980209985 F1Score : 0.8285714387893677\n",
      "[70//100]\n",
      "-Train LOSS : 0.08528313273563981 F1Score : 0.9605258951584498\n",
      "-Val LOSS : 0.13085907946030298 F1Score : 0.8285714387893677\n",
      "[71//100]\n",
      "-Train LOSS : 0.08380107209086418 F1Score : 0.9605258951584498\n",
      "-Val LOSS : 0.11028805375099182 F1Score : 0.8285714387893677\n",
      "[72//100]\n",
      "-Train LOSS : 0.08076462510507554 F1Score : 0.971637005607287\n",
      "-Val LOSS : 0.12832158307234445 F1Score : 0.8285714387893677\n",
      "[73//100]\n",
      "-Train LOSS : 0.08563180050502221 F1Score : 0.9605258951584498\n",
      "-Val LOSS : 0.12664027512073517 F1Score : 0.8285714387893677\n",
      "[74//100]\n",
      "-Train LOSS : 0.08473407118193184 F1Score : 0.971637005607287\n",
      "-Val LOSS : 0.12880968302488327 F1Score : 0.8285714387893677\n",
      "[75//100]\n",
      "-Train LOSS : 0.08290493736664455 F1Score : 0.9605258951584498\n",
      "-Val LOSS : 0.1075514480471611 F1Score : 0.8285714387893677\n",
      "[76//100]\n",
      "-Train LOSS : 0.08001323026837781 F1Score : 0.971637005607287\n",
      "-Val LOSS : 0.12967087080081305 F1Score : 0.8285714387893677\n",
      "[77//100]\n",
      "-Train LOSS : 0.08524776294749851 F1Score : 0.9605258951584498\n",
      "-Val LOSS : 0.12601090967655182 F1Score : 0.8285714387893677\n",
      "[78//100]\n",
      "-Train LOSS : 0.08402417518664151 F1Score : 0.971637005607287\n",
      "-Val LOSS : 0.12779741858442625 F1Score : 0.8285714387893677\n",
      "[79//100]\n",
      "-Train LOSS : 0.08223085790329303 F1Score : 0.9605258951584498\n",
      "-Val LOSS : 0.10570293540755908 F1Score : 0.8406926393508911\n",
      "[80//100]\n",
      "-Train LOSS : 0.07912215697191034 F1Score : 0.971637005607287\n",
      "-Val LOSS : 0.12874405458569527 F1Score : 0.8285714387893677\n",
      "[81//100]\n",
      "-Train LOSS : 0.08461700599097337 F1Score : 0.9605258951584498\n",
      "-Val LOSS : 0.12492828319470088 F1Score : 0.8285714387893677\n",
      "[82//100]\n",
      "-Train LOSS : 0.08345488303651412 F1Score : 0.971637005607287\n",
      "-Val LOSS : 0.12957006568710008 F1Score : 0.8285714387893677\n",
      "[83//100]\n",
      "-Train LOSS : 0.08179094723891467 F1Score : 0.9605258951584498\n",
      "-Val LOSS : 0.1036196860174338 F1Score : 0.8406926393508911\n",
      "[84//100]\n",
      "-Train LOSS : 0.07796821283409372 F1Score : 0.971637005607287\n",
      "-Val LOSS : 0.12480602289239566 F1Score : 0.8285714387893677\n",
      "[85//100]\n",
      "-Train LOSS : 0.08387622147953759 F1Score : 0.9605258951584498\n",
      "-Val LOSS : 0.1245202124118805 F1Score : 0.8285714387893677\n",
      "[86//100]\n",
      "-Train LOSS : 0.0828275727496172 F1Score : 0.971637005607287\n",
      "-Val LOSS : 0.11967148135105769 F1Score : 0.8285714387893677\n",
      "[87//100]\n",
      "-Train LOSS : 0.07985245335536699 F1Score : 0.971637005607287\n",
      "-Val LOSS : 0.104282446205616 F1Score : 0.8406926393508911\n",
      "[88//100]\n",
      "-Train LOSS : 0.07669740529187645 F1Score : 0.971637005607287\n",
      "-Val LOSS : 0.12719839066267014 F1Score : 0.8285714387893677\n",
      "[89//100]\n",
      "-Train LOSS : 0.08477207716593209 F1Score : 0.9605258951584498\n",
      "-Val LOSS : 0.13056313494841257 F1Score : 0.8285714387893677\n",
      "[90//100]\n",
      "-Train LOSS : 0.08341667440254241 F1Score : 0.971637005607287\n",
      "-Val LOSS : 0.13146578520536423 F1Score : 0.8285714387893677\n",
      "[91//100]\n",
      "-Train LOSS : 0.08055550242230917 F1Score : 0.9605258951584498\n",
      "-Val LOSS : 0.0969398928185304 F1Score : 0.8787878751754761\n",
      "[92//100]\n",
      "-Train LOSS : 0.07584590237820521 F1Score : 0.971637005607287\n",
      "-Val LOSS : 0.12296991795301437 F1Score : 0.8285714387893677\n",
      "[93//100]\n",
      "-Train LOSS : 0.08235400981114556 F1Score : 0.9605258951584498\n",
      "-Val LOSS : 0.12069463729858398 F1Score : 0.8285714387893677\n",
      "[94//100]\n",
      "-Train LOSS : 0.08015356866720443 F1Score : 0.971637005607287\n",
      "-Val LOSS : 0.13691678394873938 F1Score : 0.8285714387893677\n",
      "[95//100]\n",
      "-Train LOSS : 0.08291012379534853 F1Score : 0.9605258951584498\n",
      "-Val LOSS : 0.11145789424578349 F1Score : 0.8285714387893677\n",
      "[96//100]\n",
      "-Train LOSS : 0.07921760374059279 F1Score : 0.971637005607287\n",
      "-Val LOSS : 0.12487564732631047 F1Score : 0.8285714387893677\n",
      "[97//100]\n",
      "-Train LOSS : 0.07931616500718519 F1Score : 0.971637005607287\n",
      "-Val LOSS : 0.10194220766425133 F1Score : 0.8406926393508911\n",
      "[98//100]\n",
      "-Train LOSS : 0.07512056860529508 F1Score : 0.971637005607287\n",
      "-Val LOSS : 0.1223619927962621 F1Score : 0.8285714387893677\n",
      "[99//100]\n",
      "-Train LOSS : 0.08160691684073147 F1Score : 0.9605258951584498\n",
      "-Val LOSS : 0.11983752871553104 F1Score : 0.8285714387893677\n"
     ]
    }
   ],
   "source": [
    "loss, score = training(model, train_DL, test_DL, adam_optim, epochs=100)\n",
    "test_loss, test_score = testing(model, test_DL)"
   ]
  },
  {
   "cell_type": "code",
   "execution_count": 65,
   "metadata": {},
   "outputs": [
    {
     "data": {
      "text/plain": [
       "Text(0.5, 1.0, 'F1')"
      ]
     },
     "execution_count": 65,
     "metadata": {},
     "output_type": "execute_result"
    },
    {
     "data": {
      "image/png": "[encoded data removed]",
      "text/plain": [
       "<Figure size 1000x500 with 2 Axes>"
      ]
     },
     "metadata": {},
     "output_type": "display_data"
    }
   ],
   "source": [
    "# 학습 후 loss 시각화\n",
    "import matplotlib.pyplot as plt\n",
    "\n",
    "\n",
    "fg, axes = plt.subplots(1,2 , figsize=(10,5))\n",
    "axes[0].plot(range(1, 100+1), loss[0], label='Train')\n",
    "axes[0].plot(range(1, 100+1), loss[1], label='Val')\n",
    "axes[0].grid()\n",
    "axes[0].legend()\n",
    "axes[0].set_xlabel(\"Epoch\")\n",
    "axes[0].set_ylabel(\"Loss\")\n",
    "axes[0].set_title(\"LOSS\")\n",
    "\n",
    "axes[1].plot(range(1, 100+1), score[0], label='Train')\n",
    "axes[1].plot(range(1, 100+1), score[1], label='Val')\n",
    "axes[1].grid()\n",
    "axes[1].legend()\n",
    "axes[1].set_xlabel(\"Epoch\")\n",
    "axes[1].set_ylabel(\"F1score\")\n",
    "axes[1].set_title(\"F1\")"
   ]
  }
 ],
 "metadata": {
  "kernelspec": {
   "display_name": "TORCH_38",
   "language": "python",
   "name": "python3"
  },
  "language_info": {
   "codemirror_mode": {
    "name": "ipython",
    "version": 3
   },
   "file_extension": ".py",
   "mimetype": "text/x-python",
   "name": "python",
   "nbconvert_exporter": "python",
   "pygments_lexer": "ipython3",
   "version": "3.12.4"
  }
 },
 "nbformat": 4,
 "nbformat_minor": 2
}
