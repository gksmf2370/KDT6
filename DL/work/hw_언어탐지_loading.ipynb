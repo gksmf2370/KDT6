{
 "cells": [
  {
   "cell_type": "markdown",
   "metadata": {},
   "source": [
    "[1] 모듈 로딩"
   ]
  },
  {
   "cell_type": "code",
   "execution_count": 1,
   "metadata": {},
   "outputs": [],
   "source": [
    "import torch\n",
    "import torch.nn as nn\n",
    "import torch.nn.functional as F \n",
    "from torchinfo import summary\n",
    "import pandas as pd\n",
    "from torch.utils.data import Dataset, DataLoader"
   ]
  },
  {
   "cell_type": "code",
   "execution_count": 3,
   "metadata": {},
   "outputs": [],
   "source": [
    "## 모델 파일 관련\n",
    "### models 폴더 아래 프로젝트 폴더 아래 모델 파일 저장\n",
    "import os\n",
    "\n",
    "# 저장 경로\n",
    "SAVE_PATH = '../models/lang/MCF/'\n",
    "# 저장 파일명\n",
    "SAVE_FILE=SAVE_PATH+'model_train_wbs.pth'\n",
    "\n",
    "# 모델 구조 및 파라미터 모두 저장 파일명명\n",
    "SAVE_MODEL=SAVE_PATH+'model_all.pth'"
   ]
  },
  {
   "cell_type": "markdown",
   "metadata": {},
   "source": [
    "[2] 모델 로딩 - 모델 전체 파일 사용"
   ]
  },
  {
   "cell_type": "code",
   "execution_count": 4,
   "metadata": {},
   "outputs": [],
   "source": [
    "# 은닉층을 리스트로 넘겨줌\n",
    "class MCFmodel(nn.Module):\n",
    "    def __init__(self, in_in, out_out, h_list=[]):\n",
    "        super().__init__()\n",
    "\n",
    "        self.input_layer = nn.Linear(in_in,h_list[0])      #입력은 피쳐수\n",
    "        self.h_layers = nn.ModuleList()\n",
    "\n",
    "        for i in range(len(h_list)-1):\n",
    "            self.h_layers.append(nn.Linear(h_list[i],h_list[i+1]))\n",
    "        \n",
    "        self.out_layers = nn.Linear(h_list[-1], out_out)  # 타겟수\n",
    "    \n",
    "    def forward(self, x):\n",
    "        y = F.relu(self.input_layer(x))  \n",
    "\n",
    "        for h_layer in self.h_layers:\n",
    "            y=F.relu(h_layer(y))   \n",
    "        \n",
    "        return self.out_layers(y) # 다중분류"
   ]
  },
  {
   "cell_type": "code",
   "execution_count": 5,
   "metadata": {},
   "outputs": [],
   "source": [
    "# 커스텀모델은 모델을 임포트해야 가능하다\n",
    "if os.path.exists(SAVE_MODEL): # 해당경로에 있다면\n",
    "    model= torch.load(SAVE_MODEL, weights_only=False)\n",
    "else:\n",
    "    print(f'{SAVE_MODEL} 파일이 존재하지 않습니다. 다시 확인하세요. ') "
   ]
  },
  {
   "cell_type": "code",
   "execution_count": 6,
   "metadata": {},
   "outputs": [
    {
     "data": {
      "text/plain": [
       "=================================================================\n",
       "Layer (type:depth-idx)                   Param #\n",
       "=================================================================\n",
       "MCFmodel                                 --\n",
       "├─Linear: 1-1                            270\n",
       "├─ModuleList: 1-2                        --\n",
       "│    └─Linear: 2-1                       330\n",
       "│    └─Linear: 2-2                       620\n",
       "├─Linear: 1-3                            84\n",
       "=================================================================\n",
       "Total params: 1,304\n",
       "Trainable params: 1,304\n",
       "Non-trainable params: 0\n",
       "================================================================="
      ]
     },
     "execution_count": 6,
     "metadata": {},
     "output_type": "execute_result"
    }
   ],
   "source": [
    "summary(model)"
   ]
  },
  {
   "cell_type": "markdown",
   "metadata": {},
   "source": [
    "[3] 예측"
   ]
  },
  {
   "cell_type": "markdown",
   "metadata": {},
   "source": [
    "여기서는 한개의 값만 예측"
   ]
  },
  {
   "cell_type": "code",
   "execution_count": 7,
   "metadata": {},
   "outputs": [],
   "source": [
    "TEST_CSV = 'lang_test.csv'"
   ]
  },
  {
   "cell_type": "code",
   "execution_count": 8,
   "metadata": {},
   "outputs": [],
   "source": [
    "testDF = pd.read_csv(TEST_CSV, header=None)"
   ]
  },
  {
   "cell_type": "code",
   "execution_count": 20,
   "metadata": {},
   "outputs": [],
   "source": [
    "test = testDF.iloc[[3]]"
   ]
  },
  {
   "cell_type": "code",
   "execution_count": 47,
   "metadata": {},
   "outputs": [],
   "source": [
    "# class langDataset(Dataset):\n",
    "#     def __init__(self, featureDF, targetDF):\n",
    "#         self.featureDF = featureDF\n",
    "#         self.targetDF = targetDF\n",
    "#         self.n_rows = featureDF.shape[0]\n",
    "#         self.n_features=featureDF.shape[1]\n",
    "    \n",
    "#     def __len__(self):\n",
    "#         return self.n_rows\n",
    "\n",
    "#     def __getitem__(self, index):\n",
    "#         # 넘파이를 텐서로\n",
    "#         featureTS=torch.FloatTensor(self.featureDF.iloc[index].values)\n",
    "#         targetTS=torch.FloatTensor(self.targetDF.iloc[index].values)        \n",
    "#         # 피쳐와 타겟 반환\n",
    "#         return featureTS, targetTS      "
   ]
  },
  {
   "cell_type": "code",
   "execution_count": 21,
   "metadata": {},
   "outputs": [],
   "source": [
    "# 피쳐 타겟 추출\n",
    "test_featureDF, test_targetDF = test[test.columns[1:]], test[test.columns[:1]]"
   ]
  },
  {
   "cell_type": "code",
   "execution_count": 22,
   "metadata": {},
   "outputs": [],
   "source": [
    "dataTS = torch.FloatTensor(test_featureDF.values)"
   ]
  },
  {
   "cell_type": "code",
   "execution_count": 23,
   "metadata": {},
   "outputs": [
    {
     "data": {
      "text/plain": [
       "tensor([[0.0719, 0.0114, 0.0385, 0.0403, 0.1394, 0.0122, 0.0154, 0.0184, 0.0795,\n",
       "         0.0042, 0.0024, 0.0587, 0.0332, 0.0708, 0.0699, 0.0496, 0.0069, 0.0641,\n",
       "         0.0730, 0.0663, 0.0487, 0.0136, 0.0029, 0.0043, 0.0034, 0.0012]])"
      ]
     },
     "execution_count": 23,
     "metadata": {},
     "output_type": "execute_result"
    }
   ],
   "source": [
    "dataTS"
   ]
  },
  {
   "cell_type": "code",
   "execution_count": 24,
   "metadata": {},
   "outputs": [],
   "source": [
    "from function_list import predict_data"
   ]
  },
  {
   "cell_type": "code",
   "execution_count": 25,
   "metadata": {},
   "outputs": [],
   "source": [
    "model.eval()\n",
    "with torch.no_grad():\n",
    "\n",
    "    # 추론/평가\n",
    "    pre_val=model(dataTS)\n"
   ]
  },
  {
   "cell_type": "code",
   "execution_count": 26,
   "metadata": {},
   "outputs": [],
   "source": [
    "idx = torch.argmax(pre_val, dim=1).item()"
   ]
  },
  {
   "cell_type": "code",
   "execution_count": 27,
   "metadata": {},
   "outputs": [],
   "source": [
    "class_name = ['en', 'fr', 'id', 'tl']"
   ]
  },
  {
   "cell_type": "code",
   "execution_count": 28,
   "metadata": {},
   "outputs": [],
   "source": [
    "predict = class_name[idx]"
   ]
  },
  {
   "cell_type": "code",
   "execution_count": 29,
   "metadata": {},
   "outputs": [],
   "source": [
    "actual = test_targetDF.iloc[0][0]"
   ]
  },
  {
   "cell_type": "code",
   "execution_count": 30,
   "metadata": {},
   "outputs": [
    {
     "name": "stdout",
     "output_type": "stream",
     "text": [
      "actual = > fr , predict => fr \n"
     ]
    }
   ],
   "source": [
    "print(f'actual = > {actual} , predict => {predict} ')"
   ]
  }
 ],
 "metadata": {
  "kernelspec": {
   "display_name": "Python 3",
   "language": "python",
   "name": "python3"
  },
  "language_info": {
   "codemirror_mode": {
    "name": "ipython",
    "version": 3
   },
   "file_extension": ".py",
   "mimetype": "text/x-python",
   "name": "python",
   "nbconvert_exporter": "python",
   "pygments_lexer": "ipython3",
   "version": "3.8.19"
  }
 },
 "nbformat": 4,
 "nbformat_minor": 2
}
