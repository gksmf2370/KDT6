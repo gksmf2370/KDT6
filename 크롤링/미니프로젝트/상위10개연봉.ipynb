{
 "cells": [
  {
   "cell_type": "code",
   "execution_count": 39,
   "metadata": {},
   "outputs": [],
   "source": [
    "import requests\n",
    "from bs4 import BeautifulSoup\n",
    "\n",
    "headers = {\n",
    "    'User-Agent': 'Mozilla/5.0 (Windows NT 10.0; Win64; x64) AppleWebKit/537.36 (KHTML, like Gecko) Chrome/91.0.4472.124 Safari/537.36'\n",
    "}\n",
    "link_list=['https://www.jobkorea.co.kr/Recruit/Salary/25470',\n",
    "           'https://www.jobkorea.co.kr/Recruit/Salary/18783606',\n",
    "           'https://www.jobkorea.co.kr/Recruit/Salary/35824178',\n",
    "           'https://www.jobkorea.co.kr/Recruit/Salary/35824178',\n",
    "           'https://www.jobkorea.co.kr/company/1415574/salary',\n",
    "           'https://www.jobkorea.co.kr/Recruit/Salary/68101',\n",
    "           'https://www.jobkorea.co.kr/Recruit/Salary/25849579']\n",
    "\n",
    "money_list = []\n",
    "for link in link_list:\n",
    "    url = link\n",
    "    response = requests.get(url, headers=headers)\n",
    "\n",
    "\n",
    "    soup = BeautifulSoup(response.text, 'html.parser')\n",
    "\n",
    "\n",
    "    value = soup.find_all('div', {'class': 'value'})\n",
    "    money_list.append(value[2].text)\n"
   ]
  },
  {
   "cell_type": "code",
   "execution_count": 40,
   "metadata": {},
   "outputs": [],
   "source": [
    "\n",
    "url = 'https://www.jobkorea.co.kr/company/1979146/salary'\n",
    "response = requests.get(url, headers=headers)\n",
    "\n",
    "\n",
    "soup = BeautifulSoup(response.text, 'html.parser')\n",
    "\n",
    "\n",
    "value = soup.find_all('div', {'class': 'value'})\n",
    "money_list.append(value[4].text)\n"
   ]
  },
  {
   "cell_type": "code",
   "execution_count": 41,
   "metadata": {},
   "outputs": [
    {
     "name": "stdout",
     "output_type": "stream",
     "text": [
      "3,365\n",
      "3,288\n",
      "2,112\n",
      "2,112\n",
      "3,455\n",
      "4,039\n",
      "3,107\n",
      "4,555\n"
     ]
    }
   ],
   "source": [
    "for i in money_list:\n",
    "    print(i)"
   ]
  }
 ],
 "metadata": {
  "kernelspec": {
   "display_name": "PY39",
   "language": "python",
   "name": "python3"
  },
  "language_info": {
   "codemirror_mode": {
    "name": "ipython",
    "version": 3
   },
   "file_extension": ".py",
   "mimetype": "text/x-python",
   "name": "python",
   "nbconvert_exporter": "python",
   "pygments_lexer": "ipython3",
   "version": "3.9.19"
  }
 },
 "nbformat": 4,
 "nbformat_minor": 2
}
