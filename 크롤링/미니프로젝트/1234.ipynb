{
 "cells": [
  {
   "cell_type": "code",
   "execution_count": 1,
   "metadata": {},
   "outputs": [],
   "source": [
    "from bs4 import BeautifulSoup\n",
    "from urllib.request import urlopen \n",
    "import requests\n",
    "from konlpy.tag import Okt\n",
    "from collections import Counter\n",
    "from wordcloud import WordCloud\n",
    "import matplotlib.pyplot as plt\n",
    "import time\n",
    "import numpy as np\n",
    "from PIL import Image\n",
    "num=1\n",
    "while num<=50:\n",
    "    url= urlopen(f'https://www.jobkorea.co.kr/Search/?stext=python&tabType=recruit&Page_No={num}')\n",
    "    soup= BeautifulSoup(url, 'html.parser')\n",
    "\n",
    "    links= soup.find_all('a', {'class': \"corp-name-link dev-view\"})\n",
    "    for link in links:\n",
    "        print(link['href'])\n",
    "    num+=1\n",
    "\n",
    "\n",
    "url= urlopen(f'https://www.jobkorea.co.kr/Search/?stext=python&tabType=recruit&Page_No={num}')\n",
    "soup= BeautifulSoup(url, 'html.parser')\n",
    "# next=soup.find('div', {'class': 'list-section-corp'})\n",
    "links= soup.find_all('a', {'class': \"corp-name-link dev-view\"})\n",
    "for link in links:\n",
    "    print(link['href'])"
   ]
  },
  {
   "cell_type": "code",
   "execution_count": null,
   "metadata": {},
   "outputs": [],
   "source": [
    "print(links)"
   ]
  }
 ],
 "metadata": {
  "kernelspec": {
   "display_name": "PY39",
   "language": "python",
   "name": "python3"
  },
  "language_info": {
   "codemirror_mode": {
    "name": "ipython",
    "version": 3
   },
   "file_extension": ".py",
   "mimetype": "text/x-python",
   "name": "python",
   "nbconvert_exporter": "python",
   "pygments_lexer": "ipython3",
   "version": "3.9.19"
  }
 },
 "nbformat": 4,
 "nbformat_minor": 2
}
