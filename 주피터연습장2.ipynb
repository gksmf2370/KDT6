{
 "cells": [
  {
   "cell_type": "code",
   "execution_count": 49,
   "metadata": {},
   "outputs": [],
   "source": [
    "size=3\n",
    "mabang = [[0]*size for i in range(size)]\n"
   ]
  },
  {
   "cell_type": "code",
   "execution_count": 50,
   "metadata": {},
   "outputs": [],
   "source": [
    "a=0\n",
    "b=size//2\n",
    "num=1"
   ]
  },
  {
   "cell_type": "code",
   "execution_count": 51,
   "metadata": {},
   "outputs": [
    {
     "name": "stdout",
     "output_type": "stream",
     "text": [
      "2 2 2\n",
      "1 0 3\n",
      "0 1 4\n",
      "1 1 5\n",
      "0 2 6\n",
      "2 0 7\n"
     ]
    },
    {
     "ename": "IndexError",
     "evalue": "list index out of range",
     "output_type": "error",
     "traceback": [
      "\u001b[1;31m---------------------------------------------------------------------------\u001b[0m",
      "\u001b[1;31mIndexError\u001b[0m                                Traceback (most recent call last)",
      "Cell \u001b[1;32mIn[51], line 33\u001b[0m\n\u001b[0;32m     31\u001b[0m      a\u001b[38;5;241m=\u001b[39mc\u001b[38;5;241m+\u001b[39m\u001b[38;5;241m1\u001b[39m\n\u001b[0;32m     32\u001b[0m      b\u001b[38;5;241m=\u001b[39md\n\u001b[1;32m---> 33\u001b[0m      \u001b[43mmabang\u001b[49m\u001b[43m[\u001b[49m\u001b[43ma\u001b[49m\u001b[43m]\u001b[49m[b] \u001b[38;5;241m=\u001b[39m num\n\u001b[0;32m     34\u001b[0m num \u001b[38;5;241m+\u001b[39m\u001b[38;5;241m=\u001b[39m\u001b[38;5;241m1\u001b[39m\n\u001b[0;32m     36\u001b[0m \u001b[38;5;28mprint\u001b[39m(a,b, num)\n",
      "\u001b[1;31mIndexError\u001b[0m: list index out of range"
     ]
    }
   ],
   "source": [
    "for i in range(size*size-1):\n",
    "    \n",
    "    c=a\n",
    "    a=a-1\n",
    "    d=b\n",
    "    b=b+1\n",
    "\n",
    "    if a<0 and b>2 :\n",
    "            a=size-1\n",
    "            b=0\n",
    "            if mabang[a][b] !=0:\n",
    "                 a=c+1\n",
    "                 b=d\n",
    "            elif mabang[a][b] ==0:\n",
    "                mabang[a][b] = num             \n",
    "                num +=1\n",
    "                print(a,b, num)\n",
    "                continue\n",
    "\n",
    "    elif a<0 :\n",
    "         a=size-1\n",
    "    \n",
    "    elif b>2 :\n",
    "         b=0\n",
    "    \n",
    "         \n",
    "    if mabang[a][b] ==0:\n",
    "        mabang[a][b] = num\n",
    "\n",
    "    elif mabang[a][b] !=0:\n",
    "         a=c+1\n",
    "         b=d\n",
    "         mabang[a][b] = num\n",
    "    num +=1\n",
    "\n",
    "    print(a,b, num)\n",
    "\n"
   ]
  }
 ],
 "metadata": {
  "kernelspec": {
   "display_name": "PY39",
   "language": "python",
   "name": "python3"
  },
  "language_info": {
   "codemirror_mode": {
    "name": "ipython",
    "version": 3
   },
   "file_extension": ".py",
   "mimetype": "text/x-python",
   "name": "python",
   "nbconvert_exporter": "python",
   "pygments_lexer": "ipython3",
   "version": "3.9.19"
  }
 },
 "nbformat": 4,
 "nbformat_minor": 2
}
