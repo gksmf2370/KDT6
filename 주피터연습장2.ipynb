{
 "cells": [
  {
   "cell_type": "code",
   "execution_count": 13,
   "metadata": {},
   "outputs": [],
   "source": [
    "size=3\n",
    "mabang = [[0]*size for i in range(size)]\n"
   ]
  },
  {
   "cell_type": "code",
   "execution_count": 14,
   "metadata": {},
   "outputs": [],
   "source": [
    "a=0\n",
    "b=size//2\n",
    "c=1"
   ]
  },
  {
   "cell_type": "code",
   "execution_count": 15,
   "metadata": {},
   "outputs": [
    {
     "name": "stdout",
     "output_type": "stream",
     "text": [
      "0 1\n"
     ]
    }
   ],
   "source": [
    "print(a, b)"
   ]
  },
  {
   "cell_type": "code",
   "execution_count": 16,
   "metadata": {},
   "outputs": [],
   "source": [
    "mabang[a][b]=c"
   ]
  },
  {
   "cell_type": "code",
   "execution_count": 17,
   "metadata": {},
   "outputs": [
    {
     "name": "stdout",
     "output_type": "stream",
     "text": [
      "2 2\n",
      "1 0\n",
      "2 0\n",
      "1 1\n",
      "0 2\n",
      "1 0\n",
      "2 0\n",
      "1 1\n"
     ]
    }
   ],
   "source": [
    "for i in range(size*size-1):\n",
    "    \n",
    "    a=a-1\n",
    "    b=b+1\n",
    "    if a<0:\n",
    "        size=size-1\n",
    "        a=size\n",
    "    if b>2:\n",
    "        b=0\n",
    "    if mabang[a][b] !=0:\n",
    "        a=a+2\n",
    "        b=b-1\n",
    "    \n",
    "    print(a,b)\n",
    "\n"
   ]
  }
 ],
 "metadata": {
  "kernelspec": {
   "display_name": "PY39",
   "language": "python",
   "name": "python3"
  },
  "language_info": {
   "codemirror_mode": {
    "name": "ipython",
    "version": 3
   },
   "file_extension": ".py",
   "mimetype": "text/x-python",
   "name": "python",
   "nbconvert_exporter": "python",
   "pygments_lexer": "ipython3",
   "version": "3.9.19"
  }
 },
 "nbformat": 4,
 "nbformat_minor": 2
}
