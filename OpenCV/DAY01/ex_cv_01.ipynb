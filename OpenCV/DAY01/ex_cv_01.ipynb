{
 "cells": [
  {
   "cell_type": "markdown",
   "metadata": {},
   "source": [
    "#### openCV 기본 사용법 "
   ]
  },
  {
   "cell_type": "code",
   "execution_count": 1,
   "metadata": {},
   "outputs": [],
   "source": [
    "# 모듈 로딩\n",
    "import cv2\n",
    "import os\n",
    "import numpy as np"
   ]
  },
  {
   "cell_type": "code",
   "execution_count": 2,
   "metadata": {},
   "outputs": [],
   "source": [
    "# 이미지 관련 공통 변수\n",
    "IMG_DIR ='../image/'"
   ]
  },
  {
   "cell_type": "markdown",
   "metadata": {},
   "source": [
    "[1] 이미지 읽기 ==> ndarray "
   ]
  },
  {
   "cell_type": "code",
   "execution_count": 3,
   "metadata": {},
   "outputs": [],
   "source": [
    "# 이미지 파일 경로 + 파일명\n",
    "IMG_FILE = IMG_DIR + 'logo.png'\n",
    "\n",
    "# 이미지 데이터\n",
    "im_data = cv2.imread(IMG_FILE)\n",
    "gray_data = cv2.imread(IMG_FILE,flags=cv2.IMREAD_GRAYSCALE)"
   ]
  },
  {
   "cell_type": "code",
   "execution_count": 5,
   "metadata": {},
   "outputs": [],
   "source": [
    "# 이미지 데이터 속성 확인\n",
    "def img_info(im_data):\n",
    "    '''\n",
    "    형태\n",
    "    차원 \n",
    "    '''\n",
    "    print(f'shape {im_data.shape}')\n",
    "    print(f'ndim {im_data.ndim}D')"
   ]
  },
  {
   "cell_type": "code",
   "execution_count": 6,
   "metadata": {},
   "outputs": [
    {
     "name": "stdout",
     "output_type": "stream",
     "text": [
      "shape (184, 544, 3)\n",
      "ndim 3D\n",
      "shape (184, 544)\n",
      "ndim 2D\n"
     ]
    }
   ],
   "source": [
    "\n",
    "img_info(im_data)\n",
    "img_info(gray_data)"
   ]
  },
  {
   "cell_type": "markdown",
   "metadata": {},
   "source": [
    "[2] 이미지 화면 출력 "
   ]
  },
  {
   "cell_type": "code",
   "execution_count": 7,
   "metadata": {},
   "outputs": [],
   "source": [
    "import time\n",
    "\n",
    "# 이미지 창 띄우기\n",
    "cv2.imshow('[IM_DATA]',im_data)\n",
    "cv2.imshow('[GRAY_DATA]',gray_data)\n",
    "\n",
    "# 이미지 창 위에 이벤트 대기\n",
    "cv2.waitKey()\n",
    "# 이미지 창 닫기\n",
    "\n",
    "# cv2.destroyAllWindows() # 모든 창 닫기\n",
    "cv2.destroyWindow('[IM_DATA]') # 설정한 하나의 창 닫기\n",
    "\n",
    "# 3초 정지 \n",
    "time.sleep(3)\n",
    "cv2.destroyWindow('[GRAY_DATA]')"
   ]
  },
  {
   "cell_type": "code",
   "execution_count": 4,
   "metadata": {},
   "outputs": [
    {
     "name": "stdout",
     "output_type": "stream",
     "text": [
      "key_code => 101, e\n",
      "key_code => 115, s\n"
     ]
    }
   ],
   "source": [
    "# 'x','X' 입력 시 모든 이미지 창 닫기 \n",
    "# 이미지 창 띄우기 \n",
    "cv2.imshow('[IM_DATA]',im_data)\n",
    "cv2.imshow('[GRAY_DATA]',gray_data)\n",
    "\n",
    "while True:\n",
    "# 키보드 이벤트 대기함수\n",
    "    Key_code = cv2.waitKey()\n",
    "    print(f'key_code => {Key_code}, {chr(Key_code)}')\n",
    "\n",
    "    if chr(Key_code) in ['x','X']:\n",
    "        # 모든 창 닫기\n",
    "        cv2.destroyAllWindows()\n",
    "        break\n",
    "    elif chr(Key_code) in ['s','S']:\n",
    "        # 이미지 저장\n",
    "        cv2.imwrite('copy.jpg',gray_data)\n",
    "        # 모든 창 닫기\n",
    "        cv2.destroyAllWindows()\n",
    "        break\n",
    "else:\n",
    "    print('no img file')"
   ]
  },
  {
   "cell_type": "markdown",
   "metadata": {},
   "source": [
    "[3] 이미지 저장  "
   ]
  }
 ],
 "metadata": {
  "kernelspec": {
   "display_name": "TORCH_CV_38",
   "language": "python",
   "name": "python3"
  },
  "language_info": {
   "codemirror_mode": {
    "name": "ipython",
    "version": 3
   },
   "file_extension": ".py",
   "mimetype": "text/x-python",
   "name": "python",
   "nbconvert_exporter": "python",
   "pygments_lexer": "ipython3",
   "version": "3.8.19"
  }
 },
 "nbformat": 4,
 "nbformat_minor": 2
}
