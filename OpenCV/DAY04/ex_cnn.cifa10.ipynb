{
 "cells": [
  {
   "cell_type": "markdown",
   "metadata": {},
   "source": [
    "#### CNN 이미지 분류 모델\n",
    "- 이미지 데이터셋 준비\n",
    "    * torchvision의 내장 데이터셋 활용 CIFIA10\n",
    "- 이미지 분류 모델\n",
    "    * 커스텀 CNN 구현"
   ]
  },
  {
   "cell_type": "markdown",
   "metadata": {},
   "source": [
    "[1] 모듈 로딩 및 데이터 준비"
   ]
  },
  {
   "cell_type": "code",
   "execution_count": 2,
   "metadata": {},
   "outputs": [],
   "source": [
    "## 모듈로딩\n",
    "import torch\n",
    "import torch.nn\n",
    "from torchvision.datasets import CIFAR10    # torchvison 내장 데이터셋 관련 모듈\n",
    "from torchvision.transforms import ToTensor  # torchvision 데이터 변환 관련 모듈\n",
    "from torch.utils.data import DataLoader     # 데이터셋 관련 모듈 로딩\n",
    "\n",
    "import matplotlib.pyplot as plt"
   ]
  },
  {
   "cell_type": "code",
   "execution_count": 3,
   "metadata": {},
   "outputs": [
    {
     "name": "stdout",
     "output_type": "stream",
     "text": [
      "Files already downloaded and verified\n"
     ]
    }
   ],
   "source": [
    "## 데이터로딩\n",
    "DIR_PATH = '../data/'\n",
    "\n",
    "## Pytorch의 Dataset 형태 로딩\n",
    "cifarDS = CIFAR10(DIR_PATH, train=True, download=True,\n",
    "                  transform=ToTensor())"
   ]
  },
  {
   "cell_type": "code",
   "execution_count": 4,
   "metadata": {},
   "outputs": [
    {
     "name": "stdout",
     "output_type": "stream",
     "text": [
      "classes: ['airplane', 'automobile', 'bird', 'cat', 'deer', 'dog', 'frog', 'horse', 'ship', 'truck']\n",
      "cifarDS.class_to_idx: {'airplane': 0, 'automobile': 1, 'bird': 2, 'cat': 3, 'deer': 4, 'dog': 5, 'frog': 6, 'horse': 7, 'ship': 8, 'truck': 9}\n",
      "cifarDS.data.shape: (50000, 32, 32, 3)\n",
      "len(cifarDS.targets): 50000\n"
     ]
    }
   ],
   "source": [
    "# Dataset의 속성 확인\n",
    "print(f'classes: {cifarDS.classes}')\n",
    "print(f'cifarDS.class_to_idx: {cifarDS.class_to_idx}')\n",
    "print(f'cifarDS.data.shape: {cifarDS.data.shape}')\n",
    "print(f'len(cifarDS.targets): {len(cifarDS.targets)}')\n"
   ]
  },
  {
   "cell_type": "markdown",
   "metadata": {},
   "source": [
    "[2] 데이터 로더 \n",
    "- 학습 시 배치크기 만큼 데이터와 라벨/타겟을 로딩"
   ]
  },
  {
   "cell_type": "code",
   "execution_count": 17,
   "metadata": {},
   "outputs": [],
   "source": [
    "BATCH_SIZE = 53\n",
    "\n",
    "cifar10DL = DataLoader(cifarDS)"
   ]
  },
  {
   "cell_type": "code",
   "execution_count": 18,
   "metadata": {},
   "outputs": [
    {
     "name": "stdout",
     "output_type": "stream",
     "text": [
      "tensor([6])\n",
      "(3, 32, 32)\n",
      "(32, 32, 3)\n"
     ]
    },
    {
     "data": {
      "image/png": "[encoded data removed]",
      "text/plain": [
       "<Figure size 640x480 with 1 Axes>"
      ]
     },
     "metadata": {},
     "output_type": "display_data"
    }
   ],
   "source": [
    "## [테스트] Dataset & DataLodaer\n",
    "for data, target in cifar10DL:\n",
    "    print(target)\n",
    "    data = data.numpy().squeeze()\n",
    "    print(data.shape)\n",
    "    print(data.T.shape)\n",
    "    plt.imshow(data.T)\n",
    "    plt.title(cifarDS.classes[target.item()])\n",
    "    break"
   ]
  },
  {
   "cell_type": "markdown",
   "metadata": {},
   "source": [
    "[3]  커스텀 모델 설계 및 정의\n",
    "- 모델목적 : 이미지 분류 모델\n",
    "- 학습방법 : 지도학습 > 분류 > 다중분류 (10가지)\n",
    "- 클래스이름 : ImageMCF\n",
    "- 클래스구조 : 특징추출 부분 => CNN + 학습부분 FC\n",
    "- 부모클래스 : nn.Module\n"
   ]
  },
  {
   "cell_type": "code",
   "execution_count": 19,
   "metadata": {},
   "outputs": [],
   "source": [
    "import torch.nn as nn\n",
    "import torch.nn.functional as F"
   ]
  },
  {
   "cell_type": "code",
   "execution_count": 20,
   "metadata": {},
   "outputs": [],
   "source": [
    "class ImageMCF(nn.Module):\n",
    "    # 모델 구조 설계 즉, 생성자 메서드\n",
    "    def __init__(self):\n",
    "        # 부모 생성\n",
    "        super().__init__()\n",
    "        # 모델 층 구성              # 입력 1,3,32,32 => 1은 배치사이즈, 3은 채널, 32는 H, 32는 W\n",
    "        # 특징 추출\n",
    "        self.in_layer = nn.Conv2d(in_channels=3,out_channels= 10, kernel_size=3) # 입력이 RGB 라서 3 [1,10,30,30]\n",
    "        self.in_layer = nn.Conv2d(in_channels=10,out_channels= 50, kernel_size=3)\n",
    "        self.in_layer = nn.Conv2d(in_channels=50,out_channels= 10, kernel_size=3)\n",
    "        self.p_layer = nn.MaxPool2d(kernel_size=2, stride=2)              # [1, 10, 15, 15]\n",
    "        # 학습 관련 층\n",
    "        self.h_layer = nn.Linear(in_features=10*15*15, out_features=50)\n",
    "        self.out_layer = nn.Linear(in_features=50 , out_features=10)\n",
    "\n",
    "    # 전방향/순방향 학습 메서드\n",
    "    def forward(self, input):\n",
    "        output = self.in_layer(input)\n",
    "        print(f'[output 1] {output.shape}')\n",
    "\n",
    "        output=F.relu(output)\n",
    "        print(f'[output 2] {output.shape}')\n",
    "        output=self.p_layer(output)\n",
    "        print(f'[output 3] {output.shape}')\n",
    "\n",
    "        # 4D - 2D (샘플수, 피쳐수)\n",
    "        output=output.view(output.shape[0], -1)\n",
    "        print(f'[output 4] {output.shape}')\n",
    "        output=F.relu(self.h_layer(output))\n",
    "        print(f'[output 5] {output.shape}')\n",
    "        output=self.out_layer(output)     # crossEntropyLoss를 사용하니까 따로 활성화함수를 사용하지않음\n",
    "        print(f'[output 6] {output.shape}')\n",
    "\n",
    "        return output"
   ]
  },
  {
   "cell_type": "code",
   "execution_count": 21,
   "metadata": {},
   "outputs": [],
   "source": [
    "import torch\n",
    "import torch.nn as nn\n",
    "import torch.nn.functional as F\n",
    "\n",
    "class ImageMCF2(nn.Module):\n",
    "    def __init__(self):\n",
    "        super().__init__()\n",
    "        # 특징 추출 레이어\n",
    "        self.cnn_layer = nn.Sequential(                       #[1, 3, 32, 32]\n",
    "            nn.Conv2d(3, 10, 3),  # 입력 채널 3, 출력 채널 10  #[1, 10, 30, 30]  32-(3-1) =30\n",
    "            nn.ReLU(),\n",
    "            nn.Conv2d(10, 10, 3),  # 입력 채널 10, 출력 채널 10 #[1,10,28,28]    30-(3-1) = 28\n",
    "            nn.ReLU(),\n",
    "            nn.MaxPool2d(2, stride=2)  # 크기 절반으로 줄임           [1,10,14,14]\n",
    "        )  # [1, 10, 15, 15]\n",
    "\n",
    "        self.cnn_layer2 = nn.Sequential(\n",
    "            nn.Conv2d(10, 30, 3),  # 입력 채널 10, 출력 채널 30      [1,30,12,12]  14-(3-1)\n",
    "            nn.ReLU(),\n",
    "            nn.Conv2d(30, 10, 3),  # 입력 채널 30, 출력 채널 10      [1,10, 10,10]  12-(3-1)\n",
    "            nn.ReLU(),\n",
    "            nn.Conv2d(10, 30, 3),  # 입력 채널 10, 출력 채널 30      [1,30, 8, 8] 10-(3-1)\n",
    "            nn.ReLU(),\n",
    "            nn.MaxPool2d(2, stride=2)  # 크기 절반으로 줄임         [1,30, 4, 4] 절반\n",
    "        )  # [1, 30, 6, 6]\n",
    "\n",
    "        # 마지막 레이어에서 커널 크기를 줄임\n",
    "        self.cnn_layer3 = nn.Sequential(\n",
    "            nn.Conv2d(30, 30, 2),  # 커널 크기를 (2x2)로 변경      [1,30,3,3] 4-(2-1) =3\n",
    "            nn.ReLU(),\n",
    "            nn.Conv2d(30, 10, 1),  # 커널 크기를 (1x1)로 변경      [1,10,3,3] 3-(1-1)\n",
    "            nn.ReLU(),\n",
    "            nn.AvgPool2d(2, stride=2)  # 크기 절반으로 줄임       [1,10,1 ,1 ] (3-2)/2 +1 =1  # 버림함 \n",
    "        )  # [1, 10, 1, 1]\n",
    "\n",
    "        # 학습 관련 층 (cnn_layer3의 출력 크기 10*1*1을 반영)\n",
    "        self.h_layer = nn.Linear(10*1*1, 50)  # [1, 50]으로 변환\n",
    "        self.out_layer = nn.Linear(50, 10)    # 출력층: 10 클래스\n",
    "\n",
    "    def forward(self, input):\n",
    "        output = self.cnn_layer(input)\n",
    "        print(f'[cnn_layer out] {output.shape}')  # [1, 10, 15, 15]\n",
    "\n",
    "        output = self.cnn_layer2(output)\n",
    "        print(f'[cnn_layer2 out] {output.shape}')  # [1, 30, 6, 6]\n",
    "\n",
    "        output = self.cnn_layer3(output)\n",
    "        print(f'[cnn_layer3 out] {output.shape}')  # [1, 10, 1, 1]\n",
    "\n",
    "        # 4D -> 2D 변환\n",
    "        output = output.view(output.shape[0], -1)  # [배치 사이즈, 피쳐 수]\n",
    "        print(f'[view output] {output.shape}')  # [1, 10*1*1]\n",
    "\n",
    "        # 완전 연결층\n",
    "        output = F.relu(self.h_layer(output))  # [1, 50]\n",
    "        print(f'[h_layer output] {output.shape}')\n",
    "\n",
    "        # 출력층\n",
    "        output = self.out_layer(output)  # [1, 10]\n",
    "        print(f'[out_layer output] {output.shape}')\n",
    "\n",
    "        return output\n"
   ]
  },
  {
   "cell_type": "code",
   "execution_count": 22,
   "metadata": {},
   "outputs": [],
   "source": [
    "## [테스트] 모델 인스턴스 생성\n",
    "m=ImageMCF()\n",
    "m2=ImageMCF2()"
   ]
  },
  {
   "cell_type": "code",
   "execution_count": 24,
   "metadata": {},
   "outputs": [
    {
     "data": {
      "text/plain": [
       "Linear(in_features=2250, out_features=50, bias=True)"
      ]
     },
     "execution_count": 24,
     "metadata": {},
     "output_type": "execute_result"
    }
   ],
   "source": [
    "# 인스턴스 속성 읽기 => 인스턴스변수명.속성명\n",
    "m.h_layer"
   ]
  },
  {
   "cell_type": "code",
   "execution_count": 28,
   "metadata": {},
   "outputs": [
    {
     "name": "stdout",
     "output_type": "stream",
     "text": [
      "weight\n",
      "Parameter containing:\n",
      "tensor([[-0.0977,  0.0233, -0.1342, -0.2535, -0.2522, -0.0346,  0.0522, -0.2816,\n",
      "         -0.2757,  0.2364],\n",
      "        [-0.2875, -0.0483, -0.0301, -0.0130,  0.1479,  0.2260,  0.0625, -0.0237,\n",
      "          0.0621,  0.1138],\n",
      "        [ 0.1815,  0.2760,  0.2113,  0.2970, -0.2989,  0.1340, -0.2115,  0.2811,\n",
      "         -0.2065,  0.2915],\n",
      "        [-0.1677,  0.0748,  0.2798,  0.2373,  0.2075, -0.2390, -0.0679, -0.0147,\n",
      "          0.2206,  0.2070],\n",
      "        [ 0.0844, -0.2781, -0.2583, -0.2101, -0.1271, -0.2835,  0.1575,  0.0614,\n",
      "         -0.0855,  0.0984],\n",
      "        [-0.0476,  0.2753, -0.2474,  0.2689,  0.2789, -0.1989,  0.0331, -0.1520,\n",
      "         -0.2853,  0.2311],\n",
      "        [-0.1808,  0.0719,  0.0916, -0.1101, -0.1629,  0.2434,  0.0922, -0.2671,\n",
      "          0.1963,  0.2479],\n",
      "        [-0.1607, -0.2277, -0.1521,  0.0949, -0.2888, -0.2706,  0.2513,  0.2286,\n",
      "          0.2491, -0.1845],\n",
      "        [ 0.2729, -0.0052, -0.1789,  0.2309,  0.2434, -0.1577, -0.2934, -0.1828,\n",
      "         -0.1779,  0.1318],\n",
      "        [ 0.2568,  0.2046,  0.2575,  0.2194,  0.0786, -0.0102,  0.1140, -0.0199,\n",
      "          0.0009,  0.0251],\n",
      "        [-0.1930,  0.3043, -0.0982, -0.2096,  0.0203,  0.2375, -0.3055,  0.1178,\n",
      "          0.1030,  0.2833],\n",
      "        [-0.3138, -0.0993, -0.1118, -0.1333, -0.0172, -0.2847, -0.3030, -0.2249,\n",
      "          0.2684,  0.1988],\n",
      "        [ 0.0378,  0.1491,  0.2912,  0.0103, -0.0599,  0.1300,  0.0747, -0.2697,\n",
      "         -0.1570,  0.3079],\n",
      "        [ 0.0022, -0.3086,  0.1914, -0.1152,  0.2527, -0.1082,  0.0124,  0.1845,\n",
      "          0.2169, -0.0265],\n",
      "        [ 0.2237,  0.2900, -0.1769,  0.2030, -0.0625, -0.1116,  0.1334, -0.1978,\n",
      "         -0.0303,  0.2070],\n",
      "        [-0.1788,  0.1960,  0.1394,  0.1314, -0.0556,  0.0844, -0.2034,  0.2375,\n",
      "          0.1046,  0.1304],\n",
      "        [ 0.3006, -0.2957,  0.0335, -0.2940,  0.0238, -0.2221, -0.0338, -0.0540,\n",
      "          0.2727, -0.2903],\n",
      "        [-0.2167,  0.0829,  0.2115,  0.2086, -0.1462, -0.2498,  0.1661,  0.1324,\n",
      "         -0.2457,  0.1563],\n",
      "        [ 0.1160,  0.2518,  0.1489, -0.2799,  0.2177, -0.2104, -0.0661, -0.1041,\n",
      "          0.0543, -0.2222],\n",
      "        [ 0.0024, -0.1399,  0.0610, -0.2294,  0.2944,  0.0198,  0.1598,  0.2845,\n",
      "          0.1735, -0.1435],\n",
      "        [-0.0006,  0.1022, -0.0587,  0.0305,  0.2449,  0.2288,  0.2836, -0.1474,\n",
      "          0.1175,  0.0848],\n",
      "        [ 0.2493, -0.0133, -0.2770, -0.3148,  0.1742, -0.2154,  0.1757, -0.1808,\n",
      "         -0.2947, -0.2695],\n",
      "        [-0.2490,  0.1102, -0.0141,  0.0452, -0.0064, -0.0912, -0.0030,  0.1852,\n",
      "         -0.0494,  0.2982],\n",
      "        [ 0.2981,  0.2471,  0.2792,  0.0743, -0.2386, -0.2810,  0.2381, -0.2335,\n",
      "         -0.2558, -0.2099],\n",
      "        [-0.2399, -0.0016,  0.2495,  0.2011, -0.2468,  0.2363, -0.0012, -0.1537,\n",
      "          0.0816,  0.1771],\n",
      "        [ 0.0108, -0.2482,  0.2441,  0.1880, -0.1788,  0.2409,  0.2251, -0.1022,\n",
      "         -0.1298, -0.1874],\n",
      "        [-0.3118, -0.2063,  0.0101, -0.2862, -0.1272, -0.1107,  0.0573,  0.2005,\n",
      "         -0.2991, -0.2797],\n",
      "        [ 0.2269,  0.2962,  0.1754,  0.1053,  0.2371, -0.1191,  0.0795, -0.3107,\n",
      "         -0.0906,  0.1782],\n",
      "        [ 0.0538, -0.1227,  0.1516, -0.1117,  0.0237,  0.1610,  0.1286,  0.1874,\n",
      "         -0.1249, -0.1955],\n",
      "        [-0.2131,  0.0554, -0.0144,  0.2363, -0.0827, -0.1030,  0.0705,  0.2073,\n",
      "         -0.1724,  0.1288]], requires_grad=True)\n",
      "bias\n",
      "Parameter containing:\n",
      "tensor([ 0.1582, -0.0150, -0.2093,  0.0673, -0.0454,  0.2984,  0.2345,  0.0320,\n",
      "         0.0277, -0.1689, -0.1216,  0.2417, -0.2363,  0.2105,  0.0508,  0.3143,\n",
      "         0.2118,  0.3050,  0.1966, -0.0846,  0.1573,  0.1585, -0.2295, -0.2392,\n",
      "         0.0220, -0.0544,  0.1377, -0.0838, -0.2055, -0.1399],\n",
      "       requires_grad=True)\n"
     ]
    }
   ],
   "source": [
    "m.out_layer =nn.Linear(10,30)\n",
    "for name, param in m.out_layer.named_parameters():\n",
    "    print(name)\n",
    "    print(param)"
   ]
  },
  {
   "cell_type": "code",
   "execution_count": 11,
   "metadata": {},
   "outputs": [
    {
     "data": {
      "text/plain": [
       "=================================================================\n",
       "Layer (type:depth-idx)                   Param #\n",
       "=================================================================\n",
       "ImageMCF2                                --\n",
       "├─Sequential: 1-1                        --\n",
       "│    └─Conv2d: 2-1                       280\n",
       "│    └─ReLU: 2-2                         --\n",
       "│    └─Conv2d: 2-3                       910\n",
       "│    └─ReLU: 2-4                         --\n",
       "│    └─MaxPool2d: 2-5                    --\n",
       "├─Sequential: 1-2                        --\n",
       "│    └─Conv2d: 2-6                       2,730\n",
       "│    └─ReLU: 2-7                         --\n",
       "│    └─Conv2d: 2-8                       2,710\n",
       "│    └─ReLU: 2-9                         --\n",
       "│    └─Conv2d: 2-10                      2,730\n",
       "│    └─ReLU: 2-11                        --\n",
       "│    └─MaxPool2d: 2-12                   --\n",
       "├─Sequential: 1-3                        --\n",
       "│    └─Conv2d: 2-13                      3,630\n",
       "│    └─ReLU: 2-14                        --\n",
       "│    └─Conv2d: 2-15                      310\n",
       "│    └─ReLU: 2-16                        --\n",
       "│    └─AvgPool2d: 2-17                   --\n",
       "├─Linear: 1-4                            550\n",
       "├─Linear: 1-5                            510\n",
       "=================================================================\n",
       "Total params: 14,360\n",
       "Trainable params: 14,360\n",
       "Non-trainable params: 0\n",
       "================================================================="
      ]
     },
     "execution_count": 11,
     "metadata": {},
     "output_type": "execute_result"
    }
   ],
   "source": [
    "from torchinfo import summary\n",
    "summary(m2)\n"
   ]
  },
  {
   "cell_type": "code",
   "execution_count": 15,
   "metadata": {},
   "outputs": [
    {
     "name": "stdout",
     "output_type": "stream",
     "text": [
      "[target]=> tensor([6])\n",
      "torch.Size([1, 3, 32, 32])\n",
      "[cnn_layer out] torch.Size([1, 10, 14, 14])\n",
      "[cnn_layer2 out] torch.Size([1, 30, 4, 4])\n",
      "[cnn_layer3 out] torch.Size([1, 10, 1, 1])\n",
      "[view output] torch.Size([1, 10])\n",
      "[h_layer output] torch.Size([1, 50])\n",
      "[out_layer output] torch.Size([1, 10])\n",
      "pre => tensor([2])\n"
     ]
    }
   ],
   "source": [
    "## [테스트] Dataset & DataLoader\n",
    "for data, target in cifar10DL:\n",
    "    print(f'[target]=> {target}')\n",
    "    print(data.shape)\n",
    "    # 학습\n",
    "    pre = m2(data)\n",
    "    print(f'pre => {pre.argmax(dim=1)}')\n",
    "    break"
   ]
  },
  {
   "cell_type": "code",
   "execution_count": 13,
   "metadata": {},
   "outputs": [
    {
     "name": "stdout",
     "output_type": "stream",
     "text": [
      "[target]=> tensor([6])\n",
      "torch.Size([1, 3, 32, 32])\n",
      "[cnn_layer out] torch.Size([1, 10, 14, 14])\n",
      "[cnn_layer2 out] torch.Size([1, 30, 4, 4])\n",
      "[cnn_layer3 out] torch.Size([1, 10, 1, 1])\n",
      "[view output] torch.Size([1, 10])\n",
      "[h_layer output] torch.Size([1, 50])\n",
      "[out_layer output] torch.Size([1, 10])\n",
      "pre => tensor([2])\n"
     ]
    }
   ],
   "source": [
    "## [테스트] Dataset & DataLoader\n",
    "for data, target in cifar10DL:\n",
    "    print(f'[target]=> {target}')\n",
    "    print(data.shape)\n",
    "    # 학습\n",
    "    pre = m2(data)\n",
    "    print(f'pre => {pre.argmax(dim=1)}')\n",
    "    break"
   ]
  },
  {
   "cell_type": "code",
   "execution_count": 14,
   "metadata": {},
   "outputs": [
    {
     "name": "stdout",
     "output_type": "stream",
     "text": [
      "[in_layer.weight]---------\n",
      "torch.Size([10, 50, 3, 3])\n",
      "[in_layer.bias]---------\n",
      "torch.Size([10])\n",
      "[h_layer.weight]---------\n",
      "torch.Size([50, 2250])\n",
      "[h_layer.bias]---------\n",
      "torch.Size([50])\n",
      "[out_layer.weight]---------\n",
      "torch.Size([10, 50])\n",
      "[out_layer.bias]---------\n",
      "torch.Size([10])\n"
     ]
    }
   ],
   "source": [
    "for name, param in m.named_parameters():\n",
    "    print(f'[{name}]---------\\n{param.shape}')"
   ]
  },
  {
   "cell_type": "code",
   "execution_count": null,
   "metadata": {},
   "outputs": [],
   "source": []
  }
 ],
 "metadata": {
  "kernelspec": {
   "display_name": "TORCH_38",
   "language": "python",
   "name": "python3"
  },
  "language_info": {
   "codemirror_mode": {
    "name": "ipython",
    "version": 3
   },
   "file_extension": ".py",
   "mimetype": "text/x-python",
   "name": "python",
   "nbconvert_exporter": "python",
   "pygments_lexer": "ipython3",
   "version": "3.8.19"
  }
 },
 "nbformat": 4,
 "nbformat_minor": 2
}
