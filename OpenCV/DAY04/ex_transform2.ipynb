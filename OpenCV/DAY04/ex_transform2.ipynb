{
 "cells": [
  {
   "cell_type": "markdown",
   "metadata": {},
   "source": [
    "#### torchvision 제공 이미지 전처리 관련 기능\n",
    "- torchvision.transforms 서브 모듈\n",
    "    * 이미지 크기 조절\n",
    "    * 이미지 정규화\n",
    "    * 이미지 자르기\n",
    "    * 이미지 회전 등등 다양한 기능 제공\n",
    "    * 이미지 데이터 타입 ==> Pillow Image"
   ]
  },
  {
   "cell_type": "markdown",
   "metadata": {},
   "source": [
    "[1] 모듈로딩 및 데이터 설정"
   ]
  },
  {
   "cell_type": "code",
   "execution_count": 22,
   "metadata": {},
   "outputs": [],
   "source": [
    "import cv2                                   # ==> 이미지 데이터 ndarray\n",
    "from PIL import Image                        # ==> 이미지 데이터 JpegImage\n",
    "import numpy as np\n",
    "import matplotlib.pyplot as plt\n",
    "\n",
    "from torchvision.transforms   import v2         # pytorch 지원 이미지 변환 관련 모듈\n",
    "import torch"
   ]
  },
  {
   "cell_type": "code",
   "execution_count": 23,
   "metadata": {},
   "outputs": [],
   "source": [
    "## 데이터 관련 설정\n",
    "IMG_PATH='../image/'\n",
    "IMG_FILE = IMG_PATH+ 'eve.jpg'"
   ]
  },
  {
   "cell_type": "code",
   "execution_count": 24,
   "metadata": {},
   "outputs": [],
   "source": [
    "cv_img = cv2.imread(IMG_FILE)\n",
    "cv_img = cv2.cvtColor(cv_img, cv2.COLOR_BGR2RGB)   # BGR ==> RGB\n",
    "\n",
    "pil_img = Image.open(IMG_FILE)"
   ]
  },
  {
   "cell_type": "code",
   "execution_count": 25,
   "metadata": {},
   "outputs": [
    {
     "name": "stdout",
     "output_type": "stream",
     "text": [
      "type(cv_img) : <class 'numpy.ndarray'>\n",
      "type(pil_img) : <class 'PIL.JpegImagePlugin.JpegImageFile'>\n"
     ]
    }
   ],
   "source": [
    "print(f'type(cv_img) : {type(cv_img)}')\n",
    "print(f'type(pil_img) : {type(pil_img)}')"
   ]
  },
  {
   "cell_type": "markdown",
   "metadata": {},
   "source": [
    "- 인스턴스와 메서드 <hr>\n",
    "* 인스턴스(Instance) : 메모리(힙)에 존재하는(저장된) 데이터의 종류를 명시해서 부르는 용어\n",
    "    - 예) 정수인스턴스, vgg인스턴스, 사람인스턴스\n",
    "* 속성 : 클래스가 가지는 특징, 외형, 내형 성격\n",
    "* 메서드 : 클래스가 가지는 기능, 역활 ==> 문법 구조는 함수와 동일\n"
   ]
  },
  {
   "cell_type": "code",
   "execution_count": 26,
   "metadata": {},
   "outputs": [],
   "source": [
    "class A:\n",
    "\n",
    "    # 인스턴스를 생성해주는 메서드\n",
    "    def __init__(self, num, loc):\n",
    "        self.num=num  # 인스턴스 속성\n",
    "        self.loc=loc  # 인스턴스 속성\n",
    "\n",
    "    # A클래스로 생성된 인스턴스 전용의 메서드\n",
    "    def test(self, food):\n",
    "        print(self.loc, food)\n",
    "\n",
    "    # 연산자(+, -, *, /, //, %, **)기능과 연결된 매직 메서드\n",
    "    def __add__(self, other):\n",
    "        print('__add__()')\n",
    "        return self.num+other.num\n",
    "\n",
    "    def __mul__(self, other):\n",
    "        print('__mul__()')\n",
    "        return self.loc*other\n",
    "    \n",
    "    # 인스턴스 변수명으로 호출되는 매서드\n",
    "    def __call__(self, value) :\n",
    "        print('__call__()')"
   ]
  },
  {
   "cell_type": "code",
   "execution_count": 27,
   "metadata": {},
   "outputs": [
    {
     "name": "stdout",
     "output_type": "stream",
     "text": [
      "대구\n",
      "__add__()\n"
     ]
    },
    {
     "data": {
      "text/plain": [
       "110"
      ]
     },
     "execution_count": 27,
     "metadata": {},
     "output_type": "execute_result"
    }
   ],
   "source": [
    "# 인스턴스 생성 => A(10, '대구')\n",
    "a1 = A(10, '대구')\n",
    "print(a1.loc)\n",
    "a2 = A(100,'부산')\n",
    "\n",
    "a1+a2"
   ]
  },
  {
   "cell_type": "code",
   "execution_count": 28,
   "metadata": {},
   "outputs": [
    {
     "name": "stdout",
     "output_type": "stream",
     "text": [
      "__call__()\n"
     ]
    }
   ],
   "source": [
    "a1(50)\n"
   ]
  },
  {
   "cell_type": "code",
   "execution_count": 29,
   "metadata": {},
   "outputs": [
    {
     "name": "stdout",
     "output_type": "stream",
     "text": [
      "__mul__()\n"
     ]
    },
    {
     "data": {
      "text/plain": [
       "'대구대구대구'"
      ]
     },
     "execution_count": 29,
     "metadata": {},
     "output_type": "execute_result"
    }
   ],
   "source": [
    "a1*3"
   ]
  },
  {
   "cell_type": "markdown",
   "metadata": {},
   "source": [
    "- Resize 이미지 크기 변경"
   ]
  },
  {
   "cell_type": "code",
   "execution_count": 36,
   "metadata": {},
   "outputs": [
    {
     "name": "stdout",
     "output_type": "stream",
     "text": [
      "(678, 1011, 3)\n",
      "torch.Size([3, 100, 320])\n"
     ]
    }
   ],
   "source": [
    "#### v2.Resize() 클래스\n",
    "# img => tensor\n",
    "print(cv_img.shape)\n",
    "\n",
    "imgTS=v2.ToTensor()(cv_img)\n",
    "imgTS2=v2.Resize(size=(100,320), interpolation=v2.InterpolationMode.BILINEAR)(imgTS)\n",
    "\n",
    "print(imgTS2.shape)"
   ]
  },
  {
   "cell_type": "code",
   "execution_count": 39,
   "metadata": {},
   "outputs": [
    {
     "name": "stdout",
     "output_type": "stream",
     "text": [
      "(678, 1011, 3)\n",
      "torch.Size([3, 230, 120])\n"
     ]
    }
   ],
   "source": [
    "#### v2.Compose() 클래스 : 이미지에 진행할 여러가지 전처리를 하나로 묶음 처리 즉, pipeline 설정\n",
    "print(cv_img.shape)\n",
    "\n",
    "tras = v2.Compose(\n",
    "    [\n",
    "        v2.ToImage(),\n",
    "        v2.Resize(size=(230, 120), interpolation=v2.InterpolationMode.BILINEAR)\n",
    "    ]\n",
    ")\n",
    "imgTS2 = tras(cv_img)\n",
    "\n",
    "print(imgTS2.shape)"
   ]
  }
 ],
 "metadata": {
  "kernelspec": {
   "display_name": "TORCH_38",
   "language": "python",
   "name": "python3"
  },
  "language_info": {
   "codemirror_mode": {
    "name": "ipython",
    "version": 3
   },
   "file_extension": ".py",
   "mimetype": "text/x-python",
   "name": "python",
   "nbconvert_exporter": "python",
   "pygments_lexer": "ipython3",
   "version": "3.8.19"
  }
 },
 "nbformat": 4,
 "nbformat_minor": 2
}
