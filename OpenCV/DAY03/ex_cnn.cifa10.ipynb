{
 "cells": [
  {
   "cell_type": "markdown",
   "metadata": {},
   "source": [
    "#### CNN 이미지 분류 모델\n",
    "- 이미지 데이터셋 준비\n",
    "    * torchvision의 내장 데이터셋 활용 CIFIA10\n",
    "- 이미지 분류 모델\n",
    "    * 커스텀 CNN 구현"
   ]
  },
  {
   "cell_type": "markdown",
   "metadata": {},
   "source": [
    "[1] 모듈 로딩 및 데이터 준비"
   ]
  },
  {
   "cell_type": "code",
   "execution_count": 2,
   "metadata": {},
   "outputs": [],
   "source": [
    "## 모듈로딩\n",
    "import torch\n",
    "import torch.nn\n",
    "from torchvision.datasets import CIFAR10    # torchvison 내장 데이터셋 관련 모듈\n",
    "from torchvision.transforms import ToTensor  # torchvision 데이터 변환 관련 모듈"
   ]
  },
  {
   "cell_type": "code",
   "execution_count": 3,
   "metadata": {},
   "outputs": [
    {
     "name": "stdout",
     "output_type": "stream",
     "text": [
      "Using downloaded and verified file: ../data/cifar-10-python.tar.gz\n",
      "Extracting ../data/cifar-10-python.tar.gz to ../data/\n"
     ]
    }
   ],
   "source": [
    "## 데이터로딩\n",
    "DIR_PATH = '../data/'\n",
    "\n",
    "## Pytorch의 Dataset 형태 로딩\n",
    "cifarDS = CIFAR10(DIR_PATH, train=True, download=True,\n",
    "                  transform=ToTensor())"
   ]
  },
  {
   "cell_type": "code",
   "execution_count": 5,
   "metadata": {},
   "outputs": [
    {
     "data": {
      "text/plain": [
       "['airplane',\n",
       " 'automobile',\n",
       " 'bird',\n",
       " 'cat',\n",
       " 'deer',\n",
       " 'dog',\n",
       " 'frog',\n",
       " 'horse',\n",
       " 'ship',\n",
       " 'truck']"
      ]
     },
     "execution_count": 5,
     "metadata": {},
     "output_type": "execute_result"
    }
   ],
   "source": [
    "# Dataset의 속성 확인\n",
    "cifarDS.classes"
   ]
  },
  {
   "cell_type": "code",
   "execution_count": null,
   "metadata": {},
   "outputs": [],
   "source": []
  }
 ],
 "metadata": {
  "kernelspec": {
   "display_name": "TORCH_38",
   "language": "python",
   "name": "python3"
  },
  "language_info": {
   "codemirror_mode": {
    "name": "ipython",
    "version": 3
   },
   "file_extension": ".py",
   "mimetype": "text/x-python",
   "name": "python",
   "nbconvert_exporter": "python",
   "pygments_lexer": "ipython3",
   "version": "3.8.19"
  }
 },
 "nbformat": 4,
 "nbformat_minor": 2
}
