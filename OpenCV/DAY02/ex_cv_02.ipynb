{
 "cells": [
  {
   "cell_type": "markdown",
   "metadata": {},
   "source": [
    "#### Video 처리\n",
    "- VideoCapture(동영상 또는 카메라번호)함수"
   ]
  },
  {
   "cell_type": "code",
   "execution_count": 1,
   "metadata": {},
   "outputs": [],
   "source": [
    "## 모듈 로딩\n",
    "import cv2\n",
    "import numpy as np"
   ]
  },
  {
   "cell_type": "code",
   "execution_count": 2,
   "metadata": {},
   "outputs": [],
   "source": [
    "## 데이터 및 디바이스 설정\n",
    "DIR_PATH = '../image/'\n",
    "\n",
    "CAM_DEVICE = 0"
   ]
  },
  {
   "cell_type": "markdown",
   "metadata": {},
   "source": [
    "- [카메라 관련 영상 처리]"
   ]
  },
  {
   "cell_type": "code",
   "execution_count": 22,
   "metadata": {},
   "outputs": [
    {
     "name": "stdout",
     "output_type": "stream",
     "text": [
      "2024 9 25\n"
     ]
    },
    {
     "data": {
      "text/plain": [
       "'capture_24_09_25_10_24_09.jpg'"
      ]
     },
     "execution_count": 22,
     "metadata": {},
     "output_type": "execute_result"
    }
   ],
   "source": [
    "import time\n",
    "#print(time.ctime())\n",
    "#print(time.gmtime())\n",
    "\n",
    "# 현재 날짜시간 정보 인스턴스\n",
    "cur_time = time.localtime()\n",
    "\n",
    "print(cur_time.tm_year, cur_time.tm_mon, cur_time.tm_mday)\n",
    "\n",
    "FILE_NAME = time.strftime(\"%y_%m_%d_%H_%M_%S\", cur_time)\n",
    "SAVE_FILE = f'capture_{FILE_NAME}.jpg'\n",
    "SAVE_FILE"
   ]
  },
  {
   "cell_type": "code",
   "execution_count": 23,
   "metadata": {},
   "outputs": [
    {
     "name": "stdout",
     "output_type": "stream",
     "text": [
      "영상 재생 정지\n"
     ]
    }
   ],
   "source": [
    "# 카메라와 연결 여부 체크\n",
    "camera=cv2.VideoCapture(CAM_DEVICE) # 카메라 객채를줌\n",
    "\n",
    "if camera.isOpened():\n",
    "    while True:\n",
    "        ret, img=camera.read()\n",
    "        if ret:\n",
    "            cv2.imshow(\"VIDEO\", img)\n",
    "            if cv2.waitKey(10) != -1  :    # 1000 = 1초동안 기다리기\n",
    "                print(\"영상 재생 정지\")\n",
    "                cv2.imwrite(DIR_PATH+SAVE_FILE, img) # 경로, 데이터\n",
    "                cv2.destroyAllWindows()\n",
    "                break\n",
    "        else:\n",
    "            print(\"영상 읽기 실패\")\n",
    "            break\n",
    "else:\n",
    "    print(\"카메라 연결 여부 체크 바랍니다.\")\n"
   ]
  }
 ],
 "metadata": {
  "kernelspec": {
   "display_name": "TORCH_38",
   "language": "python",
   "name": "python3"
  },
  "language_info": {
   "codemirror_mode": {
    "name": "ipython",
    "version": 3
   },
   "file_extension": ".py",
   "mimetype": "text/x-python",
   "name": "python",
   "nbconvert_exporter": "python",
   "pygments_lexer": "ipython3",
   "version": "3.8.19"
  }
 },
 "nbformat": 4,
 "nbformat_minor": 2
}
