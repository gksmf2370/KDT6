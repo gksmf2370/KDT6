{
 "cells": [
  {
   "cell_type": "markdown",
   "metadata": {},
   "source": [
    "##### Torchmetrics 패키지\n",
    "- pytorch에서 모델 성능평가 기능 제공 패키지  \n",
    "- 추가 설치 필요  \n",
    "    - pip : pip install torchmetrics  \n",
    "    - conda : conda install -c conda- forge torchmetrcis  \n",
    "- 사용법  \n",
    "    - 클래스 방식 : 인스턴스 생성 후 사용   \n",
    "    - 함수 방식 : 바로 사용    "
   ]
  },
  {
   "cell_type": "markdown",
   "metadata": {},
   "source": [
    "- [1] 회귀(Regression) 성능지표"
   ]
  },
  {
   "cell_type": "code",
   "execution_count": 21,
   "metadata": {},
   "outputs": [],
   "source": [
    "# 모듈 로딩\n",
    "from torchmetrics.functional.regression import r2_score\n",
    "from torchmetrics.regression import R2Score\n",
    "import torch\n",
    "from torch import tensor"
   ]
  },
  {
   "cell_type": "code",
   "execution_count": 8,
   "metadata": {},
   "outputs": [
    {
     "data": {
      "text/plain": [
       "tensor(0.9486)"
      ]
     },
     "execution_count": 8,
     "metadata": {},
     "output_type": "execute_result"
    }
   ],
   "source": [
    "# 클래스 방식 ---------------------------\n",
    "# 데이터\n",
    "target = torch.tensor([3,-0.5,2,7])\n",
    "preds = torch.tensor([2.5, 0.0, 2, 8])\n",
    "\n",
    "# 성능평가 => R2Score : 0~1(좋음) 정답에 얼마나 근사하게 표현했는가\n",
    "r2score=R2Score()\n",
    "r2score(preds, target)"
   ]
  },
  {
   "cell_type": "code",
   "execution_count": 9,
   "metadata": {},
   "outputs": [
    {
     "data": {
      "text/plain": [
       "tensor(0.9486)"
      ]
     },
     "execution_count": 9,
     "metadata": {},
     "output_type": "execute_result"
    }
   ],
   "source": [
    "# 함수 방식 --------------------------------------\n",
    "# 데이터\n",
    "target = torch.tensor([3,-0.5,2,7])\n",
    "preds = torch.tensor([2.5, 0.0, 2, 8])\n",
    "\n",
    "r2_score(preds, target)"
   ]
  },
  {
   "cell_type": "code",
   "execution_count": 10,
   "metadata": {},
   "outputs": [],
   "source": [
    "## 상속을 이용\n",
    "class MyR2(R2Score):\n",
    "    pass"
   ]
  },
  {
   "cell_type": "code",
   "execution_count": 11,
   "metadata": {},
   "outputs": [
    {
     "data": {
      "text/plain": [
       "tensor(0.9486)"
      ]
     },
     "execution_count": 11,
     "metadata": {},
     "output_type": "execute_result"
    }
   ],
   "source": [
    "gg=MyR2()\n",
    "gg(preds, target)"
   ]
  },
  {
   "cell_type": "code",
   "execution_count": 13,
   "metadata": {},
   "outputs": [],
   "source": [
    "from torchmetrics.functional.regression import mean_squared_error, mean_absolute_error\n",
    "from torchmetrics.regression import MeanSquaredError, MeanAbsoluteError"
   ]
  },
  {
   "cell_type": "code",
   "execution_count": 14,
   "metadata": {},
   "outputs": [
    {
     "name": "stdout",
     "output_type": "stream",
     "text": [
      "tensor(0.3750)\n",
      "tensor(0.3750)\n"
     ]
    }
   ],
   "source": [
    "preds = torch.tensor([3,-0.5,2,7])\n",
    "target = torch.tensor([2.5, 0.0, 2, 8])\n",
    "\n",
    "# 오차계산\n",
    "mean_squared_error = MeanSquaredError()\n",
    "print(mean_squared_error(preds, target))\n",
    "print(MeanSquaredError()(preds, target))"
   ]
  },
  {
   "cell_type": "code",
   "execution_count": 15,
   "metadata": {},
   "outputs": [
    {
     "name": "stdout",
     "output_type": "stream",
     "text": [
      "tensor(1.0625)\n",
      "tensor(1.0625)\n"
     ]
    }
   ],
   "source": [
    "preds = torch.tensor([4,-0.5,2,7])\n",
    "target = torch.tensor([2.5, 0.5, 2, 8])\n",
    "\n",
    "# 오차계산\n",
    "mean_absolute_error = MeanAbsoluteError()\n",
    "print(mean_squared_error(preds, target))\n",
    "print(MeanSquaredError()(preds, target))"
   ]
  },
  {
   "cell_type": "markdown",
   "metadata": {},
   "source": [
    "- 분류 성능평가지표\n",
    "    * Accuracy\n",
    "    * Precision\n",
    "    * Recall\n",
    "    * F1-Score\n",
    "    * ConfusionMatrix\n",
    "    * ROC-AUC => 의료분야 / 2진 분류"
   ]
  },
  {
   "cell_type": "code",
   "execution_count": 19,
   "metadata": {},
   "outputs": [],
   "source": [
    "# 모듈로딩\n",
    "from torchmetrics.classification import F1Score, Accuracy, Precision, Recall\n",
    "from torchmetrics.functional.classification import f1_score, accuracy, precision, recall"
   ]
  },
  {
   "cell_type": "code",
   "execution_count": 30,
   "metadata": {},
   "outputs": [
    {
     "name": "stdout",
     "output_type": "stream",
     "text": [
      "tensor(0.8571)\n"
     ]
    }
   ],
   "source": [
    "# 2진분류 => task=\"binary\"\n",
    "from torchmetrics.classification import BinaryF1Score\n",
    "\n",
    "target = torch.tensor([0, 1, 1, 0, 1, 1])\n",
    "preds = torch.tensor([0, 1, 1, 0, 0, 1])\n",
    "f1=F1Score(task=\"binary\")\n",
    "#print(f1(preds, target))\n",
    "\n",
    "print(BinaryF1Score()(preds, target))"
   ]
  },
  {
   "cell_type": "code",
   "execution_count": 32,
   "metadata": {},
   "outputs": [
    {
     "name": "stdout",
     "output_type": "stream",
     "text": [
      "tensor(0.2667)\n",
      "tensor(0.2667)\n"
     ]
    }
   ],
   "source": [
    "# 다중 분류 => task=\"multiclass\"\n",
    "from torchmetrics.classification import MulticlassF1Score\n",
    "\n",
    "target = torch.tensor([0, 1, 2, 0, 1, 2])\n",
    "preds = torch.tensor([0, 2, 1, 0, 0, 1])\n",
    "\n",
    "# F1Score => average='micro'\n",
    "f1=F1Score(task=\"multiclass\", num_classes=3, average='macro')\n",
    "print(f1(preds, target))\n",
    "\n",
    "# MulticlassF1Score => average='macro'\n",
    "print(MulticlassF1Score(num_classes=3)(preds, target))"
   ]
  },
  {
   "cell_type": "code",
   "execution_count": 36,
   "metadata": {},
   "outputs": [
    {
     "name": "stdout",
     "output_type": "stream",
     "text": [
      "tensor(0.6667)\n",
      "tensor(0.6667)\n"
     ]
    }
   ],
   "source": [
    "# Precison\n",
    "# 2진분류 => task=\"binary\"\n",
    "from torchmetrics.classification import BinaryPrecision\n",
    "\n",
    "target = torch.tensor([0, 1, 1, 0, 1, 0])\n",
    "preds = torch.tensor([0, 1, 1, 0, 0, 1])\n",
    "f1=Precision(task=\"binary\")\n",
    "print(f1(preds, target))\n",
    "\n",
    "print(BinaryPrecision(threshold=0.1)(preds, target))"
   ]
  },
  {
   "cell_type": "code",
   "execution_count": 38,
   "metadata": {},
   "outputs": [
    {
     "name": "stdout",
     "output_type": "stream",
     "text": [
      "tensor(0.2222)\n",
      "tensor(0.2222)\n"
     ]
    }
   ],
   "source": [
    "# 다중 분류 => task=\"multiclass\"\n",
    "from torchmetrics.classification import MulticlassPrecision\n",
    "\n",
    "target = torch.tensor([0, 1, 2, 0, 1, 2])\n",
    "preds = torch.tensor([0, 2, 1, 0, 0, 1])\n",
    "\n",
    "# F1Score => average='micro'\n",
    "f1=Precision(task=\"multiclass\", num_classes=3, average='macro')\n",
    "print(f1(preds, target))\n",
    "\n",
    "# MulticlassF1Score => average='macro'\n",
    "print(MulticlassPrecision(num_classes=3)(preds, target))"
   ]
  }
 ],
 "metadata": {
  "kernelspec": {
   "display_name": "TORCH_38",
   "language": "python",
   "name": "python3"
  },
  "language_info": {
   "codemirror_mode": {
    "name": "ipython",
    "version": 3
   },
   "file_extension": ".py",
   "mimetype": "text/x-python",
   "name": "python",
   "nbconvert_exporter": "python",
   "pygments_lexer": "ipython3",
   "version": "3.8.19"
  }
 },
 "nbformat": 4,
 "nbformat_minor": 2
}
