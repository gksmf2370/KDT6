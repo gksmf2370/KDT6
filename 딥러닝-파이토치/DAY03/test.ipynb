{
 "cells": [
  {
   "cell_type": "code",
   "execution_count": 2,
   "metadata": {},
   "outputs": [
    {
     "name": "stderr",
     "output_type": "stream",
     "text": [
      "Setting up a new session...\n"
     ]
    },
    {
     "data": {
      "text/plain": [
       "'window_3d522ad6ca0de8'"
      ]
     },
     "execution_count": 2,
     "metadata": {},
     "output_type": "execute_result"
    }
   ],
   "source": [
    "import torch\n",
    "from visdom import Visdom\n",
    "\n",
    "# Text\n",
    "viz = Visdom()\n",
    "viz.text(\"Hello, world!\", env=\"main\")\n",
    "\n",
    "# Image\n",
    "a=torch.randn(3,200,200)\n",
    "viz.image(a)\n",
    "\n",
    "# Images\n",
    "viz.images(torch.Tensor(3,3,28,28))"
   ]
  }
 ],
 "metadata": {
  "kernelspec": {
   "display_name": "TORCH_38",
   "language": "python",
   "name": "python3"
  },
  "language_info": {
   "codemirror_mode": {
    "name": "ipython",
    "version": 3
   },
   "file_extension": ".py",
   "mimetype": "text/x-python",
   "name": "python",
   "nbconvert_exporter": "python",
   "pygments_lexer": "ipython3",
   "version": "3.8.19"
  }
 },
 "nbformat": 4,
 "nbformat_minor": 2
}
