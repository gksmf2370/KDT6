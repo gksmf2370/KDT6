{
 "cells": [
  {
   "cell_type": "markdown",
   "metadata": {},
   "source": [
    "#### 한국어 형태소 분석\n",
    "- Konlpy 패키지 활용\n",
    "    * 내부에 5가지 형태소 분석 패키지 포함\n",
    "    * 5가지 형태소 분석기 사용법 동일. 쉬움"
   ]
  },
  {
   "cell_type": "markdown",
   "metadata": {},
   "source": [
    "[1] 모듈 로딩"
   ]
  },
  {
   "cell_type": "code",
   "execution_count": 1,
   "metadata": {},
   "outputs": [],
   "source": [
    "# 모든걸 가져옴\n",
    "from konlpy.tag import *"
   ]
  },
  {
   "cell_type": "markdown",
   "metadata": {},
   "source": [
    "[2] 다양한 형태소 분석기 활용"
   ]
  },
  {
   "cell_type": "code",
   "execution_count": 3,
   "metadata": {},
   "outputs": [],
   "source": [
    "#### 한나눔 형태소 분석기\n",
    "han = Hannanum()\n",
    "\n",
    "text = \"오늘은 금요일이에오, 빨리 집으로 가죠\""
   ]
  },
  {
   "cell_type": "code",
   "execution_count": 4,
   "metadata": {},
   "outputs": [
    {
     "name": "stdout",
     "output_type": "stream",
     "text": [
      "['오늘', '은', '금요일이', '에이', '오', ',', '빨리', '집', '으로', '가', '죠']\n"
     ]
    }
   ],
   "source": [
    "### 형태소 분리\n",
    "result = han.morphs(text)\n",
    "\n",
    "print(result)"
   ]
  },
  {
   "cell_type": "code",
   "execution_count": 5,
   "metadata": {},
   "outputs": [
    {
     "name": "stdout",
     "output_type": "stream",
     "text": [
      "['오늘', '금요일이', '집']\n"
     ]
    }
   ],
   "source": [
    "### 명사만 분리\n",
    "result = han.nouns(text)\n",
    "\n",
    "print(result)"
   ]
  },
  {
   "cell_type": "code",
   "execution_count": 6,
   "metadata": {},
   "outputs": [
    {
     "name": "stdout",
     "output_type": "stream",
     "text": [
      "[('오늘', 'N'), ('은', 'J'), ('금요일이', 'N'), ('에이', 'J'), ('오', 'E'), (',', 'S'), ('빨리', 'M'), ('집', 'N'), ('으로', 'J'), ('가', 'P'), ('죠', 'E')]\n"
     ]
    }
   ],
   "source": [
    "### 품사태깅 추출 분리 => 형태소 분리 후 품사 태깅 처리\n",
    "result = han.pos(text)\n",
    "\n",
    "print(result)"
   ]
  },
  {
   "cell_type": "code",
   "execution_count": 7,
   "metadata": {},
   "outputs": [],
   "source": [
    "### 꼬꼬마 형태소 분석기\n",
    "kkma = Kkma()"
   ]
  },
  {
   "cell_type": "code",
   "execution_count": 8,
   "metadata": {},
   "outputs": [
    {
     "name": "stdout",
     "output_type": "stream",
     "text": [
      "['오늘', '은', '금요일', '이에', '오', ',', '빨리', '집', '으로', '가', '죠']\n"
     ]
    }
   ],
   "source": [
    "### 형태소 분석\n",
    "print( kkma.morphs(text))"
   ]
  },
  {
   "cell_type": "code",
   "execution_count": 9,
   "metadata": {},
   "outputs": [
    {
     "name": "stdout",
     "output_type": "stream",
     "text": [
      "['오늘', '금요일', '오', '집']\n"
     ]
    }
   ],
   "source": [
    "### 명사만 추출\n",
    "print( kkma.nouns(text))"
   ]
  },
  {
   "cell_type": "code",
   "execution_count": 10,
   "metadata": {},
   "outputs": [
    {
     "name": "stdout",
     "output_type": "stream",
     "text": [
      "[('오늘', 'NNG'), ('은', 'JX'), ('금요일', 'NNG'), ('이에', 'MAG'), ('오', 'NNG'), (',', 'SP'), ('빨리', 'MAG'), ('집', 'NNG'), ('으로', 'JKM'), ('가', 'VV'), ('죠', 'EFN')]\n"
     ]
    }
   ],
   "source": [
    "### 품사 태깅 후 분리\n",
    "print( kkma.pos(text))"
   ]
  },
  {
   "cell_type": "code",
   "execution_count": 11,
   "metadata": {},
   "outputs": [],
   "source": [
    "### 코모란도 형태소 분석기\n",
    "komo = Komoran()"
   ]
  },
  {
   "cell_type": "code",
   "execution_count": 12,
   "metadata": {},
   "outputs": [
    {
     "name": "stdout",
     "output_type": "stream",
     "text": [
      "['오늘', '은', '금요일', '이', '에', '오', ',', '빨리', '집', '으로', '가', '죠']\n"
     ]
    }
   ],
   "source": [
    "### 형태소 분석\n",
    "print( komo.morphs(text))"
   ]
  },
  {
   "cell_type": "code",
   "execution_count": 13,
   "metadata": {},
   "outputs": [
    {
     "name": "stdout",
     "output_type": "stream",
     "text": [
      "['오늘', '금요일', '이', '집']\n"
     ]
    }
   ],
   "source": [
    "### 명사만 추출\n",
    "print( komo.nouns(text))"
   ]
  },
  {
   "cell_type": "code",
   "execution_count": 14,
   "metadata": {},
   "outputs": [
    {
     "name": "stdout",
     "output_type": "stream",
     "text": [
      "[('오늘', 'NNG'), ('은', 'JX'), ('금요일', 'NNP'), ('이', 'NNP'), ('에', 'JKB'), ('오', 'VV'), (',', 'SP'), ('빨리', 'MAG'), ('집', 'NNG'), ('으로', 'JKB'), ('가', 'VV'), ('죠', 'EC')]\n"
     ]
    }
   ],
   "source": [
    "### 품사 태깅 후 분리\n",
    "print( komo.pos(text))"
   ]
  },
  {
   "cell_type": "code",
   "execution_count": 15,
   "metadata": {},
   "outputs": [],
   "source": [
    "### OKT 형태소 분석\n",
    "okt =Okt()"
   ]
  },
  {
   "cell_type": "code",
   "execution_count": 16,
   "metadata": {},
   "outputs": [
    {
     "name": "stdout",
     "output_type": "stream",
     "text": [
      "['오늘', '은', '금요일', '이', '에', '오', ',', '빨리', '집', '으로', '가죠']\n"
     ]
    }
   ],
   "source": [
    "### 형태소 분석\n",
    "print( okt.morphs(text))"
   ]
  },
  {
   "cell_type": "code",
   "execution_count": 17,
   "metadata": {},
   "outputs": [
    {
     "name": "stdout",
     "output_type": "stream",
     "text": [
      "['오늘', '금요일', '오', '집']\n"
     ]
    }
   ],
   "source": [
    "### 명사만 추출\n",
    "print( okt.nouns(text))"
   ]
  },
  {
   "cell_type": "code",
   "execution_count": 18,
   "metadata": {},
   "outputs": [
    {
     "name": "stdout",
     "output_type": "stream",
     "text": [
      "[('오늘', 'Noun'), ('은', 'Josa'), ('금요일', 'Noun'), ('이', 'Suffix'), ('에', 'Josa'), ('오', 'Noun'), (',', 'Punctuation'), ('빨리', 'Adverb'), ('집', 'Noun'), ('으로', 'Josa'), ('가죠', 'Verb')]\n"
     ]
    }
   ],
   "source": [
    "### 품사 태깅 후 분리\n",
    "print( okt.pos(text))"
   ]
  }
 ],
 "metadata": {
  "kernelspec": {
   "display_name": "TEXT_018",
   "language": "python",
   "name": "python3"
  },
  "language_info": {
   "codemirror_mode": {
    "name": "ipython",
    "version": 3
   },
   "file_extension": ".py",
   "mimetype": "text/x-python",
   "name": "python",
   "nbconvert_exporter": "python",
   "pygments_lexer": "ipython3",
   "version": "3.8.19"
  }
 },
 "nbformat": 4,
 "nbformat_minor": 2
}
