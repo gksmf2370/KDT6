{
 "cells": [
  {
   "cell_type": "code",
   "execution_count": 38,
   "metadata": {},
   "outputs": [],
   "source": [
    "# 단어 사전 생성\n",
    "train_data = 'you need to know how to code'"
   ]
  },
  {
   "cell_type": "code",
   "execution_count": 39,
   "metadata": {},
   "outputs": [],
   "source": [
    "\n",
    "# 중복을 제거한 단어들의 집합인 단어 집합 생성\n",
    "word_set = set(train_data.split())"
   ]
  },
  {
   "cell_type": "code",
   "execution_count": 40,
   "metadata": {},
   "outputs": [],
   "source": [
    "# 단어 집합의 각 단어에 고유한 정수 맵핑\n",
    "vocab = {word: i+2 for i, word in enumerate(word_set)}\n",
    "vocab['<pad>'] = 0\n",
    "vocab['<unk>'] = 1"
   ]
  },
  {
   "cell_type": "code",
   "execution_count": 41,
   "metadata": {},
   "outputs": [
    {
     "name": "stdout",
     "output_type": "stream",
     "text": [
      "{'you': 2, 'need': 3, 'to': 4, 'code': 5, 'how': 6, 'know': 7, '<pad>': 0, '<unk>': 1}\n"
     ]
    }
   ],
   "source": [
    "print(vocab)"
   ]
  },
  {
   "cell_type": "code",
   "execution_count": 42,
   "metadata": {},
   "outputs": [],
   "source": [
    "import torch\n",
    "import torch.nn as nn"
   ]
  },
  {
   "cell_type": "code",
   "execution_count": 43,
   "metadata": {},
   "outputs": [],
   "source": [
    "embedding_table = torch.FloatTensor([\n",
    "    [0.0, 0.0, 0.0],\n",
    "    [0.0, 0.0, 0.0],\n",
    "    [0.2, 0.9, 0.3],\n",
    "    [0.1, 0.5, 0.7],\n",
    "    [0.2, 0.1, 0.8],\n",
    "    [0.4, 0.1, 0.1],\n",
    "    [0.1, 0.8, 0.9],\n",
    "    [0.6, 0.1, 0.1]\n",
    "    ]\n",
    ")\n"
   ]
  },
  {
   "cell_type": "code",
   "execution_count": 44,
   "metadata": {},
   "outputs": [
    {
     "name": "stdout",
     "output_type": "stream",
     "text": [
      "idxes: tensor([2, 3, 4, 1])\n",
      "tensor([[0.2000, 0.9000, 0.3000],\n",
      "        [0.1000, 0.5000, 0.7000],\n",
      "        [0.2000, 0.1000, 0.8000],\n",
      "        [0.0000, 0.0000, 0.0000]])\n"
     ]
    }
   ],
   "source": [
    "# 토큰 정수 ==> 임베딩 벡터 변환\n",
    "sample = 'you need to run'.split()\n",
    "idxes=[]\n",
    "\n",
    "# 각 단어를 정수로 변환\n",
    "for word in sample:\n",
    "    try:\n",
    "        idxes.append(vocab[word])\n",
    "    # 단어 집합에 없는 단어일 경우 <unk> 대체\n",
    "    except KeyError:\n",
    "        idxes.append(vocab['<unk>'])\n",
    "\n",
    "# 텐서화\n",
    "idxes = torch.LongTensor(idxes)\n",
    "print(f'idxes: {idxes}')\n",
    "\n",
    "# 각 정수를 인덱스로 임베딩 테이블에서 값 가져오기\n",
    "lookup_result = embedding_table[idxes, :]\n",
    "print(lookup_result)"
   ]
  },
  {
   "cell_type": "code",
   "execution_count": 45,
   "metadata": {},
   "outputs": [],
   "source": [
    "# 임베딩 레이어\n",
    "embedding_layer = nn.Embedding(num_embeddings=len(vocab), embedding_dim=3, padding_idx=0)"
   ]
  },
  {
   "cell_type": "code",
   "execution_count": 46,
   "metadata": {},
   "outputs": [
    {
     "name": "stdout",
     "output_type": "stream",
     "text": [
      "Parameter containing:\n",
      "tensor([[ 0.0000,  0.0000,  0.0000],\n",
      "        [-0.0201, -0.3434,  0.1323],\n",
      "        [-0.0424,  0.5709, -1.2399],\n",
      "        [-1.4727, -0.6689, -0.3770],\n",
      "        [-1.7054, -0.7933,  0.4672],\n",
      "        [ 0.4355,  1.6080,  0.7224],\n",
      "        [-0.4533,  0.8055, -0.7461],\n",
      "        [-1.5352, -0.3015,  1.5125]], requires_grad=True)\n"
     ]
    }
   ],
   "source": [
    "print(embedding_layer.weight)"
   ]
  },
  {
   "cell_type": "code",
   "execution_count": null,
   "metadata": {},
   "outputs": [],
   "source": []
  }
 ],
 "metadata": {
  "kernelspec": {
   "display_name": "TEXT_018",
   "language": "python",
   "name": "python3"
  },
  "language_info": {
   "codemirror_mode": {
    "name": "ipython",
    "version": 3
   },
   "file_extension": ".py",
   "mimetype": "text/x-python",
   "name": "python",
   "nbconvert_exporter": "python",
   "pygments_lexer": "ipython3",
   "version": "3.8.19"
  }
 },
 "nbformat": 4,
 "nbformat_minor": 2
}
