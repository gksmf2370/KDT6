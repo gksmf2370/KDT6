{
 "cells": [
  {
   "cell_type": "markdown",
   "metadata": {},
   "source": [
    "## 문장 분류 모델\n",
    "- 문장을 분류하는 모델"
   ]
  },
  {
   "cell_type": "code",
   "execution_count": 1,
   "metadata": {},
   "outputs": [],
   "source": [
    "from torch import nn"
   ]
  },
  {
   "cell_type": "code",
   "execution_count": 2,
   "metadata": {},
   "outputs": [],
   "source": [
    "class SentenceClassifier(nn.Module):\n",
    "    def __init__(self, n_vocab, hidden_dim, embedding_dim, n_layers, dropout=0.5, bidirectional=True, model_type=\"lstm\"):\n",
    "        super().__init__()  # 부모클래스 상속\n",
    "\n",
    "        self.embedding = nn.Embedding(num_embeddings=n_vocab, embedding_dim=embedding_dim, padding_idx=0)\n",
    "\n",
    "        # rnn모델 일 경우\n",
    "        if model_type == 'rnn':\n",
    "            self.model = nn.RNN(\n",
    "                input_size=embedding_dim, hidden_size=hidden_dim, num_layers=n_layers, bidirectional=bidirectional, dropout=dropout, batch_first=True\n",
    "            )\n",
    "        # lstm모델 일 경우\n",
    "        elif model_type == 'lstm':\n",
    "            self.model = nn.LSTM(\n",
    "                input_size=embedding_dim, hidden_size=hidden_dim, num_layers=n_layers, bidirectional=bidirectional, dropout=dropout, batch_first=True\n",
    "            )\n",
    "\n",
    "        # bidirectional은 양방향성을 의미하는 파라미터\n",
    "        if bidirectional:\n",
    "            self.classifier = nn.Linear(hidden_dim * 2,1)   # 양방향일때 타임스탭에서 양방향의 정보(순방향,역방향)의 출력들을 결합하여 분류기에 전달\n",
    "        else:\n",
    "            self.classifier = nn.Linear(hidden_dim, 1)\n",
    "        self.dropout = nn.Dropout(dropout)\n",
    "\n",
    "    def forward(self, inputs):\n",
    "        embeddings = self.embedding(inputs)\n",
    "        output, _ = self.model(embeddings) \n",
    "        last_output = output[:, -1, :]\n",
    "        last_output = self.dropout(last_output)\n",
    "        logits = self.classifier(last_output)\n",
    "        return logits"
   ]
  },
  {
   "cell_type": "markdown",
   "metadata": {},
   "source": [
    "[1] 모듈로딩 및 데이터셋 불러오기"
   ]
  },
  {
   "cell_type": "code",
   "execution_count": 3,
   "metadata": {},
   "outputs": [],
   "source": [
    "import pandas as pd\n",
    "from Korpora import Korpora"
   ]
  },
  {
   "cell_type": "code",
   "execution_count": 4,
   "metadata": {},
   "outputs": [
    {
     "name": "stdout",
     "output_type": "stream",
     "text": [
      "\n",
      "    Korpora 는 다른 분들이 연구 목적으로 공유해주신 말뭉치들을\n",
      "    손쉽게 다운로드, 사용할 수 있는 기능만을 제공합니다.\n",
      "\n",
      "    말뭉치들을 공유해 주신 분들에게 감사드리며, 각 말뭉치 별 설명과 라이센스를 공유 드립니다.\n",
      "    해당 말뭉치에 대해 자세히 알고 싶으신 분은 아래의 description 을 참고,\n",
      "    해당 말뭉치를 연구/상용의 목적으로 이용하실 때에는 아래의 라이센스를 참고해 주시기 바랍니다.\n",
      "\n",
      "    # Description\n",
      "    Author : e9t@github\n",
      "    Repository : https://github.com/e9t/nsmc\n",
      "    References : www.lucypark.kr/docs/2015-pyconkr/#39\n",
      "\n",
      "    Naver sentiment movie corpus v1.0\n",
      "    This is a movie review dataset in the Korean language.\n",
      "    Reviews were scraped from Naver Movies.\n",
      "\n",
      "    The dataset construction is based on the method noted in\n",
      "    [Large movie review dataset][^1] from Maas et al., 2011.\n",
      "\n",
      "    [^1]: http://ai.stanford.edu/~amaas/data/sentiment/\n",
      "\n",
      "    # License\n",
      "    CC0 1.0 Universal (CC0 1.0) Public Domain Dedication\n",
      "    Details in https://creativecommons.org/publicdomain/zero/1.0/\n",
      "\n",
      "[Korpora] Corpus `nsmc` is already installed at C:\\Users\\user\\Korpora\\nsmc\\ratings_train.txt\n",
      "[Korpora] Corpus `nsmc` is already installed at C:\\Users\\user\\Korpora\\nsmc\\ratings_test.txt\n"
     ]
    }
   ],
   "source": [
    "corpus = Korpora.load(\"nsmc\")\n",
    "corpus_df = pd.DataFrame(corpus.test)"
   ]
  },
  {
   "cell_type": "code",
   "execution_count": 5,
   "metadata": {},
   "outputs": [
    {
     "name": "stdout",
     "output_type": "stream",
     "text": [
      "|       | text                                                                                     |   label |\n",
      "|------:|:-----------------------------------------------------------------------------------------|--------:|\n",
      "| 33553 | 모든 편견을 날려 버리는 가슴 따뜻한 영화. 로버트 드 니로, 필립 세이모어 호프만 영원하라. |       1 |\n",
      "|  9427 | 무한 리메이크의 소재. 감독의 역량은 항상 그 자리에...                                    |       0 |\n",
      "|   199 | 신날 것 없는 애니.                                                                       |       0 |\n",
      "| 12447 | 잔잔 격동                                                                                |       1 |\n",
      "| 39489 | 오랜만에 찾은 주말의 명화의 보석                                                         |       1 |\n",
      "Training Data Size :  45000\n",
      "Testing Data Size :  5000\n"
     ]
    }
   ],
   "source": [
    "# train, test 나누기\n",
    "train = corpus_df.sample(frac=0.9, random_state=42) # 랜덤으로 90를 선택\n",
    "test = corpus_df.drop(train.index)                  # 트레인을 삭제해서 비율을 train : test = 9: 1\n",
    "\n",
    "print(train.head(5).to_markdown())\n",
    "print('Training Data Size : ', len(train))\n",
    "print(\"Testing Data Size : \", len(test))"
   ]
  },
  {
   "cell_type": "markdown",
   "metadata": {},
   "source": [
    "[2] 데이터 전처리"
   ]
  },
  {
   "cell_type": "code",
   "execution_count": 6,
   "metadata": {},
   "outputs": [],
   "source": [
    "# 데이터 토큰화 및 단어 사전 구축\n",
    "from konlpy.tag import Okt\n",
    "from collections import Counter\n",
    "\n",
    "## 단어사전을 만드는 함수\n",
    "def build_vocab(corpus, n_vocab, special_tokens): #n_vocab은 최대 사용할 단어개수\n",
    "    counter = Counter()\n",
    "    for tokens in corpus:\n",
    "        counter.update(tokens)\n",
    "    vocab = special_tokens\n",
    "    for token, count in counter.most_common(n_vocab): # 가장 많이 등장한 순서대로 상위 n_vocab개의 단어 반환\n",
    "        vocab.append(token)\n",
    "    return vocab\n",
    "\n"
   ]
  },
  {
   "cell_type": "code",
   "execution_count": 7,
   "metadata": {},
   "outputs": [
    {
     "name": "stdout",
     "output_type": "stream",
     "text": [
      "['<pad>', '<unk>', '.', '이', '영화', '의', '..', '가', '에', '...']\n",
      "5002\n"
     ]
    }
   ],
   "source": [
    "tokenizer = Okt()\n",
    "train_tokens = [tokenizer.morphs(review) for review in train.text]   # 형태소 단위로 나눠서 리스트에 저장\n",
    "test_tokens = [tokenizer.morphs(review) for review in test.text]\n",
    "\n",
    "vocab = build_vocab(corpus=train_tokens, n_vocab=5000, special_tokens=[\"<pad>\", \"<unk>\"])\n",
    "token_to_id = {token: idx for idx, token in enumerate(vocab)} # 저장이 <pad>\": 0, \"<unk>\": 1, \"오늘\": 2, \"날씨\": 3 이런식\n",
    "id_to_token = {idx: token for idx, token in enumerate(vocab)} # {0: \"<pad>\", 1: \"<unk>\", 2: \"오늘\", 3: \"날씨\"\n",
    "\n",
    "print(vocab[:10])\n",
    "print(len(vocab))"
   ]
  },
  {
   "cell_type": "code",
   "execution_count": 8,
   "metadata": {},
   "outputs": [],
   "source": [
    "## 정수 인코딩 및 패딩\n",
    "import numpy as np\n",
    "# 패딩까지 해주는 함수\n",
    "def pad_sequences(sequences, max_length, pad_value):  #입력받는 sequences는 리스트형태\n",
    "    result = list()\n",
    "    for sequence in sequences:\n",
    "        sequence = sequence[:max_length] # 시퀀스가 max_lenth보다 길경우 뒷부분을 자른다\n",
    "        pad_length = max_length - len(sequence)\n",
    "        padded_sequence = sequence + [pad_value] * pad_length   # 시퀀스가 짧을경우 남은부분을 0으로 채움\n",
    "        result.append(padded_sequence)\n",
    "    return np.asarray(result)   "
   ]
  },
  {
   "cell_type": "code",
   "execution_count": 10,
   "metadata": {},
   "outputs": [
    {
     "name": "stdout",
     "output_type": "stream",
     "text": [
      "[ 223 1716   10 4036 2095  193  755    4    2 2330 1031  220   26   13\n",
      " 4839    1    1    1    2    0    0    0    0    0    0    0    0    0\n",
      "    0    0    0    0]\n",
      "[3307    5 1997  456    8    1 1013 3906    5    1    1   13  223   51\n",
      "    3    1 4684    6    0    0    0    0    0    0    0    0    0    0\n",
      "    0    0    0    0]\n"
     ]
    }
   ],
   "source": [
    "unk_id = token_to_id[\"<unk>\"]   # 단어사전에 없는 단어를 처리할때\n",
    "train_ids = [[token_to_id.get(token, unk_id) for token in review] for review in train_tokens]  # 각 토큰에 대응하는 정수 ID반환, 존재하지않으면 unk\n",
    "test_ids = [[token_to_id.get(token, unk_id) for token in review] for review in test_tokens]\n",
    "\n",
    "max_length = 32\n",
    "pad_id = token_to_id[\"<pad>\"]   # <pad>\": 0, \"<unk>\": 인 사전이니까 0으로 패딩을 한다는 의미\n",
    "train_ids = pad_sequences(train_ids, max_length, pad_id)\n",
    "test_ids = pad_sequences(test_ids, max_length, pad_id)\n",
    "\n",
    "print(train_ids[0])\n",
    "print(test_ids[0])\n",
    "\n",
    "# 결과로 모두 32에 맞춰져서 나온다"
   ]
  },
  {
   "cell_type": "markdown",
   "metadata": {},
   "source": [
    "[3] 모델 학습 준비"
   ]
  },
  {
   "cell_type": "code",
   "execution_count": 11,
   "metadata": {},
   "outputs": [],
   "source": [
    "## 데이터로더\n",
    "import torch\n",
    "from torch.utils.data import TensorDataset, DataLoader\n",
    "\n",
    "train_ids = torch.tensor(train_ids)\n",
    "test_ids = torch.tensor(test_ids)\n",
    "\n",
    "train_labels = torch.tensor(train.label.values, dtype=torch.float32)\n",
    "test_labels = torch.tensor(test.label.values, dtype=torch.float32)\n",
    "\n",
    "train_dataset = TensorDataset(train_ids, train_labels)\n",
    "test_dataset = TensorDataset(test_ids, test_labels)\n",
    "\n",
    "train_loader = DataLoader(train_dataset, batch_size=16, shuffle=True)\n",
    "test_loader = DataLoader(test_dataset, batch_size=16, shuffle=False)"
   ]
  },
  {
   "cell_type": "code",
   "execution_count": 12,
   "metadata": {},
   "outputs": [
    {
     "name": "stdout",
     "output_type": "stream",
     "text": [
      "tensor([[ 118,  355,    1,  754,   36,  152,   79,    0,    0,    0,    0,    0,\n",
      "            0,    0,    0,    0,    0,    0,    0,    0,    0,    0,    0,    0,\n",
      "            0,    0,    0,    0,    0,    0,    0,    0],\n",
      "        [   1,    4,    5, 1879,    2,  612,   75,  410, 1476, 3909,    3,  164,\n",
      "          285,    2, 2869,    7, 1370,   28, 1771,    4,    2,  113,  255,  380,\n",
      "         3157,    3,  942,   98,  119,    0,    0,    0],\n",
      "        [   1,    1,    1,   10,  926,    1,   10, 1458,   56,    1, 4874,   10,\n",
      "            1, 1417,    2,    0,    0,    0,    0,    0,    0,    0,    0,    0,\n",
      "            0,    0,    0,    0,    0,    0,    0,    0],\n",
      "        [ 148,  167,  106,  146,    8,    1,    1,    1, 1014,    0,    0,    0,\n",
      "            0,    0,    0,    0,    0,    0,    0,    0,    0,    0,    0,    0,\n",
      "            0,    0,    0,    0,    0,    0,    0,    0],\n",
      "        [  61,    6,    1, 4998,   55,   39,  343,   60,  584,  285,    2,  192,\n",
      "          162,    3,    1,    1,   61,   13, 3908, 1573, 3543, 1801,    1, 1021,\n",
      "           19,   49,    1,    0,    0,    0,    0,    0],\n",
      "        [  37,   80,  628,    1,   97,  447,    0,    0,    0,    0,    0,    0,\n",
      "            0,    0,    0,    0,    0,    0,    0,    0,    0,    0,    0,    0,\n",
      "            0,    0,    0,    0,    0,    0,    0,    0],\n",
      "        [3446,   80,    1,   10,    1,   50, 4255,   59, 2124,    0,    0,    0,\n",
      "            0,    0,    0,    0,    0,    0,    0,    0,    0,    0,    0,    0,\n",
      "            0,    0,    0,    0,    0,    0,    0,    0],\n",
      "        [  21,  159,  213,   56,    4,  107,    0,    0,    0,    0,    0,    0,\n",
      "            0,    0,    0,    0,    0,    0,    0,    0,    0,    0,    0,    0,\n",
      "            0,    0,    0,    0,    0,    0,    0,    0],\n",
      "        [  49,   11,   18,  309,   13,   63,   11,  389,  702,   14,  419,  303,\n",
      "           33,    1,   13,   66,   12,   11,    1,   12,  374,  254,    2, 1076,\n",
      "           18,  134,    1,    3,    1,    2,    0,    0],\n",
      "        [   1,    1,    0,    0,    0,    0,    0,    0,    0,    0,    0,    0,\n",
      "            0,    0,    0,    0,    0,    0,    0,    0,    0,    0,    0,    0,\n",
      "            0,    0,    0,    0,    0,    0,    0,    0],\n",
      "        [   1,    9,   21,  199,   24,   42,  149,    9,    0,    0,    0,    0,\n",
      "            0,    0,    0,    0,    0,    0,    0,    0,    0,    0,    0,    0,\n",
      "            0,    0,    0,    0,    0,    0,    0,    0],\n",
      "        [  18,   18, 2334,    1,  738,    0,    0,    0,    0,    0,    0,    0,\n",
      "            0,    0,    0,    0,    0,    0,    0,    0,    0,    0,    0,    0,\n",
      "            0,    0,    0,    0,    0,    0,    0,    0],\n",
      "        [ 193,    3,    1,    2,  340,    4,    5,  675,   10,   88, 1191,   81,\n",
      "         1046,    2,    0,    0,    0,    0,    0,    0,    0,    0,    0,    0,\n",
      "            0,    0,    0,    0,    0,    0,    0,    0],\n",
      "        [ 113,  169,  463,  117,  208,   31, 2943, 2942,    3,   44,  247, 2579,\n",
      "            1,   12,    5, 4096,  116, 3574, 3007, 1599,   44,  679,  180,  283,\n",
      "           53,   11,  121,  178,   16, 4805,    1,    6],\n",
      "        [ 890, 3095,    9,    0,    0,    0,    0,    0,    0,    0,    0,    0,\n",
      "            0,    0,    0,    0,    0,    0,    0,    0,    0,    0,    0,    0,\n",
      "            0,    0,    0,    0,    0,    0,    0,    0],\n",
      "        [   1,    5, 3498,    3, 2974,  930,   52,    2,    0,    0,    0,    0,\n",
      "            0,    0,    0,    0,    0,    0,    0,    0,    0,    0,    0,    0,\n",
      "            0,    0,    0,    0,    0,    0,    0,    0]], dtype=torch.int32)\n",
      "tensor([0., 1., 1., 1., 0., 0., 1., 1., 0., 0., 1., 1., 1., 0., 0., 1.])\n"
     ]
    }
   ],
   "source": [
    "for feature, label in train_loader:\n",
    "    print(feature)\n",
    "    print(label)\n",
    "    break"
   ]
  },
  {
   "cell_type": "code",
   "execution_count": 14,
   "metadata": {},
   "outputs": [],
   "source": [
    "# 문장 분류하는 모델\n",
    "class SentenceClassifier(nn.Module):\n",
    "    def __init__(self, n_vocab, hidden_dim, embedding_dim, n_layers, dropout=0.5, bidirectional=True, model_type=\"lstm\"):\n",
    "        super().__init__()  # 부모클래스 상속\n",
    "\n",
    "        self.embedding = nn.Embedding(num_embeddings=n_vocab, embedding_dim=embedding_dim, padding_idx=0)\n",
    "\n",
    "        # rnn모델 일 경우\n",
    "        if model_type == 'rnn':\n",
    "            self.model = nn.RNN(\n",
    "                input_size=embedding_dim, hidden_size=hidden_dim, num_layers=n_layers, bidirectional=bidirectional, dropout=dropout, batch_first=True\n",
    "            )\n",
    "        # lstm모델 일 경우\n",
    "        elif model_type == 'lstm':\n",
    "            self.model = nn.LSTM(\n",
    "                input_size=embedding_dim, hidden_size=hidden_dim, num_layers=n_layers, bidirectional=bidirectional, dropout=dropout, batch_first=True\n",
    "            )\n",
    "\n",
    "        # bidirectional은 양방향성을 의미하는 파라미터\n",
    "        if bidirectional:\n",
    "            self.classifier = nn.Linear(hidden_dim * 2,1)   # 양방향일때 타임스탭에서 양방향의 정보(순방향,역방향)의 출력들을 결합하여 분류기에 전달\n",
    "        else:\n",
    "            self.classifier = nn.Linear(hidden_dim, 1)\n",
    "        self.dropout = nn.Dropout(dropout)\n",
    "\n",
    "    def forward(self, inputs):\n",
    "        embeddings = self.embedding(inputs)\n",
    "        output, _ = self.model(embeddings) \n",
    "        last_output = output[:, -1, :]\n",
    "        last_output = self.dropout(last_output)\n",
    "        logits = self.classifier(last_output)\n",
    "        return logits"
   ]
  },
  {
   "cell_type": "code",
   "execution_count": 13,
   "metadata": {},
   "outputs": [],
   "source": [
    "## 손실 함수와 최적화 함수 정의\n",
    "from torch import optim\n",
    "\n",
    "n_vocab = len(token_to_id)   # 단어사전의 크기\n",
    "hidden_dim = 64     # 은닉 사태의 크기\n",
    "embedding_dim = 128   #임베딩 벡터의 차원 128차원으로 사용\n",
    "n_layers = 2     # 2층\n",
    "\n",
    "device = \"cuda\" if torch.cuda.is_available() else \"cpu\"\n",
    "classifier = SentenceClassifier(n_vocab=n_vocab, hidden_dim=hidden_dim, embedding_dim=embedding_dim, n_layers=n_layers).to(device)\n",
    "criterion = nn.BCEWithLogitsLoss().to(device)   # 2진분류 손실함수\n",
    "optimizer = optim.RMSprop(classifier.parameters(), lr=0.001)"
   ]
  },
  {
   "cell_type": "markdown",
   "metadata": {},
   "source": [
    "[4] 모델 학습"
   ]
  },
  {
   "cell_type": "code",
   "execution_count": 15,
   "metadata": {},
   "outputs": [],
   "source": [
    "# 모델 학습하는 함수\n",
    "def train(model, datasets, criterion, optimizer, device, interval):\n",
    "    model.train()\n",
    "    losses = list()\n",
    "\n",
    "    for step, (input_ids, labels) in enumerate(datasets):\n",
    "        input_ids = input_ids.to(device)\n",
    "        labels = labels.to(device).unsqueeze(1)\n",
    "\n",
    "        logits = model(input_ids)\n",
    "        loss = criterion(logits, labels)\n",
    "        losses.append(loss.item())\n",
    "\n",
    "        optimizer.zero_grad()\n",
    "        loss.backward()\n",
    "        optimizer.step()\n",
    "\n",
    "        if step%interval == 0:\n",
    "            print(f'Train Loss {step} : {np.mean(losses)}')"
   ]
  },
  {
   "cell_type": "code",
   "execution_count": 16,
   "metadata": {},
   "outputs": [],
   "source": [
    "# 모델 테스트하는 함수\n",
    "def test(model, datasets, criterion, device):\n",
    "    model.eval()\n",
    "    losses = list()\n",
    "    corrects = list()\n",
    "\n",
    "    for step, (input_ids, labels) in enumerate(datasets):   #step은 미니 배치의순서, (inout_ids, labels) 배치단위의 데이터\n",
    "        input_ids = input_ids.to(device)\n",
    "        labels = labels.to(device).unsqueeze(1)\n",
    "\n",
    "        logits = model(input_ids)   #예측값\n",
    "        loss = criterion(logits, labels)\n",
    "        losses.append(loss.item())\n",
    "        yhat = torch.sigmoid(logits)>.5   # 0.5보다 크면 1(양성), 작으면 0(음성)\n",
    "        corrects.extend(torch.eq(yhat, labels).cpu().tolist())        #예측값과 실제값이 같은지비교\n",
    "\n",
    "    print(f\"Val Loss : {np.mean(losses)}, Val Accuracy : {np.mean(corrects)}\")\n"
   ]
  },
  {
   "cell_type": "code",
   "execution_count": 17,
   "metadata": {},
   "outputs": [
    {
     "name": "stdout",
     "output_type": "stream",
     "text": [
      "Train Loss 0 : 0.6930583715438843\n",
      "Train Loss 500 : 0.6919680641082946\n",
      "Train Loss 1000 : 0.6585782636831571\n",
      "Train Loss 1500 : 0.6291041598567797\n",
      "Train Loss 2000 : 0.6040527998045765\n",
      "Train Loss 2500 : 0.5838019549548745\n",
      "Val Loss : 0.4860045122928894, Val Accuracy : 0.7602\n",
      "Train Loss 0 : 0.5803261995315552\n",
      "Train Loss 500 : 0.46590390563487055\n",
      "Train Loss 1000 : 0.4630418364237715\n",
      "Train Loss 1500 : 0.4528295576751113\n",
      "Train Loss 2000 : 0.44626679845612266\n",
      "Train Loss 2500 : 0.44209505689115536\n",
      "Val Loss : 0.4233264391557477, Val Accuracy : 0.8052\n",
      "Train Loss 0 : 0.5992528796195984\n",
      "Train Loss 500 : 0.37632469936997115\n",
      "Train Loss 1000 : 0.3788777944314611\n",
      "Train Loss 1500 : 0.38230555796925025\n",
      "Train Loss 2000 : 0.3822521733260643\n",
      "Train Loss 2500 : 0.3789940705178071\n",
      "Val Loss : 0.40160718850624827, Val Accuracy : 0.8174\n",
      "Train Loss 0 : 0.14265784621238708\n",
      "Train Loss 500 : 0.33898823662194427\n",
      "Train Loss 1000 : 0.3346739466842655\n",
      "Train Loss 1500 : 0.3360012321572237\n",
      "Train Loss 2000 : 0.3377919546637995\n",
      "Train Loss 2500 : 0.33986141462354175\n",
      "Val Loss : 0.3904005513785365, Val Accuracy : 0.823\n",
      "Train Loss 0 : 0.25200051069259644\n",
      "Train Loss 500 : 0.3025170970195068\n",
      "Train Loss 1000 : 0.30603424228586396\n",
      "Train Loss 1500 : 0.30556673991390265\n",
      "Train Loss 2000 : 0.3070518869007456\n",
      "Train Loss 2500 : 0.30885927762682797\n",
      "Val Loss : 0.40617908280307113, Val Accuracy : 0.8252\n"
     ]
    }
   ],
   "source": [
    "epochs = 5\n",
    "interval = 500   #500번 미니배치마다 손실출력\n",
    "\n",
    "for epoch in range(epochs):\n",
    "    train(classifier, train_loader, criterion, optimizer, device, interval)\n",
    "    test(classifier, test_loader, criterion, device)"
   ]
  },
  {
   "cell_type": "code",
   "execution_count": 18,
   "metadata": {},
   "outputs": [
    {
     "name": "stdout",
     "output_type": "stream",
     "text": [
      "보고싶다 [ 2.81532854e-01 -6.03298604e-01 -2.26492539e-01 -1.58868110e+00\n",
      " -1.02817498e-01 -7.86689103e-01 -1.99850976e+00  1.22364545e+00\n",
      "  1.56242937e-01  1.33723676e+00  1.64831951e-01  2.67705560e-01\n",
      "  4.02862728e-01  9.92026567e-01 -8.92821252e-02  1.10149610e+00\n",
      "  1.84162199e-01  6.70502335e-03 -2.05980942e-01  4.68503863e-01\n",
      " -6.60967052e-01 -1.15528345e+00 -1.52757192e+00 -1.03235078e+00\n",
      "  1.80954707e+00  6.85172677e-01 -6.97342575e-01 -4.21210557e-01\n",
      " -5.63878044e-02  2.52857471e+00 -5.10574043e-01  1.27529049e+00\n",
      " -1.59229267e+00  8.77205670e-01  4.58272427e-01  1.37642130e-01\n",
      "  1.05171287e+00  7.64356017e-01  3.98507684e-01 -9.84263420e-01\n",
      "  7.35568181e-02 -2.07504243e-01  2.30032504e-01  1.39554656e+00\n",
      "  4.45250750e-01  2.03182817e+00 -1.76673341e+00  2.18037099e-01\n",
      "  7.69549608e-01  1.48528588e+00  1.53258121e+00 -1.49295494e-01\n",
      "  5.88497341e-01  2.56121945e+00  3.30616534e-03  1.40057838e+00\n",
      "  6.24860823e-01 -1.89067185e-01  2.10599041e+00 -1.20676410e+00\n",
      " -2.13464618e+00 -9.35606241e-01  1.04083681e+00 -4.09653097e-01\n",
      " -5.56541681e-01 -6.06338143e-01 -3.45058978e-01 -1.02865958e+00\n",
      "  5.32566309e-01  9.53131258e-01  1.29998541e+00 -1.02788734e+00\n",
      " -2.76637346e-01 -1.95081925e+00  1.15437098e-01  4.98793870e-01\n",
      " -9.97513473e-01 -7.41181254e-01 -1.84885889e-01 -4.30805273e-02\n",
      "  1.31019723e+00 -1.05185413e+00 -4.48977411e-01  5.70363998e-01\n",
      "  2.49093580e+00 -8.29685032e-01  4.35952932e-01 -1.20678616e+00\n",
      " -5.48288286e-01  1.08759046e-01 -1.60094842e-01 -1.74072123e+00\n",
      "  1.51386023e+00 -1.27589369e+00 -8.94618630e-01  9.17494297e-02\n",
      "  8.24312866e-01  2.38576457e-01  1.35153711e+00  1.26362348e+00\n",
      "  2.54747659e-01  4.36725140e-01 -2.30459799e-03  1.38469505e+00\n",
      " -3.46785396e-01  4.78830040e-01  3.19626421e-01 -1.35732734e+00\n",
      " -1.43079579e+00  1.12031758e+00  1.63751638e+00 -7.14033842e-02\n",
      "  1.15580797e+00 -1.81910485e-01  1.30563521e+00  1.78861514e-01\n",
      " -3.76102537e-01 -2.18772912e+00  1.00889266e+00  1.17946506e+00\n",
      "  1.86901584e-01  1.17085230e+00 -6.67876601e-01 -9.16768551e-01\n",
      " -2.28565529e-01  3.18051487e-01  3.10862958e-01  1.10326219e+00]\n"
     ]
    }
   ],
   "source": [
    "## 학습된 모델로부터 임베딩 추출\n",
    "toekn_to_embedding = dict()\n",
    "embedding_matrix = classifier.embedding.weight.detach().cpu().numpy()  # 임베딩 레이어에서 가중치를 가져옴   , detach는 추론 모드로 임베딩 가중치를 가져오기 위해, 그래디언트 계산을 차단합니다.\n",
    "\n",
    "for word, emb in zip(vocab, embedding_matrix): # vocab과 embedding_matrix를 동시에 순회, vocab에는 단어, embedding_matrix에는 임베딩벡터\n",
    "    toekn_to_embedding[word] = emb\n",
    "\n",
    "token = vocab[1000]\n",
    "print(token, toekn_to_embedding[token])"
   ]
  },
  {
   "cell_type": "code",
   "execution_count": 19,
   "metadata": {},
   "outputs": [],
   "source": [
    "## 사전학습된 모델로 임베딩 계층 초기화\n",
    "from gensim.models import Word2Vec\n",
    "\n",
    "word2vec = Word2Vec.load(\"word2vec.model\")\n",
    "init_embeddings = np.zeros((n_vocab, embedding_dim))\n",
    "\n",
    "for index, token in id_to_token.items():\n",
    "    if token not in [\"<pad>\", \"<unk>\"]:\n",
    "        init_embeddings[index] = word2vec.wv[token]\n",
    "\n",
    "embedding_layer = nn.Embedding.from_pretrained(torch.tensor(init_embeddings, dtype=torch.float32))"
   ]
  },
  {
   "cell_type": "code",
   "execution_count": 23,
   "metadata": {},
   "outputs": [],
   "source": [
    "# 사전 학습된 임베딩 계층 적용:\n",
    "\n",
    "class SentenceClassifier(nn.Module):\n",
    "    def __init__(\n",
    "        self,\n",
    "        n_vocab,\n",
    "        hidden_dim,\n",
    "        embedding_dim,\n",
    "        n_layers,\n",
    "        dropout=0.5,\n",
    "        bidirectional=True,\n",
    "        model_type=\"lstm\",\n",
    "        pretrained_embedding=None\n",
    "    ):\n",
    "        super().__init__()\n",
    "        if pretrained_embedding is not None:\n",
    "            self.embedding = nn.Embedding.from_pretrained(\n",
    "                torch.tensor(pretrained_embedding, dtype=torch.float32)\n",
    "            )\n",
    "        else:\n",
    "            self.embedding = nn.Embedding(\n",
    "                num_embeddings=n_vocab,\n",
    "                embedding_dim=embedding_dim,\n",
    "                padding_idx=0\n",
    "            )\n",
    "        \n",
    "        if model_type == \"rnn\":\n",
    "            self.model = nn.RNN(\n",
    "                input_size=embedding_dim,\n",
    "                hidden_size=hidden_dim,\n",
    "                num_layers=n_layers,\n",
    "                bidirectional=bidirectional,\n",
    "                dropout=dropout,\n",
    "                batch_first=True,\n",
    "            )\n",
    "        elif model_type == \"lstm\":\n",
    "            self.model = nn.LSTM(\n",
    "                input_size=embedding_dim,\n",
    "                hidden_size=hidden_dim,\n",
    "                num_layers=n_layers,\n",
    "                bidirectional=bidirectional,\n",
    "                dropout=dropout,\n",
    "                batch_first=True,\n",
    "            )\n",
    "\n",
    "        if bidirectional:\n",
    "            self.classifier = nn.Linear(hidden_dim * 2, 1)\n",
    "        else:\n",
    "            self.classifier = nn.Linear(hidden_dim, 1)\n",
    "        self.dropout = nn.Dropout(dropout)\n",
    "\n",
    "    def forward(self, inputs):\n",
    "        embeddings = self.embedding(inputs)\n",
    "        output, _ = self.model(embeddings)\n",
    "        last_output = output[:, -1, :]\n",
    "        last_output = self.dropout(last_output)\n",
    "        logits = self.classifier(last_output)\n",
    "        return logits"
   ]
  },
  {
   "cell_type": "code",
   "execution_count": 24,
   "metadata": {},
   "outputs": [],
   "source": [
    "classifier = SentenceClassifier(n_vocab = n_vocab, hidden_dim=hidden_dim, embedding_dim=embedding_dim, n_layers=n_layers, pretrained_embedding=init_embeddings).to(device)\n",
    "criterion = nn.BCEWithLogitsLoss().to(device)\n",
    "optimizer = optim.RMSprop(classifier.parameters(), lr=0.001)"
   ]
  },
  {
   "cell_type": "code",
   "execution_count": 25,
   "metadata": {},
   "outputs": [
    {
     "name": "stdout",
     "output_type": "stream",
     "text": [
      "Train Loss 0 : 0.6865137219429016\n",
      "Train Loss 500 : 0.6893818608063186\n",
      "Train Loss 1000 : 0.63530323777225\n",
      "Train Loss 1500 : 0.5967390515818586\n",
      "Train Loss 2000 : 0.5754937220742737\n",
      "Train Loss 2500 : 0.5604580375956135\n",
      "Val Loss : 0.4825119415220742, Val Accuracy : 0.7702\n",
      "Train Loss 0 : 0.42515647411346436\n",
      "Train Loss 500 : 0.49300900262273\n",
      "Train Loss 1000 : 0.4861773193537534\n",
      "Train Loss 1500 : 0.4804233860604212\n",
      "Train Loss 2000 : 0.47649934870758276\n",
      "Train Loss 2500 : 0.474079876786611\n",
      "Val Loss : 0.45986667418251403, Val Accuracy : 0.7924\n",
      "Train Loss 0 : 0.4736987352371216\n",
      "Train Loss 500 : 0.45287042436842434\n",
      "Train Loss 1000 : 0.45686919006196175\n",
      "Train Loss 1500 : 0.45499423500659225\n",
      "Train Loss 2000 : 0.4518256302083331\n",
      "Train Loss 2500 : 0.4515298610387064\n",
      "Val Loss : 0.4375054622515322, Val Accuracy : 0.7984\n",
      "Train Loss 0 : 0.670641303062439\n",
      "Train Loss 500 : 0.44490503009683835\n",
      "Train Loss 1000 : 0.4386521572029436\n",
      "Train Loss 1500 : 0.441603958100418\n",
      "Train Loss 2000 : 0.4406450189378249\n",
      "Train Loss 2500 : 0.43999967357364955\n",
      "Val Loss : 0.44582404455723473, Val Accuracy : 0.7984\n",
      "Train Loss 0 : 0.46375811100006104\n",
      "Train Loss 500 : 0.44011250817906594\n",
      "Train Loss 1000 : 0.4343753016361228\n",
      "Train Loss 1500 : 0.43228714154669634\n",
      "Train Loss 2000 : 0.43298554612227763\n",
      "Train Loss 2500 : 0.4312316168372224\n",
      "Val Loss : 0.4510617786988664, Val Accuracy : 0.797\n"
     ]
    }
   ],
   "source": [
    "epochs = 5\n",
    "interval = 500\n",
    "\n",
    "for epoch in range(epochs):\n",
    "    train(classifier, train_loader, criterion, optimizer, device, interval)\n",
    "    test(classifier, test_loader, criterion, device)"
   ]
  }
 ],
 "metadata": {
  "kernelspec": {
   "display_name": "TEXT_018",
   "language": "python",
   "name": "python3"
  },
  "language_info": {
   "codemirror_mode": {
    "name": "ipython",
    "version": 3
   },
   "file_extension": ".py",
   "mimetype": "text/x-python",
   "name": "python",
   "nbconvert_exporter": "python",
   "pygments_lexer": "ipython3",
   "version": "3.8.19"
  }
 },
 "nbformat": 4,
 "nbformat_minor": 2
}
