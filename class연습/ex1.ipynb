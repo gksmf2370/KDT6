{
 "cells": [
  {
   "cell_type": "code",
   "execution_count": 1,
   "metadata": {},
   "outputs": [],
   "source": [
    "class Counter:\n",
    "    def __init__(self):  # 생성자를 정의\n",
    "        self.count = 0\n",
    "\n",
    "    def increment(self):  # 매소드를 정의\n",
    "        self.count +=1"
   ]
  },
  {
   "cell_type": "code",
   "execution_count": 3,
   "metadata": {},
   "outputs": [
    {
     "name": "stdout",
     "output_type": "stream",
     "text": [
      "카운터 a의 값은 1\n"
     ]
    }
   ],
   "source": [
    "a = Counter()\n",
    "a.increment()\n",
    "print(\"카운터 a의 값은\", a.count)"
   ]
  },
  {
   "cell_type": "code",
   "execution_count": 6,
   "metadata": {},
   "outputs": [
    {
     "name": "stdout",
     "output_type": "stream",
     "text": [
      "0\n",
      "카운터 a의 값은 1\n",
      "카운터 a의 값은 1\n"
     ]
    }
   ],
   "source": [
    "class Counter:\n",
    "    def __init__(self):\n",
    "        self.count= 0\n",
    "    \n",
    "    def increment(self):\n",
    "        self.count += 1\n",
    "    def reset(self):\n",
    "        self.count = 0\n",
    "    def get(self):\n",
    "        return self.count\n",
    "a = Counter()\n",
    "print(a.count)\n",
    "a.increment()\n",
    "print(\"카운터 a의 값은\", a.get())\n",
    "print(\"카운터 a의 값은\", a.count)"
   ]
  },
  {
   "cell_type": "code",
   "execution_count": 7,
   "metadata": {},
   "outputs": [],
   "source": [
    "class Counter:\n",
    "    def __init__(self,init_value=0):  # 생성자에 매개변수 정의  \n",
    "        self.count = init_value\n",
    "\n",
    "    def increment(self):  # 매소드를 정의\n",
    "        self.count +=1\n",
    "\n"
   ]
  },
  {
   "cell_type": "code",
   "execution_count": 8,
   "metadata": {},
   "outputs": [],
   "source": [
    "a = Counter(100)\n",
    "b = Counter() #초기값 0"
   ]
  },
  {
   "cell_type": "code",
   "execution_count": 9,
   "metadata": {},
   "outputs": [
    {
     "name": "stdout",
     "output_type": "stream",
     "text": [
      "자동차 객체를 생성하였습니다.\n",
      "자동차의 속도는 0\n",
      "자동차의 색상은 blue\n",
      "자동차의 모델은 E-class\n",
      "자동차의 속도는 50\n"
     ]
    }
   ],
   "source": [
    "# 자동차 클래스만들기\n",
    "class Car:\n",
    "    def __init__(self, speed, color, model):\n",
    "        self.speed = speed\n",
    "        self.color = color\n",
    "        self.model = model\n",
    "\n",
    "    def drvie(self):\n",
    "        self.speed = (50)\n",
    "\n",
    "myCar = Car(0, \"blue\", \"E-class\")\n",
    "print(\"자동차 객체를 생성하였습니다.\")\n",
    "print(\"자동차의 속도는\", myCar.speed)\n",
    "print(\"자동차의 색상은\", myCar.color)\n",
    "print(\"자동차의 모델은\", myCar.model)\n",
    "\n",
    "myCar.drvie()\n",
    "print(\"자동차의 속도는\", myCar.speed)"
   ]
  },
  {
   "cell_type": "code",
   "execution_count": 11,
   "metadata": {},
   "outputs": [
    {
     "name": "stdout",
     "output_type": "stream",
     "text": [
      "name: HONG, age: 21\n"
     ]
    }
   ],
   "source": [
    "class Student:\n",
    "    def __init__(self, name=None, age=0):\n",
    "        self.__name = name # private 설정\n",
    "        self.__age = age\n",
    "    \n",
    "    def print_info(self):\n",
    "        print(f'name: {self.__name}, age: {self.__age}')\n",
    "\n",
    "obj=Student('HONG',21)\n",
    "obj.print_info()\n"
   ]
  },
  {
   "cell_type": "code",
   "execution_count": 12,
   "metadata": {},
   "outputs": [
    {
     "name": "stdout",
     "output_type": "stream",
     "text": [
      "Alice\n",
      "Charlie\n"
     ]
    }
   ],
   "source": [
    "class Student:\n",
    "    def __init__(self, name=None, age=0):\n",
    "        self.__name=name\n",
    "        self.__age=age\n",
    "\n",
    "    def getAge(self):\n",
    "        return self.__age\n",
    "    \n",
    "    def getName(self):             #접근자 : private 변수 접근\n",
    "        return self.__name\n",
    "    \n",
    "    def setAge(self, age):\n",
    "        self.__age = age\n",
    "\n",
    "    def setName(self, name):\n",
    "        self.__name = name\n",
    "\n",
    "\n",
    "obj=Student(\"Alice\",20)\n",
    "print(obj.getName())\n",
    "\n",
    "obj.setName(\"Charlie\")\n",
    "print(obj.getName())"
   ]
  },
  {
   "cell_type": "code",
   "execution_count": 13,
   "metadata": {},
   "outputs": [
    {
     "name": "stdout",
     "output_type": "stream",
     "text": [
      "통장에 100 원 입금되었음\n",
      "통장에서 10 원 출금되었음\n"
     ]
    },
    {
     "data": {
      "text/plain": [
       "90"
      ]
     },
     "execution_count": 13,
     "metadata": {},
     "output_type": "execute_result"
    }
   ],
   "source": [
    "class BankAccount:\n",
    "    def __init__(self):\n",
    "        self.__balance = 0\n",
    "\n",
    "    def withdraw(self, amount):\n",
    "        self.__balance -= amount\n",
    "        print(\"통장에서\", amount, \"원 출금되었음\")\n",
    "        return self.__balance\n",
    "    \n",
    "    def deposit(self, amount):\n",
    "        self.__balance += amount\n",
    "        print(\"통장에\", amount, \"원 입금되었음\")\n",
    "        return self.__balance\n",
    "\n",
    "a = BankAccount()\n",
    "a.deposit(100)\n",
    "a.withdraw(10)"
   ]
  },
  {
   "cell_type": "code",
   "execution_count": 14,
   "metadata": {},
   "outputs": [
    {
     "name": "stdout",
     "output_type": "stream",
     "text": [
      "통장에 100 원 입금되었음\n",
      "통장에서 10 원 출금되었음\n"
     ]
    },
    {
     "data": {
      "text/plain": [
       "90"
      ]
     },
     "execution_count": 14,
     "metadata": {},
     "output_type": "execute_result"
    }
   ],
   "source": [
    "class BankAccount:\n",
    "    def __init__(self):\n",
    "        self.__balance = 0\n",
    "\n",
    "    def withdraw(self, amount):\n",
    "        self.__balance -= amount\n",
    "        print(\"통장에서\", amount, \"원 출금되었음\")\n",
    "        return self.__balance\n",
    "    \n",
    "    def deposit(self, amount):\n",
    "        self.__balance += amount\n",
    "        print(\"통장에\", amount, \"원 입금되었음\")\n",
    "        return self.__balance\n",
    "\n",
    "a = BankAccount()\n",
    "a.deposit(100)\n",
    "a.withdraw(10)"
   ]
  },
  {
   "cell_type": "code",
   "execution_count": 15,
   "metadata": {},
   "outputs": [
    {
     "name": "stdout",
     "output_type": "stream",
     "text": [
      "9 10 True\n",
      "9 10 True\n",
      "2개의 변수는 동일한 객체를 참조\n"
     ]
    }
   ],
   "source": [
    "class Television:\n",
    "    def __init__(self, channel, volume, on):\n",
    "        self.channel = channel\n",
    "        self.volume = volume\n",
    "        self.on = on\n",
    "    \n",
    "    def set_channel(self, channel):\n",
    "        self.channel = channel\n",
    "    \n",
    "    def get_channel(self):\n",
    "        return self.channel\n",
    "    \n",
    "    def show(self):\n",
    "        print(self.channel, self.volume, self.on)\n",
    "\n",
    "t = Television(11, 10, True)\n",
    "s = t\n",
    "s.channel = 9\n",
    "t.show()\n",
    "s.show()\n",
    "\n",
    "if s is t:\n",
    "    print(\"2개의 변수는 동일한 객체를 참조\")\n",
    "\n",
    "if s is not t:\n",
    "    print(\"2개의 변수는 다른 객체를 참조\")"
   ]
  },
  {
   "cell_type": "code",
   "execution_count": 16,
   "metadata": {},
   "outputs": [
    {
     "name": "stdout",
     "output_type": "stream",
     "text": [
      "현재 TV가 없습니다.\n"
     ]
    }
   ],
   "source": [
    "my_tv = None\n",
    "\n",
    "if my_tv is None:\n",
    "    print(\"현재 TV가 없습니다.\")"
   ]
  },
  {
   "cell_type": "code",
   "execution_count": 22,
   "metadata": {},
   "outputs": [
    {
     "name": "stdout",
     "output_type": "stream",
     "text": [
      "channel:11, volume:10, on:True\n",
      "channel:11, volume:2, on:True\n"
     ]
    }
   ],
   "source": [
    "class Television:\n",
    "    def __init__(self, channel, volume, on):\n",
    "        self.channel = channel\n",
    "        self.volume = volume\n",
    "        self.on = on\n",
    "    \n",
    "    def show(self):\n",
    "        print(f'channel:{self.channel}, '\n",
    "              f'volume:{self.volume}, on:{self.on}')\n",
    "    \n",
    "    def set_silent_mode(t):\n",
    "        t.volume =2\n",
    "\n",
    "my_tv = Television(11, 10, True)\n",
    "my_tv.show()\n",
    "\n",
    "set_silent_mode(my_tv)\n",
    "my_tv.show()"
   ]
  },
  {
   "cell_type": "code",
   "execution_count": 24,
   "metadata": {},
   "outputs": [
    {
     "name": "stdout",
     "output_type": "stream",
     "text": [
      "channel:7, volume:9, on:True\n",
      "channel:9, volume:10, on:True\n",
      "channel:11, volume:5, on:False\n",
      "\n",
      "t1.serial_number: 3, id:2382063298928\n",
      "t2.serial_number: 3, id:2382063298928\n",
      "t3.serial_number: 3, id:2382063298928\n",
      "Televison.serial_number:3, id:2382063298928\n"
     ]
    }
   ],
   "source": [
    "class Television:\n",
    "    serial_number = 0\n",
    "\n",
    "    def __init__(self, channel, volume, on):\n",
    "        Television.serial_number += 1\n",
    "        self.number = Television.serial_number\n",
    "        self.channel = channel\n",
    "        self.volume = volume\n",
    "        self.on = on\n",
    "\n",
    "    def show(self):\n",
    "        print(f'channel:{self.channel}, '\n",
    "              f'volume:{self.volume}, on:{self.on}')\n",
    "        \n",
    "    def set_channel(self, channel):\n",
    "        self.channel = channel\n",
    "    \n",
    "    def get_channel(self):\n",
    "        return self.channel\n",
    "    \n",
    "t1= Television(7, 9, True)\n",
    "t2= Television(9, 10, True)\n",
    "t3= Television(11, 5, False)\n",
    "\n",
    "t1.show()\n",
    "t2.show()\n",
    "t3.show()\n",
    "print()\n",
    "\n",
    "print(f't1.serial_number: {t1.serial_number}, id:{id(t1.serial_number)}')\n",
    "print(f't2.serial_number: {t2.serial_number}, id:{id(t2.serial_number)}')\n",
    "print(f't3.serial_number: {t3.serial_number}, id:{id(t3.serial_number)}')\n",
    "print(f'Televison.serial_number:{Television.serial_number}, '\n",
    "      f'id:{id(Television.serial_number)}')"
   ]
  },
  {
   "cell_type": "code",
   "execution_count": 26,
   "metadata": {},
   "outputs": [
    {
     "name": "stdout",
     "output_type": "stream",
     "text": [
      "[100, 100, 100]\n",
      "상자의 부피는  1000000\n"
     ]
    }
   ],
   "source": [
    "# box클래스는 가로 세로 높이\n",
    "class Box:\n",
    "    def __init__(self, width=0, length=0, height=0):\n",
    "        self.__width =width\n",
    "        self.__length=length\n",
    "        self.__height= height\n",
    "\n",
    "    def setWidth(self, width):\n",
    "        self.__width = width\n",
    "    \n",
    "    def setLength(self, length):\n",
    "        self.__length = length\n",
    "\n",
    "    def setHeight(self, height):\n",
    "        self.__height = height\n",
    "\n",
    "    def getVolume(self):\n",
    "        return self.__width * self.__length * self.__height\n",
    "    \n",
    "    def __str__(self):\n",
    "        return '[%d, %d, %d]' % (self.__width, self.__length, self.__height)\n",
    "    \n",
    "box = Box(100, 100, 100)\n",
    "print(box)\n",
    "print('상자의 부피는 ', box.getVolume())"
   ]
  },
  {
   "cell_type": "code",
   "execution_count": 27,
   "metadata": {},
   "outputs": [],
   "source": [
    "class Vector2D :\n",
    "    def __init__(self, x, y):\n",
    "        self.x = x\n",
    "        self.y = y\n",
    "\n",
    "    def __add__(self, other):\n",
    "        return Vector2D(self.x + other.x, self.y + other.y)\n",
    "    \n",
    "    def __sub__(self, other):\n",
    "        return Vector2D(self.x - other.x, self.y - other.y)\n",
    "    \n",
    "    def __eq__(self, other):\n",
    "        return self.x == other.x and self.y == other.y\n",
    "    \n",
    "    def __str__(self):\n",
    "        return '(%g, %g)' % (self.x, self.y)\n",
    "    "
   ]
  },
  {
   "cell_type": "code",
   "execution_count": 28,
   "metadata": {},
   "outputs": [],
   "source": [
    "u = Vector2D(0,1)\n",
    "v = Vector2D(1,0)\n",
    "w = Vector2D(1,1)\n"
   ]
  },
  {
   "cell_type": "code",
   "execution_count": 30,
   "metadata": {},
   "outputs": [
    {
     "name": "stdout",
     "output_type": "stream",
     "text": [
      "(1, 1)\n",
      "(1, 0)\n"
     ]
    }
   ],
   "source": [
    "a = u + v\n",
    "print(a)\n",
    "print(w-u)"
   ]
  },
  {
   "cell_type": "code",
   "execution_count": 31,
   "metadata": {},
   "outputs": [],
   "source": [
    "from random import randint\n",
    "\n",
    "class Dice:\n",
    "    def __init__(self, face_number):\n",
    "        self.__facenum = face_number # 주사위 면의 수\n",
    "        self.__value = 1\n",
    "\n",
    "    def read_dice(self):\n",
    "        return self.__value\n",
    "    \n",
    "    def print_dice(self):\n",
    "        print(\"주사위의 값 = \", self.__value)\n",
    "\n",
    "    def roll_dice(self):\n",
    "        self.__value = randint(1, self.__facenum)\n",
    "\n",
    " "
   ]
  },
  {
   "cell_type": "code",
   "execution_count": 32,
   "metadata": {},
   "outputs": [
    {
     "name": "stdout",
     "output_type": "stream",
     "text": [
      "주사위의 값 =  1\n",
      "주사위의 값 =  3\n"
     ]
    }
   ],
   "source": [
    "face_num = int(input(\"주사위의 면의 수를 입력하세요: \"))\n",
    "d = Dice(face_num)\n",
    "\n",
    "count = int((input(\"주사위를 던질 회수를 입력하세요: \")))\n",
    "for i in range(count):\n",
    "    d.roll_dice()\n",
    "    d.print_dice()"
   ]
  }
 ],
 "metadata": {
  "kernelspec": {
   "display_name": "PY39",
   "language": "python",
   "name": "python3"
  },
  "language_info": {
   "codemirror_mode": {
    "name": "ipython",
    "version": 3
   },
   "file_extension": ".py",
   "mimetype": "text/x-python",
   "name": "python",
   "nbconvert_exporter": "python",
   "pygments_lexer": "ipython3",
   "version": "3.9.19"
  }
 },
 "nbformat": 4,
 "nbformat_minor": 2
}
