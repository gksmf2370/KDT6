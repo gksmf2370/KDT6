{
 "cells": [
  {
   "cell_type": "code",
   "execution_count": 1,
   "metadata": {},
   "outputs": [],
   "source": [
    "import csv"
   ]
  },
  {
   "cell_type": "code",
   "execution_count": 2,
   "metadata": {},
   "outputs": [
    {
     "name": "stdout",
     "output_type": "stream",
     "text": [
      "['\\ufeff날짜', '지점', '평균기온(℃)', '최저기온(℃)', '최고기온(℃)']\n",
      "['\\t1907-01-31', '143', '', '-7', '0.8']\n",
      "['\\t1907-02-01', '143', '', '', '']\n",
      "['\\t1907-02-02', '143', '', '', '']\n",
      "['\\t1907-02-03', '143', '', '', '']\n",
      "['\\t1907-02-04', '143', '', '', '']\n"
     ]
    }
   ],
   "source": [
    "f=open('daegu.csv', 'r', encoding='utf-8')\n",
    "data=csv.reader(f, delimiter=',')\n",
    "count=0\n",
    "for row in data:\n",
    "    if count >5:\n",
    "        break\n",
    "    else:\n",
    "        print(row)\n",
    "    count+=1\n",
    "f.close()"
   ]
  },
  {
   "cell_type": "code",
   "execution_count": null,
   "metadata": {},
   "outputs": [],
   "source": []
  }
 ],
 "metadata": {
  "kernelspec": {
   "display_name": "PY39",
   "language": "python",
   "name": "python3"
  },
  "language_info": {
   "codemirror_mode": {
    "name": "ipython",
    "version": 3
   },
   "file_extension": ".py",
   "mimetype": "text/x-python",
   "name": "python",
   "nbconvert_exporter": "python",
   "pygments_lexer": "ipython3",
   "version": "3.9.19"
  }
 },
 "nbformat": 4,
 "nbformat_minor": 2
}
