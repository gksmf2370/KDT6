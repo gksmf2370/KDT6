{
 "cells": [
  {
   "cell_type": "code",
   "execution_count": 138,
   "metadata": {},
   "outputs": [],
   "source": [
    "import random as rd"
   ]
  },
  {
   "cell_type": "code",
   "execution_count": 149,
   "metadata": {},
   "outputs": [],
   "source": [
    "# 윷놀이를 던짐\n",
    "def run_yut():\n",
    "    sticks=[0]*4\n",
    "    for i in range(4):\n",
    "        sticks[i]=rd.randint(0,1)\n",
    "    return(sticks)"
   ]
  },
  {
   "cell_type": "code",
   "execution_count": 150,
   "metadata": {},
   "outputs": [],
   "source": [
    "# 무조건 모만 나오는경우\n",
    "def run_cheating():\n",
    "    sticks=[0,0,0,0]\n",
    "\n",
    "    return(sticks)"
   ]
  },
  {
   "cell_type": "code",
   "execution_count": 141,
   "metadata": {},
   "outputs": [],
   "source": [
    "# 점수구하기\n",
    "def check_jumsu(stick):\n",
    "    result=0\n",
    "    for i in range(len(stick)):\n",
    "        if stick[i] ==1:\n",
    "            result=result+1\n",
    "    return result"
   ]
  },
  {
   "cell_type": "code",
   "execution_count": 142,
   "metadata": {},
   "outputs": [],
   "source": [
    "# 도 개 걸 윷 모 판단하는 함수\n",
    "def check_yut(stick):\n",
    "    result=check_jumsu(stick)\n",
    "    \n",
    "    if result ==0 : return('모')\n",
    "    elif result==1 : return('도')\n",
    "    elif result==2 : return('개')\n",
    "    elif result==3 : return('걸')\n",
    "    elif result==4 : return('윷')\n",
    "\n",
    "\n"
   ]
  },
  {
   "cell_type": "code",
   "execution_count": 143,
   "metadata": {},
   "outputs": [],
   "source": [
    "# 윷놀이를 진행\n",
    "\n",
    "def start_player1(result1):\n",
    "    result=0\n",
    "    while True:\n",
    "        sticks=run_yut()\n",
    "        jumsu=check_jumsu(sticks)\n",
    "        value=check_yut(sticks)\n",
    "        if jumsu==0:\n",
    "            jumsu=5\n",
    "        result=result+jumsu\n",
    "\n",
    "        print(f'흥부 {sticks} : {value} ({jumsu}점)/(총 {result+result1}점) --->')\n",
    "        if result+result1>=20:\n",
    "            break\n",
    "        if jumsu==5:\n",
    "            continue\n",
    "        if jumsu==4:\n",
    "            continue\n",
    "        else:\n",
    "            break\n",
    "    return result  \n",
    "    "
   ]
  },
  {
   "cell_type": "code",
   "execution_count": 144,
   "metadata": {},
   "outputs": [],
   "source": [
    "def start_player2(result2):\n",
    "    result=0\n",
    "    while True:\n",
    "        sticks=run_yut()\n",
    "        jumsu=check_jumsu(sticks)\n",
    "        value=check_yut(sticks)\n",
    "        if jumsu==0:\n",
    "            jumsu=5\n",
    "        result=result+jumsu\n",
    "        print(f'                                 <--- 놀부 {sticks} : {value} ({jumsu}점)/(총 {result+result2}점)')\n",
    "        if result+result2>=20:\n",
    "            break\n",
    "        if jumsu==5:\n",
    "            continue\n",
    "        if jumsu==4:\n",
    "            continue\n",
    "        break\n",
    "    return result  "
   ]
  },
  {
   "cell_type": "code",
   "execution_count": 153,
   "metadata": {},
   "outputs": [],
   "source": [
    "# 흥부가 사기를 치는 윷놀이를 진행\n",
    "\n",
    "def start_player3(result1):\n",
    "    result=0\n",
    "    while True:\n",
    "        sticks=run_cheating()\n",
    "        jumsu=check_jumsu(sticks)\n",
    "        value=check_yut(sticks)\n",
    "        if jumsu==0:\n",
    "            jumsu=5\n",
    "        result=result+jumsu\n",
    "\n",
    "        print(f'흥부 {sticks} : {value} ({jumsu}점)/(총 {result+result1}점) --->')\n",
    "        if result+result1>=20:\n",
    "            break\n",
    "        if jumsu==5:\n",
    "            continue\n",
    "        if jumsu==4:\n",
    "            continue\n",
    "        else:\n",
    "            break\n",
    "    return result  \n",
    "    "
   ]
  },
  {
   "cell_type": "code",
   "execution_count": 154,
   "metadata": {},
   "outputs": [
    {
     "name": "stdout",
     "output_type": "stream",
     "text": [
      "흥부 [1, 1, 1, 1] : 윷 (4점)/(총 4점) --->\n",
      "흥부 [1, 0, 0, 0] : 도 (1점)/(총 5점) --->\n",
      "                                 <--- 놀부 [0, 1, 1, 1] : 걸 (3점)/(총 3점)\n",
      "흥부 [0, 0, 1, 1] : 개 (2점)/(총 7점) --->\n",
      "                                 <--- 놀부 [0, 1, 0, 1] : 개 (2점)/(총 5점)\n",
      "흥부 [1, 0, 0, 0] : 도 (1점)/(총 8점) --->\n",
      "                                 <--- 놀부 [1, 0, 0, 0] : 도 (1점)/(총 6점)\n",
      "흥부 [0, 0, 0, 0] : 모 (5점)/(총 13점) --->\n",
      "흥부 [1, 0, 1, 1] : 걸 (3점)/(총 16점) --->\n",
      "                                 <--- 놀부 [1, 0, 1, 1] : 걸 (3점)/(총 9점)\n",
      "흥부 [1, 0, 1, 0] : 개 (2점)/(총 18점) --->\n",
      "                                 <--- 놀부 [1, 0, 0, 0] : 도 (1점)/(총 10점)\n",
      "흥부 [1, 1, 1, 0] : 걸 (3점)/(총 21점) --->\n",
      "----------------------------------------------------------------------------------------\n",
      "흥부 승리 => 흥부 : 21, 놀부 : 10\n",
      "----------------------------------------------------------------------------------------\n"
     ]
    }
   ],
   "source": [
    "result1=0\n",
    "result2=0\n",
    "while True:\n",
    "    jumsu1=start_player1(result1)\n",
    "    result1=result1+jumsu1\n",
    "    if result1>=20: \n",
    "        print('----------------------------------------------------------------------------------------')\n",
    "        print(f'흥부 승리 => 흥부 : {result1}, 놀부 : {result2}')\n",
    "        print('----------------------------------------------------------------------------------------')\n",
    "        break\n",
    "    jumsu2=start_player2(result2)\n",
    "    result2=result2+jumsu2\n",
    "    if result2>=20 :\n",
    "        print('----------------------------------------------------------------------------------------')\n",
    "        print(f'놀부 승리 => 흥부 : {result1}, 놀부 : {result2}')\n",
    "        print('----------------------------------------------------------------------------------------')\n",
    "        break\n",
    "\n"
   ]
  },
  {
   "cell_type": "code",
   "execution_count": 155,
   "metadata": {},
   "outputs": [
    {
     "name": "stdout",
     "output_type": "stream",
     "text": [
      "흥부 [0, 0, 0, 0] : 모 (5점)/(총 5점) --->\n",
      "흥부 [0, 0, 0, 0] : 모 (5점)/(총 10점) --->\n",
      "흥부 [0, 0, 0, 0] : 모 (5점)/(총 15점) --->\n",
      "흥부 [0, 0, 0, 0] : 모 (5점)/(총 20점) --->\n",
      "----------------------------------------------------------------------------------------\n",
      "흥부 승리 => 흥부 : 20, 놀부 : 0\n",
      "----------------------------------------------------------------------------------------\n"
     ]
    }
   ],
   "source": [
    "# case2) 임의로 모가나오는경우를가정\n",
    "result1=0\n",
    "result2=0\n",
    "while True:\n",
    "    jumsu1=start_player3(result1)\n",
    "    result1=result1+jumsu1\n",
    "    if result1>=20: \n",
    "        print('----------------------------------------------------------------------------------------')\n",
    "        print(f'흥부 승리 => 흥부 : {result1}, 놀부 : {result2}')\n",
    "        print('----------------------------------------------------------------------------------------')\n",
    "        break\n",
    "    jumsu2=start_player2(result2)\n",
    "    result2=result2+jumsu2\n",
    "    if result2>=20 :\n",
    "        print('----------------------------------------------------------------------------------------')\n",
    "        print(f'놀부 승리 => 흥부 : {result1}, 놀부 : {result2}')\n",
    "        print('----------------------------------------------------------------------------------------')\n",
    "        break\n"
   ]
  },
  {
   "cell_type": "code",
   "execution_count": null,
   "metadata": {},
   "outputs": [],
   "source": []
  }
 ],
 "metadata": {
  "kernelspec": {
   "display_name": "PY39",
   "language": "python",
   "name": "python3"
  },
  "language_info": {
   "codemirror_mode": {
    "name": "ipython",
    "version": 3
   },
   "file_extension": ".py",
   "mimetype": "text/x-python",
   "name": "python",
   "nbconvert_exporter": "python",
   "pygments_lexer": "ipython3",
   "version": "3.9.19"
  }
 },
 "nbformat": 4,
 "nbformat_minor": 2
}
