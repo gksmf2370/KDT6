{
 "cells": [
  {
   "cell_type": "code",
   "execution_count": 1,
   "metadata": {},
   "outputs": [],
   "source": [
    "# 지하철 각 노선별 최대 하차 인원을 막대그래프로 표시 , 하차인원 출력\n",
    "# 출근 시간대 : 07:00 ~08:59\n",
    "# 사용 파일 : subway.xls\n",
    "# 07:00~07:59 하차 : index[11], 08:00~08:59 하차 : index[13]\n",
    "# 1호선, 2호선, 3호선, 4호선, 5호선, 6호선, 7호선\n",
    "# 하차인원 1,000단위로 콤마 찍어서 구분\n",
    "# 7개의 지하철 역을 막대 그래프로 표시\n",
    "# Bar chart의 X축은 (노선 + 지하철 역이름)을 표시, y축은 인원수를 표시\n",
    "\n",
    "\n",
    "import pandas as pd\n",
    "from tabulate import tabulate\n",
    "import koreanize_matplotlib\n",
    "\n"
   ]
  },
  {
   "cell_type": "code",
   "execution_count": 2,
   "metadata": {},
   "outputs": [
    {
     "name": "stdout",
     "output_type": "stream",
     "text": [
      "                 사용월                호선명                역ID               지하철역  \\\n",
      "  Unnamed: 0_level_1 Unnamed: 1_level_1 Unnamed: 2_level_1 Unnamed: 3_level_1   \n",
      "0            2024-06                1호선                150                서울역   \n",
      "1            2024-06                1호선                151                 시청   \n",
      "2            2024-06                1호선                152                 종각   \n",
      "3            2024-06                1호선                153               종로3가   \n",
      "4            2024-06                1호선                154               종로5가   \n",
      "\n",
      "  04:00:00~04:59:59     05:00:00~05:59:59        06:00:00~06:59:59          \\\n",
      "                 승차  하차                승차     하차                승차      하차   \n",
      "0               654  20             8,727  9,083            13,812  56,637   \n",
      "1                74   0             2,105  5,374             4,050  25,949   \n",
      "2               132   7             4,291  5,787             4,312  32,747   \n",
      "3               206  13             4,296  3,015             3,961  13,851   \n",
      "4                42   2             2,053  3,522             3,089  17,690   \n",
      "\n",
      "   ... 23:00:00~23:59:59 00:00:00~00:59:59        01:00:00~01:59:59       \\\n",
      "   ...                하차                승차     하차                승차   하차   \n",
      "0  ...            13,883             2,863  3,984                 3  215   \n",
      "1  ...             3,898               502    991                 1   38   \n",
      "2  ...             4,587             1,676  1,300                 0    0   \n",
      "3  ...             5,240             1,765  2,042                 2    6   \n",
      "4  ...             3,597               334  1,000                 0    0   \n",
      "\n",
      "  02:00:00~02:59:59    03:00:00~03:59:59                    작업일시  \n",
      "                 승차 하차                승차 하차  Unnamed: 52_level_1  \n",
      "0                 0  0                 0  0  2024-07-03 09:31:29  \n",
      "1                 0  0                 0  0  2024-07-03 09:31:29  \n",
      "2                 0  0                 0  0  2024-07-03 09:31:29  \n",
      "3                 0  0                 0  0  2024-07-03 09:31:29  \n",
      "4                 0  0                 0  0  2024-07-03 09:31:29  \n",
      "\n",
      "[5 rows x 53 columns]\n"
     ]
    }
   ],
   "source": [
    "df=pd.read_excel('subway.xls', sheet_name='지하철 시간대별 이용현황', header=[0,1])\n",
    "print(df.head())"
   ]
  },
  {
   "cell_type": "code",
   "execution_count": 3,
   "metadata": {},
   "outputs": [
    {
     "name": "stdout",
     "output_type": "stream",
     "text": [
      "MultiIndex([(              '사용월',  'Unnamed: 0_level_1'),\n",
      "            (              '호선명',  'Unnamed: 1_level_1'),\n",
      "            (              '역ID',  'Unnamed: 2_level_1'),\n",
      "            (             '지하철역',  'Unnamed: 3_level_1'),\n",
      "            ('04:00:00~04:59:59',                  '승차'),\n",
      "            ('04:00:00~04:59:59',                  '하차'),\n",
      "            ('05:00:00~05:59:59',                  '승차'),\n",
      "            ('05:00:00~05:59:59',                  '하차'),\n",
      "            ('06:00:00~06:59:59',                  '승차'),\n",
      "            ('06:00:00~06:59:59',                  '하차'),\n",
      "            ('07:00:00~07:59:59',                  '승차'),\n",
      "            ('07:00:00~07:59:59',                  '하차'),\n",
      "            ('08:00:00~08:59:59',                  '승차'),\n",
      "            ('08:00:00~08:59:59',                  '하차'),\n",
      "            ('09:00:00~09:59:59',                  '승차'),\n",
      "            ('09:00:00~09:59:59',                  '하차'),\n",
      "            ('10:00:00~10:59:59',                  '승차'),\n",
      "            ('10:00:00~10:59:59',                  '하차'),\n",
      "            ('11:00:00~11:59:59',                  '승차'),\n",
      "            ('11:00:00~11:59:59',                  '하차'),\n",
      "            ('12:00:00~12:59:59',                  '승차'),\n",
      "            ('12:00:00~12:59:59',                  '하차'),\n",
      "            ('13:00:00~13:59:59',                  '승차'),\n",
      "            ('13:00:00~13:59:59',                  '하차'),\n",
      "            ('14:00:00~14:59:59',                  '승차'),\n",
      "            ('14:00:00~14:59:59',                  '하차'),\n",
      "            ('15:00:00~15:59:59',                  '승차'),\n",
      "            ('15:00:00~15:59:59',                  '하차'),\n",
      "            ('16:00:00~16:59:59',                  '승차'),\n",
      "            ('16:00:00~16:59:59',                  '하차'),\n",
      "            ('17:00:00~17:59:59',                  '승차'),\n",
      "            ('17:00:00~17:59:59',                  '하차'),\n",
      "            ('18:00:00~18:59:59',                  '승차'),\n",
      "            ('18:00:00~18:59:59',                  '하차'),\n",
      "            ('19:00:00~19:59:59',                  '승차'),\n",
      "            ('19:00:00~19:59:59',                  '하차'),\n",
      "            ('20:00:00~20:59:59',                  '승차'),\n",
      "            ('20:00:00~20:59:59',                  '하차'),\n",
      "            ('21:00:00~21:59:59',                  '승차'),\n",
      "            ('21:00:00~21:59:59',                  '하차'),\n",
      "            ('22:00:00~22:59:59',                  '승차'),\n",
      "            ('22:00:00~22:59:59',                  '하차'),\n",
      "            ('23:00:00~23:59:59',                  '승차'),\n",
      "            ('23:00:00~23:59:59',                  '하차'),\n",
      "            ('00:00:00~00:59:59',                  '승차'),\n",
      "            ('00:00:00~00:59:59',                  '하차'),\n",
      "            ('01:00:00~01:59:59',                  '승차'),\n",
      "            ('01:00:00~01:59:59',                  '하차'),\n",
      "            ('02:00:00~02:59:59',                  '승차'),\n",
      "            ('02:00:00~02:59:59',                  '하차'),\n",
      "            ('03:00:00~03:59:59',                  '승차'),\n",
      "            ('03:00:00~03:59:59',                  '하차'),\n",
      "            (             '작업일시', 'Unnamed: 52_level_1')],\n",
      "           )\n",
      "0      1호선\n",
      "1      1호선\n",
      "2      1호선\n",
      "3      1호선\n",
      "4      1호선\n",
      "      ... \n",
      "617    신림선\n",
      "618    신림선\n",
      "619    신림선\n",
      "620    신림선\n",
      "621    신림선\n",
      "Name: (호선명, Unnamed: 1_level_1), Length: 622, dtype: object\n"
     ]
    }
   ],
   "source": [
    "print(df.columns)\n",
    "print(df[('호선명',  'Unnamed: 1_level_1')])"
   ]
  },
  {
   "cell_type": "code",
   "execution_count": 4,
   "metadata": {},
   "outputs": [
    {
     "name": "stdout",
     "output_type": "stream",
     "text": [
      "+----+------------------------------------+--------------------------------------+---------------------------------+---------------------------------+\n",
      "|    | ('호선명', 'Unnamed: 1_level_1')   | ('지하철역', 'Unnamed: 3_level_1')   | ('07:00:00~07:59:59', '하차')   | ('08:00:00~08:59:59', '하차')   |\n",
      "|----+------------------------------------+--------------------------------------+---------------------------------+---------------------------------|\n",
      "|  0 | 1호선                              | 서울역                               | 115,372                         | 224,224                         |\n",
      "|  1 | 1호선                              | 시청                                 | 71,550                          | 183,563                         |\n",
      "|  2 | 1호선                              | 종각                                 | 106,889                         | 249,815                         |\n",
      "|  3 | 1호선                              | 종로3가                              | 28,024                          | 65,287                          |\n",
      "|  4 | 1호선                              | 종로5가                              | 40,044                          | 91,110                          |\n",
      "+----+------------------------------------+--------------------------------------+---------------------------------+---------------------------------+\n"
     ]
    }
   ],
   "source": [
    "# 07:00~07:59 하차 : index[11], 08:00~08:59 하차 : index[13]\n",
    "comnute_time_df=df.iloc[:,[1, 3, 11, 13]]\n",
    "print(tabulate(comnute_time_df.head(), headers='keys', tablefmt='psql'))"
   ]
  },
  {
   "cell_type": "code",
   "execution_count": 5,
   "metadata": {},
   "outputs": [
    {
     "name": "stdout",
     "output_type": "stream",
     "text": [
      "호선명                Unnamed: 1_level_1    object\n",
      "지하철역               Unnamed: 3_level_1    object\n",
      "07:00:00~07:59:59  하차                    object\n",
      "08:00:00~08:59:59  하차                    object\n",
      "dtype: object\n"
     ]
    }
   ],
   "source": [
    "print(comnute_time_df.dtypes)"
   ]
  },
  {
   "cell_type": "code",
   "execution_count": 6,
   "metadata": {},
   "outputs": [
    {
     "name": "stdout",
     "output_type": "stream",
     "text": [
      "+----+------------------------------------+--------------------------------------+---------------------------------+---------------------------------+\n",
      "|    | ('호선명', 'Unnamed: 1_level_1')   | ('지하철역', 'Unnamed: 3_level_1')   |   ('07:00:00~07:59:59', '하차') |   ('08:00:00~08:59:59', '하차') |\n",
      "|----+------------------------------------+--------------------------------------+---------------------------------+---------------------------------|\n",
      "|  0 | 1호선                              | 서울역                               |                          115372 |                          224224 |\n",
      "|  1 | 1호선                              | 시청                                 |                           71550 |                          183563 |\n",
      "|  2 | 1호선                              | 종각                                 |                          106889 |                          249815 |\n",
      "|  3 | 1호선                              | 종로3가                              |                           28024 |                           65287 |\n",
      "|  4 | 1호선                              | 종로5가                              |                           40044 |                           91110 |\n",
      "+----+------------------------------------+--------------------------------------+---------------------------------+---------------------------------+\n"
     ]
    },
    {
     "name": "stderr",
     "output_type": "stream",
     "text": [
      "C:\\Users\\KDP15\\AppData\\Local\\Temp\\ipykernel_7172\\1795271430.py:1: SettingWithCopyWarning: \n",
      "A value is trying to be set on a copy of a slice from a DataFrame.\n",
      "Try using .loc[row_indexer,col_indexer] = value instead\n",
      "\n",
      "See the caveats in the documentation: https://pandas.pydata.org/pandas-docs/stable/user_guide/indexing.html#returning-a-view-versus-a-copy\n",
      "  comnute_time_df[('07:00:00~07:59:59', '하차')]=comnute_time_df[('07:00:00~07:59:59', '하차')].apply(lambda x: x.replace(',',''))\n",
      "C:\\Users\\KDP15\\AppData\\Local\\Temp\\ipykernel_7172\\1795271430.py:2: SettingWithCopyWarning: \n",
      "A value is trying to be set on a copy of a slice from a DataFrame.\n",
      "Try using .loc[row_indexer,col_indexer] = value instead\n",
      "\n",
      "See the caveats in the documentation: https://pandas.pydata.org/pandas-docs/stable/user_guide/indexing.html#returning-a-view-versus-a-copy\n",
      "  comnute_time_df[('08:00:00~08:59:59', '하차')]=comnute_time_df[('08:00:00~08:59:59', '하차')].apply(lambda x: x.replace(',',''))\n"
     ]
    }
   ],
   "source": [
    "comnute_time_df[('07:00:00~07:59:59', '하차')]=comnute_time_df[('07:00:00~07:59:59', '하차')].apply(lambda x: x.replace(',',''))\n",
    "comnute_time_df[('08:00:00~08:59:59', '하차')]=comnute_time_df[('08:00:00~08:59:59', '하차')].apply(lambda x: x.replace(',',''))\n",
    "print(tabulate(comnute_time_df.head(), headers='keys', tablefmt='psql'))"
   ]
  },
  {
   "cell_type": "code",
   "execution_count": 7,
   "metadata": {},
   "outputs": [
    {
     "name": "stdout",
     "output_type": "stream",
     "text": [
      "호선명                Unnamed: 1_level_1    object\n",
      "지하철역               Unnamed: 3_level_1    object\n",
      "07:00:00~07:59:59  하차                     int64\n",
      "08:00:00~08:59:59  하차                     int64\n",
      "dtype: object\n"
     ]
    }
   ],
   "source": [
    "comnute_time_df = comnute_time_df.astype({('07:00:00~07:59:59', '하차'):'int64'})\n",
    "comnute_time_df = comnute_time_df.astype({('08:00:00~08:59:59', '하차'):'int64'})\n",
    "print(comnute_time_df.dtypes)"
   ]
  },
  {
   "cell_type": "code",
   "execution_count": 8,
   "metadata": {},
   "outputs": [],
   "source": [
    "row_sum_df= comnute_time_df.sum(axis=1, numeric_only=True)"
   ]
  },
  {
   "cell_type": "code",
   "execution_count": 9,
   "metadata": {},
   "outputs": [],
   "source": [
    "comnute_time_df['출근시간 총 하차 인원'] = row_sum_df"
   ]
  },
  {
   "cell_type": "code",
   "execution_count": 10,
   "metadata": {},
   "outputs": [],
   "source": [
    "station_list=[]"
   ]
  },
  {
   "cell_type": "code",
   "execution_count": 11,
   "metadata": {},
   "outputs": [],
   "source": [
    "number_list=[]"
   ]
  },
  {
   "cell_type": "code",
   "execution_count": 12,
   "metadata": {},
   "outputs": [
    {
     "name": "stdout",
     "output_type": "stream",
     "text": [
      "출근 시간대 1호선 최대 하차역: 종각역, 하차인원: 356,704명\n",
      "출근 시간대 2호선 최대 하차역: 역삼역, 하차인원: 488,949명\n",
      "출근 시간대 3호선 최대 하차역: 양재(서초구청)역, 하차인원: 318,850명\n",
      "출근 시간대 4호선 최대 하차역: 충무로역, 하차인원: 224,078명\n",
      "출근 시간대 5호선 최대 하차역: 여의도역, 하차인원: 340,464명\n",
      "출근 시간대 6호선 최대 하차역: 공덕역, 하차인원: 131,646명\n",
      "출근 시간대 7호선 최대 하차역: 가산디지털단지역, 하차인원: 494,848명\n"
     ]
    }
   ],
   "source": [
    "#반복문\n",
    "line_names = [f'{i}호선' for i in range(1, 8)]\n",
    "for line in line_names:\n",
    "    lineDF=comnute_time_df[comnute_time_df[('호선명', 'Unnamed: 1_level_1')]== line]\n",
    "    max_index=lineDF['출근시간 총 하차 인원'].idxmax()\n",
    "    line_name, line_station, line_number = comnute_time_df.iloc[max_index, [0, 1, 4]]\n",
    "    print(f'출근 시간대 {line_name} 최대 하차역: {line_station}역, 하차인원: {line_number:,}명')\n",
    "    station_list.append(line_name+ ' '+line_station)\n",
    "    number_list.append(line_number)"
   ]
  },
  {
   "cell_type": "code",
   "execution_count": 13,
   "metadata": {},
   "outputs": [
    {
     "data": {
      "text/plain": [
       "['1호선 종각',\n",
       " '2호선 역삼',\n",
       " '3호선 양재(서초구청)',\n",
       " '4호선 충무로',\n",
       " '5호선 여의도',\n",
       " '6호선 공덕',\n",
       " '7호선 가산디지털단지']"
      ]
     },
     "execution_count": 13,
     "metadata": {},
     "output_type": "execute_result"
    }
   ],
   "source": [
    "station_list"
   ]
  },
  {
   "cell_type": "code",
   "execution_count": 14,
   "metadata": {},
   "outputs": [
    {
     "data": {
      "text/plain": [
       "[356704, 488949, 318850, 224078, 340464, 131646, 494848]"
      ]
     },
     "execution_count": 14,
     "metadata": {},
     "output_type": "execute_result"
    }
   ],
   "source": [
    "number_list"
   ]
  },
  {
   "cell_type": "code",
   "execution_count": 15,
   "metadata": {},
   "outputs": [],
   "source": [
    "import matplotlib.pyplot as plt"
   ]
  },
  {
   "cell_type": "code",
   "execution_count": null,
   "metadata": {},
   "outputs": [],
   "source": []
  },
  {
   "cell_type": "code",
   "execution_count": 18,
   "metadata": {},
   "outputs": [
    {
     "data": {
      "image/png": "[encoded data removed]",
      "text/plain": [
       "<Figure size 640x480 with 1 Axes>"
      ]
     },
     "metadata": {},
     "output_type": "display_data"
    }
   ],
   "source": [
    "plt.figure(dpi=100)\n",
    "plt.bar(range(len(station_list)), number_list)\n",
    "plt.xticks(range(len(station_list)),station_list, rotation=80, fontsize=8)\n",
    "plt.suptitle('출근 시간대 지하철 노선별 최대 하차 인원 및 하차역')\n",
    "plt.show()"
   ]
  },
  {
   "cell_type": "code",
   "execution_count": null,
   "metadata": {},
   "outputs": [],
   "source": []
  }
 ],
 "metadata": {
  "kernelspec": {
   "display_name": "PY39",
   "language": "python",
   "name": "python3"
  },
  "language_info": {
   "codemirror_mode": {
    "name": "ipython",
    "version": 3
   },
   "file_extension": ".py",
   "mimetype": "text/x-python",
   "name": "python",
   "nbconvert_exporter": "python",
   "pygments_lexer": "ipython3",
   "version": "3.9.19"
  }
 },
 "nbformat": 4,
 "nbformat_minor": 2
}
