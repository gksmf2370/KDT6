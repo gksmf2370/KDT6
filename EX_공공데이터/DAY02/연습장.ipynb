{
 "cells": [
  {
   "cell_type": "code",
   "execution_count": 5,
   "metadata": {},
   "outputs": [
    {
     "name": "stdout",
     "output_type": "stream",
     "text": [
      "24 13\n"
     ]
    }
   ],
   "source": [
    "#첫째 줄에는 현재 시각이 나온다. \n",
    "#현재 시각은 시 A (0 ≤ A ≤ 23) 와 분 B (0 ≤ B ≤ 59)가 정수로 빈칸을 사이에 두고 순서대로 주어진다. \n",
    "#두 번째 줄에는 요리하는 데 필요한 시간 C (0 ≤ C ≤ 1,000)가 분 단위로 주어진다.\n",
    "#첫째 줄에 종료되는 시각의 시와 분을 공백을 사이에 두고 출력한다. \n",
    "# (단, 시는 0부터 23까지의 정수, 분은 0부터 59까지의 정수이다. 디지털 시계는 23시 59분에서 1분이 지나면 0시 0분이 된다.)\n",
    "#입력                    출력\n",
    "#14 30                   14 50\n",
    "#20                     \n",
    "\n",
    "a, b= map(int,input().split())\n",
    "c = int(input())\n",
    "\n",
    "num1= b+c\n",
    "while num1>=60:\n",
    "    if num1>=60:\n",
    "        num1=num1-60\n",
    "        a=a+1\n",
    "    \n",
    "print(a, num1)\n",
    "    \n"
   ]
  }
 ],
 "metadata": {
  "kernelspec": {
   "display_name": "PY39",
   "language": "python",
   "name": "python3"
  },
  "language_info": {
   "codemirror_mode": {
    "name": "ipython",
    "version": 3
   },
   "file_extension": ".py",
   "mimetype": "text/x-python",
   "name": "python",
   "nbconvert_exporter": "python",
   "pygments_lexer": "ipython3",
   "version": "3.9.19"
  }
 },
 "nbformat": 4,
 "nbformat_minor": 2
}
