{
 "cells": [
  {
   "cell_type": "markdown",
   "metadata": {},
   "source": [
    "#아래 주어진 총 6개 나라의 수도에 대한 국가명, 대륙, 인구수를 표시한 테이블을 이용하여 딕셔너리를 작성하고 아래와같이출력\n",
    "\n",
    "1. dictionary 생성\n",
    "    key: 수도 이름, value: 국가명, 대륙, 인구수\n",
    "\n",
    "2. 수도 이름 오름차순 출력\n",
    "    수도 이름을 기준으로 오름차순 정렬한 다음 dictionary의 모든 에티러르 출력\n",
    "    자리 수 맞춤\n",
    "\n",
    "3. 모든 도시의 인구수 내림차순 출력\n",
    "    인구수를 내림차순으로 정렬한 다음 수도이름 ,인구수만 화면에 출력\n",
    "    자리 수 맞춤\n",
    "\n",
    "4. 특정 도시의 정보 출력\n",
    "    화면에서 입력 받은 수도 이름이 딕셔너리의 key에 존재하면, 해당 수도의 모든 정보를 화면에 출력함\n",
    "    수도 이름이 딕셔너리에 존재하지 않으면 '도시이름:xxx은 key에 없습니다.\"를 출력\n",
    "\n",
    "5. 대륙별 인구수 계산 및 출력\n",
    "    화면에서 대륙 이름을 입력 받고 해당 대륙에 속한 국가들의 인구수를 출력하고 전체 인구수의 합을 계산하여 출력\n",
    "        잘못된 대륙 이름 검사는 없음\n",
    "        \n",
    "6. 프로그램 종료"
   ]
  },
  {
   "cell_type": "code",
   "execution_count": 11,
   "metadata": {},
   "outputs": [],
   "source": [
    "country=dict(zip(['Seoul','Tokyo','Beijing','London','Berlin','Mexico City'], [['South Korea','Asia','9,655,000'],\n",
    "                                                                        ['Japan','Asia','14,110,000'],\n",
    "                                                                        ['China','Asia','21,540,000'],\n",
    "                                                                        ['United Kingdom','Europe','14,800,000'],\n",
    "                                                                        ['Germany','Europe','3,426,000'],\n",
    "                                                                        ['Mexico', 'America', '21,200,000']]))"
   ]
  },
  {
   "cell_type": "code",
   "execution_count": 12,
   "metadata": {},
   "outputs": [
    {
     "name": "stdout",
     "output_type": "stream",
     "text": [
      "[1] Seoul: ['South Korea', 'Asia', '9,655,000']\n",
      "[2] Tokyo: ['Japan', 'Asia', '14,110,000']\n",
      "[3] Beijing: ['China', 'Asia', '21,540,000']\n",
      "[4] London: ['United Kingdom', 'Europe', '14,800,000']\n",
      "[5] Berlin: ['Germany', 'Europe', '3,426,000']\n",
      "[6] Mexico City: ['Mexico', 'America', '21,200,000']\n"
     ]
    }
   ],
   "source": [
    "# 1번 메뉴\n",
    "num=1\n",
    "for i, j in country.items():\n",
    "    print(f'[{num}] {i}: {j}')\n",
    "    num +=1"
   ]
  },
  {
   "cell_type": "code",
   "execution_count": 13,
   "metadata": {},
   "outputs": [
    {
     "name": "stdout",
     "output_type": "stream",
     "text": [
      "[1] Beijing      : China             Asia       21,540,000\n",
      "[2] Berlin       : Germany           Europe     3,426,000\n",
      "[3] London       : United Kingdom    Europe     14,800,000\n",
      "[4] Mexico City  : Mexico            America    21,200,000\n",
      "[5] Seoul        : South Korea       Asia       9,655,000\n",
      "[6] Tokyo        : Japan             Asia       14,110,000\n"
     ]
    }
   ],
   "source": [
    "# 2번 메뉴 오름차순정렬\n",
    "sorted_country=dict(sorted(country.items()))\n",
    "index=1\n",
    "for con, value in sorted_country.items():\n",
    "    country_name, continent, population = value\n",
    "    print(f\"[{index}] {con:<12} : {country_name:<17} {continent:<10} {population}\")\n",
    "    index += 1"
   ]
  },
  {
   "cell_type": "code",
   "execution_count": 14,
   "metadata": {},
   "outputs": [
    {
     "data": {
      "text/plain": [
       "dict_items([('Seoul', ['South Korea', 'Asia', '9,655,000']), ('Tokyo', ['Japan', 'Asia', '14,110,000']), ('Beijing', ['China', 'Asia', '21,540,000']), ('London', ['United Kingdom', 'Europe', '14,800,000']), ('Berlin', ['Germany', 'Europe', '3,426,000']), ('Mexico City', ['Mexico', 'America', '21,200,000'])])"
      ]
     },
     "execution_count": 14,
     "metadata": {},
     "output_type": "execute_result"
    }
   ],
   "source": [
    "country.items()"
   ]
  },
  {
   "cell_type": "code",
   "execution_count": 15,
   "metadata": {},
   "outputs": [
    {
     "name": "stdout",
     "output_type": "stream",
     "text": [
      "[1] Beijing      : China             Asia       21,540,000\n",
      "[2] Mexico City  : Mexico            America    21,200,000\n",
      "[3] London       : United Kingdom    Europe     14,800,000\n",
      "[4] Tokyo        : Japan             Asia       14,110,000\n",
      "[5] Seoul        : South Korea       Asia       9,655,000\n",
      "[6] Berlin       : Germany           Europe     3,426,000\n"
     ]
    }
   ],
   "source": [
    " # 3번 인구수 내림차순 출력\n",
    "converted_country = dict(map(lambda item: (item[0], [item[1][0], item[1][1], int(item[1][2].replace(',', ''))]), country.items()))\n",
    "sorted_country = dict(sorted(converted_country.items(), key=lambda item: item[1][2], reverse=True))\n",
    "index = 1\n",
    "for con, value in sorted_country.items():\n",
    "    country_name, continent, population = value\n",
    "    print(f\"[{index}] {con:<12} : {country_name:<17} {continent:<10} {population:,}\")\n",
    "    index += 1"
   ]
  },
  {
   "cell_type": "code",
   "execution_count": 21,
   "metadata": {},
   "outputs": [
    {
     "data": {
      "text/plain": [
       "dict_items([('Seoul', ['South Korea', 'Asia', '9,655,000']), ('Tokyo', ['Japan', 'Asia', '14,110,000']), ('Beijing', ['China', 'Asia', '21,540,000']), ('London', ['United Kingdom', 'Europe', '14,800,000']), ('Berlin', ['Germany', 'Europe', '3,426,000']), ('Mexico City', ['Mexico', 'America', '21,200,000'])])"
      ]
     },
     "execution_count": 21,
     "metadata": {},
     "output_type": "execute_result"
    }
   ],
   "source": [
    "country.items()"
   ]
  },
  {
   "cell_type": "code",
   "execution_count": 19,
   "metadata": {},
   "outputs": [
    {
     "data": {
      "text/plain": [
       "{'Seoul': ['South Korea', 'Asia', 9655000],\n",
       " 'Tokyo': ['Japan', 'Asia', 14110000],\n",
       " 'Beijing': ['China', 'Asia', 21540000],\n",
       " 'London': ['United Kingdom', 'Europe', 14800000],\n",
       " 'Berlin': ['Germany', 'Europe', 3426000],\n",
       " 'Mexico City': ['Mexico', 'America', 21200000]}"
      ]
     },
     "execution_count": 19,
     "metadata": {},
     "output_type": "execute_result"
    }
   ],
   "source": [
    "converted_country"
   ]
  },
  {
   "cell_type": "code",
   "execution_count": 16,
   "metadata": {},
   "outputs": [
    {
     "name": "stdout",
     "output_type": "stream",
     "text": [
      "도시:Beijing\n",
      "국가:China, 대륙:Asia, 인구수:21,540,000\n"
     ]
    }
   ],
   "source": [
    "# 4번 특정 도시의 정보 출력\n",
    "a= input(\"출력할 도시 이름을 입력하세요 : \")\n",
    "if country.get(a) == None:\n",
    "    print(f'도시이름:{a}은 key에 없습니다')\n",
    "else:\n",
    "    b=country.get(a)\n",
    "    print(f'도시:{a}')\n",
    "    print(f'국가:{b[0]}, 대륙:{b[1]}, 인구수:{b[2]}')"
   ]
  },
  {
   "cell_type": "code",
   "execution_count": 17,
   "metadata": {},
   "outputs": [
    {
     "name": "stdout",
     "output_type": "stream",
     "text": [
      "China 전체인구수: 0\n"
     ]
    }
   ],
   "source": [
    "# 5번 대륙별 인구수 계산 및 출력\n",
    "converted_country = dict(map(lambda item: (item[0], [item[1][0], item[1][1], int(item[1][2].replace(',', ''))]), country.items()))\n",
    "continent_name = input(\"대륙 이름을 입력하세요(Asia, Europe, America) : \")\n",
    "total_population = 0\n",
    "cities = []\n",
    "\n",
    "for con, value in converted_country.items():\n",
    "    country_name, continent, population = value\n",
    "    if continent == continent_name:\n",
    "        total_population += population\n",
    "        print(f'{con}: {population:,} ')\n",
    "print(f'{continent_name} 전체인구수: {total_population:,}')\n"
   ]
  },
  {
   "cell_type": "code",
   "execution_count": 18,
   "metadata": {},
   "outputs": [],
   "source": [
    "# 6번 종료"
   ]
  }
 ],
 "metadata": {
  "kernelspec": {
   "display_name": "PY39",
   "language": "python",
   "name": "python3"
  },
  "language_info": {
   "codemirror_mode": {
    "name": "ipython",
    "version": 3
   },
   "file_extension": ".py",
   "mimetype": "text/x-python",
   "name": "python",
   "nbconvert_exporter": "python",
   "pygments_lexer": "ipython3",
   "version": "3.9.19"
  }
 },
 "nbformat": 4,
 "nbformat_minor": 2
}
