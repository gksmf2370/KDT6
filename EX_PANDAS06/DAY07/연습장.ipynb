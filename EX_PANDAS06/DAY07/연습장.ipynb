{
 "cells": [
  {
   "cell_type": "code",
   "execution_count": 1,
   "metadata": {},
   "outputs": [
    {
     "name": "stdout",
     "output_type": "stream",
     "text": [
      "              X  Y\n",
      "first second      \n",
      "A     one     1  4\n",
      "      two     2  3\n",
      "B     one     3  2\n",
      "      two     4  1\n"
     ]
    }
   ],
   "source": [
    "import pandas as pd\n",
    "import numpy as np\n",
    "\n",
    "# 멀티인덱스 생성\n",
    "arrays = [\n",
    "    ['A', 'A', 'B', 'B'],\n",
    "    ['one', 'two', 'one', 'two']\n",
    "]\n",
    "index = pd.MultiIndex.from_arrays(arrays, names=('first', 'second'))\n",
    "\n",
    "# 데이터프레임 생성\n",
    "df = pd.DataFrame({\n",
    "    'X': [1, 2, 3, 4],\n",
    "    'Y': [4, 3, 2, 1]\n",
    "}, index=index)\n",
    "\n",
    "print(df)"
   ]
  },
  {
   "cell_type": "code",
   "execution_count": 3,
   "metadata": {},
   "outputs": [
    {
     "name": "stdout",
     "output_type": "stream",
     "text": [
      "\n",
      "Max values for each first level index:\n",
      "       X  Y\n",
      "first      \n",
      "A      2  4\n",
      "B      4  2\n"
     ]
    }
   ],
   "source": [
    "max_values = df.groupby(level=0).apply(lambda x: x.max())\n",
    "print(\"\\nMax values for each first level index:\")\n",
    "print(max_values)"
   ]
  },
  {
   "cell_type": "code",
   "execution_count": 4,
   "metadata": {},
   "outputs": [
    {
     "name": "stdout",
     "output_type": "stream",
     "text": [
      "\n",
      "Overall max values for each column:\n",
      "X    4\n",
      "Y    4\n",
      "dtype: int64\n"
     ]
    }
   ],
   "source": [
    "max_values_overall = df.max()\n",
    "print(\"\\nOverall max values for each column:\")\n",
    "print(max_values_overall)"
   ]
  },
  {
   "cell_type": "code",
   "execution_count": null,
   "metadata": {},
   "outputs": [],
   "source": []
  }
 ],
 "metadata": {
  "kernelspec": {
   "display_name": "PY39",
   "language": "python",
   "name": "python3"
  },
  "language_info": {
   "codemirror_mode": {
    "name": "ipython",
    "version": 3
   },
   "file_extension": ".py",
   "mimetype": "text/x-python",
   "name": "python",
   "nbconvert_exporter": "python",
   "pygments_lexer": "ipython3",
   "version": "3.9.19"
  }
 },
 "nbformat": 4,
 "nbformat_minor": 2
}
