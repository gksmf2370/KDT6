{
 "cells": [
  {
   "cell_type": "code",
   "execution_count": 88,
   "metadata": {},
   "outputs": [],
   "source": [
    "# 모듈 불러오기\n",
    "import pandas as pd"
   ]
  },
  {
   "cell_type": "code",
   "execution_count": 89,
   "metadata": {},
   "outputs": [],
   "source": [
    "# (1-01)\n",
    "# 데이터 저장\n",
    "data_ice={'이름':['메로나','비비빅','죠스바'],\n",
    "          '가격':[300, 400, 250],\n",
    "          '재고':[20, 3, 100]}\n"
   ]
  },
  {
   "cell_type": "code",
   "execution_count": 90,
   "metadata": {},
   "outputs": [
    {
     "data": {
      "text/html": [
       "<div>\n",
       "<style scoped>\n",
       "    .dataframe tbody tr th:only-of-type {\n",
       "        vertical-align: middle;\n",
       "    }\n",
       "\n",
       "    .dataframe tbody tr th {\n",
       "        vertical-align: top;\n",
       "    }\n",
       "\n",
       "    .dataframe thead th {\n",
       "        text-align: right;\n",
       "    }\n",
       "</style>\n",
       "<table border=\"1\" class=\"dataframe\">\n",
       "  <thead>\n",
       "    <tr style=\"text-align: right;\">\n",
       "      <th></th>\n",
       "      <th>이름</th>\n",
       "      <th>가격</th>\n",
       "      <th>재고</th>\n",
       "    </tr>\n",
       "  </thead>\n",
       "  <tbody>\n",
       "    <tr>\n",
       "      <th>0</th>\n",
       "      <td>메로나</td>\n",
       "      <td>300</td>\n",
       "      <td>20</td>\n",
       "    </tr>\n",
       "    <tr>\n",
       "      <th>1</th>\n",
       "      <td>비비빅</td>\n",
       "      <td>400</td>\n",
       "      <td>3</td>\n",
       "    </tr>\n",
       "    <tr>\n",
       "      <th>2</th>\n",
       "      <td>죠스바</td>\n",
       "      <td>250</td>\n",
       "      <td>100</td>\n",
       "    </tr>\n",
       "  </tbody>\n",
       "</table>\n",
       "</div>"
      ],
      "text/plain": [
       "    이름   가격   재고\n",
       "0  메로나  300   20\n",
       "1  비비빅  400    3\n",
       "2  죠스바  250  100"
      ]
     },
     "execution_count": 90,
     "metadata": {},
     "output_type": "execute_result"
    }
   ],
   "source": [
    "## dict ==> DataFrame\n",
    "iceDF=pd.DataFrame(data_ice)\n",
    "iceDF"
   ]
  },
  {
   "cell_type": "code",
   "execution_count": 91,
   "metadata": {},
   "outputs": [
    {
     "name": "stdout",
     "output_type": "stream",
     "text": [
      "index : RangeIndex(start=0, stop=3, step=1)\n",
      "columns : Index(['이름', '가격', '재고'], dtype='object')\n",
      "values : [['메로나' 300 20]\n",
      " ['비비빅' 400 3]\n",
      " ['죠스바' 250 100]]\n",
      "dtypes : <class 'pandas.core.series.Series'>\n",
      "이름    object\n",
      "가격     int64\n",
      "재고     int64\n",
      "dtype: object\n",
      "ndim : 2\n",
      "shape : (3, 3)\n"
     ]
    }
   ],
   "source": [
    "# (1-02)\n",
    "# 데이터 속성 6가지 출력\n",
    "print(f'index : {iceDF.index}')\n",
    "print(f'columns : {iceDF.columns}')\n",
    "print(f'values : {iceDF.values}')\n",
    "print(f'dtypes : {type(iceDF.dtypes)}\\n{iceDF.dtypes}')\n",
    "print(f'ndim : {iceDF.ndim}')\n",
    "print(f'shape : {iceDF.shape}')"
   ]
  },
  {
   "cell_type": "code",
   "execution_count": 92,
   "metadata": {},
   "outputs": [
    {
     "name": "stdout",
     "output_type": "stream",
     "text": [
      "0    300\n",
      "1    400\n",
      "2    250\n",
      "Name: 가격, dtype: int64\n"
     ]
    }
   ],
   "source": [
    "# (1-03)\n",
    "# 가격데이터만 추출\n",
    "print(iceDF['가격'])"
   ]
  },
  {
   "cell_type": "code",
   "execution_count": 93,
   "metadata": {},
   "outputs": [
    {
     "name": "stdout",
     "output_type": "stream",
     "text": [
      "    이름   재고\n",
      "0  메로나   20\n",
      "1  비비빅    3\n",
      "2  죠스바  100\n"
     ]
    }
   ],
   "source": [
    "# (1-04)\n",
    "# 이름과 재고 데이터 추출\n",
    "print(iceDF[['이름','재고']])"
   ]
  },
  {
   "cell_type": "code",
   "execution_count": 94,
   "metadata": {},
   "outputs": [
    {
     "data": {
      "text/plain": [
       "가격    400\n",
       "재고      3\n",
       "Name: 1, dtype: object"
      ]
     },
     "execution_count": 94,
     "metadata": {},
     "output_type": "execute_result"
    }
   ],
   "source": [
    "# (1-05) 비비빅의 가격과 재고 데이터를 추출\n",
    "iceDF.loc[1,['가격','재고']]"
   ]
  },
  {
   "cell_type": "code",
   "execution_count": 95,
   "metadata": {},
   "outputs": [
    {
     "data": {
      "text/html": [
       "<div>\n",
       "<style scoped>\n",
       "    .dataframe tbody tr th:only-of-type {\n",
       "        vertical-align: middle;\n",
       "    }\n",
       "\n",
       "    .dataframe tbody tr th {\n",
       "        vertical-align: top;\n",
       "    }\n",
       "\n",
       "    .dataframe thead th {\n",
       "        text-align: right;\n",
       "    }\n",
       "</style>\n",
       "<table border=\"1\" class=\"dataframe\">\n",
       "  <thead>\n",
       "    <tr style=\"text-align: right;\">\n",
       "      <th></th>\n",
       "      <th>가격</th>\n",
       "      <th>재고</th>\n",
       "    </tr>\n",
       "  </thead>\n",
       "  <tbody>\n",
       "    <tr>\n",
       "      <th>0</th>\n",
       "      <td>300</td>\n",
       "      <td>20</td>\n",
       "    </tr>\n",
       "    <tr>\n",
       "      <th>1</th>\n",
       "      <td>400</td>\n",
       "      <td>3</td>\n",
       "    </tr>\n",
       "  </tbody>\n",
       "</table>\n",
       "</div>"
      ],
      "text/plain": [
       "    가격  재고\n",
       "0  300  20\n",
       "1  400   3"
      ]
     },
     "execution_count": 95,
     "metadata": {},
     "output_type": "execute_result"
    }
   ],
   "source": [
    "# (1-06) 메로나와 죠스바의 가격, 재고 데이터를 추출 하세요\n",
    "iceDF.loc[0:1,['가격','재고']]"
   ]
  },
  {
   "cell_type": "code",
   "execution_count": 96,
   "metadata": {},
   "outputs": [
    {
     "name": "stdout",
     "output_type": "stream",
     "text": [
      "    이름   가격   재고\n",
      "일  메로나  300   20\n",
      "이  비비빅  400    3\n",
      "삼  죠스바  250  100\n"
     ]
    }
   ],
   "source": [
    "# (1-07) 행인덱스를 일 이 삼으로 변경해 주세요\n",
    "iceDF.index=['일','이','삼']\n",
    "print(iceDF)"
   ]
  },
  {
   "cell_type": "code",
   "execution_count": 97,
   "metadata": {},
   "outputs": [
    {
     "name": "stdout",
     "output_type": "stream",
     "text": [
      "    이름   가격   재고  총가격\n",
      "일  메로나  300   20    0\n",
      "이  비비빅  400    3    0\n",
      "삼  죠스바  250  100    0\n"
     ]
    }
   ],
   "source": [
    "# (1-08) 총가격 컬럼을 추가 후 0으로 값을 채우기\n",
    "iceDF['총가격']=0\n",
    "print(iceDF)"
   ]
  },
  {
   "cell_type": "code",
   "execution_count": 98,
   "metadata": {},
   "outputs": [
    {
     "name": "stdout",
     "output_type": "stream",
     "text": [
      "    이름   가격   재고 총가격\n",
      "일  메로나  300   20   0\n",
      "이  비비빅  400    3   0\n",
      "삼  죠스바  250  100   0\n",
      "사  빵빠레  550   10   0\n"
     ]
    }
   ],
   "source": [
    "# (1-09)'빵빠레', 550원, 10개 데이터를 추가해주세요\n",
    "iceDF.loc['사']=['빵빠레','550','10','0']\n",
    "print(iceDF)"
   ]
  },
  {
   "cell_type": "code",
   "execution_count": 99,
   "metadata": {},
   "outputs": [
    {
     "name": "stdout",
     "output_type": "stream",
     "text": [
      "    이름   가격   재고 총가격\n",
      "일  메로나  300   20   0\n",
      "이  비비빅  400   23   0\n",
      "삼  죠스바  250  100   0\n",
      "사  빵빠레  550   10   0\n"
     ]
    }
   ],
   "source": [
    "# (1-10) 비비빅의 재고 23으로 변경\n",
    "iceDF.iloc[1,2]=23\n",
    "print(iceDF)"
   ]
  },
  {
   "cell_type": "code",
   "execution_count": 100,
   "metadata": {},
   "outputs": [
    {
     "name": "stdout",
     "output_type": "stream",
     "text": [
      "      시가     고가     저가     종가\n",
      "0   2000   3050   2050   1980\n",
      "1   7500   2050   2050   1980\n",
      "2  15450  15050  15550  14900\n"
     ]
    }
   ],
   "source": [
    "# (2-1) 데이터 저장\n",
    "data=[[2000,3050,2050,1980],[7500,2050,2050,1980],[15450, 15050, 15550, 14900]]\n",
    "dataDF=pd.DataFrame(data,columns=['시가','고가','저가','종가'])\n",
    "\n",
    "print(dataDF)\n"
   ]
  },
  {
   "cell_type": "code",
   "execution_count": 101,
   "metadata": {},
   "outputs": [
    {
     "name": "stdout",
     "output_type": "stream",
     "text": [
      "index : RangeIndex(start=0, stop=3, step=1)\n",
      "columns : Index(['시가', '고가', '저가', '종가'], dtype='object')\n",
      "values : [[ 2000  3050  2050  1980]\n",
      " [ 7500  2050  2050  1980]\n",
      " [15450 15050 15550 14900]]\n",
      "dtypes : <class 'pandas.core.series.Series'>\n",
      "시가    int64\n",
      "고가    int64\n",
      "저가    int64\n",
      "종가    int64\n",
      "dtype: object\n",
      "ndim : 2\n",
      "shape : (3, 4)\n"
     ]
    }
   ],
   "source": [
    "# (2-2) 데이터 저장후 속성6가지 출력\n",
    "print(f'index : {dataDF.index}')\n",
    "print(f'columns : {dataDF.columns}')\n",
    "print(f'values : {dataDF.values}')\n",
    "print(f'dtypes : {type(dataDF.dtypes)}\\n{dataDF.dtypes}')\n",
    "print(f'ndim : {dataDF.ndim}')\n",
    "print(f'shape : {dataDF.shape}')"
   ]
  },
  {
   "cell_type": "code",
   "execution_count": 102,
   "metadata": {},
   "outputs": [
    {
     "name": "stdout",
     "output_type": "stream",
     "text": [
      "               시가     고가     저가     종가\n",
      "2024-01-01   2000   3050   2050   1980\n",
      "2024-02-01   7500   2050   2050   1980\n",
      "2024-03-01  15450  15050  15550  14900\n"
     ]
    }
   ],
   "source": [
    "# (2-3) 행 인덱스를 2024-01-01, 2024-02-01, 2024-03-01로 변경\n",
    "dataDF.index=['2024-01-01','2024-02-01','2024-03-01']\n",
    "print(dataDF)"
   ]
  },
  {
   "cell_type": "code",
   "execution_count": 103,
   "metadata": {},
   "outputs": [
    {
     "name": "stdout",
     "output_type": "stream",
     "text": [
      "             open   high    low  close\n",
      "2024-01-01   2000   3050   2050   1980\n",
      "2024-02-01   7500   2050   2050   1980\n",
      "2024-03-01  15450  15050  15550  14900\n"
     ]
    }
   ],
   "source": [
    "# (2-4) 열 인덱스를 open/high/low/close로 변경\n",
    "dataDF.columns=[['open','high','low','close']]\n",
    "print(dataDF)"
   ]
  },
  {
   "cell_type": "code",
   "execution_count": 105,
   "metadata": {},
   "outputs": [
    {
     "data": {
      "text/plain": [
       "high     2050\n",
       "close    1980\n",
       "Name: 2024-02-01, dtype: int64"
      ]
     },
     "execution_count": 105,
     "metadata": {},
     "output_type": "execute_result"
    }
   ],
   "source": [
    "# (2-5) 2024-02-01의 high, close데이터 추출\n",
    "dataDF.loc['2024-02-01',['high','close']]"
   ]
  },
  {
   "cell_type": "code",
   "execution_count": null,
   "metadata": {},
   "outputs": [
    {
     "name": "stdout",
     "output_type": "stream",
     "text": [
      "             open   high    low  close\n",
      "2024-01-01   2000   3050   2050   1980\n",
      "2024-02-01   7500   2050   2050   1980\n",
      "2024-03-01  15450  15050  15550  14900\n",
      "2024-04-01   3200   3550   3000   2990\n"
     ]
    }
   ],
   "source": [
    "# (2-6) 2024-04-01의 3200 3550 3000 2990 추가\n",
    "dataDF.loc['2024-04-01']=[3200,3550,3000,2990]\n",
    "print(dataDF)"
   ]
  },
  {
   "cell_type": "code",
   "execution_count": 106,
   "metadata": {},
   "outputs": [
    {
     "data": {
      "text/html": [
       "<div>\n",
       "<style scoped>\n",
       "    .dataframe tbody tr th:only-of-type {\n",
       "        vertical-align: middle;\n",
       "    }\n",
       "\n",
       "    .dataframe tbody tr th {\n",
       "        vertical-align: top;\n",
       "    }\n",
       "\n",
       "    .dataframe thead tr th {\n",
       "        text-align: left;\n",
       "    }\n",
       "</style>\n",
       "<table border=\"1\" class=\"dataframe\">\n",
       "  <thead>\n",
       "    <tr>\n",
       "      <th></th>\n",
       "      <th>open</th>\n",
       "      <th>high</th>\n",
       "      <th>low</th>\n",
       "      <th>close</th>\n",
       "    </tr>\n",
       "  </thead>\n",
       "  <tbody>\n",
       "    <tr>\n",
       "      <th>2024-02-01</th>\n",
       "      <td>7500</td>\n",
       "      <td>2050</td>\n",
       "      <td>2050</td>\n",
       "      <td>1980</td>\n",
       "    </tr>\n",
       "    <tr>\n",
       "      <th>2024-03-01</th>\n",
       "      <td>15450</td>\n",
       "      <td>15050</td>\n",
       "      <td>15550</td>\n",
       "      <td>14900</td>\n",
       "    </tr>\n",
       "  </tbody>\n",
       "</table>\n",
       "</div>"
      ],
      "text/plain": [
       "             open   high    low  close\n",
       "2024-02-01   7500   2050   2050   1980\n",
       "2024-03-01  15450  15050  15550  14900"
      ]
     },
     "execution_count": 106,
     "metadata": {},
     "output_type": "execute_result"
    }
   ],
   "source": [
    "# (2-7) 2024-01-01 데이터삭제\n",
    "dataDF.drop('2024-01-01')"
   ]
  },
  {
   "cell_type": "code",
   "execution_count": 108,
   "metadata": {},
   "outputs": [
    {
     "name": "stdout",
     "output_type": "stream",
     "text": [
      "             open   high    low  close\n",
      "2024-01-01   2000   3050   2050   1980\n",
      "2024-02-01   7500   2050   2050   1980\n",
      "2024-03-01  15450  15050  14000  14900\n"
     ]
    }
   ],
   "source": [
    "# (2-8) 2024-03-01의 low값을 14000으로 변경경\n",
    "dataDF.loc['2024-03-01','low']=14000\n",
    "print(dataDF)"
   ]
  },
  {
   "cell_type": "code",
   "execution_count": 109,
   "metadata": {},
   "outputs": [
    {
     "name": "stdout",
     "output_type": "stream",
     "text": [
      "             open   high    low  close\n",
      "2024-01-01   2000   3050   2050   1980\n",
      "2024-02-01   7500   2050   2050   1980\n",
      "2024-03-01  15450  15050  14000  14900\n"
     ]
    }
   ],
   "source": [
    "print(dataDF)"
   ]
  },
  {
   "cell_type": "code",
   "execution_count": 110,
   "metadata": {},
   "outputs": [
    {
     "name": "stdout",
     "output_type": "stream",
     "text": [
      "             open   high    low  close average\n",
      "2024-01-01   2000   3050   2050   1980       0\n",
      "2024-02-01   7500   2050   2050   1980       0\n",
      "2024-03-01  15450  15050  14000  14900       0\n"
     ]
    }
   ],
   "source": [
    "# (2-9) average 칼럼을 추가 후 0값 추가\n",
    "dataDF['average']=0\n",
    "print(dataDF)"
   ]
  },
  {
   "cell_type": "code",
   "execution_count": 111,
   "metadata": {},
   "outputs": [
    {
     "name": "stdout",
     "output_type": "stream",
     "text": [
      "             open   high    low  close average total\n",
      "2024-01-01   2000   3050   2050   1980       0     0\n",
      "2024-02-01   7500   2050   2050   1980       0     0\n",
      "2024-03-01  15450  15050  14000  14900       0     0\n"
     ]
    }
   ],
   "source": [
    "# (2-10) Total행을 추가 0값채우기\n",
    "dataDF['total'] =0\n",
    "print(dataDF)"
   ]
  },
  {
   "cell_type": "code",
   "execution_count": null,
   "metadata": {},
   "outputs": [],
   "source": [
    "\n",
    "# 3-01 판다스는 데이터를 분석하기 위한 패키지\n",
    "# 3-02 데이터프레임\n",
    "# 3-03 어레이\n",
    "# 3-04 데이터프레임\n",
    "# 3-05 numpy 배열\n",
    "# 3-06 시리즈\n",
    "# 3-07 시리즈\n",
    "# 3-08 데이터프레임"
   ]
  }
 ],
 "metadata": {
  "kernelspec": {
   "display_name": "PY39",
   "language": "python",
   "name": "python3"
  },
  "language_info": {
   "codemirror_mode": {
    "name": "ipython",
    "version": 3
   },
   "file_extension": ".py",
   "mimetype": "text/x-python",
   "name": "python",
   "nbconvert_exporter": "python",
   "pygments_lexer": "ipython3",
   "version": "3.9.19"
  }
 },
 "nbformat": 4,
 "nbformat_minor": 2
}
