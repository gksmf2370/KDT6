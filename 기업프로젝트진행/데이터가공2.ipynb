{
 "cells": [
  {
   "cell_type": "code",
   "execution_count": null,
   "metadata": {},
   "outputs": [],
   "source": [
    "df = pd.read_csv(r\"C:\\Users\\KDP15\\Documents\\카카오톡 받은 파일\\바웰공정데이터(1차데이터).csv\")"
   ]
  }
 ],
 "metadata": {
  "kernelspec": {
   "display_name": "yesmate",
   "language": "python",
   "name": "python3"
  },
  "language_info": {
   "name": "python",
   "version": "3.8.20"
  }
 },
 "nbformat": 4,
 "nbformat_minor": 2
}
