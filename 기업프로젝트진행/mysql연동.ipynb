{
 "cells": [
  {
   "cell_type": "code",
   "execution_count": 8,
   "metadata": {},
   "outputs": [],
   "source": [
    "import mysql.connector\n",
    "import joblib\n",
    "from datetime import datetime\n",
    "import time\n",
    "import numpy as np\n",
    "from sklearn.linear_model import LinearRegression\n",
    "from sklearn.ensemble import RandomForestRegressor"
   ]
  },
  {
   "cell_type": "code",
   "execution_count": 9,
   "metadata": {},
   "outputs": [
    {
     "name": "stdout",
     "output_type": "stream",
     "text": [
      "MySQL에 성공적으로 연결되었습니다\n"
     ]
    }
   ],
   "source": [
    "conn = mysql.connector.connect(\n",
    "    host = 'localhost',\n",
    "    user ='root',\n",
    "    password = '1234',\n",
    "    database = 'bawel'\n",
    ")\n",
    "# 연결 확인\n",
    "if conn.is_connected():\n",
    "    print(\"MySQL에 성공적으로 연결되었습니다\")\n",
    "else:\n",
    "    print(\"MySQL 연결 실패\")"
   ]
  },
  {
   "cell_type": "code",
   "execution_count": 10,
   "metadata": {},
   "outputs": [],
   "source": [
    "cursor = conn.cursor()"
   ]
  },
  {
   "cell_type": "code",
   "execution_count": 11,
   "metadata": {},
   "outputs": [],
   "source": [
    "model = joblib.load('forest_model.pkl')"
   ]
  },
  {
   "cell_type": "code",
   "execution_count": 12,
   "metadata": {},
   "outputs": [],
   "source": [
    "# 현재 시간 기준 데이터 가져오기\n",
    "def fetch_data_by_current_time(cursor, current_time):\n",
    "    query = \"\"\"\n",
    "    SELECT c_temp_pv, k_rpm_pv, n_temp_pv, s_temp_pv, scale_pv\n",
    "    FROM linear_model\n",
    "    WHERE timestamp = %s\n",
    "    \"\"\"\n",
    "    cursor.execute(query, (current_time,))\n",
    "    rows = cursor.fetchall()\n",
    "    return rows"
   ]
  },
  {
   "cell_type": "code",
   "execution_count": 13,
   "metadata": {},
   "outputs": [],
   "source": [
    "# 예측값과 loss를 함께 저장하는 함수\n",
    "def save_prediction_to_db(cursor, prediction, loss, timestamp):\n",
    "    query = \"\"\"\n",
    "    INSERT INTO predictions (timestamp, predicted_scale_pv, loss)\n",
    "    VALUES (%s, %s, %s)\n",
    "    \"\"\"\n",
    "    cursor.execute(query, (timestamp, prediction, loss))\n",
    "    conn.commit()\n"
   ]
  },
  {
   "cell_type": "code",
   "execution_count": 14,
   "metadata": {},
   "outputs": [
    {
     "name": "stdout",
     "output_type": "stream",
     "text": [
      "현재 시간: 2024-11-26 17:46:48\n",
      "예측된 scale_pv 값: 3.0512261904761897, Loss 값: 0.010997642283767206\n"
     ]
    },
    {
     "name": "stderr",
     "output_type": "stream",
     "text": [
      "c:\\Users\\KDP15\\anaconda3\\envs\\yesmate\\lib\\site-packages\\sklearn\\base.py:464: UserWarning: X does not have valid feature names, but RandomForestRegressor was fitted with feature names\n",
      "  warnings.warn(\n"
     ]
    },
    {
     "name": "stdout",
     "output_type": "stream",
     "text": [
      "현재 시간: 2024-11-26 17:46:49\n",
      "예측된 scale_pv 값: 3.0389749999999998, Loss 값: 0.0014274092464847676\n"
     ]
    },
    {
     "name": "stderr",
     "output_type": "stream",
     "text": [
      "c:\\Users\\KDP15\\anaconda3\\envs\\yesmate\\lib\\site-packages\\sklearn\\base.py:464: UserWarning: X does not have valid feature names, but RandomForestRegressor was fitted with feature names\n",
      "  warnings.warn(\n"
     ]
    },
    {
     "name": "stdout",
     "output_type": "stream",
     "text": [
      "현재 시간: 2024-11-26 17:46:50\n",
      "예측된 scale_pv 값: 3.0440511904761904, Loss 값: 0.0032192661315688653\n"
     ]
    },
    {
     "name": "stderr",
     "output_type": "stream",
     "text": [
      "c:\\Users\\KDP15\\anaconda3\\envs\\yesmate\\lib\\site-packages\\sklearn\\base.py:464: UserWarning: X does not have valid feature names, but RandomForestRegressor was fitted with feature names\n",
      "  warnings.warn(\n"
     ]
    },
    {
     "name": "stdout",
     "output_type": "stream",
     "text": [
      "현재 시간: 2024-11-26 17:46:51\n",
      "예측된 scale_pv 값: 3.034950000000001, Loss 값: 0.006402417816936179\n"
     ]
    },
    {
     "name": "stderr",
     "output_type": "stream",
     "text": [
      "c:\\Users\\KDP15\\anaconda3\\envs\\yesmate\\lib\\site-packages\\sklearn\\base.py:464: UserWarning: X does not have valid feature names, but RandomForestRegressor was fitted with feature names\n",
      "  warnings.warn(\n"
     ]
    },
    {
     "name": "stdout",
     "output_type": "stream",
     "text": [
      "현재 시간: 2024-11-26 17:46:53\n",
      "예측된 scale_pv 값: 3.0349, Loss 값: 0.006179482694401717\n"
     ]
    },
    {
     "name": "stderr",
     "output_type": "stream",
     "text": [
      "c:\\Users\\KDP15\\anaconda3\\envs\\yesmate\\lib\\site-packages\\sklearn\\base.py:464: UserWarning: X does not have valid feature names, but RandomForestRegressor was fitted with feature names\n",
      "  warnings.warn(\n"
     ]
    },
    {
     "name": "stdout",
     "output_type": "stream",
     "text": [
      "현재 시간: 2024-11-26 17:46:54\n",
      "예측된 scale_pv 값: 3.0273999999999996, Loss 값: 0.013588504320223294\n"
     ]
    },
    {
     "name": "stderr",
     "output_type": "stream",
     "text": [
      "c:\\Users\\KDP15\\anaconda3\\envs\\yesmate\\lib\\site-packages\\sklearn\\base.py:464: UserWarning: X does not have valid feature names, but RandomForestRegressor was fitted with feature names\n",
      "  warnings.warn(\n"
     ]
    },
    {
     "name": "stdout",
     "output_type": "stream",
     "text": [
      "현재 시간: 2024-11-26 17:46:55\n",
      "예측된 scale_pv 값: 3.0273999999999996, Loss 값: 0.013588504320223294\n"
     ]
    },
    {
     "name": "stderr",
     "output_type": "stream",
     "text": [
      "c:\\Users\\KDP15\\anaconda3\\envs\\yesmate\\lib\\site-packages\\sklearn\\base.py:464: UserWarning: X does not have valid feature names, but RandomForestRegressor was fitted with feature names\n",
      "  warnings.warn(\n"
     ]
    },
    {
     "name": "stdout",
     "output_type": "stream",
     "text": [
      "현재 시간: 2024-11-26 17:46:56\n",
      "예측된 scale_pv 값: 3.0262299999999986, Loss 값: 0.014667525946046034\n"
     ]
    },
    {
     "name": "stderr",
     "output_type": "stream",
     "text": [
      "c:\\Users\\KDP15\\anaconda3\\envs\\yesmate\\lib\\site-packages\\sklearn\\base.py:464: UserWarning: X does not have valid feature names, but RandomForestRegressor was fitted with feature names\n",
      "  warnings.warn(\n"
     ]
    },
    {
     "name": "stdout",
     "output_type": "stream",
     "text": [
      "현재 시간: 2024-11-26 17:46:57\n",
      "예측된 scale_pv 값: 3.028299999999999, Loss 값: 0.013118019418361104\n"
     ]
    },
    {
     "name": "stderr",
     "output_type": "stream",
     "text": [
      "c:\\Users\\KDP15\\anaconda3\\envs\\yesmate\\lib\\site-packages\\sklearn\\base.py:464: UserWarning: X does not have valid feature names, but RandomForestRegressor was fitted with feature names\n",
      "  warnings.warn(\n"
     ]
    },
    {
     "name": "stdout",
     "output_type": "stream",
     "text": [
      "현재 시간: 2024-11-26 17:46:58\n",
      "예측된 scale_pv 값: 3.0259999999999985, Loss 값: 0.01532704104418281\n"
     ]
    },
    {
     "name": "stderr",
     "output_type": "stream",
     "text": [
      "c:\\Users\\KDP15\\anaconda3\\envs\\yesmate\\lib\\site-packages\\sklearn\\base.py:464: UserWarning: X does not have valid feature names, but RandomForestRegressor was fitted with feature names\n",
      "  warnings.warn(\n"
     ]
    },
    {
     "name": "stdout",
     "output_type": "stream",
     "text": [
      "현재 시간: 2024-11-26 17:46:59\n",
      "예측된 scale_pv 값: 3.0272499999999973, Loss 값: 0.01346556919768993\n"
     ]
    },
    {
     "name": "stderr",
     "output_type": "stream",
     "text": [
      "c:\\Users\\KDP15\\anaconda3\\envs\\yesmate\\lib\\site-packages\\sklearn\\base.py:464: UserWarning: X does not have valid feature names, but RandomForestRegressor was fitted with feature names\n",
      "  warnings.warn(\n"
     ]
    },
    {
     "name": "stdout",
     "output_type": "stream",
     "text": [
      "현재 시간: 2024-11-26 17:47:00\n",
      "예측된 scale_pv 값: 3.0259999999999985, Loss 값: 0.01532704104418281\n"
     ]
    },
    {
     "name": "stderr",
     "output_type": "stream",
     "text": [
      "c:\\Users\\KDP15\\anaconda3\\envs\\yesmate\\lib\\site-packages\\sklearn\\base.py:464: UserWarning: X does not have valid feature names, but RandomForestRegressor was fitted with feature names\n",
      "  warnings.warn(\n"
     ]
    },
    {
     "name": "stdout",
     "output_type": "stream",
     "text": [
      "현재 시간: 2024-11-26 17:47:02\n",
      "예측된 scale_pv 값: 3.0371099999999984, Loss 값: 0.0030850757253735317\n"
     ]
    },
    {
     "name": "stderr",
     "output_type": "stream",
     "text": [
      "c:\\Users\\KDP15\\anaconda3\\envs\\yesmate\\lib\\site-packages\\sklearn\\base.py:464: UserWarning: X does not have valid feature names, but RandomForestRegressor was fitted with feature names\n",
      "  warnings.warn(\n"
     ]
    },
    {
     "name": "stdout",
     "output_type": "stream",
     "text": [
      "현재 시간: 2024-11-26 17:47:03\n",
      "예측된 scale_pv 값: 3.0359049999999996, Loss 값: 0.004381054099550585\n"
     ]
    },
    {
     "name": "stderr",
     "output_type": "stream",
     "text": [
      "c:\\Users\\KDP15\\anaconda3\\envs\\yesmate\\lib\\site-packages\\sklearn\\base.py:464: UserWarning: X does not have valid feature names, but RandomForestRegressor was fitted with feature names\n",
      "  warnings.warn(\n"
     ]
    },
    {
     "name": "stdout",
     "output_type": "stream",
     "text": [
      "현재 시간: 2024-11-26 17:47:04\n",
      "예측된 scale_pv 값: 3.0463666666666653, Loss 값: 0.006692084413609134\n"
     ]
    },
    {
     "name": "stderr",
     "output_type": "stream",
     "text": [
      "c:\\Users\\KDP15\\anaconda3\\envs\\yesmate\\lib\\site-packages\\sklearn\\base.py:464: UserWarning: X does not have valid feature names, but RandomForestRegressor was fitted with feature names\n",
      "  warnings.warn(\n"
     ]
    },
    {
     "name": "stdout",
     "output_type": "stream",
     "text": [
      "현재 시간: 2024-11-26 17:47:05\n",
      "예측된 scale_pv 값: 3.0463666666666653, Loss 값: 0.006692084413609134\n"
     ]
    },
    {
     "name": "stderr",
     "output_type": "stream",
     "text": [
      "c:\\Users\\KDP15\\anaconda3\\envs\\yesmate\\lib\\site-packages\\sklearn\\base.py:464: UserWarning: X does not have valid feature names, but RandomForestRegressor was fitted with feature names\n",
      "  warnings.warn(\n"
     ]
    },
    {
     "name": "stdout",
     "output_type": "stream",
     "text": [
      "현재 시간: 2024-11-26 17:47:06\n",
      "예측된 scale_pv 값: 3.0383999999999998, Loss 값: 0.0007540887807411245\n"
     ]
    },
    {
     "name": "stderr",
     "output_type": "stream",
     "text": [
      "c:\\Users\\KDP15\\anaconda3\\envs\\yesmate\\lib\\site-packages\\sklearn\\base.py:464: UserWarning: X does not have valid feature names, but RandomForestRegressor was fitted with feature names\n",
      "  warnings.warn(\n"
     ]
    },
    {
     "name": "stdout",
     "output_type": "stream",
     "text": [
      "현재 시간: 2024-11-26 17:47:07\n",
      "예측된 scale_pv 값: 3.0327799999999985, Loss 값: 0.006465067154920678\n"
     ]
    },
    {
     "name": "stderr",
     "output_type": "stream",
     "text": [
      "c:\\Users\\KDP15\\anaconda3\\envs\\yesmate\\lib\\site-packages\\sklearn\\base.py:464: UserWarning: X does not have valid feature names, but RandomForestRegressor was fitted with feature names\n",
      "  warnings.warn(\n"
     ]
    },
    {
     "name": "stdout",
     "output_type": "stream",
     "text": [
      "현재 시간: 2024-11-26 17:47:08\n",
      "예측된 scale_pv 값: 3.0586499999999996, Loss 값: 0.018702482624407768\n"
     ]
    },
    {
     "name": "stderr",
     "output_type": "stream",
     "text": [
      "c:\\Users\\KDP15\\anaconda3\\envs\\yesmate\\lib\\site-packages\\sklearn\\base.py:464: UserWarning: X does not have valid feature names, but RandomForestRegressor was fitted with feature names\n",
      "  warnings.warn(\n"
     ]
    },
    {
     "name": "stdout",
     "output_type": "stream",
     "text": [
      "현재 시간: 2024-11-26 17:47:09\n",
      "예측된 scale_pv 값: 3.045249999999998, Loss 값: 0.0051205258760491645\n"
     ]
    },
    {
     "name": "stderr",
     "output_type": "stream",
     "text": [
      "c:\\Users\\KDP15\\anaconda3\\envs\\yesmate\\lib\\site-packages\\sklearn\\base.py:464: UserWarning: X does not have valid feature names, but RandomForestRegressor was fitted with feature names\n",
      "  warnings.warn(\n"
     ]
    },
    {
     "name": "stdout",
     "output_type": "stream",
     "text": [
      "현재 시간: 2024-11-26 17:47:11\n",
      "예측된 scale_pv 값: 3.0512261904761897, Loss 값: 0.010997642283767206\n"
     ]
    },
    {
     "name": "stderr",
     "output_type": "stream",
     "text": [
      "c:\\Users\\KDP15\\anaconda3\\envs\\yesmate\\lib\\site-packages\\sklearn\\base.py:464: UserWarning: X does not have valid feature names, but RandomForestRegressor was fitted with feature names\n",
      "  warnings.warn(\n"
     ]
    },
    {
     "name": "stdout",
     "output_type": "stream",
     "text": [
      "현재 시간: 2024-11-26 17:47:12\n",
      "예측된 scale_pv 값: 3.054492857142855, Loss 값: 0.014173330576253917\n"
     ]
    },
    {
     "name": "stderr",
     "output_type": "stream",
     "text": [
      "c:\\Users\\KDP15\\anaconda3\\envs\\yesmate\\lib\\site-packages\\sklearn\\base.py:464: UserWarning: X does not have valid feature names, but RandomForestRegressor was fitted with feature names\n",
      "  warnings.warn(\n"
     ]
    },
    {
     "name": "stdout",
     "output_type": "stream",
     "text": [
      "현재 시간: 2024-11-26 17:47:13\n",
      "예측된 scale_pv 값: 3.051759523809522, Loss 값: 0.011349018868742622\n"
     ]
    },
    {
     "name": "stderr",
     "output_type": "stream",
     "text": [
      "c:\\Users\\KDP15\\anaconda3\\envs\\yesmate\\lib\\site-packages\\sklearn\\base.py:464: UserWarning: X does not have valid feature names, but RandomForestRegressor was fitted with feature names\n",
      "  warnings.warn(\n"
     ]
    },
    {
     "name": "stdout",
     "output_type": "stream",
     "text": [
      "현재 시간: 2024-11-26 17:47:14\n",
      "예측된 scale_pv 값: 3.030749999999998, Loss 값: 0.009925344369022149\n"
     ]
    },
    {
     "name": "stderr",
     "output_type": "stream",
     "text": [
      "c:\\Users\\KDP15\\anaconda3\\envs\\yesmate\\lib\\site-packages\\sklearn\\base.py:464: UserWarning: X does not have valid feature names, but RandomForestRegressor was fitted with feature names\n",
      "  warnings.warn(\n"
     ]
    },
    {
     "name": "stdout",
     "output_type": "stream",
     "text": [
      "현재 시간: 2024-11-26 17:47:15\n",
      "예측된 scale_pv 값: 3.028349999999998, Loss 값: 0.012416322743201036\n"
     ]
    },
    {
     "name": "stderr",
     "output_type": "stream",
     "text": [
      "c:\\Users\\KDP15\\anaconda3\\envs\\yesmate\\lib\\site-packages\\sklearn\\base.py:464: UserWarning: X does not have valid feature names, but RandomForestRegressor was fitted with feature names\n",
      "  warnings.warn(\n"
     ]
    },
    {
     "name": "stdout",
     "output_type": "stream",
     "text": [
      "현재 시간: 2024-11-26 17:47:16\n",
      "예측된 scale_pv 값: 3.028349999999998, Loss 값: 0.012416322743201036\n"
     ]
    },
    {
     "name": "stderr",
     "output_type": "stream",
     "text": [
      "c:\\Users\\KDP15\\anaconda3\\envs\\yesmate\\lib\\site-packages\\sklearn\\base.py:464: UserWarning: X does not have valid feature names, but RandomForestRegressor was fitted with feature names\n",
      "  warnings.warn(\n"
     ]
    },
    {
     "name": "stdout",
     "output_type": "stream",
     "text": [
      "현재 시간: 2024-11-26 17:47:17\n",
      "예측된 scale_pv 값: 3.022883333333331, Loss 값: 0.012883333333331137\n"
     ]
    },
    {
     "name": "stderr",
     "output_type": "stream",
     "text": [
      "c:\\Users\\KDP15\\anaconda3\\envs\\yesmate\\lib\\site-packages\\sklearn\\base.py:464: UserWarning: X does not have valid feature names, but RandomForestRegressor was fitted with feature names\n",
      "  warnings.warn(\n"
     ]
    },
    {
     "name": "stdout",
     "output_type": "stream",
     "text": [
      "현재 시간: 2024-11-26 17:47:19\n",
      "예측된 scale_pv 값: 3.0098499999999997, Loss 값: 0.030577786019240438\n"
     ]
    },
    {
     "name": "stderr",
     "output_type": "stream",
     "text": [
      "c:\\Users\\KDP15\\anaconda3\\envs\\yesmate\\lib\\site-packages\\sklearn\\base.py:464: UserWarning: X does not have valid feature names, but RandomForestRegressor was fitted with feature names\n",
      "  warnings.warn(\n"
     ]
    },
    {
     "name": "stdout",
     "output_type": "stream",
     "text": [
      "현재 시간: 2024-11-26 17:47:20\n",
      "예측된 scale_pv 값: 3.123400000000002, Loss 값: 0.0822697637600891\n"
     ]
    },
    {
     "name": "stderr",
     "output_type": "stream",
     "text": [
      "c:\\Users\\KDP15\\anaconda3\\envs\\yesmate\\lib\\site-packages\\sklearn\\base.py:464: UserWarning: X does not have valid feature names, but RandomForestRegressor was fitted with feature names\n",
      "  warnings.warn(\n"
     ]
    },
    {
     "name": "stdout",
     "output_type": "stream",
     "text": [
      "현재 시간: 2024-11-26 17:47:21\n",
      "예측된 scale_pv 값: 3.123400000000002, Loss 값: 0.0822697637600891\n"
     ]
    },
    {
     "name": "stderr",
     "output_type": "stream",
     "text": [
      "c:\\Users\\KDP15\\anaconda3\\envs\\yesmate\\lib\\site-packages\\sklearn\\base.py:464: UserWarning: X does not have valid feature names, but RandomForestRegressor was fitted with feature names\n",
      "  warnings.warn(\n"
     ]
    },
    {
     "name": "stdout",
     "output_type": "stream",
     "text": [
      "현재 시간: 2024-11-26 17:47:22\n",
      "예측된 scale_pv 값: 3.0698533333333295, Loss 값: 0.02915261219155374\n"
     ]
    },
    {
     "name": "stderr",
     "output_type": "stream",
     "text": [
      "c:\\Users\\KDP15\\anaconda3\\envs\\yesmate\\lib\\site-packages\\sklearn\\base.py:464: UserWarning: X does not have valid feature names, but RandomForestRegressor was fitted with feature names\n",
      "  warnings.warn(\n"
     ]
    },
    {
     "name": "stdout",
     "output_type": "stream",
     "text": [
      "현재 시간: 2024-11-26 17:47:23\n",
      "예측된 scale_pv 값: 3.0723816666666646, Loss 값: 0.03158996715071005\n"
     ]
    },
    {
     "name": "stderr",
     "output_type": "stream",
     "text": [
      "c:\\Users\\KDP15\\anaconda3\\envs\\yesmate\\lib\\site-packages\\sklearn\\base.py:464: UserWarning: X does not have valid feature names, but RandomForestRegressor was fitted with feature names\n",
      "  warnings.warn(\n"
     ]
    },
    {
     "name": "stdout",
     "output_type": "stream",
     "text": [
      "현재 시간: 2024-11-26 17:47:24\n",
      "예측된 scale_pv 값: 3.0239057142857138, Loss 값: 0.015663041537252287\n"
     ]
    },
    {
     "name": "stderr",
     "output_type": "stream",
     "text": [
      "c:\\Users\\KDP15\\anaconda3\\envs\\yesmate\\lib\\site-packages\\sklearn\\base.py:464: UserWarning: X does not have valid feature names, but RandomForestRegressor was fitted with feature names\n",
      "  warnings.warn(\n"
     ]
    },
    {
     "name": "stdout",
     "output_type": "stream",
     "text": [
      "현재 시간: 2024-11-26 17:47:25\n",
      "예측된 scale_pv 값: 3.031740000000001, Loss 값: 0.008531206043637773\n"
     ]
    },
    {
     "name": "stderr",
     "output_type": "stream",
     "text": [
      "c:\\Users\\KDP15\\anaconda3\\envs\\yesmate\\lib\\site-packages\\sklearn\\base.py:464: UserWarning: X does not have valid feature names, but RandomForestRegressor was fitted with feature names\n",
      "  warnings.warn(\n"
     ]
    },
    {
     "name": "stdout",
     "output_type": "stream",
     "text": [
      "현재 시간: 2024-11-26 17:47:26\n",
      "예측된 scale_pv 값: 3.031740000000001, Loss 값: 0.008531206043637773\n"
     ]
    },
    {
     "name": "stderr",
     "output_type": "stream",
     "text": [
      "c:\\Users\\KDP15\\anaconda3\\envs\\yesmate\\lib\\site-packages\\sklearn\\base.py:464: UserWarning: X does not have valid feature names, but RandomForestRegressor was fitted with feature names\n",
      "  warnings.warn(\n"
     ]
    },
    {
     "name": "stdout",
     "output_type": "stream",
     "text": [
      "현재 시간: 2024-11-26 17:47:28\n",
      "예측된 scale_pv 값: 3.031664437229438, Loss 값: 0.00808627534188533\n"
     ]
    },
    {
     "name": "stderr",
     "output_type": "stream",
     "text": [
      "c:\\Users\\KDP15\\anaconda3\\envs\\yesmate\\lib\\site-packages\\sklearn\\base.py:464: UserWarning: X does not have valid feature names, but RandomForestRegressor was fitted with feature names\n",
      "  warnings.warn(\n"
     ]
    },
    {
     "name": "stdout",
     "output_type": "stream",
     "text": [
      "현재 시간: 2024-11-26 17:47:29\n",
      "예측된 scale_pv 값: 3.030748095238094, Loss 값: 0.008911638959050894\n"
     ]
    },
    {
     "name": "stderr",
     "output_type": "stream",
     "text": [
      "c:\\Users\\KDP15\\anaconda3\\envs\\yesmate\\lib\\site-packages\\sklearn\\base.py:464: UserWarning: X does not have valid feature names, but RandomForestRegressor was fitted with feature names\n",
      "  warnings.warn(\n"
     ]
    },
    {
     "name": "stdout",
     "output_type": "stream",
     "text": [
      "현재 시간: 2024-11-26 17:47:30\n",
      "예측된 scale_pv 값: 3.030748095238094, Loss 값: 0.008911638959050894\n"
     ]
    },
    {
     "name": "stderr",
     "output_type": "stream",
     "text": [
      "c:\\Users\\KDP15\\anaconda3\\envs\\yesmate\\lib\\site-packages\\sklearn\\base.py:464: UserWarning: X does not have valid feature names, but RandomForestRegressor was fitted with feature names\n",
      "  warnings.warn(\n"
     ]
    },
    {
     "name": "stdout",
     "output_type": "stream",
     "text": [
      "현재 시간: 2024-11-26 17:47:31\n",
      "예측된 scale_pv 값: 3.031664437229438, Loss 값: 0.00808627534188533\n"
     ]
    },
    {
     "name": "stderr",
     "output_type": "stream",
     "text": [
      "c:\\Users\\KDP15\\anaconda3\\envs\\yesmate\\lib\\site-packages\\sklearn\\base.py:464: UserWarning: X does not have valid feature names, but RandomForestRegressor was fitted with feature names\n",
      "  warnings.warn(\n"
     ]
    },
    {
     "name": "stdout",
     "output_type": "stream",
     "text": [
      "현재 시간: 2024-11-26 17:47:32\n",
      "예측된 scale_pv 값: 3.031664437229438, Loss 값: 0.00808627534188533\n"
     ]
    },
    {
     "name": "stderr",
     "output_type": "stream",
     "text": [
      "c:\\Users\\KDP15\\anaconda3\\envs\\yesmate\\lib\\site-packages\\sklearn\\base.py:464: UserWarning: X does not have valid feature names, but RandomForestRegressor was fitted with feature names\n",
      "  warnings.warn(\n"
     ]
    },
    {
     "name": "stdout",
     "output_type": "stream",
     "text": [
      "현재 시간: 2024-11-26 17:47:33\n",
      "예측된 scale_pv 값: 3.033240000000001, Loss 값: 0.0058082623506496844\n"
     ]
    },
    {
     "name": "stderr",
     "output_type": "stream",
     "text": [
      "c:\\Users\\KDP15\\anaconda3\\envs\\yesmate\\lib\\site-packages\\sklearn\\base.py:464: UserWarning: X does not have valid feature names, but RandomForestRegressor was fitted with feature names\n",
      "  warnings.warn(\n"
     ]
    },
    {
     "name": "stdout",
     "output_type": "stream",
     "text": [
      "현재 시간: 2024-11-26 17:47:35\n",
      "예측된 scale_pv 값: 3.033240000000001, Loss 값: 0.0058082623506496844\n"
     ]
    },
    {
     "name": "stderr",
     "output_type": "stream",
     "text": [
      "c:\\Users\\KDP15\\anaconda3\\envs\\yesmate\\lib\\site-packages\\sklearn\\base.py:464: UserWarning: X does not have valid feature names, but RandomForestRegressor was fitted with feature names\n",
      "  warnings.warn(\n"
     ]
    },
    {
     "name": "stdout",
     "output_type": "stream",
     "text": [
      "현재 시간: 2024-11-26 17:47:36\n"
     ]
    },
    {
     "name": "stderr",
     "output_type": "stream",
     "text": [
      "c:\\Users\\KDP15\\anaconda3\\envs\\yesmate\\lib\\site-packages\\sklearn\\base.py:464: UserWarning: X does not have valid feature names, but RandomForestRegressor was fitted with feature names\n",
      "  warnings.warn(\n"
     ]
    },
    {
     "name": "stdout",
     "output_type": "stream",
     "text": [
      "예측된 scale_pv 값: 3.035888333333331, Loss 값: 0.0034984657412779896\n",
      "현재 시간: 2024-11-26 17:47:37\n"
     ]
    },
    {
     "name": "stderr",
     "output_type": "stream",
     "text": [
      "c:\\Users\\KDP15\\anaconda3\\envs\\yesmate\\lib\\site-packages\\sklearn\\base.py:464: UserWarning: X does not have valid feature names, but RandomForestRegressor was fitted with feature names\n",
      "  warnings.warn(\n"
     ]
    },
    {
     "name": "stdout",
     "output_type": "stream",
     "text": [
      "예측된 scale_pv 값: 3.018526666666665, Loss 값: 0.020248660561450027\n",
      "현재 시간: 2024-11-26 17:47:38\n"
     ]
    },
    {
     "name": "stderr",
     "output_type": "stream",
     "text": [
      "c:\\Users\\KDP15\\anaconda3\\envs\\yesmate\\lib\\site-packages\\sklearn\\base.py:464: UserWarning: X does not have valid feature names, but RandomForestRegressor was fitted with feature names\n",
      "  warnings.warn(\n"
     ]
    },
    {
     "name": "stdout",
     "output_type": "stream",
     "text": [
      "예측된 scale_pv 값: 3.0476566666666627, Loss 값: 0.008360845966232322\n",
      "현재 시간: 2024-11-26 17:47:40\n"
     ]
    },
    {
     "name": "stderr",
     "output_type": "stream",
     "text": [
      "c:\\Users\\KDP15\\anaconda3\\envs\\yesmate\\lib\\site-packages\\sklearn\\base.py:464: UserWarning: X does not have valid feature names, but RandomForestRegressor was fitted with feature names\n",
      "  warnings.warn(\n"
     ]
    },
    {
     "name": "stdout",
     "output_type": "stream",
     "text": [
      "예측된 scale_pv 값: 3.0191666666666657, Loss 값: 0.01969154324133271\n",
      "현재 시간: 2024-11-26 17:47:41\n",
      "예측된 scale_pv 값: 3.010599999999999, Loss 값: 0.02799337047975925\n"
     ]
    },
    {
     "name": "stderr",
     "output_type": "stream",
     "text": [
      "c:\\Users\\KDP15\\anaconda3\\envs\\yesmate\\lib\\site-packages\\sklearn\\base.py:464: UserWarning: X does not have valid feature names, but RandomForestRegressor was fitted with feature names\n",
      "  warnings.warn(\n"
     ]
    },
    {
     "name": "stdout",
     "output_type": "stream",
     "text": [
      "현재 시간: 2024-11-26 17:47:42\n",
      "예측된 scale_pv 값: 3.0368566666666656, Loss 값: 0.0016457254389137255\n"
     ]
    },
    {
     "name": "stderr",
     "output_type": "stream",
     "text": [
      "c:\\Users\\KDP15\\anaconda3\\envs\\yesmate\\lib\\site-packages\\sklearn\\base.py:464: UserWarning: X does not have valid feature names, but RandomForestRegressor was fitted with feature names\n",
      "  warnings.warn(\n"
     ]
    },
    {
     "name": "stdout",
     "output_type": "stream",
     "text": [
      "현재 시간: 2024-11-26 17:47:43\n",
      "예측된 scale_pv 값: 3.0588959523809534, Loss 값: 0.019964045177236933\n"
     ]
    },
    {
     "name": "stderr",
     "output_type": "stream",
     "text": [
      "c:\\Users\\KDP15\\anaconda3\\envs\\yesmate\\lib\\site-packages\\sklearn\\base.py:464: UserWarning: X does not have valid feature names, but RandomForestRegressor was fitted with feature names\n",
      "  warnings.warn(\n"
     ]
    },
    {
     "name": "stdout",
     "output_type": "stream",
     "text": [
      "현재 시간: 2024-11-26 17:47:44\n",
      "예측된 scale_pv 값: 3.0588959523809534, Loss 값: 0.019964045177236933\n"
     ]
    },
    {
     "name": "stderr",
     "output_type": "stream",
     "text": [
      "c:\\Users\\KDP15\\anaconda3\\envs\\yesmate\\lib\\site-packages\\sklearn\\base.py:464: UserWarning: X does not have valid feature names, but RandomForestRegressor was fitted with feature names\n",
      "  warnings.warn(\n"
     ]
    },
    {
     "name": "stdout",
     "output_type": "stream",
     "text": [
      "현재 시간: 2024-11-26 17:47:46\n",
      "예측된 scale_pv 값: 3.0286983333333324, Loss 값: 0.010663088968521084\n"
     ]
    },
    {
     "name": "stderr",
     "output_type": "stream",
     "text": [
      "c:\\Users\\KDP15\\anaconda3\\envs\\yesmate\\lib\\site-packages\\sklearn\\base.py:464: UserWarning: X does not have valid feature names, but RandomForestRegressor was fitted with feature names\n",
      "  warnings.warn(\n"
     ]
    },
    {
     "name": "stdout",
     "output_type": "stream",
     "text": [
      "현재 시간: 2024-11-26 17:47:47\n",
      "예측된 scale_pv 값: 3.0285107142857144, Loss 값: 0.010668751267782106\n"
     ]
    },
    {
     "name": "stderr",
     "output_type": "stream",
     "text": [
      "c:\\Users\\KDP15\\anaconda3\\envs\\yesmate\\lib\\site-packages\\sklearn\\base.py:464: UserWarning: X does not have valid feature names, but RandomForestRegressor was fitted with feature names\n",
      "  warnings.warn(\n"
     ]
    },
    {
     "name": "stdout",
     "output_type": "stream",
     "text": [
      "현재 시간: 2024-11-26 17:47:48\n",
      "예측된 scale_pv 값: 3.032764603174604, Loss 값: 0.006497745058775983\n"
     ]
    },
    {
     "name": "stderr",
     "output_type": "stream",
     "text": [
      "c:\\Users\\KDP15\\anaconda3\\envs\\yesmate\\lib\\site-packages\\sklearn\\base.py:464: UserWarning: X does not have valid feature names, but RandomForestRegressor was fitted with feature names\n",
      "  warnings.warn(\n"
     ]
    },
    {
     "name": "stdout",
     "output_type": "stream",
     "text": [
      "현재 시간: 2024-11-26 17:47:49\n",
      "예측된 scale_pv 값: 3.0255783333333346, Loss 값: 0.013939668944120243\n"
     ]
    },
    {
     "name": "stderr",
     "output_type": "stream",
     "text": [
      "c:\\Users\\KDP15\\anaconda3\\envs\\yesmate\\lib\\site-packages\\sklearn\\base.py:464: UserWarning: X does not have valid feature names, but RandomForestRegressor was fitted with feature names\n",
      "  warnings.warn(\n"
     ]
    },
    {
     "name": "stdout",
     "output_type": "stream",
     "text": [
      "현재 시간: 2024-11-26 17:47:50\n",
      "예측된 scale_pv 값: 3.0255783333333346, Loss 값: 0.013939668944120243\n"
     ]
    },
    {
     "name": "stderr",
     "output_type": "stream",
     "text": [
      "c:\\Users\\KDP15\\anaconda3\\envs\\yesmate\\lib\\site-packages\\sklearn\\base.py:464: UserWarning: X does not have valid feature names, but RandomForestRegressor was fitted with feature names\n",
      "  warnings.warn(\n"
     ]
    },
    {
     "name": "stdout",
     "output_type": "stream",
     "text": [
      "현재 시간: 2024-11-26 17:47:51\n",
      "예측된 scale_pv 값: 3.0268883333333325, Loss 값: 0.012447712195765348\n"
     ]
    },
    {
     "name": "stderr",
     "output_type": "stream",
     "text": [
      "c:\\Users\\KDP15\\anaconda3\\envs\\yesmate\\lib\\site-packages\\sklearn\\base.py:464: UserWarning: X does not have valid feature names, but RandomForestRegressor was fitted with feature names\n",
      "  warnings.warn(\n"
     ]
    },
    {
     "name": "stdout",
     "output_type": "stream",
     "text": [
      "현재 시간: 2024-11-26 17:47:52\n",
      "예측된 scale_pv 값: 3.0686749999999985, Loss 값: 0.028818460998585316\n"
     ]
    },
    {
     "name": "stderr",
     "output_type": "stream",
     "text": [
      "c:\\Users\\KDP15\\anaconda3\\envs\\yesmate\\lib\\site-packages\\sklearn\\base.py:464: UserWarning: X does not have valid feature names, but RandomForestRegressor was fitted with feature names\n",
      "  warnings.warn(\n"
     ]
    },
    {
     "name": "stdout",
     "output_type": "stream",
     "text": [
      "현재 시간: 2024-11-26 17:47:54\n",
      "예측된 scale_pv 값: 3.0463666666666653, Loss 값: 0.006692084413609134\n"
     ]
    },
    {
     "name": "stderr",
     "output_type": "stream",
     "text": [
      "c:\\Users\\KDP15\\anaconda3\\envs\\yesmate\\lib\\site-packages\\sklearn\\base.py:464: UserWarning: X does not have valid feature names, but RandomForestRegressor was fitted with feature names\n",
      "  warnings.warn(\n"
     ]
    },
    {
     "name": "stdout",
     "output_type": "stream",
     "text": [
      "현재 시간: 2024-11-26 17:47:55\n",
      "예측된 scale_pv 값: 3.0454099999999986, Loss 값: 0.005826396121121125\n"
     ]
    },
    {
     "name": "stderr",
     "output_type": "stream",
     "text": [
      "c:\\Users\\KDP15\\anaconda3\\envs\\yesmate\\lib\\site-packages\\sklearn\\base.py:464: UserWarning: X does not have valid feature names, but RandomForestRegressor was fitted with feature names\n",
      "  warnings.warn(\n"
     ]
    },
    {
     "name": "stdout",
     "output_type": "stream",
     "text": [
      "현재 시간: 2024-11-26 17:47:56\n",
      "예측된 scale_pv 값: 3.0454099999999986, Loss 값: 0.005826396121121125\n"
     ]
    },
    {
     "name": "stderr",
     "output_type": "stream",
     "text": [
      "c:\\Users\\KDP15\\anaconda3\\envs\\yesmate\\lib\\site-packages\\sklearn\\base.py:464: UserWarning: X does not have valid feature names, but RandomForestRegressor was fitted with feature names\n",
      "  warnings.warn(\n"
     ]
    },
    {
     "name": "stdout",
     "output_type": "stream",
     "text": [
      "현재 시간: 2024-11-26 17:47:57\n",
      "예측된 scale_pv 값: 3.038633333333334, Loss 값: 0.0006854311173030148\n"
     ]
    },
    {
     "name": "stderr",
     "output_type": "stream",
     "text": [
      "c:\\Users\\KDP15\\anaconda3\\envs\\yesmate\\lib\\site-packages\\sklearn\\base.py:464: UserWarning: X does not have valid feature names, but RandomForestRegressor was fitted with feature names\n",
      "  warnings.warn(\n"
     ]
    },
    {
     "name": "stdout",
     "output_type": "stream",
     "text": [
      "현재 시간: 2024-11-26 17:47:58\n",
      "예측된 scale_pv 값: 3.0156499999999977, Loss 값: 0.024363118977016818\n"
     ]
    },
    {
     "name": "stderr",
     "output_type": "stream",
     "text": [
      "c:\\Users\\KDP15\\anaconda3\\envs\\yesmate\\lib\\site-packages\\sklearn\\base.py:464: UserWarning: X does not have valid feature names, but RandomForestRegressor was fitted with feature names\n",
      "  warnings.warn(\n"
     ]
    },
    {
     "name": "stdout",
     "output_type": "stream",
     "text": [
      "현재 시간: 2024-11-26 17:47:59\n",
      "예측된 scale_pv 값: 3.018508333333332, Loss 값: 0.02097619647707205\n"
     ]
    },
    {
     "name": "stderr",
     "output_type": "stream",
     "text": [
      "c:\\Users\\KDP15\\anaconda3\\envs\\yesmate\\lib\\site-packages\\sklearn\\base.py:464: UserWarning: X does not have valid feature names, but RandomForestRegressor was fitted with feature names\n",
      "  warnings.warn(\n"
     ]
    },
    {
     "name": "stdout",
     "output_type": "stream",
     "text": [
      "현재 시간: 2024-11-26 17:48:00\n",
      "예측된 scale_pv 값: 3.0030249999999996, Loss 값: 0.03680616222865796\n"
     ]
    },
    {
     "name": "stderr",
     "output_type": "stream",
     "text": [
      "c:\\Users\\KDP15\\anaconda3\\envs\\yesmate\\lib\\site-packages\\sklearn\\base.py:464: UserWarning: X does not have valid feature names, but RandomForestRegressor was fitted with feature names\n",
      "  warnings.warn(\n"
     ]
    },
    {
     "name": "stdout",
     "output_type": "stream",
     "text": [
      "현재 시간: 2024-11-26 17:48:02\n",
      "예측된 scale_pv 값: 3.0156499999999977, Loss 값: 0.024363118977016818\n"
     ]
    },
    {
     "name": "stderr",
     "output_type": "stream",
     "text": [
      "c:\\Users\\KDP15\\anaconda3\\envs\\yesmate\\lib\\site-packages\\sklearn\\base.py:464: UserWarning: X does not have valid feature names, but RandomForestRegressor was fitted with feature names\n",
      "  warnings.warn(\n"
     ]
    },
    {
     "name": "stdout",
     "output_type": "stream",
     "text": [
      "현재 시간: 2024-11-26 17:48:03\n",
      "예측된 scale_pv 값: 3.035849999999999, Loss 값: 0.003642625504700181\n"
     ]
    },
    {
     "name": "stderr",
     "output_type": "stream",
     "text": [
      "c:\\Users\\KDP15\\anaconda3\\envs\\yesmate\\lib\\site-packages\\sklearn\\base.py:464: UserWarning: X does not have valid feature names, but RandomForestRegressor was fitted with feature names\n",
      "  warnings.warn(\n"
     ]
    },
    {
     "name": "stdout",
     "output_type": "stream",
     "text": [
      "현재 시간: 2024-11-26 17:48:04\n",
      "예측된 scale_pv 값: 3.0321066666666665, Loss 값: 0.0067744869915387085\n"
     ]
    },
    {
     "name": "stderr",
     "output_type": "stream",
     "text": [
      "c:\\Users\\KDP15\\anaconda3\\envs\\yesmate\\lib\\site-packages\\sklearn\\base.py:464: UserWarning: X does not have valid feature names, but RandomForestRegressor was fitted with feature names\n",
      "  warnings.warn(\n"
     ]
    },
    {
     "name": "stdout",
     "output_type": "stream",
     "text": [
      "현재 시간: 2024-11-26 17:48:05\n",
      "예측된 scale_pv 값: 3.038633333333334, Loss 값: 0.0006854311173030148\n"
     ]
    },
    {
     "name": "stderr",
     "output_type": "stream",
     "text": [
      "c:\\Users\\KDP15\\anaconda3\\envs\\yesmate\\lib\\site-packages\\sklearn\\base.py:464: UserWarning: X does not have valid feature names, but RandomForestRegressor was fitted with feature names\n",
      "  warnings.warn(\n"
     ]
    },
    {
     "name": "stdout",
     "output_type": "stream",
     "text": [
      "현재 시간: 2024-11-26 17:48:06\n",
      "예측된 scale_pv 값: 3.0454099999999986, Loss 값: 0.005826396121121125\n"
     ]
    },
    {
     "name": "stderr",
     "output_type": "stream",
     "text": [
      "c:\\Users\\KDP15\\anaconda3\\envs\\yesmate\\lib\\site-packages\\sklearn\\base.py:464: UserWarning: X does not have valid feature names, but RandomForestRegressor was fitted with feature names\n",
      "  warnings.warn(\n"
     ]
    },
    {
     "name": "stdout",
     "output_type": "stream",
     "text": [
      "현재 시간: 2024-11-26 17:48:07\n",
      "예측된 scale_pv 값: 3.0381983333333324, Loss 값: 0.0008647770732297388\n"
     ]
    },
    {
     "name": "stderr",
     "output_type": "stream",
     "text": [
      "c:\\Users\\KDP15\\anaconda3\\envs\\yesmate\\lib\\site-packages\\sklearn\\base.py:464: UserWarning: X does not have valid feature names, but RandomForestRegressor was fitted with feature names\n",
      "  warnings.warn(\n"
     ]
    },
    {
     "name": "stdout",
     "output_type": "stream",
     "text": [
      "현재 시간: 2024-11-26 17:48:08\n",
      "예측된 scale_pv 값: 3.0383999999999998, Loss 값: 0.0007540887807411245\n"
     ]
    },
    {
     "name": "stderr",
     "output_type": "stream",
     "text": [
      "c:\\Users\\KDP15\\anaconda3\\envs\\yesmate\\lib\\site-packages\\sklearn\\base.py:464: UserWarning: X does not have valid feature names, but RandomForestRegressor was fitted with feature names\n",
      "  warnings.warn(\n"
     ]
    },
    {
     "name": "stdout",
     "output_type": "stream",
     "text": [
      "현재 시간: 2024-11-26 17:48:10\n",
      "예측된 scale_pv 값: 3.012937619047617, Loss 값: 0.007062380952382874\n"
     ]
    },
    {
     "name": "stderr",
     "output_type": "stream",
     "text": [
      "c:\\Users\\KDP15\\anaconda3\\envs\\yesmate\\lib\\site-packages\\sklearn\\base.py:464: UserWarning: X does not have valid feature names, but RandomForestRegressor was fitted with feature names\n",
      "  warnings.warn(\n"
     ]
    },
    {
     "name": "stdout",
     "output_type": "stream",
     "text": [
      "현재 시간: 2024-11-26 17:48:11\n",
      "예측된 scale_pv 값: 3.0249600000000014, Loss 값: 0.014648980651632115\n"
     ]
    },
    {
     "name": "stderr",
     "output_type": "stream",
     "text": [
      "c:\\Users\\KDP15\\anaconda3\\envs\\yesmate\\lib\\site-packages\\sklearn\\base.py:464: UserWarning: X does not have valid feature names, but RandomForestRegressor was fitted with feature names\n",
      "  warnings.warn(\n"
     ]
    },
    {
     "name": "stdout",
     "output_type": "stream",
     "text": [
      "현재 시간: 2024-11-26 17:48:12\n",
      "예측된 scale_pv 값: 3.032764603174604, Loss 값: 0.006497745058775983\n"
     ]
    },
    {
     "name": "stderr",
     "output_type": "stream",
     "text": [
      "c:\\Users\\KDP15\\anaconda3\\envs\\yesmate\\lib\\site-packages\\sklearn\\base.py:464: UserWarning: X does not have valid feature names, but RandomForestRegressor was fitted with feature names\n",
      "  warnings.warn(\n"
     ]
    },
    {
     "name": "stdout",
     "output_type": "stream",
     "text": [
      "현재 시간: 2024-11-26 17:48:13\n",
      "예측된 scale_pv 값: 3.0643683333333342, Loss 값: 0.025362728833899784\n"
     ]
    },
    {
     "name": "stderr",
     "output_type": "stream",
     "text": [
      "c:\\Users\\KDP15\\anaconda3\\envs\\yesmate\\lib\\site-packages\\sklearn\\base.py:464: UserWarning: X does not have valid feature names, but RandomForestRegressor was fitted with feature names\n",
      "  warnings.warn(\n"
     ]
    },
    {
     "name": "stdout",
     "output_type": "stream",
     "text": [
      "현재 시간: 2024-11-26 17:48:14\n",
      "예측된 scale_pv 값: 3.0401700000000016, Loss 값: 0.0015110279188208509\n"
     ]
    },
    {
     "name": "stderr",
     "output_type": "stream",
     "text": [
      "c:\\Users\\KDP15\\anaconda3\\envs\\yesmate\\lib\\site-packages\\sklearn\\base.py:464: UserWarning: X does not have valid feature names, but RandomForestRegressor was fitted with feature names\n",
      "  warnings.warn(\n"
     ]
    },
    {
     "name": "stdout",
     "output_type": "stream",
     "text": [
      "현재 시간: 2024-11-26 17:48:15\n",
      "예측된 scale_pv 값: 3.0286983333333324, Loss 값: 0.010663088968521084\n"
     ]
    },
    {
     "name": "stderr",
     "output_type": "stream",
     "text": [
      "c:\\Users\\KDP15\\anaconda3\\envs\\yesmate\\lib\\site-packages\\sklearn\\base.py:464: UserWarning: X does not have valid feature names, but RandomForestRegressor was fitted with feature names\n",
      "  warnings.warn(\n"
     ]
    },
    {
     "name": "stdout",
     "output_type": "stream",
     "text": [
      "현재 시간: 2024-11-26 17:48:16\n",
      "예측된 scale_pv 값: 3.0540676190476193, Loss 값: 0.01522669021808154\n"
     ]
    },
    {
     "name": "stderr",
     "output_type": "stream",
     "text": [
      "c:\\Users\\KDP15\\anaconda3\\envs\\yesmate\\lib\\site-packages\\sklearn\\base.py:464: UserWarning: X does not have valid feature names, but RandomForestRegressor was fitted with feature names\n",
      "  warnings.warn(\n"
     ]
    },
    {
     "name": "stdout",
     "output_type": "stream",
     "text": [
      "현재 시간: 2024-11-26 17:48:18\n",
      "실시간 처리를 중지합니다.\n"
     ]
    },
    {
     "ename": "InternalError",
     "evalue": "Unread result found",
     "output_type": "error",
     "traceback": [
      "\u001b[1;31m---------------------------------------------------------------------------\u001b[0m",
      "\u001b[1;31mInternalError\u001b[0m                             Traceback (most recent call last)",
      "Cell \u001b[1;32mIn[14], line 35\u001b[0m\n\u001b[0;32m     33\u001b[0m     \u001b[38;5;28mprint\u001b[39m(\u001b[38;5;124m\"\u001b[39m\u001b[38;5;124m실시간 처리를 중지합니다.\u001b[39m\u001b[38;5;124m\"\u001b[39m)\n\u001b[0;32m     34\u001b[0m \u001b[38;5;28;01mfinally\u001b[39;00m:\n\u001b[1;32m---> 35\u001b[0m     \u001b[43mcursor\u001b[49m\u001b[38;5;241;43m.\u001b[39;49m\u001b[43mclose\u001b[49m\u001b[43m(\u001b[49m\u001b[43m)\u001b[49m\n\u001b[0;32m     36\u001b[0m     conn\u001b[38;5;241m.\u001b[39mclose()\n",
      "File \u001b[1;32mc:\\Users\\KDP15\\anaconda3\\envs\\yesmate\\lib\\site-packages\\mysql\\connector\\cursor_cext.py:524\u001b[0m, in \u001b[0;36mCMySQLCursor.close\u001b[1;34m(self)\u001b[0m\n\u001b[0;32m    521\u001b[0m \u001b[38;5;28;01mif\u001b[39;00m \u001b[38;5;129;01mnot\u001b[39;00m \u001b[38;5;28mself\u001b[39m\u001b[38;5;241m.\u001b[39m_connection:\n\u001b[0;32m    522\u001b[0m     \u001b[38;5;28;01mreturn\u001b[39;00m \u001b[38;5;28;01mFalse\u001b[39;00m\n\u001b[1;32m--> 524\u001b[0m \u001b[38;5;28;43mself\u001b[39;49m\u001b[38;5;241;43m.\u001b[39;49m\u001b[43m_connection\u001b[49m\u001b[38;5;241;43m.\u001b[39;49m\u001b[43mhandle_unread_result\u001b[49m\u001b[43m(\u001b[49m\u001b[43m)\u001b[49m\n\u001b[0;32m    525\u001b[0m \u001b[38;5;28mself\u001b[39m\u001b[38;5;241m.\u001b[39m_warnings \u001b[38;5;241m=\u001b[39m \u001b[38;5;28;01mNone\u001b[39;00m\n\u001b[0;32m    526\u001b[0m \u001b[38;5;28mself\u001b[39m\u001b[38;5;241m.\u001b[39m_connection \u001b[38;5;241m=\u001b[39m \u001b[38;5;28;01mNone\u001b[39;00m\n",
      "File \u001b[1;32mc:\\Users\\KDP15\\anaconda3\\envs\\yesmate\\lib\\site-packages\\mysql\\connector\\connection_cext.py:1044\u001b[0m, in \u001b[0;36mCMySQLConnection.handle_unread_result\u001b[1;34m(self, prepared)\u001b[0m\n\u001b[0;32m   1042\u001b[0m     \u001b[38;5;28mself\u001b[39m\u001b[38;5;241m.\u001b[39mconsume_results()\n\u001b[0;32m   1043\u001b[0m \u001b[38;5;28;01melif\u001b[39;00m unread_result:\n\u001b[1;32m-> 1044\u001b[0m     \u001b[38;5;28;01mraise\u001b[39;00m InternalError(\u001b[38;5;124m\"\u001b[39m\u001b[38;5;124mUnread result found\u001b[39m\u001b[38;5;124m\"\u001b[39m)\n",
      "\u001b[1;31mInternalError\u001b[0m: Unread result found"
     ]
    }
   ],
   "source": [
    "try:\n",
    "    while True:\n",
    "        # 현재 시간 가져오기\n",
    "        current_time = datetime.now().strftime('%Y-%m-%d %H:%M:%S')\n",
    "        print(f\"현재 시간: {current_time}\")\n",
    "\n",
    "        # 데이터 가져오기\n",
    "        data = fetch_data_by_current_time(cursor, current_time)\n",
    "        \n",
    "        if data:  # 데이터가 있을 경우만 처리\n",
    "            # 입력 데이터와 실제값\n",
    "            X = np.array([row[:4] for row in data])  # 입력 데이터\n",
    "            actual_values = [row[4] for row in data]  # 실제 scale_pv 값\n",
    "\n",
    "            # 예측 수행\n",
    "            prediction = model.predict(X)\n",
    "            predicted_value = prediction[0]\n",
    "\n",
    "            # loss 계산\n",
    "            loss = abs(predicted_value - actual_values[0])  # 실제값과 예측값 차이\n",
    "            print(f\"예측된 scale_pv 값: {predicted_value}, Loss 값: {loss}\")\n",
    "\n",
    "            # 예측값과 `loss`를 DB에 저장\n",
    "            save_prediction_to_db(cursor, predicted_value, loss, current_time)\n",
    "\n",
    "        else:\n",
    "            print(\"현재 시간에 해당하는 데이터가 없습니다.\")\n",
    "\n",
    "        # 1초 대기\n",
    "        time.sleep(1)\n",
    "\n",
    "except KeyboardInterrupt:\n",
    "    print(\"실시간 처리를 중지합니다.\")\n",
    "finally:\n",
    "    cursor.close()\n",
    "    conn.close()\n",
    "\n"
   ]
  }
 ],
 "metadata": {
  "kernelspec": {
   "display_name": "yesmate",
   "language": "python",
   "name": "python3"
  },
  "language_info": {
   "codemirror_mode": {
    "name": "ipython",
    "version": 3
   },
   "file_extension": ".py",
   "mimetype": "text/x-python",
   "name": "python",
   "nbconvert_exporter": "python",
   "pygments_lexer": "ipython3",
   "version": "3.8.20"
  }
 },
 "nbformat": 4,
 "nbformat_minor": 2
}
