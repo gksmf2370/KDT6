{
 "cells": [
  {
   "cell_type": "code",
   "execution_count": null,
   "metadata": {},
   "outputs": [],
   "source": [
    "from urllib.request import urlopen\n",
    "import requests\n",
    "from bs4 import BeautifulSoup\n",
    "import pandas as pd\n",
    "from tabulate import tabulate"
   ]
  },
  {
   "cell_type": "code",
   "execution_count": null,
   "metadata": {},
   "outputs": [],
   "source": [
    "data = []\n",
    "for j in range(1,51):\n",
    "\n",
    "    url=f'https://www.hollys.co.kr/store/korea/korStore2.do?pageNo={j}&sido=&gugun=&store='\n",
    "\n",
    "    html = urlopen(url)\n",
    "    soup = BeautifulSoup(html.read(), 'html.parser')\n",
    "\n",
    "    results = soup.select('td.center_t')\n",
    "    for i in range(0,55,6):\n",
    "        try:\n",
    "            area = results[i].text\n",
    "            name = results[i+1].text\n",
    "            address = results[i+3].text\n",
    "            number = results[i+5].text\n",
    "\n",
    "            data.append([name, area, address, number])\n",
    "            \n",
    "        except IndexError:\n",
    "            pass\n",
    "\n"
   ]
  },
  {
   "cell_type": "code",
   "execution_count": null,
   "metadata": {},
   "outputs": [],
   "source": [
    "# dataframe으로\n",
    "df = pd.DataFrame(data, columns=['매장이름', '지역', '주소', '전화번호'])"
   ]
  },
  {
   "cell_type": "code",
   "execution_count": null,
   "metadata": {},
   "outputs": [],
   "source": [
    "df.to_csv('hollys_branches.csv', index=False, encoding='utf-8-sig')\n",
    "print('hollys_branches.csv 파일 저장완료.')"
   ]
  },
  {
   "cell_type": "code",
   "execution_count": null,
   "metadata": {},
   "outputs": [],
   "source": [
    "print(tabulate(df.head(), headers='keys', tablefmt='psql'))"
   ]
  },
  {
   "cell_type": "code",
   "execution_count": 98,
   "metadata": {},
   "outputs": [],
   "source": [
    "newdf=pd.read_csv(r'C:\\Users\\KDP15\\Desktop\\KDT6\\hollys_branches.csv')"
   ]
  },
  {
   "cell_type": "code",
   "execution_count": 99,
   "metadata": {},
   "outputs": [
    {
     "name": "stdout",
     "output_type": "stream",
     "text": [
      "          매장이름          지역                                                 주소  \\\n",
      "1       분당미금점2  경기 성남시 분당구     경기도 성남시 분당구 미금일로90번길 24 (구미동) 구미동 35-3, B1F~1F   \n",
      "2      인천굴포천역점      인천 부평구  인천광역시 부평구 충선로209번길 49 (삼산동, 삼산노블시티프라자) 삼산동 463...   \n",
      "3     대구팔달교DT점       대구 서구                                    대구광역시 서구 팔달로 34   \n",
      "4    인천공항교통센터점       인천 중구  인천광역시 중구 공항로 272 (운서동, 인천공항) 인천국제공항 제1여객터미널 지하...   \n",
      "5      한국선원센터점       부산 중구  부산광역시 중구 충장대로9번길 66 (중앙동4가, 한국선원센터) (중앙동4가 74-...   \n",
      "..         ...         ...                                                ...   \n",
      "491       합정역점      서울 마포구                   서울특별시 마포구 양화로 36 (합정동 374-1) 할리스   \n",
      "492     부산달맞이점     부산 해운대구         부산광역시 해운대구 달맞이길 199, 2~3층 (중동 1488-14) 할리스   \n",
      "493        신림점      서울 관악구                                서울특별시 관악구 신림로 353-1   \n",
      "494       태평로점       서울 중구         서울특별시 중구 세종대로 64, 해남빌딩 1층 (태평로2가 70-5) 할리스   \n",
      "495        신촌점     서울 서대문구                 서울특별시 서대문구 연세로 34 (창천동 31-12)  할리스   \n",
      "\n",
      "              전화번호  \n",
      "1     031-713-7739  \n",
      "2    070-4400-4664  \n",
      "3     053-354-1212  \n",
      "4     032-743-3718  \n",
      "5    070-4070-7506  \n",
      "..             ...  \n",
      "491   02-6204-1234  \n",
      "492   051-731-3410  \n",
      "493    02-877-0019  \n",
      "494    02-755-7795  \n",
      "495    02-393-2004  \n",
      "\n",
      "[495 rows x 4 columns]\n"
     ]
    }
   ],
   "source": [
    "newdf.index=range(1, len(newdf) + 1)\n",
    "print(newdf)"
   ]
  },
  {
   "cell_type": "code",
   "execution_count": 100,
   "metadata": {},
   "outputs": [
    {
     "name": "stdout",
     "output_type": "stream",
     "text": [
      "검색된 매장 수: 1\n",
      "+----+----------------+------------------------------------------------------------------------+---------------+\n",
      "|    | 매장이름       | 주소                                                                   | 전화번호      |\n",
      "|----+----------------+------------------------------------------------------------------------+---------------|\n",
      "|  1 | 강릉안목해변점 | 강원특별자치도 강릉시 창해로14번길 34-1 (견소동) 견소동283-6,견소동132 | 070-7575-0184 |\n",
      "+----+----------------+------------------------------------------------------------------------+---------------+\n",
      "종료 합니다.\n"
     ]
    }
   ],
   "source": [
    "while True:\n",
    "    a=input('검색할 매장의 지역을 입력하세요: ').split()\n",
    "    if a[0]== 'quit':\n",
    "        print('종료 합니다.')\n",
    "        break\n",
    "    else:\n",
    "        try:\n",
    "            newdf2=newdf[(newdf['주소'].str.contains(a[0]))&(newdf['주소'].str.contains(a[1]))][['매장이름','주소','전화번호']]\n",
    "        except IndexError:\n",
    "            newdf2=newdf[newdf['주소'].str.contains(a[0])][['매장이름','주소','전화번호']]\n",
    "    newdf2.reset_index(drop=True, inplace=True)\n",
    "    newdf2.index = newdf2.index + 1\n",
    "    if len(newdf2) == 0 :\n",
    "        print('검색된 매장이 없습니다.')\n",
    "    else:\n",
    "        print(f'검색된 매장 수: {len(newdf2.index)}')\n",
    "        print(tabulate(newdf2, headers='keys', tablefmt='psql'))"
   ]
  }
 ],
 "metadata": {
  "kernelspec": {
   "display_name": "PY39",
   "language": "python",
   "name": "python3"
  },
  "language_info": {
   "codemirror_mode": {
    "name": "ipython",
    "version": 3
   },
   "file_extension": ".py",
   "mimetype": "text/x-python",
   "name": "python",
   "nbconvert_exporter": "python",
   "pygments_lexer": "ipython3",
   "version": "3.9.19"
  }
 },
 "nbformat": 4,
 "nbformat_minor": 2
}
