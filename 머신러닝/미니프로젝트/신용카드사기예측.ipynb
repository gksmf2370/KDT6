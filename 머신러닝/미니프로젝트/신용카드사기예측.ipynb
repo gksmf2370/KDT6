{
 "cells": [
  {
   "cell_type": "markdown",
   "metadata": {},
   "source": [
    "## 금융사기 예측\n",
    "- 데이터셋 : creditcard\n",
    "- 목적 : 금융사기 예측\n",
    "- 피쳐 : "
   ]
  },
  {
   "cell_type": "markdown",
   "metadata": {},
   "source": [
    "[1] 모듈 로딩"
   ]
  },
  {
   "cell_type": "code",
   "execution_count": 3,
   "metadata": {},
   "outputs": [],
   "source": [
    "import pandas as pd\n",
    "import numpy as np\n",
    "import matplotlib.pyplot as plt\n",
    "import seaborn as sns"
   ]
  },
  {
   "cell_type": "markdown",
   "metadata": {},
   "source": [
    "[2] 데이터 준비"
   ]
  },
  {
   "cell_type": "code",
   "execution_count": 5,
   "metadata": {},
   "outputs": [
    {
     "data": {
      "text/html": [
       "<div>\n",
       "<style scoped>\n",
       "    .dataframe tbody tr th:only-of-type {\n",
       "        vertical-align: middle;\n",
       "    }\n",
       "\n",
       "    .dataframe tbody tr th {\n",
       "        vertical-align: top;\n",
       "    }\n",
       "\n",
       "    .dataframe thead th {\n",
       "        text-align: right;\n",
       "    }\n",
       "</style>\n",
       "<table border=\"1\" class=\"dataframe\">\n",
       "  <thead>\n",
       "    <tr style=\"text-align: right;\">\n",
       "      <th></th>\n",
       "      <th>Time</th>\n",
       "      <th>V1</th>\n",
       "      <th>V2</th>\n",
       "      <th>V3</th>\n",
       "      <th>V4</th>\n",
       "      <th>V5</th>\n",
       "      <th>V6</th>\n",
       "      <th>V7</th>\n",
       "      <th>V8</th>\n",
       "      <th>V9</th>\n",
       "      <th>...</th>\n",
       "      <th>V21</th>\n",
       "      <th>V22</th>\n",
       "      <th>V23</th>\n",
       "      <th>V24</th>\n",
       "      <th>V25</th>\n",
       "      <th>V26</th>\n",
       "      <th>V27</th>\n",
       "      <th>V28</th>\n",
       "      <th>Amount</th>\n",
       "      <th>Class</th>\n",
       "    </tr>\n",
       "  </thead>\n",
       "  <tbody>\n",
       "    <tr>\n",
       "      <th>0</th>\n",
       "      <td>0.0</td>\n",
       "      <td>-1.359807</td>\n",
       "      <td>-0.072781</td>\n",
       "      <td>2.536347</td>\n",
       "      <td>1.378155</td>\n",
       "      <td>-0.338321</td>\n",
       "      <td>0.462388</td>\n",
       "      <td>0.239599</td>\n",
       "      <td>0.098698</td>\n",
       "      <td>0.363787</td>\n",
       "      <td>...</td>\n",
       "      <td>-0.018307</td>\n",
       "      <td>0.277838</td>\n",
       "      <td>-0.110474</td>\n",
       "      <td>0.066928</td>\n",
       "      <td>0.128539</td>\n",
       "      <td>-0.189115</td>\n",
       "      <td>0.133558</td>\n",
       "      <td>-0.021053</td>\n",
       "      <td>149.62</td>\n",
       "      <td>0</td>\n",
       "    </tr>\n",
       "    <tr>\n",
       "      <th>1</th>\n",
       "      <td>0.0</td>\n",
       "      <td>1.191857</td>\n",
       "      <td>0.266151</td>\n",
       "      <td>0.166480</td>\n",
       "      <td>0.448154</td>\n",
       "      <td>0.060018</td>\n",
       "      <td>-0.082361</td>\n",
       "      <td>-0.078803</td>\n",
       "      <td>0.085102</td>\n",
       "      <td>-0.255425</td>\n",
       "      <td>...</td>\n",
       "      <td>-0.225775</td>\n",
       "      <td>-0.638672</td>\n",
       "      <td>0.101288</td>\n",
       "      <td>-0.339846</td>\n",
       "      <td>0.167170</td>\n",
       "      <td>0.125895</td>\n",
       "      <td>-0.008983</td>\n",
       "      <td>0.014724</td>\n",
       "      <td>2.69</td>\n",
       "      <td>0</td>\n",
       "    </tr>\n",
       "    <tr>\n",
       "      <th>2</th>\n",
       "      <td>1.0</td>\n",
       "      <td>-1.358354</td>\n",
       "      <td>-1.340163</td>\n",
       "      <td>1.773209</td>\n",
       "      <td>0.379780</td>\n",
       "      <td>-0.503198</td>\n",
       "      <td>1.800499</td>\n",
       "      <td>0.791461</td>\n",
       "      <td>0.247676</td>\n",
       "      <td>-1.514654</td>\n",
       "      <td>...</td>\n",
       "      <td>0.247998</td>\n",
       "      <td>0.771679</td>\n",
       "      <td>0.909412</td>\n",
       "      <td>-0.689281</td>\n",
       "      <td>-0.327642</td>\n",
       "      <td>-0.139097</td>\n",
       "      <td>-0.055353</td>\n",
       "      <td>-0.059752</td>\n",
       "      <td>378.66</td>\n",
       "      <td>0</td>\n",
       "    </tr>\n",
       "  </tbody>\n",
       "</table>\n",
       "<p>3 rows × 31 columns</p>\n",
       "</div>"
      ],
      "text/plain": [
       "   Time        V1        V2        V3        V4        V5        V6        V7  \\\n",
       "0   0.0 -1.359807 -0.072781  2.536347  1.378155 -0.338321  0.462388  0.239599   \n",
       "1   0.0  1.191857  0.266151  0.166480  0.448154  0.060018 -0.082361 -0.078803   \n",
       "2   1.0 -1.358354 -1.340163  1.773209  0.379780 -0.503198  1.800499  0.791461   \n",
       "\n",
       "         V8        V9  ...       V21       V22       V23       V24       V25  \\\n",
       "0  0.098698  0.363787  ... -0.018307  0.277838 -0.110474  0.066928  0.128539   \n",
       "1  0.085102 -0.255425  ... -0.225775 -0.638672  0.101288 -0.339846  0.167170   \n",
       "2  0.247676 -1.514654  ...  0.247998  0.771679  0.909412 -0.689281 -0.327642   \n",
       "\n",
       "        V26       V27       V28  Amount  Class  \n",
       "0 -0.189115  0.133558 -0.021053  149.62      0  \n",
       "1  0.125895 -0.008983  0.014724    2.69      0  \n",
       "2 -0.139097 -0.055353 -0.059752  378.66      0  \n",
       "\n",
       "[3 rows x 31 columns]"
      ]
     },
     "execution_count": 5,
     "metadata": {},
     "output_type": "execute_result"
    }
   ],
   "source": [
    "file_path = r'C:\\Users\\KDP15\\Desktop\\KDT6\\머신러닝\\미니프로젝트\\creditcard.csv'\n",
    "df = pd.read_csv(file_path)\n",
    "df.head(3)"
   ]
  },
  {
   "cell_type": "code",
   "execution_count": 10,
   "metadata": {},
   "outputs": [],
   "source": [
    "from sklearn.model_selection import train_test_split"
   ]
  },
  {
   "cell_type": "code",
   "execution_count": 51,
   "metadata": {},
   "outputs": [
    {
     "name": "stdout",
     "output_type": "stream",
     "text": [
      "Class\n",
      "0    284315\n",
      "1       492\n",
      "Name: count, dtype: int64\n"
     ]
    }
   ],
   "source": [
    "print(df['Class'].value_counts())"
   ]
  },
  {
   "cell_type": "code",
   "execution_count": 52,
   "metadata": {},
   "outputs": [],
   "source": [
    "# 특징과 레이블 분리\n",
    "X = df.drop('Class', axis=1)\n",
    "y = df['Class']\n",
    "\n",
    "# 데이터 분할\n",
    "X_train, X_test, y_train, y_test = train_test_split(X, y, test_size=0.2, stratify=y, random_state=42)"
   ]
  },
  {
   "cell_type": "code",
   "execution_count": 13,
   "metadata": {},
   "outputs": [],
   "source": [
    "from imblearn.over_sampling import SMOTE\n",
    "\n",
    "sm = SMOTE(random_state=42)\n",
    "X_train_res, y_train_res = sm.fit_resample(X_train, y_train)"
   ]
  },
  {
   "cell_type": "code",
   "execution_count": 18,
   "metadata": {},
   "outputs": [
    {
     "data": {
      "text/plain": [
       "Class\n",
       "0    227451\n",
       "1    227451\n",
       "Name: count, dtype: int64"
      ]
     },
     "execution_count": 18,
     "metadata": {},
     "output_type": "execute_result"
    }
   ],
   "source": [
    "y_train_res.value_counts()"
   ]
  },
  {
   "cell_type": "code",
   "execution_count": 30,
   "metadata": {},
   "outputs": [],
   "source": [
    "from sklearn.utils import resample"
   ]
  },
  {
   "cell_type": "code",
   "execution_count": 60,
   "metadata": {},
   "outputs": [],
   "source": [
    "from sklearn.utils import resample\n",
    "\n",
    "# 오버샘플링된 데이터를 다시 축소\n",
    "X_train_downsampled, y_train_downsampled = resample(X_train_res, y_train_res, \n",
    "                                                    n_samples=10000, # 원하는 샘플 크기\n",
    "                                                    random_state=42)"
   ]
  },
  {
   "cell_type": "code",
   "execution_count": 61,
   "metadata": {},
   "outputs": [
    {
     "data": {
      "text/plain": [
       "Class\n",
       "1    5026\n",
       "0    4974\n",
       "Name: count, dtype: int64"
      ]
     },
     "execution_count": 61,
     "metadata": {},
     "output_type": "execute_result"
    }
   ],
   "source": [
    "y_train_downsampled.value_counts()"
   ]
  },
  {
   "cell_type": "code",
   "execution_count": 36,
   "metadata": {},
   "outputs": [],
   "source": [
    "from sklearn.model_selection import RandomizedSearchCV\n",
    "from sklearn.ensemble import RandomForestClassifier"
   ]
  },
  {
   "cell_type": "code",
   "execution_count": 39,
   "metadata": {},
   "outputs": [],
   "source": [
    "params = {\n",
    "    'n_estimators': [100, 200],\n",
    "    'max_depth': range(2, 16),\n",
    "    'min_samples_leaf': range(5,16),\n",
    "    'criterion': ['gini', 'entropy', 'log_loss']\n",
    "}"
   ]
  },
  {
   "cell_type": "code",
   "execution_count": 40,
   "metadata": {},
   "outputs": [
    {
     "name": "stdout",
     "output_type": "stream",
     "text": [
      "Fitting 5 folds for each of 10 candidates, totalling 50 fits\n",
      "[CV 1/5] END criterion=log_loss, max_depth=11, min_samples_leaf=5, n_estimators=200;, score=0.996 total time=  55.0s\n",
      "[CV 2/5] END criterion=log_loss, max_depth=11, min_samples_leaf=5, n_estimators=200;, score=0.996 total time= 1.0min\n",
      "[CV 3/5] END criterion=log_loss, max_depth=11, min_samples_leaf=5, n_estimators=200;, score=0.997 total time= 1.1min\n",
      "[CV 4/5] END criterion=log_loss, max_depth=11, min_samples_leaf=5, n_estimators=200;, score=0.996 total time= 1.0min\n",
      "[CV 5/5] END criterion=log_loss, max_depth=11, min_samples_leaf=5, n_estimators=200;, score=0.996 total time= 1.0min\n",
      "[CV 1/5] END criterion=log_loss, max_depth=5, min_samples_leaf=15, n_estimators=100;, score=0.967 total time=  19.5s\n",
      "[CV 2/5] END criterion=log_loss, max_depth=5, min_samples_leaf=15, n_estimators=100;, score=0.969 total time=  20.0s\n",
      "[CV 3/5] END criterion=log_loss, max_depth=5, min_samples_leaf=15, n_estimators=100;, score=0.970 total time=  19.9s\n",
      "[CV 4/5] END criterion=log_loss, max_depth=5, min_samples_leaf=15, n_estimators=100;, score=0.967 total time=  19.8s\n",
      "[CV 5/5] END criterion=log_loss, max_depth=5, min_samples_leaf=15, n_estimators=100;, score=0.969 total time=  20.0s\n",
      "[CV 1/5] END criterion=entropy, max_depth=9, min_samples_leaf=6, n_estimators=200;, score=0.991 total time=  53.6s\n",
      "[CV 2/5] END criterion=entropy, max_depth=9, min_samples_leaf=6, n_estimators=200;, score=0.991 total time=  57.7s\n",
      "[CV 3/5] END criterion=entropy, max_depth=9, min_samples_leaf=6, n_estimators=200;, score=0.992 total time=  58.2s\n",
      "[CV 4/5] END criterion=entropy, max_depth=9, min_samples_leaf=6, n_estimators=200;, score=0.990 total time=  58.8s\n",
      "[CV 5/5] END criterion=entropy, max_depth=9, min_samples_leaf=6, n_estimators=200;, score=0.992 total time= 1.1min\n",
      "[CV 1/5] END criterion=gini, max_depth=6, min_samples_leaf=11, n_estimators=100;, score=0.974 total time=  22.9s\n",
      "[CV 2/5] END criterion=gini, max_depth=6, min_samples_leaf=11, n_estimators=100;, score=0.973 total time=  21.6s\n",
      "[CV 3/5] END criterion=gini, max_depth=6, min_samples_leaf=11, n_estimators=100;, score=0.977 total time=  21.1s\n",
      "[CV 4/5] END criterion=gini, max_depth=6, min_samples_leaf=11, n_estimators=100;, score=0.972 total time=  21.7s\n",
      "[CV 5/5] END criterion=gini, max_depth=6, min_samples_leaf=11, n_estimators=100;, score=0.975 total time=  23.0s\n",
      "[CV 1/5] END criterion=gini, max_depth=4, min_samples_leaf=5, n_estimators=100;, score=0.964 total time=  15.3s\n",
      "[CV 2/5] END criterion=gini, max_depth=4, min_samples_leaf=5, n_estimators=100;, score=0.965 total time=  15.2s\n",
      "[CV 3/5] END criterion=gini, max_depth=4, min_samples_leaf=5, n_estimators=100;, score=0.967 total time=  15.3s\n",
      "[CV 4/5] END criterion=gini, max_depth=4, min_samples_leaf=5, n_estimators=100;, score=0.964 total time=  16.5s\n",
      "[CV 5/5] END criterion=gini, max_depth=4, min_samples_leaf=5, n_estimators=100;, score=0.967 total time=  16.0s\n",
      "[CV 1/5] END criterion=log_loss, max_depth=14, min_samples_leaf=5, n_estimators=100;, score=0.998 total time=  30.9s\n",
      "[CV 2/5] END criterion=log_loss, max_depth=14, min_samples_leaf=5, n_estimators=100;, score=0.997 total time=  31.7s\n",
      "[CV 3/5] END criterion=log_loss, max_depth=14, min_samples_leaf=5, n_estimators=100;, score=0.999 total time=  31.3s\n",
      "[CV 4/5] END criterion=log_loss, max_depth=14, min_samples_leaf=5, n_estimators=100;, score=0.998 total time=  30.5s\n",
      "[CV 5/5] END criterion=log_loss, max_depth=14, min_samples_leaf=5, n_estimators=100;, score=0.997 total time=  33.8s\n",
      "[CV 1/5] END criterion=log_loss, max_depth=3, min_samples_leaf=8, n_estimators=200;, score=0.956 total time=  27.7s\n",
      "[CV 2/5] END criterion=log_loss, max_depth=3, min_samples_leaf=8, n_estimators=200;, score=0.958 total time=  25.3s\n",
      "[CV 3/5] END criterion=log_loss, max_depth=3, min_samples_leaf=8, n_estimators=200;, score=0.957 total time=  25.7s\n",
      "[CV 4/5] END criterion=log_loss, max_depth=3, min_samples_leaf=8, n_estimators=200;, score=0.955 total time=  25.5s\n",
      "[CV 5/5] END criterion=log_loss, max_depth=3, min_samples_leaf=8, n_estimators=200;, score=0.959 total time=  25.3s\n",
      "[CV 1/5] END criterion=gini, max_depth=9, min_samples_leaf=15, n_estimators=200;, score=0.986 total time=  54.8s\n",
      "[CV 2/5] END criterion=gini, max_depth=9, min_samples_leaf=15, n_estimators=200;, score=0.985 total time=  56.7s\n",
      "[CV 3/5] END criterion=gini, max_depth=9, min_samples_leaf=15, n_estimators=200;, score=0.988 total time= 1.1min\n",
      "[CV 4/5] END criterion=gini, max_depth=9, min_samples_leaf=15, n_estimators=200;, score=0.984 total time= 1.1min\n",
      "[CV 5/5] END criterion=gini, max_depth=9, min_samples_leaf=15, n_estimators=200;, score=0.988 total time=  59.2s\n",
      "[CV 1/5] END criterion=entropy, max_depth=7, min_samples_leaf=8, n_estimators=100;, score=0.980 total time=  25.5s\n",
      "[CV 2/5] END criterion=entropy, max_depth=7, min_samples_leaf=8, n_estimators=100;, score=0.979 total time=  26.2s\n",
      "[CV 3/5] END criterion=entropy, max_depth=7, min_samples_leaf=8, n_estimators=100;, score=0.981 total time=  26.3s\n",
      "[CV 4/5] END criterion=entropy, max_depth=7, min_samples_leaf=8, n_estimators=100;, score=0.978 total time=  26.2s\n",
      "[CV 5/5] END criterion=entropy, max_depth=7, min_samples_leaf=8, n_estimators=100;, score=0.982 total time=  25.7s\n",
      "[CV 1/5] END criterion=log_loss, max_depth=3, min_samples_leaf=12, n_estimators=200;, score=0.956 total time=  26.8s\n",
      "[CV 2/5] END criterion=log_loss, max_depth=3, min_samples_leaf=12, n_estimators=200;, score=0.958 total time=  26.7s\n",
      "[CV 3/5] END criterion=log_loss, max_depth=3, min_samples_leaf=12, n_estimators=200;, score=0.957 total time=  26.6s\n",
      "[CV 4/5] END criterion=log_loss, max_depth=3, min_samples_leaf=12, n_estimators=200;, score=0.955 total time=  26.6s\n",
      "[CV 5/5] END criterion=log_loss, max_depth=3, min_samples_leaf=12, n_estimators=200;, score=0.959 total time=  26.2s\n"
     ]
    },
    {
     "data": {
      "text/html": [
       "<style>#sk-container-id-1 {color: black;}#sk-container-id-1 pre{padding: 0;}#sk-container-id-1 div.sk-toggleable {background-color: white;}#sk-container-id-1 label.sk-toggleable__label {cursor: pointer;display: block;width: 100%;margin-bottom: 0;padding: 0.3em;box-sizing: border-box;text-align: center;}#sk-container-id-1 label.sk-toggleable__label-arrow:before {content: \"▸\";float: left;margin-right: 0.25em;color: #696969;}#sk-container-id-1 label.sk-toggleable__label-arrow:hover:before {color: black;}#sk-container-id-1 div.sk-estimator:hover label.sk-toggleable__label-arrow:before {color: black;}#sk-container-id-1 div.sk-toggleable__content {max-height: 0;max-width: 0;overflow: hidden;text-align: left;background-color: #f0f8ff;}#sk-container-id-1 div.sk-toggleable__content pre {margin: 0.2em;color: black;border-radius: 0.25em;background-color: #f0f8ff;}#sk-container-id-1 input.sk-toggleable__control:checked~div.sk-toggleable__content {max-height: 200px;max-width: 100%;overflow: auto;}#sk-container-id-1 input.sk-toggleable__control:checked~label.sk-toggleable__label-arrow:before {content: \"▾\";}#sk-container-id-1 div.sk-estimator input.sk-toggleable__control:checked~label.sk-toggleable__label {background-color: #d4ebff;}#sk-container-id-1 div.sk-label input.sk-toggleable__control:checked~label.sk-toggleable__label {background-color: #d4ebff;}#sk-container-id-1 input.sk-hidden--visually {border: 0;clip: rect(1px 1px 1px 1px);clip: rect(1px, 1px, 1px, 1px);height: 1px;margin: -1px;overflow: hidden;padding: 0;position: absolute;width: 1px;}#sk-container-id-1 div.sk-estimator {font-family: monospace;background-color: #f0f8ff;border: 1px dotted black;border-radius: 0.25em;box-sizing: border-box;margin-bottom: 0.5em;}#sk-container-id-1 div.sk-estimator:hover {background-color: #d4ebff;}#sk-container-id-1 div.sk-parallel-item::after {content: \"\";width: 100%;border-bottom: 1px solid gray;flex-grow: 1;}#sk-container-id-1 div.sk-label:hover label.sk-toggleable__label {background-color: #d4ebff;}#sk-container-id-1 div.sk-serial::before {content: \"\";position: absolute;border-left: 1px solid gray;box-sizing: border-box;top: 0;bottom: 0;left: 50%;z-index: 0;}#sk-container-id-1 div.sk-serial {display: flex;flex-direction: column;align-items: center;background-color: white;padding-right: 0.2em;padding-left: 0.2em;position: relative;}#sk-container-id-1 div.sk-item {position: relative;z-index: 1;}#sk-container-id-1 div.sk-parallel {display: flex;align-items: stretch;justify-content: center;background-color: white;position: relative;}#sk-container-id-1 div.sk-item::before, #sk-container-id-1 div.sk-parallel-item::before {content: \"\";position: absolute;border-left: 1px solid gray;box-sizing: border-box;top: 0;bottom: 0;left: 50%;z-index: -1;}#sk-container-id-1 div.sk-parallel-item {display: flex;flex-direction: column;z-index: 1;position: relative;background-color: white;}#sk-container-id-1 div.sk-parallel-item:first-child::after {align-self: flex-end;width: 50%;}#sk-container-id-1 div.sk-parallel-item:last-child::after {align-self: flex-start;width: 50%;}#sk-container-id-1 div.sk-parallel-item:only-child::after {width: 0;}#sk-container-id-1 div.sk-dashed-wrapped {border: 1px dashed gray;margin: 0 0.4em 0.5em 0.4em;box-sizing: border-box;padding-bottom: 0.4em;background-color: white;}#sk-container-id-1 div.sk-label label {font-family: monospace;font-weight: bold;display: inline-block;line-height: 1.2em;}#sk-container-id-1 div.sk-label-container {text-align: center;}#sk-container-id-1 div.sk-container {/* jupyter's `normalize.less` sets `[hidden] { display: none; }` but bootstrap.min.css set `[hidden] { display: none !important; }` so we also need the `!important` here to be able to override the default hidden behavior on the sphinx rendered scikit-learn.org. See: https://github.com/scikit-learn/scikit-learn/issues/21755 */display: inline-block !important;position: relative;}#sk-container-id-1 div.sk-text-repr-fallback {display: none;}</style><div id=\"sk-container-id-1\" class=\"sk-top-container\"><div class=\"sk-text-repr-fallback\"><pre>RandomizedSearchCV(estimator=RandomForestClassifier(random_state=42),\n",
       "                   param_distributions={&#x27;criterion&#x27;: [&#x27;gini&#x27;, &#x27;entropy&#x27;,\n",
       "                                                      &#x27;log_loss&#x27;],\n",
       "                                        &#x27;max_depth&#x27;: range(2, 16),\n",
       "                                        &#x27;min_samples_leaf&#x27;: range(5, 16),\n",
       "                                        &#x27;n_estimators&#x27;: [100, 200]},\n",
       "                   verbose=4)</pre><b>In a Jupyter environment, please rerun this cell to show the HTML representation or trust the notebook. <br />On GitHub, the HTML representation is unable to render, please try loading this page with nbviewer.org.</b></div><div class=\"sk-container\" hidden><div class=\"sk-item sk-dashed-wrapped\"><div class=\"sk-label-container\"><div class=\"sk-label sk-toggleable\"><input class=\"sk-toggleable__control sk-hidden--visually\" id=\"sk-estimator-id-1\" type=\"checkbox\" ><label for=\"sk-estimator-id-1\" class=\"sk-toggleable__label sk-toggleable__label-arrow\">RandomizedSearchCV</label><div class=\"sk-toggleable__content\"><pre>RandomizedSearchCV(estimator=RandomForestClassifier(random_state=42),\n",
       "                   param_distributions={&#x27;criterion&#x27;: [&#x27;gini&#x27;, &#x27;entropy&#x27;,\n",
       "                                                      &#x27;log_loss&#x27;],\n",
       "                                        &#x27;max_depth&#x27;: range(2, 16),\n",
       "                                        &#x27;min_samples_leaf&#x27;: range(5, 16),\n",
       "                                        &#x27;n_estimators&#x27;: [100, 200]},\n",
       "                   verbose=4)</pre></div></div></div><div class=\"sk-parallel\"><div class=\"sk-parallel-item\"><div class=\"sk-item\"><div class=\"sk-label-container\"><div class=\"sk-label sk-toggleable\"><input class=\"sk-toggleable__control sk-hidden--visually\" id=\"sk-estimator-id-2\" type=\"checkbox\" ><label for=\"sk-estimator-id-2\" class=\"sk-toggleable__label sk-toggleable__label-arrow\">estimator: RandomForestClassifier</label><div class=\"sk-toggleable__content\"><pre>RandomForestClassifier(random_state=42)</pre></div></div></div><div class=\"sk-serial\"><div class=\"sk-item\"><div class=\"sk-estimator sk-toggleable\"><input class=\"sk-toggleable__control sk-hidden--visually\" id=\"sk-estimator-id-3\" type=\"checkbox\" ><label for=\"sk-estimator-id-3\" class=\"sk-toggleable__label sk-toggleable__label-arrow\">RandomForestClassifier</label><div class=\"sk-toggleable__content\"><pre>RandomForestClassifier(random_state=42)</pre></div></div></div></div></div></div></div></div></div></div>"
      ],
      "text/plain": [
       "RandomizedSearchCV(estimator=RandomForestClassifier(random_state=42),\n",
       "                   param_distributions={'criterion': ['gini', 'entropy',\n",
       "                                                      'log_loss'],\n",
       "                                        'max_depth': range(2, 16),\n",
       "                                        'min_samples_leaf': range(5, 16),\n",
       "                                        'n_estimators': [100, 200]},\n",
       "                   verbose=4)"
      ]
     },
     "execution_count": 40,
     "metadata": {},
     "output_type": "execute_result"
    }
   ],
   "source": [
    "rf = RandomForestClassifier(random_state=42)\n",
    "\n",
    "grid_search = RandomizedSearchCV(estimator=rf, param_distributions=params,\n",
    "                           verbose=4)\n",
    "\n",
    "grid_search.fit(X_train_downsampled, y_train_downsampled)"
   ]
  },
  {
   "cell_type": "code",
   "execution_count": 41,
   "metadata": {},
   "outputs": [
    {
     "name": "stdout",
     "output_type": "stream",
     "text": [
      "[searchCV.best_score_ ] 0.9976800000000001\n",
      "[searchCV.best_params_] {'n_estimators': 100, 'min_samples_leaf': 5, 'max_depth': 14, 'criterion': 'log_loss'}\n",
      "[searchCV.best_estimator_] RandomForestClassifier(criterion='log_loss', max_depth=14, min_samples_leaf=5,\n",
      "                       random_state=42)\n"
     ]
    }
   ],
   "source": [
    "# 모델 파라미터\n",
    "\n",
    "print(f'[searchCV.best_score_ ] {grid_search.best_score_}')\n",
    "print(f'[searchCV.best_params_] {grid_search.best_params_}')\n",
    "print(f'[searchCV.best_estimator_] {grid_search.best_estimator_}')\n",
    "\n",
    "cv_resultDF = pd.DataFrame(grid_search.cv_results_)"
   ]
  },
  {
   "cell_type": "code",
   "execution_count": 62,
   "metadata": {},
   "outputs": [],
   "source": [
    "best_model = grid_search.best_estimator_"
   ]
  },
  {
   "cell_type": "code",
   "execution_count": 66,
   "metadata": {},
   "outputs": [],
   "source": [
    "train_pre = best_model.predict(X_train_downsampled)\n",
    "test_pre = best_model.predict(X_test)"
   ]
  },
  {
   "cell_type": "code",
   "execution_count": 69,
   "metadata": {},
   "outputs": [],
   "source": [
    "from sklearn.metrics import classification_report, confusion_matrix"
   ]
  },
  {
   "cell_type": "code",
   "execution_count": 68,
   "metadata": {},
   "outputs": [
    {
     "name": "stdout",
     "output_type": "stream",
     "text": [
      "              precision    recall  f1-score   support\n",
      "\n",
      "           0       1.00      1.00      1.00     56864\n",
      "           1       0.45      0.89      0.60        98\n",
      "\n",
      "    accuracy                           1.00     56962\n",
      "   macro avg       0.73      0.94      0.80     56962\n",
      "weighted avg       1.00      1.00      1.00     56962\n",
      "\n"
     ]
    }
   ],
   "source": [
    "print(classification_report(y_test, test_pre))"
   ]
  },
  {
   "cell_type": "code",
   "execution_count": 70,
   "metadata": {},
   "outputs": [
    {
     "name": "stdout",
     "output_type": "stream",
     "text": [
      "[[56759   105]\n",
      " [   11    87]]\n"
     ]
    }
   ],
   "source": [
    "print(confusion_matrix(y_test, test_pre))"
   ]
  },
  {
   "cell_type": "code",
   "execution_count": 72,
   "metadata": {},
   "outputs": [],
   "source": [
    "importances = best_model.feature_importances_"
   ]
  },
  {
   "cell_type": "code",
   "execution_count": 73,
   "metadata": {},
   "outputs": [],
   "source": [
    "feature_names = X_train.columns\n",
    "indices = np.argsort(importances)[::-1]"
   ]
  },
  {
   "cell_type": "code",
   "execution_count": 86,
   "metadata": {},
   "outputs": [
    {
     "data": {
      "text/plain": [
       "array([0.00700253, 0.00788676, 0.03258849, 0.06443705, 0.11379499,\n",
       "       0.00656679, 0.00894993, 0.01837259, 0.00925585, 0.02488068,\n",
       "       0.12235372, 0.05023684, 0.11022941, 0.00678261, 0.21588425,\n",
       "       0.00407783, 0.03942434, 0.08389239, 0.01001841, 0.0061975 ,\n",
       "       0.00584277, 0.01360894, 0.00443984, 0.00421142, 0.0031659 ,\n",
       "       0.0034486 , 0.0046572 , 0.00573198, 0.00718169, 0.00487865])"
      ]
     },
     "execution_count": 86,
     "metadata": {},
     "output_type": "execute_result"
    }
   ],
   "source": [
    "importances"
   ]
  },
  {
   "cell_type": "code",
   "execution_count": 74,
   "metadata": {},
   "outputs": [
    {
     "data": {
      "image/png": "[encoded data removed]",
      "text/plain": [
       "<Figure size 1000x600 with 1 Axes>"
      ]
     },
     "metadata": {},
     "output_type": "display_data"
    }
   ],
   "source": [
    "plt.figure(figsize=(10, 6))\n",
    "plt.title(\"Feature Importance\")\n",
    "plt.bar(range(X_train.shape[1]), importances[indices], align=\"center\")\n",
    "plt.xticks(range(X_train.shape[1]), feature_names[indices], rotation=90)\n",
    "plt.tight_layout()\n",
    "plt.show()"
   ]
  },
  {
   "cell_type": "code",
   "execution_count": 95,
   "metadata": {},
   "outputs": [],
   "source": [
    "n = 14\n",
    "top_n_features = feature_names[indices][:n]"
   ]
  },
  {
   "cell_type": "code",
   "execution_count": 96,
   "metadata": {},
   "outputs": [],
   "source": [
    "X_train_top = X_train_downsampled[top_n_features]\n",
    "X_test_top = X_test[top_n_features]"
   ]
  },
  {
   "cell_type": "code",
   "execution_count": 97,
   "metadata": {},
   "outputs": [],
   "source": [
    "params = {\n",
    "    'n_estimators': [100, 200],\n",
    "    'max_depth': range(2, 16),\n",
    "    'min_samples_leaf': range(5,16),\n",
    "    'criterion': ['gini', 'entropy', 'log_loss']\n",
    "}"
   ]
  },
  {
   "cell_type": "code",
   "execution_count": 98,
   "metadata": {},
   "outputs": [
    {
     "name": "stdout",
     "output_type": "stream",
     "text": [
      "Fitting 5 folds for each of 10 candidates, totalling 50 fits\n",
      "[CV 1/5] END criterion=gini, max_depth=7, min_samples_leaf=7, n_estimators=100;, score=0.979 total time=   2.5s\n",
      "[CV 2/5] END criterion=gini, max_depth=7, min_samples_leaf=7, n_estimators=100;, score=0.971 total time=   2.5s\n",
      "[CV 3/5] END criterion=gini, max_depth=7, min_samples_leaf=7, n_estimators=100;, score=0.975 total time=   2.4s\n",
      "[CV 4/5] END criterion=gini, max_depth=7, min_samples_leaf=7, n_estimators=100;, score=0.968 total time=   2.5s\n",
      "[CV 5/5] END criterion=gini, max_depth=7, min_samples_leaf=7, n_estimators=100;, score=0.977 total time=   2.5s\n",
      "[CV 1/5] END criterion=gini, max_depth=2, min_samples_leaf=13, n_estimators=200;, score=0.960 total time=   1.8s\n",
      "[CV 2/5] END criterion=gini, max_depth=2, min_samples_leaf=13, n_estimators=200;, score=0.954 total time=   1.8s\n",
      "[CV 3/5] END criterion=gini, max_depth=2, min_samples_leaf=13, n_estimators=200;, score=0.959 total time=   1.8s\n",
      "[CV 4/5] END criterion=gini, max_depth=2, min_samples_leaf=13, n_estimators=200;, score=0.949 total time=   1.8s\n",
      "[CV 5/5] END criterion=gini, max_depth=2, min_samples_leaf=13, n_estimators=200;, score=0.953 total time=   1.8s\n",
      "[CV 1/5] END criterion=entropy, max_depth=12, min_samples_leaf=13, n_estimators=100;, score=0.982 total time=   2.8s\n",
      "[CV 2/5] END criterion=entropy, max_depth=12, min_samples_leaf=13, n_estimators=100;, score=0.977 total time=   2.8s\n",
      "[CV 3/5] END criterion=entropy, max_depth=12, min_samples_leaf=13, n_estimators=100;, score=0.979 total time=   2.7s\n",
      "[CV 4/5] END criterion=entropy, max_depth=12, min_samples_leaf=13, n_estimators=100;, score=0.974 total time=   2.7s\n",
      "[CV 5/5] END criterion=entropy, max_depth=12, min_samples_leaf=13, n_estimators=100;, score=0.985 total time=   2.8s\n",
      "[CV 1/5] END criterion=log_loss, max_depth=5, min_samples_leaf=12, n_estimators=200;, score=0.975 total time=   4.5s\n",
      "[CV 2/5] END criterion=log_loss, max_depth=5, min_samples_leaf=12, n_estimators=200;, score=0.967 total time=   4.5s\n",
      "[CV 3/5] END criterion=log_loss, max_depth=5, min_samples_leaf=12, n_estimators=200;, score=0.967 total time=   4.3s\n",
      "[CV 4/5] END criterion=log_loss, max_depth=5, min_samples_leaf=12, n_estimators=200;, score=0.960 total time=   4.6s\n",
      "[CV 5/5] END criterion=log_loss, max_depth=5, min_samples_leaf=12, n_estimators=200;, score=0.971 total time=   4.5s\n",
      "[CV 1/5] END criterion=log_loss, max_depth=10, min_samples_leaf=12, n_estimators=100;, score=0.981 total time=   2.8s\n",
      "[CV 2/5] END criterion=log_loss, max_depth=10, min_samples_leaf=12, n_estimators=100;, score=0.977 total time=   2.8s\n",
      "[CV 3/5] END criterion=log_loss, max_depth=10, min_samples_leaf=12, n_estimators=100;, score=0.979 total time=   2.7s\n",
      "[CV 4/5] END criterion=log_loss, max_depth=10, min_samples_leaf=12, n_estimators=100;, score=0.973 total time=   2.8s\n",
      "[CV 5/5] END criterion=log_loss, max_depth=10, min_samples_leaf=12, n_estimators=100;, score=0.983 total time=   2.8s\n",
      "[CV 1/5] END criterion=gini, max_depth=11, min_samples_leaf=10, n_estimators=200;, score=0.982 total time=   6.1s\n",
      "[CV 2/5] END criterion=gini, max_depth=11, min_samples_leaf=10, n_estimators=200;, score=0.977 total time=   6.1s\n",
      "[CV 3/5] END criterion=gini, max_depth=11, min_samples_leaf=10, n_estimators=200;, score=0.979 total time=   6.0s\n",
      "[CV 4/5] END criterion=gini, max_depth=11, min_samples_leaf=10, n_estimators=200;, score=0.972 total time=   6.3s\n",
      "[CV 5/5] END criterion=gini, max_depth=11, min_samples_leaf=10, n_estimators=200;, score=0.983 total time=   6.1s\n",
      "[CV 1/5] END criterion=entropy, max_depth=3, min_samples_leaf=8, n_estimators=200;, score=0.963 total time=   3.1s\n",
      "[CV 2/5] END criterion=entropy, max_depth=3, min_samples_leaf=8, n_estimators=200;, score=0.955 total time=   3.1s\n",
      "[CV 3/5] END criterion=entropy, max_depth=3, min_samples_leaf=8, n_estimators=200;, score=0.963 total time=   3.1s\n",
      "[CV 4/5] END criterion=entropy, max_depth=3, min_samples_leaf=8, n_estimators=200;, score=0.954 total time=   3.3s\n",
      "[CV 5/5] END criterion=entropy, max_depth=3, min_samples_leaf=8, n_estimators=200;, score=0.958 total time=   3.1s\n",
      "[CV 1/5] END criterion=gini, max_depth=11, min_samples_leaf=9, n_estimators=100;, score=0.983 total time=   3.1s\n",
      "[CV 2/5] END criterion=gini, max_depth=11, min_samples_leaf=9, n_estimators=100;, score=0.979 total time=   3.1s\n",
      "[CV 3/5] END criterion=gini, max_depth=11, min_samples_leaf=9, n_estimators=100;, score=0.977 total time=   3.0s\n",
      "[CV 4/5] END criterion=gini, max_depth=11, min_samples_leaf=9, n_estimators=100;, score=0.974 total time=   3.1s\n",
      "[CV 5/5] END criterion=gini, max_depth=11, min_samples_leaf=9, n_estimators=100;, score=0.983 total time=   3.0s\n",
      "[CV 1/5] END criterion=entropy, max_depth=14, min_samples_leaf=7, n_estimators=200;, score=0.986 total time=   5.9s\n",
      "[CV 2/5] END criterion=entropy, max_depth=14, min_samples_leaf=7, n_estimators=200;, score=0.982 total time=   5.9s\n",
      "[CV 3/5] END criterion=entropy, max_depth=14, min_samples_leaf=7, n_estimators=200;, score=0.984 total time=   5.7s\n",
      "[CV 4/5] END criterion=entropy, max_depth=14, min_samples_leaf=7, n_estimators=200;, score=0.979 total time=   5.9s\n",
      "[CV 5/5] END criterion=entropy, max_depth=14, min_samples_leaf=7, n_estimators=200;, score=0.989 total time=   6.0s\n",
      "[CV 1/5] END criterion=log_loss, max_depth=11, min_samples_leaf=13, n_estimators=100;, score=0.982 total time=   2.9s\n",
      "[CV 2/5] END criterion=log_loss, max_depth=11, min_samples_leaf=13, n_estimators=100;, score=0.977 total time=   2.8s\n",
      "[CV 3/5] END criterion=log_loss, max_depth=11, min_samples_leaf=13, n_estimators=100;, score=0.979 total time=   2.7s\n",
      "[CV 4/5] END criterion=log_loss, max_depth=11, min_samples_leaf=13, n_estimators=100;, score=0.973 total time=   2.7s\n",
      "[CV 5/5] END criterion=log_loss, max_depth=11, min_samples_leaf=13, n_estimators=100;, score=0.983 total time=   2.8s\n"
     ]
    },
    {
     "data": {
      "text/html": [
       "<style>#sk-container-id-5 {color: black;}#sk-container-id-5 pre{padding: 0;}#sk-container-id-5 div.sk-toggleable {background-color: white;}#sk-container-id-5 label.sk-toggleable__label {cursor: pointer;display: block;width: 100%;margin-bottom: 0;padding: 0.3em;box-sizing: border-box;text-align: center;}#sk-container-id-5 label.sk-toggleable__label-arrow:before {content: \"▸\";float: left;margin-right: 0.25em;color: #696969;}#sk-container-id-5 label.sk-toggleable__label-arrow:hover:before {color: black;}#sk-container-id-5 div.sk-estimator:hover label.sk-toggleable__label-arrow:before {color: black;}#sk-container-id-5 div.sk-toggleable__content {max-height: 0;max-width: 0;overflow: hidden;text-align: left;background-color: #f0f8ff;}#sk-container-id-5 div.sk-toggleable__content pre {margin: 0.2em;color: black;border-radius: 0.25em;background-color: #f0f8ff;}#sk-container-id-5 input.sk-toggleable__control:checked~div.sk-toggleable__content {max-height: 200px;max-width: 100%;overflow: auto;}#sk-container-id-5 input.sk-toggleable__control:checked~label.sk-toggleable__label-arrow:before {content: \"▾\";}#sk-container-id-5 div.sk-estimator input.sk-toggleable__control:checked~label.sk-toggleable__label {background-color: #d4ebff;}#sk-container-id-5 div.sk-label input.sk-toggleable__control:checked~label.sk-toggleable__label {background-color: #d4ebff;}#sk-container-id-5 input.sk-hidden--visually {border: 0;clip: rect(1px 1px 1px 1px);clip: rect(1px, 1px, 1px, 1px);height: 1px;margin: -1px;overflow: hidden;padding: 0;position: absolute;width: 1px;}#sk-container-id-5 div.sk-estimator {font-family: monospace;background-color: #f0f8ff;border: 1px dotted black;border-radius: 0.25em;box-sizing: border-box;margin-bottom: 0.5em;}#sk-container-id-5 div.sk-estimator:hover {background-color: #d4ebff;}#sk-container-id-5 div.sk-parallel-item::after {content: \"\";width: 100%;border-bottom: 1px solid gray;flex-grow: 1;}#sk-container-id-5 div.sk-label:hover label.sk-toggleable__label {background-color: #d4ebff;}#sk-container-id-5 div.sk-serial::before {content: \"\";position: absolute;border-left: 1px solid gray;box-sizing: border-box;top: 0;bottom: 0;left: 50%;z-index: 0;}#sk-container-id-5 div.sk-serial {display: flex;flex-direction: column;align-items: center;background-color: white;padding-right: 0.2em;padding-left: 0.2em;position: relative;}#sk-container-id-5 div.sk-item {position: relative;z-index: 1;}#sk-container-id-5 div.sk-parallel {display: flex;align-items: stretch;justify-content: center;background-color: white;position: relative;}#sk-container-id-5 div.sk-item::before, #sk-container-id-5 div.sk-parallel-item::before {content: \"\";position: absolute;border-left: 1px solid gray;box-sizing: border-box;top: 0;bottom: 0;left: 50%;z-index: -1;}#sk-container-id-5 div.sk-parallel-item {display: flex;flex-direction: column;z-index: 1;position: relative;background-color: white;}#sk-container-id-5 div.sk-parallel-item:first-child::after {align-self: flex-end;width: 50%;}#sk-container-id-5 div.sk-parallel-item:last-child::after {align-self: flex-start;width: 50%;}#sk-container-id-5 div.sk-parallel-item:only-child::after {width: 0;}#sk-container-id-5 div.sk-dashed-wrapped {border: 1px dashed gray;margin: 0 0.4em 0.5em 0.4em;box-sizing: border-box;padding-bottom: 0.4em;background-color: white;}#sk-container-id-5 div.sk-label label {font-family: monospace;font-weight: bold;display: inline-block;line-height: 1.2em;}#sk-container-id-5 div.sk-label-container {text-align: center;}#sk-container-id-5 div.sk-container {/* jupyter's `normalize.less` sets `[hidden] { display: none; }` but bootstrap.min.css set `[hidden] { display: none !important; }` so we also need the `!important` here to be able to override the default hidden behavior on the sphinx rendered scikit-learn.org. See: https://github.com/scikit-learn/scikit-learn/issues/21755 */display: inline-block !important;position: relative;}#sk-container-id-5 div.sk-text-repr-fallback {display: none;}</style><div id=\"sk-container-id-5\" class=\"sk-top-container\"><div class=\"sk-text-repr-fallback\"><pre>RandomizedSearchCV(estimator=RandomForestClassifier(random_state=42),\n",
       "                   param_distributions={&#x27;criterion&#x27;: [&#x27;gini&#x27;, &#x27;entropy&#x27;,\n",
       "                                                      &#x27;log_loss&#x27;],\n",
       "                                        &#x27;max_depth&#x27;: range(2, 16),\n",
       "                                        &#x27;min_samples_leaf&#x27;: range(5, 16),\n",
       "                                        &#x27;n_estimators&#x27;: [100, 200]},\n",
       "                   verbose=4)</pre><b>In a Jupyter environment, please rerun this cell to show the HTML representation or trust the notebook. <br />On GitHub, the HTML representation is unable to render, please try loading this page with nbviewer.org.</b></div><div class=\"sk-container\" hidden><div class=\"sk-item sk-dashed-wrapped\"><div class=\"sk-label-container\"><div class=\"sk-label sk-toggleable\"><input class=\"sk-toggleable__control sk-hidden--visually\" id=\"sk-estimator-id-9\" type=\"checkbox\" ><label for=\"sk-estimator-id-9\" class=\"sk-toggleable__label sk-toggleable__label-arrow\">RandomizedSearchCV</label><div class=\"sk-toggleable__content\"><pre>RandomizedSearchCV(estimator=RandomForestClassifier(random_state=42),\n",
       "                   param_distributions={&#x27;criterion&#x27;: [&#x27;gini&#x27;, &#x27;entropy&#x27;,\n",
       "                                                      &#x27;log_loss&#x27;],\n",
       "                                        &#x27;max_depth&#x27;: range(2, 16),\n",
       "                                        &#x27;min_samples_leaf&#x27;: range(5, 16),\n",
       "                                        &#x27;n_estimators&#x27;: [100, 200]},\n",
       "                   verbose=4)</pre></div></div></div><div class=\"sk-parallel\"><div class=\"sk-parallel-item\"><div class=\"sk-item\"><div class=\"sk-label-container\"><div class=\"sk-label sk-toggleable\"><input class=\"sk-toggleable__control sk-hidden--visually\" id=\"sk-estimator-id-10\" type=\"checkbox\" ><label for=\"sk-estimator-id-10\" class=\"sk-toggleable__label sk-toggleable__label-arrow\">estimator: RandomForestClassifier</label><div class=\"sk-toggleable__content\"><pre>RandomForestClassifier(random_state=42)</pre></div></div></div><div class=\"sk-serial\"><div class=\"sk-item\"><div class=\"sk-estimator sk-toggleable\"><input class=\"sk-toggleable__control sk-hidden--visually\" id=\"sk-estimator-id-11\" type=\"checkbox\" ><label for=\"sk-estimator-id-11\" class=\"sk-toggleable__label sk-toggleable__label-arrow\">RandomForestClassifier</label><div class=\"sk-toggleable__content\"><pre>RandomForestClassifier(random_state=42)</pre></div></div></div></div></div></div></div></div></div></div>"
      ],
      "text/plain": [
       "RandomizedSearchCV(estimator=RandomForestClassifier(random_state=42),\n",
       "                   param_distributions={'criterion': ['gini', 'entropy',\n",
       "                                                      'log_loss'],\n",
       "                                        'max_depth': range(2, 16),\n",
       "                                        'min_samples_leaf': range(5, 16),\n",
       "                                        'n_estimators': [100, 200]},\n",
       "                   verbose=4)"
      ]
     },
     "execution_count": 98,
     "metadata": {},
     "output_type": "execute_result"
    }
   ],
   "source": [
    "rf = RandomForestClassifier(random_state=42)\n",
    "\n",
    "grid_search_top = RandomizedSearchCV(estimator=rf, param_distributions=params,\n",
    "                           verbose=4)\n",
    "\n",
    "grid_search_top.fit(X_train_top, y_train_downsampled)"
   ]
  },
  {
   "cell_type": "code",
   "execution_count": 78,
   "metadata": {},
   "outputs": [],
   "source": [
    "best_model = grid_search_top.best_estimator_"
   ]
  },
  {
   "cell_type": "code",
   "execution_count": 79,
   "metadata": {},
   "outputs": [
    {
     "data": {
      "text/html": [
       "<style>#sk-container-id-4 {color: black;}#sk-container-id-4 pre{padding: 0;}#sk-container-id-4 div.sk-toggleable {background-color: white;}#sk-container-id-4 label.sk-toggleable__label {cursor: pointer;display: block;width: 100%;margin-bottom: 0;padding: 0.3em;box-sizing: border-box;text-align: center;}#sk-container-id-4 label.sk-toggleable__label-arrow:before {content: \"▸\";float: left;margin-right: 0.25em;color: #696969;}#sk-container-id-4 label.sk-toggleable__label-arrow:hover:before {color: black;}#sk-container-id-4 div.sk-estimator:hover label.sk-toggleable__label-arrow:before {color: black;}#sk-container-id-4 div.sk-toggleable__content {max-height: 0;max-width: 0;overflow: hidden;text-align: left;background-color: #f0f8ff;}#sk-container-id-4 div.sk-toggleable__content pre {margin: 0.2em;color: black;border-radius: 0.25em;background-color: #f0f8ff;}#sk-container-id-4 input.sk-toggleable__control:checked~div.sk-toggleable__content {max-height: 200px;max-width: 100%;overflow: auto;}#sk-container-id-4 input.sk-toggleable__control:checked~label.sk-toggleable__label-arrow:before {content: \"▾\";}#sk-container-id-4 div.sk-estimator input.sk-toggleable__control:checked~label.sk-toggleable__label {background-color: #d4ebff;}#sk-container-id-4 div.sk-label input.sk-toggleable__control:checked~label.sk-toggleable__label {background-color: #d4ebff;}#sk-container-id-4 input.sk-hidden--visually {border: 0;clip: rect(1px 1px 1px 1px);clip: rect(1px, 1px, 1px, 1px);height: 1px;margin: -1px;overflow: hidden;padding: 0;position: absolute;width: 1px;}#sk-container-id-4 div.sk-estimator {font-family: monospace;background-color: #f0f8ff;border: 1px dotted black;border-radius: 0.25em;box-sizing: border-box;margin-bottom: 0.5em;}#sk-container-id-4 div.sk-estimator:hover {background-color: #d4ebff;}#sk-container-id-4 div.sk-parallel-item::after {content: \"\";width: 100%;border-bottom: 1px solid gray;flex-grow: 1;}#sk-container-id-4 div.sk-label:hover label.sk-toggleable__label {background-color: #d4ebff;}#sk-container-id-4 div.sk-serial::before {content: \"\";position: absolute;border-left: 1px solid gray;box-sizing: border-box;top: 0;bottom: 0;left: 50%;z-index: 0;}#sk-container-id-4 div.sk-serial {display: flex;flex-direction: column;align-items: center;background-color: white;padding-right: 0.2em;padding-left: 0.2em;position: relative;}#sk-container-id-4 div.sk-item {position: relative;z-index: 1;}#sk-container-id-4 div.sk-parallel {display: flex;align-items: stretch;justify-content: center;background-color: white;position: relative;}#sk-container-id-4 div.sk-item::before, #sk-container-id-4 div.sk-parallel-item::before {content: \"\";position: absolute;border-left: 1px solid gray;box-sizing: border-box;top: 0;bottom: 0;left: 50%;z-index: -1;}#sk-container-id-4 div.sk-parallel-item {display: flex;flex-direction: column;z-index: 1;position: relative;background-color: white;}#sk-container-id-4 div.sk-parallel-item:first-child::after {align-self: flex-end;width: 50%;}#sk-container-id-4 div.sk-parallel-item:last-child::after {align-self: flex-start;width: 50%;}#sk-container-id-4 div.sk-parallel-item:only-child::after {width: 0;}#sk-container-id-4 div.sk-dashed-wrapped {border: 1px dashed gray;margin: 0 0.4em 0.5em 0.4em;box-sizing: border-box;padding-bottom: 0.4em;background-color: white;}#sk-container-id-4 div.sk-label label {font-family: monospace;font-weight: bold;display: inline-block;line-height: 1.2em;}#sk-container-id-4 div.sk-label-container {text-align: center;}#sk-container-id-4 div.sk-container {/* jupyter's `normalize.less` sets `[hidden] { display: none; }` but bootstrap.min.css set `[hidden] { display: none !important; }` so we also need the `!important` here to be able to override the default hidden behavior on the sphinx rendered scikit-learn.org. See: https://github.com/scikit-learn/scikit-learn/issues/21755 */display: inline-block !important;position: relative;}#sk-container-id-4 div.sk-text-repr-fallback {display: none;}</style><div id=\"sk-container-id-4\" class=\"sk-top-container\"><div class=\"sk-text-repr-fallback\"><pre>RandomForestClassifier(criterion=&#x27;log_loss&#x27;, max_depth=14, min_samples_leaf=7,\n",
       "                       random_state=42)</pre><b>In a Jupyter environment, please rerun this cell to show the HTML representation or trust the notebook. <br />On GitHub, the HTML representation is unable to render, please try loading this page with nbviewer.org.</b></div><div class=\"sk-container\" hidden><div class=\"sk-item\"><div class=\"sk-estimator sk-toggleable\"><input class=\"sk-toggleable__control sk-hidden--visually\" id=\"sk-estimator-id-8\" type=\"checkbox\" checked><label for=\"sk-estimator-id-8\" class=\"sk-toggleable__label sk-toggleable__label-arrow\">RandomForestClassifier</label><div class=\"sk-toggleable__content\"><pre>RandomForestClassifier(criterion=&#x27;log_loss&#x27;, max_depth=14, min_samples_leaf=7,\n",
       "                       random_state=42)</pre></div></div></div></div></div>"
      ],
      "text/plain": [
       "RandomForestClassifier(criterion='log_loss', max_depth=14, min_samples_leaf=7,\n",
       "                       random_state=42)"
      ]
     },
     "execution_count": 79,
     "metadata": {},
     "output_type": "execute_result"
    }
   ],
   "source": [
    "best_model"
   ]
  },
  {
   "cell_type": "code",
   "execution_count": 83,
   "metadata": {},
   "outputs": [
    {
     "name": "stdout",
     "output_type": "stream",
     "text": [
      "[searchCV.best_score_ ] 0.9976800000000001\n",
      "[searchCV.best_params_] {'n_estimators': 100, 'min_samples_leaf': 5, 'max_depth': 14, 'criterion': 'log_loss'}\n",
      "[searchCV.best_estimator_] RandomForestClassifier(criterion='log_loss', max_depth=14, min_samples_leaf=5,\n",
      "                       random_state=42)\n"
     ]
    }
   ],
   "source": [
    "print(f'[searchCV.best_score_ ] {grid_search.best_score_}')\n",
    "print(f'[searchCV.best_params_] {grid_search.best_params_}')\n",
    "print(f'[searchCV.best_estimator_] {grid_search.best_estimator_}')\n"
   ]
  },
  {
   "cell_type": "code",
   "execution_count": 81,
   "metadata": {},
   "outputs": [],
   "source": [
    "train_pre_top=best_model.predict(X_train_top)\n",
    "test_pre_top = best_model.predict(X_test_top)"
   ]
  },
  {
   "cell_type": "code",
   "execution_count": 85,
   "metadata": {},
   "outputs": [
    {
     "name": "stdout",
     "output_type": "stream",
     "text": [
      "[[56421   443]\n",
      " [    9    89]]\n"
     ]
    }
   ],
   "source": [
    "print(confusion_matrix(y_test, test_pre_top))"
   ]
  },
  {
   "cell_type": "code",
   "execution_count": 84,
   "metadata": {},
   "outputs": [
    {
     "name": "stdout",
     "output_type": "stream",
     "text": [
      "              precision    recall  f1-score   support\n",
      "\n",
      "           0       1.00      0.99      1.00     56864\n",
      "           1       0.17      0.91      0.28        98\n",
      "\n",
      "    accuracy                           0.99     56962\n",
      "   macro avg       0.58      0.95      0.64     56962\n",
      "weighted avg       1.00      0.99      0.99     56962\n",
      "\n"
     ]
    }
   ],
   "source": [
    "print(classification_report(y_test, test_pre_top))"
   ]
  }
 ],
 "metadata": {
  "kernelspec": {
   "display_name": "ML_38",
   "language": "python",
   "name": "python3"
  },
  "language_info": {
   "codemirror_mode": {
    "name": "ipython",
    "version": 3
   },
   "file_extension": ".py",
   "mimetype": "text/x-python",
   "name": "python",
   "nbconvert_exporter": "python",
   "pygments_lexer": "ipython3",
   "version": "3.8.19"
  }
 },
 "nbformat": 4,
 "nbformat_minor": 2
}
