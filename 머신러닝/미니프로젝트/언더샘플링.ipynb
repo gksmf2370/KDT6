{
 "cells": [
  {
   "cell_type": "code",
   "execution_count": 2,
   "metadata": {},
   "outputs": [
    {
     "name": "stdout",
     "output_type": "stream",
     "text": [
      "Original training data distribution:\n",
      " Class\n",
      "0    227451\n",
      "1       394\n",
      "Name: count, dtype: int64\n",
      "Resampled training data distribution:\n",
      " Class\n",
      "0    394\n",
      "1    394\n",
      "Name: count, dtype: int64\n"
     ]
    }
   ],
   "source": [
    "# 필요한 라이브러리 임포트\n",
    "import pandas as pd\n",
    "from sklearn.model_selection import train_test_split\n",
    "from imblearn.under_sampling import RandomUnderSampler\n",
    "from sklearn.ensemble import RandomForestClassifier\n",
    "from sklearn.metrics import classification_report\n",
    "\n",
    "# 신용카드 데이터셋 로드\n",
    "# 파일 경로에 맞게 수정해 주세요\n",
    "data = pd.read_csv('creditcard.csv')\n",
    "\n",
    "# 특성과 라벨을 나눕니다.\n",
    "X = data.drop(columns=['Class'])  # 특성 데이터 (Class 열 제외)\n",
    "y = data['Class']  # 라벨 데이터 (Class 열)\n",
    "\n",
    "# 학습 데이터와 테스트 데이터로 분리\n",
    "X_train, X_test, y_train, y_test = train_test_split(X, y, test_size=0.2, random_state=42, stratify=y)\n",
    "\n",
    "# 언더샘플링 설정\n",
    "rus = RandomUnderSampler(random_state=42)\n",
    "\n",
    "# 학습 데이터에 언더샘플링 적용\n",
    "X_resampled, y_resampled = rus.fit_resample(X_train, y_train)\n",
    "\n",
    "# 언더샘플링 후 데이터 분포 확인\n",
    "print(\"Original training data distribution:\\n\", y_train.value_counts())\n",
    "print(\"Resampled training data distribution:\\n\", y_resampled.value_counts())"
   ]
  }
 ],
 "metadata": {
  "kernelspec": {
   "display_name": "ML_38",
   "language": "python",
   "name": "python3"
  },
  "language_info": {
   "codemirror_mode": {
    "name": "ipython",
    "version": 3
   },
   "file_extension": ".py",
   "mimetype": "text/x-python",
   "name": "python",
   "nbconvert_exporter": "python",
   "pygments_lexer": "ipython3",
   "version": "3.8.19"
  }
 },
 "nbformat": 4,
 "nbformat_minor": 2
}
