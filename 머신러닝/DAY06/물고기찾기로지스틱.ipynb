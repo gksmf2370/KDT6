{
 "cells": [
  {
   "cell_type": "markdown",
   "metadata": {},
   "source": [
    "#### 로지스틱 회귀\n",
    "- 선형 모델 기반으로 분류를 해주는 모델\n",
    "- 종속변수 즉, 타겟이 범주형 인 경우에 적용\n",
    "- 결과를 확률로 변환해서 처리\n",
    "- 종류\n",
    "    - 2진 분류 : 타겟의 클래스가 2개\n",
    "    - 다중분류 : 타겟의 클래스가 3개 이상"
   ]
  },
  {
   "cell_type": "markdown",
   "metadata": {},
   "source": [
    "[1] 모듈 로딩"
   ]
  },
  {
   "cell_type": "code",
   "execution_count": 30,
   "metadata": {},
   "outputs": [],
   "source": [
    "\n",
    "import pandas as pd\n",
    "\n",
    "# 판다스에 지수표기법(과학적표기법) 정지 설정\n",
    "pd.options.display.float_format = '{:.5f}'.format"
   ]
  },
  {
   "cell_type": "markdown",
   "metadata": {},
   "source": [
    "[2] 데이터 준비"
   ]
  },
  {
   "cell_type": "code",
   "execution_count": 31,
   "metadata": {},
   "outputs": [],
   "source": [
    "DATA_FILE = '../data/fish.csv'"
   ]
  },
  {
   "cell_type": "code",
   "execution_count": 32,
   "metadata": {},
   "outputs": [
    {
     "data": {
      "text/html": [
       "<div>\n",
       "<style scoped>\n",
       "    .dataframe tbody tr th:only-of-type {\n",
       "        vertical-align: middle;\n",
       "    }\n",
       "\n",
       "    .dataframe tbody tr th {\n",
       "        vertical-align: top;\n",
       "    }\n",
       "\n",
       "    .dataframe thead th {\n",
       "        text-align: right;\n",
       "    }\n",
       "</style>\n",
       "<table border=\"1\" class=\"dataframe\">\n",
       "  <thead>\n",
       "    <tr style=\"text-align: right;\">\n",
       "      <th></th>\n",
       "      <th>Species</th>\n",
       "      <th>Weight</th>\n",
       "      <th>Length</th>\n",
       "      <th>Diagonal</th>\n",
       "      <th>Height</th>\n",
       "      <th>Width</th>\n",
       "    </tr>\n",
       "  </thead>\n",
       "  <tbody>\n",
       "    <tr>\n",
       "      <th>0</th>\n",
       "      <td>Bream</td>\n",
       "      <td>242.00000</td>\n",
       "      <td>25.40000</td>\n",
       "      <td>30.00000</td>\n",
       "      <td>11.52000</td>\n",
       "      <td>4.02000</td>\n",
       "    </tr>\n",
       "    <tr>\n",
       "      <th>1</th>\n",
       "      <td>Bream</td>\n",
       "      <td>290.00000</td>\n",
       "      <td>26.30000</td>\n",
       "      <td>31.20000</td>\n",
       "      <td>12.48000</td>\n",
       "      <td>4.30560</td>\n",
       "    </tr>\n",
       "    <tr>\n",
       "      <th>2</th>\n",
       "      <td>Bream</td>\n",
       "      <td>340.00000</td>\n",
       "      <td>26.50000</td>\n",
       "      <td>31.10000</td>\n",
       "      <td>12.37780</td>\n",
       "      <td>4.69610</td>\n",
       "    </tr>\n",
       "    <tr>\n",
       "      <th>3</th>\n",
       "      <td>Bream</td>\n",
       "      <td>363.00000</td>\n",
       "      <td>29.00000</td>\n",
       "      <td>33.50000</td>\n",
       "      <td>12.73000</td>\n",
       "      <td>4.45550</td>\n",
       "    </tr>\n",
       "    <tr>\n",
       "      <th>4</th>\n",
       "      <td>Bream</td>\n",
       "      <td>430.00000</td>\n",
       "      <td>29.00000</td>\n",
       "      <td>34.00000</td>\n",
       "      <td>12.44400</td>\n",
       "      <td>5.13400</td>\n",
       "    </tr>\n",
       "  </tbody>\n",
       "</table>\n",
       "</div>"
      ],
      "text/plain": [
       "  Species    Weight   Length  Diagonal   Height   Width\n",
       "0   Bream 242.00000 25.40000  30.00000 11.52000 4.02000\n",
       "1   Bream 290.00000 26.30000  31.20000 12.48000 4.30560\n",
       "2   Bream 340.00000 26.50000  31.10000 12.37780 4.69610\n",
       "3   Bream 363.00000 29.00000  33.50000 12.73000 4.45550\n",
       "4   Bream 430.00000 29.00000  34.00000 12.44400 5.13400"
      ]
     },
     "execution_count": 32,
     "metadata": {},
     "output_type": "execute_result"
    }
   ],
   "source": [
    "# csv = > DataFrame\n",
    "fishDF = pd.read_csv(DATA_FILE)\n",
    "fishDF.head()"
   ]
  },
  {
   "cell_type": "code",
   "execution_count": 33,
   "metadata": {},
   "outputs": [
    {
     "name": "stdout",
     "output_type": "stream",
     "text": [
      "['Bream' 'Roach' 'Whitefish' 'Parkki' 'Perch' 'Pike' 'Smelt']\n"
     ]
    }
   ],
   "source": [
    "# 타겟/ 종속변수의 클래스 수 => 7개\n",
    "print(pd.unique(fishDF['Species']))"
   ]
  },
  {
   "cell_type": "code",
   "execution_count": 34,
   "metadata": {},
   "outputs": [
    {
     "name": "stdout",
     "output_type": "stream",
     "text": [
      "[[242.      25.4     30.      11.52     4.02  ]\n",
      " [290.      26.3     31.2     12.48     4.3056]\n",
      " [340.      26.5     31.1     12.3778   4.6961]\n",
      " [363.      29.      33.5     12.73     4.4555]\n",
      " [430.      29.      34.      12.444    5.134 ]]\n"
     ]
    }
   ],
   "source": [
    "# 피쳐 데이터셋 추출\n",
    "featureDF = fishDF[['Weight', 'Length', 'Diagonal', 'Height', 'Width']].to_numpy()\n",
    "print(featureDF[:5])"
   ]
  },
  {
   "cell_type": "code",
   "execution_count": 35,
   "metadata": {},
   "outputs": [
    {
     "name": "stdout",
     "output_type": "stream",
     "text": [
      "['Bream' 'Bream' 'Bream' 'Bream' 'Bream']\n"
     ]
    }
   ],
   "source": [
    "# 타겟 추출\n",
    "targetSR = fishDF['Species'].to_numpy()\n",
    "print(targetSR[:5])"
   ]
  },
  {
   "cell_type": "markdown",
   "metadata": {},
   "source": [
    "[3] 학습 준비"
   ]
  },
  {
   "cell_type": "code",
   "execution_count": 36,
   "metadata": {},
   "outputs": [],
   "source": [
    "from sklearn.model_selection import train_test_split\n",
    "# stratify 비율 비슷하게 넣기\n",
    "X_train, X_test, y_train, y_test = train_test_split(featureDF, targetSR, random_state=10, stratify=targetSR)"
   ]
  },
  {
   "cell_type": "markdown",
   "metadata": {},
   "source": [
    "- 표준화 진행 => 정규 분포"
   ]
  },
  {
   "cell_type": "code",
   "execution_count": 37,
   "metadata": {},
   "outputs": [],
   "source": [
    "from sklearn.preprocessing import StandardScaler\n",
    "\n",
    "\n",
    "ss = StandardScaler()\n",
    "ss.fit(X_train)\n",
    "\n",
    "# 스케일링 진행\n",
    "X_train_scaled = ss.transform(X_train)\n",
    "X_test_scaled = ss.transform(X_test)"
   ]
  },
  {
   "cell_type": "markdown",
   "metadata": {},
   "source": [
    "[4] 모델 생성  \n",
    "    - 학습 방법: 지도학습 > 분류  \n",
    "    - 알고리즘 : 로지스틱 회귀\n",
    "        - 종속변수 즉, 피쳐에 가중치 곱셈 후 합계 한 결과 >>> 확률값으로 변환"
   ]
  },
  {
   "cell_type": "code",
   "execution_count": 38,
   "metadata": {},
   "outputs": [],
   "source": [
    "import numpy as np\n",
    "import matplotlib.pyplot as plt\n",
    "\n",
    "np.set_printoptions(precision=6, suppress=True)\n"
   ]
  },
  {
   "cell_type": "code",
   "execution_count": 39,
   "metadata": {},
   "outputs": [
    {
     "name": "stdout",
     "output_type": "stream",
     "text": [
      "z => [-5.  -4.9 -4.8 -4.7 -4.6 -4.5 -4.4 -4.3 -4.2 -4.1 -4.  -3.9 -3.8 -3.7\n",
      " -3.6 -3.5 -3.4 -3.3 -3.2 -3.1 -3.  -2.9 -2.8 -2.7 -2.6 -2.5 -2.4 -2.3\n",
      " -2.2 -2.1 -2.  -1.9 -1.8 -1.7 -1.6 -1.5 -1.4 -1.3 -1.2 -1.1 -1.  -0.9\n",
      " -0.8 -0.7 -0.6 -0.5 -0.4 -0.3 -0.2 -0.1 -0.   0.1  0.2  0.3  0.4  0.5\n",
      "  0.6  0.7  0.8  0.9  1.   1.1  1.2  1.3  1.4  1.5  1.6  1.7  1.8  1.9\n",
      "  2.   2.1  2.2  2.3  2.4  2.5  2.6  2.7  2.8  2.9  3.   3.1  3.2  3.3\n",
      "  3.4  3.5  3.6  3.7  3.8  3.9  4.   4.1  4.2  4.3  4.4  4.5  4.6  4.7\n",
      "  4.8  4.9]\n",
      " phi = [0.006693 0.007392 0.008163 0.009013 0.009952 0.010987 0.012128 0.013387\n",
      " 0.014774 0.016302 0.017986 0.01984  0.021881 0.024127 0.026597 0.029312\n",
      " 0.032295 0.035571 0.039166 0.043107 0.047426 0.052154 0.057324 0.062973\n",
      " 0.069138 0.075858 0.083173 0.091123 0.09975  0.109097 0.119203 0.130108\n",
      " 0.141851 0.154465 0.167982 0.182426 0.197816 0.214165 0.231475 0.24974\n",
      " 0.268941 0.28905  0.310026 0.331812 0.354344 0.377541 0.401312 0.425557\n",
      " 0.450166 0.475021 0.5      0.524979 0.549834 0.574443 0.598688 0.622459\n",
      " 0.645656 0.668188 0.689974 0.71095  0.731059 0.75026  0.768525 0.785835\n",
      " 0.802184 0.817574 0.832018 0.845535 0.858149 0.869892 0.880797 0.890903\n",
      " 0.90025  0.908877 0.916827 0.924142 0.930862 0.937027 0.942676 0.947846\n",
      " 0.952574 0.956893 0.960834 0.964429 0.967705 0.970688 0.973403 0.975873\n",
      " 0.978119 0.98016  0.982014 0.983698 0.985226 0.986613 0.987872 0.989013\n",
      " 0.990048 0.990987 0.991837 0.992608]\n"
     ]
    }
   ],
   "source": [
    "# 선형식의 결과 ==> 0.0 ~1.0 범위의 확률비 값으로 변환\n",
    "z = np.arange(-5, 5, 0.1)\n",
    "phi = 1/ (1+ np.exp(-z))\n",
    "\n",
    "print(f'z => {z}\\n phi = {phi}')"
   ]
  },
  {
   "cell_type": "code",
   "execution_count": 40,
   "metadata": {},
   "outputs": [
    {
     "data": {
      "image/png": "[encoded data removed]",
      "text/plain": [
       "<Figure size 640x480 with 1 Axes>"
      ]
     },
     "metadata": {},
     "output_type": "display_data"
    }
   ],
   "source": [
    "plt.plot(z, phi)\n",
    "plt.xlabel('z')\n",
    "plt.ylabel('phi')\n",
    "plt.show()"
   ]
  },
  {
   "cell_type": "markdown",
   "metadata": {},
   "source": [
    "[4-1] 로지스틱 회귀로 이진 분류 수행하기"
   ]
  },
  {
   "cell_type": "markdown",
   "metadata": {},
   "source": [
    "학습진행"
   ]
  },
  {
   "cell_type": "code",
   "execution_count": 41,
   "metadata": {},
   "outputs": [
    {
     "data": {
      "text/html": [
       "<style>#sk-container-id-2 {color: black;}#sk-container-id-2 pre{padding: 0;}#sk-container-id-2 div.sk-toggleable {background-color: white;}#sk-container-id-2 label.sk-toggleable__label {cursor: pointer;display: block;width: 100%;margin-bottom: 0;padding: 0.3em;box-sizing: border-box;text-align: center;}#sk-container-id-2 label.sk-toggleable__label-arrow:before {content: \"▸\";float: left;margin-right: 0.25em;color: #696969;}#sk-container-id-2 label.sk-toggleable__label-arrow:hover:before {color: black;}#sk-container-id-2 div.sk-estimator:hover label.sk-toggleable__label-arrow:before {color: black;}#sk-container-id-2 div.sk-toggleable__content {max-height: 0;max-width: 0;overflow: hidden;text-align: left;background-color: #f0f8ff;}#sk-container-id-2 div.sk-toggleable__content pre {margin: 0.2em;color: black;border-radius: 0.25em;background-color: #f0f8ff;}#sk-container-id-2 input.sk-toggleable__control:checked~div.sk-toggleable__content {max-height: 200px;max-width: 100%;overflow: auto;}#sk-container-id-2 input.sk-toggleable__control:checked~label.sk-toggleable__label-arrow:before {content: \"▾\";}#sk-container-id-2 div.sk-estimator input.sk-toggleable__control:checked~label.sk-toggleable__label {background-color: #d4ebff;}#sk-container-id-2 div.sk-label input.sk-toggleable__control:checked~label.sk-toggleable__label {background-color: #d4ebff;}#sk-container-id-2 input.sk-hidden--visually {border: 0;clip: rect(1px 1px 1px 1px);clip: rect(1px, 1px, 1px, 1px);height: 1px;margin: -1px;overflow: hidden;padding: 0;position: absolute;width: 1px;}#sk-container-id-2 div.sk-estimator {font-family: monospace;background-color: #f0f8ff;border: 1px dotted black;border-radius: 0.25em;box-sizing: border-box;margin-bottom: 0.5em;}#sk-container-id-2 div.sk-estimator:hover {background-color: #d4ebff;}#sk-container-id-2 div.sk-parallel-item::after {content: \"\";width: 100%;border-bottom: 1px solid gray;flex-grow: 1;}#sk-container-id-2 div.sk-label:hover label.sk-toggleable__label {background-color: #d4ebff;}#sk-container-id-2 div.sk-serial::before {content: \"\";position: absolute;border-left: 1px solid gray;box-sizing: border-box;top: 0;bottom: 0;left: 50%;z-index: 0;}#sk-container-id-2 div.sk-serial {display: flex;flex-direction: column;align-items: center;background-color: white;padding-right: 0.2em;padding-left: 0.2em;position: relative;}#sk-container-id-2 div.sk-item {position: relative;z-index: 1;}#sk-container-id-2 div.sk-parallel {display: flex;align-items: stretch;justify-content: center;background-color: white;position: relative;}#sk-container-id-2 div.sk-item::before, #sk-container-id-2 div.sk-parallel-item::before {content: \"\";position: absolute;border-left: 1px solid gray;box-sizing: border-box;top: 0;bottom: 0;left: 50%;z-index: -1;}#sk-container-id-2 div.sk-parallel-item {display: flex;flex-direction: column;z-index: 1;position: relative;background-color: white;}#sk-container-id-2 div.sk-parallel-item:first-child::after {align-self: flex-end;width: 50%;}#sk-container-id-2 div.sk-parallel-item:last-child::after {align-self: flex-start;width: 50%;}#sk-container-id-2 div.sk-parallel-item:only-child::after {width: 0;}#sk-container-id-2 div.sk-dashed-wrapped {border: 1px dashed gray;margin: 0 0.4em 0.5em 0.4em;box-sizing: border-box;padding-bottom: 0.4em;background-color: white;}#sk-container-id-2 div.sk-label label {font-family: monospace;font-weight: bold;display: inline-block;line-height: 1.2em;}#sk-container-id-2 div.sk-label-container {text-align: center;}#sk-container-id-2 div.sk-container {/* jupyter's `normalize.less` sets `[hidden] { display: none; }` but bootstrap.min.css set `[hidden] { display: none !important; }` so we also need the `!important` here to be able to override the default hidden behavior on the sphinx rendered scikit-learn.org. See: https://github.com/scikit-learn/scikit-learn/issues/21755 */display: inline-block !important;position: relative;}#sk-container-id-2 div.sk-text-repr-fallback {display: none;}</style><div id=\"sk-container-id-2\" class=\"sk-top-container\"><div class=\"sk-text-repr-fallback\"><pre>OneVsRestClassifier(estimator=LogisticRegression(max_iter=1000))</pre><b>In a Jupyter environment, please rerun this cell to show the HTML representation or trust the notebook. <br />On GitHub, the HTML representation is unable to render, please try loading this page with nbviewer.org.</b></div><div class=\"sk-container\" hidden><div class=\"sk-item sk-dashed-wrapped\"><div class=\"sk-label-container\"><div class=\"sk-label sk-toggleable\"><input class=\"sk-toggleable__control sk-hidden--visually\" id=\"sk-estimator-id-4\" type=\"checkbox\" ><label for=\"sk-estimator-id-4\" class=\"sk-toggleable__label sk-toggleable__label-arrow\">OneVsRestClassifier</label><div class=\"sk-toggleable__content\"><pre>OneVsRestClassifier(estimator=LogisticRegression(max_iter=1000))</pre></div></div></div><div class=\"sk-parallel\"><div class=\"sk-parallel-item\"><div class=\"sk-item\"><div class=\"sk-label-container\"><div class=\"sk-label sk-toggleable\"><input class=\"sk-toggleable__control sk-hidden--visually\" id=\"sk-estimator-id-5\" type=\"checkbox\" ><label for=\"sk-estimator-id-5\" class=\"sk-toggleable__label sk-toggleable__label-arrow\">estimator: LogisticRegression</label><div class=\"sk-toggleable__content\"><pre>LogisticRegression(max_iter=1000)</pre></div></div></div><div class=\"sk-serial\"><div class=\"sk-item\"><div class=\"sk-estimator sk-toggleable\"><input class=\"sk-toggleable__control sk-hidden--visually\" id=\"sk-estimator-id-6\" type=\"checkbox\" ><label for=\"sk-estimator-id-6\" class=\"sk-toggleable__label sk-toggleable__label-arrow\">LogisticRegression</label><div class=\"sk-toggleable__content\"><pre>LogisticRegression(max_iter=1000)</pre></div></div></div></div></div></div></div></div></div></div>"
      ],
      "text/plain": [
       "OneVsRestClassifier(estimator=LogisticRegression(max_iter=1000))"
      ]
     },
     "execution_count": 41,
     "metadata": {},
     "output_type": "execute_result"
    }
   ],
   "source": [
    "from sklearn.multiclass import OneVsRestClassifier\n",
    "from sklearn.linear_model import LogisticRegression\n",
    "\n",
    "ovr_clf = OneVsRestClassifier(LogisticRegression(max_iter=1000))\n",
    "ovr_clf.fit(X_train_scaled, y_train)"
   ]
  },
  {
   "cell_type": "code",
   "execution_count": 42,
   "metadata": {},
   "outputs": [
    {
     "name": "stdout",
     "output_type": "stream",
     "text": [
      "ovr_clf.estimators_: 7개\n",
      "ovr_clf.classes_ : ['Bream' 'Parkki' 'Perch' 'Pike' 'Roach' 'Smelt' 'Whitefish']\n",
      "ovr_clf.n_classes_: 7\n",
      "ovr_clf.label_binarizer_ : LabelBinarizer(sparse_output=True)\n"
     ]
    }
   ],
   "source": [
    "# 모델 파라미터\n",
    "print(f'ovr_clf.estimators_: {len(ovr_clf.estimators_)}개')\n",
    "print(f'ovr_clf.classes_ : {ovr_clf.classes_}')\n",
    "print(f'ovr_clf.n_classes_: {ovr_clf.n_classes_}')\n",
    "print(f'ovr_clf.label_binarizer_ : {ovr_clf.label_binarizer_ }')"
   ]
  },
  {
   "cell_type": "code",
   "execution_count": 43,
   "metadata": {},
   "outputs": [
    {
     "name": "stdout",
     "output_type": "stream",
     "text": [
      "[0 분류기] [[-0.652073 -0.422106  0.513708  3.628392 -0.667191]] [-2.654172]\n",
      "[1 분류기] [[-1.123997 -0.760801 -0.828319  1.928244 -0.691538]] [-3.73238]\n",
      "[2 분류기] [[-0.030798 -0.022688 -1.805441 -1.771059  3.255123]] [-0.830532]\n",
      "[3 분류기] [[-0.397599  1.804675  1.836438 -1.583123 -0.886053]] [-3.441905]\n",
      "[4 분류기] [[-1.759342 -0.479693  0.24011  -0.350309  0.873799]] [-2.489287]\n",
      "[5 분류기] [[-0.360714 -0.634317 -0.619879 -1.405384 -1.644163]] [-6.71704]\n",
      "[6 분류기] [[ 0.114539 -0.142091 -0.113608 -0.107152  0.544975]] [-3.188762]\n"
     ]
    }
   ],
   "source": [
    "for idx in range(ovr_clf.n_classes_):\n",
    "    print(f'[{idx} 분류기]', ovr_clf.estimators_[idx].coef_, ovr_clf.estimators_[idx].intercept_)"
   ]
  },
  {
   "cell_type": "code",
   "execution_count": 44,
   "metadata": {},
   "outputs": [
    {
     "data": {
      "text/plain": [
       "array([[  2.193308,  -2.42386 ,  -2.261136,  -5.267196,  -3.375167,\n",
       "        -10.549462,  -3.032783],\n",
       "       [  2.622305,  -3.044213,  -2.322667,  -4.931533,  -3.86566 ,\n",
       "        -11.801865,  -2.9397  ],\n",
       "       [ -4.385668,  -2.757777,  -0.134397,  -3.947121,  -1.237734,\n",
       "         -3.709077,  -3.340855],\n",
       "       [ -5.22158 ,  -3.405881,   0.276566,  -3.369008,  -1.231454,\n",
       "         -3.639428,  -3.302121],\n",
       "       [ -4.545798,  -2.190698,  -0.330784,  -4.469407,  -1.137761,\n",
       "         -2.698925,  -3.426155],\n",
       "       [ -3.39736 ,  -3.652863,   1.202987,  -4.128293,  -1.537075,\n",
       "         -6.745385,  -2.945987],\n",
       "       [ -1.99065 ,  -6.773063,   1.775628,  -3.438294,  -4.394528,\n",
       "        -12.49009 ,  -2.375918],\n",
       "       [  1.753417,  -2.963685,  -2.990574,  -4.624844,  -4.028   ,\n",
       "        -10.237912,  -3.136489],\n",
       "       [ -4.82283 ,  -4.658393,  -1.937811,  -0.309229,  -1.825587,\n",
       "         -4.635921,  -3.593814],\n",
       "       [ -3.541854, -10.385204,  -1.109457,   2.483546,  -5.975177,\n",
       "        -13.520601,  -2.783804],\n",
       "       [ -3.936757,  -2.629793,  -0.433358,  -4.047888,  -1.325436,\n",
       "         -3.96192 ,  -3.349807],\n",
       "       [ -2.216118,  -4.488495,   2.07688 ,  -4.612275,  -2.214886,\n",
       "         -9.652018,  -2.57484 ],\n",
       "       [ -4.609717,  -5.59204 ,  -1.787723,   0.568549,  -2.152139,\n",
       "         -6.144561,  -3.486944],\n",
       "       [ -2.269857,  -7.258563,   1.178917,  -2.233805,  -4.454128,\n",
       "        -12.466235,  -2.493944],\n",
       "       [  1.643688,  -3.020838,  -2.759665,  -4.672416,  -3.98052 ,\n",
       "        -10.286498,  -3.104486],\n",
       "       [  1.580661,  -2.258186,  -2.776062,  -4.749146,  -3.075858,\n",
       "         -9.321891,  -3.205592],\n",
       "       [ -4.725339,  -2.76033 ,   0.25374 ,  -4.102836,  -1.068273,\n",
       "         -3.469704,  -3.304477],\n",
       "       [ -3.702977,  -2.708405,  -0.234448,  -4.119166,  -1.292442,\n",
       "         -4.45359 ,  -3.284074],\n",
       "       [  3.599697,  -3.518566,  -3.08698 ,  -4.899563,  -5.081694,\n",
       "        -13.195787,  -2.909781],\n",
       "       [ -6.769231,  -1.742821,  -0.811216,  -4.812537,  -1.189037,\n",
       "          1.015   ,  -3.713726],\n",
       "       [ -7.077314,  -1.798436,  -0.995885,  -4.641225,  -1.24677 ,\n",
       "          1.440648,  -3.767825],\n",
       "       [ -4.771519,  -2.941581,   0.063482,  -3.760124,  -1.150674,\n",
       "         -3.542863,  -3.332064],\n",
       "       [ -4.195715,  -5.857378,  -1.262629,  -0.01483 ,  -2.591058,\n",
       "         -7.220067,  -3.309264],\n",
       "       [ -2.581633,  -3.054537,  -0.325626,  -4.127217,  -1.796803,\n",
       "         -6.25287 ,  -3.156111],\n",
       "       [ -4.925063,  -2.470687,  -0.754342,  -3.835231,  -1.285911,\n",
       "         -2.350384,  -3.520085],\n",
       "       [ -6.654156,  -1.926648,  -1.360507,  -4.175335,  -1.322087,\n",
       "          0.896463,  -3.797723],\n",
       "       [ -3.717366,  -3.147992,  -0.495531,  -3.361469,  -1.413941,\n",
       "         -4.864753,  -3.311408],\n",
       "       [ -1.553012,  -1.223677,  -1.686054,  -5.421524,  -1.710868,\n",
       "         -4.640619,  -3.428722],\n",
       "       [ -7.032353,  -1.64085 ,  -1.069561,  -4.847005,  -1.279274,\n",
       "          1.622554,  -3.78247 ],\n",
       "       [ -2.900901,  -3.419203,   0.119373,  -3.755753,  -1.557842,\n",
       "         -6.530166,  -3.091637],\n",
       "       [ -4.386103,  -3.094663,  -0.055902,  -3.679004,  -1.376091,\n",
       "         -4.161028,  -3.30221 ],\n",
       "       [  2.789517,  -3.363271,  -2.386234,  -5.069461,  -4.46553 ,\n",
       "        -12.335496,  -2.887129],\n",
       "       [ -3.400493,  -0.963996,  -1.69728 ,  -5.423415,  -1.40156 ,\n",
       "         -1.934507,  -3.619874],\n",
       "       [ -4.383764,  -3.540125,   0.495733,  -3.429917,  -1.316887,\n",
       "         -5.004102,  -3.182762],\n",
       "       [ -3.606513,  -2.86754 ,  -0.568178,  -3.960072,  -1.737651,\n",
       "         -4.606843,  -3.322678],\n",
       "       [ -4.444063,  -2.572517,  -0.313958,  -4.063848,  -1.237932,\n",
       "         -3.310596,  -3.3878  ],\n",
       "       [  2.843434,  -2.967718,  -2.866273,  -4.617058,  -3.960614,\n",
       "        -11.737409,  -3.03028 ],\n",
       "       [ -0.527632,  -1.697117,  -1.740857,  -5.103092,  -2.06015 ,\n",
       "         -6.511024,  -3.306022],\n",
       "       [ -5.038701,  -3.155294,   1.011712,  -3.949698,  -0.851751,\n",
       "         -3.947561,  -3.181849],\n",
       "       [  0.018433,  -1.521465,  -2.461213,  -4.792031,  -1.987468,\n",
       "         -6.631899,  -3.390644]])"
      ]
     },
     "execution_count": 44,
     "metadata": {},
     "output_type": "execute_result"
    }
   ],
   "source": [
    "ovr_clf.decision_function(X_test_scaled)"
   ]
  },
  {
   "cell_type": "code",
   "execution_count": 45,
   "metadata": {},
   "outputs": [
    {
     "data": {
      "text/plain": [
       "array(['Bream', 'Bream', 'Perch', 'Perch', 'Perch', 'Perch', 'Perch',\n",
       "       'Bream', 'Pike', 'Pike', 'Perch', 'Perch', 'Pike', 'Perch',\n",
       "       'Bream', 'Bream', 'Perch', 'Perch', 'Bream', 'Smelt', 'Smelt',\n",
       "       'Perch', 'Pike', 'Perch', 'Perch', 'Smelt', 'Perch', 'Parkki',\n",
       "       'Smelt', 'Perch', 'Perch', 'Bream', 'Parkki', 'Perch', 'Perch',\n",
       "       'Perch', 'Bream', 'Bream', 'Perch', 'Bream'], dtype='<U9')"
      ]
     },
     "execution_count": 45,
     "metadata": {},
     "output_type": "execute_result"
    }
   ],
   "source": [
    "ovr_clf.predict(X_test_scaled)"
   ]
  },
  {
   "cell_type": "code",
   "execution_count": 54,
   "metadata": {},
   "outputs": [
    {
     "data": {
      "text/plain": [
       "array(['Bream', 'Parkki', 'Perch', 'Pike', 'Roach', 'Smelt', 'Whitefish'],\n",
       "      dtype='<U9')"
      ]
     },
     "execution_count": 54,
     "metadata": {},
     "output_type": "execute_result"
    }
   ],
   "source": [
    "ovr_clf.classes_"
   ]
  },
  {
   "cell_type": "code",
   "execution_count": 52,
   "metadata": {},
   "outputs": [
    {
     "data": {
      "text/plain": [
       "array([0.775814, 0.070171, 0.0814  , 0.004425, 0.028527, 0.000023,\n",
       "       0.03964 ])"
      ]
     },
     "execution_count": 52,
     "metadata": {},
     "output_type": "execute_result"
    }
   ],
   "source": [
    "ovr_clf.predict_proba(X_test_scaled)[0]"
   ]
  },
  {
   "cell_type": "code",
   "execution_count": 47,
   "metadata": {},
   "outputs": [
    {
     "data": {
      "text/plain": [
       "array(['Bream', 'Bream', 'Perch', 'Perch', 'Perch', 'Perch', 'Perch',\n",
       "       'Bream', 'Pike', 'Pike', 'Roach', 'Whitefish', 'Pike', 'Perch',\n",
       "       'Bream', 'Bream', 'Perch', 'Roach', 'Bream', 'Smelt', 'Smelt',\n",
       "       'Perch', 'Pike', 'Roach', 'Perch', 'Smelt', 'Roach', 'Parkki',\n",
       "       'Smelt', 'Roach', 'Perch', 'Bream', 'Parkki', 'Perch', 'Perch',\n",
       "       'Perch', 'Bream', 'Parkki', 'Perch', 'Bream'], dtype=object)"
      ]
     },
     "execution_count": 47,
     "metadata": {},
     "output_type": "execute_result"
    }
   ],
   "source": [
    "y_test"
   ]
  }
 ],
 "metadata": {
  "kernelspec": {
   "display_name": "ML_38",
   "language": "python",
   "name": "python3"
  },
  "language_info": {
   "codemirror_mode": {
    "name": "ipython",
    "version": 3
   },
   "file_extension": ".py",
   "mimetype": "text/x-python",
   "name": "python",
   "nbconvert_exporter": "python",
   "pygments_lexer": "ipython3",
   "version": "3.8.19"
  }
 },
 "nbformat": 4,
 "nbformat_minor": 2
}
