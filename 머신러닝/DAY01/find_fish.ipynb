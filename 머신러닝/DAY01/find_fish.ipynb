{
 "cells": [
  {
   "cell_type": "markdown",
   "metadata": {},
   "source": [
    "#### 생선의 무게와 크기로 생선 분류\n",
    "- 데이터셋 : fish.csv\n",
    "- 피쳐/ 입력데이터 : Weight, Length\n",
    "- 타겟/ 클래스/ 출력 : Species\n",
    "- 기계학습 방법 : 지도학습 == > 분류\n",
    "- 분류 알고리즘(문제해결방법) : 미저\n"
   ]
  },
  {
   "cell_type": "markdown",
   "metadata": {},
   "source": [
    "### [1] 데이터 살펴보기\n",
    "### [1-1] 데이터 준비"
   ]
  },
  {
   "cell_type": "code",
   "execution_count": null,
   "metadata": {},
   "outputs": [],
   "source": [
    "import pandas as pd\n",
    "import matplotlib.pyplot as plt"
   ]
  }
 ],
 "metadata": {
  "kernelspec": {
   "display_name": "ML_38",
   "language": "python",
   "name": "python3"
  },
  "language_info": {
   "name": "python",
   "version": "3.8.19"
  }
 },
 "nbformat": 4,
 "nbformat_minor": 2
}
