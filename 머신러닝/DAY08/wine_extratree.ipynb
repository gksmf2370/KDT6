{
 "cells": [
  {
   "cell_type": "markdown",
   "metadata": {},
   "source": [
    "#### 앙상블 - 랜덤포레스트 & ExtraTree\n",
    "- 배깅 방식의 앙상블 ==> 중복 허용가능한 랜덤 샘플 + 동일 모델(DecisionTree)\n",
    "    * Randomforest :\n",
    "- 페이스트 방식의 앙상블 ==> 랜덤 샘플 + 동일 모델(DT)\n",
    "    * 대표 알고리즘 : ExtraTreeC/R"
   ]
  },
  {
   "cell_type": "markdown",
   "metadata": {},
   "source": [
    "- 와인분류 => 0과 1 2개 종류 분류\n",
    "- 데이터셋 : wine.csv\n",
    "- 목적 : 와인 분류\n",
    "- 학습방법 : 지도학습 - 분류\n",
    "- 알고리즘 : 랜덤포레스트"
   ]
  },
  {
   "cell_type": "markdown",
   "metadata": {},
   "source": [
    "[1] 모듈로딩"
   ]
  },
  {
   "cell_type": "code",
   "execution_count": 2,
   "metadata": {},
   "outputs": [],
   "source": [
    "import pandas as pd\n",
    "import numpy as np\n",
    "import matplotlib.pyplot as plt"
   ]
  },
  {
   "cell_type": "markdown",
   "metadata": {},
   "source": [
    "[2] 데이터준비"
   ]
  },
  {
   "cell_type": "code",
   "execution_count": 3,
   "metadata": {},
   "outputs": [
    {
     "data": {
      "text/html": [
       "<div>\n",
       "<style scoped>\n",
       "    .dataframe tbody tr th:only-of-type {\n",
       "        vertical-align: middle;\n",
       "    }\n",
       "\n",
       "    .dataframe tbody tr th {\n",
       "        vertical-align: top;\n",
       "    }\n",
       "\n",
       "    .dataframe thead th {\n",
       "        text-align: right;\n",
       "    }\n",
       "</style>\n",
       "<table border=\"1\" class=\"dataframe\">\n",
       "  <thead>\n",
       "    <tr style=\"text-align: right;\">\n",
       "      <th></th>\n",
       "      <th>alcohol</th>\n",
       "      <th>sugar</th>\n",
       "      <th>pH</th>\n",
       "      <th>class</th>\n",
       "    </tr>\n",
       "  </thead>\n",
       "  <tbody>\n",
       "    <tr>\n",
       "      <th>0</th>\n",
       "      <td>9.4</td>\n",
       "      <td>1.9</td>\n",
       "      <td>3.51</td>\n",
       "      <td>0.0</td>\n",
       "    </tr>\n",
       "    <tr>\n",
       "      <th>1</th>\n",
       "      <td>9.8</td>\n",
       "      <td>2.6</td>\n",
       "      <td>3.20</td>\n",
       "      <td>0.0</td>\n",
       "    </tr>\n",
       "  </tbody>\n",
       "</table>\n",
       "</div>"
      ],
      "text/plain": [
       "   alcohol  sugar    pH  class\n",
       "0      9.4    1.9  3.51    0.0\n",
       "1      9.8    2.6  3.20    0.0"
      ]
     },
     "execution_count": 3,
     "metadata": {},
     "output_type": "execute_result"
    }
   ],
   "source": [
    "file_path = 'wine.csv'\n",
    "wineDF = pd.read_csv(file_path)\n",
    "wineDF.head(2)"
   ]
  },
  {
   "cell_type": "code",
   "execution_count": 4,
   "metadata": {},
   "outputs": [
    {
     "name": "stdout",
     "output_type": "stream",
     "text": [
      "<class 'pandas.core.frame.DataFrame'>\n",
      "RangeIndex: 6497 entries, 0 to 6496\n",
      "Data columns (total 4 columns):\n",
      " #   Column   Non-Null Count  Dtype  \n",
      "---  ------   --------------  -----  \n",
      " 0   alcohol  6497 non-null   float64\n",
      " 1   sugar    6497 non-null   float64\n",
      " 2   pH       6497 non-null   float64\n",
      " 3   class    6497 non-null   float64\n",
      "dtypes: float64(4)\n",
      "memory usage: 203.2 KB\n"
     ]
    }
   ],
   "source": [
    "wineDF.info()"
   ]
  },
  {
   "cell_type": "code",
   "execution_count": 5,
   "metadata": {},
   "outputs": [
    {
     "data": {
      "text/plain": [
       "class\n",
       "1.0    4898\n",
       "0.0    1599\n",
       "Name: count, dtype: int64"
      ]
     },
     "execution_count": 5,
     "metadata": {},
     "output_type": "execute_result"
    }
   ],
   "source": [
    "# 타겟/라벨의 클래스 분포\n",
    "wineDF['class'].value_counts()"
   ]
  },
  {
   "cell_type": "markdown",
   "metadata": {},
   "source": [
    "#전처리는 생략하겠음"
   ]
  },
  {
   "cell_type": "markdown",
   "metadata": {},
   "source": [
    "[3] 학습준비"
   ]
  },
  {
   "cell_type": "markdown",
   "metadata": {},
   "source": [
    "[3-1] 피쳐/타겟 설정"
   ]
  },
  {
   "cell_type": "code",
   "execution_count": 6,
   "metadata": {},
   "outputs": [
    {
     "name": "stdout",
     "output_type": "stream",
     "text": [
      "featureDF: (6497, 3), 2D\n",
      "targetSR: (6497,), 1D\n"
     ]
    }
   ],
   "source": [
    "featureDF=wineDF[wineDF.columns[:-1]]\n",
    "targetSR = wineDF[wineDF.columns[-1]]\n",
    "\n",
    "print(f'featureDF: {featureDF.shape}, {featureDF.ndim}D')\n",
    "print(f'targetSR: {targetSR.shape}, {targetSR.ndim}D')"
   ]
  },
  {
   "cell_type": "markdown",
   "metadata": {},
   "source": [
    "[3-2] 훈련/테스트 데이터 분리"
   ]
  },
  {
   "cell_type": "code",
   "execution_count": 7,
   "metadata": {},
   "outputs": [],
   "source": [
    "from sklearn.model_selection import train_test_split"
   ]
  },
  {
   "cell_type": "code",
   "execution_count": 8,
   "metadata": {},
   "outputs": [],
   "source": [
    "X_train, X_test, y_train, y_test = train_test_split(featureDF, targetSR, test_size=0.2, stratify=targetSR,  random_state=1)"
   ]
  },
  {
   "cell_type": "code",
   "execution_count": 9,
   "metadata": {},
   "outputs": [
    {
     "name": "stdout",
     "output_type": "stream",
     "text": [
      "X_train : (5197, 3) y_train : (5197,)\n",
      "X_train : (1300, 3) y_train : (1300,)\n"
     ]
    }
   ],
   "source": [
    "print(f'X_train : {X_train.shape} y_train : {y_train.shape}')\n",
    "print(f'X_train : {X_test.shape} y_train : {y_test.shape}')"
   ]
  },
  {
   "cell_type": "markdown",
   "metadata": {},
   "source": [
    "[4] 모델 생성"
   ]
  },
  {
   "cell_type": "code",
   "execution_count": 10,
   "metadata": {},
   "outputs": [],
   "source": [
    "from sklearn.ensemble import ExtraTreesClassifier"
   ]
  },
  {
   "cell_type": "code",
   "execution_count": 11,
   "metadata": {},
   "outputs": [
    {
     "data": {
      "text/html": [
       "<style>#sk-container-id-1 {color: black;}#sk-container-id-1 pre{padding: 0;}#sk-container-id-1 div.sk-toggleable {background-color: white;}#sk-container-id-1 label.sk-toggleable__label {cursor: pointer;display: block;width: 100%;margin-bottom: 0;padding: 0.3em;box-sizing: border-box;text-align: center;}#sk-container-id-1 label.sk-toggleable__label-arrow:before {content: \"▸\";float: left;margin-right: 0.25em;color: #696969;}#sk-container-id-1 label.sk-toggleable__label-arrow:hover:before {color: black;}#sk-container-id-1 div.sk-estimator:hover label.sk-toggleable__label-arrow:before {color: black;}#sk-container-id-1 div.sk-toggleable__content {max-height: 0;max-width: 0;overflow: hidden;text-align: left;background-color: #f0f8ff;}#sk-container-id-1 div.sk-toggleable__content pre {margin: 0.2em;color: black;border-radius: 0.25em;background-color: #f0f8ff;}#sk-container-id-1 input.sk-toggleable__control:checked~div.sk-toggleable__content {max-height: 200px;max-width: 100%;overflow: auto;}#sk-container-id-1 input.sk-toggleable__control:checked~label.sk-toggleable__label-arrow:before {content: \"▾\";}#sk-container-id-1 div.sk-estimator input.sk-toggleable__control:checked~label.sk-toggleable__label {background-color: #d4ebff;}#sk-container-id-1 div.sk-label input.sk-toggleable__control:checked~label.sk-toggleable__label {background-color: #d4ebff;}#sk-container-id-1 input.sk-hidden--visually {border: 0;clip: rect(1px 1px 1px 1px);clip: rect(1px, 1px, 1px, 1px);height: 1px;margin: -1px;overflow: hidden;padding: 0;position: absolute;width: 1px;}#sk-container-id-1 div.sk-estimator {font-family: monospace;background-color: #f0f8ff;border: 1px dotted black;border-radius: 0.25em;box-sizing: border-box;margin-bottom: 0.5em;}#sk-container-id-1 div.sk-estimator:hover {background-color: #d4ebff;}#sk-container-id-1 div.sk-parallel-item::after {content: \"\";width: 100%;border-bottom: 1px solid gray;flex-grow: 1;}#sk-container-id-1 div.sk-label:hover label.sk-toggleable__label {background-color: #d4ebff;}#sk-container-id-1 div.sk-serial::before {content: \"\";position: absolute;border-left: 1px solid gray;box-sizing: border-box;top: 0;bottom: 0;left: 50%;z-index: 0;}#sk-container-id-1 div.sk-serial {display: flex;flex-direction: column;align-items: center;background-color: white;padding-right: 0.2em;padding-left: 0.2em;position: relative;}#sk-container-id-1 div.sk-item {position: relative;z-index: 1;}#sk-container-id-1 div.sk-parallel {display: flex;align-items: stretch;justify-content: center;background-color: white;position: relative;}#sk-container-id-1 div.sk-item::before, #sk-container-id-1 div.sk-parallel-item::before {content: \"\";position: absolute;border-left: 1px solid gray;box-sizing: border-box;top: 0;bottom: 0;left: 50%;z-index: -1;}#sk-container-id-1 div.sk-parallel-item {display: flex;flex-direction: column;z-index: 1;position: relative;background-color: white;}#sk-container-id-1 div.sk-parallel-item:first-child::after {align-self: flex-end;width: 50%;}#sk-container-id-1 div.sk-parallel-item:last-child::after {align-self: flex-start;width: 50%;}#sk-container-id-1 div.sk-parallel-item:only-child::after {width: 0;}#sk-container-id-1 div.sk-dashed-wrapped {border: 1px dashed gray;margin: 0 0.4em 0.5em 0.4em;box-sizing: border-box;padding-bottom: 0.4em;background-color: white;}#sk-container-id-1 div.sk-label label {font-family: monospace;font-weight: bold;display: inline-block;line-height: 1.2em;}#sk-container-id-1 div.sk-label-container {text-align: center;}#sk-container-id-1 div.sk-container {/* jupyter's `normalize.less` sets `[hidden] { display: none; }` but bootstrap.min.css set `[hidden] { display: none !important; }` so we also need the `!important` here to be able to override the default hidden behavior on the sphinx rendered scikit-learn.org. See: https://github.com/scikit-learn/scikit-learn/issues/21755 */display: inline-block !important;position: relative;}#sk-container-id-1 div.sk-text-repr-fallback {display: none;}</style><div id=\"sk-container-id-1\" class=\"sk-top-container\"><div class=\"sk-text-repr-fallback\"><pre>ExtraTreesClassifier(random_state=7)</pre><b>In a Jupyter environment, please rerun this cell to show the HTML representation or trust the notebook. <br />On GitHub, the HTML representation is unable to render, please try loading this page with nbviewer.org.</b></div><div class=\"sk-container\" hidden><div class=\"sk-item\"><div class=\"sk-estimator sk-toggleable\"><input class=\"sk-toggleable__control sk-hidden--visually\" id=\"sk-estimator-id-1\" type=\"checkbox\" checked><label for=\"sk-estimator-id-1\" class=\"sk-toggleable__label sk-toggleable__label-arrow\">ExtraTreesClassifier</label><div class=\"sk-toggleable__content\"><pre>ExtraTreesClassifier(random_state=7)</pre></div></div></div></div></div>"
      ],
      "text/plain": [
       "ExtraTreesClassifier(random_state=7)"
      ]
     },
     "execution_count": 11,
     "metadata": {},
     "output_type": "execute_result"
    }
   ],
   "source": [
    "# 인스턴스 생성  => 100개의 내부 DT 모델에서 사용할 데이터셋 생성\n",
    "#                   random_state로 고정된 데이터셋 생성\n",
    "#                   oob_score 매개변수 : 샘플 데이터셋 추출 후 남은 데이터셋 검증으로 사용\n",
    "lf_model = ExtraTreesClassifier(random_state=7, )\n",
    "\n",
    "# 학습\n",
    "lf_model.fit(X_train, y_train)"
   ]
  },
  {
   "cell_type": "code",
   "execution_count": 12,
   "metadata": {},
   "outputs": [
    {
     "name": "stdout",
     "output_type": "stream",
     "text": [
      "classes_ : [0. 1.]\n",
      "n_classes_ : 2개\n",
      "feature_names_in : ['alcohol' 'sugar' 'pH']\n",
      "n_features_in : 3개\n",
      "feature_importances_ : [0.18992806 0.53030305 0.2797689 ]\n"
     ]
    }
   ],
   "source": [
    "# 모델 파라미터\n",
    "print(f'classes_ : {lf_model.classes_}')\n",
    "print(f'n_classes_ : {lf_model.n_classes_}개')\n",
    "print(f'feature_names_in : {lf_model.feature_names_in_}')\n",
    "print(f'n_features_in : {lf_model.n_features_in_}개')\n",
    "print(f'feature_importances_ : {lf_model.feature_importances_}')"
   ]
  },
  {
   "cell_type": "code",
   "execution_count": 13,
   "metadata": {},
   "outputs": [
    {
     "name": "stdout",
     "output_type": "stream",
     "text": [
      "calsses_    :ExtraTreeClassifier()\n",
      "ExtraTreeClassifier(random_state=327741615)\n",
      "ExtraTreeClassifier(random_state=976413892)\n",
      "ExtraTreeClassifier(random_state=1202242073)\n",
      "ExtraTreeClassifier(random_state=1369975286)\n",
      "ExtraTreeClassifier(random_state=1882953283)\n",
      "ExtraTreeClassifier(random_state=2053951699)\n",
      "ExtraTreeClassifier(random_state=959775639)\n",
      "ExtraTreeClassifier(random_state=1956722279)\n",
      "ExtraTreeClassifier(random_state=2052949340)\n",
      "ExtraTreeClassifier(random_state=1322904761)\n",
      "ExtraTreeClassifier(random_state=165338510)\n",
      "ExtraTreeClassifier(random_state=1133316631)\n",
      "ExtraTreeClassifier(random_state=4812360)\n",
      "ExtraTreeClassifier(random_state=372560217)\n",
      "ExtraTreeClassifier(random_state=309457262)\n",
      "ExtraTreeClassifier(random_state=1801189930)\n",
      "ExtraTreeClassifier(random_state=1152936666)\n",
      "ExtraTreeClassifier(random_state=68334472)\n",
      "ExtraTreeClassifier(random_state=2146978983)\n",
      "ExtraTreeClassifier(random_state=119248870)\n",
      "ExtraTreeClassifier(random_state=769786948)\n",
      "ExtraTreeClassifier(random_state=1583990192)\n",
      "ExtraTreeClassifier(random_state=1304549247)\n",
      "ExtraTreeClassifier(random_state=1420943751)\n",
      "ExtraTreeClassifier(random_state=1636129708)\n",
      "ExtraTreeClassifier(random_state=1687674368)\n",
      "ExtraTreeClassifier(random_state=283194443)\n",
      "ExtraTreeClassifier(random_state=748743479)\n",
      "ExtraTreeClassifier(random_state=1237575930)\n",
      "ExtraTreeClassifier(random_state=740097030)\n",
      "ExtraTreeClassifier(random_state=1759190803)\n",
      "ExtraTreeClassifier(random_state=833359292)\n",
      "ExtraTreeClassifier(random_state=916483116)\n",
      "ExtraTreeClassifier(random_state=1485942463)\n",
      "ExtraTreeClassifier(random_state=1941857605)\n",
      "ExtraTreeClassifier(random_state=1844809528)\n",
      "ExtraTreeClassifier(random_state=1852015768)\n",
      "ExtraTreeClassifier(random_state=1127788727)\n",
      "ExtraTreeClassifier(random_state=106941365)\n",
      "ExtraTreeClassifier(random_state=1077017712)\n",
      "ExtraTreeClassifier(random_state=431854331)\n",
      "ExtraTreeClassifier(random_state=1094761661)\n",
      "ExtraTreeClassifier(random_state=1933291456)\n",
      "ExtraTreeClassifier(random_state=1508798754)\n",
      "ExtraTreeClassifier(random_state=989143352)\n",
      "ExtraTreeClassifier(random_state=747550921)\n",
      "ExtraTreeClassifier(random_state=208262606)\n",
      "ExtraTreeClassifier(random_state=1248819750)\n",
      "ExtraTreeClassifier(random_state=1757192964)\n",
      "ExtraTreeClassifier(random_state=1879603694)\n",
      "ExtraTreeClassifier(random_state=571958409)\n",
      "ExtraTreeClassifier(random_state=1927692119)\n",
      "ExtraTreeClassifier(random_state=100556259)\n",
      "ExtraTreeClassifier(random_state=1652057283)\n",
      "ExtraTreeClassifier(random_state=1075502152)\n",
      "ExtraTreeClassifier(random_state=1535344467)\n",
      "ExtraTreeClassifier(random_state=725906352)\n",
      "ExtraTreeClassifier(random_state=830456065)\n",
      "ExtraTreeClassifier(random_state=2008983232)\n",
      "ExtraTreeClassifier(random_state=431532432)\n",
      "ExtraTreeClassifier(random_state=879820150)\n",
      "ExtraTreeClassifier(random_state=2072909727)\n",
      "ExtraTreeClassifier(random_state=2107823453)\n",
      "ExtraTreeClassifier(random_state=488352684)\n",
      "ExtraTreeClassifier(random_state=1599380060)\n",
      "ExtraTreeClassifier(random_state=1938096892)\n",
      "ExtraTreeClassifier(random_state=2050422343)\n",
      "ExtraTreeClassifier(random_state=1497897239)\n",
      "ExtraTreeClassifier(random_state=1571487242)\n",
      "ExtraTreeClassifier(random_state=1187621609)\n",
      "ExtraTreeClassifier(random_state=1451346723)\n",
      "ExtraTreeClassifier(random_state=1917728192)\n",
      "ExtraTreeClassifier(random_state=1153832253)\n",
      "ExtraTreeClassifier(random_state=1966724487)\n",
      "ExtraTreeClassifier(random_state=1348596887)\n",
      "ExtraTreeClassifier(random_state=771276892)\n",
      "ExtraTreeClassifier(random_state=311923447)\n",
      "ExtraTreeClassifier(random_state=612959456)\n",
      "ExtraTreeClassifier(random_state=1185621653)\n",
      "ExtraTreeClassifier(random_state=358664548)\n",
      "ExtraTreeClassifier(random_state=1944945571)\n",
      "ExtraTreeClassifier(random_state=202873313)\n",
      "ExtraTreeClassifier(random_state=1516030531)\n",
      "ExtraTreeClassifier(random_state=1332338555)\n",
      "ExtraTreeClassifier(random_state=676025563)\n",
      "ExtraTreeClassifier(random_state=1214271969)\n",
      "ExtraTreeClassifier(random_state=1590645779)\n",
      "ExtraTreeClassifier(random_state=1808153499)\n",
      "ExtraTreeClassifier(random_state=1971789316)\n",
      "ExtraTreeClassifier(random_state=1861190419)\n",
      "ExtraTreeClassifier(random_state=941989921)\n",
      "ExtraTreeClassifier(random_state=1798548603)\n",
      "ExtraTreeClassifier(random_state=1773786398)\n",
      "ExtraTreeClassifier(random_state=2088312505)\n",
      "ExtraTreeClassifier(random_state=1745574629)\n",
      "ExtraTreeClassifier(random_state=1260873545)\n",
      "ExtraTreeClassifier(random_state=775033821)\n",
      "ExtraTreeClassifier(random_state=1474484177)\n",
      "ExtraTreeClassifier(random_state=1035597695)\n",
      "ExtraTreeClassifier(random_state=1289946527)\n"
     ]
    }
   ],
   "source": [
    "# 모델 파라미터\n",
    "print(f'calsses_    :{lf_model.estimator_}')\n",
    "for idx in lf_model.estimators_:\n",
    "    print(idx)"
   ]
  },
  {
   "cell_type": "code",
   "execution_count": 17,
   "metadata": {},
   "outputs": [],
   "source": [
    "# # 모델 파라미터\n",
    "# print(f'calsses_    :{lf_model.estimators_samples_}')\n",
    "# # for idx in lf_model.estimators_:\n",
    "# #     print(idx)"
   ]
  },
  {
   "cell_type": "code",
   "execution_count": 16,
   "metadata": {},
   "outputs": [],
   "source": [
    "#print(f'oob_score_ : {lf_model.oob_score_}')"
   ]
  },
  {
   "cell_type": "markdown",
   "metadata": {},
   "source": [
    "[5] 성능 평가"
   ]
  },
  {
   "cell_type": "code",
   "execution_count": 17,
   "metadata": {},
   "outputs": [],
   "source": [
    "train_score = lf_model.score(X_train, y_train)\n",
    "test_score = lf_model.score(X_test, y_test)"
   ]
  },
  {
   "cell_type": "code",
   "execution_count": 18,
   "metadata": {},
   "outputs": [
    {
     "name": "stdout",
     "output_type": "stream",
     "text": [
      "train_score : 0.9973061381566288    test_score : 0.8961538461538462\n"
     ]
    }
   ],
   "source": [
    "print(f'train_score : {train_score}    test_score : {test_score}')"
   ]
  },
  {
   "cell_type": "markdown",
   "metadata": {},
   "source": [
    "[6] 튜닝"
   ]
  },
  {
   "cell_type": "markdown",
   "metadata": {},
   "source": [
    "- RandomizedSearchCV  하이퍼파라미터 최적화 클래스\n",
    "    - 범위가 넓은 하이퍼파라미터 설정에 좋음\n",
    "    - 지정된 범위에서 지정된 횟수 만큼 하이퍼파라미터를 추출하여 조합 진행"
   ]
  },
  {
   "cell_type": "code",
   "execution_count": 19,
   "metadata": {},
   "outputs": [],
   "source": [
    "# 모듈 로딩\n",
    "from sklearn.model_selection import RandomizedSearchCV"
   ]
  },
  {
   "cell_type": "code",
   "execution_count": 20,
   "metadata": {},
   "outputs": [],
   "source": [
    "# RandomForestClassifier 하피퍼파라미터\n",
    "params = {'max_depth':range(2, 16),\n",
    "          'min_samples_leaf' : range(5, 16),\n",
    "          'criterion': ['gini', 'entropy', 'log_loss']}"
   ]
  },
  {
   "cell_type": "code",
   "execution_count": 26,
   "metadata": {},
   "outputs": [],
   "source": [
    "rf_model = ExtraTreesClassifier(n_estimators= 300, random_state=7) # 트리의개수 300개선택"
   ]
  },
  {
   "cell_type": "code",
   "execution_count": 27,
   "metadata": {},
   "outputs": [
    {
     "name": "stdout",
     "output_type": "stream",
     "text": [
      "Fitting 5 folds for each of 50 candidates, totalling 250 fits\n",
      "[CV 1/5] END criterion=gini, max_depth=2, min_samples_leaf=10;, score=0.754 total time=   0.2s\n",
      "[CV 2/5] END criterion=gini, max_depth=2, min_samples_leaf=10;, score=0.754 total time=   0.3s\n",
      "[CV 3/5] END criterion=gini, max_depth=2, min_samples_leaf=10;, score=0.755 total time=   0.2s\n",
      "[CV 4/5] END criterion=gini, max_depth=2, min_samples_leaf=10;, score=0.754 total time=   0.2s\n",
      "[CV 5/5] END criterion=gini, max_depth=2, min_samples_leaf=10;, score=0.754 total time=   0.2s\n",
      "[CV 1/5] END criterion=gini, max_depth=15, min_samples_leaf=6;, score=0.754 total time=   0.2s\n",
      "[CV 2/5] END criterion=gini, max_depth=15, min_samples_leaf=6;, score=0.754 total time=   0.2s\n",
      "[CV 3/5] END criterion=gini, max_depth=15, min_samples_leaf=6;, score=0.755 total time=   0.2s\n",
      "[CV 4/5] END criterion=gini, max_depth=15, min_samples_leaf=6;, score=0.754 total time=   0.2s\n",
      "[CV 5/5] END criterion=gini, max_depth=15, min_samples_leaf=6;, score=0.754 total time=   0.2s\n",
      "[CV 1/5] END criterion=gini, max_depth=13, min_samples_leaf=14;, score=0.754 total time=   0.2s\n",
      "[CV 2/5] END criterion=gini, max_depth=13, min_samples_leaf=14;, score=0.754 total time=   0.2s\n",
      "[CV 3/5] END criterion=gini, max_depth=13, min_samples_leaf=14;, score=0.755 total time=   0.2s\n",
      "[CV 4/5] END criterion=gini, max_depth=13, min_samples_leaf=14;, score=0.754 total time=   0.2s\n",
      "[CV 5/5] END criterion=gini, max_depth=13, min_samples_leaf=14;, score=0.754 total time=   0.2s\n",
      "[CV 1/5] END criterion=gini, max_depth=11, min_samples_leaf=8;, score=0.754 total time=   0.2s\n",
      "[CV 2/5] END criterion=gini, max_depth=11, min_samples_leaf=8;, score=0.754 total time=   0.2s\n",
      "[CV 3/5] END criterion=gini, max_depth=11, min_samples_leaf=8;, score=0.755 total time=   0.2s\n",
      "[CV 4/5] END criterion=gini, max_depth=11, min_samples_leaf=8;, score=0.754 total time=   0.2s\n",
      "[CV 5/5] END criterion=gini, max_depth=11, min_samples_leaf=8;, score=0.754 total time=   0.2s\n",
      "[CV 1/5] END criterion=entropy, max_depth=3, min_samples_leaf=13;, score=0.754 total time=   0.2s\n",
      "[CV 2/5] END criterion=entropy, max_depth=3, min_samples_leaf=13;, score=0.754 total time=   0.2s\n",
      "[CV 3/5] END criterion=entropy, max_depth=3, min_samples_leaf=13;, score=0.755 total time=   0.2s\n",
      "[CV 4/5] END criterion=entropy, max_depth=3, min_samples_leaf=13;, score=0.754 total time=   0.2s\n",
      "[CV 5/5] END criterion=entropy, max_depth=3, min_samples_leaf=13;, score=0.754 total time=   0.2s\n",
      "[CV 1/5] END criterion=log_loss, max_depth=3, min_samples_leaf=6;, score=0.754 total time=   0.2s\n",
      "[CV 2/5] END criterion=log_loss, max_depth=3, min_samples_leaf=6;, score=0.754 total time=   0.2s\n",
      "[CV 3/5] END criterion=log_loss, max_depth=3, min_samples_leaf=6;, score=0.755 total time=   0.2s\n",
      "[CV 4/5] END criterion=log_loss, max_depth=3, min_samples_leaf=6;, score=0.754 total time=   0.2s\n",
      "[CV 5/5] END criterion=log_loss, max_depth=3, min_samples_leaf=6;, score=0.754 total time=   0.2s\n",
      "[CV 1/5] END criterion=entropy, max_depth=15, min_samples_leaf=5;, score=0.754 total time=   0.2s\n",
      "[CV 2/5] END criterion=entropy, max_depth=15, min_samples_leaf=5;, score=0.754 total time=   0.2s\n",
      "[CV 3/5] END criterion=entropy, max_depth=15, min_samples_leaf=5;, score=0.755 total time=   0.3s\n",
      "[CV 4/5] END criterion=entropy, max_depth=15, min_samples_leaf=5;, score=0.754 total time=   0.2s\n",
      "[CV 5/5] END criterion=entropy, max_depth=15, min_samples_leaf=5;, score=0.754 total time=   0.2s\n",
      "[CV 1/5] END criterion=entropy, max_depth=11, min_samples_leaf=15;, score=0.754 total time=   0.2s\n",
      "[CV 2/5] END criterion=entropy, max_depth=11, min_samples_leaf=15;, score=0.754 total time=   0.2s\n",
      "[CV 3/5] END criterion=entropy, max_depth=11, min_samples_leaf=15;, score=0.755 total time=   0.2s\n",
      "[CV 4/5] END criterion=entropy, max_depth=11, min_samples_leaf=15;, score=0.754 total time=   0.2s\n",
      "[CV 5/5] END criterion=entropy, max_depth=11, min_samples_leaf=15;, score=0.754 total time=   0.2s\n",
      "[CV 1/5] END criterion=entropy, max_depth=6, min_samples_leaf=11;, score=0.754 total time=   0.2s\n",
      "[CV 2/5] END criterion=entropy, max_depth=6, min_samples_leaf=11;, score=0.754 total time=   0.2s\n",
      "[CV 3/5] END criterion=entropy, max_depth=6, min_samples_leaf=11;, score=0.755 total time=   0.2s\n",
      "[CV 4/5] END criterion=entropy, max_depth=6, min_samples_leaf=11;, score=0.754 total time=   0.2s\n",
      "[CV 5/5] END criterion=entropy, max_depth=6, min_samples_leaf=11;, score=0.754 total time=   0.2s\n",
      "[CV 1/5] END criterion=gini, max_depth=2, min_samples_leaf=11;, score=0.754 total time=   0.2s\n",
      "[CV 2/5] END criterion=gini, max_depth=2, min_samples_leaf=11;, score=0.754 total time=   0.2s\n",
      "[CV 3/5] END criterion=gini, max_depth=2, min_samples_leaf=11;, score=0.755 total time=   0.2s\n",
      "[CV 4/5] END criterion=gini, max_depth=2, min_samples_leaf=11;, score=0.754 total time=   0.2s\n",
      "[CV 5/5] END criterion=gini, max_depth=2, min_samples_leaf=11;, score=0.754 total time=   0.2s\n",
      "[CV 1/5] END criterion=entropy, max_depth=8, min_samples_leaf=10;, score=0.754 total time=   0.2s\n",
      "[CV 2/5] END criterion=entropy, max_depth=8, min_samples_leaf=10;, score=0.754 total time=   0.2s\n",
      "[CV 3/5] END criterion=entropy, max_depth=8, min_samples_leaf=10;, score=0.755 total time=   0.2s\n",
      "[CV 4/5] END criterion=entropy, max_depth=8, min_samples_leaf=10;, score=0.754 total time=   0.2s\n",
      "[CV 5/5] END criterion=entropy, max_depth=8, min_samples_leaf=10;, score=0.754 total time=   0.2s\n",
      "[CV 1/5] END criterion=log_loss, max_depth=3, min_samples_leaf=14;, score=0.754 total time=   0.2s\n",
      "[CV 2/5] END criterion=log_loss, max_depth=3, min_samples_leaf=14;, score=0.754 total time=   0.2s\n",
      "[CV 3/5] END criterion=log_loss, max_depth=3, min_samples_leaf=14;, score=0.755 total time=   0.2s\n",
      "[CV 4/5] END criterion=log_loss, max_depth=3, min_samples_leaf=14;, score=0.754 total time=   0.2s\n",
      "[CV 5/5] END criterion=log_loss, max_depth=3, min_samples_leaf=14;, score=0.754 total time=   0.2s\n",
      "[CV 1/5] END criterion=log_loss, max_depth=11, min_samples_leaf=11;, score=0.754 total time=   0.2s\n",
      "[CV 2/5] END criterion=log_loss, max_depth=11, min_samples_leaf=11;, score=0.754 total time=   0.2s\n",
      "[CV 3/5] END criterion=log_loss, max_depth=11, min_samples_leaf=11;, score=0.755 total time=   0.2s\n",
      "[CV 4/5] END criterion=log_loss, max_depth=11, min_samples_leaf=11;, score=0.754 total time=   0.2s\n",
      "[CV 5/5] END criterion=log_loss, max_depth=11, min_samples_leaf=11;, score=0.754 total time=   0.2s\n",
      "[CV 1/5] END criterion=gini, max_depth=13, min_samples_leaf=9;, score=0.754 total time=   0.2s\n",
      "[CV 2/5] END criterion=gini, max_depth=13, min_samples_leaf=9;, score=0.754 total time=   0.2s\n",
      "[CV 3/5] END criterion=gini, max_depth=13, min_samples_leaf=9;, score=0.755 total time=   0.2s\n",
      "[CV 4/5] END criterion=gini, max_depth=13, min_samples_leaf=9;, score=0.754 total time=   0.2s\n",
      "[CV 5/5] END criterion=gini, max_depth=13, min_samples_leaf=9;, score=0.754 total time=   0.2s\n",
      "[CV 1/5] END criterion=gini, max_depth=10, min_samples_leaf=8;, score=0.754 total time=   0.2s\n",
      "[CV 2/5] END criterion=gini, max_depth=10, min_samples_leaf=8;, score=0.754 total time=   0.2s\n",
      "[CV 3/5] END criterion=gini, max_depth=10, min_samples_leaf=8;, score=0.755 total time=   0.2s\n",
      "[CV 4/5] END criterion=gini, max_depth=10, min_samples_leaf=8;, score=0.754 total time=   0.2s\n",
      "[CV 5/5] END criterion=gini, max_depth=10, min_samples_leaf=8;, score=0.754 total time=   0.2s\n",
      "[CV 1/5] END criterion=entropy, max_depth=11, min_samples_leaf=7;, score=0.754 total time=   0.2s\n",
      "[CV 2/5] END criterion=entropy, max_depth=11, min_samples_leaf=7;, score=0.754 total time=   0.2s\n",
      "[CV 3/5] END criterion=entropy, max_depth=11, min_samples_leaf=7;, score=0.755 total time=   0.2s\n",
      "[CV 4/5] END criterion=entropy, max_depth=11, min_samples_leaf=7;, score=0.754 total time=   0.2s\n",
      "[CV 5/5] END criterion=entropy, max_depth=11, min_samples_leaf=7;, score=0.754 total time=   0.2s\n",
      "[CV 1/5] END criterion=log_loss, max_depth=6, min_samples_leaf=12;, score=0.754 total time=   0.2s\n",
      "[CV 2/5] END criterion=log_loss, max_depth=6, min_samples_leaf=12;, score=0.754 total time=   0.3s\n",
      "[CV 3/5] END criterion=log_loss, max_depth=6, min_samples_leaf=12;, score=0.755 total time=   0.2s\n",
      "[CV 4/5] END criterion=log_loss, max_depth=6, min_samples_leaf=12;, score=0.754 total time=   0.2s\n",
      "[CV 5/5] END criterion=log_loss, max_depth=6, min_samples_leaf=12;, score=0.754 total time=   0.2s\n",
      "[CV 1/5] END criterion=entropy, max_depth=12, min_samples_leaf=15;, score=0.754 total time=   0.2s\n",
      "[CV 2/5] END criterion=entropy, max_depth=12, min_samples_leaf=15;, score=0.754 total time=   0.2s\n",
      "[CV 3/5] END criterion=entropy, max_depth=12, min_samples_leaf=15;, score=0.755 total time=   0.2s\n",
      "[CV 4/5] END criterion=entropy, max_depth=12, min_samples_leaf=15;, score=0.754 total time=   0.2s\n",
      "[CV 5/5] END criterion=entropy, max_depth=12, min_samples_leaf=15;, score=0.754 total time=   0.2s\n",
      "[CV 1/5] END criterion=entropy, max_depth=10, min_samples_leaf=15;, score=0.754 total time=   0.2s\n",
      "[CV 2/5] END criterion=entropy, max_depth=10, min_samples_leaf=15;, score=0.754 total time=   0.2s\n",
      "[CV 3/5] END criterion=entropy, max_depth=10, min_samples_leaf=15;, score=0.755 total time=   0.2s\n",
      "[CV 4/5] END criterion=entropy, max_depth=10, min_samples_leaf=15;, score=0.754 total time=   0.3s\n",
      "[CV 5/5] END criterion=entropy, max_depth=10, min_samples_leaf=15;, score=0.754 total time=   0.2s\n",
      "[CV 1/5] END criterion=gini, max_depth=14, min_samples_leaf=13;, score=0.754 total time=   0.2s\n",
      "[CV 2/5] END criterion=gini, max_depth=14, min_samples_leaf=13;, score=0.754 total time=   0.2s\n",
      "[CV 3/5] END criterion=gini, max_depth=14, min_samples_leaf=13;, score=0.755 total time=   0.2s\n",
      "[CV 4/5] END criterion=gini, max_depth=14, min_samples_leaf=13;, score=0.754 total time=   0.2s\n",
      "[CV 5/5] END criterion=gini, max_depth=14, min_samples_leaf=13;, score=0.754 total time=   0.2s\n",
      "[CV 1/5] END criterion=log_loss, max_depth=12, min_samples_leaf=15;, score=0.754 total time=   0.2s\n",
      "[CV 2/5] END criterion=log_loss, max_depth=12, min_samples_leaf=15;, score=0.754 total time=   0.2s\n",
      "[CV 3/5] END criterion=log_loss, max_depth=12, min_samples_leaf=15;, score=0.755 total time=   0.2s\n",
      "[CV 4/5] END criterion=log_loss, max_depth=12, min_samples_leaf=15;, score=0.754 total time=   0.2s\n",
      "[CV 5/5] END criterion=log_loss, max_depth=12, min_samples_leaf=15;, score=0.754 total time=   0.3s\n",
      "[CV 1/5] END criterion=gini, max_depth=6, min_samples_leaf=7;, score=0.754 total time=   0.2s\n",
      "[CV 2/5] END criterion=gini, max_depth=6, min_samples_leaf=7;, score=0.754 total time=   0.2s\n",
      "[CV 3/5] END criterion=gini, max_depth=6, min_samples_leaf=7;, score=0.755 total time=   0.2s\n",
      "[CV 4/5] END criterion=gini, max_depth=6, min_samples_leaf=7;, score=0.754 total time=   0.2s\n",
      "[CV 5/5] END criterion=gini, max_depth=6, min_samples_leaf=7;, score=0.754 total time=   0.2s\n",
      "[CV 1/5] END criterion=entropy, max_depth=11, min_samples_leaf=12;, score=0.754 total time=   0.2s\n",
      "[CV 2/5] END criterion=entropy, max_depth=11, min_samples_leaf=12;, score=0.754 total time=   0.2s\n",
      "[CV 3/5] END criterion=entropy, max_depth=11, min_samples_leaf=12;, score=0.755 total time=   0.2s\n",
      "[CV 4/5] END criterion=entropy, max_depth=11, min_samples_leaf=12;, score=0.754 total time=   0.2s\n",
      "[CV 5/5] END criterion=entropy, max_depth=11, min_samples_leaf=12;, score=0.754 total time=   0.2s\n",
      "[CV 1/5] END criterion=entropy, max_depth=14, min_samples_leaf=12;, score=0.754 total time=   0.2s\n",
      "[CV 2/5] END criterion=entropy, max_depth=14, min_samples_leaf=12;, score=0.754 total time=   0.2s\n",
      "[CV 3/5] END criterion=entropy, max_depth=14, min_samples_leaf=12;, score=0.755 total time=   0.2s\n",
      "[CV 4/5] END criterion=entropy, max_depth=14, min_samples_leaf=12;, score=0.754 total time=   0.2s\n",
      "[CV 5/5] END criterion=entropy, max_depth=14, min_samples_leaf=12;, score=0.754 total time=   0.2s\n",
      "[CV 1/5] END criterion=log_loss, max_depth=13, min_samples_leaf=10;, score=0.754 total time=   0.2s\n",
      "[CV 2/5] END criterion=log_loss, max_depth=13, min_samples_leaf=10;, score=0.754 total time=   0.2s\n",
      "[CV 3/5] END criterion=log_loss, max_depth=13, min_samples_leaf=10;, score=0.755 total time=   0.2s\n",
      "[CV 4/5] END criterion=log_loss, max_depth=13, min_samples_leaf=10;, score=0.754 total time=   0.3s\n",
      "[CV 5/5] END criterion=log_loss, max_depth=13, min_samples_leaf=10;, score=0.754 total time=   0.3s\n",
      "[CV 1/5] END criterion=gini, max_depth=3, min_samples_leaf=10;, score=0.754 total time=   0.3s\n",
      "[CV 2/5] END criterion=gini, max_depth=3, min_samples_leaf=10;, score=0.754 total time=   0.2s\n",
      "[CV 3/5] END criterion=gini, max_depth=3, min_samples_leaf=10;, score=0.755 total time=   0.3s\n",
      "[CV 4/5] END criterion=gini, max_depth=3, min_samples_leaf=10;, score=0.754 total time=   0.2s\n",
      "[CV 5/5] END criterion=gini, max_depth=3, min_samples_leaf=10;, score=0.754 total time=   0.2s\n",
      "[CV 1/5] END criterion=entropy, max_depth=7, min_samples_leaf=8;, score=0.754 total time=   0.3s\n",
      "[CV 2/5] END criterion=entropy, max_depth=7, min_samples_leaf=8;, score=0.754 total time=   0.3s\n",
      "[CV 3/5] END criterion=entropy, max_depth=7, min_samples_leaf=8;, score=0.755 total time=   0.3s\n",
      "[CV 4/5] END criterion=entropy, max_depth=7, min_samples_leaf=8;, score=0.754 total time=   0.3s\n",
      "[CV 5/5] END criterion=entropy, max_depth=7, min_samples_leaf=8;, score=0.754 total time=   0.4s\n",
      "[CV 1/5] END criterion=log_loss, max_depth=3, min_samples_leaf=11;, score=0.754 total time=   0.3s\n",
      "[CV 2/5] END criterion=log_loss, max_depth=3, min_samples_leaf=11;, score=0.754 total time=   0.2s\n",
      "[CV 3/5] END criterion=log_loss, max_depth=3, min_samples_leaf=11;, score=0.755 total time=   0.2s\n",
      "[CV 4/5] END criterion=log_loss, max_depth=3, min_samples_leaf=11;, score=0.754 total time=   0.2s\n",
      "[CV 5/5] END criterion=log_loss, max_depth=3, min_samples_leaf=11;, score=0.754 total time=   0.2s\n",
      "[CV 1/5] END criterion=entropy, max_depth=9, min_samples_leaf=6;, score=0.754 total time=   0.2s\n",
      "[CV 2/5] END criterion=entropy, max_depth=9, min_samples_leaf=6;, score=0.754 total time=   0.2s\n",
      "[CV 3/5] END criterion=entropy, max_depth=9, min_samples_leaf=6;, score=0.755 total time=   0.2s\n",
      "[CV 4/5] END criterion=entropy, max_depth=9, min_samples_leaf=6;, score=0.754 total time=   0.2s\n",
      "[CV 5/5] END criterion=entropy, max_depth=9, min_samples_leaf=6;, score=0.754 total time=   0.3s\n",
      "[CV 1/5] END criterion=entropy, max_depth=13, min_samples_leaf=10;, score=0.754 total time=   0.3s\n",
      "[CV 2/5] END criterion=entropy, max_depth=13, min_samples_leaf=10;, score=0.754 total time=   0.2s\n",
      "[CV 3/5] END criterion=entropy, max_depth=13, min_samples_leaf=10;, score=0.755 total time=   0.2s\n",
      "[CV 4/5] END criterion=entropy, max_depth=13, min_samples_leaf=10;, score=0.754 total time=   0.3s\n",
      "[CV 5/5] END criterion=entropy, max_depth=13, min_samples_leaf=10;, score=0.754 total time=   0.3s\n",
      "[CV 1/5] END criterion=entropy, max_depth=9, min_samples_leaf=10;, score=0.754 total time=   0.2s\n",
      "[CV 2/5] END criterion=entropy, max_depth=9, min_samples_leaf=10;, score=0.754 total time=   0.3s\n",
      "[CV 3/5] END criterion=entropy, max_depth=9, min_samples_leaf=10;, score=0.755 total time=   0.3s\n",
      "[CV 4/5] END criterion=entropy, max_depth=9, min_samples_leaf=10;, score=0.754 total time=   0.3s\n",
      "[CV 5/5] END criterion=entropy, max_depth=9, min_samples_leaf=10;, score=0.754 total time=   0.3s\n",
      "[CV 1/5] END criterion=entropy, max_depth=13, min_samples_leaf=8;, score=0.754 total time=   0.2s\n",
      "[CV 2/5] END criterion=entropy, max_depth=13, min_samples_leaf=8;, score=0.754 total time=   0.3s\n",
      "[CV 3/5] END criterion=entropy, max_depth=13, min_samples_leaf=8;, score=0.755 total time=   0.2s\n",
      "[CV 4/5] END criterion=entropy, max_depth=13, min_samples_leaf=8;, score=0.754 total time=   0.3s\n",
      "[CV 5/5] END criterion=entropy, max_depth=13, min_samples_leaf=8;, score=0.754 total time=   0.2s\n",
      "[CV 1/5] END criterion=gini, max_depth=9, min_samples_leaf=9;, score=0.754 total time=   0.3s\n",
      "[CV 2/5] END criterion=gini, max_depth=9, min_samples_leaf=9;, score=0.754 total time=   0.3s\n",
      "[CV 3/5] END criterion=gini, max_depth=9, min_samples_leaf=9;, score=0.755 total time=   0.3s\n",
      "[CV 4/5] END criterion=gini, max_depth=9, min_samples_leaf=9;, score=0.754 total time=   0.3s\n",
      "[CV 5/5] END criterion=gini, max_depth=9, min_samples_leaf=9;, score=0.754 total time=   0.3s\n",
      "[CV 1/5] END criterion=gini, max_depth=9, min_samples_leaf=5;, score=0.754 total time=   0.2s\n",
      "[CV 2/5] END criterion=gini, max_depth=9, min_samples_leaf=5;, score=0.754 total time=   0.2s\n",
      "[CV 3/5] END criterion=gini, max_depth=9, min_samples_leaf=5;, score=0.755 total time=   0.2s\n",
      "[CV 4/5] END criterion=gini, max_depth=9, min_samples_leaf=5;, score=0.754 total time=   0.3s\n",
      "[CV 5/5] END criterion=gini, max_depth=9, min_samples_leaf=5;, score=0.754 total time=   0.3s\n",
      "[CV 1/5] END criterion=gini, max_depth=8, min_samples_leaf=15;, score=0.754 total time=   0.2s\n",
      "[CV 2/5] END criterion=gini, max_depth=8, min_samples_leaf=15;, score=0.754 total time=   0.2s\n",
      "[CV 3/5] END criterion=gini, max_depth=8, min_samples_leaf=15;, score=0.755 total time=   0.3s\n",
      "[CV 4/5] END criterion=gini, max_depth=8, min_samples_leaf=15;, score=0.754 total time=   0.3s\n",
      "[CV 5/5] END criterion=gini, max_depth=8, min_samples_leaf=15;, score=0.754 total time=   0.3s\n",
      "[CV 1/5] END criterion=entropy, max_depth=2, min_samples_leaf=11;, score=0.754 total time=   0.2s\n",
      "[CV 2/5] END criterion=entropy, max_depth=2, min_samples_leaf=11;, score=0.754 total time=   0.2s\n",
      "[CV 3/5] END criterion=entropy, max_depth=2, min_samples_leaf=11;, score=0.755 total time=   0.2s\n",
      "[CV 4/5] END criterion=entropy, max_depth=2, min_samples_leaf=11;, score=0.754 total time=   0.3s\n",
      "[CV 5/5] END criterion=entropy, max_depth=2, min_samples_leaf=11;, score=0.754 total time=   0.3s\n",
      "[CV 1/5] END criterion=gini, max_depth=14, min_samples_leaf=7;, score=0.754 total time=   0.3s\n",
      "[CV 2/5] END criterion=gini, max_depth=14, min_samples_leaf=7;, score=0.754 total time=   0.2s\n",
      "[CV 3/5] END criterion=gini, max_depth=14, min_samples_leaf=7;, score=0.755 total time=   0.3s\n",
      "[CV 4/5] END criterion=gini, max_depth=14, min_samples_leaf=7;, score=0.754 total time=   0.2s\n",
      "[CV 5/5] END criterion=gini, max_depth=14, min_samples_leaf=7;, score=0.754 total time=   0.3s\n",
      "[CV 1/5] END criterion=log_loss, max_depth=11, min_samples_leaf=9;, score=0.754 total time=   0.2s\n",
      "[CV 2/5] END criterion=log_loss, max_depth=11, min_samples_leaf=9;, score=0.754 total time=   0.2s\n",
      "[CV 3/5] END criterion=log_loss, max_depth=11, min_samples_leaf=9;, score=0.755 total time=   0.3s\n",
      "[CV 4/5] END criterion=log_loss, max_depth=11, min_samples_leaf=9;, score=0.754 total time=   0.3s\n",
      "[CV 5/5] END criterion=log_loss, max_depth=11, min_samples_leaf=9;, score=0.754 total time=   0.3s\n",
      "[CV 1/5] END criterion=gini, max_depth=9, min_samples_leaf=13;, score=0.754 total time=   0.2s\n",
      "[CV 2/5] END criterion=gini, max_depth=9, min_samples_leaf=13;, score=0.754 total time=   0.3s\n",
      "[CV 3/5] END criterion=gini, max_depth=9, min_samples_leaf=13;, score=0.755 total time=   0.3s\n",
      "[CV 4/5] END criterion=gini, max_depth=9, min_samples_leaf=13;, score=0.754 total time=   0.3s\n",
      "[CV 5/5] END criterion=gini, max_depth=9, min_samples_leaf=13;, score=0.754 total time=   0.3s\n",
      "[CV 1/5] END criterion=entropy, max_depth=11, min_samples_leaf=14;, score=0.754 total time=   0.2s\n",
      "[CV 2/5] END criterion=entropy, max_depth=11, min_samples_leaf=14;, score=0.754 total time=   0.2s\n",
      "[CV 3/5] END criterion=entropy, max_depth=11, min_samples_leaf=14;, score=0.755 total time=   0.2s\n",
      "[CV 4/5] END criterion=entropy, max_depth=11, min_samples_leaf=14;, score=0.754 total time=   0.3s\n",
      "[CV 5/5] END criterion=entropy, max_depth=11, min_samples_leaf=14;, score=0.754 total time=   0.3s\n",
      "[CV 1/5] END criterion=entropy, max_depth=4, min_samples_leaf=5;, score=0.754 total time=   0.2s\n",
      "[CV 2/5] END criterion=entropy, max_depth=4, min_samples_leaf=5;, score=0.754 total time=   0.2s\n",
      "[CV 3/5] END criterion=entropy, max_depth=4, min_samples_leaf=5;, score=0.755 total time=   0.3s\n",
      "[CV 4/5] END criterion=entropy, max_depth=4, min_samples_leaf=5;, score=0.754 total time=   0.2s\n",
      "[CV 5/5] END criterion=entropy, max_depth=4, min_samples_leaf=5;, score=0.754 total time=   0.3s\n",
      "[CV 1/5] END criterion=gini, max_depth=12, min_samples_leaf=9;, score=0.754 total time=   0.3s\n",
      "[CV 2/5] END criterion=gini, max_depth=12, min_samples_leaf=9;, score=0.754 total time=   0.2s\n",
      "[CV 3/5] END criterion=gini, max_depth=12, min_samples_leaf=9;, score=0.755 total time=   0.3s\n",
      "[CV 4/5] END criterion=gini, max_depth=12, min_samples_leaf=9;, score=0.754 total time=   0.3s\n",
      "[CV 5/5] END criterion=gini, max_depth=12, min_samples_leaf=9;, score=0.754 total time=   0.2s\n",
      "[CV 1/5] END criterion=entropy, max_depth=2, min_samples_leaf=8;, score=0.754 total time=   0.3s\n",
      "[CV 2/5] END criterion=entropy, max_depth=2, min_samples_leaf=8;, score=0.754 total time=   0.2s\n",
      "[CV 3/5] END criterion=entropy, max_depth=2, min_samples_leaf=8;, score=0.755 total time=   0.3s\n",
      "[CV 4/5] END criterion=entropy, max_depth=2, min_samples_leaf=8;, score=0.754 total time=   0.2s\n",
      "[CV 5/5] END criterion=entropy, max_depth=2, min_samples_leaf=8;, score=0.754 total time=   0.3s\n",
      "[CV 1/5] END criterion=gini, max_depth=10, min_samples_leaf=6;, score=0.754 total time=   0.2s\n",
      "[CV 2/5] END criterion=gini, max_depth=10, min_samples_leaf=6;, score=0.754 total time=   0.3s\n",
      "[CV 3/5] END criterion=gini, max_depth=10, min_samples_leaf=6;, score=0.755 total time=   0.3s\n",
      "[CV 4/5] END criterion=gini, max_depth=10, min_samples_leaf=6;, score=0.754 total time=   0.3s\n",
      "[CV 5/5] END criterion=gini, max_depth=10, min_samples_leaf=6;, score=0.754 total time=   0.3s\n",
      "[CV 1/5] END criterion=log_loss, max_depth=10, min_samples_leaf=14;, score=0.754 total time=   0.3s\n",
      "[CV 2/5] END criterion=log_loss, max_depth=10, min_samples_leaf=14;, score=0.754 total time=   0.2s\n",
      "[CV 3/5] END criterion=log_loss, max_depth=10, min_samples_leaf=14;, score=0.755 total time=   0.3s\n",
      "[CV 4/5] END criterion=log_loss, max_depth=10, min_samples_leaf=14;, score=0.754 total time=   0.2s\n",
      "[CV 5/5] END criterion=log_loss, max_depth=10, min_samples_leaf=14;, score=0.754 total time=   0.3s\n",
      "[CV 1/5] END criterion=log_loss, max_depth=9, min_samples_leaf=10;, score=0.754 total time=   0.2s\n",
      "[CV 2/5] END criterion=log_loss, max_depth=9, min_samples_leaf=10;, score=0.754 total time=   0.3s\n",
      "[CV 3/5] END criterion=log_loss, max_depth=9, min_samples_leaf=10;, score=0.755 total time=   0.3s\n",
      "[CV 4/5] END criterion=log_loss, max_depth=9, min_samples_leaf=10;, score=0.754 total time=   0.3s\n",
      "[CV 5/5] END criterion=log_loss, max_depth=9, min_samples_leaf=10;, score=0.754 total time=   0.3s\n",
      "[CV 1/5] END criterion=log_loss, max_depth=14, min_samples_leaf=7;, score=0.754 total time=   0.3s\n",
      "[CV 2/5] END criterion=log_loss, max_depth=14, min_samples_leaf=7;, score=0.754 total time=   0.3s\n",
      "[CV 3/5] END criterion=log_loss, max_depth=14, min_samples_leaf=7;, score=0.755 total time=   0.3s\n",
      "[CV 4/5] END criterion=log_loss, max_depth=14, min_samples_leaf=7;, score=0.754 total time=   0.3s\n",
      "[CV 5/5] END criterion=log_loss, max_depth=14, min_samples_leaf=7;, score=0.754 total time=   0.4s\n",
      "[CV 1/5] END criterion=log_loss, max_depth=2, min_samples_leaf=15;, score=0.754 total time=   0.3s\n",
      "[CV 2/5] END criterion=log_loss, max_depth=2, min_samples_leaf=15;, score=0.754 total time=   0.2s\n",
      "[CV 3/5] END criterion=log_loss, max_depth=2, min_samples_leaf=15;, score=0.755 total time=   0.3s\n",
      "[CV 4/5] END criterion=log_loss, max_depth=2, min_samples_leaf=15;, score=0.754 total time=   0.2s\n",
      "[CV 5/5] END criterion=log_loss, max_depth=2, min_samples_leaf=15;, score=0.754 total time=   0.3s\n",
      "[CV 1/5] END criterion=entropy, max_depth=8, min_samples_leaf=5;, score=0.754 total time=   0.3s\n",
      "[CV 2/5] END criterion=entropy, max_depth=8, min_samples_leaf=5;, score=0.754 total time=   0.3s\n",
      "[CV 3/5] END criterion=entropy, max_depth=8, min_samples_leaf=5;, score=0.755 total time=   0.3s\n",
      "[CV 4/5] END criterion=entropy, max_depth=8, min_samples_leaf=5;, score=0.754 total time=   0.3s\n",
      "[CV 5/5] END criterion=entropy, max_depth=8, min_samples_leaf=5;, score=0.754 total time=   0.3s\n",
      "[CV 1/5] END criterion=gini, max_depth=2, min_samples_leaf=7;, score=0.754 total time=   0.2s\n",
      "[CV 2/5] END criterion=gini, max_depth=2, min_samples_leaf=7;, score=0.754 total time=   0.2s\n",
      "[CV 3/5] END criterion=gini, max_depth=2, min_samples_leaf=7;, score=0.755 total time=   0.2s\n",
      "[CV 4/5] END criterion=gini, max_depth=2, min_samples_leaf=7;, score=0.754 total time=   0.3s\n",
      "[CV 5/5] END criterion=gini, max_depth=2, min_samples_leaf=7;, score=0.754 total time=   0.3s\n"
     ]
    },
    {
     "data": {
      "text/html": [
       "<style>#sk-container-id-3 {color: black;}#sk-container-id-3 pre{padding: 0;}#sk-container-id-3 div.sk-toggleable {background-color: white;}#sk-container-id-3 label.sk-toggleable__label {cursor: pointer;display: block;width: 100%;margin-bottom: 0;padding: 0.3em;box-sizing: border-box;text-align: center;}#sk-container-id-3 label.sk-toggleable__label-arrow:before {content: \"▸\";float: left;margin-right: 0.25em;color: #696969;}#sk-container-id-3 label.sk-toggleable__label-arrow:hover:before {color: black;}#sk-container-id-3 div.sk-estimator:hover label.sk-toggleable__label-arrow:before {color: black;}#sk-container-id-3 div.sk-toggleable__content {max-height: 0;max-width: 0;overflow: hidden;text-align: left;background-color: #f0f8ff;}#sk-container-id-3 div.sk-toggleable__content pre {margin: 0.2em;color: black;border-radius: 0.25em;background-color: #f0f8ff;}#sk-container-id-3 input.sk-toggleable__control:checked~div.sk-toggleable__content {max-height: 200px;max-width: 100%;overflow: auto;}#sk-container-id-3 input.sk-toggleable__control:checked~label.sk-toggleable__label-arrow:before {content: \"▾\";}#sk-container-id-3 div.sk-estimator input.sk-toggleable__control:checked~label.sk-toggleable__label {background-color: #d4ebff;}#sk-container-id-3 div.sk-label input.sk-toggleable__control:checked~label.sk-toggleable__label {background-color: #d4ebff;}#sk-container-id-3 input.sk-hidden--visually {border: 0;clip: rect(1px 1px 1px 1px);clip: rect(1px, 1px, 1px, 1px);height: 1px;margin: -1px;overflow: hidden;padding: 0;position: absolute;width: 1px;}#sk-container-id-3 div.sk-estimator {font-family: monospace;background-color: #f0f8ff;border: 1px dotted black;border-radius: 0.25em;box-sizing: border-box;margin-bottom: 0.5em;}#sk-container-id-3 div.sk-estimator:hover {background-color: #d4ebff;}#sk-container-id-3 div.sk-parallel-item::after {content: \"\";width: 100%;border-bottom: 1px solid gray;flex-grow: 1;}#sk-container-id-3 div.sk-label:hover label.sk-toggleable__label {background-color: #d4ebff;}#sk-container-id-3 div.sk-serial::before {content: \"\";position: absolute;border-left: 1px solid gray;box-sizing: border-box;top: 0;bottom: 0;left: 50%;z-index: 0;}#sk-container-id-3 div.sk-serial {display: flex;flex-direction: column;align-items: center;background-color: white;padding-right: 0.2em;padding-left: 0.2em;position: relative;}#sk-container-id-3 div.sk-item {position: relative;z-index: 1;}#sk-container-id-3 div.sk-parallel {display: flex;align-items: stretch;justify-content: center;background-color: white;position: relative;}#sk-container-id-3 div.sk-item::before, #sk-container-id-3 div.sk-parallel-item::before {content: \"\";position: absolute;border-left: 1px solid gray;box-sizing: border-box;top: 0;bottom: 0;left: 50%;z-index: -1;}#sk-container-id-3 div.sk-parallel-item {display: flex;flex-direction: column;z-index: 1;position: relative;background-color: white;}#sk-container-id-3 div.sk-parallel-item:first-child::after {align-self: flex-end;width: 50%;}#sk-container-id-3 div.sk-parallel-item:last-child::after {align-self: flex-start;width: 50%;}#sk-container-id-3 div.sk-parallel-item:only-child::after {width: 0;}#sk-container-id-3 div.sk-dashed-wrapped {border: 1px dashed gray;margin: 0 0.4em 0.5em 0.4em;box-sizing: border-box;padding-bottom: 0.4em;background-color: white;}#sk-container-id-3 div.sk-label label {font-family: monospace;font-weight: bold;display: inline-block;line-height: 1.2em;}#sk-container-id-3 div.sk-label-container {text-align: center;}#sk-container-id-3 div.sk-container {/* jupyter's `normalize.less` sets `[hidden] { display: none; }` but bootstrap.min.css set `[hidden] { display: none !important; }` so we also need the `!important` here to be able to override the default hidden behavior on the sphinx rendered scikit-learn.org. See: https://github.com/scikit-learn/scikit-learn/issues/21755 */display: inline-block !important;position: relative;}#sk-container-id-3 div.sk-text-repr-fallback {display: none;}</style><div id=\"sk-container-id-3\" class=\"sk-top-container\"><div class=\"sk-text-repr-fallback\"><pre>RandomizedSearchCV(estimator=ExtraTreesClassifier(n_estimators=300,\n",
       "                                                  random_state=7),\n",
       "                   n_iter=50,\n",
       "                   param_distributions={&#x27;criterion&#x27;: [&#x27;gini&#x27;, &#x27;entropy&#x27;,\n",
       "                                                      &#x27;log_loss&#x27;],\n",
       "                                        &#x27;max_depth&#x27;: range(2, 16),\n",
       "                                        &#x27;min_samples_leaf&#x27;: range(5, 16)},\n",
       "                   verbose=4)</pre><b>In a Jupyter environment, please rerun this cell to show the HTML representation or trust the notebook. <br />On GitHub, the HTML representation is unable to render, please try loading this page with nbviewer.org.</b></div><div class=\"sk-container\" hidden><div class=\"sk-item sk-dashed-wrapped\"><div class=\"sk-label-container\"><div class=\"sk-label sk-toggleable\"><input class=\"sk-toggleable__control sk-hidden--visually\" id=\"sk-estimator-id-5\" type=\"checkbox\" ><label for=\"sk-estimator-id-5\" class=\"sk-toggleable__label sk-toggleable__label-arrow\">RandomizedSearchCV</label><div class=\"sk-toggleable__content\"><pre>RandomizedSearchCV(estimator=ExtraTreesClassifier(n_estimators=300,\n",
       "                                                  random_state=7),\n",
       "                   n_iter=50,\n",
       "                   param_distributions={&#x27;criterion&#x27;: [&#x27;gini&#x27;, &#x27;entropy&#x27;,\n",
       "                                                      &#x27;log_loss&#x27;],\n",
       "                                        &#x27;max_depth&#x27;: range(2, 16),\n",
       "                                        &#x27;min_samples_leaf&#x27;: range(5, 16)},\n",
       "                   verbose=4)</pre></div></div></div><div class=\"sk-parallel\"><div class=\"sk-parallel-item\"><div class=\"sk-item\"><div class=\"sk-label-container\"><div class=\"sk-label sk-toggleable\"><input class=\"sk-toggleable__control sk-hidden--visually\" id=\"sk-estimator-id-6\" type=\"checkbox\" ><label for=\"sk-estimator-id-6\" class=\"sk-toggleable__label sk-toggleable__label-arrow\">estimator: ExtraTreesClassifier</label><div class=\"sk-toggleable__content\"><pre>ExtraTreesClassifier(n_estimators=300, random_state=7)</pre></div></div></div><div class=\"sk-serial\"><div class=\"sk-item\"><div class=\"sk-estimator sk-toggleable\"><input class=\"sk-toggleable__control sk-hidden--visually\" id=\"sk-estimator-id-7\" type=\"checkbox\" ><label for=\"sk-estimator-id-7\" class=\"sk-toggleable__label sk-toggleable__label-arrow\">ExtraTreesClassifier</label><div class=\"sk-toggleable__content\"><pre>ExtraTreesClassifier(n_estimators=300, random_state=7)</pre></div></div></div></div></div></div></div></div></div></div>"
      ],
      "text/plain": [
       "RandomizedSearchCV(estimator=ExtraTreesClassifier(n_estimators=300,\n",
       "                                                  random_state=7),\n",
       "                   n_iter=50,\n",
       "                   param_distributions={'criterion': ['gini', 'entropy',\n",
       "                                                      'log_loss'],\n",
       "                                        'max_depth': range(2, 16),\n",
       "                                        'min_samples_leaf': range(5, 16)},\n",
       "                   verbose=4)"
      ]
     },
     "execution_count": 27,
     "metadata": {},
     "output_type": "execute_result"
    }
   ],
   "source": [
    "searchCV = RandomizedSearchCV(rf_model, param_distributions=params, n_iter=50,\n",
    "                              verbose=4)\n",
    "searchCV.fit(X_train, y_train)"
   ]
  },
  {
   "cell_type": "code",
   "execution_count": 29,
   "metadata": {},
   "outputs": [
    {
     "name": "stdout",
     "output_type": "stream",
     "text": [
      "[searchCV.best_score_ ] 0.75389649811209\n",
      "[searchCV.best_params_] {'min_samples_leaf': 10, 'max_depth': 2, 'criterion': 'gini'}\n",
      "[searchCV.best_estimator_] ExtraTreesClassifier(max_depth=2, min_samples_leaf=10, n_estimators=300,\n",
      "                     random_state=7)\n"
     ]
    }
   ],
   "source": [
    "# 모델 파라미터\n",
    "\n",
    "print(f'[searchCV.best_score_ ] {searchCV.best_score_}')\n",
    "print(f'[searchCV.best_params_] {searchCV.best_params_}')\n",
    "print(f'[searchCV.best_estimator_] {searchCV.best_estimator_}')\n",
    "\n",
    "cv_resultDF = pd.DataFrame(searchCV.cv_results_)"
   ]
  },
  {
   "cell_type": "code",
   "execution_count": 30,
   "metadata": {},
   "outputs": [
    {
     "data": {
      "text/html": [
       "<div>\n",
       "<style scoped>\n",
       "    .dataframe tbody tr th:only-of-type {\n",
       "        vertical-align: middle;\n",
       "    }\n",
       "\n",
       "    .dataframe tbody tr th {\n",
       "        vertical-align: top;\n",
       "    }\n",
       "\n",
       "    .dataframe thead th {\n",
       "        text-align: right;\n",
       "    }\n",
       "</style>\n",
       "<table border=\"1\" class=\"dataframe\">\n",
       "  <thead>\n",
       "    <tr style=\"text-align: right;\">\n",
       "      <th></th>\n",
       "      <th>mean_fit_time</th>\n",
       "      <th>std_fit_time</th>\n",
       "      <th>mean_score_time</th>\n",
       "      <th>std_score_time</th>\n",
       "      <th>param_min_samples_leaf</th>\n",
       "      <th>param_max_depth</th>\n",
       "      <th>param_criterion</th>\n",
       "      <th>params</th>\n",
       "      <th>split0_test_score</th>\n",
       "      <th>split1_test_score</th>\n",
       "      <th>split2_test_score</th>\n",
       "      <th>split3_test_score</th>\n",
       "      <th>split4_test_score</th>\n",
       "      <th>mean_test_score</th>\n",
       "      <th>std_test_score</th>\n",
       "      <th>rank_test_score</th>\n",
       "    </tr>\n",
       "  </thead>\n",
       "  <tbody>\n",
       "    <tr>\n",
       "      <th>0</th>\n",
       "      <td>0.261611</td>\n",
       "      <td>0.037670</td>\n",
       "      <td>0.020445</td>\n",
       "      <td>0.00266</td>\n",
       "      <td>10</td>\n",
       "      <td>2</td>\n",
       "      <td>gini</td>\n",
       "      <td>{'min_samples_leaf': 10, 'max_depth': 2, 'crit...</td>\n",
       "      <td>0.753846</td>\n",
       "      <td>0.753846</td>\n",
       "      <td>0.754572</td>\n",
       "      <td>0.753609</td>\n",
       "      <td>0.753609</td>\n",
       "      <td>0.753896</td>\n",
       "      <td>0.000354</td>\n",
       "      <td>1</td>\n",
       "    </tr>\n",
       "    <tr>\n",
       "      <th>1</th>\n",
       "      <td>0.276702</td>\n",
       "      <td>0.021004</td>\n",
       "      <td>0.022340</td>\n",
       "      <td>0.00693</td>\n",
       "      <td>6</td>\n",
       "      <td>15</td>\n",
       "      <td>gini</td>\n",
       "      <td>{'min_samples_leaf': 6, 'max_depth': 15, 'crit...</td>\n",
       "      <td>0.753846</td>\n",
       "      <td>0.753846</td>\n",
       "      <td>0.754572</td>\n",
       "      <td>0.753609</td>\n",
       "      <td>0.753609</td>\n",
       "      <td>0.753896</td>\n",
       "      <td>0.000354</td>\n",
       "      <td>1</td>\n",
       "    </tr>\n",
       "    <tr>\n",
       "      <th>2</th>\n",
       "      <td>0.251123</td>\n",
       "      <td>0.008813</td>\n",
       "      <td>0.025493</td>\n",
       "      <td>0.00605</td>\n",
       "      <td>14</td>\n",
       "      <td>13</td>\n",
       "      <td>gini</td>\n",
       "      <td>{'min_samples_leaf': 14, 'max_depth': 13, 'cri...</td>\n",
       "      <td>0.753846</td>\n",
       "      <td>0.753846</td>\n",
       "      <td>0.754572</td>\n",
       "      <td>0.753609</td>\n",
       "      <td>0.753609</td>\n",
       "      <td>0.753896</td>\n",
       "      <td>0.000354</td>\n",
       "      <td>1</td>\n",
       "    </tr>\n",
       "  </tbody>\n",
       "</table>\n",
       "</div>"
      ],
      "text/plain": [
       "   mean_fit_time  std_fit_time  mean_score_time  std_score_time  \\\n",
       "0       0.261611      0.037670         0.020445         0.00266   \n",
       "1       0.276702      0.021004         0.022340         0.00693   \n",
       "2       0.251123      0.008813         0.025493         0.00605   \n",
       "\n",
       "  param_min_samples_leaf param_max_depth param_criterion  \\\n",
       "0                     10               2            gini   \n",
       "1                      6              15            gini   \n",
       "2                     14              13            gini   \n",
       "\n",
       "                                              params  split0_test_score  \\\n",
       "0  {'min_samples_leaf': 10, 'max_depth': 2, 'crit...           0.753846   \n",
       "1  {'min_samples_leaf': 6, 'max_depth': 15, 'crit...           0.753846   \n",
       "2  {'min_samples_leaf': 14, 'max_depth': 13, 'cri...           0.753846   \n",
       "\n",
       "   split1_test_score  split2_test_score  split3_test_score  split4_test_score  \\\n",
       "0           0.753846           0.754572           0.753609           0.753609   \n",
       "1           0.753846           0.754572           0.753609           0.753609   \n",
       "2           0.753846           0.754572           0.753609           0.753609   \n",
       "\n",
       "   mean_test_score  std_test_score  rank_test_score  \n",
       "0         0.753896        0.000354                1  \n",
       "1         0.753896        0.000354                1  \n",
       "2         0.753896        0.000354                1  "
      ]
     },
     "execution_count": 30,
     "metadata": {},
     "output_type": "execute_result"
    }
   ],
   "source": [
    "cv_resultDF.head(3)"
   ]
  },
  {
   "cell_type": "code",
   "execution_count": null,
   "metadata": {},
   "outputs": [],
   "source": []
  }
 ],
 "metadata": {
  "kernelspec": {
   "display_name": "ML_38",
   "language": "python",
   "name": "python3"
  },
  "language_info": {
   "codemirror_mode": {
    "name": "ipython",
    "version": 3
   },
   "file_extension": ".py",
   "mimetype": "text/x-python",
   "name": "python",
   "nbconvert_exporter": "python",
   "pygments_lexer": "ipython3",
   "version": "3.8.19"
  }
 },
 "nbformat": 4,
 "nbformat_minor": 2
}
