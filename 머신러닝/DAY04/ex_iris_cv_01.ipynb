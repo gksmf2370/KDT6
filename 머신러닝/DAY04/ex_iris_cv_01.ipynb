{
 "cells": [
  {
   "cell_type": "markdown",
   "metadata": {},
   "source": [
    "#### 붓꽃 품종 분류\n",
    "- 목표: 붗꽃의 3개 품종을 분류하기\n",
    "- 데이터셋 : 내장 데이터셋 \n",
    "- 피쳐 : 4개\n",
    "- 타겟 : 품종 1개\n",
    "- 학습 : 지도학습 > 분류"
   ]
  },
  {
   "cell_type": "markdown",
   "metadata": {},
   "source": [
    "[1] 데이터 준비"
   ]
  },
  {
   "cell_type": "code",
   "execution_count": 78,
   "metadata": {},
   "outputs": [],
   "source": [
    "# 모듈 로딩\n",
    "from sklearn.datasets import load_iris\n",
    "from sklearn.model_selection import train_test_split\n",
    "import pandas as pd \n",
    "import numpy as np\n",
    "import matplotlib.pyplot as plt"
   ]
  },
  {
   "cell_type": "code",
   "execution_count": 79,
   "metadata": {},
   "outputs": [],
   "source": [
    "# 내장 데이터셋 로딩\n",
    "data  = load_iris(as_frame=True)"
   ]
  },
  {
   "cell_type": "code",
   "execution_count": 80,
   "metadata": {},
   "outputs": [
    {
     "data": {
      "text/plain": [
       "dict_keys(['data', 'target', 'frame', 'target_names', 'DESCR', 'feature_names', 'filename', 'data_module'])"
      ]
     },
     "execution_count": 80,
     "metadata": {},
     "output_type": "execute_result"
    }
   ],
   "source": [
    "# Bunch 인스턴스 => dict와 유사한 형태\n",
    "data.keys()"
   ]
  },
  {
   "cell_type": "code",
   "execution_count": 81,
   "metadata": {},
   "outputs": [],
   "source": [
    "featureDF = data['data']\n",
    "targetSR = data['target']"
   ]
  },
  {
   "cell_type": "code",
   "execution_count": 82,
   "metadata": {},
   "outputs": [
    {
     "data": {
      "text/plain": [
       "((150, 4), (150,))"
      ]
     },
     "execution_count": 82,
     "metadata": {},
     "output_type": "execute_result"
    }
   ],
   "source": [
    "featureDF.shape, targetSR.shape"
   ]
  },
  {
   "cell_type": "markdown",
   "metadata": {},
   "source": [
    "[2] 학습을 위한 데이터 셋 준비 => 학습용,검증용,테스트용"
   ]
  },
  {
   "cell_type": "code",
   "execution_count": 83,
   "metadata": {},
   "outputs": [],
   "source": [
    "# 학습용 & 테스트용 분리\n",
    "X_train,X_test,y_train,y_test = train_test_split(featureDF,\n",
    "                                                 targetSR,\n",
    "                                                 stratify = targetSR)"
   ]
  },
  {
   "cell_type": "code",
   "execution_count": 84,
   "metadata": {},
   "outputs": [],
   "source": [
    "# 학습용 & 검증용 분리\n",
    "X_train,X_val,y_train,y_val = train_test_split(X_train,\n",
    "                                                 y_train,\n",
    "                                                 stratify = y_train)"
   ]
  },
  {
   "cell_type": "code",
   "execution_count": 85,
   "metadata": {},
   "outputs": [
    {
     "name": "stdout",
     "output_type": "stream",
     "text": [
      "Train DS : 84 0.56%\n",
      "val DS : 28 0.19%\n",
      "test DS : 38 0.25%\n"
     ]
    }
   ],
   "source": [
    "print(f'Train DS : {X_train.shape[0]} {X_train.shape[0]/featureDF.shape[0]}%')\n",
    "print(f'val DS : {X_val.shape[0]} {X_val.shape[0]/featureDF.shape[0]:.2f}%')\n",
    "print(f'test DS : {X_test.shape[0]} {X_test.shape[0]/featureDF.shape[0]:.2f}%')"
   ]
  },
  {
   "cell_type": "markdown",
   "metadata": {},
   "source": [
    "[3] 교차검증 방식"
   ]
  },
  {
   "cell_type": "code",
   "execution_count": 86,
   "metadata": {},
   "outputs": [],
   "source": [
    "from sklearn.model_selection import KFold,StratifiedKFold\n",
    "from sklearn.tree import DecisionTreeClassifier"
   ]
  },
  {
   "cell_type": "code",
   "execution_count": 87,
   "metadata": {},
   "outputs": [],
   "source": [
    "# 모델 인스턴스 생성\n",
    "dtc_model = DecisionTreeClassifier()\n",
    "\n",
    "#[3-1] Kfold 기반 ----------\n",
    "# 정확도 저장 리스트\n",
    "accuracys = []\n",
    "\n",
    "# Kfold 인스턴스 생성 [기본 k=5]\n",
    "kfold = KFold()"
   ]
  },
  {
   "cell_type": "code",
   "execution_count": 88,
   "metadata": {},
   "outputs": [
    {
     "name": "stdout",
     "output_type": "stream",
     "text": [
      "[1번째] Train 정확도 : 1.0    Val 정확도 : 1.0\n",
      "[2번째] Train 정확도 : 1.0    Val 정확도 : 1.0\n",
      "[3번째] Train 정확도 : 1.0    Val 정확도 : 0.8666666666666667\n",
      "[4번째] Train 정확도 : 1.0    Val 정확도 : 0.9333333333333333\n",
      "[5번째] Train 정확도 : 1.0    Val 정확도 : 0.8\n"
     ]
    }
   ],
   "source": [
    "# k번 만큼 학습 진행\n",
    "# -> k 등분 후 학습용 데이터셋 인덱스, 검증용 데이터셋 인덱스\n",
    "for idx,(train_index,val_index) in enumerate(kfold.split(featureDF),1):\n",
    "\n",
    "    # print(f'train_index: {train_index.tolist()}')\n",
    "\n",
    "    # X_train,X_val 데이터셋 설정\n",
    "    X_train,y_train = featureDF.iloc[train_index.tolist()],targetSR[train_index.tolist()]\n",
    "    X_val,y_val = featureDF.iloc[val_index.tolist()],targetSR[val_index.tolist()]\n",
    "\n",
    "    # 학습 진행\n",
    "    dtc_model.fit(X_train,y_train)\n",
    "\n",
    "    # 평가 => 분류의 경우 score()메서드 -> 정확도 반환\n",
    "    train_acc = dtc_model.score(X_train,y_train)\n",
    "    val_acc = dtc_model.score(X_val,y_val)\n",
    "\n",
    "    accuracys.append([train_acc,val_acc])\n",
    "    print(f'[{idx}번째] Train 정확도 : {train_acc}    Val 정확도 : {val_acc}')"
   ]
  },
  {
   "cell_type": "code",
   "execution_count": 89,
   "metadata": {},
   "outputs": [
    {
     "data": {
      "text/plain": [
       "[[1.0, 1.0],\n",
       " [1.0, 1.0],\n",
       " [1.0, 0.8666666666666667],\n",
       " [1.0, 0.9333333333333333],\n",
       " [1.0, 0.8]]"
      ]
     },
     "execution_count": 89,
     "metadata": {},
     "output_type": "execute_result"
    }
   ],
   "source": [
    "accuracys"
   ]
  },
  {
   "cell_type": "code",
   "execution_count": 90,
   "metadata": {},
   "outputs": [
    {
     "data": {
      "text/plain": [
       "5"
      ]
     },
     "execution_count": 90,
     "metadata": {},
     "output_type": "execute_result"
    }
   ],
   "source": [
    "kfold.n_splits"
   ]
  },
  {
   "cell_type": "code",
   "execution_count": 91,
   "metadata": {},
   "outputs": [],
   "source": [
    "# 평균 계산\n",
    "train_mean = sum([value[0] for value in accuracys])/kfold.n_splits\n",
    "test_mean = sum([value[1] for value in accuracys])/kfold.n_splits"
   ]
  },
  {
   "cell_type": "code",
   "execution_count": 92,
   "metadata": {},
   "outputs": [
    {
     "name": "stdout",
     "output_type": "stream",
     "text": [
      "Train 정확도 : 1.0   val 정확도 : 0.92\n"
     ]
    }
   ],
   "source": [
    "print(f'Train 정확도 : {train_mean}   val 정확도 : {test_mean:.2f}')"
   ]
  },
  {
   "cell_type": "code",
   "execution_count": 93,
   "metadata": {},
   "outputs": [
    {
     "name": "stdout",
     "output_type": "stream",
     "text": [
      "[1번째] Train 정확도 : 1.0    Val 정확도 : 0.9666666666666667\n",
      "[2번째] Train 정확도 : 1.0    Val 정확도 : 0.9666666666666667\n",
      "[3번째] Train 정확도 : 1.0    Val 정확도 : 0.9\n",
      "[4번째] Train 정확도 : 1.0    Val 정확도 : 1.0\n",
      "[5번째] Train 정확도 : 1.0    Val 정확도 : 1.0\n"
     ]
    }
   ],
   "source": [
    "#### ===> [3-2] StratifiedKFold : 정답 /레이블 / 타겟의 데이터 비율 고려해서 데이터 나눔\n",
    "\n",
    "accuracys = []\n",
    "\n",
    "# Kfold 인스턴스 생성 [기본 k=5]\n",
    "skfold = StratifiedKFold()\n",
    "\n",
    "\n",
    "# k번 만큼 k개 데이터셋으로 학습 진행\n",
    "# -> k 등분 후 학습용 데이터셋 인덱스, 검증용 데이터셋 인덱스\n",
    "for idx,(train_index,val_index) in enumerate(skfold.split(featureDF,targetSR),1):\n",
    "\n",
    "    # print(f'train_index: {train_index.tolist()}')\n",
    "\n",
    "    # X_train,X_val 데이터셋 설정\n",
    "    X_train,y_train = featureDF.iloc[train_index.tolist()],targetSR[train_index.tolist()]\n",
    "    X_val,y_val = featureDF.iloc[val_index.tolist()],targetSR[val_index.tolist()]\n",
    "\n",
    "    # 학습 진행\n",
    "    dtc_model.fit(X_train,y_train)\n",
    "\n",
    "    # 평가 => 분류의 경우 score()메서드 -> 정확도 반환\n",
    "    train_acc = dtc_model.score(X_train,y_train)\n",
    "    val_acc = dtc_model.score(X_val,y_val)\n",
    "\n",
    "    accuracys.append([train_acc,val_acc])\n",
    "    print(f'[{idx}번째] Train 정확도 : {train_acc}    Val 정확도 : {val_acc}')"
   ]
  },
  {
   "cell_type": "code",
   "execution_count": 94,
   "metadata": {},
   "outputs": [],
   "source": [
    "# 평균 계산\n",
    "train_mean = sum([value[0] for value in accuracys])/skfold.n_splits\n",
    "test_mean = sum([value[1] for value in accuracys])/skfold.n_splits"
   ]
  },
  {
   "cell_type": "code",
   "execution_count": 95,
   "metadata": {},
   "outputs": [
    {
     "name": "stdout",
     "output_type": "stream",
     "text": [
      "Train 정확도 : 1.0   val 정확도 : 0.97\n"
     ]
    }
   ],
   "source": [
    "print(f'Train 정확도 : {train_mean}   val 정확도 : {test_mean:.2f}')        "
   ]
  },
  {
   "cell_type": "markdown",
   "metadata": {},
   "source": [
    "- 교차검증 및 성능평가 동시 진행 함수 \n",
    "* => cross_val_score,cross_val_predict\n",
    "* => cross_validate"
   ]
  },
  {
   "cell_type": "code",
   "execution_count": 96,
   "metadata": {},
   "outputs": [],
   "source": [
    "from sklearn.model_selection import cross_val_predict,cross_val_score,cross_validate"
   ]
  },
  {
   "cell_type": "code",
   "execution_count": 97,
   "metadata": {},
   "outputs": [],
   "source": [
    "### 전체 DS => 학습용과 테스트용 DS 분리\n",
    "X_train,X_test,y_train,y_test = train_test_split(featureDF,\n",
    "                                                 targetSR,\n",
    "                                                 stratify = targetSR)"
   ]
  },
  {
   "cell_type": "code",
   "execution_count": 98,
   "metadata": {},
   "outputs": [],
   "source": [
    "#### cross_val_predicts\n",
    "precict = cross_val_predict(dtc_model,X_train,y_train,cv=3)"
   ]
  },
  {
   "cell_type": "code",
   "execution_count": 99,
   "metadata": {},
   "outputs": [
    {
     "name": "stdout",
     "output_type": "stream",
     "text": [
      "precict : [0 2 0 2 2 0 0 2 2 0 2 1 0 0 1 0 2 2 0 0 0 1 0 2 2 0 2 2 1 0 2 2 2 1 0 2 2\n",
      " 0 1 0 2 1 0 0 2 0 0 2 2 0 1 2 1 0 2 1 2 0 1 1 2 1 2 0 1 2 1 1 0 1 2 0 1 2\n",
      " 2 1 0 2 1 1 2 2 1 2 2 1 0 2 0 1 0 0 2 1 2 1 0 1 1 0 1 0 1 0 0 2 2 1 1 1 1\n",
      " 1]\n"
     ]
    }
   ],
   "source": [
    "print(f'precict : {precict}')"
   ]
  },
  {
   "cell_type": "code",
   "execution_count": 100,
   "metadata": {},
   "outputs": [],
   "source": [
    "#### cross_val_score\n",
    "precict = cross_val_score(dtc_model,X_train,y_train,cv=3)"
   ]
  },
  {
   "cell_type": "code",
   "execution_count": 101,
   "metadata": {},
   "outputs": [
    {
     "name": "stdout",
     "output_type": "stream",
     "text": [
      "precict : [0.92105263 0.94594595 0.94594595]\n"
     ]
    }
   ],
   "source": [
    "print(f'precict : {precict}')"
   ]
  },
  {
   "cell_type": "code",
   "execution_count": 102,
   "metadata": {},
   "outputs": [],
   "source": [
    "### cross_validate\n",
    "result = cross_validate(dtc_model,X_train,y_train,\n",
    "                        return_train_score=True,\n",
    "                        return_estimator = True)"
   ]
  },
  {
   "cell_type": "code",
   "execution_count": 103,
   "metadata": {},
   "outputs": [
    {
     "data": {
      "text/plain": [
       "{'fit_time': array([0.        , 0.        , 0.00200081, 0.00099587, 0.00099659]),\n",
       " 'score_time': array([0.        , 0.0084362 , 0.00098848, 0.00099611, 0.00099015]),\n",
       " 'estimator': [DecisionTreeClassifier(),\n",
       "  DecisionTreeClassifier(),\n",
       "  DecisionTreeClassifier(),\n",
       "  DecisionTreeClassifier(),\n",
       "  DecisionTreeClassifier()],\n",
       " 'test_score': array([0.91304348, 0.91304348, 0.95454545, 0.95454545, 0.95454545]),\n",
       " 'train_score': array([1., 1., 1., 1., 1.])}"
      ]
     },
     "execution_count": 103,
     "metadata": {},
     "output_type": "execute_result"
    }
   ],
   "source": [
    "result"
   ]
  },
  {
   "cell_type": "code",
   "execution_count": 104,
   "metadata": {},
   "outputs": [],
   "source": [
    "resultDF = pd.DataFrame(result).loc[:,['test_score','train_score']]"
   ]
  },
  {
   "cell_type": "code",
   "execution_count": 105,
   "metadata": {},
   "outputs": [
    {
     "data": {
      "text/html": [
       "<div>\n",
       "<style scoped>\n",
       "    .dataframe tbody tr th:only-of-type {\n",
       "        vertical-align: middle;\n",
       "    }\n",
       "\n",
       "    .dataframe tbody tr th {\n",
       "        vertical-align: top;\n",
       "    }\n",
       "\n",
       "    .dataframe thead th {\n",
       "        text-align: right;\n",
       "    }\n",
       "</style>\n",
       "<table border=\"1\" class=\"dataframe\">\n",
       "  <thead>\n",
       "    <tr style=\"text-align: right;\">\n",
       "      <th></th>\n",
       "      <th>test_score</th>\n",
       "      <th>train_score</th>\n",
       "    </tr>\n",
       "  </thead>\n",
       "  <tbody>\n",
       "    <tr>\n",
       "      <th>0</th>\n",
       "      <td>0.913043</td>\n",
       "      <td>1.0</td>\n",
       "    </tr>\n",
       "    <tr>\n",
       "      <th>1</th>\n",
       "      <td>0.913043</td>\n",
       "      <td>1.0</td>\n",
       "    </tr>\n",
       "    <tr>\n",
       "      <th>2</th>\n",
       "      <td>0.954545</td>\n",
       "      <td>1.0</td>\n",
       "    </tr>\n",
       "    <tr>\n",
       "      <th>3</th>\n",
       "      <td>0.954545</td>\n",
       "      <td>1.0</td>\n",
       "    </tr>\n",
       "    <tr>\n",
       "      <th>4</th>\n",
       "      <td>0.954545</td>\n",
       "      <td>1.0</td>\n",
       "    </tr>\n",
       "  </tbody>\n",
       "</table>\n",
       "</div>"
      ],
      "text/plain": [
       "   test_score  train_score\n",
       "0    0.913043          1.0\n",
       "1    0.913043          1.0\n",
       "2    0.954545          1.0\n",
       "3    0.954545          1.0\n",
       "4    0.954545          1.0"
      ]
     },
     "execution_count": 105,
     "metadata": {},
     "output_type": "execute_result"
    }
   ],
   "source": [
    "resultDF"
   ]
  },
  {
   "cell_type": "code",
   "execution_count": 107,
   "metadata": {},
   "outputs": [],
   "source": [
    "# 가장 성능이 좋은 모델 뽑기 \n",
    "best_model = result['estimator'][2]"
   ]
  },
  {
   "cell_type": "code",
   "execution_count": 108,
   "metadata": {},
   "outputs": [
    {
     "data": {
      "text/plain": [
       "array([2, 2, 0, 1, 2, 2, 0, 1, 1, 1, 2, 2, 0, 0, 1, 2, 0, 1, 0, 0, 2, 1,\n",
       "       0, 2, 1, 2, 1, 1, 2, 2, 1, 0, 0, 0, 0, 1, 2, 0])"
      ]
     },
     "execution_count": 108,
     "metadata": {},
     "output_type": "execute_result"
    }
   ],
   "source": [
    "best_model.predict(X_test)"
   ]
  },
  {
   "cell_type": "code",
   "execution_count": 109,
   "metadata": {},
   "outputs": [
    {
     "data": {
      "text/plain": [
       "1.0"
      ]
     },
     "execution_count": 109,
     "metadata": {},
     "output_type": "execute_result"
    }
   ],
   "source": [
    "best_model.score(X_test,y_test)"
   ]
  },
  {
   "cell_type": "code",
   "execution_count": null,
   "metadata": {},
   "outputs": [],
   "source": []
  }
 ],
 "metadata": {
  "kernelspec": {
   "display_name": "ML_38",
   "language": "python",
   "name": "python3"
  },
  "language_info": {
   "codemirror_mode": {
    "name": "ipython",
    "version": 3
   },
   "file_extension": ".py",
   "mimetype": "text/x-python",
   "name": "python",
   "nbconvert_exporter": "python",
   "pygments_lexer": "ipython3",
   "version": "3.8.19"
  }
 },
 "nbformat": 4,
 "nbformat_minor": 2
}
