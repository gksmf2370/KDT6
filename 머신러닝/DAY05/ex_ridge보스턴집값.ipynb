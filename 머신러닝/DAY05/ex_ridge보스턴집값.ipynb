{
 "cells": [
  {
   "cell_type": "markdown",
   "metadata": {},
   "source": [
    "#### 보스턴 집값 예측 모델\n",
    "- 데이터셋 : boston.csv\n",
    "- 목적 : 보스턴 집값 예측\n",
    "- 학습방법 : 지도학습 - 회귀\n",
    "- 피쳐/독립 : 13개\n",
    "- 타겟 : 1개\n"
   ]
  },
  {
   "cell_type": "markdown",
   "metadata": {
    "vscode": {
     "languageId": "plaintext"
    }
   },
   "source": [
    "[1] 모듈준비"
   ]
  },
  {
   "cell_type": "code",
   "execution_count": 60,
   "metadata": {},
   "outputs": [],
   "source": [
    "import pandas as pd\n",
    "import numpy as np\n",
    "from sklearn.preprocessing import StandardScaler, MinMaxScaler, RobustScaler\n",
    "from sklearn.model_selection import train_test_split"
   ]
  },
  {
   "cell_type": "markdown",
   "metadata": {},
   "source": [
    "[2] 데이터 준비"
   ]
  },
  {
   "cell_type": "code",
   "execution_count": 61,
   "metadata": {},
   "outputs": [],
   "source": [
    "file_path = '../data/boston.csv'"
   ]
  },
  {
   "cell_type": "code",
   "execution_count": 62,
   "metadata": {},
   "outputs": [
    {
     "data": {
      "text/html": [
       "<div>\n",
       "<style scoped>\n",
       "    .dataframe tbody tr th:only-of-type {\n",
       "        vertical-align: middle;\n",
       "    }\n",
       "\n",
       "    .dataframe tbody tr th {\n",
       "        vertical-align: top;\n",
       "    }\n",
       "\n",
       "    .dataframe thead th {\n",
       "        text-align: right;\n",
       "    }\n",
       "</style>\n",
       "<table border=\"1\" class=\"dataframe\">\n",
       "  <thead>\n",
       "    <tr style=\"text-align: right;\">\n",
       "      <th></th>\n",
       "      <th>CRIM</th>\n",
       "      <th>ZN</th>\n",
       "      <th>INDUS</th>\n",
       "      <th>CHAS</th>\n",
       "      <th>NOX</th>\n",
       "      <th>RM</th>\n",
       "      <th>AGE</th>\n",
       "      <th>DIS</th>\n",
       "      <th>RAD</th>\n",
       "      <th>TAX</th>\n",
       "      <th>PTRATIO</th>\n",
       "      <th>B</th>\n",
       "      <th>LSTAT</th>\n",
       "      <th>MEDV</th>\n",
       "    </tr>\n",
       "  </thead>\n",
       "  <tbody>\n",
       "    <tr>\n",
       "      <th>0</th>\n",
       "      <td>0.00632</td>\n",
       "      <td>18.0</td>\n",
       "      <td>2.31</td>\n",
       "      <td>0</td>\n",
       "      <td>0.538</td>\n",
       "      <td>6.575</td>\n",
       "      <td>65.2</td>\n",
       "      <td>4.0900</td>\n",
       "      <td>1</td>\n",
       "      <td>296.0</td>\n",
       "      <td>15.3</td>\n",
       "      <td>396.9</td>\n",
       "      <td>4.98</td>\n",
       "      <td>24.0</td>\n",
       "    </tr>\n",
       "    <tr>\n",
       "      <th>1</th>\n",
       "      <td>0.02731</td>\n",
       "      <td>0.0</td>\n",
       "      <td>7.07</td>\n",
       "      <td>0</td>\n",
       "      <td>0.469</td>\n",
       "      <td>6.421</td>\n",
       "      <td>78.9</td>\n",
       "      <td>4.9671</td>\n",
       "      <td>2</td>\n",
       "      <td>242.0</td>\n",
       "      <td>17.8</td>\n",
       "      <td>396.9</td>\n",
       "      <td>9.14</td>\n",
       "      <td>21.6</td>\n",
       "    </tr>\n",
       "  </tbody>\n",
       "</table>\n",
       "</div>"
      ],
      "text/plain": [
       "      CRIM    ZN  INDUS  CHAS    NOX     RM   AGE     DIS  RAD    TAX  \\\n",
       "0  0.00632  18.0   2.31     0  0.538  6.575  65.2  4.0900    1  296.0   \n",
       "1  0.02731   0.0   7.07     0  0.469  6.421  78.9  4.9671    2  242.0   \n",
       "\n",
       "   PTRATIO      B  LSTAT  MEDV  \n",
       "0     15.3  396.9   4.98  24.0  \n",
       "1     17.8  396.9   9.14  21.6  "
      ]
     },
     "execution_count": 62,
     "metadata": {},
     "output_type": "execute_result"
    }
   ],
   "source": [
    "dataDF = pd.read_csv(file_path)\n",
    "dataDF.head(2)"
   ]
  },
  {
   "cell_type": "code",
   "execution_count": 63,
   "metadata": {},
   "outputs": [
    {
     "name": "stdout",
     "output_type": "stream",
     "text": [
      "<class 'pandas.core.frame.DataFrame'>\n",
      "RangeIndex: 506 entries, 0 to 505\n",
      "Data columns (total 14 columns):\n",
      " #   Column   Non-Null Count  Dtype  \n",
      "---  ------   --------------  -----  \n",
      " 0   CRIM     506 non-null    float64\n",
      " 1   ZN       506 non-null    float64\n",
      " 2   INDUS    506 non-null    float64\n",
      " 3   CHAS     506 non-null    int64  \n",
      " 4   NOX      506 non-null    float64\n",
      " 5   RM       506 non-null    float64\n",
      " 6   AGE      506 non-null    float64\n",
      " 7   DIS      506 non-null    float64\n",
      " 8   RAD      506 non-null    int64  \n",
      " 9   TAX      506 non-null    float64\n",
      " 10  PTRATIO  506 non-null    float64\n",
      " 11  B        506 non-null    float64\n",
      " 12  LSTAT    506 non-null    float64\n",
      " 13  MEDV     506 non-null    float64\n",
      "dtypes: float64(12), int64(2)\n",
      "memory usage: 55.5 KB\n"
     ]
    }
   ],
   "source": [
    "dataDF.info()"
   ]
  },
  {
   "cell_type": "markdown",
   "metadata": {},
   "source": [
    "[3] 전처리"
   ]
  },
  {
   "cell_type": "markdown",
   "metadata": {},
   "source": [
    "[3-1] 데이터 정제"
   ]
  },
  {
   "cell_type": "markdown",
   "metadata": {},
   "source": [
    "- 결측치, 중복값, 이상치, 컬럼별 고유값 추출로 이상 데이터 체크"
   ]
  },
  {
   "cell_type": "markdown",
   "metadata": {},
   "source": [
    "[3-2] 표준화 & 정규화   ===> 진행 여부에 따라 성능의 변화는 데이터마다 다르다.\n",
    "    * 정규분포 데이터셋을 기반으로 한 모델 ==> StandardScaler, MinMaxScaler. Log 변환\n",
    "    * 피쳐의 값의 범위 차이를 줄이기 ==> 피쳐 스케일링, MinMaxScaler, RobustScaler\n",
    "    * 범주형 피쳐 ==> 수치화 인코딩 OneHotEncoder, OrdinalEncoder\n",
    "    * 문자열 타겟 ==> 정수 라벨인코딩 LabelEncoder"
   ]
  },
  {
   "cell_type": "markdown",
   "metadata": {},
   "source": [
    "[3-3] 피쳐와 타겟 분리"
   ]
  },
  {
   "cell_type": "code",
   "execution_count": 64,
   "metadata": {},
   "outputs": [],
   "source": [
    "featureDF=dataDF.iloc[:, :-1]\n",
    "targetSR=dataDF['MEDV']"
   ]
  },
  {
   "cell_type": "code",
   "execution_count": 65,
   "metadata": {},
   "outputs": [
    {
     "name": "stdout",
     "output_type": "stream",
     "text": [
      "featureDF : (506, 13) targetSR: (506,)\n"
     ]
    }
   ],
   "source": [
    "print(f'featureDF : {featureDF.shape} targetSR: {targetSR.shape}')"
   ]
  },
  {
   "cell_type": "markdown",
   "metadata": {},
   "source": [
    "[4] 학습 준비"
   ]
  },
  {
   "cell_type": "markdown",
   "metadata": {},
   "source": [
    "[3-1] 학습/테스트용 데이터셋 분리"
   ]
  },
  {
   "cell_type": "code",
   "execution_count": 66,
   "metadata": {},
   "outputs": [],
   "source": [
    "X_train, X_test, y_train, y_test = train_test_split(featureDF, targetSR, random_state=10)"
   ]
  },
  {
   "cell_type": "code",
   "execution_count": 67,
   "metadata": {},
   "outputs": [
    {
     "name": "stdout",
     "output_type": "stream",
     "text": [
      "X_train : (379, 13) y_train : (379,)\n",
      "X_test : (127, 13) y_test : (127,)\n"
     ]
    }
   ],
   "source": [
    "print(f'X_train : {X_train.shape} y_train : {y_train.shape}')\n",
    "print(f'X_test : {X_test.shape} y_test : {y_test.shape}')"
   ]
  },
  {
   "cell_type": "markdown",
   "metadata": {},
   "source": [
    "[3-2] 학습용 데이터셋으로 스케일러 생성"
   ]
  },
  {
   "cell_type": "code",
   "execution_count": 68,
   "metadata": {},
   "outputs": [
    {
     "data": {
      "text/html": [
       "<style>#sk-container-id-3 {color: black;}#sk-container-id-3 pre{padding: 0;}#sk-container-id-3 div.sk-toggleable {background-color: white;}#sk-container-id-3 label.sk-toggleable__label {cursor: pointer;display: block;width: 100%;margin-bottom: 0;padding: 0.3em;box-sizing: border-box;text-align: center;}#sk-container-id-3 label.sk-toggleable__label-arrow:before {content: \"▸\";float: left;margin-right: 0.25em;color: #696969;}#sk-container-id-3 label.sk-toggleable__label-arrow:hover:before {color: black;}#sk-container-id-3 div.sk-estimator:hover label.sk-toggleable__label-arrow:before {color: black;}#sk-container-id-3 div.sk-toggleable__content {max-height: 0;max-width: 0;overflow: hidden;text-align: left;background-color: #f0f8ff;}#sk-container-id-3 div.sk-toggleable__content pre {margin: 0.2em;color: black;border-radius: 0.25em;background-color: #f0f8ff;}#sk-container-id-3 input.sk-toggleable__control:checked~div.sk-toggleable__content {max-height: 200px;max-width: 100%;overflow: auto;}#sk-container-id-3 input.sk-toggleable__control:checked~label.sk-toggleable__label-arrow:before {content: \"▾\";}#sk-container-id-3 div.sk-estimator input.sk-toggleable__control:checked~label.sk-toggleable__label {background-color: #d4ebff;}#sk-container-id-3 div.sk-label input.sk-toggleable__control:checked~label.sk-toggleable__label {background-color: #d4ebff;}#sk-container-id-3 input.sk-hidden--visually {border: 0;clip: rect(1px 1px 1px 1px);clip: rect(1px, 1px, 1px, 1px);height: 1px;margin: -1px;overflow: hidden;padding: 0;position: absolute;width: 1px;}#sk-container-id-3 div.sk-estimator {font-family: monospace;background-color: #f0f8ff;border: 1px dotted black;border-radius: 0.25em;box-sizing: border-box;margin-bottom: 0.5em;}#sk-container-id-3 div.sk-estimator:hover {background-color: #d4ebff;}#sk-container-id-3 div.sk-parallel-item::after {content: \"\";width: 100%;border-bottom: 1px solid gray;flex-grow: 1;}#sk-container-id-3 div.sk-label:hover label.sk-toggleable__label {background-color: #d4ebff;}#sk-container-id-3 div.sk-serial::before {content: \"\";position: absolute;border-left: 1px solid gray;box-sizing: border-box;top: 0;bottom: 0;left: 50%;z-index: 0;}#sk-container-id-3 div.sk-serial {display: flex;flex-direction: column;align-items: center;background-color: white;padding-right: 0.2em;padding-left: 0.2em;position: relative;}#sk-container-id-3 div.sk-item {position: relative;z-index: 1;}#sk-container-id-3 div.sk-parallel {display: flex;align-items: stretch;justify-content: center;background-color: white;position: relative;}#sk-container-id-3 div.sk-item::before, #sk-container-id-3 div.sk-parallel-item::before {content: \"\";position: absolute;border-left: 1px solid gray;box-sizing: border-box;top: 0;bottom: 0;left: 50%;z-index: -1;}#sk-container-id-3 div.sk-parallel-item {display: flex;flex-direction: column;z-index: 1;position: relative;background-color: white;}#sk-container-id-3 div.sk-parallel-item:first-child::after {align-self: flex-end;width: 50%;}#sk-container-id-3 div.sk-parallel-item:last-child::after {align-self: flex-start;width: 50%;}#sk-container-id-3 div.sk-parallel-item:only-child::after {width: 0;}#sk-container-id-3 div.sk-dashed-wrapped {border: 1px dashed gray;margin: 0 0.4em 0.5em 0.4em;box-sizing: border-box;padding-bottom: 0.4em;background-color: white;}#sk-container-id-3 div.sk-label label {font-family: monospace;font-weight: bold;display: inline-block;line-height: 1.2em;}#sk-container-id-3 div.sk-label-container {text-align: center;}#sk-container-id-3 div.sk-container {/* jupyter's `normalize.less` sets `[hidden] { display: none; }` but bootstrap.min.css set `[hidden] { display: none !important; }` so we also need the `!important` here to be able to override the default hidden behavior on the sphinx rendered scikit-learn.org. See: https://github.com/scikit-learn/scikit-learn/issues/21755 */display: inline-block !important;position: relative;}#sk-container-id-3 div.sk-text-repr-fallback {display: none;}</style><div id=\"sk-container-id-3\" class=\"sk-top-container\"><div class=\"sk-text-repr-fallback\"><pre>StandardScaler()</pre><b>In a Jupyter environment, please rerun this cell to show the HTML representation or trust the notebook. <br />On GitHub, the HTML representation is unable to render, please try loading this page with nbviewer.org.</b></div><div class=\"sk-container\" hidden><div class=\"sk-item\"><div class=\"sk-estimator sk-toggleable\"><input class=\"sk-toggleable__control sk-hidden--visually\" id=\"sk-estimator-id-3\" type=\"checkbox\" checked><label for=\"sk-estimator-id-3\" class=\"sk-toggleable__label sk-toggleable__label-arrow\">StandardScaler</label><div class=\"sk-toggleable__content\"><pre>StandardScaler()</pre></div></div></div></div></div>"
      ],
      "text/plain": [
       "StandardScaler()"
      ]
     },
     "execution_count": 68,
     "metadata": {},
     "output_type": "execute_result"
    }
   ],
   "source": [
    "### - 수치 피쳐 값의 범위 차가 큼 ==> Scaling 진행\n",
    "ssScaler = StandardScaler()\n",
    "\n",
    "ssScaler.fit(X_train)\n"
   ]
  },
  {
   "cell_type": "code",
   "execution_count": 69,
   "metadata": {},
   "outputs": [],
   "source": [
    "X_train_scaled=ssScaler.transform(X_train)\n",
    "X_test_scaled = ssScaler.transform(X_test)"
   ]
  },
  {
   "cell_type": "markdown",
   "metadata": {},
   "source": [
    "[4] 학습 진행 ==> 교차검증으로 진행"
   ]
  },
  {
   "cell_type": "code",
   "execution_count": 70,
   "metadata": {},
   "outputs": [],
   "source": [
    "from sklearn.model_selection import cross_validate\n",
    "from sklearn.linear_model import Ridge, Lasso"
   ]
  },
  {
   "cell_type": "code",
   "execution_count": 71,
   "metadata": {},
   "outputs": [
    {
     "name": "stdout",
     "output_type": "stream",
     "text": [
      "[-1.41407793  1.56590993  0.15536906  0.65522098 -2.36200159  2.31948624\n",
      "  0.1173831  -3.59071105  2.71475429 -2.33252925 -1.88390034  1.04036915\n",
      " -3.50250877]\n",
      "[Ride(alpha=0.0)]\n",
      "    test_r2  train_r2      diff\n",
      "0  0.747022  0.755720  0.008699\n",
      "1  0.756482  0.740082  0.016400\n",
      "2  0.680801  0.786156  0.105355\n",
      "\n",
      "[-1.39035961  1.53043843  0.11109741  0.6621853  -2.29024619  2.34249774\n",
      "  0.10030677 -3.52062389  2.57481444 -2.20749462 -1.86406784  1.03607796\n",
      " -3.48102887]\n",
      "[Ride(alpha=1.0)]\n",
      "    test_r2  train_r2      diff\n",
      "0  0.748283  0.755663  0.007380\n",
      "1  0.756292  0.740039  0.016253\n",
      "2  0.680991  0.786097  0.105106\n",
      "\n",
      "[-1.23221033  1.29302258 -0.12737786  0.70280521 -1.80949922  2.48028701\n",
      " -0.00860666 -2.99831755  1.75466332 -1.51704375 -1.73434856  1.00368486\n",
      " -3.30809117]\n",
      "[Ride(alpha=10)]\n",
      "    test_r2  train_r2      diff\n",
      "0  0.753103  0.752474  0.000629\n",
      "1  0.755100  0.737457  0.017643\n",
      "2  0.677471  0.783225  0.105755\n",
      "\n",
      "[-0.78141029  0.70910255 -0.46407849  0.72503917 -0.69294458  2.41757287\n",
      " -0.24148703 -1.21831206  0.28616643 -0.63423538 -1.31602563  0.78528977\n",
      " -2.39571659]\n",
      "[Ride(alpha=100)]\n",
      "    test_r2  train_r2      diff\n",
      "0  0.724036  0.708269  0.015767\n",
      "1  0.725993  0.686628  0.039365\n",
      "2  0.627335  0.744452  0.117117\n",
      "\n"
     ]
    }
   ],
   "source": [
    "### 모델의 성능을 좌우하는 Hyper-parameter 제어 즉, 튜닝\n",
    "alpha_values=[0., 1.,  10, 100]\n",
    "\n",
    "for value in alpha_values:\n",
    "    # 모델 인스턴스 생성\n",
    "    ridge_model = Ridge(alpha=value)    # 기본값 1.0   여기서 alpha가 hyper=parameter\n",
    "    # 학습 진행\n",
    "    # - csv : 3개\n",
    "    # - scoring : 'mean_squared_error', 'r2'\n",
    "    # - return_train_score\n",
    "    result=cross_validate(ridge_model, X_train_scaled, y_train, cv=3, \n",
    "                        scoring=['neg_mean_squared_error', 'r2'],return_train_score=True,\n",
    "                        return_estimator=True)\n",
    "\n",
    "    resultDF=pd.DataFrame(result)[['test_r2', 'train_r2']]\n",
    "    resultDF['diff'] = abs(resultDF['test_r2']-resultDF['train_r2'])\n",
    "    best_idx=resultDF['diff'].sort_values()[0]\n",
    "    \n",
    "    print(result['estimator'][0].coef_)\n",
    "    print(f'[Ride(alpha={value})]')\n",
    "    print(resultDF, end='\\n\\n')"
   ]
  },
  {
   "cell_type": "code",
   "execution_count": 72,
   "metadata": {},
   "outputs": [
    {
     "name": "stdout",
     "output_type": "stream",
     "text": [
      "[-1.41407793  1.56590993  0.15536906  0.65522098 -2.36200159  2.31948624\n",
      "  0.1173831  -3.59071105  2.71475429 -2.33252925 -1.88390034  1.04036915\n",
      " -3.50250877]\n",
      "[Ride(alpha=0.0)]\n",
      "    test_r2  train_r2      diff\n",
      "0  0.747022  0.755720  0.008699\n",
      "1  0.756482  0.740082  0.016400\n",
      "2  0.680801  0.786156  0.105355\n",
      "\n",
      "[-1.39035961  1.53043843  0.11109741  0.6621853  -2.29024619  2.34249774\n",
      "  0.10030677 -3.52062389  2.57481444 -2.20749462 -1.86406784  1.03607796\n",
      " -3.48102887]\n",
      "[Ride(alpha=1.0)]\n",
      "    test_r2  train_r2      diff\n",
      "0  0.748283  0.755663  0.007380\n",
      "1  0.756292  0.740039  0.016253\n",
      "2  0.680991  0.786097  0.105106\n",
      "\n",
      "[-1.23221033  1.29302258 -0.12737786  0.70280521 -1.80949922  2.48028701\n",
      " -0.00860666 -2.99831755  1.75466332 -1.51704375 -1.73434856  1.00368486\n",
      " -3.30809117]\n",
      "[Ride(alpha=10)]\n",
      "    test_r2  train_r2      diff\n",
      "0  0.753103  0.752474  0.000629\n",
      "1  0.755100  0.737457  0.017643\n",
      "2  0.677471  0.783225  0.105755\n",
      "\n",
      "[-0.78141029  0.70910255 -0.46407849  0.72503917 -0.69294458  2.41757287\n",
      " -0.24148703 -1.21831206  0.28616643 -0.63423538 -1.31602563  0.78528977\n",
      " -2.39571659]\n",
      "[Ride(alpha=100)]\n",
      "    test_r2  train_r2      diff\n",
      "0  0.724036  0.708269  0.015767\n",
      "1  0.725993  0.686628  0.039365\n",
      "2  0.627335  0.744452  0.117117\n",
      "\n"
     ]
    }
   ],
   "source": [
    "### 모델의 성능을 좌우하는 Hyper-parameter 제어 즉, 튜닝\n",
    "alpha_values=[0., 1.,  10, 100]\n",
    "\n",
    "for value in alpha_values:\n",
    "    # 모델 인스턴스 생성\n",
    "    ridge_model = Ridge(alpha=value, max_iter=3)    # max_iter=3   여기서 alpha가 hyper=parameter\n",
    "    # 학습 진행\n",
    "    # - csv : 3개\n",
    "    # - scoring : 'mean_squared_error', 'r2'\n",
    "    # - return_train_score\n",
    "    result=cross_validate(ridge_model, X_train_scaled, y_train, cv=3, \n",
    "                        scoring=['neg_mean_squared_error', 'r2'],return_train_score=True,\n",
    "                        return_estimator=True)\n",
    "\n",
    "    resultDF=pd.DataFrame(result)[['test_r2', 'train_r2']]\n",
    "    resultDF['diff'] = abs(resultDF['test_r2']-resultDF['train_r2'])\n",
    "    best_idx=resultDF['diff'].sort_values()[0]\n",
    "\n",
    "    print(result['estimator'][0].coef_)\n",
    "    print(f'[Ride(alpha={value})]')\n",
    "    print(resultDF, end='\\n\\n')"
   ]
  },
  {
   "cell_type": "code",
   "execution_count": 73,
   "metadata": {},
   "outputs": [
    {
     "data": {
      "text/html": [
       "<div>\n",
       "<style scoped>\n",
       "    .dataframe tbody tr th:only-of-type {\n",
       "        vertical-align: middle;\n",
       "    }\n",
       "\n",
       "    .dataframe tbody tr th {\n",
       "        vertical-align: top;\n",
       "    }\n",
       "\n",
       "    .dataframe thead th {\n",
       "        text-align: right;\n",
       "    }\n",
       "</style>\n",
       "<table border=\"1\" class=\"dataframe\">\n",
       "  <thead>\n",
       "    <tr style=\"text-align: right;\">\n",
       "      <th></th>\n",
       "      <th>test_r2</th>\n",
       "      <th>train_r2</th>\n",
       "      <th>diff</th>\n",
       "    </tr>\n",
       "  </thead>\n",
       "  <tbody>\n",
       "    <tr>\n",
       "      <th>0</th>\n",
       "      <td>0.724036</td>\n",
       "      <td>0.708269</td>\n",
       "      <td>0.015767</td>\n",
       "    </tr>\n",
       "    <tr>\n",
       "      <th>1</th>\n",
       "      <td>0.725993</td>\n",
       "      <td>0.686628</td>\n",
       "      <td>0.039365</td>\n",
       "    </tr>\n",
       "    <tr>\n",
       "      <th>2</th>\n",
       "      <td>0.627335</td>\n",
       "      <td>0.744452</td>\n",
       "      <td>0.117117</td>\n",
       "    </tr>\n",
       "  </tbody>\n",
       "</table>\n",
       "</div>"
      ],
      "text/plain": [
       "    test_r2  train_r2      diff\n",
       "0  0.724036  0.708269  0.015767\n",
       "1  0.725993  0.686628  0.039365\n",
       "2  0.627335  0.744452  0.117117"
      ]
     },
     "execution_count": 73,
     "metadata": {},
     "output_type": "execute_result"
    }
   ],
   "source": [
    "resultDF"
   ]
  },
  {
   "cell_type": "code",
   "execution_count": 74,
   "metadata": {},
   "outputs": [
    {
     "name": "stdout",
     "output_type": "stream",
     "text": [
      "[-1.41407793  1.56590993  0.15536906  0.65522098 -2.36200159  2.31948624\n",
      "  0.1173831  -3.59071105  2.71475429 -2.33252925 -1.88390034  1.04036915\n",
      " -3.50250877]\n",
      "[Ride(alpha=0.0)]\n",
      "    test_r2  train_r2      diff\n",
      "0  0.747022  0.755720  0.008699\n",
      "1  0.756482  0.740082  0.016400\n",
      "2  0.680801  0.786156  0.105355\n",
      "\n",
      "[-1.39035961  1.53043843  0.11109741  0.6621853  -2.29024619  2.34249774\n",
      "  0.10030677 -3.52062389  2.57481444 -2.20749462 -1.86406784  1.03607796\n",
      " -3.48102887]\n",
      "[Ride(alpha=1.0)]\n",
      "    test_r2  train_r2      diff\n",
      "0  0.748283  0.755663  0.007380\n",
      "1  0.756292  0.740039  0.016253\n",
      "2  0.680991  0.786097  0.105106\n",
      "\n",
      "[-1.23221033  1.29302258 -0.12737786  0.70280521 -1.80949922  2.48028701\n",
      " -0.00860666 -2.99831755  1.75466332 -1.51704375 -1.73434856  1.00368486\n",
      " -3.30809117]\n",
      "[Ride(alpha=10)]\n",
      "    test_r2  train_r2      diff\n",
      "0  0.753103  0.752474  0.000629\n",
      "1  0.755100  0.737457  0.017643\n",
      "2  0.677471  0.783225  0.105755\n",
      "\n",
      "[-0.78141029  0.70910255 -0.46407849  0.72503917 -0.69294458  2.41757287\n",
      " -0.24148703 -1.21831206  0.28616643 -0.63423538 -1.31602563  0.78528977\n",
      " -2.39571659]\n",
      "[Ride(alpha=100)]\n",
      "    test_r2  train_r2      diff\n",
      "0  0.724036  0.708269  0.015767\n",
      "1  0.725993  0.686628  0.039365\n",
      "2  0.627335  0.744452  0.117117\n",
      "\n"
     ]
    }
   ],
   "source": [
    "### 모델의 성능을 좌우하는 Hyper-parameter 제어 즉, 튜닝\n",
    "alpha_values=[0., 1.,  10, 100]\n",
    "\n",
    "for value in alpha_values:\n",
    "    # 모델 인스턴스 생성\n",
    "    ridge_model = Ridge(alpha=value)    # 기본값 1.0   여기서 alpha가 hyper=parameter\n",
    "    # 학습 진행\n",
    "    # - csv : 3개\n",
    "    # - scoring : 'mean_squared_error', 'r2'\n",
    "    # - return_train_score\n",
    "    result=cross_validate(ridge_model, X_train_scaled, y_train, cv=3, \n",
    "                        scoring=['neg_mean_squared_error', 'r2'],return_train_score=True,\n",
    "                        return_estimator=True)\n",
    "\n",
    "    resultDF=pd.DataFrame(result)[['test_r2', 'train_r2']]\n",
    "    resultDF['diff'] = abs(resultDF['test_r2']-resultDF['train_r2'])\n",
    "    best_idx=resultDF['diff'].idxmin()\n",
    "\n",
    "\n",
    "\n",
    "    print(result['estimator'][best_idx].coef_)\n",
    "    print(f'[Ride(alpha={value})]')\n",
    "    print(resultDF, end='\\n\\n')"
   ]
  },
  {
   "cell_type": "code",
   "execution_count": null,
   "metadata": {},
   "outputs": [],
   "source": [
    "# 라쏘\n",
    "### 모델의 성능을 좌우하는 Hyper-parameter 제어 즉, 튜닝\n",
    "alpha_values=[0., 1.,  10, 100]\n",
    "\n",
    "for value in alpha_values:\n",
    "    # 모델 인스턴스 생성\n",
    "    ridge_model = Lasso(alpha=value)    # 기본값 1.0   여기서 alpha가 hyper=parameter\n",
    "    # 학습 진행\n",
    "    # - csv : 3개\n",
    "    # - scoring : 'mean_squared_error', 'r2'\n",
    "    # - return_train_score\n",
    "    result=cross_validate(ridge_model, X_train_scaled, y_train, cv=3, \n",
    "                        scoring=['neg_mean_squared_error', 'r2'],return_train_score=True,\n",
    "                        return_estimator=True)\n",
    "\n",
    "    resultDF=pd.DataFrame(result)[['test_r2', 'train_r2']]\n",
    "    resultDF['diff'] = abs(resultDF['test_r2']-resultDF['train_r2'])\n",
    "    best_idx=resultDF['diff'].idxmin()\n",
    "\n",
    "\n",
    "\n",
    "    print(result['estimator'][best_idx].coef_)\n",
    "    print(f'[Ride(alpha={value})]')\n",
    "    print(resultDF, end='\\n\\n')"
   ]
  },
  {
   "cell_type": "markdown",
   "metadata": {},
   "source": [
    "- 하이퍼파라미터 튜닝과 교차 검증을 동시에 진행"
   ]
  },
  {
   "cell_type": "code",
   "execution_count": 76,
   "metadata": {},
   "outputs": [],
   "source": [
    "from sklearn.model_selection import GridSearchCV"
   ]
  },
  {
   "cell_type": "code",
   "execution_count": 78,
   "metadata": {},
   "outputs": [],
   "source": [
    "# Ridge의 Hyper-parameter 값 설정\n",
    "params={'alpha':[0,0.1,0.5,1.0],\n",
    "        'max_iter':[3, 5]}\n",
    "\n",
    "# ==> 0., 3=> Model\n",
    "# ==> 0., 5 => Model\n",
    "# . . . . . .\n",
    "# ==> 1.0,  5=> Model\n",
    "# 총 8개의 모델 생성"
   ]
  },
  {
   "cell_type": "code",
   "execution_count": 80,
   "metadata": {},
   "outputs": [],
   "source": [
    "# 인스턴스 생성\n",
    "rModel=Ridge()\n",
    "\n",
    "# GridSearchCV 인스턴스 생성\n",
    "serchCV=GridSearchCV(rModel, params, cv=3, verbose=True, return_train_score=True)"
   ]
  },
  {
   "cell_type": "code",
   "execution_count": 81,
   "metadata": {},
   "outputs": [
    {
     "name": "stdout",
     "output_type": "stream",
     "text": [
      "Fitting 3 folds for each of 8 candidates, totalling 24 fits\n"
     ]
    },
    {
     "data": {
      "text/html": [
       "<style>#sk-container-id-4 {color: black;}#sk-container-id-4 pre{padding: 0;}#sk-container-id-4 div.sk-toggleable {background-color: white;}#sk-container-id-4 label.sk-toggleable__label {cursor: pointer;display: block;width: 100%;margin-bottom: 0;padding: 0.3em;box-sizing: border-box;text-align: center;}#sk-container-id-4 label.sk-toggleable__label-arrow:before {content: \"▸\";float: left;margin-right: 0.25em;color: #696969;}#sk-container-id-4 label.sk-toggleable__label-arrow:hover:before {color: black;}#sk-container-id-4 div.sk-estimator:hover label.sk-toggleable__label-arrow:before {color: black;}#sk-container-id-4 div.sk-toggleable__content {max-height: 0;max-width: 0;overflow: hidden;text-align: left;background-color: #f0f8ff;}#sk-container-id-4 div.sk-toggleable__content pre {margin: 0.2em;color: black;border-radius: 0.25em;background-color: #f0f8ff;}#sk-container-id-4 input.sk-toggleable__control:checked~div.sk-toggleable__content {max-height: 200px;max-width: 100%;overflow: auto;}#sk-container-id-4 input.sk-toggleable__control:checked~label.sk-toggleable__label-arrow:before {content: \"▾\";}#sk-container-id-4 div.sk-estimator input.sk-toggleable__control:checked~label.sk-toggleable__label {background-color: #d4ebff;}#sk-container-id-4 div.sk-label input.sk-toggleable__control:checked~label.sk-toggleable__label {background-color: #d4ebff;}#sk-container-id-4 input.sk-hidden--visually {border: 0;clip: rect(1px 1px 1px 1px);clip: rect(1px, 1px, 1px, 1px);height: 1px;margin: -1px;overflow: hidden;padding: 0;position: absolute;width: 1px;}#sk-container-id-4 div.sk-estimator {font-family: monospace;background-color: #f0f8ff;border: 1px dotted black;border-radius: 0.25em;box-sizing: border-box;margin-bottom: 0.5em;}#sk-container-id-4 div.sk-estimator:hover {background-color: #d4ebff;}#sk-container-id-4 div.sk-parallel-item::after {content: \"\";width: 100%;border-bottom: 1px solid gray;flex-grow: 1;}#sk-container-id-4 div.sk-label:hover label.sk-toggleable__label {background-color: #d4ebff;}#sk-container-id-4 div.sk-serial::before {content: \"\";position: absolute;border-left: 1px solid gray;box-sizing: border-box;top: 0;bottom: 0;left: 50%;z-index: 0;}#sk-container-id-4 div.sk-serial {display: flex;flex-direction: column;align-items: center;background-color: white;padding-right: 0.2em;padding-left: 0.2em;position: relative;}#sk-container-id-4 div.sk-item {position: relative;z-index: 1;}#sk-container-id-4 div.sk-parallel {display: flex;align-items: stretch;justify-content: center;background-color: white;position: relative;}#sk-container-id-4 div.sk-item::before, #sk-container-id-4 div.sk-parallel-item::before {content: \"\";position: absolute;border-left: 1px solid gray;box-sizing: border-box;top: 0;bottom: 0;left: 50%;z-index: -1;}#sk-container-id-4 div.sk-parallel-item {display: flex;flex-direction: column;z-index: 1;position: relative;background-color: white;}#sk-container-id-4 div.sk-parallel-item:first-child::after {align-self: flex-end;width: 50%;}#sk-container-id-4 div.sk-parallel-item:last-child::after {align-self: flex-start;width: 50%;}#sk-container-id-4 div.sk-parallel-item:only-child::after {width: 0;}#sk-container-id-4 div.sk-dashed-wrapped {border: 1px dashed gray;margin: 0 0.4em 0.5em 0.4em;box-sizing: border-box;padding-bottom: 0.4em;background-color: white;}#sk-container-id-4 div.sk-label label {font-family: monospace;font-weight: bold;display: inline-block;line-height: 1.2em;}#sk-container-id-4 div.sk-label-container {text-align: center;}#sk-container-id-4 div.sk-container {/* jupyter's `normalize.less` sets `[hidden] { display: none; }` but bootstrap.min.css set `[hidden] { display: none !important; }` so we also need the `!important` here to be able to override the default hidden behavior on the sphinx rendered scikit-learn.org. See: https://github.com/scikit-learn/scikit-learn/issues/21755 */display: inline-block !important;position: relative;}#sk-container-id-4 div.sk-text-repr-fallback {display: none;}</style><div id=\"sk-container-id-4\" class=\"sk-top-container\"><div class=\"sk-text-repr-fallback\"><pre>GridSearchCV(cv=3, estimator=Ridge(),\n",
       "             param_grid={&#x27;alpha&#x27;: [0, 0.1, 0.5, 1.0], &#x27;max_iter&#x27;: [3, 5]},\n",
       "             return_train_score=True, verbose=True)</pre><b>In a Jupyter environment, please rerun this cell to show the HTML representation or trust the notebook. <br />On GitHub, the HTML representation is unable to render, please try loading this page with nbviewer.org.</b></div><div class=\"sk-container\" hidden><div class=\"sk-item sk-dashed-wrapped\"><div class=\"sk-label-container\"><div class=\"sk-label sk-toggleable\"><input class=\"sk-toggleable__control sk-hidden--visually\" id=\"sk-estimator-id-4\" type=\"checkbox\" ><label for=\"sk-estimator-id-4\" class=\"sk-toggleable__label sk-toggleable__label-arrow\">GridSearchCV</label><div class=\"sk-toggleable__content\"><pre>GridSearchCV(cv=3, estimator=Ridge(),\n",
       "             param_grid={&#x27;alpha&#x27;: [0, 0.1, 0.5, 1.0], &#x27;max_iter&#x27;: [3, 5]},\n",
       "             return_train_score=True, verbose=True)</pre></div></div></div><div class=\"sk-parallel\"><div class=\"sk-parallel-item\"><div class=\"sk-item\"><div class=\"sk-label-container\"><div class=\"sk-label sk-toggleable\"><input class=\"sk-toggleable__control sk-hidden--visually\" id=\"sk-estimator-id-5\" type=\"checkbox\" ><label for=\"sk-estimator-id-5\" class=\"sk-toggleable__label sk-toggleable__label-arrow\">estimator: Ridge</label><div class=\"sk-toggleable__content\"><pre>Ridge()</pre></div></div></div><div class=\"sk-serial\"><div class=\"sk-item\"><div class=\"sk-estimator sk-toggleable\"><input class=\"sk-toggleable__control sk-hidden--visually\" id=\"sk-estimator-id-6\" type=\"checkbox\" ><label for=\"sk-estimator-id-6\" class=\"sk-toggleable__label sk-toggleable__label-arrow\">Ridge</label><div class=\"sk-toggleable__content\"><pre>Ridge()</pre></div></div></div></div></div></div></div></div></div></div>"
      ],
      "text/plain": [
       "GridSearchCV(cv=3, estimator=Ridge(),\n",
       "             param_grid={'alpha': [0, 0.1, 0.5, 1.0], 'max_iter': [3, 5]},\n",
       "             return_train_score=True, verbose=True)"
      ]
     },
     "execution_count": 81,
     "metadata": {},
     "output_type": "execute_result"
    }
   ],
   "source": [
    "# 학습 진행\n",
    "serchCV.fit(X_train_scaled, y_train)"
   ]
  },
  {
   "cell_type": "code",
   "execution_count": null,
   "metadata": {},
   "outputs": [],
   "source": []
  }
 ],
 "metadata": {
  "kernelspec": {
   "display_name": "ML_38",
   "language": "python",
   "name": "python3"
  },
  "language_info": {
   "codemirror_mode": {
    "name": "ipython",
    "version": 3
   },
   "file_extension": ".py",
   "mimetype": "text/x-python",
   "name": "python",
   "nbconvert_exporter": "python",
   "pygments_lexer": "ipython3",
   "version": "3.8.19"
  }
 },
 "nbformat": 4,
 "nbformat_minor": 2
}
