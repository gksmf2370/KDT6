{
 "cells": [
  {
   "cell_type": "markdown",
   "metadata": {},
   "source": [
    "#### iris 데이터셋 활용 꽃잎 너비 예측 모델\n",
    "- 데이터셋 : iris.csv에서 2개 Feature 사용\n",
    "- 구현프레임 워크 : Pytorch"
   ]
  },
  {
   "cell_type": "markdown",
   "metadata": {},
   "source": [
    "- [1] 모듈 로딩 및 데이터 준비"
   ]
  },
  {
   "cell_type": "code",
   "execution_count": 40,
   "metadata": {},
   "outputs": [],
   "source": [
    "# 모듈 로딩\n",
    "import torch                    # 텐서 및 수치 계산 함수 관련 모듈\n",
    "import torch.nn as nn           # 인공신경망 관련 모듈\n",
    "import torch.nn.functional as F    # 손실, 거리 등 함수 관련 모듈\n",
    "import torch.optim as optimizer # 최적화 기법 관련 모듈\n",
    "\n",
    "import pandas as pd             # 데이터 파일 분석 관련 모듈\n",
    "from sklearn.model_selection import train_test_split"
   ]
  },
  {
   "cell_type": "code",
   "execution_count": 41,
   "metadata": {},
   "outputs": [
    {
     "data": {
      "text/plain": [
       "<torch._C.Generator at 0x16632b70cf0>"
      ]
     },
     "execution_count": 41,
     "metadata": {},
     "output_type": "execute_result"
    }
   ],
   "source": [
    "# 랜덤 시드 고정\n",
    "torch.manual_seed(1)"
   ]
  },
  {
   "cell_type": "code",
   "execution_count": 42,
   "metadata": {},
   "outputs": [
    {
     "data": {
      "text/html": [
       "<div>\n",
       "<style scoped>\n",
       "    .dataframe tbody tr th:only-of-type {\n",
       "        vertical-align: middle;\n",
       "    }\n",
       "\n",
       "    .dataframe tbody tr th {\n",
       "        vertical-align: top;\n",
       "    }\n",
       "\n",
       "    .dataframe thead th {\n",
       "        text-align: right;\n",
       "    }\n",
       "</style>\n",
       "<table border=\"1\" class=\"dataframe\">\n",
       "  <thead>\n",
       "    <tr style=\"text-align: right;\">\n",
       "      <th></th>\n",
       "      <th>sepal.length</th>\n",
       "      <th>sepal.width</th>\n",
       "      <th>petal.length</th>\n",
       "      <th>petal.width</th>\n",
       "    </tr>\n",
       "  </thead>\n",
       "  <tbody>\n",
       "    <tr>\n",
       "      <th>0</th>\n",
       "      <td>5.1</td>\n",
       "      <td>3.5</td>\n",
       "      <td>1.4</td>\n",
       "      <td>0.2</td>\n",
       "    </tr>\n",
       "    <tr>\n",
       "      <th>1</th>\n",
       "      <td>4.9</td>\n",
       "      <td>3.0</td>\n",
       "      <td>1.4</td>\n",
       "      <td>0.2</td>\n",
       "    </tr>\n",
       "  </tbody>\n",
       "</table>\n",
       "</div>"
      ],
      "text/plain": [
       "   sepal.length  sepal.width  petal.length  petal.width\n",
       "0           5.1          3.5           1.4          0.2\n",
       "1           4.9          3.0           1.4          0.2"
      ]
     },
     "execution_count": 42,
     "metadata": {},
     "output_type": "execute_result"
    }
   ],
   "source": [
    "# 데이터 로딩 : CSV = > DataFrame\n",
    "DATA_FILE='iris.csv'\n",
    "\n",
    "irisDF=pd.read_csv(DATA_FILE, usecols=[0,1,2,3])\n",
    "irisDF.head(2)"
   ]
  },
  {
   "cell_type": "markdown",
   "metadata": {},
   "source": [
    "[2] 모델 준비\n",
    "- 학습방법 : 지도학습 - 회귀\n",
    "- 알고리즘 : 선형관계 - 선형모델 => nn.Linear"
   ]
  },
  {
   "cell_type": "code",
   "execution_count": 43,
   "metadata": {},
   "outputs": [],
   "source": [
    "# in_features : petal.length, sepal.length, sepal.width 3개\n",
    "# out_features : petal.width 1개\n",
    "model = nn.Linear(3, 1)"
   ]
  },
  {
   "cell_type": "code",
   "execution_count": 44,
   "metadata": {},
   "outputs": [
    {
     "name": "stdout",
     "output_type": "stream",
     "text": [
      "[weight] Parameter containing:\n",
      "tensor([[ 0.2975, -0.2548, -0.1119]], requires_grad=True)\n",
      "\n",
      "[bias] Parameter containing:\n",
      "tensor([0.2710], requires_grad=True)\n",
      "\n"
     ]
    }
   ],
   "source": [
    "# 가중치와 절편 확인\n",
    "for name, param in model.named_parameters():\n",
    "    print(f'[{name}] {param}\\n')"
   ]
  },
  {
   "cell_type": "markdown",
   "metadata": {},
   "source": [
    "[3] 최적화 인스턴스 준비"
   ]
  },
  {
   "cell_type": "code",
   "execution_count": 45,
   "metadata": {},
   "outputs": [],
   "source": [
    "## 모델의 가중치와 절편을 최적화 ==> 인스턴스에 전달\n",
    "adam_optim=optimizer.Adam(model.parameters(), lr=0.1)"
   ]
  },
  {
   "cell_type": "markdown",
   "metadata": {},
   "source": [
    "[4] 학습 ==> 개발자가 구현"
   ]
  },
  {
   "cell_type": "markdown",
   "metadata": {},
   "source": [
    "[4-1] 데이터셋 Tensor화 진행 : 데이터준비 시 진행 하거나 또는 학습 전 진행"
   ]
  },
  {
   "cell_type": "code",
   "execution_count": 46,
   "metadata": {},
   "outputs": [
    {
     "data": {
      "text/plain": [
       "torch.Size([150, 3])"
      ]
     },
     "execution_count": 46,
     "metadata": {},
     "output_type": "execute_result"
    }
   ],
   "source": [
    "featureTS=torch.from_numpy(irisDF[irisDF.columns[:-1]].values).float()\n",
    "featureTS.shape"
   ]
  },
  {
   "cell_type": "code",
   "execution_count": 47,
   "metadata": {},
   "outputs": [
    {
     "data": {
      "text/plain": [
       "torch.Size([150, 1])"
      ]
     },
     "execution_count": 47,
     "metadata": {},
     "output_type": "execute_result"
    }
   ],
   "source": [
    "targetTS=torch.from_numpy(irisDF[['petal.width']].values).float()\n",
    "targetTS.shape"
   ]
  },
  {
   "cell_type": "code",
   "execution_count": 48,
   "metadata": {},
   "outputs": [
    {
     "name": "stdout",
     "output_type": "stream",
     "text": [
      "[Feature] Train torch.Size([96, 3]), TEST torch.Size([30, 3]), VAL torch.Size([24, 3])\n",
      "[Target] Train torch.Size([96, 1]), TEST torch.Size([30, 1]), VAL torch.Size([24, 1])\n"
     ]
    }
   ],
   "source": [
    "# Train & Test\n",
    "X_train, X_test, y_train, y_test = train_test_split(featureTS, targetTS, test_size=0.2)\n",
    "\n",
    "# Train & Valid\n",
    "X_train, X_val, y_train, y_val = train_test_split(X_train, y_train, test_size=0.2)\n",
    "\n",
    "print(f'[Feature] Train {X_train.shape}, TEST { X_test.shape}, VAL {X_val.shape}')\n",
    "print(f'[Target] Train {y_train.shape}, TEST { y_test.shape}, VAL {y_val.shape}')"
   ]
  },
  {
   "cell_type": "markdown",
   "metadata": {},
   "source": [
    "[4-2] 학습진행  \n",
    "    * 학습횟수 결정 ==> 에포크 설정  \n",
    "    * 학습결과 저장 ==> 손실저장 변수 "
   ]
  },
  {
   "cell_type": "code",
   "execution_count": 49,
   "metadata": {},
   "outputs": [],
   "source": [
    "EPOCH=10\n",
    "loss_history=[]"
   ]
  },
  {
   "cell_type": "code",
   "execution_count": 50,
   "metadata": {},
   "outputs": [],
   "source": [
    "# for epoch in range(EPOCH):\n",
    "#     #-(1)학습진행 - forward\n",
    "#     pre_y=model(featureTS)\n",
    "#     #-(2)오차계산 - 손실함수\n",
    "#     loss=F.mse_loss(pre_y, targetTS)\n",
    "#     #-(3)최적화 - 가중치,절편 업데이트 backward\n",
    "#     adam_optim.zero_grad() #gradient를 0으로 초기화\n",
    "#     loss.backward() #  오차 미분, 비용 함수를 미분하여 gradient 계산\n",
    "#     adam_optim.step() #  가중치 업데이트 W와 b를 업데이트\n",
    "\n",
    "#     #-(4)학습결과 출력 및 저장\n",
    "#     print(f'[{epoch}/{EPOCH}] LOSS: {loss}')"
   ]
  },
  {
   "cell_type": "markdown",
   "metadata": {},
   "source": [
    "## 함수로만들기"
   ]
  },
  {
   "cell_type": "code",
   "execution_count": 51,
   "metadata": {},
   "outputs": [],
   "source": [
    "## 테스트/검증 함수 \n",
    "# ==> 가중치, 절편 업데이트 X, 최적화 미진행\n",
    "# ==> 현재 가중치와 절편값으로 테스트 진행\n",
    "# 모델 학습 함수\n",
    "def testing(testTS,targetTS, kind='Val'):\n",
    "\n",
    "    with torch.no_grad():    # 가중치 및 절편 업데이트 진행 X\n",
    "        #-(1)학습진행 - forward\n",
    "        pre_y=model(testTS)\n",
    "        #-(2)오차계산 - 손실함수\n",
    "        loss=F.mse_loss(pre_y, targetTS)\n",
    " \n",
    "        #-(4)학습결과 출력 및 저장\n",
    "        print(f'[{kind}] LOSS: {loss}')\n",
    "\n",
    "    return loss"
   ]
  },
  {
   "cell_type": "code",
   "execution_count": 52,
   "metadata": {},
   "outputs": [],
   "source": [
    "# 모델 학습 함수\n",
    "def training(featureTS, targetTS, valTS, valTargetTS):\n",
    "\n",
    "    loss_history=[[],[]]\n",
    "    for epoch in range(EPOCH):\n",
    "        #-(1)학습진행 - forward\n",
    "        pre_y=model(featureTS)\n",
    "        #-(2)오차계산 - 손실함수\n",
    "        loss=F.mse_loss(pre_y, targetTS)\n",
    "        loss_history[0].append(loss.item())\n",
    "        \n",
    "        #-(3)최적화 - 가중치,절편 업데이트 backward\n",
    "        adam_optim.zero_grad() #gradient를 0으로 초기화\n",
    "        loss.backward() #  오차 미분, 비용 함수를 미분하여 gradient 계산\n",
    "        adam_optim.step() #  가중치 업데이트 W와 b를 업데이트\n",
    "\n",
    "        #-(4)검증 - 모댈이 제대로 만들어지는 검사용\n",
    "        val_loss = testing(valTS, valTargetTS)\n",
    "        loss_history[1].append(val_loss.item())\n",
    "        #-(4)학습결과 출력 및 저장\n",
    "        print(f'[{epoch}/{EPOCH}] LOSS: {loss}')\n",
    "\n",
    "    return loss_history"
   ]
  },
  {
   "cell_type": "code",
   "execution_count": 54,
   "metadata": {},
   "outputs": [
    {
     "name": "stdout",
     "output_type": "stream",
     "text": [
      "[Val] LOSS: 1.28097403049469\n",
      "[0/10] LOSS: 0.7419636845588684\n",
      "[Val] LOSS: 0.7328507304191589\n",
      "[1/10] LOSS: 1.120179533958435\n",
      "[Val] LOSS: 0.3353336751461029\n",
      "[2/10] LOSS: 0.6362813115119934\n",
      "[Val] LOSS: 0.48521819710731506\n",
      "[3/10] LOSS: 0.35211876034736633\n",
      "[Val] LOSS: 0.45762911438941956\n",
      "[4/10] LOSS: 0.585462749004364\n",
      "[Val] LOSS: 0.24948160350322723\n",
      "[5/10] LOSS: 0.5573251843452454\n",
      "[Val] LOSS: 0.20552052557468414\n",
      "[6/10] LOSS: 0.30203333497047424\n",
      "[Val] LOSS: 0.32875481247901917\n",
      "[7/10] LOSS: 0.21323604881763458\n",
      "[Val] LOSS: 0.35012087225914\n",
      "[8/10] LOSS: 0.31856146454811096\n",
      "[Val] LOSS: 0.21343602240085602\n",
      "[9/10] LOSS: 0.34534814953804016\n"
     ]
    }
   ],
   "source": [
    "# 모델 학습 진행\n",
    "loss = training(X_train, y_train, X_val, y_val)"
   ]
  },
  {
   "cell_type": "code",
   "execution_count": 55,
   "metadata": {},
   "outputs": [
    {
     "data": {
      "text/plain": [
       "[[0.7419636845588684,\n",
       "  1.120179533958435,\n",
       "  0.6362813115119934,\n",
       "  0.35211876034736633,\n",
       "  0.585462749004364,\n",
       "  0.5573251843452454,\n",
       "  0.30203333497047424,\n",
       "  0.21323604881763458,\n",
       "  0.31856146454811096,\n",
       "  0.34534814953804016],\n",
       " [1.28097403049469,\n",
       "  0.7328507304191589,\n",
       "  0.3353336751461029,\n",
       "  0.48521819710731506,\n",
       "  0.45762911438941956,\n",
       "  0.24948160350322723,\n",
       "  0.20552052557468414,\n",
       "  0.32875481247901917,\n",
       "  0.35012087225914,\n",
       "  0.21343602240085602]]"
      ]
     },
     "execution_count": 55,
     "metadata": {},
     "output_type": "execute_result"
    }
   ],
   "source": [
    "loss"
   ]
  },
  {
   "cell_type": "code",
   "execution_count": 60,
   "metadata": {},
   "outputs": [
    {
     "name": "stdout",
     "output_type": "stream",
     "text": [
      "[Val] LOSS: 0.2924749255180359\n"
     ]
    },
    {
     "data": {
      "text/plain": [
       "tensor(0.2925)"
      ]
     },
     "execution_count": 60,
     "metadata": {},
     "output_type": "execute_result"
    }
   ],
   "source": [
    "testing(X_test, y_test)"
   ]
  },
  {
   "cell_type": "code",
   "execution_count": 63,
   "metadata": {},
   "outputs": [
    {
     "data": {
      "image/png": "[encoded data removed]",
      "text/plain": [
       "<Figure size 640x480 with 1 Axes>"
      ]
     },
     "metadata": {},
     "output_type": "display_data"
    }
   ],
   "source": [
    "# 학습 후 loss 시각화\n",
    "import matplotlib.pyplot as plt\n",
    "\n",
    "plt.plot(range(EPOCH),loss[0], label = 'Train')\n",
    "plt.plot(range(EPOCH),loss[1], label='Train')\n",
    "plt.xlabel('EPOCH')\n",
    "plt.ylabel('LOSS')\n",
    "plt.legend()\n",
    "plt.show()"
   ]
  },
  {
   "cell_type": "code",
   "execution_count": null,
   "metadata": {},
   "outputs": [],
   "source": []
  }
 ],
 "metadata": {
  "kernelspec": {
   "display_name": "TORCH_38",
   "language": "python",
   "name": "python3"
  },
  "language_info": {
   "codemirror_mode": {
    "name": "ipython",
    "version": 3
   },
   "file_extension": ".py",
   "mimetype": "text/x-python",
   "name": "python",
   "nbconvert_exporter": "python",
   "pygments_lexer": "ipython3",
   "version": "3.8.19"
  }
 },
 "nbformat": 4,
 "nbformat_minor": 2
}
