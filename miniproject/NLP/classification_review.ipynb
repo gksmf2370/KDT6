{
 "cells": [
  {
   "cell_type": "markdown",
   "metadata": {},
   "source": [
    "왓챠 리뷰 분석"
   ]
  },
  {
   "cell_type": "markdown",
   "metadata": {},
   "source": [
    "[1] 모듈로딩 및 데이터셋 불러오기"
   ]
  },
  {
   "cell_type": "code",
   "execution_count": 166,
   "metadata": {},
   "outputs": [],
   "source": [
    "import pandas as pd\n",
    "import os\n",
    "import matplotlib.pyplot as plt\n",
    "from torch import nn\n",
    "from sklearn.metrics import confusion_matrix"
   ]
  },
  {
   "cell_type": "code",
   "execution_count": 167,
   "metadata": {},
   "outputs": [],
   "source": [
    "FILE_PATH = r'C:\\baekjoon-solutions\\자연어처리\\watcha_reviews_final3.csv'"
   ]
  },
  {
   "cell_type": "code",
   "execution_count": 168,
   "metadata": {},
   "outputs": [],
   "source": [
    "df= pd.read_csv(FILE_PATH)"
   ]
  },
  {
   "cell_type": "code",
   "execution_count": 169,
   "metadata": {},
   "outputs": [
    {
     "data": {
      "text/html": [
       "<div>\n",
       "<style scoped>\n",
       "    .dataframe tbody tr th:only-of-type {\n",
       "        vertical-align: middle;\n",
       "    }\n",
       "\n",
       "    .dataframe tbody tr th {\n",
       "        vertical-align: top;\n",
       "    }\n",
       "\n",
       "    .dataframe thead th {\n",
       "        text-align: right;\n",
       "    }\n",
       "</style>\n",
       "<table border=\"1\" class=\"dataframe\">\n",
       "  <thead>\n",
       "    <tr style=\"text-align: right;\">\n",
       "      <th></th>\n",
       "      <th>평점</th>\n",
       "      <th>리뷰</th>\n",
       "      <th>긍정</th>\n",
       "    </tr>\n",
       "  </thead>\n",
       "  <tbody>\n",
       "    <tr>\n",
       "      <th>0</th>\n",
       "      <td>4.0</td>\n",
       "      <td>또 또 나만 재밌지</td>\n",
       "      <td>1</td>\n",
       "    </tr>\n",
       "    <tr>\n",
       "      <th>1</th>\n",
       "      <td>1.5</td>\n",
       "      <td>1화부터 변요한이 고등학생역으로 나오는데 도저히 몰입이 안된다... 동안인건 알겠는...</td>\n",
       "      <td>0</td>\n",
       "    </tr>\n",
       "    <tr>\n",
       "      <th>2</th>\n",
       "      <td>4.0</td>\n",
       "      <td>동명소설 원작, 탄탄한 시나리오 기반에\\n주, 조연들의 현실적 실감 연기,\\n그리고...</td>\n",
       "      <td>1</td>\n",
       "    </tr>\n",
       "    <tr>\n",
       "      <th>3</th>\n",
       "      <td>3.0</td>\n",
       "      <td>쫀득한 이야기를 밀도 있게 담아내지 못한\\n속도, 미장센, 연기, 음악에 대한 아쉬움.</td>\n",
       "      <td>0</td>\n",
       "    </tr>\n",
       "    <tr>\n",
       "      <th>4</th>\n",
       "      <td>3.5</td>\n",
       "      <td>본인과 가족의 인생을 다 파탄낸\\n가해자들에게 주먹 한방을 안날리는\\n주인공을 보고...</td>\n",
       "      <td>1</td>\n",
       "    </tr>\n",
       "  </tbody>\n",
       "</table>\n",
       "</div>"
      ],
      "text/plain": [
       "    평점                                                 리뷰  긍정\n",
       "0  4.0                                         또 또 나만 재밌지   1\n",
       "1  1.5  1화부터 변요한이 고등학생역으로 나오는데 도저히 몰입이 안된다... 동안인건 알겠는...   0\n",
       "2  4.0  동명소설 원작, 탄탄한 시나리오 기반에\\n주, 조연들의 현실적 실감 연기,\\n그리고...   1\n",
       "3  3.0   쫀득한 이야기를 밀도 있게 담아내지 못한\\n속도, 미장센, 연기, 음악에 대한 아쉬움.   0\n",
       "4  3.5  본인과 가족의 인생을 다 파탄낸\\n가해자들에게 주먹 한방을 안날리는\\n주인공을 보고...   1"
      ]
     },
     "execution_count": 169,
     "metadata": {},
     "output_type": "execute_result"
    }
   ],
   "source": [
    "df.head(5)"
   ]
  },
  {
   "cell_type": "code",
   "execution_count": 170,
   "metadata": {},
   "outputs": [],
   "source": [
    "import re\n",
    "# 정규식을 사용하는 함수\n",
    "def re_text(text):\n",
    "\n",
    "    text = re.sub(r'[^\\n가-힇\\s]', '', text)  \n",
    "    text = re.sub(r'\\s+', ' ', text)\n",
    "    return text.strip()  # 앞뒤 공백제거"
   ]
  },
  {
   "cell_type": "code",
   "execution_count": 171,
   "metadata": {},
   "outputs": [],
   "source": [
    "df['리뷰'] = df['리뷰'].apply(re_text)"
   ]
  },
  {
   "cell_type": "code",
   "execution_count": 172,
   "metadata": {},
   "outputs": [
    {
     "data": {
      "text/plain": [
       "0                                               또 또 나만 재밌지\n",
       "1        화부터 변요한이 고등학생역으로 나오는데 도저 몰입이 안된다 동안인건 알겠는데 고등학...\n",
       "2        동명소설 원작 탄탄한 시나리오 기반에 주 조연들의 현실적 실감 연기 그리고 치밀한 ...\n",
       "3              쫀득한 이야기를 밀도 있게 담아내지 못한 속도 미장센 연기 음악에 대한 아쉬움\n",
       "4        본인과 가족의 인생을 다 파탄낸 가해자들에게 주먹 한방을 안날리는 주인공을 보고 있...\n",
       "                               ...                        \n",
       "14612            제작진이 만든 계급 전쟁을 기꺼이 요리 전쟁으로 승화시키는 대단한 요리사들\n",
       "14613                                    무물코기 에드워드 리님 귀여우셔\n",
       "14614           왜 하루전에 인터뷰로 깨방정을 오랜만에 순수하고 공정한 경쟁이 재밌고 좋았다\n",
       "14615                         몰아치는 연출력과 스케일 예능에서 드라마 작법을 씀\n",
       "14616                 최근 나온 한국예능중 가장 확실하고 압도적인 퍼포먼스를 보여주었다\n",
       "Name: 리뷰, Length: 14617, dtype: object"
      ]
     },
     "execution_count": 172,
     "metadata": {},
     "output_type": "execute_result"
    }
   ],
   "source": [
    "df['리뷰']"
   ]
  },
  {
   "cell_type": "code",
   "execution_count": 173,
   "metadata": {},
   "outputs": [],
   "source": [
    "idx = df[df['리뷰'].str.contains('스포일러가 있어요')].index\n",
    "df = df.drop(idx)"
   ]
  },
  {
   "cell_type": "code",
   "execution_count": 174,
   "metadata": {},
   "outputs": [],
   "source": [
    "df = df.drop('평점',axis=1)"
   ]
  },
  {
   "cell_type": "code",
   "execution_count": 175,
   "metadata": {},
   "outputs": [
    {
     "data": {
      "text/plain": [
       "긍정\n",
       "1    7429\n",
       "0    6465\n",
       "Name: count, dtype: int64"
      ]
     },
     "execution_count": 175,
     "metadata": {},
     "output_type": "execute_result"
    }
   ],
   "source": [
    "df['긍정'].value_counts()"
   ]
  },
  {
   "cell_type": "code",
   "execution_count": 176,
   "metadata": {},
   "outputs": [
    {
     "name": "stdout",
     "output_type": "stream",
     "text": [
      "                                                      리뷰  긍정\n",
      "11163       마지막화 마지막 장면은 감 말하건데 내가 본 최고의 엔딩이었다 네마리의 용이라니   1\n",
      "7713                           난 아서가 아니라 조커를 보러 영화관에 온건데   1\n",
      "9470                                                  쓰읍   1\n",
      "12729  뮤지컬땜에 항상 궁금했는데 일단 내용을 알 수 있어서 그걸로도 오케이 댄버스부인이 ...   0\n",
      "9274   이 순간 따뜻한 위로와 관심이 필요합니다 꼭 주인공남녀가 조커와 할리가 아니어도 성...   1\n",
      "Training Data Size :  12505\n",
      "Testing Data Size :  1389\n"
     ]
    }
   ],
   "source": [
    "# train, test 나누기\n",
    "train = df.sample(frac=0.9, random_state=42) # 랜덤으로 90를 선택\n",
    "test = df.drop(train.index)                  # 트레인을 삭제해서 비율을 train : test = 9: 1\n",
    "\n",
    "print(train.head(5))\n",
    "print('Training Data Size : ', len(train))\n",
    "print(\"Testing Data Size : \", len(test))"
   ]
  },
  {
   "cell_type": "code",
   "execution_count": 177,
   "metadata": {},
   "outputs": [],
   "source": [
    "# 데이터 토큰화 및 단어 사전 구축\n",
    "from konlpy.tag import Okt\n",
    "from collections import Counter\n",
    "\n",
    "## 단어사전을 만드는 함수\n",
    "def build_vocab(corpus, n_vocab, special_tokens): #n_vocab은 최대 사용할 단어개수\n",
    "    counter = Counter()\n",
    "    for tokens in corpus:\n",
    "        counter.update(tokens)\n",
    "    vocab = special_tokens\n",
    "    for token, count in counter.most_common(n_vocab): # 가장 많이 등장한 순서대로 상위 n_vocab개의 단어 반환\n",
    "        vocab.append(token)\n",
    "    return vocab\n"
   ]
  },
  {
   "cell_type": "code",
   "execution_count": 178,
   "metadata": {},
   "outputs": [],
   "source": [
    "## 불용어 리스트 불러오는 함수\n",
    "STOP_PATH = 'kor_stopwords.txt'\n",
    "\n",
    "def make_stopwords(STOP_PATH):\n",
    "    with open(STOP_PATH, 'r', encoding='utf-8') as f:\n",
    "        stopwords = f.read().splitlines() # 문장단위로\n",
    "    return set(stopwords)       \n"
   ]
  },
  {
   "cell_type": "code",
   "execution_count": null,
   "metadata": {},
   "outputs": [],
   "source": []
  },
  {
   "cell_type": "code",
   "execution_count": 179,
   "metadata": {},
   "outputs": [],
   "source": [
    "stopwords = make_stopwords(STOP_PATH)"
   ]
  },
  {
   "cell_type": "code",
   "execution_count": 180,
   "metadata": {},
   "outputs": [
    {
     "name": "stdout",
     "output_type": "stream",
     "text": [
      "['<pad>', '<unk>', '영화', '사람', '사랑', '생각', '잘', '할', '웹툰', '김수현']\n",
      "10002\n"
     ]
    }
   ],
   "source": [
    "tokenizer = Okt()\n",
    "train_tokens = [[token for token in tokenizer.morphs(review) if token not in stopwords ] for review in train.리뷰]   \n",
    "test_tokens = [[token for token in tokenizer.morphs(review) if token not in stopwords] for review in test.리뷰]\n",
    "\n",
    "vocab = build_vocab(corpus=train_tokens, n_vocab=10000, special_tokens=[\"<pad>\", \"<unk>\"])\n",
    "token_to_id = {token: idx for idx, token in enumerate(vocab)} \n",
    "id_to_token = {idx: token for idx, token in enumerate(vocab)} \n",
    "\n",
    "print(vocab[:10])\n",
    "print(len(vocab))"
   ]
  },
  {
   "cell_type": "code",
   "execution_count": 240,
   "metadata": {},
   "outputs": [
    {
     "data": {
      "image/png": "[encoded data removed]",
      "text/plain": [
       "<Figure size 640x480 with 1 Axes>"
      ]
     },
     "metadata": {},
     "output_type": "display_data"
    }
   ],
   "source": [
    "datalen = [len(tokens) for tokens in train_tokens]\n",
    "plt.hist(datalen,bins=4)\n",
    "plt.show()"
   ]
  },
  {
   "cell_type": "code",
   "execution_count": 182,
   "metadata": {},
   "outputs": [
    {
     "data": {
      "text/plain": [
       "[('영화', 3069),\n",
       " ('사람', 1007),\n",
       " ('사랑', 886),\n",
       " ('생각', 798),\n",
       " ('잘', 776),\n",
       " ('할', 722),\n",
       " ('웹툰', 693),\n",
       " ('김수현', 671),\n",
       " ('원작', 662),\n",
       " ('노래', 620),\n",
       " ('플', 601),\n",
       " ('렉', 594),\n",
       " ('드라마', 587),\n",
       " ('아서', 585),\n",
       " ('배우', 544),\n",
       " ('연기', 538),\n",
       " ('이야기', 528),\n",
       " ('뮤지컬', 526),\n",
       " ('점', 514),\n",
       " ('한다', 487),\n",
       " ('보고', 484),\n",
       " ('진짜', 464),\n",
       " ('작품', 462),\n",
       " ('시즌', 452),\n",
       " ('요리', 444),\n",
       " ('보다', 439),\n",
       " ('없는', 434),\n",
       " ('장면', 421),\n",
       " ('감독', 415),\n",
       " ('느낌', 410),\n",
       " ('캐릭터', 410),\n",
       " ('같은', 394),\n",
       " ('연출', 386),\n",
       " ('그냥', 380),\n",
       " ('스토리', 380),\n",
       " ('편', 375),\n",
       " ('없다', 368),\n",
       " ('대한', 353),\n",
       " ('관객', 352),\n",
       " ('시작', 341),\n",
       " ('볼', 340),\n",
       " ('되는', 336),\n",
       " ('건', 335),\n",
       " ('아닌', 333),\n",
       " ('정도', 332),\n",
       " ('보는', 331),\n",
       " ('하게', 328),\n",
       " ('모든', 323),\n",
       " ('성', 314),\n",
       " ('이렇게', 313),\n",
       " ('때문', 294),\n",
       " ('처럼', 292),\n",
       " ('모습', 291),\n",
       " ('현실', 286),\n",
       " ('부분', 285),\n",
       " ('듯', 282),\n",
       " ('재미', 280),\n",
       " ('재희', 263),\n",
       " ('마지막', 261),\n",
       " ('다시', 257)]"
      ]
     },
     "execution_count": 182,
     "metadata": {},
     "output_type": "execute_result"
    }
   ],
   "source": [
    "# 못걸러진 불용어 찾기\n",
    "all_tokens = [token for tokens in train_tokens for token in tokens]\n",
    "token_counts = Counter(all_tokens)\n",
    "frequencies = list(token_counts.values())\n",
    "\n",
    "token_counts.most_common(60)"
   ]
  },
  {
   "cell_type": "code",
   "execution_count": 183,
   "metadata": {},
   "outputs": [],
   "source": [
    "## 정수 인코딩 및 패딩\n",
    "import numpy as np\n",
    "# 패딩까지 해주는 함수\n",
    "def pad_sequences(sequences, max_length, pad_value):  \n",
    "    result = list()\n",
    "    for sequence in sequences:\n",
    "        sequence = sequence[:max_length] \n",
    "        pad_length = max_length - len(sequence)\n",
    "        padded_sequence = sequence + [pad_value] * pad_length   \n",
    "        result.append(padded_sequence)\n",
    "    return np.asarray(result)   "
   ]
  },
  {
   "cell_type": "code",
   "execution_count": 184,
   "metadata": {},
   "outputs": [
    {
     "name": "stdout",
     "output_type": "stream",
     "text": [
      "[  60   60   29    1   89  354 3354 2144  730    0    0    0    0    0\n",
      "    0    0    0    0    0    0    0    0    0    0    0    0    0    0\n",
      "    0    0    0    0    0    0    0    0    0    0    0    0    0    0\n",
      "    0    0    0    0    0    0    0    0]\n",
      "[ 327  261  108 5912  282 1635    1 1202 9950   71   22 1254    1 3707\n",
      "    0    0    0    0    0    0    0    0    0    0    0    0    0    0\n",
      "    0    0    0    0    0    0    0    0    0    0    0    0    0    0\n",
      "    0    0    0    0    0    0    0    0]\n"
     ]
    }
   ],
   "source": [
    "unk_id = token_to_id[\"<unk>\"]   \n",
    "train_ids = [[token_to_id.get(token, unk_id) for token in review] for review in train_tokens]  \n",
    "test_ids = [[token_to_id.get(token, unk_id) for token in review] for review in test_tokens]\n",
    "\n",
    "max_length = 50\n",
    "pad_id = token_to_id[\"<pad>\"]   \n",
    "train_ids = pad_sequences(train_ids, max_length, pad_id)\n",
    "test_ids = pad_sequences(test_ids, max_length, pad_id)\n",
    "\n",
    "print(train_ids[0])\n",
    "print(test_ids[0])"
   ]
  },
  {
   "cell_type": "code",
   "execution_count": 185,
   "metadata": {},
   "outputs": [
    {
     "data": {
      "text/plain": [
       "array([[  60,   60,   29, ...,    0,    0,    0],\n",
       "       [  65,  160,   90, ...,    0,    0,    0],\n",
       "       [8220,    0,    0, ...,    0,    0,    0],\n",
       "       ...,\n",
       "       [ 541,   89,   64, ...,    0,    0,    0],\n",
       "       [ 505,  139,  253, ...,    0,    0,    0],\n",
       "       [  71, 3679, 6685, ...,    0,    0,    0]])"
      ]
     },
     "execution_count": 185,
     "metadata": {},
     "output_type": "execute_result"
    }
   ],
   "source": [
    "train_ids"
   ]
  },
  {
   "cell_type": "code",
   "execution_count": 186,
   "metadata": {},
   "outputs": [],
   "source": [
    "## 데이터로더\n",
    "import torch\n",
    "from torch.utils.data import TensorDataset, DataLoader\n",
    "\n",
    "train_ids = torch.tensor(train_ids)\n",
    "test_ids = torch.tensor(test_ids)\n",
    "\n",
    "train_labels = torch.tensor(train.긍정.values, dtype=torch.float32)\n",
    "test_labels = torch.tensor(test.긍정.values, dtype=torch.float32)\n",
    "\n",
    "train_dataset = TensorDataset(train_ids, train_labels)\n",
    "test_dataset = TensorDataset(test_ids, test_labels)\n",
    "\n",
    "train_loader = DataLoader(train_dataset, batch_size=16, shuffle=True)\n",
    "test_loader = DataLoader(test_dataset, batch_size=16, shuffle=False)"
   ]
  },
  {
   "cell_type": "code",
   "execution_count": 187,
   "metadata": {},
   "outputs": [
    {
     "name": "stdout",
     "output_type": "stream",
     "text": [
      "tensor([[ 531,   19,  364,   11,  657,    1,  123,  143,  289,  610,  164,  906,\n",
      "          160,   45, 2746,    0,    0,    0,    0,    0,    0,    0,    0,    0,\n",
      "            0,    0,    0,    0,    0,    0,    0,    0,    0,    0,    0,    0,\n",
      "            0,    0,    0,    0,    0,    0,    0,    0,    0,    0,    0,    0,\n",
      "            0,    0],\n",
      "        [  73, 4808, 1119,   92,  165, 7038,  220,  426, 6916,   39,  465, 9403,\n",
      "            0,    0,    0,    0,    0,    0,    0,    0,    0,    0,    0,    0,\n",
      "            0,    0,    0,    0,    0,    0,    0,    0,    0,    0,    0,    0,\n",
      "            0,    0,    0,    0,    0,    0,    0,    0,    0,    0,    0,    0,\n",
      "            0,    0],\n",
      "        [   2, 2282, 2283, 1105,   14,  297,  284,    0,    0,    0,    0,    0,\n",
      "            0,    0,    0,    0,    0,    0,    0,    0,    0,    0,    0,    0,\n",
      "            0,    0,    0,    0,    0,    0,    0,    0,    0,    0,    0,    0,\n",
      "            0,    0,    0,    0,    0,    0,    0,    0,    0,    0,    0,    0,\n",
      "            0,    0],\n",
      "        [  10, 2829,  940,    1,    1, 9839,    0,    0,    0,    0,    0,    0,\n",
      "            0,    0,    0,    0,    0,    0,    0,    0,    0,    0,    0,    0,\n",
      "            0,    0,    0,    0,    0,    0,    0,    0,    0,    0,    0,    0,\n",
      "            0,    0,    0,    0,    0,    0,    0,    0,    0,    0,    0,    0,\n",
      "            0,    0],\n",
      "        [ 568, 1275,  931,  618, 1092,   31,    0,    0,    0,    0,    0,    0,\n",
      "            0,    0,    0,    0,    0,    0,    0,    0,    0,    0,    0,    0,\n",
      "            0,    0,    0,    0,    0,    0,    0,    0,    0,    0,    0,    0,\n",
      "            0,    0,    0,    0,    0,    0,    0,    0,    0,    0,    0,    0,\n",
      "            0,    0],\n",
      "        [ 297,  284,   25,   41, 1244, 1044,    1,  573,   25,    1,    0,    0,\n",
      "            0,    0,    0,    0,    0,    0,    0,    0,    0,    0,    0,    0,\n",
      "            0,    0,    0,    0,    0,    0,    0,    0,    0,    0,    0,    0,\n",
      "            0,    0,    0,    0,    0,    0,    0,    0,    0,    0,    0,    0,\n",
      "            0,    0],\n",
      "        [ 630,   25,  123,    0,    0,    0,    0,    0,    0,    0,    0,    0,\n",
      "            0,    0,    0,    0,    0,    0,    0,    0,    0,    0,    0,    0,\n",
      "            0,    0,    0,    0,    0,    0,    0,    0,    0,    0,    0,    0,\n",
      "            0,    0,    0,    0,    0,    0,    0,    0,    0,    0,    0,    0,\n",
      "            0,    0],\n",
      "        [7319,   41, 9930,  352,   58, 1358, 9931, 3914,  533,  106, 3305,    1,\n",
      "         2605,    1,  234,   96, 7320,  275, 9932, 4611,   84, 3432, 5906,   75,\n",
      "          272,  363,    0,    0,    0,    0,    0,    0,    0,    0,    0,    0,\n",
      "            0,    0,    0,    0,    0,    0,    0,    0,    0,    0,    0,    0,\n",
      "            0,    0],\n",
      "        [ 302,   47, 5398,    1,    2,   59,   98,  135,    6,   68, 8662, 2362,\n",
      "           47,  219,  436, 6599,   49,  171, 5399,  139,  884,  513, 3143, 8663,\n",
      "          529,  131, 4364,  620,  116, 3489,  230,    3,    3, 3834,  105,  231,\n",
      "           23,  805,   63,  116,  401, 3953, 2244, 2633,    1,  144,  100,  221,\n",
      "           77, 2200],\n",
      "        [ 254, 1115,  330,    0,    0,    0,    0,    0,    0,    0,    0,    0,\n",
      "            0,    0,    0,    0,    0,    0,    0,    0,    0,    0,    0,    0,\n",
      "            0,    0,    0,    0,    0,    0,    0,    0,    0,    0,    0,    0,\n",
      "            0,    0,    0,    0,    0,    0,    0,    0,    0,    0,    0,    0,\n",
      "            0,    0],\n",
      "        [   1,    1,  413,  482, 5800, 1234, 2999, 4241,  141, 1678,  755,    1,\n",
      "         1432,  156, 1678,    1,    1,   43,   14,    0,    0,    0,    0,    0,\n",
      "            0,    0,    0,    0,    0,    0,    0,    0,    0,    0,    0,    0,\n",
      "            0,    0,    0,    0,    0,    0,    0,    0,    0,    0,    0,    0,\n",
      "            0,    0],\n",
      "        [   4,  414, 1729,   49,  119,    4,    0,    0,    0,    0,    0,    0,\n",
      "            0,    0,    0,    0,    0,    0,    0,    0,    0,    0,    0,    0,\n",
      "            0,    0,    0,    0,    0,    0,    0,    0,    0,    0,    0,    0,\n",
      "            0,    0,    0,    0,    0,    0,    0,    0,    0,    0,    0,    0,\n",
      "            0,    0],\n",
      "        [6447, 1598,    1, 7651,  143, 3102, 3641,   63,   99, 9425,    1, 6577,\n",
      "         7951, 4739,    1, 7192,    1, 2240,  331, 2343,    1,   31, 5713, 1519,\n",
      "            0,    0,    0,    0,    0,    0,    0,    0,    0,    0,    0,    0,\n",
      "            0,    0,    0,    0,    0,    0,    0,    0,    0,    0,    0,    0,\n",
      "            0,    0],\n",
      "        [8018, 1067,    1,    1,    2,    0,    0,    0,    0,    0,    0,    0,\n",
      "            0,    0,    0,    0,    0,    0,    0,    0,    0,    0,    0,    0,\n",
      "            0,    0,    0,    0,    0,    0,    0,    0,    0,    0,    0,    0,\n",
      "            0,    0,    0,    0,    0,    0,    0,    0,    0,    0,    0,    0,\n",
      "            0,    0],\n",
      "        [1841,  366,  540,  108, 1841,  366, 2754, 1849,  108,  350, 1849,    0,\n",
      "            0,    0,    0,    0,    0,    0,    0,    0,    0,    0,    0,    0,\n",
      "            0,    0,    0,    0,    0,    0,    0,    0,    0,    0,    0,    0,\n",
      "            0,    0,    0,    0,    0,    0,    0,    0,    0,    0,    0,    0,\n",
      "            0,    0],\n",
      "        [1659,   64, 1872,    1,    1, 4406,    1, 5585,  784, 5586,  283,   75,\n",
      "            1, 1975, 1186, 3905,  183,    0,    0,    0,    0,    0,    0,    0,\n",
      "            0,    0,    0,    0,    0,    0,    0,    0,    0,    0,    0,    0,\n",
      "            0,    0,    0,    0,    0,    0,    0,    0,    0,    0,    0,    0,\n",
      "            0,    0]], dtype=torch.int32)\n",
      "tensor([1., 0., 1., 0., 0., 1., 1., 1., 1., 0., 1., 1., 0., 0., 1., 0.])\n"
     ]
    }
   ],
   "source": [
    "for feature, label in train_loader:\n",
    "    print(feature)\n",
    "    print(label)\n",
    "    break"
   ]
  },
  {
   "cell_type": "code",
   "execution_count": 188,
   "metadata": {},
   "outputs": [],
   "source": [
    "# 문장 분류하는 모델\n",
    "class SentenceClassifier(nn.Module):\n",
    "    def __init__(self, n_vocab, hidden_dim, embedding_dim, n_layers, n_classes ,dropout=0.5, bidirectional=True, model_type=\"lstm\"):\n",
    "        super().__init__()  # 부모클래스 상속\n",
    "\n",
    "        self.embedding = nn.Embedding(num_embeddings=n_vocab, embedding_dim=embedding_dim, padding_idx=0)\n",
    "\n",
    "        # rnn모델 일 경우\n",
    "        if model_type == 'rnn':\n",
    "            self.model = nn.RNN(\n",
    "                input_size=embedding_dim, hidden_size=hidden_dim, num_layers=n_layers, bidirectional=bidirectional, dropout=dropout, batch_first=True\n",
    "            )\n",
    "        # lstm모델 일 경우\n",
    "        elif model_type == 'lstm':\n",
    "            self.model = nn.LSTM(\n",
    "                input_size=embedding_dim, hidden_size=hidden_dim, num_layers=n_layers, bidirectional=bidirectional, dropout=dropout, batch_first=True\n",
    "            )\n",
    "\n",
    "        # bidirectional은 양방향성을 의미하는 파라미터\n",
    "        if bidirectional:\n",
    "            self.classifier = nn.Linear(hidden_dim * 2, n_classes)   # 양방향일때 타임스탭에서 양방향의 정보(순방향,역방향)의 출력들을 결합하여 분류기에 전달\n",
    "        else:\n",
    "            self.classifier = nn.Linear(hidden_dim, n_classes)\n",
    "        self.dropout = nn.Dropout(dropout)\n",
    "\n",
    "    def forward(self, inputs):\n",
    "        embeddings = self.embedding(inputs)\n",
    "        output, _ = self.model(embeddings) \n",
    "        last_output = output[:, -1, :]\n",
    "        last_output = self.dropout(last_output)\n",
    "        logits = self.classifier(last_output)\n",
    "        return logits"
   ]
  },
  {
   "cell_type": "code",
   "execution_count": 189,
   "metadata": {},
   "outputs": [],
   "source": []
  },
  {
   "cell_type": "code",
   "execution_count": 190,
   "metadata": {},
   "outputs": [],
   "source": [
    "from torch.optim.lr_scheduler import ReduceLROnPlateau"
   ]
  },
  {
   "cell_type": "code",
   "execution_count": 191,
   "metadata": {},
   "outputs": [],
   "source": [
    "## 손실 함수와 최적화 함수 정의\n",
    "from torch import optim\n",
    "LR = 0.001\n",
    "n_vocab = len(token_to_id)   # 단어사전의 크기\n",
    "hidden_dim = 128     # 은닉 사태의 크기\n",
    "embedding_dim = 128   #임베딩 벡터의 차원 128차원으로 사용\n",
    "n_layers = 2     # 2층\n",
    "n_classes = 1 # 2진 분류라 1\n",
    "\n",
    "device = \"cuda\" if torch.cuda.is_available() else \"cpu\"\n",
    "classifier = SentenceClassifier(n_vocab=n_vocab, hidden_dim=hidden_dim, embedding_dim=embedding_dim, n_layers=n_layers, n_classes=n_classes).to(device)\n",
    "criterion = nn.BCEWithLogitsLoss().to(device)   \n",
    "optimizer = optim.Adam(classifier.parameters(), lr=LR)\n",
    "scheduler = ReduceLROnPlateau(optimizer, mode='min', factor=0.1, patience=5)"
   ]
  },
  {
   "cell_type": "markdown",
   "metadata": {},
   "source": [
    "모델학습"
   ]
  },
  {
   "cell_type": "code",
   "execution_count": 192,
   "metadata": {},
   "outputs": [],
   "source": [
    "# 모델 학습하는 함수\n",
    "def train(model, datasets, criterion, optimizer, device, interval):\n",
    "    model.train()\n",
    "    losses = list()\n",
    "\n",
    "    for step, (input_ids, labels) in enumerate(datasets):\n",
    "        input_ids = input_ids.to(device)\n",
    "        labels = labels.to(device).unsqueeze(1)\n",
    "\n",
    "        logits = model(input_ids)\n",
    "        loss = criterion(logits, labels)\n",
    "        losses.append(loss.item())\n",
    "\n",
    "        optimizer.zero_grad()\n",
    "        loss.backward()\n",
    "        optimizer.step()\n",
    "\n",
    "        if step%interval == 0:\n",
    "            print(f'Train Loss {step} : {np.mean(losses)}')"
   ]
  },
  {
   "cell_type": "code",
   "execution_count": 193,
   "metadata": {},
   "outputs": [],
   "source": [
    "# 모델 테스트하는 함수\n",
    "def test(model, datasets, criterion, device):\n",
    "    model.eval()\n",
    "    losses = list()\n",
    "    corrects = list()\n",
    "\n",
    "    for step, (input_ids, labels) in enumerate(datasets):   \n",
    "        input_ids = input_ids.to(device)\n",
    "        labels = labels.to(device).unsqueeze(1)\n",
    "\n",
    "        logits = model(input_ids)  \n",
    "        loss = criterion(logits, labels)\n",
    "        losses.append(loss.item())\n",
    "        yhat = torch.sigmoid(logits)>.5  \n",
    "        corrects.extend(torch.eq(yhat, labels).cpu().tolist())        \n",
    "\n",
    "        val_loss = np.mean(losses)\n",
    "        val_accuracy = np.mean(corrects)\n",
    "\n",
    "    print(f\"Val Loss : {val_loss}, Val Accuracy : {val_accuracy}\")\n",
    "    return val_loss\n"
   ]
  },
  {
   "cell_type": "code",
   "execution_count": 194,
   "metadata": {},
   "outputs": [
    {
     "name": "stdout",
     "output_type": "stream",
     "text": [
      "epoch : 0\n",
      "Train Loss 0 : 0.6939022541046143\n"
     ]
    },
    {
     "name": "stdout",
     "output_type": "stream",
     "text": [
      "Train Loss 500 : 0.6907760848304231\n",
      "Val Loss : 0.6901656170000975, Val Accuracy : 0.5557955363570914\n",
      "epoch : 1\n",
      "Train Loss 0 : 0.6778349876403809\n",
      "Train Loss 500 : 0.6863895342973416\n",
      "Val Loss : 0.7347057732357376, Val Accuracy : 0.556515478761699\n",
      "epoch : 2\n",
      "Train Loss 0 : 0.7856537103652954\n",
      "Train Loss 500 : 0.6768698128397593\n",
      "Val Loss : 0.7062810474428637, Val Accuracy : 0.5485961123110151\n",
      "epoch : 3\n",
      "Train Loss 0 : 0.6648533940315247\n",
      "Train Loss 500 : 0.6728623502268762\n",
      "Val Loss : 0.6842735354927765, Val Accuracy : 0.5392368610511159\n",
      "epoch : 4\n",
      "Train Loss 0 : 0.5819196701049805\n",
      "Train Loss 500 : 0.6223550921904588\n",
      "Val Loss : 0.6239110882254852, Val Accuracy : 0.6630669546436285\n",
      "epoch : 5\n",
      "Train Loss 0 : 0.5843283534049988\n",
      "Train Loss 500 : 0.527937169441444\n",
      "Val Loss : 0.6326474182564636, Val Accuracy : 0.67170626349892\n",
      "epoch : 6\n",
      "Train Loss 0 : 0.40555834770202637\n",
      "Train Loss 500 : 0.4315222952507451\n",
      "Val Loss : 0.7654069812818506, Val Accuracy : 0.6724262059035278\n",
      "epoch : 7\n",
      "Train Loss 0 : 0.4238550364971161\n",
      "Train Loss 500 : 0.35139100494498976\n",
      "Val Loss : 0.7233195715937121, Val Accuracy : 0.6609071274298056\n",
      "epoch : 8\n",
      "Train Loss 0 : 0.2810914218425751\n",
      "Train Loss 500 : 0.2808691482329202\n",
      "Val Loss : 0.7872871903852484, Val Accuracy : 0.6673866090712743\n",
      "epoch : 9\n",
      "Train Loss 0 : 0.23950405418872833\n",
      "Train Loss 500 : 0.24082700317045172\n",
      "Val Loss : 0.902467863313083, Val Accuracy : 0.6637868970482361\n",
      "epoch : 10\n",
      "Train Loss 0 : 0.4999532997608185\n",
      "Train Loss 500 : 0.20950150677187\n",
      "Val Loss : 0.9324669777148071, Val Accuracy : 0.660187185025198\n",
      "epoch : 11\n",
      "Train Loss 0 : 0.28260380029678345\n",
      "Train Loss 500 : 0.17025500174217714\n",
      "Val Loss : 1.0902022384963501, Val Accuracy : 0.652267818574514\n",
      "epoch : 12\n",
      "Train Loss 0 : 0.28752601146698\n",
      "Train Loss 500 : 0.15643800969259766\n",
      "Val Loss : 1.0972818850871475, Val Accuracy : 0.6493880489560835\n",
      "epoch : 13\n",
      "Train Loss 0 : 0.06347665190696716\n",
      "Train Loss 500 : 0.148586206879846\n",
      "Val Loss : 1.1300550352396637, Val Accuracy : 0.6479481641468683\n",
      "epoch : 14\n",
      "Train Loss 0 : 0.21969091892242432\n",
      "Train Loss 500 : 0.14652074919548816\n",
      "Val Loss : 1.1829288075731574, Val Accuracy : 0.6479481641468683\n",
      "epoch : 15\n",
      "Train Loss 0 : 0.09940394759178162\n",
      "Train Loss 500 : 0.1374017651622256\n",
      "Val Loss : 1.1945543073802845, Val Accuracy : 0.646508279337653\n",
      "epoch : 16\n",
      "Train Loss 0 : 0.33359581232070923\n",
      "Train Loss 500 : 0.13150283518226857\n",
      "Val Loss : 1.2044211718756919, Val Accuracy : 0.6450683945284377\n",
      "epoch : 17\n",
      "Train Loss 0 : 0.02266760542988777\n",
      "Train Loss 500 : 0.1246916031141481\n",
      "Val Loss : 1.2153593605041675, Val Accuracy : 0.6429085673146149\n",
      "epoch : 18\n",
      "Train Loss 0 : 0.04697662964463234\n",
      "Train Loss 500 : 0.12145183229272416\n",
      "Val Loss : 1.2266199052034097, Val Accuracy : 0.6400287976961843\n",
      "epoch : 19\n",
      "Train Loss 0 : 0.3149886131286621\n",
      "Train Loss 500 : 0.12846139723438763\n",
      "Val Loss : 1.2409670216341813, Val Accuracy : 0.6393088552915767\n",
      "epoch : 20\n",
      "Train Loss 0 : 0.08335042744874954\n",
      "Train Loss 500 : 0.12815304677710385\n",
      "Val Loss : 1.2475403118664505, Val Accuracy : 0.6393088552915767\n",
      "epoch : 21\n",
      "Train Loss 0 : 0.05201439559459686\n",
      "Train Loss 500 : 0.12296744242139503\n",
      "Val Loss : 1.2555613901209215, Val Accuracy : 0.6400287976961843\n",
      "epoch : 22\n",
      "Train Loss 0 : 0.056394096463918686\n",
      "Train Loss 500 : 0.1270300338264116\n",
      "Val Loss : 1.2600583542866268, Val Accuracy : 0.6421886249100072\n",
      "epoch : 23\n",
      "Train Loss 0 : 0.10423435270786285\n",
      "Train Loss 500 : 0.11943371048357018\n",
      "Val Loss : 1.261058787804568, Val Accuracy : 0.6421886249100072\n",
      "epoch : 24\n",
      "Train Loss 0 : 0.015782751142978668\n",
      "Train Loss 500 : 0.12382858804243053\n",
      "Val Loss : 1.2618549893042823, Val Accuracy : 0.6378689704823615\n",
      "epoch : 25\n",
      "Train Loss 0 : 0.02335525117814541\n",
      "Train Loss 500 : 0.12020116482309239\n",
      "Val Loss : 1.2625303717608425, Val Accuracy : 0.6378689704823615\n",
      "epoch : 26\n",
      "Train Loss 0 : 0.08093030005693436\n",
      "Train Loss 500 : 0.12278824492530552\n",
      "Val Loss : 1.2633720640007449, Val Accuracy : 0.6371490280777538\n",
      "epoch : 27\n",
      "Train Loss 0 : 0.18062470853328705\n",
      "Train Loss 500 : 0.12993424160855854\n",
      "Val Loss : 1.2636757894130102, Val Accuracy : 0.6371490280777538\n",
      "epoch : 28\n",
      "Train Loss 0 : 0.05884024500846863\n",
      "Train Loss 500 : 0.12653200961686598\n",
      "Val Loss : 1.2647379564720838, Val Accuracy : 0.6371490280777538\n",
      "epoch : 29\n",
      "Train Loss 0 : 0.03420029208064079\n",
      "Train Loss 500 : 0.12297695833713768\n",
      "Val Loss : 1.2647927397990535, Val Accuracy : 0.6364290856731462\n",
      "epoch : 30\n",
      "Train Loss 0 : 0.1418401002883911\n",
      "Train Loss 500 : 0.12013952791348784\n",
      "Val Loss : 1.2648605917762408, Val Accuracy : 0.6364290856731462\n",
      "epoch : 31\n",
      "Train Loss 0 : 0.017158575356006622\n",
      "Train Loss 500 : 0.12604034847083562\n",
      "Val Loss : 1.2649439954594976, Val Accuracy : 0.6364290856731462\n",
      "epoch : 32\n",
      "Train Loss 0 : 0.49229949712753296\n",
      "Train Loss 500 : 0.12596418012208688\n",
      "Val Loss : 1.2650412849696546, Val Accuracy : 0.6364290856731462\n",
      "epoch : 33\n",
      "Train Loss 0 : 0.13325625658035278\n",
      "Train Loss 500 : 0.12532917037792132\n",
      "Val Loss : 1.265117264791638, Val Accuracy : 0.6364290856731462\n",
      "epoch : 34\n",
      "Train Loss 0 : 0.1803644746541977\n",
      "Train Loss 500 : 0.12289176937824714\n",
      "Val Loss : 1.2651572892570804, Val Accuracy : 0.6364290856731462\n",
      "epoch : 35\n",
      "Train Loss 0 : 0.06637367606163025\n",
      "Train Loss 500 : 0.12299614180875812\n",
      "Val Loss : 1.2651552793238012, Val Accuracy : 0.6364290856731462\n",
      "epoch : 36\n",
      "Train Loss 0 : 0.10551188886165619\n",
      "Train Loss 500 : 0.12461576034722036\n",
      "Val Loss : 1.265152571819209, Val Accuracy : 0.6364290856731462\n",
      "epoch : 37\n",
      "Train Loss 0 : 0.02033856511116028\n",
      "Train Loss 500 : 0.12270557542820415\n",
      "Val Loss : 1.2651514171290843, Val Accuracy : 0.6364290856731462\n",
      "epoch : 38\n",
      "Train Loss 0 : 0.017331866547465324\n",
      "Train Loss 500 : 0.12793124551529775\n",
      "Val Loss : 1.2651494834143882, Val Accuracy : 0.6364290856731462\n",
      "epoch : 39\n",
      "Train Loss 0 : 0.08711482584476471\n",
      "Train Loss 500 : 0.12474080244313457\n",
      "Val Loss : 1.2651464247797755, Val Accuracy : 0.6364290856731462\n",
      "epoch : 40\n",
      "Train Loss 0 : 0.04839880019426346\n",
      "Train Loss 500 : 0.11888265370497268\n",
      "Val Loss : 1.265144365936004, Val Accuracy : 0.6364290856731462\n",
      "epoch : 41\n",
      "Train Loss 0 : 0.04476919025182724\n",
      "Train Loss 500 : 0.1225221184065599\n",
      "Val Loss : 1.2651408336970997, Val Accuracy : 0.6364290856731462\n",
      "epoch : 42\n",
      "Train Loss 0 : 0.04796886444091797\n",
      "Train Loss 500 : 0.12615097307798986\n",
      "Val Loss : 1.265136040351086, Val Accuracy : 0.6364290856731462\n",
      "epoch : 43\n",
      "Train Loss 0 : 0.25696948170661926\n",
      "Train Loss 500 : 0.12068431448384732\n",
      "Val Loss : 1.2651343397453598, Val Accuracy : 0.6364290856731462\n",
      "epoch : 44\n",
      "Train Loss 0 : 0.36429473757743835\n",
      "Train Loss 500 : 0.12483181319052647\n",
      "Val Loss : 1.2651328768945118, Val Accuracy : 0.6364290856731462\n",
      "epoch : 45\n",
      "Train Loss 0 : 0.02072649635374546\n",
      "Train Loss 500 : 0.12693418478202856\n",
      "Val Loss : 1.2651297232971108, Val Accuracy : 0.6364290856731462\n",
      "epoch : 46\n",
      "Train Loss 0 : 0.02392766997218132\n",
      "Train Loss 500 : 0.11854815140678854\n",
      "Val Loss : 1.2651280233122666, Val Accuracy : 0.6364290856731462\n",
      "epoch : 47\n",
      "Train Loss 0 : 0.140036478638649\n",
      "Train Loss 500 : 0.12592464497688408\n",
      "Val Loss : 1.26512589476917, Val Accuracy : 0.6364290856731462\n",
      "epoch : 48\n",
      "Train Loss 0 : 0.10987997055053711\n",
      "Train Loss 500 : 0.11892061606570037\n",
      "Val Loss : 1.2651229931319925, Val Accuracy : 0.6364290856731462\n",
      "epoch : 49\n",
      "Train Loss 0 : 0.04195967689156532\n",
      "Train Loss 500 : 0.12155160825967254\n",
      "Val Loss : 1.2651211770101525, Val Accuracy : 0.6364290856731462\n",
      "epoch : 50\n",
      "Train Loss 0 : 0.219605952501297\n",
      "Train Loss 500 : 0.1205954948521987\n",
      "Val Loss : 1.2651183947000182, Val Accuracy : 0.6364290856731462\n",
      "epoch : 51\n",
      "Train Loss 0 : 0.0696718692779541\n",
      "Train Loss 500 : 0.12428827481362932\n",
      "Val Loss : 1.265116557607363, Val Accuracy : 0.6364290856731462\n",
      "epoch : 52\n",
      "Train Loss 0 : 0.08098955452442169\n",
      "Train Loss 500 : 0.12135114463905018\n",
      "Val Loss : 1.2651133706322175, Val Accuracy : 0.6364290856731462\n",
      "epoch : 53\n",
      "Train Loss 0 : 0.015177481807768345\n",
      "Train Loss 500 : 0.12115075806724633\n",
      "Val Loss : 1.2651124804591138, Val Accuracy : 0.6364290856731462\n",
      "epoch : 54\n",
      "Train Loss 0 : 0.030612988397479057\n",
      "Train Loss 500 : 0.12276337893787556\n",
      "Val Loss : 1.2651117816781519, Val Accuracy : 0.6364290856731462\n",
      "epoch : 55\n",
      "Train Loss 0 : 0.27425527572631836\n",
      "Train Loss 500 : 0.12538075174377886\n",
      "Val Loss : 1.2651076898000193, Val Accuracy : 0.6364290856731462\n",
      "epoch : 56\n",
      "Train Loss 0 : 0.5142838358879089\n",
      "Train Loss 500 : 0.12692474333491333\n",
      "Val Loss : 1.2651048358850951, Val Accuracy : 0.6364290856731462\n",
      "epoch : 57\n",
      "Train Loss 0 : 0.1243206113576889\n",
      "Train Loss 500 : 0.12675348072946666\n",
      "Val Loss : 1.26510431909741, Val Accuracy : 0.6364290856731462\n",
      "epoch : 58\n",
      "Train Loss 0 : 0.29328644275665283\n",
      "Train Loss 500 : 0.12434367660410747\n",
      "Val Loss : 1.2651016724178161, Val Accuracy : 0.6364290856731462\n",
      "epoch : 59\n",
      "Train Loss 0 : 0.029560880735516548\n",
      "Train Loss 500 : 0.12338230339717306\n",
      "Val Loss : 1.2651004615271915, Val Accuracy : 0.6364290856731462\n",
      "epoch : 60\n",
      "Train Loss 0 : 0.029900074005126953\n",
      "Train Loss 500 : 0.12437568429277507\n",
      "Val Loss : 1.2650995240065044, Val Accuracy : 0.6364290856731462\n",
      "epoch : 61\n",
      "Train Loss 0 : 0.055317193269729614\n",
      "Train Loss 500 : 0.11606652714579763\n",
      "Val Loss : 1.2650955081649724, Val Accuracy : 0.6364290856731462\n",
      "epoch : 62\n",
      "Train Loss 0 : 0.018134940415620804\n",
      "Train Loss 500 : 0.12911562885003472\n",
      "Val Loss : 1.265093240480142, Val Accuracy : 0.6364290856731462\n",
      "epoch : 63\n",
      "Train Loss 0 : 0.1844484508037567\n",
      "Train Loss 500 : 0.12150029159948497\n",
      "Val Loss : 1.265090649647788, Val Accuracy : 0.6364290856731462\n",
      "epoch : 64\n",
      "Train Loss 0 : 0.0876084417104721\n",
      "Train Loss 500 : 0.12641450622957387\n",
      "Val Loss : 1.265088586350796, Val Accuracy : 0.6364290856731462\n",
      "epoch : 65\n",
      "Train Loss 0 : 0.2667074501514435\n",
      "Train Loss 500 : 0.12335751949253672\n",
      "Val Loss : 1.2650846156623514, Val Accuracy : 0.6364290856731462\n",
      "epoch : 66\n",
      "Train Loss 0 : 0.2622731328010559\n",
      "Train Loss 500 : 0.12201724885897841\n",
      "Val Loss : 1.265082483661586, Val Accuracy : 0.6364290856731462\n",
      "epoch : 67\n",
      "Train Loss 0 : 0.1109766960144043\n",
      "Train Loss 500 : 0.12139861437560853\n",
      "Val Loss : 1.2650778918345085, Val Accuracy : 0.6364290856731462\n",
      "epoch : 68\n",
      "Train Loss 0 : 0.047680459916591644\n",
      "Train Loss 500 : 0.12140637010283872\n",
      "Val Loss : 1.2650734455506691, Val Accuracy : 0.6364290856731462\n",
      "epoch : 69\n",
      "Train Loss 0 : 0.04643956944346428\n",
      "Train Loss 500 : 0.12137961402133911\n",
      "Val Loss : 1.2650700781023365, Val Accuracy : 0.6364290856731462\n",
      "epoch : 70\n",
      "Train Loss 0 : 0.06246580183506012\n",
      "Train Loss 500 : 0.12462868578657657\n",
      "Val Loss : 1.2650697638719588, Val Accuracy : 0.6364290856731462\n",
      "epoch : 71\n",
      "Train Loss 0 : 0.025821689516305923\n",
      "Train Loss 500 : 0.1287696314752548\n",
      "Val Loss : 1.2650672412937742, Val Accuracy : 0.6364290856731462\n",
      "epoch : 72\n",
      "Train Loss 0 : 0.42798152565956116\n",
      "Train Loss 500 : 0.11960260399399761\n",
      "Val Loss : 1.2650660566514593, Val Accuracy : 0.6364290856731462\n",
      "epoch : 73\n",
      "Train Loss 0 : 0.16496813297271729\n",
      "Train Loss 500 : 0.12237700825731852\n",
      "Val Loss : 1.2650630771257412, Val Accuracy : 0.6364290856731462\n",
      "epoch : 74\n",
      "Train Loss 0 : 0.019152916967868805\n",
      "Train Loss 500 : 0.12344805066085267\n",
      "Val Loss : 1.2650610403339753, Val Accuracy : 0.6364290856731462\n",
      "epoch : 75\n",
      "Train Loss 0 : 0.432833731174469\n",
      "Train Loss 500 : 0.128909824962566\n",
      "Val Loss : 1.2650591035041658, Val Accuracy : 0.6364290856731462\n",
      "epoch : 76\n",
      "Train Loss 0 : 0.06278087198734283\n",
      "Train Loss 500 : 0.11990257015752935\n",
      "Val Loss : 1.2650564943450964, Val Accuracy : 0.6364290856731462\n",
      "epoch : 77\n",
      "Train Loss 0 : 0.3985633850097656\n",
      "Train Loss 500 : 0.12697035948673407\n",
      "Val Loss : 1.2650534475072361, Val Accuracy : 0.6364290856731462\n",
      "epoch : 78\n",
      "Train Loss 0 : 0.4380219280719757\n",
      "Train Loss 500 : 0.11984306938961119\n",
      "Val Loss : 1.26505308743866, Val Accuracy : 0.6364290856731462\n",
      "epoch : 79\n",
      "Train Loss 0 : 0.35338208079338074\n",
      "Train Loss 500 : 0.12618960667133866\n",
      "Val Loss : 1.2650502032932194, Val Accuracy : 0.6364290856731462\n",
      "epoch : 80\n",
      "Train Loss 0 : 0.05413028597831726\n",
      "Train Loss 500 : 0.11870120201601894\n",
      "Val Loss : 1.2650470874518498, Val Accuracy : 0.6364290856731462\n",
      "epoch : 81\n",
      "Train Loss 0 : 0.019880177453160286\n",
      "Train Loss 500 : 0.12345703648488797\n",
      "Val Loss : 1.2650459191665566, Val Accuracy : 0.6364290856731462\n",
      "epoch : 82\n",
      "Train Loss 0 : 0.07544220238924026\n",
      "Train Loss 500 : 0.12202449618632387\n",
      "Val Loss : 1.2650437196502569, Val Accuracy : 0.6364290856731462\n",
      "epoch : 83\n",
      "Train Loss 0 : 0.1237693578004837\n",
      "Train Loss 500 : 0.12319940252753789\n",
      "Val Loss : 1.26504128156551, Val Accuracy : 0.6364290856731462\n",
      "epoch : 84\n",
      "Train Loss 0 : 0.023679599165916443\n",
      "Train Loss 500 : 0.12612204162400223\n",
      "Val Loss : 1.2650393581595913, Val Accuracy : 0.6364290856731462\n",
      "epoch : 85\n",
      "Train Loss 0 : 0.04319539666175842\n",
      "Train Loss 500 : 0.1185258869044557\n",
      "Val Loss : 1.2650362992466524, Val Accuracy : 0.6364290856731462\n",
      "epoch : 86\n",
      "Train Loss 0 : 0.019280865788459778\n",
      "Train Loss 500 : 0.11764438664298987\n",
      "Val Loss : 1.265035054378811, Val Accuracy : 0.6364290856731462\n",
      "epoch : 87\n",
      "Train Loss 0 : 0.31561967730522156\n",
      "Train Loss 500 : 0.13078772326273297\n",
      "Val Loss : 1.2650322313795144, Val Accuracy : 0.6364290856731462\n",
      "epoch : 88\n",
      "Train Loss 0 : 0.07760518789291382\n",
      "Train Loss 500 : 0.12214686095476626\n",
      "Val Loss : 1.2650307908697032, Val Accuracy : 0.6364290856731462\n",
      "epoch : 89\n",
      "Train Loss 0 : 0.07720302045345306\n",
      "Train Loss 500 : 0.11717595941686404\n",
      "Val Loss : 1.2650287232693584, Val Accuracy : 0.6364290856731462\n",
      "epoch : 90\n",
      "Train Loss 0 : 0.2490503489971161\n",
      "Train Loss 500 : 0.12347963775234844\n",
      "Val Loss : 1.2650253133655622, Val Accuracy : 0.6364290856731462\n",
      "epoch : 91\n",
      "Train Loss 0 : 0.14972421526908875\n",
      "Train Loss 500 : 0.12487823873973952\n",
      "Val Loss : 1.265021949481947, Val Accuracy : 0.6364290856731462\n",
      "epoch : 92\n",
      "Train Loss 0 : 0.10769730806350708\n",
      "Train Loss 500 : 0.1243972455257338\n",
      "Val Loss : 1.2650187932511514, Val Accuracy : 0.6364290856731462\n",
      "epoch : 93\n",
      "Train Loss 0 : 0.04683145880699158\n",
      "Train Loss 500 : 0.12718054412970106\n",
      "Val Loss : 1.2650184754239417, Val Accuracy : 0.6364290856731462\n",
      "epoch : 94\n",
      "Train Loss 0 : 0.26874133944511414\n",
      "Train Loss 500 : 0.12023586940072373\n",
      "Val Loss : 1.2650152121766889, Val Accuracy : 0.6364290856731462\n",
      "epoch : 95\n",
      "Train Loss 0 : 0.3070621192455292\n",
      "Train Loss 500 : 0.1211161546078241\n",
      "Val Loss : 1.265013224092023, Val Accuracy : 0.6364290856731462\n",
      "epoch : 96\n",
      "Train Loss 0 : 0.04778344929218292\n",
      "Train Loss 500 : 0.12522192504033894\n",
      "Val Loss : 1.2650097924680717, Val Accuracy : 0.6364290856731462\n",
      "epoch : 97\n",
      "Train Loss 0 : 0.09184148162603378\n",
      "Train Loss 500 : 0.1254295967296212\n",
      "Val Loss : 1.2650091588047558, Val Accuracy : 0.6364290856731462\n",
      "epoch : 98\n",
      "Train Loss 0 : 0.020580314099788666\n",
      "Train Loss 500 : 0.12636531216135163\n",
      "Val Loss : 1.265007966519173, Val Accuracy : 0.6364290856731462\n",
      "epoch : 99\n",
      "Train Loss 0 : 0.048630669713020325\n",
      "Train Loss 500 : 0.12482881857204937\n",
      "Val Loss : 1.2650047916833354, Val Accuracy : 0.6364290856731462\n"
     ]
    }
   ],
   "source": [
    "epochs = 100\n",
    "interval = 500   \n",
    "\n",
    "for epoch in range(epochs):\n",
    "    print(f'epoch : {epoch}')\n",
    "    train(classifier, train_loader, criterion, optimizer, device, interval)\n",
    "    val_loss = test(classifier, test_loader, criterion, device)\n",
    "    scheduler.step(val_loss)"
   ]
  },
  {
   "cell_type": "code",
   "execution_count": 195,
   "metadata": {},
   "outputs": [],
   "source": [
    "torch.save(classifier, f'best_model.pth')"
   ]
  },
  {
   "cell_type": "code",
   "execution_count": 196,
   "metadata": {},
   "outputs": [],
   "source": [
    "device = \"cuda\" if torch.cuda.is_available() else \"cpu\"\n",
    "model=torch.load('best_model.pth', weights_only=False).to(device)"
   ]
  },
  {
   "cell_type": "code",
   "execution_count": 235,
   "metadata": {},
   "outputs": [],
   "source": [
    "new_reviews = [\"너무 폭력적이여서 재미가 없었어\"]"
   ]
  },
  {
   "cell_type": "code",
   "execution_count": 236,
   "metadata": {},
   "outputs": [],
   "source": [
    "new_reviews = [re_text(review) for review in new_reviews]\n",
    "new_tokens = [[token for token in tokenizer.morphs(review) if token not in stopwords] for review in new_reviews]\n",
    "new_ids = [[token_to_id.get(token, unk_id) for token in tokens] for tokens in new_tokens]\n",
    "new_ids_padded = pad_sequences(new_ids, max_length, pad_id)\n",
    "new_ids_tensor = torch.tensor(new_ids_padded).to(device)"
   ]
  },
  {
   "cell_type": "code",
   "execution_count": 237,
   "metadata": {},
   "outputs": [
    {
     "name": "stdout",
     "output_type": "stream",
     "text": [
      "리뷰: 너무 폭력적이여서 재미가 없었어\n",
      "예측된 결과: 긍정\n"
     ]
    }
   ],
   "source": [
    "## 예측\n",
    "model.eval()\n",
    "with torch.no_grad():\n",
    "    outputs = model(new_ids_tensor)\n",
    "    predictions = torch.sigmoid(outputs)\n",
    "\n",
    "# 9. 예측 결과 출력 (0.5 이상이면 긍정, 미만이면 부정)\n",
    "for i, review in enumerate(new_reviews):\n",
    "    prediction = 1 if predictions[i] >= 0.5 else 0\n",
    "    print(f\"리뷰: {review}\")\n",
    "    print(f\"예측된 결과: {'긍정' if prediction == 1 else '부정'}\")"
   ]
  },
  {
   "cell_type": "code",
   "execution_count": 200,
   "metadata": {},
   "outputs": [
    {
     "name": "stdout",
     "output_type": "stream",
     "text": [
      "단어 사전이 저장되었습니다.\n"
     ]
    }
   ],
   "source": [
    "import pickle\n",
    "# 단어 사전 저장\n",
    "with open('vocab.pkl', 'wb') as f:\n",
    "    pickle.dump(vocab, f)\n",
    "\n",
    "print(\"단어 사전이 저장되었습니다.\")"
   ]
  },
  {
   "cell_type": "code",
   "execution_count": 201,
   "metadata": {},
   "outputs": [
    {
     "name": "stdout",
     "output_type": "stream",
     "text": [
      "단어 사전이 불러와졌습니다.\n",
      "['<pad>', '<unk>', '영화', '사람', '사랑', '생각', '잘', '할', '웹툰', '김수현', '원작', '노래', '플', '렉', '드라마', '아서', '배우', '연기', '이야기', '뮤지컬', '점', '한다', '보고', '진짜', '작품', '시즌', '요리', '보다', '없는', '장면', '감독', '느낌', '캐릭터', '같은', '연출', '그냥', '스토리', '편', '없다', '대한', '관객', '시작', '볼', '되는', '건', '아닌', '정도', '보는', '하게', '모든', '성', '이렇게', '때문', '처럼', '모습', '현실', '부분', '듯', '재미', '재희', '마지막', '다시', '마음', '이라는', '라고', '난', '많이', '세상', '이해', '없이', '레베카', '주인공', '해서', '인물', '맛', '님', '매력', '줄', '내용', '위', '인간', '별', '이고', '가장', '셰프', '좋은', '존재', '보면', '이유', '최고', '아니라', '전작', '함', '처음', '전개', '계속', '엔', '인데', '흥수', '환상', '사회', '역시', '좋았다', '몰입', '전', '사실', '자체', '프로그램', '인생', '하면', '이라', '친구', '보기', '인지', '음식', '했던', '대사', '많은', '근데', '순간', '이나', '감동', '개인', '기대', '않은', '결말', '않는', '그렇게', '은밀', '하다', '눈', '기억', '서사', '표현', '감정', '서로', '했는데', '광기', '있어', '약점', '의도', '남자', '나를', '않고', '한국', '하기', '만든', '별로', '남', '김고은', '초반', '대중', '큰', '앞', '할리퀸', '삶', '나도', '좋다', '예능', '망상', '서가', '없고', '피닉스', '번', '재밌게', '극', '장르', '이현우', '가가', '눈물', '호아킨', '그대로', '하며', '서바이벌', '아서는', '요리사', '아니다', '판타지', '되어', '평가', '만화', '서의', '음악', '싶다', '그것', '완성', '여자', '우정', '후반', '봤다', '퀴어', '않는다', '날', '설정', '상', '에드워드', '버린', '보니', '가지', '제발', '로봇', '액션', '영화로', '소재', '명', '심사', '이름', '싶은', '요소', '살', '로맨스', '캐스팅', '든', '봤는데', '랜드', '사이', '정', '뭔가', '기분', '내내', '만들어', '문제', '오려', '과정', '얼굴', '의미', '이랑', '필립스', '온', '물', '특', '그게', '속편', '누가', '중간', '관계', '마다', '토드', '돈', '법', '준', '했지만', '흥행', '나오는', '급', '방식', '이후', '할리', '보면서', '되지', '폴리', '아쉬운', '치콕', '이야', '데스노트', '공감', '해도', '굳이', '라라', '새로운', '소설', '가족', '미션', '이미', '그림자', '한번', '선택', '엄마', '게이', '없었다', '봄', '하는데', '해야', '시리즈', '제일', '식', '팀', '그만', '사건', '씬', '있지만', '나름', '낸', '작가', '게임', '댄버스', '부인', '팬', '편집', '봐서', '단', '스스로', '갑자기', '꼭', '이지', '자극', '않았다', '왕좌', '제목', '되고', '있었다', '아쉽다', '오랜', '폭력', '갈수록', '봐도', '여성', '분위기', '등장', '시대', '건지', '바보', '있다는', '영상', '연', '진심', '꽤', '레이디', '수도', '아쉬움', '미친', '반', '상황', '보지', '있고', '대결', '재밌다', '본인', '첫', '없어', '긴장감', '통해', '집중', '정신', '팀전', '실망', '간', '반전', '수준', '응원', '보다는', '제대로', '개연', '서를', '로서', '상상', '흑백', '인상', '예술', '세계', '에서도', '죽음', '마무리', '간첩', '엔딩', '집', '스타', '인정', '라면', '최악', '않다', '이란', '한다는', '진', '좋아하는', '백', '무대', '전편', '전체', '원', '영화관', '역할', '에선', '입', '산', '요즘', '충격', '부정', '정신병', '만드는', '위원', '가면', '되었다', '누군가', '좋겠다', '밥', '입니다', '세계관', '진행', '있을', '들었다', '있게', '법정', '나온', '니까', '구성', '이기', '보이는', '아직', '보여주는', '먹방', '머리', '비해', '상징', '솔직', '향', '뻔한', '예상', '넷플릭스', '그걸', '관심', '내면', '얘기', '말고', '울', '메시지', '살인', '정해', '정체', '에게는', '각색', '아저씨', '걍', '수가', '선', '재료', '주는', '미드', '필요', '거리', '지옥', '용', '이균', '에겐', '주제', '출연', '웃음', '같은데', '놈', '아닐까', '관람', '광대', '화가', '코미디', '여러', '클리셰', '장', '합니다', '주연', '없음', '보러', '현', '뭘', '대도시', '만이', '순', '명작', '결과', '대로', '상업', '보게', '편이', '연기력', '취향', '완전', '완벽한', '경연', '보여준', '시도', '중반', '소리', '노잼', '고민', '했고', '반복', '전설', '열정', '아니고', '분장', '전달', '했을', '백종원', '우마', '일까', '제작', '있어서', '쓰레기', '모르겠다', '과는', '배경', '비극', '사는', '하던', '충분', '먹는', '쯤', '건가', '추천', '설득', '같아', '쉐프', '본다', '만의', '수많은', '수저', '인게', '기획', '혼란', '하여', '존중', '리스', '같음', '스러운', '해주는', '시청자', '탄생', '훌륭한', '시선', '청춘', '있는데', '심리', '않아', '묘사', '자리', '혐오', '농담', '뭔', '고담', '좋고', '기도', '아닌가', '편의', '확실', '프로', '나쁘지', '화면', '땐', '아는', '너무나', '노력', '실제', '애니메이션', '보이', '재밌는', '최강', '보인다', '설명', '노상현', '아무리', '실력', '크게', '관', '대체', '두부', '맘', '나올', '빨', '공유', '맨', '방출', '주의', '총', '나와서', '정치', '신', '주변', '먼저', '행동', '굉장', '나인', '원하는', '보며', '스타크', '빨리', '불', '으로는', '프리', '형식', '엄청', '죽', '등장인물', '욕', '북한', '주행', '박기웅', '박신혜', '이라도', '그나마', '상태', '만을', '다양한', '반성', '있을까', '비주', '남은', '너무나도', '오늘', '록', '범죄', '있었던', '점점', '레이디가가', '든다', '몇몇', '씩', '덕분', '드림웍스', '없을', '가는', '반응', '그런지', '일이', '자아', '열', '참고', '애초', '성공', '감상', '예고편', '장점', '남는', '경쟁', '간다', '아름다운', '답', '자꾸', '일본', '꿈', '빌런', '하지도', '불구', '최현석', '하자', '없지만', '술', '스럽게', '비교', '길', '의문', '맞는', '태도', '역', '않을', '리메이크', '극장', '이든', '올해', '다행', '감성', '버렸다', '케미', '로코', '란', '짱', '넘', '도대체', '납득', '나와', '맛있게', '여주', '대신', '춤', '메세지', '배신', '보단', '박수', '이는', '흐름', '레스토랑', '잘생긴', '담배', '몸', '성재', '한다고', '가슴', '까지는', '가진', '있지', '먹고', '같아서', '고정우', '해석', '여전', '각본', '모르고', '쓴', '끝내', '손', '퀸', '느낄', '효과', '만으로', '찐', '친', '있음', '아들', '로는', '단점', '괜찮은', '이자', '싶었다', '쉽게', '뒷', '하차', '만하', '이미지', '올', '포기', '밤', '있던', '가치', '포인트', '에피소드', '있다고', '배트맨', '모르는', '릴리', '없어서', '범죄자', '능력', '멋진', '늘', '싶었던', '버전', '경험', '간만', '방법', '말로', '서스펜스', '담시', '라니', '위로', '서울', '걸까', '정소민', '책', '어머니', '할까', '윈터', '에게도', '됐다', '인셀', '재판', '고독', '정우', '비슷한', '받고', '경', '용두사미', '주고', '남성', '무한', '아닌데', '갈', '대상', '먹어', '시절', '좋았음', '달리', '제임스', '직접', '한편', '변', '버리는', '별개', '원래', '집착', '과의', '괴물', '변화', '호불호', '역사', '어려운', '부족한', '어쩔', '걱정', '살아가는', '신경', '참가자', '했으면', '감탄', '짓', '많다', '갈등', '마을', '스케일', '애정', '분노', '왕', '받는', '버림', '동물', '싸움', '많아서', '형태', '들어', '일찍', '준다', '에만', '질투', '보다가', '거야', '방해', '시청', '오프닝', '열등감', '좋음', '추종자', '스릴러', '도전', '흥미', '대의', '리가', '위대한', '남는다', '지는', '상처', '라이트', '재밌음', '재밌었다', '거대한', '대감', '필요한', '장치', '중요한', '있나', '않게', '나머지', '킬링타임', '미식', '결혼', '위대하게', '기대한', '발견', '척', '으론', '편견', '느껴진다', '빠진', '스크린', '상대', '거지', '이상한', '작은', '믿고', '편의점', '상미', '하니', '아직도', '혹평', '후속작', '스타일', '느껴지는', '억', '슬픈', '모르게', '가서', '그렇다고', '안되는', '드는', '갖고', '버린다', '구도', '심', '이를', '뻔', '상당', '진정한', '깊은', '혼돈', '여서', '만들어진', '엄청난', '추가', '재미있게', '만들', '연대', '조합', '달', '칼', '진의', '어린', '가문', '인기', '아니라고', '화려한', '정의', '억지', '카메라', '있었지만', '명의', '였던', '긴', '개봉', '보통', '이용', '뜻', '역대', '빛', '전반', '그만해', '자연', '풀어', '판', '도시', '좋은데', '봤던', '타임', '룰', '없다고', '일부', '지점', '단순', '회차', '차이', '좋았고', '용기', '평점', '사용', '가득', '나쁜', '나가는', '로즈', '와는', '아깝다', '만으로도', '이기도', '로만', '높은', '시네마', '까진', '흥미진진', '사이다', '경우', '치고', '기준', '현대', '무시', '완벽', '놓고', '평이', '거나', '신파', '전략', '젠', '부르는', '나이', '악마', '목소리', '기러기', '지루함', '점수', '과거', '서에게', '좋았을', '고구마', '만든다', '승부', '이라서', '전쟁', '일지', '언제나', '하는게', '변호사', '기본', '기대했던', '했다면', '과도', '그거', '인해', '공', '시민', '크리처', '없다는', '봤지만', '계급', '난다', '않지만', '완벽하게', '폭발', '대하', '낫다', '없었던', '아버지', '했으나', '하라', '왓챠', '열심', '압도', '했을까', '만들고', '깊이', '서와', '당황', '시키는', '평범한', '줌', '아쉬웠다', '않을까', '파괴', '알았는데', '방송', '으로만', '글', '받아', '플랙', '의견', '아님', '없는데', '싶어', '정선', '접', '진정', '선정', '제외', '변영주', '서는', '가득한', '흥미로운', '지루한', '만들었다', '병', '흑수', '피아', '했는지', '도파민', '였는데', '우리나라', '한계', '만큼은', '하네', '부모', '절', '좋아서', '몰라도', '들이', '의식', '끝나고', '성소수자', '동시', '두고', '마냥', '좋았는데', '언니', '잠', '짐', '코믹', '않았을까', '싶을', '봤을', '나로', '위대하지도', '느꼈다', '질문', '않음', '살짝', '성장', '전형', '존나', '악당', '나라', '듣고', '좋았던', '무조건', '카타르', '시스', '번째', '이전', '희망', '표정', '그럴', '실패', '받을', '밖', '하려고', '입장', '조연', '몰입도', '거부', '드디어', '같았다', '식당', '만족', '요한', '행복', '으로도', '소비', '어른', '빼고', '부족', '준비', '보는데', '가까운', '아니었다', '느끼는', '런가', '와의', '이하', '이라니', '생존', '대단한', '개성', '대작', '스럽다', '보였다', '있다면', '그려', '쪽', '백설공주', '따뜻한', '끌어', '떨어지는', '똥', '탈락', '외면', '특유', '찬', '달라', '목', '과감', '촬영', '만은', '하려', '조롱', '롭고', '얘', '라운드', '했다고', '않았던', '존경', '맥', '대가', '보세요', '괜', '자유', '정작', '성은', '않나', '대본', '담아', '같고', '브로맨스', '우연', '본질', '조명', '중세', '아쉽지만', '싶다는', '야생', '맥심', '플레이', '있었고', '플롯', '추앙', '여운', '덕', '구재희', '중심', '이긴', '봐야', '영웅', '보여준다', '욕망', '비중', '시점', '다름을', '보다도', '의심', '역량', '많고', '비판', '질', '끼리', '버리고', '김', '그럭저럭', '증명', '않아서', '범인', '후회', '미화', '기대하고', '나오면', '리더', '아이러니', '희생', '최선', '였다면', '저렇게', '젊은', '했나', '약자', '죽어', '다가', '영향', '쓰고', '스포', '면서', '방향', '성공한', '마주', '동', '방', '온전', '했음', '이었음', '아니지만', '이딴', '보려고', '시나리오', '지지', '이니까', '꼴', '하루', '롯데', '대화', '였음', '강조', '아예', '유지', '전하', '떡밥', '있었는데', '하려는', '기존', '추락', '모르겠지만', '안보', '미장센', '이었던', '아미', '해머', '러닝', '뜬금', '해준', '새끼', '한식', '발', '질질', '있는지', '맥락', '무언가', '그건', '부여', '되면', '상영', '작위', '유일한', '나중', '결승', '양', '트리플', '세트', '초점', '있으면', '했다는', '이즈', '판단', '잼', '와킨', '화보', '빠른', '철', '미국', '재밌는데', '남녀', '어렵다', '모르겠고', '바라는', '와중', '워낙', '우려', '보여줄', '파이널', '토록', '재밌고', '그만큼', '출연자', '라인', '보이지', '덜리', '고전', '는걸', '많았다', '알겠는데', '있', '영원', '욕심', '활용', '불호', '어딘가', '코멘트', '만에', '통장', '잘못', '추억', '느낀', '평생', '예측', '이면', '만점', '에게서', '해결', '부를', '받지', '미스터리', '됩니다', '현재', '어둠', '나옴', '그림', '먹을', '지도', '같지만', '시켜', '비롯', '퀸젤', '보여주고', '본격', '최종', '아니야', '부는', '굿', '해주고', '점도', '특성', '온갖', '잘생겼다', '살린', '적당', '계단', '맛집', '고통', '와일드', '대박', '목숨', '나서', '맛있는', '비빔', '보라', '행위', '왕겜', '블루베리', '가짜', '인터뷰', '의지', '나폴리', '돌아이', '싱크로', '율', '널', '외장하드', '대부분', '냥', '시퀀스', '임팩트', '물이', '김복남', '븐', '자의', '언', '오락', '아빠', '당하는', '넘버', '야하는', '다시금', '확인', '없지', '년대', '시킨다', '상이', '뛰어난', '끌', '보자', '좋았지만', '우승', '되게', '연민', '어쨌든', '보고싶다', '낭만', '포스터', '일반', '연애', '따로', '톤', '사연', '결정', '대한민국', '성과', '이어', '쌓아', '메뉴', '유치한', '없던', '홍보', '어디서', '느껴졌다', '붕괴', '성인', '우린', '그리', '웃고', '형', '웃기', '어땠을까', '필름', '명예', '부가', '이었다면', '되기', '저택', '지루하고', '미가', '정보', '컨셉', '익', '프로그래밍', '수작', '주지', '진실', '디테일', '하나로', '빼면', '탓', '머릿속', '평론가', '복근', '빈', '멋있다', '공개', '왠지', '지난', '인걸', '심장', '미쳤다', '공존', '스펙', '느껴지지', '많은데', '과장', '확장', '넣은', '성격', '모른다', '착각', '흔한', '불러', '남았다', '가볍게', '색감', '커밍아웃', '좋지', '보일', '거듭', '연속', '재현', '같다는', '가능한', '햇', '적은', '급식', '소녀', '않아도', '컷', '철학', '승리', '색', '주목', '억지로', '낸다', '다이닝', '부재', '안티', '왔다', '오는', '리뷰', '분야', '손현주', '포함', '생', '커플', '빛나는', '바람', '결', '다크나이트', '용서', '신선한', '기반', '확신', '열광하는', '잔인하고', '해줘', '나왔다', '소름', '용산', '옷', '떠나서', '반대', '자식', '쉽지', '봤습니다', '린다', '전복', '통', '그렇다', '권', '장난', '악의', '극적', '재미있는', '알았다', '이길', '흔', '팅', '분량', '입은', '천재', '들다', '혼밥', '않았지만', '실험', '원했던', '졸작', '정지선', '겹', '광', '다를', '영화인', '건데', '킹', '유치하고', '식사', '소수자', '익숙한', '대표', '많아', '죽여', '자신감', '스릴', '몰라', '많음', '강', '구조', '값', '스러', '유일하게', '서야', '절망', '무서운', '시기', '똑같이', '넷플', '대단하다', '맞게', '우승자', '결론', '구분', '인식', '죽는', '명성', '그치만', '서막', '슬픔', '호흡', '갓', '끝난', '살렸다', '이입', '하는지', '악인', '로운', '평면', '약', '미디어', '줄거리', '봤으면', '걸작', '않았고', '치는', '흡입', '또다른', '인류', '본능', '유머', '실감', '옛날', '바라보는', '찾는', '성적', '결과물', '벌써', '기만', '교훈', '모를', '열연', '보는내내', '올린', '봤음', '그닥', '싶지', '군중', '남주', '곁들인', '살기', '폴리아', '박상영', '안된다', '운명', '소희', '마라', '라오어', '소중한', '보긴', '적절한', '잡고', '똑같은', '불만', '일상', '이었고', '석류', '만들면', '보호', '핵심', '적임', '이니', '다르게', '공간', '피해자', '명대사', '했어야', '현상', '멋', '어차피', '가해자', '어로', '재밌어', '나왔으면', '미쳐', '할수', '내고', '마디', '미모', '도저', '마찬가지', '류환', '동구', '아래', '조장', '오래', '낼', '부작', '동네', '해야만', '한없이', '리지', '이었는데', '보는게', '소꿉친구', '목적', '모르겠음', '나답', '타이틀', '된다는', '울컥', '쓰는', '수록', '옆', '머레이', '그만하고', '결혼식', '부의', '구현', '라이토', '교도관', '곁', '좋았을텐데', '끊임없이', '사라지고', '있어도', '맞고', '때로는', '대답', '둔', '재미없는', '재밌네', '시킨', '환경', '아리아', '살다', '이상하지', '대비', '무난', '장사', '미소', '탈', '부로', '로맨틱', '나오고', '즐거움', '도움', '용두', '역설', '맞아', '외모', '환영', '만들기', '부터는', '파인', '강요', '감사', '권력', '몰아', '잔', '아이디어', '마당', '까지만', '만원', '실사', '여지', '인거', '남편', '입맛', '만난', '들고', '내게', '망작', '수단', '웃는', '하기엔', '중독', '투영', '키라', '같기도', '리얼', '러브', '꿀잼', '찰떡', '넌', '아니었으면', '레전드', '였지만', '좋아하지', '호강', '분들', '아니라는', '생활', '하긴', '선언', '애니', '최근', '관통', '재미있다', '좋을', '하기도', '고백', '싶음', '단편', '끝날', '암', '코드', '있겠다', '넘어', '짧은', '실수', '말고는', '팔이', '짜리', '사적', '기를', '안대', '테러', '짝사랑', '이렇게나', '있었음', '연인', '스럽지', '확', '잔뜩', '차별', '간의', '맞지', '기회', '넘치는', '했어', '그렇다면', '때려', '좋게', '이상하게', '먹기', '싶고', '자주', '장철수', '눈빛', '보았다', '우상', '소개', '마케팅', '고딩', '없게', '으로서의', '반영', '논란', '티리온', '니스', '울림', '쿠키', '메가박스', '않았을', '노트', '크다', '형사', '다드', '해체', '떼고', '울었다', '볼때', '결승전', '덧', '컬', '실', '무너', '천', '라이', '최애', '쓰지', '판사', '예쁜', '관점', '아름답고', '그렇기에', '되며', '겨울', '되었고', '긍정', '살리지', '이성', '있기를', '화의', '했다가', '까지가', '살면서', '냉동', '최애캐', '단어', '대리', '겸', '살해', '일어나는', '보영', '하는가', '바란', '대놓고', '풍', '섭외', '분리', '헤테', '만화가', '조금씩', '깨닫게', '있어야', '재밋', '이영화', '자본', '잘생겨서', '화제', '정상', '본다면', '연결', '후계', '섬', '맨날', '잘생김', '흥미롭다', '이래서', '내는', '메이드', '외로움', '업계', '떠나', '링', '야할', '클럽', '들지', '오버', '배우는', '모양', '않았나', '빚', '만나', '던지는', '겁', '베테', '미스테리', '알겠다', '야심', '숀빈', '받았다', '찾기', '하다가', '느껴짐', '업', '트리', '텐데', '주인', '존잼', '유발', '영화계', '냈다', '개리', '재밌었음', '교차', '서라는', '먹고싶은', '언어', '위치', '슬프다', '나오지', '도입', '하면서도', '아무튼', '웅장', '만큼의', '주말', '없', '이상해', '않은데', '어설픈', '느끼게', '써서', '냄새', '언급', '메인', '탄탄한', '나약한', '찾아', '잡는', '인연', '없네', '겠지', '빨간', '열광', '자살', '창', '느껴질', '좋았으나', '있으나', '안됨', '인격', '다해', '기능', '주기', '먹는다', '구석', '식욕', '당시', '모여', '억지스러운', '해야지', '좋아하는데', '부럽다', '있긴', '심보', '감옥', '입체', '수행', '실망한', '계획', '생략', '웃', '순위', '부르고', '그나저나', '비현실적', '기대했는데', '후기', '드로고', '변주', '소화', '차가운', '에서만', '무게', '일부러', '즐길', '가사', '원한', '궁금해서', '하세요', '핑크', '상상력', '챙겨', '몰랐다', '싶지만', '아름답게', '일인', '지극', '재능', '했으니', '실패한', '넘나', '웰', '싹', '대립', '각성', '없어요', '포장', '즐거웠다', '웃겨', '곳곳', '위기', '심정', '경찰', '무거운', '되는데', '긴장', '먹은', '끝나', '하다니', '선생님', '포맷', '기는', '은근', '딴', '교도소', '흔적', '아쉽', '공포', '에요', '드래곤', '아까운', '멀리', '루즈', '생긴', '들어서', '주장', '아내', '유혹', '단순한', '아웃', '행복하게', '파트', '틀', '동화', '선사', '어릴', '쾌감', '봐야지', '잊지', '가리고', '민낯', '마늘', '비참한', '호평', '없으면', '운영', '파악', '허망', '떡볶이', '모로', '담은', '갑', '압박', '아쉬웠던', '의한', '알면서도', '여행', '가능', '비호감', '좋아요', '깊게', '존', '왤케', '였으면', '철저', '있도록', '이어지는', '두번째', '대변', '사고', '비난', '차용', '금', '같아요', '초라한', '은위', '임무', '이노가시라', '고생', '만해', '활약', '있습니다', '퀄리티', '옹호', '충족', '정말로', '차력', '거울', '전환', '벌어지는', '어디가', '몇번', '있으니', '관련', '충실한', '합', '하는건', '주요', '되면서', '좋아할', '어느새', '봐야겠다', '재미없다', '아기', '였을까', '통수', '살아갈', '껍데기', '감당', '빼고는', '유명한', '와도', '분열', '희극', '근본', '모성애', '어프', '시스템', '매체', '다운', '시킬', '만들어서', '가고', '배려', '보여', '지루하게', '컨텐츠', '뿐인', '동정', '틀림', '책임', '구나', '으로의', '이데아', '용이', '경계', '칭찬', '와서', '코미디언', '불쌍한', '티켓파워', '해지', '어울리지', '중년', '검사', '네드', '색다른', '스럽고', '무리', '꾼', '성도', '뻔하고', '되지만', '있기에', '맞다', '남사', '상치', '돼서', '진출', '블라인드', '버려', '지독한', '수트', '스트레스', '지루하지', '하비', '덴트', '스토리텔링', '이도', '해낸', '고뇌', '두려움', '있었으면', '없었고', '낫', '어쩌', '타이밍', '환호', '단계', '흥미롭게', '될까', '고기', '반개', '기꺼이', '상승', '탈출', '였을', '재미있었다', '여러가지', '했네', '정리', '재밌어요', '괜찮았다', '라기', '하느라', '있어요', '느낌이었다', '가지는', '직업', '아름다', '문화', '잃지', '맞나', '버릴', '아닐', '갔다', '권성준', '친절', '출발', '마세요', '적어도', '였고', '콘서트', '객관', '미슐랭', '다한', '유명', '불필요한', '철저하게', '디저트', '기다리고', '예요', '멘탈', '피지', '기대하는', '짜증', '확실한', '영역', '특징', '잔인한', '틈', '비행', '어색하고', '알려', '맞은', '뻔하지만', '뜬금없이', '다양성', '다루는', '마련', '엉망', '진지하게', '시키고', '자는', '보고싶다는', '가기', '타협', '근', '개개인', '찾을', '늘어지는', '왔던', '사라진', '평소', '홀로', '추상', '그렇고', '외부', '구탁', '오빠', '이상은', '전말', '빠져', '그랬다', '판결', '글쎄', '야한다', '어서', '현우', '실망할', '그러한', '담', '반지', '제왕', '손가락질', '극단', '나야', '지루했다', '레이드', '제작비', '시키지', '않겠어요', '팬심', '벽', '재미없게', '박살', '으아아', '가능성', '조화', '해놓고', '구축', '지루해', '우정은', '수호', '마음속', '방대한', '선물', '티키타카', '과잉', '개그', '멜로', '류자키', '가방', '동성애', '까지의', '나게', '감각', '남아', '볼수록', '차지', '롯', '낮은', '지루하다', '만남', '뭐라고', '빠지는', '아오', '정서', '특정', '있는가', '싫은', '찢', '싸우는', '입문', '들을', '일반인', '미술', '되어야', '배역', '알지도', '두운', '살려', '보임', '숨', '바탕', '그러다', '아닙니다', '너무도', '법원', '기다려', '든지', '동거', '상의', '노골', '측면', '쭉', '인한', '전결', '다르면', '않다는', '다가왔다', '손님', '느껴져서', '쓸', '나오는데', '지경', '줬으면', '실체', '깊었다', '특별한', '였기에', '바닥', '찍어', '평범하게', '화만', '봤지', '보던', '반감', '바이', '많지만', '걸린', '보고싶은', '대충', '구원', '아픈', '했더니', '모순', '후속', '봤어요', '최대한', '끝나지', '엥', '사소한', '면도', '상관', '돌아', '처절한', '내기', '목표', '모욕', '신의', '최후', '위험한', '돌비', '체험', '저녁', '전율', '상기', '하니까', '하더니', '비밀', '가수', '인가요', '도쿄', '탐구', '받는다', '맛있어', '나온다', '고수', '정점', '찍은', '나고', '이었다고', '아니기에', '꼬리', '달까', '상실', '추구', '허상', '놀라운', '닿지', '독', '의리', '보내는', '멋져', '죽었다', '해주세요', '솊', '멋지다', '해줄', '쓸데없는', '아이맥스', '한드', '사람과', '아름답다', '달았다', '이럴거면', '망', '고개', '한숨', '동경', '늦게', '죽는다', '범벅', '가까이', '이보', '지울', '강한', '이의', '수현', '강렬한', '대식', '향연', '집단', '갖다', '좋다고', '정확', '시종일관', '위성', '티비', '사례', '알겠으나', '군', '에서부터', '어색한', '아냐', '지나치게', '구경', '갔다가', '열광했던', '경성', '방향성', '이슈', '자세', '푹', '할거면', '있었나', '가미', '수정', '되길', '맛있다', '여정', '살인마', '없으니', '이던', '땅', '진한', '템포', '이런게', '삶은', '않았으면', '겉', '무기', '속이', '훌륭하다', '세대', '끔찍한', '오브', '장애', '만들지', '잖아', '조절', '잘만', '출', '리기', '서도', '헤녀', '날려', '꽃', '탑', '처리', '밀어', '담긴', '동기', '해피엔딩', '아쉽고', '되서', '처벌', '완료', '띠디', '연예인', '궁금증', '부활', '운동', '말씀', '하도', '난리', '원하던', '어떻', '해소', '복수', '끼워', '최소한', '들었음', '씬들', '종종', '남친', '데이트', '끔', '대다수', '보여주며', '어쩜', '외로운', '않네', '기승', '자부심', '웨인', '자고', '예산', '호소', '절로', '사상', '안고', '되었을', '있었을', '볼거리', '뜨거운', '보겠다', '셈', '하길', '아니었을까', '정이', '돌아온', '자가', '폭주', '맞이', '예전', '하시는', '생기', '떠오른다', '쟤', '재밌었는데', '되의', '침', '넣고', '나갈', '되어가는', '성의', '잡은', '물의', '중식', '양식', '당연한', '고스', '하러', '무천', '읽어', '간접', '애기', '인사', '사운드', '중후', '음향', '느끼고', '신세계', '내년', '는데', '좋아해서', '짝', '데리', '느낀다', '쫌', '좋지만', '화이팅', '다르다', '오뎅', '노미', '크고', '읽고', '디테', '부제', '장벽', '멋있고', '깔끔한', '인지도', '가격', '더해', '찾아가는', '거짓', '주관', '믿음', '사랑스러운', '만큼이나', '듯이', '사신', '재밌다고', '다름이', '환자', '유도', '죽이는', '오해', '두뇌', '밑', '신화', '다룬', '안전하지', '첨', '싫다', '마침내', '에너지', '자랑', '부모님', '거짓말', '독립', '정석', '절반', '빈틈', '엔터테인먼트', '정반대', '소외', '여우', '가질', '이서', '화려하고', '드림', '평균', '눈치', '않으면', '주입', '주면', '유튜브', '필', '위주', '넣어', '잡아', '봤을까', '취급', '면모', '돼요', '좋', '저지른', '안해', '절절', '엄친아', '낭비', '기사', '고루', '있다니', '심연', '풍경', '가창력', '관계성', '썩', '흘려', '공격', '비상', '작용', '재밌어서', '했습니다', '이외', '허세', '젤', '남기는', '의존', '에다', '아이콘', '되었던', '암탉', '어울리는', '떨어진다', '없어도', '확실하게', '예정', '조각', '텐션', '해본', '리도', '흐르는', '국내', '하였다', '갖게', '정주', '한국영', '에서나', '욕구', '콘텐츠', '이런거', '배고파', '가게', '파워', '됐음', '한쪽', '주의자', '학대', '북', '먹', '가벼운', '엘', '부족하다', '클', '좋아해', '아쉽긴', '마에다', '상품', '스푼', '없었다면', '좋아했던', '짭', '술병', '양병무', '뒤집어', '끝나는', '버튼', '운', '연극', '밝은', '싸우고', '억압', '포르노', '지지자', '의사', '허락', '강간', '같던', '멋대로', '빌드업', '안타까운', '유럽', '마인드', '강제', '아웃사이더', '충실', '가스', '죄다', '변호', '여유', '만나는', '나다', '대치', '대회', '좋겠다고', '심사평', '조리', '뭐라', '찾고', '실현', '멋있는', '스러웠다', '발언', '아캄', '축가', '보고싶어', '싫어', '싶었지만', '있었기에', '추측', '모아놓고', '외치는', '영환', '기대는', '미학', '완전한', '무섭다', '이내', '남지', '감은', '문제점', '완결', '싫어하는', '작화', '교복', '비건', '해서는', '지향', '스런', '영혼', '감흥', '격', '느꼈던', '고작', '부수', '다르다는', '있겠지만', '에피', '했지', '부족함', '끝났다', '복분자', '나다운', '봤다면', '옴', '태상', '의외로', '불협화음', '액션씬', '주가', '하자면', '짐작', '했었다', '동의', '바뀌는', '세미', '기어', '유치', '도덕', '일종', '죽고', '현대인', '만들었다고', '했는가', '죽은', '바를', '오지', '상관없이', '크리', '안나', '봤더니', '춤추는', '모르겠는데', '들어간', '될지', '살인자', '워드', '성찰', '먼', '결심', '색깔', '좀더', '정병', '이성애자', '직장', '다녀야', '서에', '화합', '먹으면서', '다르고', '기적', '높이', '났다', '세련된', '촌스러운', '미친듯이', '티켓', '추리', '이냐', '방영', '가요', '멋지고', '함부로', '아쉬운건', '되나', '이여', '택시', '대중성', '심각한', '광고', '부담', '찾아볼', '접근', '어려운데', '명확해', '온다', '터져', '밀도', '고등학생', '누명', '증거', '잡', '제시', '여자친구', '설', '신고', '남긴', '거품', '재미있음', '존잘', '있구나', '남는건', '구시대', '최고다', '해라', '화일', '짜여진', '지나지', '라며', '서비스', '풀', '멱살', '있겠어', '슬펐다', '보시길', '먹어서', '거임', '사라져', '아쉬울', '발현', '옮겨', '사망', '가깝다', '뮤직비디오', '그대', '재밌었던', '느껴', '고마워', '맞춰', '뱃걸굿걸', '했', '해보면', '다크', '시체', '고려', '쏙', '반박', '않', '대는', '함정', '필요없는', '계산', '몫', '주변인', '헌신', '허나', '차례', '말투', '그린', '분출', '적절', '갈릴', '기대하게', '되려', '킥', '유치하다', '난무', '진창', '아쉬워요', '미사', '답답한', '피로', '시험', '살려서', '감안', '본래', '어떨까', '깨달', '인권', '열광하고', '장인', '고집', '비율', '한껏', '들은', '뻔하지', '나오면서', '아마도', '않았다는', '뮤지컬영화', '였어', '주었다', '애가', '일드', '하도록', '주제가', '부조리', '공부', '연쇄', '하는거', '어거지', '넘는', '군데군데', '전락', '신기한', '튼', '차원', '만화책', '픽션', '궁금했는데', '수사물', '용의', '감도', '아쉽게도', '만듦', '한정', '볼걸', '행', '돌', '열광한', '절정', '겉모습', '드하', '대단', '조건', '보낸다', '적용', '푸드', '보낸', '딸', '귀엽고', '웃긴', '망치', '빛과', '다름에', '계기', '변태', '억지스럽고', '장소', '검증', '범', '없었음', '야말로', '지식', '정장', '입고', '경영', '파격', '툭툭', '창조', '알았던', '일일', '해진', '발생', '뒤늦게', '배고프다', '말았다', '다시는', '내려놓고', '분단', '순교자', '돌아가는', '느끼지', '떨어지고', '내지', '던져', '주문', '인들', '부탁', '놓아', '하지말고', '시사회', '빠짐', '않는다는', '모카', '들었는데', '고증', '아역', '지은', '살아남는', '비비', '빔', '하지는', '들어가는', '있었다면', '창의', '도둑', '도달', '전개도', '폼', '연관', '적도', '느껴진', '검색', '연상', '가을', '하늘', '대구', '당당하게', '즐겁다', '무수', '이제야', '깔', '오면', '아닌지', '만날', '집어', '아니었어', '동무', '시즈오카', '떨어져서', '갑니다', '대안', '유사', '불쾌감', '폭풍', '타겟', '해야하는', '같았던', '번의', '재즈', '막심', '없습니다', '센', '세기', '생각나는', '문득', '여인', '즐기고', '걸고', '드러나는', '잃은', '떠난', '파티', '볼까', '별하나', '서브', '베프', '나쁘진', '바란다', '춤추고', '할말이', '우상화', '결핍', '회의', '일치', '이정', '그려지는', '택', '착한', '넣어서', '승화', '원했다', '통한', '딜레마', '명도', '않는데', '찌질한', '지배', '로줌', '명장', '빌을', '닮은', '남겨진', '쓸데없이', '아우라', '보길', '창의성', '회피', '캐리', '부족했다', '빼곤', '하는구나', '경악', '새벽', '빠지게', '소식', '즐기는', '태어난', '옆집', '재밌지', '일품', '오열', '논리', '품', '노상철', '아니었는데', '개별', '은유', '잣', '충', '죄수', '폭', '아이돌', '사라졌다', '숲', '죄책감', '예매', '받아들이는', '인터넷', '즈음', '어울림', '미스', '엿', '뛰어넘는', '끊는', '에나', '봤는데도', '아무래도', '외치', '체적', '단연', '행복한', '소망', '패자부활전', '매출', '하겠다', '제한', '연기자', '웃으면서', '개념', '추는', '들기름', '채소', '이었어', '보이는데', '댄스', '열린', '있기', '듣는', '없구나', '고등학교', '떡', '그다지', '해방', '피해', '부숴', '지랄', '하이', '타고', '해야하나', '자꾸만', '없진', '된다고', '발연기', '올려', '들게', '디즈니', '오징어', '불시', '내놔', '토다', '넣었다', '우는', '길이', '버스', '성향', '쫄깃', '에게만', '일기장', '였나', '짜임새', '갠', '망가진', '들의', '숨기', '지나친', '따름', '화장실', '멋지게', '내리는', '들이라면', '될수록', '나간', '혁명', '떨어', '줬다', '정성', '접시', '올드', '곡', '지루할', '해준다', '하나같이', '되어서', '뿐이었다', '들었지만', '컬러', '론', '프레임', '끝없는', '변신', '복잡한', '이해해', '되가', '동료', '넘어서', '편하게', '안남', '밈', '권해효', '커버', '살자', '그야말로', '애매한', '린', '웃김', '석', '비평', '하진', '아쉬웠는데', '였다는', '싶으면', '깔끔하게', '고자', '들으며', '걔', '나온다는', '개새끼', '저항', '군데', '듬', '리조또', '제공', '부부', '이었을까', '싶은지', '영향력', '이별', '굳', '나왔던', '국가', '쉬운', '찬사', '하던가', '꾸역꾸역', '있었다는', '누군지', '내려', '비빔밥', '한국인', '박서준', '예시', '년작', '감정이입', '굴절', '빠둠', '하였던', '마리', '땜', '웬만한', '보다니', '방울', '남기고', '복', '년도', '이끌어', '치열하게', '지속', '발상', '월드', '라고는', '그동안', '본적', '독특한', '겉도', '아쉬웠지만', '문어체', '않았음', '느낌이었음', '보여줘서', '막판', '였다고', '피디', '입가', '것임', '갈망', '커녕', '속도', '있으니까', '고급', '브루스', '둘째', '예의', '궁금해', '예쁘다', '매너', '심야식당', '만들었던', '보고나서', '면회', '천만', '싶었을', '용아', '돋보인다', '태워', '재림', '죽일', '픽', '만인', '깨닫고', '만나서', '해달라고', '감명', '첫사랑', '치킨', '대척점', '끝판', '깎음', '아까울', '없으니까', '괜찮았는데', '경기', '정답', '코믹스', '새롭게', '난쟁이', '됐고', '꿀', '알려주는', '열풍', '될듯', '알아서', '소년', '동파육', '굿바이', '어머님', '해볼', '지시', '주체', '귀결', '먹으면', '시위', '논쟁', '의아', '남한', '축복', '징', '크레딧', '고픈', '틀린', '맞지만', '귀엽다', '완벽했다', '문장', '재밌을', '싶기도', '겪은', '개체', '튀는', '어울린다', '언덕', '환각', '큰일', '수습', '질리', '유전자', '잭', '많어', '날개', '호감', '싶어지는', '새로', '섬세한', '작성', '막걸리', '그간', '끊임없는', '지능', '되진', '거구', '실존', '독창', '휘틀리', '불가', '치부', '던', '주위', '하우스', '건물', '지켜', '기쁨', '기법', '많았는데', '아님을', '잘생기고', '아서플랙', '나은', '당사자', '시킴', '둘러싼', '동참', '남길', '하냐', '불꽃', '거침', '에게나', '규칙', '나가', '악한', '다름', '하기가', '했기', '제도', '전시', '가운데', '콜', '신선하고', '뺀', '보여줬으면', '로라', '배제', '듀엣', '보여지는', '맞춘', '싶어하는', '녹여', '회귀', '나무', '빌의', '떨어진', '개입', '찍고', '치중', '교육', '기록', '서사시', '본방', '받음', '망할', '해내는', '재미없고', '지루해서', '껏', '되는건', '기대하며', '종류', '남자배우', '차가', '도중', '오랫동안', '암튼', '지고', '제법', '남발', '화차', '학교', '벗어나지', '골', '필요하다', '미리', '많은지', '신은', '노래방', '쓰기', '가상', '구성은', '어떤지', '흥미로웠다', '죽어야', '된거', '살아야', '나일', '악행', '해보니', '봤어', '어우', '불과했다', '막상', '유죄', '감사합니다', '방황', '치유', '싫음', '직관', '장대', '지구', '화답', '높게', '산다', '별그대', '정당화', '내적', '풀어내는', '고문', '질감', '이었다는', '그릇', '였구나', '끊기는', '점철', '요약', '버려서', '묵묵', '떨어짐', '다가온다', '행복해라', '난국', '케릭', '친다', '주차', '추종', '보아', '지켜보는', '본거', '늑대', '없었으면', '도를', '예술가', '괜찮았음', '촘촘', '겉멋', '카리스마', '교수', '믿을', '이태원', '웃어', '드립니다', '손가락', '서지', '트렌디', '전염', '따라가지', '지나', '퍼들스', '증인', '길게', '급하게', '탈피', '불안', '궁금하다', '흠잡을', '편도', '하기를', '초월', '빌', '꼽', '좋네', '무척', '꽃미남', '깎아', '병신', '이었을', '어어', '달달', '배반', '양조위', '렌즈', '끈', '사는게', '보여주기', '근거', '호의', '버렸다는', '작전', '닉', '박', '권선', '징악', '내겐', '치밀한', '가시', '기간', '않던', '레드', '왕국', '참회', '소수', '포커스', '압축', '구멍', '같네', '키스', '죽지', '펜', '있네', '입술', '받아서', '가족영화', '기댄', '한텐', '댄서', '야함', '안타깝다', '무비', '넘어선', '속죄', '기다리는', '발전', '하다고', '먹는데', '규정', '믿는', '매일', '싶은데', '관람객', '소스', '담아내지', '그늘', '끊어', '좋아한다', '생각난다', '조지', '마틴', '과제', '아니잖아', '충돌', '콜미', '치고는', '동조', '하아', '새삼', '비쥬', '남은건', '변론', '아서도', '개똥', '바랬는데', '환', '숫자', '고창석', '아침', '쉽다', '다라', '단체', '일어날', '시청률', '없잖아', '모임', '품고', '십년', '파장', '지적', '가능하다', '여태', '맡은', '마음껏', '두는', '자막', '익은', '크리스틴', '스콧', '프라이드', '규모', '보편', '라스트', '제자', '서서', '오고', '파혼', '금방', '미쓰에이', '모험', '동원', '던지', '빵', '앞서', '다대기', '인내', '떨어질', '초기', '스노우', '물리', '오디션', '천천', '약한', '보상', '형편', '향수', '있겠지', '끝남', '증오', '데스', '울어', '군더더기', '내러티브', '소유', '때리고', '검은색', '전이', '많았지만', '저가', '프랜차이즈', '복부', '고담시티', '직', '아니어도', '없었는데', '북부', '레저', '봤다고', '그랬어', '근래', '들었을', '충분한', '채워', '애착', '그런거', '마녀', '허용', '됐는데', '올드함', '유치함', '축', '자연스레', '든데', '마땅한', '소시민', '찍는', '안될', '괴리', '한심한', '해가며', '직설', '부터가', '공통점', '층', '주기도', '튀어나오는', '회사', '알겠지만', '어둡고', '진작', '여사', '보였고', '벗어나', '제멋대로', '재미없어서', '열등하다고', '정신병원', '순수한', '중딩', '다니는', '휴먼', '경찰서', '떠오르는', '퇴색', '지나가는', '그리는', '불쾌한', '미쟝센', '인간성', '훌륭하게', '마이', '실망했다', '봤었는데', '양파', '먹었다', '이념', '종말', '성냥', '뛰어', '조용한', '만들었으면', '우화', '굴', '장이', '가정', '외국', '버렸습니다', '마법', '울음', '주세요', '바라고', '바라지', '그려내는', '일듯', '여심', '돋보였다', '뽑는', '에필로그', '짧게', '강하게', '되다', '에게까지', '먹는거', '미쳐서', '말아주는', '티라미수', '즐겁게', '않기', '어처구니', '교조', '고맙다', '유독', '오마주', '통제', '기대하지', '활', '않다고', '먹는걸', '니깐', '지루하지만', '턱', '승효', '벗어난', '분명하다', '병자', '담기에는', '이었나', '되었다면', '의무', '나니', '이틀', '위대하지는', '국밥', '법도', '궁금하게', '않았어요', '근육', '어째', '콜바넴', '지나간', '투표', '커서', '즐거운', '있는건', '영감', '본연', '향기', '대고', '갔어', '멈출', '모르겠다는', '거친', '공정한', '엘리트', '드러난다', '않네요', '글자', '실화', '짱짱', '대항', '미묘한', '포착', '놓지', '너머', '살아온', '마구', '둘리', '틀림없다', '마는', '어가', '식이', '드문', '남겨', '드는데', '세게', '덩', '사극', '빠져들', '원한다', '멋짐', '아니니', '비대', '위대하진', '어렸을', '비긴즈', '갔을', '사과', '강빛', '도리', '던진', '일부분', '불신', '하겠지만', '잔혹한', '윤리', '계모', '신호', '신념', '무리수', '됐던', '짜치는', '해외', '커다란', '담론', '원했지만', '우울한', '드러내는', '미래', '정화', '같', '갈리는', '여긴', '짬뽕', '적당한', '될수', '사장', '느껴지고', '갖지', '강점', '극복', '발휘', '본성', '괜찮아', '중이', '잊은', '우울', '유저', '자격', '권리', '달동네', '소소한', '메타', '듦', '빈약한', '결점', '사수', '배우진', '치료', '경향', '시카고', '마약', '않기를', '투성이', '인척', '낯', '버렸어', '화요일', '잃고', '만다', '않은가', '풍부한', '이었으면', '스릴러물', '사라짐', '무의식', '직전', '멋있었다', '안경', '탄식', '태어나서', '개꿀잼', '벤', '자존심', '되찾고', '박아', '걸어', '안타까웠다', '소아과', '에야', '어렵고', '할수록', '모방', '읽는', '섹스', '이익', '만들었다면', '살이', '일수', '산업', '무서워서', '시골', '엄청나게', '시티', '전의', '미칠', '던진다', '페르소나', '남파', '뒤통수', '보고싶었던', '바라던', '대조', '끝없이', '나이까', '내서', '안된다는', '공식', '어진', '무너진', '페미니즘', '바다', '복판', '청년', '보자마자', '되겠다', '피어', '만드', '특수', '강록', '심야', '발음', '가만', '나가고', '리듬', '전문', '팬픽', '배치', '기자', '원하지', '샘', '꾹', '멋있음', '주어진', '잤다', '세레나데', '알기', '나지', '빠져들게', '흘러', '왕따', '놀라', '같지', '완벽하다', '지나고', '음모', '몰이', '나진', '열어', '명품', '노린', '놓은', '애인', '삶도', '나오기', '이따', '반도', '고파졌다', '호연', '후편', '주민', '아프고', '부디', '아픔', '얻고', '멋있어', '헤헤', '벌', '받아야', '앉은', '이어야', '매혹', '느껴져', '씁쓸한', '인위', '대처', '선한', '수고', '싶었음', '보여주었다', '봤고', '뗄', '때리는', '원했던건', '쟁이', '에리', '되었으면', '동성애자', '해당', '봐줄만', '의상', '같습니다', '무색', '배우도', '푸른', '역겨운', '있나요', '싶네', '쌓은', '보였던', '울면', '이럴', '야만', '해리포터', '부족했던', '끄는', '재미있어요', '캐릭', '뿌리기', '잊고', '지하철', '덤', '가막', '미치는', '거장', '하품', '탐', '마스터피스', '매몰', '제로', '무려', '하든', '사유', '많았던', '부족하지만', '넘어가는', '삭제', '더빙', '참으로', '남는게', '가야', '보여주지', '이라기', '봅시다', '훔쳐', '덕질', '없는게', '좋아하면', '명령', '감칠맛', '비단', '입덕', '기술', '총보', '진전', '혹', '해보인다', '만들수', '국물', '쾌락', '잔인하다', '불편한', '아니였으면', '싶다가도', '같다고', '맞춰야', '번은', '않으려는', '찰나', '놀랐다', '박고', '매화', '핑계', '굉장한', '적극', '성하게', '부르지', '짤', '움직', '행진', '복잡하고', '하드캐리', '기대도', '마른', '군상', '보거나', '없다면', '사랑받지', '파벨', '앙', '자취', '성취', '사골', '눌러', '보고싶지', '어휴', '어쩐지', '실패했다', '극찬', '특이한', '검은', '뭐임', '소모', '알던', '전보', '사업', '재미나', '적응', '선뜻', '다를게', '곳도', '적합한', '이구나', '이방인', '안아', '을해', '아니지', '됨을', '신드롬', '정확한', '나오길', '가져온', '기억나는', '됐을', '사랑받고', '갈구하는', '꿈꾸는', '붙인', '정면', '오른', '몸부림', '토머스', '더러', '아웃팅', '넓은', '파트너', '소문', '본게', '지키고', '아니어서', '민수', '모조리', '심플', '활활', '먹음', '몰', '왔는데', '만으로는', '본다고', '명확한', '아니냐고', '같네요', '구림', '순전', '대단했다', '묘미', '끝난다', '일주일', '컸다', '원한건', '옥', '패기', '갈아', '된다면', '버려지는', '싶었는데', '암시', '지키는', '할지', '영어', '의의', '게으른', '자임', '재연', '갔는데', '학습', '굿걸', '잡지', '약혼자', '안주', '지닌', '파스타', '의외', '섞은', '끝내주는', '한가지', '추정', '박병호', '구간', '맘껏', '모음', '염병', '만들다니', '빠질', '여기는', '스킵', '밀고', '바치는', '안되', '멘붕', '선경', '성폭행', '동성', '인방', '살아남기', '죽인다', '찐하게', '고정', '먼가', '줄다리기', '웃다가', '아니네', '찾아서', '뽑아', '앞뒤', '여배우', '싶어요', '라곤', '자유롭게', '조화롭게', '몸짓', '보장', '마다의', '재밌었나', '웃다', '세월', '선배', '보았을', '종일', '신기루', '잔잔한', '널리', '이기는', '재밌던', '변함', '있으며', '그러면서도', '충실하게', '해내고', '자유분방한', '오가는', '변명', '매끄럽게', '행사', '담고', '받아들이지', '주눅', '가볍고', '그러는', '활동', '밸런스', '안정', '줬음', '경직', '나마', '해줘서', '동일한', '옥상', '깨고', '취지', '맞는다', '윤', '걷기', '하고는', '완벽했던', '몰락', '출신', '야하고', '필요한가', '심신', '폭파', '투페이스', '어린시절', '유니버스', '살릴', '랍시고', '틀어놓고', '결합', '먹으러', '재밌는지', '고치', '오글거림', '장악', '깨지는', '터치', '살아가고', '악평', '섞인', '이거야', '방세', '비웃는', '아이언', '자이언트', '계승', '시켰다', '잔인해서', '비유', '남북', '게리', '거대', '하강', '구이', '신분', '베스트', '좋았어요', '싸이코', '예뻐서', '봤으니', '독보', '허무', '아트', '생방송', '모르겠네', '잃었다', '첨가', '보는듯', '버리니', '나오는게', '심하게', '다양하고', '토론', '인원', '뛰는', '끌고가는', '스포일러', '수위', '수미', '였어요', '그래픽', '않아요', '죽였다고', '딤섬', '놓치지', '디쉬', '인성', '깃', '가공', '불편하게', '되었다는', '논', '승자', '물음표', '반찬', '피터', '목도', '파멸', '아우', '몰랐지만', '만들었다는', '레벨', '슬프고', '않았는데', '픽사', '나왔을', '해부', '롱', '신나는', '맞다고', '나왔지만', '평화', '무서워', '느끼', '서에서', '첨부', '바뀔', '였으나', '생겼다', '우매', '뿐더러', '윤채옥', '페드로', '고차원', '시인', '생겼으면', '논다', '겁나', '싱어', '상위', '한동안', '각기', '이어진', '공통', '청소년', '최대', '코스', '줄기', '사라지지', '지키기', '다양하게', '창작', '허구', '언행', '유리', '그로', '싶더라', '간판', '중요하게', '면적', '다르지만', '길어서', '스쳐', '따르는', '펼쳐진다', '내게는', '지르는', '에서만큼은', '했듯', '없었다고', '불타', '번역', '그랬던', '넘어서는', '정신과', '위대함을', '요구', '다큐멘터리', '다리', '찢어진', '빠진다', '하고픈', '매회', '두려워', '않길', '불합리', '커리어', '했어도', '울리는', '컨버스', '파묘', '이상하다', '도구', '있겠으나', '있을텐데', '직장인', '에이', '일제강점기', '본업', '느껴지게', '겨루는', '대전', '유약한', '전문가', '나오는거', '이분법', '아쉬웠습니다', '들었습니다', '사이코패스', '냄', '되는거', '멈추지', '브리', '아니었던', '좌절', '똑바로', '꺼져', '있으면서', '시키기', '음미', '싶다고', '피하', '오기', '살아라', '누굴', '개존잼', '동력', '줄줄', '하셨습니다', '만들거면', '흔들리지', '생긴다', '떠올랐다', '스러울', '불안정한', '킬링', '하다는', '양산', '장창', '팔굽혀펴기', '그렇듯', '산만한', '되를', '사가', '마스크', '국민', '떨어졌다', '알맹이', '보고싶었다', '야한', '알았지만', '흐린', '레알', '기껏', '어색하다', '해랑', '시켜주는', '잇는', '모르는데', '걸면', '않지', '진입', '명확하게', '전세계', '트렌드', '바꾼', '방문', '블루', '터지는', '웃겨서', '한지', '갸우뚱', '무관', '재미있어서', '진지한', '홍수', '리그', '않기로', '다짐', '좋아하고', '깔깔', '재미없음', '에드', '서른', '안되지', '현장', '밝고', '출세', '일어난', '굳건', '플레이어', '기대되', '달콤한', '있잖아요', '나오며', '색채', '재밌긴', '이상함', '좋아해야', '성문', '룩', '놀아', '까지나', '판이', '이중', '패션', '지렁이', '튀어나온', '이어지지', '좋았습니다', '하는것', '복선', '유쾌하게', '영원한', '캠페인', '할래', '박자', '보류', '적나라한', '들이었다', '애써', '걸림', '전면', '아니었지만', '쌓여', '큼', '모드', '밝혀진', '부딪', '몰랐지', '행운', '행해', '재밌네요', '상투', '예쁜데', '봤다는', '들어가세요', '없는걸', '이러면', '됐지만', '눈물나게', '보내고', '승', '불편함', '부른다', '영광', '년전', '매기', '버들', '과대', '유튜버', '유돈', '변해', '나타내는', '좋으나', '말았어야', '보더', '질주', '맞', '느린', '아니게', '궁금했다', '진부하고', '누나', '패밀리', '줬던', '인민', '연출자', '추석', '묵직한', '갇혀', '미치지', '구로', '보려', '해주지', '묻는', '뒤틀린', '라지', '도무지', '아쉬웠음', '미각', '식감', '짓는', '라인업', '올라간다', '있냐', '되니까', '옥주현', '싸한', '생각났다', '초딩', '졸라', '죄인', '풍자', '관중', '쩝', '종', '앉아서', '복귀', '뱀', '봤자', '순식간', '회상', '따라갈', '만족스러운', '펼쳐지는', '초등학생', '모호한', '이나마', '재밌었어', '피부', '주름', '퇴장', '그토록', '모독', '짜증난다', '시사', '어쩌지', '무서울', '무너짐', '마사', '피카레스크', '들으면서', '고요', '이언', '크를', '이거지', '안다', '화판', '노란', '증발', '미련', '나는데', '위대하게를', '다신', '산산조각', '보고나니', '삥', '에서라도', '개선', '심경', '화신', '유비', '가치관', '보여주려고', '실소', '셔젤', '있었을까', '대학생', '바라', '뻔했다', '착', '스포트라이트', '안되고', '존경심', '분류', '해피', '싸구려', '잔인함', '수능', '참회록', '리틀', '였어야', '뽕', '이래도', '중요한건', '있지도', '떨어졌고', '징글징글', '흐릿하', '빠지지', '되었지만', '우산', '코기', '돋는', '만들었는데', '진부하다', '참을', '휩쓸', '당혹스럽다', '어려움', '엇', '보고싶어요', '돋보이는', '녹아', '하리', '생선', '내놓은', '뻔함', '하고싶은', '중요하다', '무료', '부르', '약하다', '알아도', '갇', '조성', '탄은', '매주', '생기는', '위대했다', '조림', '타의', '하죠', '돌이켜', '깔끔하고', '알았지', '설렘', '션', '불가능', '기계', '후의', '마셔요', '따윈', '안전', '퍼포먼스', '울분', '강력한', '잃을', '노답', '껍질', '만들어내는', '배고플', '친절한', '남자친구', '지역', '작고', '스핀오프', '환멸', '해낸다', '역경', '엔딩크레딧', '망한', '있겠는가', '변하지', '권위', '농락', '사람인', '따스한', '멜로디', '미치광이', '소용', '서커스', '들어가면', '과시', '강했다', '패턴', '단순하고', '극한', '이구만', '깨지고', '마시고', '타코라이스', '있었기', '감응', '들지만', '맞음', '오글거리는', '이러', '마셰코', '한식대첩', '혼합', '서양', '싶은지는', '허황', '열등하다', '능가', '온기', '필요했던', '평론', '쓸데', '되기에', '배급사', '독점', '시피', '장편', '덜어내고', '아니더라도', '주옥', '악몽', '이어도', '반가웠다', '천국', '멘트', '조소', '나이트', '나락', '개는', '화법', '이었어요', '갔으면', '괜찮을', '기대했지만', '짜치고', '했었는데', '맞춤', '걸음', '선도', '요식업', '더독', '잊을', '예쁨', '봤어야', '댓글', '에밀리', '아까웠다', '이채영', '필수', '지대', '축하', '어스', '해보게', '드러난', '때론', '시대극', '아니니까', '사탄', '찔끔', '대를', '이룬다', '배우게', '호응', '배틀', '기전', '아닌듯', '재밌었고', '나눌', '돌려', '봤다가', '명예롭', '아니였다면', '진실한', '인간관계', '요인', '신작', '일어나지', '구리', '낡은', '바라볼', '내린', '선동', '알겠음', '고도', '장엄한', '뻔해', '많을', '이었지만', '버리', '추악한', '좋았어', '빡쳐서', '멘', '따른', '무작정', '이었는지', '끝나서', '녀석', '온몸', '사전', '나면', '넘게', '안아주고', '한평생', '순삭', '구려', '믿었던', '싶게', '거절', '특선', '밍밍', '이어진다', '엑스', '채널', '다르지', '떨어지지만', '멋졌다', '덕후', '틀어', '궁극', '참신한', '보는걸', '바꿀', '유치하게', '불행', '나가기', '부르면', '배드걸', '들었던', '지독하게', '알아주는', '재생', '표면', '싫어서', '도자기', '전여친', '비정상', '당한', '앤', '화하지', '대우', '숨어', '흘리는', '나스', '어마어마한', '클래식', '올리고', '둘다', '자도', '여경', '할만', '사랑받는', '됐어', '섬세하게', '결의', '좋겠어', '객석', '성함', '펼치는', '미움', '시키며', '토크쇼', '시야', '만들었는지', '꽉', '테스트', '어그', '형성', '기대할', '롤', '종합', '였', '갈피', '스러워', '당연하게도', '성자', '김재영', '유스티티아', '에고', '오케이', '성립', '한때', '자녀', '합니다만', '오랜만', '배우고', '쓰는데', '요원', '긴박', '새는', '담백하고', '닮았다', '마니아', '왠', '순수하게', '비애', '잘라', '닥', '격감', '제재', '미만', '헤엄', '첩보', '이리저리', '하남', '만드니', '늬들', '밥맛', '빌려', '신기', '않았어도', '칭하', '불편하다', '중요하지', '기득권', '수직', '초심', '지로', '보고서', '알았음', '나아가', '그러면서', '살아도', '차근차근', '보여줌', '보여주고자', '대학교', '동아리', '흡연', '표본', '파출소', '구식', '주로', '명백한', '싶었고', '주도', '웨딩드레스', '드러내며', '방치', '많지', '미도', '만장일치', '내공', '불러야', '붉은', '흑화', '선민의식', '경력', '미약', '폭동', '이어야만', '있는것', '드라마틱한', '하기는', '소품', '어느샌가', '세명', '화장', '그랬지만', '됐어요', '는바', '없다가', '생김', '행복하다', '외롭지', '따듯', '흔들리는', '하고만', '알았더니', '길다', '걸어온', '분석', '레퍼런스', '카피', '찬란한', '작별', '계절', '비행기', '푼', '지워진', '이야말로', '떨어져', '이영숙', '방송국', '필연', '편안하게', '거란', '살라', '상철', '조사', '바랐던', '왜냐면', '뉴스', '중학교', '받았던', '솔직하게', '에다가', '기다린', '건대', '쥐어', '기다렸다', '평범하고', '나아가는', '라기보다는', '그리워', '불러서', '보이는게', '예수', '인물관계도', '액션영화', '선의', '비춘다', '되고자', '찢어', '원하고', '이겨', '된게', '받으며', '뜬', '쫀쫀', '궁금한데', '날까', '로망', '지날수록', '이었구나', '리오', '만두', '않으면서도', '승패', '넘쳐', '페미니스트', '제이', '기호', '휴머니즘', '엿볼', '착취', '베어', '웨이', '정부', '죽는다는', '귀한', '간단한', '짙은', '무협지', '순수', '실상', '심각하게', '시놉시스', '육아', '본다는', '기쁘다', '여럿', '이드', '감격', '보려면', '바랄', '내릴', '클라', '나란', '벅찬', '지수', '이랑은', '돌고', '능', '우주', '보았던', '이상할', '드러낼', '그러', '정통', '핵', '짜증나서', '어떡해', '잃는다', '비치는', '차마', '흘리고', '닮아', '위태', '피망', '헌', '간단하게', '모른', '좇는', '재미있을', '아까', '준다면', '했기에', '파스칼', '다이어트', '보는거', '두리', '뭉', '아니구나', '부와', '품격', '올라가는', '쉽사리', '순서', '순이', '만족도', '답습', '무명', '날카로운', '연달', '인당', '리더십', '아니었나', '뿌리', '공허한', '치곤', '위스키', '안도', '밟아', '마이크', '마침표', '차곡차곡', '올리는', '가난한', '받았을', '봅니다', '맞추고', '데뷔', '어느덧', '훌쩍', '대학시절', '마력', '있잖아', '홀려', '부류', '혼', '모르던', '자각', '반해', '공고', '집사', '사뭇', '말미', '쟁취', '호구', '승조', '백배', '뭐라도', '따뜻하고', '봐주고', '예쁘고', '신선', '목격', '불안감', '화란', '풍선', '적이어야', '보고나면', '같은건', '행보', '줘도', '아쉽네', '좋으면', '환타지', '두렵다', '고찰', '부턴', '보낼', '담당', '들어오는', '부잣집', '부자', '오리', '성장하는', '해본다', '하겠지', '냉소', '하는듯', '연쇄살인범', '등산', '모호하게', '별다른', '안되는데', '내려올', '답답하고', '어울리고', '편안하다', '좋든', '담기엔', '아무렇지', '립스틱', '프로젝트', '동명', '연작', '보네', '하이라이트', '젭알', '줘서', '미안하다', '사랑스럽고', '변모', '재의', '전원', '되도', '동기부여', '떨어져도', '빌은', '보잘', '될지도', '모른다는', '지어', '한남', '제의', '좋더라', '강추', '재미있었고', '쓸어', '관계자', '공작원', '무방', '단독', '퀄', '에서야', '밀리', '말아줘', '느낄수', '걸어가는', '한국말', '알수', '유행', '중병', '빠져든다', '거슬리는', '뿐이었는데', '알겠고', '돌릴', '한층', '않으니', '숨겨', '삼박자', '명절', '홀리', '바라며', '가의', '안감', '생동감', '좋다는', '하필', '감출', '태어나', '깨는', '전사', '빨래', '관용', '들어가', '불의', '처지', '섬세하고', '육체', '뺌', '이만', '비루한', '않으면서', '림', '괜찮고', '많았음', '끊을', '사라질', '무섭고', '완벽해', '명확', '다음주', '사춘기', '없는지', '겪는', '나음', '좋아도', '되니', '식도락', '였는지', '탐정', '억울한', '경기도', '퉁', '부대', '일텐데', '박형식', '있지는', '오가', '참여', '잊혀지지', '이군', '한단', '미소년', '온데', '행복하길', '곤', '봤기에', '들어갈', '되잖아', '간간', '막는', '크랭크', '삼류', '들일', '측', '면세', '질환', '겪고', '꿈틀', '아니었고', '토마스', '오래된', '브레이크', '레이', '독자', '방이', '디워', '했는지에', '시원한', '착실', '맞을', '다른건', '솔로', '싶어서', '무겁게', '재밌잖아', '기대하면', '생각남', '이형', '합리화', '같으면', '했을텐데', '하게도', '없이는', '갯', '차차차', '동생', '동질감', '삽니다', '피상', '숀', '죽였어요', '합시다', '웃으며', '나가며', '해나', '저주', '문법', '당함', '일수록', '아쉬워', '더더', '나간다', '고프다', '화해', '지인', '봣', '케이스', '야할까', '궁금했던', '먹는다는', '안다고', '팀워크', '그니까', '소비자', '당당', '깔아', '타자', '생명', '생채기', '없으며', '때깔', '성별', '괜찮지만', '공연', '리부트', '순수하고', '흑역사', '이로', '돌이킬', '심은', '에바', '오글오글', '남용', '부족해서', '아니냐', '전과', '취하', '대단하고', '흉내', '잔잔', '길들이기', '크리스', '위대함', '있었습니다', '였습니다', '빠져서', '죽는줄', '잰데', '쵝오', '중요시', '뭣', '올라갈', '즐거웠습니다', '보여줘', '더한', '통편집', '뺨', '가인', '바삭', '남주는', '티빙', '했더라면', '돌아갈', '띵', '답답', '범죄물', '재밌', '도안', '안듬', '슈퍼', '고마운', '말곤', '관록', '다큐', '결혼식장', '커을', '숨겨진', '놓을', '정적', '두서', '이었는지는', '화살', '그려져서', '녹', '대학', '소통', '살아가며', '낯선', '인정받고', '책임감', '배운', '헛', '쓰이는', '꼬마', '알려주고', '협박', '인공', '깬다', '하염없이', '나오게', '빙의', '발끝', '토피아', '찾아올', '변호인', '안팎', '최소', '들어도', '중도하차', '서든', '유학', '아프다', '먹으며', '같았고', '변한', '이렇지', '넣지', '깨알', '김성균', '죽여라', '버려진다', '모먼트', '만족스러웠다', '찍', '캐비어', '칠왕국', '아름다웠다', '되죠', '않습니다', '산부인과', '할거', '이룰', '해온', '되었습니다', '도피', '떠올리게', '으로나', '쩔어', '빠르고', '이겠지만', '보고있으면', '필요해', '화로', '로움', '악녀', '주고받는', '얼른', '이오', '지우고', '있었을텐데', '만도', '매치', '들었고', '건너', '대세', '하겠다는', '작동', '예감', '죽어라', '교실', '클라이맥스', '넘기고', '재미없어', '완벽할', '보기전에', '호준', '미안해', '죽어서', '한다며', '얼척', '별루', '옌', '흘림', '야유', '장애인', '대적', '보냐', '똑', '똑똑', '묻은', '절실', '핑거', '성질', '촌스럽다', '미흡한', '여혐', '그랬는데', '거든', '망치기', '부러', '해치는', '되라는', '몰라서', '코너', '막장', '였네', '이노', '랜덤', '있다는걸', '어렵지만', '눈요기', '가져다', '마음가짐', '흥분', '않더라', '장국영', '절규', '외우기', '말보로', '여야', '짓고', '따라가는', '나온다고', '불편', '촌스럽고', '서있는', '아니기', '덮어', '버린다는', '명인', '전무하다', '않는가', '충분하다는', '줬는데', '바라본', '패배', '미쳤음', '헷타', '소문난', '답답함', '꼰', '귀여워', '좋겠음', '끝나면', '보게되', '유치해서', '올림', '너무한거', '좋아한다면', '먹었는데', '일임', '마이너스', '러브스토리', '만들라고', '친숙한', '했는지는', '소감', '태어나는', '오글거리고', '장단점', '괜찮게', '기원', '있었지', '줍니다', '드라이버', '차이점', '뜨겁게', '탄', '광수', '좋았다고', '탄탄', '내부', '조악한', '망했을', '미스캐스팅', '재밋어', '되질', '올랐다', '있을지도', '선호', '저격', '잉', '몰아서', '블랙', '역변', '아니나', '살리기', '끝나야', '진짜진짜', '피날레', '해명', '드러낸다', '길고', '발작', '이쯤', '삼아', '위장', '호기심', '깊숙', '행각', '무의미한', '산사', '관객수', '호들갑', '이끄는', '넘지', '유치해도', '만든다면', '만들었어야', '해봅시다', '누르시겠습니까', '말살', '코리안', '산화', '이모', '관념', '이두일', '퍽퍽', '고난', '잘생기면', '파탄', '테제', '더럽게', '통틀어', '망신', '돌아보게', '받게', '모르지만', '좋겠어요', '부러워', '반쪽', '어우러져', '떠나는', '자른', '준다는', '두자', '먹어도', '전장', '만들어도', '좋겠네', '먹던', '이케마츠', '자아낸다', '같았지만', '귀가', '좌석', '했냐', '착오', '헤테로', '오래전', '하정우', '영화제', '돼지', '답답함을', '대기업', '싯', '실사판', '가져야', '흘러간다', '패스', '알았을', '늘어진다', '남긴다', '쓰면서', '이루지', '워홀', '가고싶다', '보는것', '다가올', '부딪혀', '다크니스', '높고', '찾지', '없었을', '짜게', '절하', '옥편', '이동진', '도착', '않았다면', '없어짐', '방값', '언뜻', '직시', '난잡한', '효율', '되네', '민', '타파', '외로', '컨', '전파', '난사', '아니였다', '죽인', '된건', '시상식', '투자', '살아서', '저만', '볼일', '자의식', '진부한', '피어나는', '빛났다', '숲속', '미스에이', '웃음소리', '당할', '물고기', '해줘야', '싶은게', '아껴', '적이게도', '봤더라면', '일제', '모르겠는', '뭉클한', '밀당', '바램', '옮길', '일하게', '닿는다', '리해', '있는거지', '할만큼', '줘야', '사진', '타령', '즌', '홍경인', '편한', '진도', '덜어', '후일담', '멀', '외전', '배울', '망해', '듬뿍', '그러지', '뽕짝', '보자면', '특별하게', '해주셔서', '비추', '드윈터', '뜨는', '고조', '볼거', '한개', '여왕', '계시', '불가능하다', '멤버', '가다가', '멸시', '앓고', '들어야', '고추', '감수', '하시고', '느껴서', '부인과', '장흥', '그만한', '공정하지', '돌아온다', '돌아오는', '여름', '가계도', '아니라서', '전공', '극본', '해먹', '마따나', '겸손', '붙이는', '붙이기', '아팠다', '브레이', '배드', '던지고', '속성', '바뀜', '전남친', '싶습니다', '하신다', '리다', '풍기는', '그중', '보이기', '벌이는', '치면', '바쁘다', '잃어', '요하', '의적', '묻고', '남고', '글구', '당당한', '질병', '마스터', '스피디', '볼려고', '다루지', '짜증남', '난후', '조심', '철새', '이동', '경이', '네이버', '맞서는', '조울증', '변경', '대사도', '담백하게', '따라간', '모션', '당해서', '도감', '가볍지', '미치게', '곱씹', '어보', '보진', '진리', '죽을지', '벨', '읽은', '견디지', '쓰다', '일정', '모아', '균열', '성실한', '믿은', '훌륭', '서점', '통쾌한', '모르나', '편안함', '들었다고', '무너진다', '부품', '뇌리', '나누고', '다름은', '엄청나다', '지탱', '건진', '친절함이', '손발', '워너', '심한', '내재', '되는게', '싶지는', '묻는다', '시끄러운', '고갈', '쓰인', '예고', '트레일러', '라이벌', '이라지만', '놀', '미로', '실재', '강박', '뺐다', '결여', '실패하고', '무적', '드물다', '소수성', '없기에', '말길', '이탈리아', '화남', '부르는게', '하기에는', '명분', '만나며', '빨간색', '되었다가', '무섭', '멍청이', '있음에도', '깨달음', '궁금함', '엠', '나온다면', '래야', '모성', '나은듯', '만들었지만', '대중문화', '멋있게', '어쩌구', '회고', '외피', '의원', '공장', '가시데', '싶어졌다', '리액션', '해피투게더', '테로', '왜곡', '찾은', '옥죄', '이라곤', '라던가', '래서', '아니었음', '여자애', '듣기', '슈트', '한낱', '센스', '대서', '조작', '화이자', '뇌절', '뮤비', '이끌고', '복분자주', '성우', '어렵게', '짜릿해', '귀여운', '할머니', '스키', '홈런', '수오', '웃지', '옳은', '되지도', '노랫소리', '절대로', '절제', '재치', '보여주세요', '느꼈지만', '공중파', '불필요하게', '그만하라는', '센세이션', '믿는다', '이른다', '인자', '브금', '많긴', '품위', '전제', '들어간다', '홍어', '순발력', '하셨다', '찾아봐야지', '스포츠', '찾아볼수', '갖는', '얼음', '훌륭했다', '미침', '걸지도', '달려', '장기', '깡패', '갖춘', '변형', '벌리고', '각인', '바랐는데', '발라', '애드', '장단', '느좋', '멍청한', '자연인', '빼먹은', '띠딘', '먹고싶다', '부전승', '늘어지고', '촉발', '영은', '성폭력', '잘난', '디자인', '안타깝게도', '려고', '조재윤', '알았으나', '일대일', '가도', '간절', '미소녀', '생존자', '여타', '이끌어가는', '들어가고', '방어기제', '레이더', '알려진', '무참', '가해', '과를', '재개발', '플루', '찬다', '펑펑', '충무로', '새롭다는', '봤으나', '심오한', '있는듯', '냈으면', '조잡한', '떠났다', '꿈결', '반증', '불친절한', '부드러운', '인도', '미루고', '흡수', '괜찮았던', '진지함이', '형형색색', '받기도', '여론', '시한', '끈기', '거슬린다', '만회', '쓰다니', '섹시', '선보이는', '클래스', '대파', '잘려', '동등', '아닌것', '위대', '불우한', '길거리', '듣지', '계층', '펠', '익숙하고', '않았으나', '인의', '천년', '나와야', '성서', '화하는', '띄워주기', '교체', '만들어지는', '양상', '이따금', '어쩌나', '소소하게', '섞어서', '끌어가는', '축제', '부스', '부리는', '드러내고', '스러웠음', '역효과', '아우르는', '중점', '흐르듯', '않으며', '자연스러운', '회수', '가선', '없는거야', '않았기에', '쏟아', '부은', '어쩐', '현준', '서에게서', '불타는', '지어지는', '한순간', '거만', '알려지지', '낳은', '맛없는', '넣으려고', '썼지만', '진지', '흐릿', '받아들여야', '예쁘게', '황홀한', '답답해', '다인', '사마', '고맙습니다', '취객', '톤앤', '없었어', '놔두고', '드래곤볼', '부족하다고', '질린', '없나보다', '특별함이', '드러났지만', '좋았을듯', '사의', '보여주기엔', '밋밋해서', '올라가지', '동그란', '무관심', '쏟는', '커져', '치열한', '줬을', '길들', '넋', '그레이', '나서야', '원망', '보길래', '봤었다', '만든듯', '시초', '넘을', '없었지만', '폐해', '답답하게', '소년만화', '식대', '끝나질', '비벼', '앞세워', '불리', '복합', '아무나', '만들던가', '게뭐', '날뛰는', '써는', '받아들여지지', '쏘아', '허무맹랑', '받았고', '행오버', '알겠다만', '금액', '허무한', '즐거웠던', '나가는데', '어쩌라고', '부름', '우울함', '똑같다', '자발', '급변', '원했는데', '갈까', '매칭', '다가오는', '박한', '왔어요', '창의력', '선망', '플리', '노년', '호명', '둘러싸고', '소위', '육식', '기실', '건강', '어렵', '실천', '경탄', '패자', '봉준호', '밥상', '공일', '빌이', '성장하고', '법칙', '구상', '기억난다', '민중', '없인', '없어지고', '해지는', '일기', '전인', '키워', '삽입', '나오자마자', '넘기는', '막스', '어깨', '로튼토마토', '만족하고', '봤었던', '활강', '듄', '돌아서', '받네', '밖에는', '톡톡', '댓', '걔네', '트랜드', '행복해지는', '만들겠다는', '용도', '뭉클하다', '빡세', '중요', '붙일', '가차', '솔직한', '아자', '분간', '들면', '핸드폰', '주워', '닭꼬치', '김복', '없이도', '가능하다는', '짜릿함', '허무하게', '닭', '훈계', '죽어도', '촌극', '읽을', '아니며', '낮추고', '보러가서', '금지', '겁쟁', '상대방', '뉘앙스', '미남', '느껴졌는데', '끄덕', '서고', '디시', '길어', '울려', '보여주면서', '켜준다', '수완', '인과', '포만', '않았으니', '김치', '인분', '뛰어나고', '앨범', '키우는', '울었는데', '철거', '불공정', '넘어가야', '쓰리', '서울대', '살리는', '맞추려는', '찍음', '빈약', '이루어', '지라', '서나', '잔해', '찾으려고', '뚜렷한', '명료한', '위험', '방점', '였지', '질서', '비웃으며', '살아있는', '부합', '뒤틀리고', '사라진다', '유희', '태우고', '은폐', '초상', '맑고', '도약', '미치겠다', '본을', '중도', '나왔고', '퓨전', '노예', '귀여웠다', '약하고', '팽팽하', '되던', '파는', '없었네', '살아가길', '다가갈', '아까워', '놓는', '잔인하지만', '시원함', '부족하고', '삼국지', '훈련', '나오나요', '뒷이야기', '짧아서', '보고싶었는데', '됬지만', '있는지는', '풀어줘서', '넘어가', '구렁텅이', '원해서', '쳐도', '심판', '사법', '난데없이', '교사', '하기로', '경합', '말아야', '확실하다', '느껴지는게', '진수', '봐줄', '싫든', '할말', '이었네', '해하', '환하는', '보여줬고', '보였을', '성정체성', '그려진', '않겠', '어요', '들이게', '위트', '덜한', '견디면', '왔을까', '갑작스러운', '급전', '복잡', '미묘하게', '유감', '미녀', '찾아보고', '않나요', '정신차려', '상반', '크아', '가벼워', '회전', '흉내내', '알리', '참았다', '있죠', '간직', '들어진', '하기까지', '살아간다는', '바라보고', '열중', '싸워', '로드', '불러도', '쉽고', '일관', '고사', '없잖아요', '않았다고', '이끌', '발달', '담백한', '드린다', '재밌나', '혁신', '무얼', '예뻐요', '시계', '만들어주세요', '보여줬던', '남겼다', '의향', '적어서', '쓸쓸한', '부른', '자존감', '그런대로', '채우는', '아까워서', '보셈', '넣기', '페이스', '가창', '좀비', '겸비', '찍기', '인내심', '골목', '찍으신', '철저한', '외톨이', '했구나', '허겁지겁', '벌어진', '유령', '하였으나', '재미있', '모자', '아니었', '벗', '안되게', '몬테카를로', '연결고리', '불문', '있는걸', '헷갈리는', '인정받는', '헛웃음', '전투', '밑천', '압권', '몰랐는데', '사리', '지망', '참지', '닿았다', '알리는', '가득했던', '몸소', '슬쩍', '맥주', '구독', '벗어날', '모름', '원점', '썩어', '편하다', '어설프게', '참으면', '연두', '깐', '없을듯', '이십', '겨워', '무서움', '모범', '솔솔', '빵빵', '많았고', '필요할', '시키', '머랄', '파묻혀', '대기', '배기', '같지도', '해달라', '어렴풋이', '살아가기', '연구', '지루해지는', '버리며', '쩐다', '쓸모없는', '이이', '들어온다', '모레', '스무', '스무살', '드라마틱하게', '썼고', '능청', '인천', '끈끈함', '서프라이즈', '같지는', '스토킹', '반작용', '지키고자', '그렇기', '움직이는', '남아있다', '먹듯', '사이코', '썼던', '컸던', '스트리트', '뚠', '초적', '드신다', '보고싶단', '먹어야지', '간데', '미쳐가는', '보여주는게', '젖어', '떠나가고', '실험실', '멋있어서', '재미있고', '사로잡는', '지루하더니', '미쳤다고', '하지말라고', '촌스러', '다름없다', '렉일', '폭탄', '이처럼', '그만하라고', '명불허전', '부르는지', '있던데', '용소', '쎈', '싶어진다', '공기', '빛난다', '비열한', '눈감', '받아들이며', '길었다', '상실한', '창작물', '보여줬다는', '깜짝', '애처로운', '유쾌하지', '재밌다는', '무겁지', '막연한', '살렸지만', '알아줄', '닿지는', '되려고', '유치한데', '쳤다', '커진', '전시회', '한수', '하겠습니다', '않았', '편지', '멋져서', '마쇼', '저절로', '지면', '사랑받은', '되라고', '쳐다도', '나을', '작법', '씀', '괴작', '유쾌한', '직원', '날뻔', '공복', '끝나네', '로렌스', '뚝', '배우다', '상업성', '품은', '오늘날', '성급한', '생각나네', '죽였으면', '넣는', '거쳐', '그리움', '키스신', '비슷해서', '찝찝한', '급박한', '즙', '쓰임', '덮고', '산이', '외칠', '웃겼음', '않는게', '욱', '달라지는', '사족', '상당수', '흙', '보겠지만', '위대하기는', '왜케', '우왕좌왕', '박하', '취해', '한두', '행복할', '만드는건', '유튜', '모아서', '해달', '가에', '적기', '명확하고', '내세우며', '모토', '시켜야', '괴로움', '보려는', '유난', '우유곽', '규범', '내게도', '싶다면', '탑재', '따의', '접고', '싶었던게', '넣은거', '싶은거', '얼은', '싫', '우열', '빠져들기', '많네', '됐다고', '까고', '달라질', '체력', '멈춰', '탁월하게', '샌더스', '젓가락', '애틋한', '오가며', '윤재', '어도', '만나게', '멈출수가', '몸서리', '해보려', '개방', '모나', '꺅꺅', '눈살', '내뱉는', '벗어나고', '끌려가는', '번작', '말고도', '멋있었지만', '올라가기', '아닐텐데', '지킬', '정신없이', '짓게', '퍼져', '했었고', '사투', '두기', '정지', '각오', '호텔', '보이려고', '따라오는', '닿은', '냠냠', '대와', '이웃', '필요하지', '순도', '기억나는게', '그릴', '숨긴', '메시아', '자아내는', '번복', '야기', '발악', '투머치', '반절', '넣자', '볼껄', '흑인', '매년', '나누는', '오지랖', '기어이', '뚝심', '놀림', '받던', '살아가게', '성하고', '다채롭', '해줬음', '지내는', '스멀스멀', '양보', '보였음', '놔서', '오글거렸음', '포로', '수영', '성실하게', '어우러진', '있겠나', '틀어막고', '좋아한다고', '캔디', '좋습니다', '미친다', '기념', '유토피아', '끊기고', '응답', '부족해', '징크스', '하신', '의성', '조음', '위꼴', '만족감', '세번', '생생하게', '결함', '자초', '훈훈한', '본듯', '없어졌다', '였겠지', '명백', '발버둥', '불평', '건강한', '개미지옥', '들려오는', '죽였어', '이어질', '뒷골목', '잡듯', '마마', '공동', '희화', '불과', '잖아요', '강하다', '포부', '되었으나', '다가와', '간수', '부르며', '돌아와', '실속', '재미없다고', '얄팍한', '먹혀', '만나야', '연령', '사라져서', '읽었는데', '배고픈', '명실', '상부', '짜증나', '없긴', '첩보원', '다툼', '쌓고', '없나요', '가능하게', '담임', '쌤', '섞어', '뜯긴', '간신', '스파이', '참아', '대에', '보신', '리스트', '유치하지만', '함축', '몰카', '단순하게', '바꾸고', '알겠어', '미쳐있는', '있다는게', '괜찮다고', '모를까', '선임', '엔드', '인형', '놀이', '좋아할만', '예약', '풍족함과', '즐겨', '가죽', '구두', '갔고', '그러고', '좋아하진', '속절없이', '당했다', '코인', '드세요', '식상하다', '나올까', '처참하다', '광광', '어중간하게', '타르', '가르', '있었다고', '후자', '쓸쓸', '어쩌다가', '무딘', '풀어내다니', '코스프레', '브랜', '메이킹', '완성형', '어줍잖은', '세이', '타이', '상식', '사도', '오그라드는', '메이저', '어설프고', '어이없고', '아악', '비하인드', '지독', '폭소', '혹독한', '이르러', '사악한', '스킬', '색안경', '킷', '차게', '만들어놓고', '쓰시', '대단함', '지갑', '담뱃불', '크나큰', '탄탄하지', '감기', '될테니', '왜인', '깡', '영접', '해봤지만', '탄탄하고', '없네요', '김치찌개', '먹다', '젊음', '불쾌하게', '즉흥', '빗속', '앙상한', '프랑스어', '몹시', '흡사하다', '소격', '묵', '당하며', '찬양', '정신승리', '받거나', '흔해', '한결같이', '느끼며', '만들었을', '괴리감', '이렇다', '시킨다는', '상관없는', '재밋음', '리즈', '달리는', '맞으며', '대장정', '다는', '필터', '끈끈', '핍박', '칼질', '뽑은', '프렙', '그렇', '유성', '먹게', '놓쳐', '먹으니까', '역은', '요새', '하길래', '그래요', '좋아했다', '무림', '수사극', '먹이는', '충동', '빤', '난해하다', '사는거', '했으니까', '맙시', '놀라울', '짜치는데', '실질', '극명한', '잡채', '아바타', '닿고', '균형', '고양', '안성', '되냐', '얕다', '달러', '담지', '막다', '줄어', '약해진', '깔끔했을', '보완', '결단', '이럼', '치명', '쏠쏠한', '만족했다', '야했나', '명제', '고대로', '이루기', '했으며', '고발', '잡음', '많은것을', '기대했으나', '밷걸굳걸', '좋긴', '실망함', '아니여', '수의', '들여', '아니었어도', '있으신', '구심', '오후', '괜찮음', '거덩', '쉪', '막게', '꽃남', '뻔하다', '해한', '음식점', '가보고', '두둔', '급진', '살고싶다', '일거', '재밋다', '했는지를', '배척', '적지', '돌아간다', '가중', '겜', '안된', '보여줬어도', '이었을텐데', '거지같은', '없었어도', '하기만', '짧고', '자유로운', '돌연변이', '설레게', '화나게', '지루해질', '예뻐', '안중', '약육강식', '잔인하게', '죽게', '질릴', '독백', '누구세요', '하나요', '보답', '식어', '사키', '괴로운', '나이스', '펀치', '거창한', '재밌다가', '퇴락', '퍼센트', '잘생긴건', '국제', '시장', '들어가있는', '없는듯', '훨', '풀풀', '트릭', '먹지', '으로서는', '가는데', '병원', '탈색', '썼다', '똑같아서', '파급', '버리자', '확정', '남게', '심취', '개판', '보나', '당하고', '살아가면서', '묻는다면', '참신하고', '있을것', '재밌당', '확률', '상대역', '불행한', '교감', '않았기', '변하는', '섞이지', '기름', '외침', '미쳤나', '대규모', '전투씬', '칼리시', '함께라면', '보시', '칼춤', '밑바닥', '쿠스', '감사하다', '오글거려서', '튀기는', '땀', '불허', '염세', '심해', '흥미로웠으나', '짧다', '빨갱이', '않았어', '밝기', '가성', '아쉽게', '안겨', '대왕', '만큼만', '얄팍하게', '발걸음', '갔던', '체감', '시식', '술함', '기기', '됐든', '남았지만', '이대', '바란건', '바인', '시원', '뻥', '무죄', '시원하게', '나았을듯', '클립', '했을듯', '괜찮', '기대했다면', '하여간', '안좋아서', '시키려', '배고파진다', '던데', '일식', '전해', '짚어', '불편하지', '찾아다니는', '벌인', '대응', '망했다', '합격', '않았었는데', '안정감', '괴로웠다', '쏘우', '벗겨지는', '점차', '오리온', '줬어야', '없기', '비운', '궁금해지는', '재미없는건', '맥스', '저쩌', '상일', '붐', '끌리는', '끝낼', '억양', '진하게', '싫었어', '공략', '콧물', '돋보이게', '혈', '커밍', '좋았', '소멸', '돋았다', '노트북', '급격하게', '재미없을', '살린거', '가득하고', '기대한다면', '보이진', '보내지', '얼핏', '유의', '맴돈다', '나서는', '라벤더', '몹쓸', '간간이', '선점', '배고프게', '많은걸', '충분하다', '흡', '남았어야', '잔치', '적게', '선행', '흰', '슬퍼서', '이었기에', '단호', '없다며', '되거나', '생기기', '서기', '성공했다', '추며', '보듯', '액션연기', '들개', '스며들다', '비슷한데', '이러니까', '있더라', '하자고', '총기', '허영', '짜증나네', '흘러도', '태생', '해냈다', '싶은대로', '와이', '재미있어', '도장', '돌파', '놀람', '담으려고', '보겠다는', '잃어버린', '안든다', '전문성', '벗은', '이롭다', '훌륭해서', '궁금해졌다', '실시간', '어찌나', '특별', '세련되고', '군대', '틀어서', '빡침', '안녕', '업그레이드', '틴', '자격지심', '느끼지만', '무례', '할것', '노크', '가려진', '만드는게', '드러남', '대담함', '지칭', '희안하게', '해있는', '기다리면서', '쌓이고', '넥스트', '미쳤어', '상당하다', '내놔라', '흘러가는', '질적', '밥집', '교집합', '믿어주고', '에게로', '기량', '야채', '클락', '끝났으면', '워킹타이틀', '이쁘다', '백이', '낮게', '왔다가', '가보고싶다', '투어', '장가', '읭', '살아있어서', '정확하게', '숭배', '시켜서', '가능한지', '잠들', '아깝지', '헤어', '빛났던', '더해져서', '응원가', '수긍', '미나', '하드', '파친코', '있자니', '반란', '외롭게', '족', '유흥', '마땅하다', '참사', '본건', '지존', '로케이션', '고용', '가려', '설계', '만이라도', '오글거림을', '브로', '썼다면', '썼을', '넘친다', '만나기', '응시', '버리지', '발리우드', '가까웠다', '했을지', '같았는데', '부임', '지금껏', '혼잣말', '거꾸로', '밀접한', '다기', '흘러나오는', '돈벌이', '넘쳐나는', '악취', '자하', '미안', '있었는가', '잼나게', '감수성', '만들려고', '해서라도', '출연료', '심어', '바뀐', '해대', '맛있다고', '차갑고', '본의', '했던게', '위대한가', '외식', '재벌', '구미', '조선', '들어와', '등록', '국', '용어', '임용', '아동', '영호', '그런게', '슈퍼스타', '뜯어', '애매하다', '성배', '사울', '서다', '단일', '작정', '살아남은', '오픈', '기다리며', '상도', '떨어지지', '죽이기', '핏줄', '박진', '짠', '다그', '아닌게', '배경음악', '해보이고', '유무', '씹는', '모형', '음습', '묻', '얻지', '아프게', '별반', '댄', '신뢰', '알아가는', '탈락자', '로맨스영화', '영원할', '열렬한', '페이지', '술술', '구사', '잔혹', '라이즈', '작업', '수선', '운다', '부족한게', '훼손', '어려울', '낌', '딛고', '하려면', '깊고', '넓게', '이뤄', '달릴', '우리둘', '재미없었다는', '살렸고', '줄타기', '사위', '났던', '만들면서', '위협', '숨통', '아이파크몰', '강력', '시그널', '기묘한', '빈도', '다른거', '개취', '남조선', '재밌진', '미덕', '내포', '진지하다', '모른다고', '뚜렷해서', '이로써', '올라간', '미워할', '한글', '격인', '같은게', '독립영화', '쉴', '뽐내는', '있을듯', '킹덤', '만들어라', '좋아했는데', '있었', '가리지', '버렸고', '커지고', '이르게', '만들어지고', '안목', '공평한', '얻게', '전국', '홀린', '대거', '의심스러울', '자멸', '기구', '되었기에', '정렬', '연한', '독한', '중요성', '실행', '무궁무진', '심심한', '그땐', '유치해', '리얼리티', '만드니까', '화평', '읽었을', '옵소서', '사기', '소개팅', '메모', '풋풋한', '되돌아보게', '예견', '허울', '없는것', '컨데', '듭니', '억원', '써야', '탁월한', '십대', '파라', '해설', '던졌다', '띈다', '갑지', '백미', '깊다', '놓쳐서', '메디', '뻔하다고', '제안', '브라더스', '순정', '해고', '파편', '지친', '나온건', '대담한', '염원', '스테이지', '놓친', '상자', '트라우마', '잡탕', '치가', '틱', '소환', '애플', '이크', '바랬던', '막대', '시궁창', '화도', '있듯이', '증폭', '원조', '불렀으면', '눙', '났는지', '펼쳐지고', '토끼', '믿기지', '적대', '쿨', '빼어난', '카르텔', '알아보는', '이대로', '흔들린다', '솜씨', '데이터', '타입', '옥당', '안유', '불쾌함이', '나오더라', '시너지', '생기지', '해보고', '댄다', '홍대', '롯시', '광음', '수혜자', '운전', '닮아있다', '출석', '기지', '감싸주는', '친절하게', '준결승', '이러지', '젠장', '토마토', '담겨진', '이벤트', '선악', '필요없다', '금발', '반지의제왕', '왕자', '달린다', '막내', '바라테', '터짐', '느껴졌던', '만족한다', '구절', '꼬옥', '오마쥬', '따라가기', '스타트', '강남', '이겨내고', '꽉꽉', '올릴', '텅', '조적', '구체', '떠올리며', '인테리어', '냉혈', '춘', '주객전도', '오감', '포커', '쓰면', '이렇게도', '나아가고', '횟수', '살아나고', '회개', '간지', '무겁고', '우울하고', '우겨', '넣으려는', '보고싶은데', '옛', '자칫하면', '괴롭다', '뭍', '입증', '생각나서', '안타까', '기다림', '박차고', '스다', '보았는데', '무례한', '다중인격', '생겨서', '다녔다', '슬슬', '망쳐', '난잡하고', '최저', '돌려서', '지나서', '외로워', '않았음에도', '형상', '갔지만', '곰', '칠한', '완벽하지', '우스', '발랄한', '비추는', '내어', '소가', '끗', '장녀', '몽', '오래오래', '기억나지', '메아리', '매료', '궁금할', '내뱉으며', '했을지도', '짜내기', '동반', '되도록', '세운', '확실하고', '오래도록', '택하', '살아있고', '있는게', '형체', '울었던', '오오오오', '라이온즈', '재밌지만', '궁합', '제물', '포스', '불쾌함', '주던', '만나고', '애정도', '제작자', '버석', '담백함이', '무너지기', '일보', '했던걸', '었', '증말', '폭주기관차', '집약', '소란', '버리기', '레시피', '짬바', '들여다보면', '무거울', '왈칵', '달빛', '나오니', '화할', '망칠', '대선', '많', '알기에', '핀', '비범한', '살림', '짝수', '이러고', '같긴', '세르세', '정수', '유사한', '만들어야', '받', '어색해서', '많던데', '비례', '톱니바퀴', '인전', '유투', '강약', '채워진', '스레져', '전용', '진가', '종교', '보이즈', '미지', '보았지만', '그렸다면', '깨닫는', '심심하게', '게살', '재앙', '싶네요', '지나도', '에의', '시키면서', '부각', '빗물', '재질', '기대해', '보헤미안', '즐겁고', '해가는', '띄워', '삼는', '살았다', '봤을것', '하모니', '루틴', '보여주면', '지켜야', '티저', '열렬', '간단', '띠용', '용납', '꼬집는다', '괜찮으나', '재키', '부르려고', '테크닉', '동일', '라이터', '캐치', '관조', '졸', '연하게', '하트', '마블', '쾅', '백만', '무리하게', '들여다본다', '넹', '모르겠어', '더러운', '따라가다', '버리네', '요리왕', '비룡', '먹었습니다', '소스케', '망령', '날아오른', '여자도', '재밌긴한데', '메리트', '깨짐', '열광하며', '잃음', '무니', '불쑥', '괴롭는', '집가는', '더했다', '화면비', '오타쿠', '연성', '밋', '멍', '투척', '기발한', '밤밤', '어르신', '도구로', '괜찮은데', '분명한', '보였는데', '잔잔하고', '일어난다', '이르는', '할게', '처참하게', '꼭대기', '강풀', '수면', '의심스럽다', '찾아온', '다르다고', '공판', '피고인', '섭리', '버티면서', '스레저', '고무', '부르던', '썼다고', '아서만', '할리우드', '아카데미', '애니메이션상', '끝났을', '몰랐던', '유유', '넓고', '증', '종이', '드네', '자칫', '이심', '예상외', '테마', '급발진', '조엘', '되어있지', '남아있는', '연약한', '담는', '냈다는', '죽었으면', '도취', '헀', '생겼는데', '버거', '가랑이', '둥', '소금', '해야겠다', '빨갛게', '파란', '내려오는', '깔끔하다', '악기', '않더라도', '좋아하지만', '병맛', '하얀', '금치', '손길', '웃기는', '빌딩', '학살', '일본음식', '대가리', '깊었음', '쌓아가는', '최씅', '상냥한', '끊기지', '싱겁게', '변했다', '박은', '할거야', '에티켓', '살수', '곰곰', '실종', '폴', '있었네', '빠지', '데이미언', '든든한', '훌륭했고', '빨려', '안습', '섞여', '감점', '있던가', '광탈', '느끼기', '밋밋한', '싶었을까', '쇼맨', '해야되', '씻고', '마키', '근친상간', '깍두기', '오셨어', '맛있고', '지으려고', '망친', '신도', '사정', '이었는지를', '배심원', '뿐이라며', '대물', '테두리', '마시는데', '필요성', '도우미', '유닛', '무인도', '얼터', '되에서', '출현', '진술', '여겨지는', '했네요', '담아내는', '소격효', '과학', '벡터맨', '중학생', '랑은', '낚', '기겁', '좋냐', '베드씬', '잠입', '되는가', '읍', '필요합니다', '명예욕', '매니', '느껴졋음', '엎', '봤으니까', '들지도', '식스', '비겁한', '흘리게', '지루', '재미없다는', '확실한건', '남았을', '싹둑', '안겨주는', '깨기', '가깝지만', '멀티버스', '어색했다', '한국판', '트와일라잇', '만났을', '연속성', '하듯', '뒤지게', '없었으나', '깜냥', '자락', '당하지', '미루다가', '망할수가', '어케', '신다', '모은', '서식지', '일리', '해줄게', '이론', '졸다가', '죄송합니다', '가리비', '하잖아', '울다', '일으키고', '언론', '괴롭거나', '거슬리고', '이었기', '쟁탈전', '죽으면서', '하락', '옳다', '상가', '타지', '회유', '타란티노', '궁금', '냅다', '종지부', '다룰', '알려져', '살리려', '되곤', '소유자', '다루고', '펼쳐내는', '하이브리드', '이른', '아끼고', '편이었음', '내레이션', '거슬렸음', '양다리', '난동', '폭언', '일맥상통', '망정', '나감', '밝혀지면', '돌이', '맞는다고', '절묘하게', '생소한', '신입생', '감치', '넉넉한', '누비', '따라가며', '손목', '가져다가', '판명', '싱겁고', '만든건', '공정하고', '더해서', '내려와', '건네는', '굽', '채워지지', '머니', '무너지는', '멸망', '고은', '맛있어요', '늘어져', '했을것이다', '첩보물', '업무', '마구잡이', '불쾌했다', '보십', '본것', '식상한', '신선함을', '산만하고', '잡는데', '궁금하고', '약해', '데시', '어수선한', '된줄', '압', '한바탕', '세련되게', '스타트렉', '습관', '조악함', '지루하기만', '다가오진', '감싸는', '섹시한', '부각시켜서', '마등', '아니었던것', '나타내려고', '최선일', '먹까', '진지함으로', '나갔으나', '진지함과', '줄였다면', '죽였나', '죽였나를', '중요할', '괴로워하는데', '궁금해하는게', '여백', '조화로웠다', '별세', '훌륭한지는', '주는게', '건지는', '일그러진', '진화', '입도', '셀', '조악하게', '야했다', '햇살', '만끽', '살던', '재밌냐', '들인', '눈높이', '어울리게', '당했다는', '좋아하네', '괜찮다', '흐른', '들춰', '미였다', '받았음', '가보는', '허약한', '보려하는', '만들었어요', '열광할', '복사', '기괴한', '않되', '부족해요', '나오는지', '겉절이', '해사', '씹을', '야무지게', '드심', '신인', '만들어지길', '아니였지만', '팡', '한다는데', '많은거', '최승', '수술', '버럭버럭', '동동', '먹여준', '미처', '하기에도', '생닭', '랜', '다름없었다', '캐붕', '주려다가', '없는거', '어이없어서', '에서조차', '야야', '알아봐주는', '채우지', '괜찮지', '파이팅', '유치했지만', '가능하다고', '뜨려', '하기만을', '올바른', '해놓고선', '달아서', '바랬', '미치고', '아니었으니까', '했더라도', '본명', '싸하게', '환장한', '없었어서', '억이', '평이하고', '기생수', '연가시', '숨거냐고', '같나보다', '눈가', '보는것도', '놓치면', '산만하게', '필요없지', '아니었다고', '어울렸을', '싶은건', '론데', '근간', '그리고는', '서라도', '왼쪽', '불과하다', '전해진다', '원하지는', '익숙할', '일로', '낙하', '보여주기만', '튀김', '흘렸네', '잼잼', '빡치라고', '차인듯', '썼으면', '복잡했을거라', '탈주', '상관없어요', '알리오', '크림', '되는지', '호모', '소셜', '왔는지', '참여자', '과열', '토의', '비거니즘', '캐롤', '애덤스', '난장', '폭로', '클하게', '지긋지긋한', '토리', '쏟아질', '더할', '나위', '탈각', '않겠어', '테러리스트', '정곡', '정해진', '진성', '불편해야', '급작', '싫지만', '예우', '옥자', '식탁', '교묘하게', '하겠는', '러버', '아름답', '출발점', '권하고', '드니', '확립', '보고있지', '불러오는지를', '최종회', '클로', '봤는지', '이따위', '패션왕', '즐기면서', '놓인', '떠오를', '차는', '찾아오지', '휴대폰', '올라가고', '오메', '했었나', '있을지는', '비트', '닳도록', '때때로', '재는', '믿어', '받아쓰기', '후유증', '미치지만', '버틸', '봤', '긴한데', '끌린다', '목덜미', '잡는다', '노리는', '맘대로', '흥미로울', '흐른다', '죽겠어', '좋아한', '외적', '있었으나', '스케', '돈카츠', '로스', '붙은', '핵잼', '새도', '지키려고', '이겠지', '느끼기에', '며칠', '지나서야', '같을', '싫을', '똑같았다', '순애보', '스며드는', '늘리고', '프렌치', '초석', '전격', '미친시인지', '취미', '웃기면서도', '끝내고', '걷는', '왓차', '돋보이지', '서술', '하였지만', '스러워서', '게인', '컴피티션', '무제한', '도박', '먹방러', '단위', '왔다면', '구매', '진과', '공명', '신물', '지쳐서', '먹었니', '애피타이저', '샐러드', '비속어', '황홀했다', '내주세요', '기용', '찬란', '부적합한', '죽이려', '찜찜한', '여겼나', '행복해질', '떠날', '노고', '편향', '갈렸', '나눠', '방증', '이끼', '화려하게', '덕인', '어지간', '싫었나', '흔들고', '없어지는', '지나간다', '성녀', '가십', '불러주는', '붙잡아', '가부장', '비위', '맞추며', '그렇지도', '보였', '태우는', '바랐다', '쉬이', '이었', '바구니', '내려오던', '생전', '슬퍼', '대목', '하고야', '슬퍼하지', '쏠', '깽', '쌓아놓고', '친일파', '충실해서', '아깝지만', '아마추어', '엄니', '새어', '아끼는', '부럽', '해야하는지', '다임', '따라갈수', '들아', '아우성', '들림', '사로잡', '늪', '황새', '따라가려다', '아름다워서', '띄엄띄엄', '양심', '누르는', '월일', '소중해', '칠흑', '많아지길', '울며', '재밌었으나', '보여진', '오점', '기보', '평작', '젊고', '심금', '솔직해지자', '놀랍다', '필요했을까', '되었어', '범행', '그러려니', '딱한', '비치', '장선', '학적', '날것의', '하는데만', '만드는데만', '몰두하는', '모티브', '타게', '그럴거면', '받았다고', '시어머니', '중립', '사이사이', '보여주던가', '생기는데', '뱀파이어', '김인권', '내려오지', '맡겨', '간극', '독기', '에라도', '잃어가는', '좋으니까', '특별할', '아따', '미감', '인력', '오만하다', '병든', '콕콕', '찔러', '어눌하고', '어이없다', '나오듯', '받길', '서보단', '맞춰서', '애절한', '본으로', '루저', '상류층', '갈구', '나르시즘', '인것', '무력한', '차기작', '나왔다면', '울타리', '숨기려는', '밤길', '였을까요', '하지말자', '그리워하는', '가니', '진중하게', '하디', '미치진', '중앙', '끌다가', '해주세여', '하셔야', '이러진', '걸렸다는', '글썽', '스타트랙', '착하고', '눅눅한', '갈비', '아앙', '높았다', '부리', '새겨진', '필요없이', '살아가라고', '선선', '금고', '움직일', '빛나', '도울', '깎고', '결실', '맺은', '날아다니는', '허튼', '안심', '방대하게', '그런듯', '가자', '저급', '카테고리', '깨도', '근처', '선조', '보실', '창피하다', '소린', '왓챠피디', '정신분석학', '모던', '번봄', '덮을', '난해한', '같긴한데', '하더라', '대완', '반토막', '않은것과', '한건', '뭉실', '넘어간건', '다이제스트', '엔진', '시퀼', '리스크', '서툰', '손수', '꿈꾸던', '어리석은', '배타', '봐주는', '단단하게', '나르시시스트', '능사', '공익', '허기', '졸았음', '간지러', '접목', '악수', '찌르고', '고단', '덕목', '울리네', '갔어요', '옮긴듯', '수려', '맺', '재미있긴', '창원', '덧붙이는', '현지', '파헤칠수록', '추악함이', '드러난다는', '추적', '쏠쏠한데', '해주기', '합쳐서', '가볍다', '사랑스러워', '같어', '왕관', '내야', '만들었어', '초록', '작도', '속출', '다르기에', '잘생겼다는', '시간대', '뺏다면', '하는줄', '길들여진', '막연', '불과하니까', '시켜놓고', '이불', '베푸는', '돋았던', '말리는', '가려져', '해서인지', '상구', '쓰며', '중화', '위력', '보여줬더라면', '앞집', '실컷', '놀다', '손질', '살았던', '슴', '편함', '관해', '오오오', '죄악', '알못이', '드러진', '의연하게', '깨워주는', '경멸', '엄지손가락', '보루', '부실', '빨강', '대중화', '했군요', '햇빛', '바뀌고', '새로울', '숱', '볼지말지', '나가다가', '쿠팡', '놀랐던', '이수연', '영화포스터', '아크릴', '끼워져', '모에', '되어있었다', '닮기도', '물어봐야지', '붙어', '설렘이', '있냐는', '해놓은', '편했다', '아름다웠던', '미의', '중세시대', '부드럽게', '그려졌는데', '뽐냈다', '그리스인', '조르바', '똑같은데', '지리', '모자란', '이뤄지는', '탄탄했지만', '재미있을지도', '즐거웠어요', '아조', '마흔', '그렇다치자', '바뀌지', '플래시백', '뜨겁다', '겼었으니', '뜨거울', '흥분할', '으로선', '차분하게', '따라가려면', '확실하지', '다를텐데', '중요한데', '넘아가면', '평택', '미군', '항구', '일산', '신도시', '농산물', '특산', '인구', '오는지', '짚어줘야', '잡아주지', '창고', '평정', '되었기', '꺼풀', '벗겨져', '박다', '박다은', '다가오지', '뻣뻣하기만', '얽혀있다', '악역', '덜컹', '벌어지는데', '겪었을텐데', '건오', '끼쳤나', '일어났는데', '벌어졌다는게', '기대고', '죽었고', '원조교제', '미쳤어야', '핏자국', '막다가', '죽였다던가', '뛰어넘을수는', '허무하고', '견딜', '찾아가', '이우', '느낀것', '갈림길', '벗고', '물어본다면', '처형', '리치', '우왕', '핵꿀잼', '이브', '얼린', '기대했나', '쏟아져', '유쾌할', '희한한', '역작', '화풍', '순리', '순환', '팝', '더니', '깜놀', '심심', '풀이', '여고생', '많네요', '수기', '스태프', '초라하게', '구실', '였으며', '모르겠거든', '오만하고', '클로즈업', '성할', '연휴', '위선', '들이었음', '네다섯', '사를', '떠난다', '없어진', '갈려', '끝내준다', '대입', '왔을', '꼰대', '수식어', '찌질', '어쩌다', '업보', '널은', '적인것만', '만들어져서', '죽자고', '가볍지도', '무겁지도', '홍철', '크지', '됐습니다', '비용', '드시네요', '위험성', '진행중', '액', '탭댄스', '많았을', '있단', '단말', '같은지', '좋았겠다', '제거', '줬나', '좋아하는구나', '친하게', '극악', '위대했나', '에엥', '데칼코마니', '버렸네', '빌리', '아니었으나', '썼음', '귀엽네', '없겠다', '믿었고', '될만큼', '왕십리', '아파서', '끝나고도', '놀랍고', '애정결핍', '유명해진', '부딪치고', '산산이', '부서지는', '갈기', '맞춰주는', '질척', '거려', '라우', '쭉쭉', '면역', '신선했다', '따지자면', '진부하지', '깊었던', '다루고자', '고고', '붙여서', '하는지도', '받았는데', '보는이로', '시키지만', '방학', '구라', '퀴혐', '읽지', '묶여', '지루했고', '정신분열', '입양', '몰아치는', '달다', '머문다', '않으셔도', '불빛', '반짝', '능욕', '나아', '할께', '국과수', '분포', '만족하자', '볼수있을것', '않는구나', '봤겠지', '챙긴', '밤샘', '찾아왔을', '자유로워진다', '포상', '평등하게', '합니당', '쫄깃함', '끝내주게', '쫓아가다', '수렴', '파고들며', '어우러졌을', '그릇된', '했겠지만', '짓다', '잡기', '봐주면', '초라하다', '자아도취', '도통', '적어야', '짬', '티나', '따뜻하게', '간거야', '니요', '만들어줘서', '한듯', '홈즈', '아가씨', '도련님', '넣으려다', '흘러가고', '하겠음', '수갑', '명칭', '해봐', '싫다고', '와챠', '신지', '묵직하게', '종영', '투쟁', '일으켜', '넘치는데', '한다더니', '미워해야', '일체', '간주', '버리다', '썩거', '명확하다', '이데올로기', '사태', '도망', '심하다', '노상', '따돌림', '자세하게', '풀었으면', '참으면서', '연장', '먹여주는', '요리실', '단정하고', '끌어내린다', '대책', '재밌었을듯', '넘어감', '객관성', '잃게', '은혜', '하던지', '느므', '돌린다', '깎았다', '어유', '붙이', '미달', '외쳐', '미끼', '싶었던건', '하는거니까', '같진', '쓴거', '싸우다가', '모호함', '바꾸지', '익숙하지만', '푸는', '선수', '키로', '팀원', '빨라', '인증', '안좋았다', '관리', '동갑', '대단하게', '섹시함', '강아지', '않으나', '미뤄', '크루즈', '여실', '저력', '꿈꾸게', '이었으니', '극명하게', '희로애락', '롹', '까지를', '가정사', '만들어주셔서', '있어선', '답답해서', '나타나', '많아질수록', '찍어주세요', '같다가', '키우기', '어린이', '울기', '충분하지', '휘두르고', '싼마이', '찍는다', '훌륭하네요', '낮고', '남매', '플룻', '지키게', '절친', '비명', '차올랐던', '뚜렷하게', '이끌지만', '에서와', '극대', '화했다', '보태', '얼렁뚱땅', '이었을지도', '안되지만', '확실해서', '조율', '다수결', '깎은', '포지션', '번뇌', '늙어', '보증수표', '그러기', '해주었고', '랩', '막아', '거슬러', '되겠어', '행복했던', '하려던', '중주', '텍스트', '일상생활', '불가능할', '제자리', '리야', '밍숭맹숭', '차갑게', '돌아선', '있었으니까', '봐야하는가', '몰랐어', '안달', '마주치는', '신청', '느리다고', '뚱냥미', '추방', '깨워', '벗어', '나눔', '대하드라마', '막고', '된다는것', '보여주면서도', '부추기는', '허무함을', '불러일으키는', '취소', '울리고', '회한', '먹었어', '눈물샘', '오전', '긴데', '초현', '실적', '워킹', '뭐해', '친절하지', '끌어내려', '줬고', '자유로울', '다듬었으면', '남자라면', '편해', '샷', '좋겠네요', '보냈다', '이런저런', '위험해', '간택', '주머니', '테일', '롱넥', '포용', '밀어내고', '꾸며', '먹이', '바라보며', '편리하게', '들긴', '광경', '찝찝하고', '내며', '펼쳐', '폐허', '있거나', '금문교', '재난', '늘어난', '싶긴', '이탈', '고리타분한', '양성', '학창시절', '족보', '입는', '반짝이는', '멋있습니다', '놓아주자', '줄었다고', '찬란하다', '부셔', '좋아함', '돋보였던', '아련한', '이끌려', '싫었다', '소장', '기억남', '만들었기', '애물', '에가', '했니', '쉬리', '주년', '보호자', '선천', '날기', '붓', '냈습니다', '다뤘으면', '신문', '놀랍게도', '부르지만', '끊어지는', '소포', '모어', '뛰어나지만', '만큼도', '사야지', '미쳤고', '뻔함에', '새롭다', '보고있는', '교과서', '감회', '않았지', '북파공작원', '싫어지는', '화류', '조화롭지', '노림수가', '까닭', '않고도', '와장창', '트랙', '쫄', '알탕', '잘해야', '심폐소생술', '개뿔', '즐거웠음', '나타나지', '지나치다', '다지', '시력', '무너지고', '오답', '안전한', '오릅니다', '수줍게', '앉아있는', '구설수', '학생', '아가', '들어오지만', '가감', '듣게', '구찌', '신발', '친해지게', '라이프', '지석', '옴니버스', '끼치지', '톡방', '뒷담화', '겪게', '쓴소리', '치장', '오르는', '가보겠다는', '빵꾸', '원대한', '있을런', '내세우는', '하게되', '내세우려는', '괴롭게', '뿐입니다', '할배', '읍읍', '멋있다고', '불행할', '퍼즐', '많다는', '조잡해', '직빵', '안되니까', '다니면서', '가를', '뒤엎', '많아도', '재미없었음', '멍청하고', '알앗는데', '걸려', '셰익스피어', '경비', '구역', '아닐지', '소신', '장엄하게', '악플', '일진', '하셨던', '죽으면', '나가지', '남쪽', '군인', '벗기고', '불가능하다는', '알았다는', '전주', '준수', '발톱', '거실', '화표', '하시면', '일으키는', '불안정하고', '이상하', '핵탄두', '되었을지', '신비', '암투', '없겠지', '뻔하긴', '뻔해서', '혼종', '관찰', '흥미로웠음', '악물고', '답답했는데', '한것도', '넘어가면', '죽겠다', '나와요', '집값', '뜨리', '대부', '비슷하게', '강승원', '대장', '두근두근', '상하', '않니', '버텨', '우우', '불량', '연산', '뻑뻑', '허공', '같아여', '딱이다', '선회', '위압', '드려고', '돌아가고', '동지', '스토브', '사부', '좋아하지마라', '쉬어', '엇갈린', '중국', '너무했다', '악명', '어떡하라고', '나빴던', '무리한', '오이', '시가', '깔고', '앨라이', '앨', '가져', '시비', '끌어다', '메모리', '바뀌었을', '삶일', '들어오세요', '기울이지', '닼', '빠져들지', '바리', '스티', '망각', '서자', '귀족', '안되는게', '윈', '저주받은', '쓰이지', '울었음', '뒤집는', '간혹', '맛있는거', '가봐', '은은하게', '늦지', '숙명', '편승', '없어하는', '또다시', '터진', '정신병리', '대문자', '공사', '부각시키고', '펼쳐진', '갖춰진', '길었으면', '미는', '재밌으려다가도', '팽', '늘어짐', '앞선다', '싫었는데', '초등학교', '재미없었다', '탐방', '미안합니다', '불러오고', '다담', '어렵다는', '저건', '감겨', '끌기에', '낫네요', '암울한', '좋겠고', '크기', '술집', '개미', '차이는', '손실', '무어', '큰데', '목걸이', '양반', '쉬면서', '넘어가지', '되었네요', '보았네요', '세밀', '하다못해', '병풍', '죽거나', '리안', '건설', '했듯이', '미친듯', '생애', '직역', '허무함', '십자가', '드릴', '런닝', '끼치는', '노블', '다루기', '오그라들게', '그럴듯', '지르는게', '할을', '반길', '불리던', '들먹이며', '수사', '광신도', '집합', '거치는', '친절함을', '만들었잖아', '급류', '물결', '투항', '튀어', '맞춰져', '토트', '반기', '고심', '맞춘다', '보여주어', '다분한', '슬래셔', '분이었다', '실망했던', '버린듯', '바지', '적시건', '안되니', '부릅니다', '겁쟁이', '얻어', '있을까요', '개잘', '귀여워요', '드러내주는', '태주', '빼앗긴', '하여도', '돌변', '호빗', '모래성', '나올거', '끌지말고', '이뤄진', '이었으니까', '신선함과', '츄리닝', '다니고', '담기도', '나서지', '영리하고', '사려', '미워하는', '눈보라', '하반기', '리더쉽', '침착하게', '올라가길', '바랐음', '하는것이', '다쳐도', '잡는거', '외국인', '참느라', '지방', '해줘요', '쫙', '전역', '탐험', '비춰', '자르지만', '당진시', '넬레', '가나', '덴', '프랭클린', '유리창', '보고싶어하는', '보여줄거야', '연약하고', '수치', '억지스럽다', '들여다보게', '주어', '시원하고', '졸아', '민망한', '방청객', '비슷하지만', '감사했던', '짜내는', '이었잖아', '사고였지만', '어미', '동족', '우월', '먹도록', '됐으나', '상생', '원형', '나더라도', '마셨어도', '없냐', '정물', '포옹', '오야', '이상한가', '위화', '겄', '접근성', '맞추려고', '만들어야지', '얕은', '빨랐던', '뻔했냐', '보상금', '두둑', '줬겠지', '할려나', '선인장', '거림', '드길', '담았다고', '드웍', '뽑혀서', '멈추었다', '신선함', '으로서도', '불편했다', '신기해', '툰', '원리', '원한다면', '열광한다', '에서만이', '깨부수고', '뜨고', '락', '보여주', '떨어지면', '걸어야', '보여주는데', '하였고', '보여줄수', '버리다니', '아닌거', '본건데', '친절하게도', '물들', '통째', '쩔었는데', '내려온', '라카', '시라', '개인전으로', '내려가는', '집어넣은', '한창', '벗어나게', '학번', '긋고', '쿡', '자리는', '따가', '플러스', '짜치게', '채운다', '차있는', '이루는', '남았던', '웃게', '맨션', '해치', '잊게', '슈퍼빌런', '망쳤다', '단조로운', '야심작', '위대한지', '어떠냐', '헐리웃', '보겠음', '블로그', '미안한', '빅', '법석', '않겠지만', '노동자', '스니커즈', '공동체', '살잖아', '없을까', '싶은지도', '가봐야', '접해', '먹었던', '맞나요', '연주', '죽임', '난생', '황금사자상', '끝냈다', '선량한', '증세', '일말', '공법', '고해성사', '일어나며', '도식', '안일한', '방법론', '장구', '속일거면', '무지막지', '먹는거야', '쫓는', '도망치는', '낭비한', '좋지만은', '불안한', '비슷하지', '쳐줄', '난잡하게', '느껴지며', '불필요하고', '받는다는', '흔들리게', '측은하고', '축소', '토이스토리', '진격', '바랬다', '법인', '돌려줘요', '잉태', '재밌어야', '어떡하지', '들어준다', '죽을까', '서문', '기나긴', '무겁다', '짜릿한', '생긴다는', '치자', '떨지', '불씨', '보고싶어졌다', '끝냈어야', '불쾌하고', '조마조마하면서', '물음', '떨어진다는', '배고프', '유기체', '싶었어', '숨어야', '될지는', '식상하고', '떨어진다고', '무사', '졸업', '깊었고', '달이', '해와', '사와', '교포', '이민자', '되었다고', '중요하다는', '밀접하게', '길은', '길었어요', '돌아가서', '마츠시', '유타', '많은것', '주섬주섬', '뒤로', '구겨', '보면서도', '지독하다', '나왔으나', '풀어내지', '자게', '급한', '익진', '호칭', '드리워진', '깁', '갸웃', '버젼', '배달', '금보', '최우식', '카펜터스', '발라드', '보스', '띄는', '영웅문', '뛰게', '겪으며', '투자자', '만들어졌으면', '궁금하지도', '날리는', '원한다는', '재밌다길래', '프롤로그', '형님', '뚜렷', '밝는', '성공할', '멈췄어야', '망했어', '돌아오지', '해보자', '피난처', '벌기', '느꼈고', '당혹', '느꼈을', '될줄', '익숙해서', '비하하는', '놀러', '애처롭게', '고충', '고레', '로카', '좋겠는', '울었냐', '버려진', '바쁜', '귀하다', '깬', '저질러', '들릴', '격정', '재미없지는', '차곡', '종반', '따라와', '걸이', '원본', '부실한', '자린', '고비', '간장', '없었더라면', '허우적대는', '서글픈', '내리', '반짝거리는', '신경질', '레퀴엠', '볼땐']\n"
     ]
    }
   ],
   "source": [
    "import pickle\n",
    "\n",
    "# 단어 사전 불러오기\n",
    "with open('vocab.pkl', 'rb') as f:\n",
    "    vocab = pickle.load(f)\n",
    "\n",
    "print(\"단어 사전이 불러와졌습니다.\")\n",
    "print(vocab)"
   ]
  },
  {
   "cell_type": "code",
   "execution_count": 202,
   "metadata": {},
   "outputs": [],
   "source": [
    "import seaborn as sns\n",
    "\n",
    "# 모델 테스트하고 혼동 행렬을 시각화하는 함수\n",
    "def test(model, datasets, criterion, device):\n",
    "    model.eval()\n",
    "    losses = list()\n",
    "    corrects = list()\n",
    "    \n",
    "    # 실제 레이블과 예측 값을 저장할 리스트\n",
    "    all_labels = []\n",
    "    all_predictions = []\n",
    "\n",
    "    for step, (input_ids, labels) in enumerate(datasets):   \n",
    "        input_ids = input_ids.to(device)\n",
    "        labels = labels.to(device).unsqueeze(1)\n",
    "\n",
    "        logits = model(input_ids)  \n",
    "        loss = criterion(logits, labels)\n",
    "        losses.append(loss.item())\n",
    "\n",
    "        # 예측 값과 실제 값을 리스트에 추가\n",
    "        yhat = torch.sigmoid(logits) > 0.5  \n",
    "        all_labels.extend(labels.cpu().tolist())  # 실제 레이블\n",
    "        all_predictions.extend(yhat.cpu().tolist())  # 예측 값\n",
    "\n",
    "        corrects.extend(torch.eq(yhat, labels).cpu().tolist())\n",
    "\n",
    "    val_loss = np.mean(losses)\n",
    "    val_accuracy = np.mean(corrects)\n",
    "\n",
    "    print(f\"Val Loss : {val_loss}, Val Accuracy : {val_accuracy}\")\n",
    "\n",
    "    # 혼동 행렬 계산\n",
    "    cm = confusion_matrix(all_labels, all_predictions)\n",
    "\n",
    "    # 혼동 행렬 시각화\n",
    "    plt.figure(figsize=(6, 6))\n",
    "    sns.heatmap(cm, annot=True, fmt=\"d\", cmap=\"Blues\", xticklabels=[\"Negative\", \"Positive\"], yticklabels=[\"Negative\", \"Positive\"])\n",
    "    plt.xlabel('Predicted')\n",
    "    plt.ylabel('Actual')\n",
    "    plt.title('Confusion Matrix')\n",
    "    plt.show()\n",
    "\n",
    "    return val_loss"
   ]
  },
  {
   "cell_type": "code",
   "execution_count": 203,
   "metadata": {},
   "outputs": [
    {
     "name": "stdout",
     "output_type": "stream",
     "text": [
      "Val Loss : 1.2650047916833354, Val Accuracy : 0.6364290856731462\n"
     ]
    },
    {
     "data": {
      "image/png": "[encoded data removed]",
      "text/plain": [
       "<Figure size 600x600 with 2 Axes>"
      ]
     },
     "metadata": {},
     "output_type": "display_data"
    }
   ],
   "source": [
    "val_loss = test(classifier, test_loader, criterion, device)"
   ]
  }
 ],
 "metadata": {
  "kernelspec": {
   "display_name": "TEXT_018",
   "language": "python",
   "name": "python3"
  },
  "language_info": {
   "codemirror_mode": {
    "name": "ipython",
    "version": 3
   },
   "file_extension": ".py",
   "mimetype": "text/x-python",
   "name": "python",
   "nbconvert_exporter": "python",
   "pygments_lexer": "ipython3",
   "version": "3.8.19"
  }
 },
 "nbformat": 4,
 "nbformat_minor": 2
}
