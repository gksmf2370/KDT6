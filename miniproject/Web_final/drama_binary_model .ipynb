{
 "cells": [
  {
   "cell_type": "code",
   "execution_count": 33,
   "metadata": {},
   "outputs": [],
   "source": [
    "import pandas as pd\n",
    "import os\n",
    "import matplotlib.pyplot as plt\n",
    "from torch import nn\n",
    "from sklearn.metrics import confusion_matrix, f1_score\n",
    "import re\n",
    "import torch\n",
    "from torch.utils.data import TensorDataset, DataLoader\n"
   ]
  },
  {
   "cell_type": "code",
   "execution_count": 2,
   "metadata": {},
   "outputs": [],
   "source": [
    "FILE_PATH = r\"drama_202410242014.csv\""
   ]
  },
  {
   "cell_type": "code",
   "execution_count": 3,
   "metadata": {},
   "outputs": [],
   "source": [
    "df= pd.read_csv(FILE_PATH)"
   ]
  },
  {
   "cell_type": "code",
   "execution_count": 6,
   "metadata": {},
   "outputs": [],
   "source": [
    "# 카테고리를 라벨링하는 함수\n",
    "def change_category(value):\n",
    "\n",
    "    if 'nineteen' in value: #18세\n",
    "        return 0 \n",
    "\n",
    "    elif 'fifteen' in value: # 15세\n",
    "        return 1\n",
    "\n",
    "    elif 'twelve' in value: # 12세\n",
    "        return 0\n",
    "    \n",
    "    elif 'seven' in value: # 7세\n",
    "        return 0\n",
    "    \n",
    "    elif 'all' in value:  # 전체이용가\n",
    "        return 0\n",
    "\n",
    "    else:\n",
    "        return value\n"
   ]
  },
  {
   "cell_type": "code",
   "execution_count": 8,
   "metadata": {},
   "outputs": [],
   "source": [
    "# apply 함수를 사용해 각 행의 값을 change_category 함수로 처리\n",
    "df['category'] = df['category'].apply(change_category)"
   ]
  },
  {
   "cell_type": "code",
   "execution_count": 41,
   "metadata": {},
   "outputs": [
    {
     "data": {
      "text/plain": [
       "category\n",
       "1    2209\n",
       "0     281\n",
       "Name: count, dtype: int64"
      ]
     },
     "execution_count": 41,
     "metadata": {},
     "output_type": "execute_result"
    }
   ],
   "source": [
    "df['category'].value_counts()"
   ]
  },
  {
   "cell_type": "code",
   "execution_count": 10,
   "metadata": {},
   "outputs": [],
   "source": [
    "def re_text(text):\n",
    "\n",
    "    text = re.sub(r'[^\\n가-힇\\s]', '', text)  \n",
    "    text = re.sub(r'\\s+', ' ', text)\n",
    "    return text.strip()  # 앞뒤 공백제거"
   ]
  },
  {
   "cell_type": "code",
   "execution_count": 11,
   "metadata": {},
   "outputs": [],
   "source": [
    "df['common'] = df['common'].apply(re_text)"
   ]
  },
  {
   "cell_type": "code",
   "execution_count": 51,
   "metadata": {},
   "outputs": [],
   "source": [
    "from googletrans import Translator\n",
    "# Translator 객체 생성\n",
    "translator = Translator()\n",
    "\n",
    "def back_translate(text, src='ko', mid='en', dest='ko'):\n",
    "    try:\n",
    "        # 한국어에서 영어로 번역\n",
    "        translated = translator.translate(text, src=src, dest=mid).text\n",
    "        # 다시 영어에서 한국어로 번역\n",
    "        back_translated = translator.translate(translated, src=mid, dest=dest).text\n",
    "        return back_translated\n",
    "    except Exception as e:\n",
    "        print(f\"Error during translation: {e}\")\n",
    "        return text"
   ]
  },
  {
   "cell_type": "code",
   "execution_count": 56,
   "metadata": {},
   "outputs": [],
   "source": [
    "augmented_df=df[df['category']==0]"
   ]
  },
  {
   "cell_type": "code",
   "execution_count": 58,
   "metadata": {},
   "outputs": [
    {
     "name": "stdout",
     "output_type": "stream",
     "text": [
      "Error during translation: timed out\n",
      "(2771, 5)\n",
      "   id                  name                   blank  \\\n",
      "0   1             방과 후 전쟁활동   2023드라마TVING시즌 1개해설자막   \n",
      "1   2           빙우화 : 마약 전쟁    2022드라마kt alpha시즌 1개   \n",
      "2   3  대리인간 [드라마 스테이지 2021]        2021드라마tvN시즌 10개   \n",
      "3   4                  아따맘마  2002애니메이션얼리버드 픽쳐스시즌 5개   \n",
      "4   5             트라이건 스탬피드      2023애니메이션코코믹스시즌 1개   \n",
      "\n",
      "                                              common  category  \n",
      "0  하늘을 뒤덮은 괴생명체의 공격에 맞서 입시 전쟁이 아닌 진짜 전쟁을 시작한 고 학생...         0  \n",
      "1  년 전 마약 밀매 조직 케이의 손에 아버지를 잃은 우전펑은 아버지의 억울함을 풀고 ...         1  \n",
      "2  의 신인 스토리텔러 지원사업 오펜 공모전에서 당선된 개 작품으로 구성되는 단막극 프로그램         1  \n",
      "3  언제나 정겨운 엄마 아빠 아리 동동 사랑스러운 네 가족이 돌아왔다 어디에나 있을 법...         0  \n",
      "4  모래폭풍이 불어오는 가혹한 땅 그 곳은 지구에서 멀리 떨어져 있고 다섯 개의 달이 ...         0  \n"
     ]
    },
    {
     "name": "stderr",
     "output_type": "stream",
     "text": [
      "C:\\Users\\gksmf\\AppData\\Local\\Temp\\ipykernel_19208\\1875747132.py:4: SettingWithCopyWarning: \n",
      "A value is trying to be set on a copy of a slice from a DataFrame.\n",
      "Try using .loc[row_indexer,col_indexer] = value instead\n",
      "\n",
      "See the caveats in the documentation: https://pandas.pydata.org/pandas-docs/stable/user_guide/indexing.html#returning-a-view-versus-a-copy\n",
      "  augmented_df['common'] = augmented_df['common'].apply(back_translate)\n"
     ]
    }
   ],
   "source": [
    "augmented_df=df[df['category']==0]\n",
    "\n",
    "# 'common' 컬럼에 백번역 적용하여 데이터 증강\n",
    "augmented_df['common'] = augmented_df['common'].apply(back_translate)\n",
    "\n",
    "# 원본 데이터와 증강된 데이터 합치기 (행 추가)\n",
    "df_augmented = pd.concat([df, augmented_df], ignore_index=True)\n",
    "\n",
    "# 결과 확인\n",
    "print(df_augmented.shape)  # 데이터프레임의 크기 확인 (증강 후 행이 늘어났는지 확인)\n",
    "print(df_augmented.head())"
   ]
  },
  {
   "cell_type": "code",
   "execution_count": 63,
   "metadata": {},
   "outputs": [],
   "source": [
    "df_augmented['common'] = df_augmented['common'].apply(re_text)"
   ]
  },
  {
   "cell_type": "code",
   "execution_count": 92,
   "metadata": {},
   "outputs": [
    {
     "name": "stdout",
     "output_type": "stream",
     "text": [
      "        id                  name                   blank  \\\n",
      "1106  1107  아가사 크리스티 명탐정 포와로 시즌5  1993드라마JAYE Ent.시즌 13개   \n",
      "1321  1322               나만의 불청객      2023해외시리즈중화TV시즌 1개   \n",
      "2313  2314         거짓말에서 시작되는 사랑       2021드라마플레이그램시즌 1개   \n",
      "2274  2275                 덫의 전쟁         2023드라마채널W시즌 1개   \n",
      "1432  1433                  호부전기       2012드라마AsiaN시즌 1개   \n",
      "\n",
      "                                                 common  category  \n",
      "1106                      명탐정 포와로가 미궁에 빠진 사건들을 풀어가는 이야기         1  \n",
      "1321  쑤차오는 새로 전학 온 린쯔루와 첫날부터 티격태격하고 린쯔루가 룸메이트가 되면서 갑...         1  \n",
      "2313           거짓말과 관련된 사연이 있는 네 남녀가 만나 펼쳐지는 러브 코미디 드라마         1  \n",
      "2274  아들을 빈사의 중태로 몰아넣은 사건의 범인과 이를 은폐하려는 국회의원에 대한 복수를...         1  \n",
      "1432  제 초 연 한 위 조 진 등 개 나라가 패권을 다투는 전국시기 신릉군 위무기는 어질...         1  \n",
      "Training Data Size :  2494\n",
      "Testing Data Size :  277\n"
     ]
    }
   ],
   "source": [
    "# train, test 나누기\n",
    "train = df_augmented.sample(frac=0.9, random_state=42) # 랜덤으로 90를 선택\n",
    "test = df_augmented.drop(train.index)                  # 트레인을 삭제해서 비율을 train : test = 9: 1\n",
    "\n",
    "print(train.head(5))\n",
    "print('Training Data Size : ', len(train))\n",
    "print(\"Testing Data Size : \", len(test))"
   ]
  },
  {
   "cell_type": "code",
   "execution_count": 93,
   "metadata": {},
   "outputs": [],
   "source": [
    "# 데이터 토큰화 및 단어 사전 구축\n",
    "from konlpy.tag import Okt\n",
    "from collections import Counter\n",
    "\n",
    "## 단어사전을 만드는 함수\n",
    "def build_vocab(corpus, n_vocab, special_tokens): #n_vocab은 최대 사용할 단어개수\n",
    "    counter = Counter()\n",
    "    for tokens in corpus:\n",
    "        counter.update(tokens)\n",
    "    vocab = special_tokens\n",
    "    for token, count in counter.most_common(n_vocab): # 가장 많이 등장한 순서대로 상위 n_vocab개의 단어 반환\n",
    "        vocab.append(token)\n",
    "    return vocab\n"
   ]
  },
  {
   "cell_type": "code",
   "execution_count": 94,
   "metadata": {},
   "outputs": [],
   "source": [
    "## 불용어 리스트 불러오는 함수\n",
    "STOP_PATH = 'kor_stopwords.txt'\n",
    "\n",
    "def make_stopwords(STOP_PATH):\n",
    "    with open(STOP_PATH, 'r', encoding='utf-8') as f:\n",
    "        stopwords = f.read().splitlines() # 문장단위로\n",
    "    return set(stopwords) "
   ]
  },
  {
   "cell_type": "code",
   "execution_count": 95,
   "metadata": {},
   "outputs": [],
   "source": [
    "stopwords = make_stopwords(STOP_PATH)"
   ]
  },
  {
   "cell_type": "code",
   "execution_count": 96,
   "metadata": {},
   "outputs": [
    {
     "name": "stdout",
     "output_type": "stream",
     "text": [
      "['<pad>', '<unk>', '드라마', '한다', '사람', '이야기', '사랑', '사건', '시작', '하게']\n",
      "5002\n"
     ]
    }
   ],
   "source": [
    "tokenizer = Okt()\n",
    "train_tokens = [[token for token in tokenizer.morphs(review) if token not in stopwords ] for review in train.common]   \n",
    "test_tokens = [[token for token in tokenizer.morphs(review) if token not in stopwords] for review in test.common]\n",
    "\n",
    "vocab = build_vocab(corpus=train_tokens, n_vocab=5000, special_tokens=[\"<pad>\", \"<unk>\"])\n",
    "token_to_id = {token: idx for idx, token in enumerate(vocab)} \n",
    "id_to_token = {idx: token for idx, token in enumerate(vocab)} \n",
    "\n",
    "print(vocab[:10])\n",
    "print(len(vocab))"
   ]
  },
  {
   "cell_type": "code",
   "execution_count": 97,
   "metadata": {},
   "outputs": [
    {
     "data": {
      "image/png": "[encoded data removed]",
      "text/plain": [
       "<Figure size 640x480 with 1 Axes>"
      ]
     },
     "metadata": {},
     "output_type": "display_data"
    }
   ],
   "source": [
    "datalen = [len(tokens) for tokens in train_tokens]\n",
    "plt.hist(datalen,bins=4)\n",
    "plt.show()"
   ]
  },
  {
   "cell_type": "code",
   "execution_count": 98,
   "metadata": {},
   "outputs": [],
   "source": [
    "## 정수 인코딩 및 패딩\n",
    "import numpy as np\n",
    "# 패딩까지 해주는 함수\n",
    "def pad_sequences(sequences, max_length, pad_value):  \n",
    "    result = list()\n",
    "    for sequence in sequences:\n",
    "        sequence = sequence[:max_length] \n",
    "        pad_length = max_length - len(sequence)\n",
    "        padded_sequence = sequence + [pad_value] * pad_length   \n",
    "        result.append(padded_sequence)\n",
    "    return np.asarray(result)  "
   ]
  },
  {
   "cell_type": "code",
   "execution_count": 99,
   "metadata": {},
   "outputs": [
    {
     "name": "stdout",
     "output_type": "stream",
     "text": [
      "[1001 1438  921  293    7  751    5    0    0    0    0    0    0    0\n",
      "    0    0    0    0    0    0    0    0    0    0    0    0    0    0\n",
      "    0    0    0    0    0    0    0    0    0    0    0    0    0    0\n",
      "    0    0    0    0    0    0    0    0    0    0    0    0    0    0\n",
      "    0    0    0    0]\n",
      "[  18  500    1  223 1526  235   33  160    1   33 3822  806 1526    1\n",
      "   17  500    1  223   35    1 2388   72   30   28    1  500    1  223\n",
      "  511    1  284  826    1  836  317    1    0    0    0    0    0    0\n",
      "    0    0    0    0    0    0    0    0    0    0    0    0    0    0\n",
      "    0    0    0    0]\n"
     ]
    }
   ],
   "source": [
    "unk_id = token_to_id[\"<unk>\"]   \n",
    "train_ids = [[token_to_id.get(token, unk_id) for token in review] for review in train_tokens]  \n",
    "test_ids = [[token_to_id.get(token, unk_id) for token in review] for review in test_tokens]\n",
    "\n",
    "max_length = 60\n",
    "pad_id = token_to_id[\"<pad>\"]   \n",
    "train_ids = pad_sequences(train_ids, max_length, pad_id)\n",
    "test_ids = pad_sequences(test_ids, max_length, pad_id)\n",
    "\n",
    "print(train_ids[0])\n",
    "print(test_ids[0])"
   ]
  },
  {
   "cell_type": "code",
   "execution_count": 100,
   "metadata": {},
   "outputs": [],
   "source": [
    "train_ids = torch.tensor(train_ids)\n",
    "test_ids = torch.tensor(test_ids)\n",
    "\n",
    "train_labels = torch.tensor(train.category.values, dtype=torch.float32)\n",
    "test_labels = torch.tensor(test.category.values, dtype=torch.float32)\n",
    "\n",
    "train_dataset = TensorDataset(train_ids, train_labels)\n",
    "test_dataset = TensorDataset(test_ids, test_labels)\n",
    "\n",
    "train_loader = DataLoader(train_dataset, batch_size=16, shuffle=True)\n",
    "test_loader = DataLoader(test_dataset, batch_size=16, shuffle=False)"
   ]
  },
  {
   "cell_type": "code",
   "execution_count": 101,
   "metadata": {},
   "outputs": [],
   "source": [
    "# 문장 분류하는 모델\n",
    "class SentenceClassifier(nn.Module):\n",
    "    def __init__(self, n_vocab, hidden_dim, embedding_dim, n_layers, n_classes ,dropout=0.5, bidirectional=True, model_type=\"lstm\"):\n",
    "        super().__init__()  # 부모클래스 상속\n",
    "\n",
    "        self.embedding = nn.Embedding(num_embeddings=n_vocab, embedding_dim=embedding_dim, padding_idx=0)\n",
    "\n",
    "        # rnn모델 일 경우\n",
    "        if model_type == 'rnn':\n",
    "            self.model = nn.RNN(\n",
    "                input_size=embedding_dim, hidden_size=hidden_dim, num_layers=n_layers, bidirectional=bidirectional, dropout=dropout, batch_first=True\n",
    "            )\n",
    "        # lstm모델 일 경우\n",
    "        elif model_type == 'lstm':\n",
    "            self.model = nn.LSTM(\n",
    "                input_size=embedding_dim, hidden_size=hidden_dim, num_layers=n_layers, bidirectional=bidirectional, dropout=dropout, batch_first=True\n",
    "            )\n",
    "\n",
    "        # bidirectional은 양방향성을 의미하는 파라미터\n",
    "        if bidirectional:\n",
    "            self.classifier = nn.Linear(hidden_dim * 2, n_classes)   # 양방향일때 타임스탭에서 양방향의 정보(순방향,역방향)의 출력들을 결합하여 분류기에 전달\n",
    "        else:\n",
    "            self.classifier = nn.Linear(hidden_dim, n_classes)\n",
    "        self.dropout = nn.Dropout(dropout)\n",
    "\n",
    "    def forward(self, inputs):\n",
    "        embeddings = self.embedding(inputs)\n",
    "        output, _ = self.model(embeddings) \n",
    "        last_output = output[:, -1, :]\n",
    "        last_output = self.dropout(last_output)\n",
    "        logits = self.classifier(last_output)\n",
    "        return logits"
   ]
  },
  {
   "cell_type": "code",
   "execution_count": 102,
   "metadata": {},
   "outputs": [],
   "source": [
    "from torch.optim.lr_scheduler import ReduceLROnPlateau\n",
    "from torch import optim"
   ]
  },
  {
   "cell_type": "code",
   "execution_count": 103,
   "metadata": {},
   "outputs": [],
   "source": [
    "## 손실 함수와 최적화 함수 정의\n",
    "LR = 0.001\n",
    "n_vocab = len(token_to_id)   # 단어사전의 크기\n",
    "hidden_dim = 128     # 은닉 사태의 크기\n",
    "embedding_dim = 128   #임베딩 벡터의 차원 128차원으로 사용\n",
    "n_layers = 2     # 2층\n",
    "n_classes = 1 # 2진 분류라 \n",
    "\n",
    "device = \"cuda\" if torch.cuda.is_available() else \"cpu\"\n",
    "classifier = SentenceClassifier(n_vocab=n_vocab, hidden_dim=hidden_dim, embedding_dim=embedding_dim, n_layers=n_layers, n_classes=n_classes).to(device)\n",
    "criterion = nn.BCEWithLogitsLoss().to(device)   \n",
    "optimizer = optim.Adam(classifier.parameters(), lr=LR)\n",
    "scheduler = ReduceLROnPlateau(optimizer, mode='min', factor=0.1, patience=5)"
   ]
  },
  {
   "cell_type": "code",
   "execution_count": 104,
   "metadata": {},
   "outputs": [],
   "source": [
    "# 모델 학습하는 함수\n",
    "def train(model, datasets, criterion, optimizer, device, interval):\n",
    "    model.train()\n",
    "    losses = list()\n",
    "\n",
    "    for step, (input_ids, labels) in enumerate(datasets):\n",
    "        input_ids = input_ids.to(device)\n",
    "        labels = labels.to(device).unsqueeze(1)\n",
    "\n",
    "        logits = model(input_ids)\n",
    "        loss = criterion(logits, labels)\n",
    "        losses.append(loss.item())\n",
    "\n",
    "        optimizer.zero_grad()\n",
    "        loss.backward()\n",
    "        optimizer.step()\n",
    "\n",
    "        if step%interval == 0:\n",
    "            print(f'Train Loss {step} : {np.mean(losses)}')"
   ]
  },
  {
   "cell_type": "code",
   "execution_count": 105,
   "metadata": {},
   "outputs": [],
   "source": [
    "def test(model, datasets, criterion, device):\n",
    "    model.eval()\n",
    "    losses = list()\n",
    "    all_labels = []\n",
    "    all_predictions = []\n",
    "\n",
    "    for step, (input_ids, labels) in enumerate(datasets):   \n",
    "        input_ids = input_ids.to(device)\n",
    "        labels = labels.to(device).unsqueeze(1)\n",
    "\n",
    "        logits = model(input_ids)  \n",
    "        loss = criterion(logits, labels)\n",
    "        losses.append(loss.item())\n",
    "\n",
    "        # 예측 값과 실제 값 저장\n",
    "        yhat = (torch.sigmoid(logits) > 0.5).cpu().numpy()\n",
    "        all_predictions.extend(yhat)\n",
    "        all_labels.extend(labels.cpu().numpy())\n",
    "\n",
    "    val_loss = np.mean(losses)\n",
    "\n",
    "    # F1 Score 계산 (binary=True로 설정하여 2진 분류 F1 점수 계산)\n",
    "    val_f1_score = f1_score(all_labels, all_predictions)\n",
    "\n",
    "    print(f\"Val Loss : {val_loss}, Val F1 Score : {val_f1_score}\")\n",
    "    return val_loss"
   ]
  },
  {
   "cell_type": "code",
   "execution_count": 106,
   "metadata": {},
   "outputs": [
    {
     "name": "stdout",
     "output_type": "stream",
     "text": [
      "epoch : 0\n",
      "Train Loss 0 : 0.701035737991333\n",
      "Val Loss : 0.5317776964770423, Val F1 Score : 0.8853118712273642\n",
      "epoch : 1\n",
      "Train Loss 0 : 0.7957736253738403\n",
      "Val Loss : 0.5397302152382003, Val F1 Score : 0.8853118712273642\n",
      "epoch : 2\n",
      "Train Loss 0 : 0.7952775955200195\n",
      "Val Loss : 0.5351609720124139, Val F1 Score : 0.8762677484787018\n",
      "epoch : 3\n",
      "Train Loss 0 : 0.5112828016281128\n",
      "Val Loss : 0.5038587037059996, Val F1 Score : 0.8853118712273642\n",
      "epoch : 4\n",
      "Train Loss 0 : 0.467223584651947\n",
      "Val Loss : 0.4415547963645723, Val F1 Score : 0.902654867256637\n",
      "epoch : 5\n",
      "Train Loss 0 : 0.2974957823753357\n",
      "Val Loss : 0.5600279238488939, Val F1 Score : 0.6647058823529413\n",
      "epoch : 6\n",
      "Train Loss 0 : 0.3402537703514099\n",
      "Val Loss : 0.44361309458812076, Val F1 Score : 0.8878504672897196\n",
      "epoch : 7\n",
      "Train Loss 0 : 0.29404088854789734\n",
      "Val Loss : 0.510627005663183, Val F1 Score : 0.9151785714285713\n",
      "epoch : 8\n",
      "Train Loss 0 : 0.13577531278133392\n",
      "Val Loss : 0.5306243970990181, Val F1 Score : 0.9210526315789475\n",
      "epoch : 9\n",
      "Train Loss 0 : 0.08760106563568115\n",
      "Val Loss : 0.5441793865627713, Val F1 Score : 0.9016018306636157\n",
      "epoch : 10\n",
      "Train Loss 0 : 0.2184419482946396\n",
      "Val Loss : 0.48393771300713223, Val F1 Score : 0.8863109048723898\n",
      "epoch : 11\n",
      "Train Loss 0 : 0.026505978778004646\n",
      "Val Loss : 0.518434329993195, Val F1 Score : 0.8934240362811792\n",
      "epoch : 12\n",
      "Train Loss 0 : 0.1424303948879242\n",
      "Val Loss : 0.5254554334614012, Val F1 Score : 0.8934240362811792\n",
      "epoch : 13\n",
      "Train Loss 0 : 0.01589631475508213\n",
      "Val Loss : 0.5435414835810661, Val F1 Score : 0.9033707865168539\n",
      "epoch : 14\n",
      "Train Loss 0 : 0.24915914237499237\n",
      "Val Loss : 0.5482688347498575, Val F1 Score : 0.8984198645598195\n",
      "epoch : 15\n",
      "Train Loss 0 : 0.17486505210399628\n",
      "Val Loss : 0.5643406319949362, Val F1 Score : 0.9082774049217002\n",
      "epoch : 16\n",
      "Train Loss 0 : 0.04838526248931885\n",
      "Val Loss : 0.5772776496079233, Val F1 Score : 0.9082774049217002\n",
      "epoch : 17\n",
      "Train Loss 0 : 0.1693052500486374\n",
      "Val Loss : 0.5781200896534655, Val F1 Score : 0.9082774049217002\n",
      "epoch : 18\n",
      "Train Loss 0 : 0.022678636014461517\n",
      "Val Loss : 0.5792328644957807, Val F1 Score : 0.9082774049217002\n",
      "epoch : 19\n",
      "Train Loss 0 : 0.035132311284542084\n",
      "Val Loss : 0.5797744302286042, Val F1 Score : 0.9082774049217002\n",
      "epoch : 20\n",
      "Train Loss 0 : 0.03849298879504204\n",
      "Val Loss : 0.5804107553429074, Val F1 Score : 0.9082774049217002\n",
      "epoch : 21\n",
      "Train Loss 0 : 0.002239405643194914\n",
      "Val Loss : 0.5812748198707899, Val F1 Score : 0.9082774049217002\n",
      "epoch : 22\n",
      "Train Loss 0 : 0.03490857407450676\n",
      "Val Loss : 0.5818563389281431, Val F1 Score : 0.9082774049217002\n",
      "epoch : 23\n",
      "Train Loss 0 : 0.2828141748905182\n",
      "Val Loss : 0.5819236718946033, Val F1 Score : 0.9082774049217002\n",
      "epoch : 24\n",
      "Train Loss 0 : 0.03621387854218483\n",
      "Val Loss : 0.5820484401451217, Val F1 Score : 0.9082774049217002\n",
      "epoch : 25\n",
      "Train Loss 0 : 0.04043439403176308\n",
      "Val Loss : 0.5821489571697183, Val F1 Score : 0.9082774049217002\n",
      "epoch : 26\n",
      "Train Loss 0 : 0.14592944085597992\n",
      "Val Loss : 0.5822771717276838, Val F1 Score : 0.9082774049217002\n",
      "epoch : 27\n",
      "Train Loss 0 : 0.14910808205604553\n",
      "Val Loss : 0.5824204451507993, Val F1 Score : 0.9082774049217002\n",
      "epoch : 28\n",
      "Train Loss 0 : 0.09310808777809143\n",
      "Val Loss : 0.5825911987986829, Val F1 Score : 0.9082774049217002\n",
      "epoch : 29\n",
      "Train Loss 0 : 0.043839383870363235\n",
      "Val Loss : 0.582592312246561, Val F1 Score : 0.9082774049217002\n",
      "epoch : 30\n",
      "Train Loss 0 : 0.13032609224319458\n",
      "Val Loss : 0.5825999035603471, Val F1 Score : 0.9082774049217002\n",
      "epoch : 31\n",
      "Train Loss 0 : 0.286281943321228\n",
      "Val Loss : 0.5826061558392313, Val F1 Score : 0.9082774049217002\n",
      "epoch : 32\n",
      "Train Loss 0 : 0.03977124020457268\n",
      "Val Loss : 0.5826058230466313, Val F1 Score : 0.9082774049217002\n",
      "epoch : 33\n",
      "Train Loss 0 : 0.15675123035907745\n",
      "Val Loss : 0.5826071583562427, Val F1 Score : 0.9082774049217002\n",
      "epoch : 34\n",
      "Train Loss 0 : 0.018026165664196014\n",
      "Val Loss : 0.5826113580001725, Val F1 Score : 0.9082774049217002\n",
      "epoch : 35\n",
      "Train Loss 0 : 0.04427690431475639\n",
      "Val Loss : 0.5826115678581927, Val F1 Score : 0.9082774049217002\n",
      "epoch : 36\n",
      "Train Loss 0 : 0.03387407958507538\n",
      "Val Loss : 0.5826124019092984, Val F1 Score : 0.9082774049217002\n",
      "epoch : 37\n",
      "Train Loss 0 : 0.0015700912335887551\n",
      "Val Loss : 0.582612475587262, Val F1 Score : 0.9082774049217002\n",
      "epoch : 38\n",
      "Train Loss 0 : 0.0243956558406353\n",
      "Val Loss : 0.5826137243873544, Val F1 Score : 0.9082774049217002\n",
      "epoch : 39\n",
      "Train Loss 0 : 0.027786366641521454\n",
      "Val Loss : 0.5826128477023708, Val F1 Score : 0.9082774049217002\n",
      "epoch : 40\n",
      "Train Loss 0 : 0.020408248528838158\n",
      "Val Loss : 0.5826136039363013, Val F1 Score : 0.9082774049217002\n",
      "epoch : 41\n",
      "Train Loss 0 : 0.011404176242649555\n",
      "Val Loss : 0.5826162103977468, Val F1 Score : 0.9082774049217002\n",
      "epoch : 42\n",
      "Train Loss 0 : 0.1260184347629547\n",
      "Val Loss : 0.58261638879776, Val F1 Score : 0.9082774049217002\n",
      "epoch : 43\n",
      "Train Loss 0 : 0.023496950045228004\n",
      "Val Loss : 0.5826148721906874, Val F1 Score : 0.9082774049217002\n",
      "epoch : 44\n",
      "Train Loss 0 : 0.19410812854766846\n",
      "Val Loss : 0.5826144193609556, Val F1 Score : 0.9082774049217002\n",
      "epoch : 45\n",
      "Train Loss 0 : 0.1536804735660553\n",
      "Val Loss : 0.5826160514520274, Val F1 Score : 0.9082774049217002\n",
      "epoch : 46\n",
      "Train Loss 0 : 0.1665942519903183\n",
      "Val Loss : 0.5826154595447911, Val F1 Score : 0.9082774049217002\n",
      "epoch : 47\n",
      "Train Loss 0 : 0.048749424517154694\n",
      "Val Loss : 0.582614618457026, Val F1 Score : 0.9082774049217002\n",
      "epoch : 48\n",
      "Train Loss 0 : 0.011467892676591873\n",
      "Val Loss : 0.5826138738128874, Val F1 Score : 0.9082774049217002\n",
      "epoch : 49\n",
      "Train Loss 0 : 0.045067112892866135\n",
      "Val Loss : 0.5826129147575961, Val F1 Score : 0.9082774049217002\n",
      "epoch : 50\n",
      "Train Loss 0 : 0.033223580569028854\n",
      "Val Loss : 0.5826130025088787, Val F1 Score : 0.9082774049217002\n",
      "epoch : 51\n",
      "Train Loss 0 : 0.1285877376794815\n",
      "Val Loss : 0.5826148655679491, Val F1 Score : 0.9082774049217002\n",
      "epoch : 52\n",
      "Train Loss 0 : 0.12249971926212311\n",
      "Val Loss : 0.5826166661249267, Val F1 Score : 0.9082774049217002\n",
      "epoch : 53\n",
      "Train Loss 0 : 0.1328449249267578\n",
      "Val Loss : 0.5826172886623276, Val F1 Score : 0.9082774049217002\n",
      "epoch : 54\n",
      "Train Loss 0 : 0.009392817504703999\n",
      "Val Loss : 0.5826117367380195, Val F1 Score : 0.9082774049217002\n",
      "epoch : 55\n",
      "Train Loss 0 : 0.2411631941795349\n",
      "Val Loss : 0.5826144677897295, Val F1 Score : 0.9082774049217002\n",
      "epoch : 56\n",
      "Train Loss 0 : 0.04317803308367729\n",
      "Val Loss : 0.5826088724037012, Val F1 Score : 0.9082774049217002\n",
      "epoch : 57\n",
      "Train Loss 0 : 0.2900655269622803\n",
      "Val Loss : 0.5826098140743043, Val F1 Score : 0.9082774049217002\n",
      "epoch : 58\n",
      "Train Loss 0 : 0.33913424611091614\n",
      "Val Loss : 0.5826093707647588, Val F1 Score : 0.9082774049217002\n",
      "epoch : 59\n",
      "Train Loss 0 : 0.04785759001970291\n",
      "Val Loss : 0.5826088678505685, Val F1 Score : 0.9082774049217002\n",
      "epoch : 60\n",
      "Train Loss 0 : 0.021813713014125824\n",
      "Val Loss : 0.5826087167693509, Val F1 Score : 0.9082774049217002\n",
      "epoch : 61\n",
      "Train Loss 0 : 0.14790961146354675\n",
      "Val Loss : 0.5826082333094544, Val F1 Score : 0.9082774049217002\n",
      "epoch : 62\n",
      "Train Loss 0 : 0.021656975150108337\n",
      "Val Loss : 0.5826084547572665, Val F1 Score : 0.9082774049217002\n",
      "epoch : 63\n",
      "Train Loss 0 : 0.15596118569374084\n",
      "Val Loss : 0.5826090263823668, Val F1 Score : 0.9082774049217002\n",
      "epoch : 64\n",
      "Train Loss 0 : 0.13448011875152588\n",
      "Val Loss : 0.5826093931165006, Val F1 Score : 0.9082774049217002\n",
      "epoch : 65\n",
      "Train Loss 0 : 0.01195179671049118\n",
      "Val Loss : 0.5826089717447758, Val F1 Score : 0.9082774049217002\n",
      "epoch : 66\n",
      "Train Loss 0 : 0.03432076796889305\n",
      "Val Loss : 0.58260902389884, Val F1 Score : 0.9082774049217002\n",
      "epoch : 67\n",
      "Train Loss 0 : 0.04085784777998924\n",
      "Val Loss : 0.5826084253688654, Val F1 Score : 0.9082774049217002\n",
      "epoch : 68\n",
      "Train Loss 0 : 0.009084649384021759\n",
      "Val Loss : 0.5826085698273447, Val F1 Score : 0.9082774049217002\n",
      "epoch : 69\n",
      "Train Loss 0 : 0.014711113646626472\n",
      "Val Loss : 0.5826079158319367, Val F1 Score : 0.9082774049217002\n",
      "epoch : 70\n",
      "Train Loss 0 : 0.04868806526064873\n",
      "Val Loss : 0.5826074754198393, Val F1 Score : 0.9082774049217002\n",
      "epoch : 71\n",
      "Train Loss 0 : 0.0027594813145697117\n",
      "Val Loss : 0.5826078028314643, Val F1 Score : 0.9082774049217002\n",
      "epoch : 72\n",
      "Train Loss 0 : 0.031183551996946335\n",
      "Val Loss : 0.582606900897291, Val F1 Score : 0.9082774049217002\n",
      "epoch : 73\n",
      "Train Loss 0 : 0.015350965782999992\n",
      "Val Loss : 0.5826048225992255, Val F1 Score : 0.9082774049217002\n",
      "epoch : 74\n",
      "Train Loss 0 : 0.012771448120474815\n",
      "Val Loss : 0.5826023924681876, Val F1 Score : 0.9082774049217002\n",
      "epoch : 75\n",
      "Train Loss 0 : 0.026115771383047104\n",
      "Val Loss : 0.5826012144486109, Val F1 Score : 0.9082774049217002\n",
      "epoch : 76\n",
      "Train Loss 0 : 0.03812003135681152\n",
      "Val Loss : 0.5826003448002868, Val F1 Score : 0.9082774049217002\n",
      "epoch : 77\n",
      "Train Loss 0 : 0.03836873173713684\n",
      "Val Loss : 0.5826015228198634, Val F1 Score : 0.9082774049217002\n",
      "epoch : 78\n",
      "Train Loss 0 : 0.02465614303946495\n",
      "Val Loss : 0.5826013663576709, Val F1 Score : 0.9082774049217002\n",
      "epoch : 79\n",
      "Train Loss 0 : 0.14934490621089935\n",
      "Val Loss : 0.5826014570064015, Val F1 Score : 0.9082774049217002\n",
      "epoch : 80\n",
      "Train Loss 0 : 0.11025534570217133\n",
      "Val Loss : 0.5826028635104498, Val F1 Score : 0.9082774049217002\n",
      "epoch : 81\n",
      "Train Loss 0 : 0.1401803344488144\n",
      "Val Loss : 0.5826030141777463, Val F1 Score : 0.9082774049217002\n",
      "epoch : 82\n",
      "Train Loss 0 : 0.15451152622699738\n",
      "Val Loss : 0.5826009069052007, Val F1 Score : 0.9082774049217002\n",
      "epoch : 83\n",
      "Train Loss 0 : 0.045642852783203125\n",
      "Val Loss : 0.5826000546415647, Val F1 Score : 0.9082774049217002\n",
      "epoch : 84\n",
      "Train Loss 0 : 0.046842850744724274\n",
      "Val Loss : 0.5826014946732256, Val F1 Score : 0.9082774049217002\n",
      "epoch : 85\n",
      "Train Loss 0 : 0.026422258466482162\n",
      "Val Loss : 0.5825983430776331, Val F1 Score : 0.9082774049217002\n",
      "epoch : 86\n",
      "Train Loss 0 : 0.03218311816453934\n",
      "Val Loss : 0.5825977851119306, Val F1 Score : 0.9082774049217002\n",
      "epoch : 87\n",
      "Train Loss 0 : 0.11707811057567596\n",
      "Val Loss : 0.5825959141883585, Val F1 Score : 0.9082774049217002\n",
      "epoch : 88\n",
      "Train Loss 0 : 0.1301167756319046\n",
      "Val Loss : 0.5825950159794755, Val F1 Score : 0.9082774049217002\n",
      "epoch : 89\n",
      "Train Loss 0 : 0.12391006946563721\n",
      "Val Loss : 0.5825958591368463, Val F1 Score : 0.9082774049217002\n",
      "epoch : 90\n",
      "Train Loss 0 : 0.15096066892147064\n",
      "Val Loss : 0.5825970893104871, Val F1 Score : 0.9082774049217002\n",
      "epoch : 91\n",
      "Train Loss 0 : 0.012207312509417534\n",
      "Val Loss : 0.582596225457059, Val F1 Score : 0.9082774049217002\n",
      "epoch : 92\n",
      "Train Loss 0 : 0.12564462423324585\n",
      "Val Loss : 0.5825968529615138, Val F1 Score : 0.9082774049217002\n",
      "epoch : 93\n",
      "Train Loss 0 : 0.27750271558761597\n",
      "Val Loss : 0.5825954654978381, Val F1 Score : 0.9082774049217002\n",
      "epoch : 94\n",
      "Train Loss 0 : 0.27907660603523254\n",
      "Val Loss : 0.5825964878830645, Val F1 Score : 0.9082774049217002\n",
      "epoch : 95\n",
      "Train Loss 0 : 0.03999209403991699\n",
      "Val Loss : 0.5825956223739518, Val F1 Score : 0.9082774049217002\n",
      "epoch : 96\n",
      "Train Loss 0 : 0.2837335169315338\n",
      "Val Loss : 0.582595757726166, Val F1 Score : 0.9082774049217002\n",
      "epoch : 97\n",
      "Train Loss 0 : 0.024163031950592995\n",
      "Val Loss : 0.5825964853995376, Val F1 Score : 0.9082774049217002\n",
      "epoch : 98\n",
      "Train Loss 0 : 0.012067909352481365\n",
      "Val Loss : 0.5825969270533986, Val F1 Score : 0.9082774049217002\n",
      "epoch : 99\n",
      "Train Loss 0 : 0.026837268844246864\n",
      "Val Loss : 0.5825968724158075, Val F1 Score : 0.9082774049217002\n"
     ]
    }
   ],
   "source": [
    "epochs = 100\n",
    "interval = 500   \n",
    "\n",
    "for epoch in range(epochs):\n",
    "    print(f'epoch : {epoch}')\n",
    "    train(classifier, train_loader, criterion, optimizer, device, interval)\n",
    "    val_loss = test(classifier, test_loader, criterion, device)\n",
    "    scheduler.step(val_loss)"
   ]
  },
  {
   "cell_type": "code",
   "execution_count": 107,
   "metadata": {},
   "outputs": [],
   "source": [
    "import seaborn as sns\n",
    "\n",
    "# 모델 테스트하고 혼동 행렬을 시각화하는 함수\n",
    "def test(model, datasets, criterion, device):\n",
    "    model.eval()\n",
    "    losses = list()\n",
    "    corrects = list()\n",
    "    \n",
    "    # 실제 레이블과 예측 값을 저장할 리스트\n",
    "    all_labels = []\n",
    "    all_predictions = []\n",
    "\n",
    "    for step, (input_ids, labels) in enumerate(datasets):   \n",
    "        input_ids = input_ids.to(device)\n",
    "        labels = labels.to(device).unsqueeze(1)\n",
    "\n",
    "        logits = model(input_ids)  \n",
    "        loss = criterion(logits, labels)\n",
    "        losses.append(loss.item())\n",
    "\n",
    "        # 예측 값과 실제 값을 리스트에 추가\n",
    "        yhat = torch.sigmoid(logits) > 0.5  \n",
    "        all_labels.extend(labels.cpu().tolist())  # 실제 레이블\n",
    "        all_predictions.extend(yhat.cpu().tolist())  # 예측 값\n",
    "\n",
    "        corrects.extend(torch.eq(yhat, labels).cpu().tolist())\n",
    "\n",
    "    val_loss = np.mean(losses)\n",
    "    val_accuracy = np.mean(corrects)\n",
    "\n",
    "    print(f\"Val Loss : {val_loss}, Val Accuracy : {val_accuracy}\")\n",
    "\n",
    "    # 혼동 행렬 계산\n",
    "    cm = confusion_matrix(all_labels, all_predictions)\n",
    "\n",
    "    # 혼동 행렬 시각화\n",
    "    plt.figure(figsize=(6, 6))\n",
    "    sns.heatmap(cm, annot=True, fmt=\"d\", cmap=\"Blues\", xticklabels=[\"Negative\", \"Positive\"], yticklabels=[\"Negative\", \"Positive\"])\n",
    "    plt.xlabel('Predicted')\n",
    "    plt.ylabel('Actual')\n",
    "    plt.title('Confusion Matrix')\n",
    "    plt.show()\n",
    "\n",
    "    return val_loss"
   ]
  },
  {
   "cell_type": "code",
   "execution_count": 108,
   "metadata": {},
   "outputs": [
    {
     "name": "stdout",
     "output_type": "stream",
     "text": [
      "Val Loss : 0.5825968724158075, Val Accuracy : 0.851985559566787\n"
     ]
    },
    {
     "data": {
      "image/png": "[encoded data removed]",
      "text/plain": [
       "<Figure size 600x600 with 2 Axes>"
      ]
     },
     "metadata": {},
     "output_type": "display_data"
    }
   ],
   "source": [
    "val_loss = test(classifier, test_loader, criterion, device)"
   ]
  },
  {
   "cell_type": "code",
   "execution_count": 109,
   "metadata": {},
   "outputs": [],
   "source": [
    "torch.save(classifier, f'best_model.pth')"
   ]
  },
  {
   "cell_type": "code",
   "execution_count": 110,
   "metadata": {},
   "outputs": [
    {
     "name": "stdout",
     "output_type": "stream",
     "text": [
      "단어 사전이 저장되었습니다.\n"
     ]
    }
   ],
   "source": [
    "import pickle\n",
    "# 단어 사전 저장\n",
    "with open('vocab.pkl', 'wb') as f:\n",
    "    pickle.dump(vocab, f)\n",
    "\n",
    "print(\"단어 사전이 저장되었습니다.\")"
   ]
  }
 ],
 "metadata": {
  "kernelspec": {
   "display_name": "WEB_AI",
   "language": "python",
   "name": "python3"
  },
  "language_info": {
   "codemirror_mode": {
    "name": "ipython",
    "version": 3
   },
   "file_extension": ".py",
   "mimetype": "text/x-python",
   "name": "python",
   "nbconvert_exporter": "python",
   "pygments_lexer": "ipython3",
   "version": "3.8.20"
  }
 },
 "nbformat": 4,
 "nbformat_minor": 2
}
