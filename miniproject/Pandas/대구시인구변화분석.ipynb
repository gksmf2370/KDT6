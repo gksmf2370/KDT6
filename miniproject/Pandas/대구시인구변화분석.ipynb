{
 "cells": [
  {
   "cell_type": "code",
   "execution_count": 1,
   "metadata": {},
   "outputs": [],
   "source": [
    "import pandas as pd\n",
    "import numpy as np"
   ]
  },
  {
   "cell_type": "code",
   "execution_count": 2,
   "metadata": {},
   "outputs": [],
   "source": [
    "file_name=r\"C:\\Users\\KDP15\\Downloads\\전출지_전입지_시도_별_이동자수_20240717201254.csv\"\n",
    "file_name2=r\"C:\\Users\\KDP15\\Downloads\\교육통계학교수.csv\"\n",
    "file_name3=r\"C:\\Users\\KDP15\\Downloads\\주요_연령계층별_추계인구_생산연령인구__고령인구_등__시도_20240717214938.csv\"\n",
    "file_name4=r\"C:\\Users\\KDP15\\Downloads\\전출지_전입지_시도__성_연령_5세_별_이동자수_20240718114828.csv\""
   ]
  },
  {
   "cell_type": "code",
   "execution_count": 3,
   "metadata": {},
   "outputs": [],
   "source": [
    "dataDF=pd.read_csv(file_name)\n",
    "dataDF2=pd.read_csv(file_name2)\n",
    "dataDF3=pd.read_csv(file_name3)"
   ]
  },
  {
   "cell_type": "code",
   "execution_count": null,
   "metadata": {},
   "outputs": [],
   "source": [
    "dataDF"
   ]
  },
  {
   "cell_type": "code",
   "execution_count": 5,
   "metadata": {},
   "outputs": [],
   "source": [
    "\n",
    "dataDF.drop(index=0,columns='전출지별',inplace=True) #"
   ]
  },
  {
   "cell_type": "code",
   "execution_count": null,
   "metadata": {},
   "outputs": [],
   "source": [
    "#대구시 전입데이터\n",
    "dataDF #대구기준 전입지"
   ]
  },
  {
   "cell_type": "code",
   "execution_count": null,
   "metadata": {},
   "outputs": [],
   "source": [
    "dataDF3"
   ]
  },
  {
   "cell_type": "code",
   "execution_count": 8,
   "metadata": {},
   "outputs": [],
   "source": [
    "dataDF3.drop(columns=['시나리오별(1)','시도별(1)'],inplace=True)\n"
   ]
  },
  {
   "cell_type": "code",
   "execution_count": 9,
   "metadata": {},
   "outputs": [],
   "source": [
    "dataDF3['인구종류별(1)'] = dataDF3['인구종류별(1)'].str.replace('학령인구(천명): ', '')\n",
    "dataDF3['인구종류별(1)'] = dataDF3['인구종류별(1)'].str.replace('청소년인구(천명): 9~24세', '청소년(9~24세)')\n"
   ]
  },
  {
   "cell_type": "code",
   "execution_count": 10,
   "metadata": {},
   "outputs": [],
   "source": [
    "dataDF3.set_index('인구종류별(1)', inplace=True)"
   ]
  },
  {
   "cell_type": "code",
   "execution_count": 11,
   "metadata": {},
   "outputs": [
    {
     "data": {
      "text/html": [
       "<div>\n",
       "<style scoped>\n",
       "    .dataframe tbody tr th:only-of-type {\n",
       "        vertical-align: middle;\n",
       "    }\n",
       "\n",
       "    .dataframe tbody tr th {\n",
       "        vertical-align: top;\n",
       "    }\n",
       "\n",
       "    .dataframe thead th {\n",
       "        text-align: right;\n",
       "    }\n",
       "</style>\n",
       "<table border=\"1\" class=\"dataframe\">\n",
       "  <thead>\n",
       "    <tr style=\"text-align: right;\">\n",
       "      <th></th>\n",
       "      <th>2018</th>\n",
       "      <th>2019</th>\n",
       "      <th>2020</th>\n",
       "      <th>2021</th>\n",
       "      <th>2022</th>\n",
       "      <th>2023</th>\n",
       "    </tr>\n",
       "    <tr>\n",
       "      <th>인구종류별(1)</th>\n",
       "      <th></th>\n",
       "      <th></th>\n",
       "      <th></th>\n",
       "      <th></th>\n",
       "      <th></th>\n",
       "      <th></th>\n",
       "    </tr>\n",
       "  </thead>\n",
       "  <tbody>\n",
       "    <tr>\n",
       "      <th>계(6~21세)</th>\n",
       "      <td>402</td>\n",
       "      <td>389</td>\n",
       "      <td>375</td>\n",
       "      <td>364</td>\n",
       "      <td>351</td>\n",
       "      <td>340</td>\n",
       "    </tr>\n",
       "    <tr>\n",
       "      <th>초등학교(6~11세)</th>\n",
       "      <td>127</td>\n",
       "      <td>127</td>\n",
       "      <td>124</td>\n",
       "      <td>123</td>\n",
       "      <td>123</td>\n",
       "      <td>120</td>\n",
       "    </tr>\n",
       "    <tr>\n",
       "      <th>중학교(12~14세)</th>\n",
       "      <td>65</td>\n",
       "      <td>63</td>\n",
       "      <td>64</td>\n",
       "      <td>64</td>\n",
       "      <td>62</td>\n",
       "      <td>62</td>\n",
       "    </tr>\n",
       "    <tr>\n",
       "      <th>고등학교(15~17세)</th>\n",
       "      <td>79</td>\n",
       "      <td>72</td>\n",
       "      <td>68</td>\n",
       "      <td>64</td>\n",
       "      <td>62</td>\n",
       "      <td>63</td>\n",
       "    </tr>\n",
       "    <tr>\n",
       "      <th>대학교(18~21세)</th>\n",
       "      <td>130</td>\n",
       "      <td>127</td>\n",
       "      <td>120</td>\n",
       "      <td>113</td>\n",
       "      <td>103</td>\n",
       "      <td>95</td>\n",
       "    </tr>\n",
       "    <tr>\n",
       "      <th>청소년(9~24세)</th>\n",
       "      <td>444</td>\n",
       "      <td>429</td>\n",
       "      <td>416</td>\n",
       "      <td>402</td>\n",
       "      <td>385</td>\n",
       "      <td>373</td>\n",
       "    </tr>\n",
       "  </tbody>\n",
       "</table>\n",
       "</div>"
      ],
      "text/plain": [
       "              2018  2019  2020  2021  2022  2023\n",
       "인구종류별(1)                                        \n",
       "계(6~21세)       402   389   375   364   351   340\n",
       "초등학교(6~11세)    127   127   124   123   123   120\n",
       "중학교(12~14세)     65    63    64    64    62    62\n",
       "고등학교(15~17세)    79    72    68    64    62    63\n",
       "대학교(18~21세)    130   127   120   113   103    95\n",
       "청소년(9~24세)     444   429   416   402   385   373"
      ]
     },
     "execution_count": 11,
     "metadata": {},
     "output_type": "execute_result"
    }
   ],
   "source": [
    "dataDF3"
   ]
  },
  {
   "cell_type": "code",
   "execution_count": 12,
   "metadata": {},
   "outputs": [
    {
     "data": {
      "text/plain": [
       "Index(['지역구분', ' 항목구분', ' 자료구분', ' 2018년', ' 2019년', ' 2020년', ' 2021년',\n",
       "       ' 2022년'],\n",
       "      dtype='object')"
      ]
     },
     "execution_count": 12,
     "metadata": {},
     "output_type": "execute_result"
    }
   ],
   "source": [
    "dataDF2.columns"
   ]
  },
  {
   "cell_type": "code",
   "execution_count": 13,
   "metadata": {},
   "outputs": [],
   "source": [
    "dataDF2.drop(columns=['지역구분',' 항목구분'],inplace=True)"
   ]
  },
  {
   "cell_type": "code",
   "execution_count": 14,
   "metadata": {},
   "outputs": [],
   "source": [
    "\n",
    "dataDF2=dataDF2.rename(columns={' 2018년':'2018' , ' 2019년':'2019', ' 2020년':'2020', ' 2021년':'2021', ' 2022년':'2022'})\n"
   ]
  },
  {
   "cell_type": "code",
   "execution_count": 15,
   "metadata": {},
   "outputs": [],
   "source": [
    "dataDF2.set_index(' 자료구분',inplace=True)"
   ]
  },
  {
   "cell_type": "code",
   "execution_count": 16,
   "metadata": {},
   "outputs": [
    {
     "data": {
      "text/html": [
       "<div>\n",
       "<style scoped>\n",
       "    .dataframe tbody tr th:only-of-type {\n",
       "        vertical-align: middle;\n",
       "    }\n",
       "\n",
       "    .dataframe tbody tr th {\n",
       "        vertical-align: top;\n",
       "    }\n",
       "\n",
       "    .dataframe thead th {\n",
       "        text-align: right;\n",
       "    }\n",
       "</style>\n",
       "<table border=\"1\" class=\"dataframe\">\n",
       "  <thead>\n",
       "    <tr style=\"text-align: right;\">\n",
       "      <th></th>\n",
       "      <th>2018</th>\n",
       "      <th>2019</th>\n",
       "      <th>2020</th>\n",
       "      <th>2021</th>\n",
       "      <th>2022</th>\n",
       "    </tr>\n",
       "    <tr>\n",
       "      <th>자료구분</th>\n",
       "      <th></th>\n",
       "      <th></th>\n",
       "      <th></th>\n",
       "      <th></th>\n",
       "      <th></th>\n",
       "    </tr>\n",
       "  </thead>\n",
       "  <tbody>\n",
       "    <tr>\n",
       "      <th>합계</th>\n",
       "      <td>826</td>\n",
       "      <td>812</td>\n",
       "      <td>803</td>\n",
       "      <td>804</td>\n",
       "      <td>793</td>\n",
       "    </tr>\n",
       "    <tr>\n",
       "      <th>공립</th>\n",
       "      <td>469</td>\n",
       "      <td>475</td>\n",
       "      <td>477</td>\n",
       "      <td>484</td>\n",
       "      <td>487</td>\n",
       "    </tr>\n",
       "    <tr>\n",
       "      <th>사립</th>\n",
       "      <td>357</td>\n",
       "      <td>337</td>\n",
       "      <td>326</td>\n",
       "      <td>320</td>\n",
       "      <td>306</td>\n",
       "    </tr>\n",
       "    <tr>\n",
       "      <th>유치원 소계</th>\n",
       "      <td>369</td>\n",
       "      <td>355</td>\n",
       "      <td>346</td>\n",
       "      <td>342</td>\n",
       "      <td>329</td>\n",
       "    </tr>\n",
       "    <tr>\n",
       "      <th>공립유치원</th>\n",
       "      <td>105</td>\n",
       "      <td>111</td>\n",
       "      <td>113</td>\n",
       "      <td>115</td>\n",
       "      <td>116</td>\n",
       "    </tr>\n",
       "    <tr>\n",
       "      <th>사립유치원</th>\n",
       "      <td>264</td>\n",
       "      <td>244</td>\n",
       "      <td>233</td>\n",
       "      <td>227</td>\n",
       "      <td>213</td>\n",
       "    </tr>\n",
       "    <tr>\n",
       "      <th>초등학교 소계</th>\n",
       "      <td>227</td>\n",
       "      <td>227</td>\n",
       "      <td>228</td>\n",
       "      <td>230</td>\n",
       "      <td>231</td>\n",
       "    </tr>\n",
       "    <tr>\n",
       "      <th>공립초등학교</th>\n",
       "      <td>223</td>\n",
       "      <td>223</td>\n",
       "      <td>224</td>\n",
       "      <td>226</td>\n",
       "      <td>227</td>\n",
       "    </tr>\n",
       "    <tr>\n",
       "      <th>사립초등학교</th>\n",
       "      <td>4</td>\n",
       "      <td>4</td>\n",
       "      <td>4</td>\n",
       "      <td>4</td>\n",
       "      <td>4</td>\n",
       "    </tr>\n",
       "    <tr>\n",
       "      <th>중학교 소계</th>\n",
       "      <td>124</td>\n",
       "      <td>124</td>\n",
       "      <td>123</td>\n",
       "      <td>124</td>\n",
       "      <td>124</td>\n",
       "    </tr>\n",
       "    <tr>\n",
       "      <th>공립중학교</th>\n",
       "      <td>90</td>\n",
       "      <td>90</td>\n",
       "      <td>89</td>\n",
       "      <td>90</td>\n",
       "      <td>90</td>\n",
       "    </tr>\n",
       "    <tr>\n",
       "      <th>사립중학교</th>\n",
       "      <td>34</td>\n",
       "      <td>34</td>\n",
       "      <td>34</td>\n",
       "      <td>34</td>\n",
       "      <td>34</td>\n",
       "    </tr>\n",
       "    <tr>\n",
       "      <th>고등학교 소계</th>\n",
       "      <td>92</td>\n",
       "      <td>92</td>\n",
       "      <td>92</td>\n",
       "      <td>93</td>\n",
       "      <td>93</td>\n",
       "    </tr>\n",
       "    <tr>\n",
       "      <th>공립고등학교</th>\n",
       "      <td>43</td>\n",
       "      <td>43</td>\n",
       "      <td>43</td>\n",
       "      <td>44</td>\n",
       "      <td>44</td>\n",
       "    </tr>\n",
       "    <tr>\n",
       "      <th>사립고등학교</th>\n",
       "      <td>49</td>\n",
       "      <td>49</td>\n",
       "      <td>49</td>\n",
       "      <td>49</td>\n",
       "      <td>49</td>\n",
       "    </tr>\n",
       "    <tr>\n",
       "      <th>특수학교 소계</th>\n",
       "      <td>9</td>\n",
       "      <td>9</td>\n",
       "      <td>9</td>\n",
       "      <td>10</td>\n",
       "      <td>11</td>\n",
       "    </tr>\n",
       "    <tr>\n",
       "      <th>공립특수학교</th>\n",
       "      <td>3</td>\n",
       "      <td>3</td>\n",
       "      <td>3</td>\n",
       "      <td>4</td>\n",
       "      <td>5</td>\n",
       "    </tr>\n",
       "    <tr>\n",
       "      <th>사립특수학교</th>\n",
       "      <td>6</td>\n",
       "      <td>6</td>\n",
       "      <td>6</td>\n",
       "      <td>6</td>\n",
       "      <td>6</td>\n",
       "    </tr>\n",
       "    <tr>\n",
       "      <th>기타학교 소계</th>\n",
       "      <td>5</td>\n",
       "      <td>5</td>\n",
       "      <td>5</td>\n",
       "      <td>5</td>\n",
       "      <td>5</td>\n",
       "    </tr>\n",
       "    <tr>\n",
       "      <th>공립기타학교</th>\n",
       "      <td>5</td>\n",
       "      <td>5</td>\n",
       "      <td>5</td>\n",
       "      <td>5</td>\n",
       "      <td>5</td>\n",
       "    </tr>\n",
       "    <tr>\n",
       "      <th>사립기타학교</th>\n",
       "      <td>0</td>\n",
       "      <td>0</td>\n",
       "      <td>0</td>\n",
       "      <td>0</td>\n",
       "      <td>0</td>\n",
       "    </tr>\n",
       "  </tbody>\n",
       "</table>\n",
       "</div>"
      ],
      "text/plain": [
       "                2018  2019  2020  2021  2022\n",
       " 자료구분                                       \n",
       "합계               826   812   803   804   793\n",
       "        공립       469   475   477   484   487\n",
       "        사립       357   337   326   320   306\n",
       "유치원 소계           369   355   346   342   329\n",
       "        공립유치원    105   111   113   115   116\n",
       "        사립유치원    264   244   233   227   213\n",
       "초등학교 소계          227   227   228   230   231\n",
       "        공립초등학교   223   223   224   226   227\n",
       "        사립초등학교     4     4     4     4     4\n",
       "중학교 소계           124   124   123   124   124\n",
       "        공립중학교     90    90    89    90    90\n",
       "        사립중학교     34    34    34    34    34\n",
       "고등학교 소계           92    92    92    93    93\n",
       "        공립고등학교    43    43    43    44    44\n",
       "        사립고등학교    49    49    49    49    49\n",
       "특수학교 소계            9     9     9    10    11\n",
       "        공립특수학교     3     3     3     4     5\n",
       "        사립특수학교     6     6     6     6     6\n",
       "기타학교 소계            5     5     5     5     5\n",
       "        공립기타학교     5     5     5     5     5\n",
       "        사립기타학교     0     0     0     0     0"
      ]
     },
     "execution_count": 16,
     "metadata": {},
     "output_type": "execute_result"
    }
   ],
   "source": [
    "dataDF2"
   ]
  },
  {
   "cell_type": "code",
   "execution_count": 17,
   "metadata": {},
   "outputs": [],
   "source": [
    "df23=pd.concat([dataDF2,dataDF3],ignore_index=False)"
   ]
  },
  {
   "cell_type": "code",
   "execution_count": 18,
   "metadata": {},
   "outputs": [],
   "source": [
    "#df23.index"
   ]
  },
  {
   "cell_type": "code",
   "execution_count": 19,
   "metadata": {},
   "outputs": [],
   "source": [
    "df_new=df23.loc[[' 유치원 소계',' 초등학교 소계',' 중학교 소계',' 고등학교 소계','계(6~21세)','초등학교(6~11세)','중학교(12~14세)','고등학교(15~17세)','대학교(18~21세)']]\n",
    "#단위 천만명"
   ]
  },
  {
   "cell_type": "code",
   "execution_count": 20,
   "metadata": {},
   "outputs": [
    {
     "data": {
      "text/plain": [
       "2018    0\n",
       "2019    0\n",
       "2020    0\n",
       "2021    0\n",
       "2022    0\n",
       "2023    4\n",
       "dtype: int64"
      ]
     },
     "execution_count": 20,
     "metadata": {},
     "output_type": "execute_result"
    }
   ],
   "source": [
    "df_new.isna().sum()"
   ]
  },
  {
   "cell_type": "code",
   "execution_count": 21,
   "metadata": {},
   "outputs": [],
   "source": [
    "# 결측값 채우기\n",
    "\n",
    "decrease_avg=(df_new.loc[\" 유치원 소계\", \"2018\"] - df_new.loc[\" 유치원 소계\", \"2022\"]) / (2022 - 2018)\n",
    "df_new.loc[\" 유치원 소계\", \"2023\"] = df23.loc[\" 유치원 소계\", \"2022\"] - decrease_avg\n",
    "\n",
    "decrease_avg1=(df_new.loc[\" 초등학교 소계\", \"2018\"] - df_new.loc[\" 초등학교 소계\", \"2022\"]) / (2022 - 2018)\n",
    "df_new.loc[\" 초등학교 소계\", \"2023\"] = df_new.loc[\" 초등학교 소계\", \"2022\"] - decrease_avg1\n",
    "\n",
    "decrease_avg2=(df23.loc[\" 중학교 소계\", \"2018\"] - df_new.loc[\" 중학교 소계\", \"2022\"]) / (2022 - 2018)\n",
    "df_new.loc[\" 중학교 소계\", \"2023\"] = df_new.loc[\" 중학교 소계\", \"2022\"] - decrease_avg2\n",
    "\n",
    "decrease_avg3=(df23.loc[\" 고등학교 소계\", \"2018\"] - df_new.loc[\" 고등학교 소계\", \"2022\"]) / (2022 - 2018)\n",
    "df_new.loc[\" 고등학교 소계\", \"2023\"] = df_new.loc[\" 고등학교 소계\", \"2022\"] - decrease_avg3\n",
    "\n"
   ]
  },
  {
   "cell_type": "code",
   "execution_count": 22,
   "metadata": {},
   "outputs": [],
   "source": [
    "df_new['2023']=df_new['2023'].astype(int)  #2023을 정수형으로 변환해서 표현"
   ]
  },
  {
   "cell_type": "code",
   "execution_count": 23,
   "metadata": {},
   "outputs": [
    {
     "data": {
      "text/html": [
       "<div>\n",
       "<style scoped>\n",
       "    .dataframe tbody tr th:only-of-type {\n",
       "        vertical-align: middle;\n",
       "    }\n",
       "\n",
       "    .dataframe tbody tr th {\n",
       "        vertical-align: top;\n",
       "    }\n",
       "\n",
       "    .dataframe thead th {\n",
       "        text-align: right;\n",
       "    }\n",
       "</style>\n",
       "<table border=\"1\" class=\"dataframe\">\n",
       "  <thead>\n",
       "    <tr style=\"text-align: right;\">\n",
       "      <th></th>\n",
       "      <th>2018</th>\n",
       "      <th>2019</th>\n",
       "      <th>2020</th>\n",
       "      <th>2021</th>\n",
       "      <th>2022</th>\n",
       "      <th>2023</th>\n",
       "    </tr>\n",
       "  </thead>\n",
       "  <tbody>\n",
       "    <tr>\n",
       "      <th>유치원 소계</th>\n",
       "      <td>369</td>\n",
       "      <td>355</td>\n",
       "      <td>346</td>\n",
       "      <td>342</td>\n",
       "      <td>329</td>\n",
       "      <td>319</td>\n",
       "    </tr>\n",
       "    <tr>\n",
       "      <th>초등학교 소계</th>\n",
       "      <td>227</td>\n",
       "      <td>227</td>\n",
       "      <td>228</td>\n",
       "      <td>230</td>\n",
       "      <td>231</td>\n",
       "      <td>232</td>\n",
       "    </tr>\n",
       "    <tr>\n",
       "      <th>중학교 소계</th>\n",
       "      <td>124</td>\n",
       "      <td>124</td>\n",
       "      <td>123</td>\n",
       "      <td>124</td>\n",
       "      <td>124</td>\n",
       "      <td>124</td>\n",
       "    </tr>\n",
       "    <tr>\n",
       "      <th>고등학교 소계</th>\n",
       "      <td>92</td>\n",
       "      <td>92</td>\n",
       "      <td>92</td>\n",
       "      <td>93</td>\n",
       "      <td>93</td>\n",
       "      <td>93</td>\n",
       "    </tr>\n",
       "    <tr>\n",
       "      <th>계(6~21세)</th>\n",
       "      <td>402</td>\n",
       "      <td>389</td>\n",
       "      <td>375</td>\n",
       "      <td>364</td>\n",
       "      <td>351</td>\n",
       "      <td>340</td>\n",
       "    </tr>\n",
       "    <tr>\n",
       "      <th>초등학교(6~11세)</th>\n",
       "      <td>127</td>\n",
       "      <td>127</td>\n",
       "      <td>124</td>\n",
       "      <td>123</td>\n",
       "      <td>123</td>\n",
       "      <td>120</td>\n",
       "    </tr>\n",
       "    <tr>\n",
       "      <th>중학교(12~14세)</th>\n",
       "      <td>65</td>\n",
       "      <td>63</td>\n",
       "      <td>64</td>\n",
       "      <td>64</td>\n",
       "      <td>62</td>\n",
       "      <td>62</td>\n",
       "    </tr>\n",
       "    <tr>\n",
       "      <th>고등학교(15~17세)</th>\n",
       "      <td>79</td>\n",
       "      <td>72</td>\n",
       "      <td>68</td>\n",
       "      <td>64</td>\n",
       "      <td>62</td>\n",
       "      <td>63</td>\n",
       "    </tr>\n",
       "    <tr>\n",
       "      <th>대학교(18~21세)</th>\n",
       "      <td>130</td>\n",
       "      <td>127</td>\n",
       "      <td>120</td>\n",
       "      <td>113</td>\n",
       "      <td>103</td>\n",
       "      <td>95</td>\n",
       "    </tr>\n",
       "  </tbody>\n",
       "</table>\n",
       "</div>"
      ],
      "text/plain": [
       "              2018  2019  2020  2021  2022  2023\n",
       " 유치원 소계        369   355   346   342   329   319\n",
       " 초등학교 소계       227   227   228   230   231   232\n",
       " 중학교 소계        124   124   123   124   124   124\n",
       " 고등학교 소계        92    92    92    93    93    93\n",
       "계(6~21세)       402   389   375   364   351   340\n",
       "초등학교(6~11세)    127   127   124   123   123   120\n",
       "중학교(12~14세)     65    63    64    64    62    62\n",
       "고등학교(15~17세)    79    72    68    64    62    63\n",
       "대학교(18~21세)    130   127   120   113   103    95"
      ]
     },
     "execution_count": 23,
     "metadata": {},
     "output_type": "execute_result"
    }
   ],
   "source": [
    "df_new #인구단위 천만명"
   ]
  },
  {
   "cell_type": "code",
   "execution_count": 24,
   "metadata": {},
   "outputs": [],
   "source": [
    "#df_new.index"
   ]
  },
  {
   "cell_type": "code",
   "execution_count": 25,
   "metadata": {},
   "outputs": [
    {
     "data": {
      "text/html": [
       "<div>\n",
       "<style scoped>\n",
       "    .dataframe tbody tr th:only-of-type {\n",
       "        vertical-align: middle;\n",
       "    }\n",
       "\n",
       "    .dataframe tbody tr th {\n",
       "        vertical-align: top;\n",
       "    }\n",
       "\n",
       "    .dataframe thead th {\n",
       "        text-align: right;\n",
       "    }\n",
       "</style>\n",
       "<table border=\"1\" class=\"dataframe\">\n",
       "  <thead>\n",
       "    <tr style=\"text-align: right;\">\n",
       "      <th></th>\n",
       "      <th>2018</th>\n",
       "      <th>2019</th>\n",
       "      <th>2020</th>\n",
       "      <th>2021</th>\n",
       "      <th>2022</th>\n",
       "      <th>2023</th>\n",
       "    </tr>\n",
       "  </thead>\n",
       "  <tbody>\n",
       "    <tr>\n",
       "      <th>초등학교 소계</th>\n",
       "      <td>227</td>\n",
       "      <td>227</td>\n",
       "      <td>228</td>\n",
       "      <td>230</td>\n",
       "      <td>231</td>\n",
       "      <td>232</td>\n",
       "    </tr>\n",
       "    <tr>\n",
       "      <th>초등학교(6~11세)</th>\n",
       "      <td>127</td>\n",
       "      <td>127</td>\n",
       "      <td>124</td>\n",
       "      <td>123</td>\n",
       "      <td>123</td>\n",
       "      <td>120</td>\n",
       "    </tr>\n",
       "  </tbody>\n",
       "</table>\n",
       "</div>"
      ],
      "text/plain": [
       "             2018  2019  2020  2021  2022  2023\n",
       " 초등학교 소계      227   227   228   230   231   232\n",
       "초등학교(6~11세)   127   127   124   123   123   120"
      ]
     },
     "execution_count": 25,
     "metadata": {},
     "output_type": "execute_result"
    }
   ],
   "source": [
    "df_new.loc[[' 초등학교 소계','초등학교(6~11세)']]"
   ]
  },
  {
   "cell_type": "code",
   "execution_count": 26,
   "metadata": {},
   "outputs": [
    {
     "data": {
      "text/html": [
       "<div>\n",
       "<style scoped>\n",
       "    .dataframe tbody tr th:only-of-type {\n",
       "        vertical-align: middle;\n",
       "    }\n",
       "\n",
       "    .dataframe tbody tr th {\n",
       "        vertical-align: top;\n",
       "    }\n",
       "\n",
       "    .dataframe thead th {\n",
       "        text-align: right;\n",
       "    }\n",
       "</style>\n",
       "<table border=\"1\" class=\"dataframe\">\n",
       "  <thead>\n",
       "    <tr style=\"text-align: right;\">\n",
       "      <th></th>\n",
       "      <th>2018</th>\n",
       "      <th>2019</th>\n",
       "      <th>2020</th>\n",
       "      <th>2021</th>\n",
       "      <th>2022</th>\n",
       "      <th>2023</th>\n",
       "    </tr>\n",
       "  </thead>\n",
       "  <tbody>\n",
       "    <tr>\n",
       "      <th>중학교 소계</th>\n",
       "      <td>124</td>\n",
       "      <td>124</td>\n",
       "      <td>123</td>\n",
       "      <td>124</td>\n",
       "      <td>124</td>\n",
       "      <td>124</td>\n",
       "    </tr>\n",
       "    <tr>\n",
       "      <th>중학교(12~14세)</th>\n",
       "      <td>65</td>\n",
       "      <td>63</td>\n",
       "      <td>64</td>\n",
       "      <td>64</td>\n",
       "      <td>62</td>\n",
       "      <td>62</td>\n",
       "    </tr>\n",
       "  </tbody>\n",
       "</table>\n",
       "</div>"
      ],
      "text/plain": [
       "             2018  2019  2020  2021  2022  2023\n",
       " 중학교 소계       124   124   123   124   124   124\n",
       "중학교(12~14세)    65    63    64    64    62    62"
      ]
     },
     "execution_count": 26,
     "metadata": {},
     "output_type": "execute_result"
    }
   ],
   "source": [
    "df_new.loc[[' 중학교 소계','중학교(12~14세)']]"
   ]
  },
  {
   "cell_type": "code",
   "execution_count": 27,
   "metadata": {},
   "outputs": [
    {
     "data": {
      "text/html": [
       "<div>\n",
       "<style scoped>\n",
       "    .dataframe tbody tr th:only-of-type {\n",
       "        vertical-align: middle;\n",
       "    }\n",
       "\n",
       "    .dataframe tbody tr th {\n",
       "        vertical-align: top;\n",
       "    }\n",
       "\n",
       "    .dataframe thead th {\n",
       "        text-align: right;\n",
       "    }\n",
       "</style>\n",
       "<table border=\"1\" class=\"dataframe\">\n",
       "  <thead>\n",
       "    <tr style=\"text-align: right;\">\n",
       "      <th></th>\n",
       "      <th>2018</th>\n",
       "      <th>2019</th>\n",
       "      <th>2020</th>\n",
       "      <th>2021</th>\n",
       "      <th>2022</th>\n",
       "      <th>2023</th>\n",
       "    </tr>\n",
       "  </thead>\n",
       "  <tbody>\n",
       "    <tr>\n",
       "      <th>고등학교 소계</th>\n",
       "      <td>92</td>\n",
       "      <td>92</td>\n",
       "      <td>92</td>\n",
       "      <td>93</td>\n",
       "      <td>93</td>\n",
       "      <td>93</td>\n",
       "    </tr>\n",
       "    <tr>\n",
       "      <th>고등학교(15~17세)</th>\n",
       "      <td>79</td>\n",
       "      <td>72</td>\n",
       "      <td>68</td>\n",
       "      <td>64</td>\n",
       "      <td>62</td>\n",
       "      <td>63</td>\n",
       "    </tr>\n",
       "  </tbody>\n",
       "</table>\n",
       "</div>"
      ],
      "text/plain": [
       "              2018  2019  2020  2021  2022  2023\n",
       " 고등학교 소계        92    92    92    93    93    93\n",
       "고등학교(15~17세)    79    72    68    64    62    63"
      ]
     },
     "execution_count": 27,
     "metadata": {},
     "output_type": "execute_result"
    }
   ],
   "source": [
    "df_new.loc[[' 고등학교 소계','고등학교(15~17세)']]"
   ]
  },
  {
   "cell_type": "markdown",
   "metadata": {},
   "source": [
    "학력인구급감으로 인한 폐교가 되는 학교가 늘고 있지만 제가 분석한 결과로는 실제 대구내의 큰 변화가 없고 오히려 초등학교의 경우 그 수가 증가하였습니다. \n",
    "실제로 폐교되는 협성중학교, 죽전중학교,경복중학교가 있었지만 신설되는 학교들로 팔공초,팔공중(동구 지묘동) ,연경초(북구 연경동),  대구국제고(북구 도남동), 대구공고 테크노폴리스 캠퍼스(달성군 유가읍), 대구예아람학교(달성군 옥포읍)등이 있음을 조사하였습니다."
   ]
  },
  {
   "cell_type": "code",
   "execution_count": 28,
   "metadata": {},
   "outputs": [],
   "source": [
    "#초등학생 감소율\n",
    "des_e=100*(df_new.loc['초등학교(6~11세)','2018']-df_new.loc['초등학교(6~11세)','2023'])/df_new.loc['초등학교(6~11세)','2023']\n",
    "#중학생\n",
    "des_m=100*(df_new.loc['중학교(12~14세)','2018']-df_new.loc['중학교(12~14세)','2023'])/df_new.loc['중학교(12~14세)','2023']\n",
    "#고등학생\n",
    "des_h=100*(df_new.loc['고등학교(15~17세)','2018']-df_new.loc['고등학교(15~17세)','2023'])/df_new.loc['고등학교(15~17세)','2023']"
   ]
  },
  {
   "cell_type": "code",
   "execution_count": 29,
   "metadata": {},
   "outputs": [],
   "source": [
    "df_new=df_new.loc[['초등학교(6~11세)','중학교(12~14세)','고등학교(15~17세)']]"
   ]
  },
  {
   "cell_type": "code",
   "execution_count": 30,
   "metadata": {},
   "outputs": [],
   "source": [
    "df_new['감소율']=[des_e,des_m,des_h]"
   ]
  },
  {
   "cell_type": "code",
   "execution_count": 31,
   "metadata": {},
   "outputs": [
    {
     "data": {
      "text/html": [
       "<div>\n",
       "<style scoped>\n",
       "    .dataframe tbody tr th:only-of-type {\n",
       "        vertical-align: middle;\n",
       "    }\n",
       "\n",
       "    .dataframe tbody tr th {\n",
       "        vertical-align: top;\n",
       "    }\n",
       "\n",
       "    .dataframe thead th {\n",
       "        text-align: right;\n",
       "    }\n",
       "</style>\n",
       "<table border=\"1\" class=\"dataframe\">\n",
       "  <thead>\n",
       "    <tr style=\"text-align: right;\">\n",
       "      <th></th>\n",
       "      <th>2018</th>\n",
       "      <th>2019</th>\n",
       "      <th>2020</th>\n",
       "      <th>2021</th>\n",
       "      <th>2022</th>\n",
       "      <th>2023</th>\n",
       "      <th>감소율</th>\n",
       "    </tr>\n",
       "  </thead>\n",
       "  <tbody>\n",
       "    <tr>\n",
       "      <th>초등학교(6~11세)</th>\n",
       "      <td>127</td>\n",
       "      <td>127</td>\n",
       "      <td>124</td>\n",
       "      <td>123</td>\n",
       "      <td>123</td>\n",
       "      <td>120</td>\n",
       "      <td>5.833333</td>\n",
       "    </tr>\n",
       "    <tr>\n",
       "      <th>중학교(12~14세)</th>\n",
       "      <td>65</td>\n",
       "      <td>63</td>\n",
       "      <td>64</td>\n",
       "      <td>64</td>\n",
       "      <td>62</td>\n",
       "      <td>62</td>\n",
       "      <td>4.838710</td>\n",
       "    </tr>\n",
       "    <tr>\n",
       "      <th>고등학교(15~17세)</th>\n",
       "      <td>79</td>\n",
       "      <td>72</td>\n",
       "      <td>68</td>\n",
       "      <td>64</td>\n",
       "      <td>62</td>\n",
       "      <td>63</td>\n",
       "      <td>25.396825</td>\n",
       "    </tr>\n",
       "  </tbody>\n",
       "</table>\n",
       "</div>"
      ],
      "text/plain": [
       "              2018  2019  2020  2021  2022  2023        감소율\n",
       "초등학교(6~11세)    127   127   124   123   123   120   5.833333\n",
       "중학교(12~14세)     65    63    64    64    62    62   4.838710\n",
       "고등학교(15~17세)    79    72    68    64    62    63  25.396825"
      ]
     },
     "execution_count": 31,
     "metadata": {},
     "output_type": "execute_result"
    }
   ],
   "source": [
    "df_new"
   ]
  },
  {
   "cell_type": "code",
   "execution_count": 32,
   "metadata": {},
   "outputs": [],
   "source": [
    "dataDF4=pd.read_csv(file_name4)"
   ]
  },
  {
   "cell_type": "code",
   "execution_count": 33,
   "metadata": {},
   "outputs": [
    {
     "data": {
      "text/plain": [
       "Index(['전출지별', '전입지별', '성별', '연령별', '2018', '2019', '2020', '2021', '2022',\n",
       "       '2023'],\n",
       "      dtype='object')"
      ]
     },
     "execution_count": 33,
     "metadata": {},
     "output_type": "execute_result"
    }
   ],
   "source": [
    "dataDF4.columns"
   ]
  },
  {
   "cell_type": "code",
   "execution_count": 34,
   "metadata": {},
   "outputs": [],
   "source": [
    "dataDF4.drop(index=0,columns=['전출지별','전입지별', '성별'],inplace=True) "
   ]
  },
  {
   "cell_type": "code",
   "execution_count": 35,
   "metadata": {},
   "outputs": [],
   "source": [
    "dataDF4.set_index('연령별',inplace=True)"
   ]
  },
  {
   "cell_type": "markdown",
   "metadata": {},
   "source": [
    "순이동 -이면 전입은 없고 전출만있다는 의미입니다."
   ]
  },
  {
   "cell_type": "code",
   "execution_count": 36,
   "metadata": {},
   "outputs": [
    {
     "data": {
      "text/html": [
       "<div>\n",
       "<style scoped>\n",
       "    .dataframe tbody tr th:only-of-type {\n",
       "        vertical-align: middle;\n",
       "    }\n",
       "\n",
       "    .dataframe tbody tr th {\n",
       "        vertical-align: top;\n",
       "    }\n",
       "\n",
       "    .dataframe thead th {\n",
       "        text-align: right;\n",
       "    }\n",
       "</style>\n",
       "<table border=\"1\" class=\"dataframe\">\n",
       "  <thead>\n",
       "    <tr style=\"text-align: right;\">\n",
       "      <th></th>\n",
       "      <th>2018</th>\n",
       "      <th>2019</th>\n",
       "      <th>2020</th>\n",
       "      <th>2021</th>\n",
       "      <th>2022</th>\n",
       "      <th>2023</th>\n",
       "    </tr>\n",
       "    <tr>\n",
       "      <th>연령별</th>\n",
       "      <th></th>\n",
       "      <th></th>\n",
       "      <th></th>\n",
       "      <th></th>\n",
       "      <th></th>\n",
       "      <th></th>\n",
       "    </tr>\n",
       "  </thead>\n",
       "  <tbody>\n",
       "    <tr>\n",
       "      <th>0 - 4세</th>\n",
       "      <td>-537</td>\n",
       "      <td>-215</td>\n",
       "      <td>-168</td>\n",
       "      <td>-232</td>\n",
       "      <td>-893</td>\n",
       "      <td>-1340</td>\n",
       "    </tr>\n",
       "    <tr>\n",
       "      <th>5 - 9세</th>\n",
       "      <td>-33</td>\n",
       "      <td>147</td>\n",
       "      <td>182</td>\n",
       "      <td>-50</td>\n",
       "      <td>-683</td>\n",
       "      <td>-1049</td>\n",
       "    </tr>\n",
       "    <tr>\n",
       "      <th>10 - 14세</th>\n",
       "      <td>210</td>\n",
       "      <td>284</td>\n",
       "      <td>358</td>\n",
       "      <td>253</td>\n",
       "      <td>-224</td>\n",
       "      <td>-400</td>\n",
       "    </tr>\n",
       "    <tr>\n",
       "      <th>15 - 19세</th>\n",
       "      <td>1314</td>\n",
       "      <td>1587</td>\n",
       "      <td>996</td>\n",
       "      <td>1308</td>\n",
       "      <td>-67</td>\n",
       "      <td>448</td>\n",
       "    </tr>\n",
       "  </tbody>\n",
       "</table>\n",
       "</div>"
      ],
      "text/plain": [
       "          2018  2019  2020  2021  2022   2023\n",
       "연령별                                          \n",
       "0 - 4세    -537  -215  -168  -232  -893  -1340\n",
       "5 - 9세     -33   147   182   -50  -683  -1049\n",
       "10 - 14세   210   284   358   253  -224   -400\n",
       "15 - 19세  1314  1587   996  1308   -67    448"
      ]
     },
     "execution_count": 36,
     "metadata": {},
     "output_type": "execute_result"
    }
   ],
   "source": [
    "dataDF4.iloc[1:5] # 대구의 순인구이동 데이터"
   ]
  },
  {
   "cell_type": "markdown",
   "metadata": {},
   "source": [
    "\n",
    "시간이 지날수록 순이동데이터가 줄어드는 추세로 가고 있다.\n"
   ]
  },
  {
   "cell_type": "markdown",
   "metadata": {},
   "source": []
  },
  {
   "cell_type": "markdown",
   "metadata": {},
   "source": []
  }
 ],
 "metadata": {
  "kernelspec": {
   "display_name": "PY39",
   "language": "python",
   "name": "python3"
  },
  "language_info": {
   "codemirror_mode": {
    "name": "ipython",
    "version": 3
   },
   "file_extension": ".py",
   "mimetype": "text/x-python",
   "name": "python",
   "nbconvert_exporter": "python",
   "pygments_lexer": "ipython3",
   "version": "3.9.19"
  }
 },
 "nbformat": 4,
 "nbformat_minor": 2
}
